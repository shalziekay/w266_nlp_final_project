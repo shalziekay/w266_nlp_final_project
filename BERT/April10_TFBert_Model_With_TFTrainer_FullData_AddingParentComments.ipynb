{
  "nbformat": 4,
  "nbformat_minor": 0,
  "metadata": {
    "colab": {
      "name": "April10_TFBert_Model_With_TFTrainer_FullData_AddingParentComments.ipynb",
      "provenance": [],
      "collapsed_sections": [
        "dbBR1u3mUo3b",
        "hXSvVMP4UHZT",
        "SkclEEwBU3A1",
        "98XHjYDWZwoE",
        "NDh6QHeoEyNl",
        "uaMqKQHYEmcP",
        "cqvt6xnTcYk2",
        "PTBgyX2bR0YR",
        "J0Pz5WyvlGAE",
        "ISzou84aq3_I",
        "Fpmgb66t2fwe",
        "TH1tfLEC7-CC"
      ],
      "toc_visible": true
    },
    "kernelspec": {
      "name": "python3",
      "display_name": "Python 3"
    },
    "widgets": {
      "application/vnd.jupyter.widget-state+json": {
        "c1db7c49437449e785ad8a6e31d611f7": {
          "model_module": "@jupyter-widgets/controls",
          "model_name": "HBoxModel",
          "state": {
            "_view_name": "HBoxView",
            "_dom_classes": [],
            "_model_name": "HBoxModel",
            "_view_module": "@jupyter-widgets/controls",
            "_model_module_version": "1.5.0",
            "_view_count": null,
            "_view_module_version": "1.5.0",
            "box_style": "",
            "layout": "IPY_MODEL_a770fb1aa6ae4b58ab43ae4a038471a5",
            "_model_module": "@jupyter-widgets/controls",
            "children": [
              "IPY_MODEL_20eb6b6855074c7dbe096c1ee221f2de",
              "IPY_MODEL_591f893f82ef4abfa305f5c78cdb9d8d"
            ]
          }
        },
        "a770fb1aa6ae4b58ab43ae4a038471a5": {
          "model_module": "@jupyter-widgets/base",
          "model_name": "LayoutModel",
          "state": {
            "_view_name": "LayoutView",
            "grid_template_rows": null,
            "right": null,
            "justify_content": null,
            "_view_module": "@jupyter-widgets/base",
            "overflow": null,
            "_model_module_version": "1.2.0",
            "_view_count": null,
            "flex_flow": null,
            "width": null,
            "min_width": null,
            "border": null,
            "align_items": null,
            "bottom": null,
            "_model_module": "@jupyter-widgets/base",
            "top": null,
            "grid_column": null,
            "overflow_y": null,
            "overflow_x": null,
            "grid_auto_flow": null,
            "grid_area": null,
            "grid_template_columns": null,
            "flex": null,
            "_model_name": "LayoutModel",
            "justify_items": null,
            "grid_row": null,
            "max_height": null,
            "align_content": null,
            "visibility": null,
            "align_self": null,
            "height": null,
            "min_height": null,
            "padding": null,
            "grid_auto_rows": null,
            "grid_gap": null,
            "max_width": null,
            "order": null,
            "_view_module_version": "1.2.0",
            "grid_template_areas": null,
            "object_position": null,
            "object_fit": null,
            "grid_auto_columns": null,
            "margin": null,
            "display": null,
            "left": null
          }
        },
        "20eb6b6855074c7dbe096c1ee221f2de": {
          "model_module": "@jupyter-widgets/controls",
          "model_name": "FloatProgressModel",
          "state": {
            "_view_name": "ProgressView",
            "style": "IPY_MODEL_6affcaad8cb44e9baf36b700c0fe9700",
            "_dom_classes": [],
            "description": "Downloading: 100%",
            "_model_name": "FloatProgressModel",
            "bar_style": "success",
            "max": 213450,
            "_view_module": "@jupyter-widgets/controls",
            "_model_module_version": "1.5.0",
            "value": 213450,
            "_view_count": null,
            "_view_module_version": "1.5.0",
            "orientation": "horizontal",
            "min": 0,
            "description_tooltip": null,
            "_model_module": "@jupyter-widgets/controls",
            "layout": "IPY_MODEL_bb77ae3684b44988b8ad93a9b5ee64f7"
          }
        },
        "591f893f82ef4abfa305f5c78cdb9d8d": {
          "model_module": "@jupyter-widgets/controls",
          "model_name": "HTMLModel",
          "state": {
            "_view_name": "HTMLView",
            "style": "IPY_MODEL_89e82ed596ec4c8fa5b75bf35a490d82",
            "_dom_classes": [],
            "description": "",
            "_model_name": "HTMLModel",
            "placeholder": "​",
            "_view_module": "@jupyter-widgets/controls",
            "_model_module_version": "1.5.0",
            "value": " 213k/213k [00:05&lt;00:00, 38.6kB/s]",
            "_view_count": null,
            "_view_module_version": "1.5.0",
            "description_tooltip": null,
            "_model_module": "@jupyter-widgets/controls",
            "layout": "IPY_MODEL_8add531420d14331a3183085d26e2813"
          }
        },
        "6affcaad8cb44e9baf36b700c0fe9700": {
          "model_module": "@jupyter-widgets/controls",
          "model_name": "ProgressStyleModel",
          "state": {
            "_view_name": "StyleView",
            "_model_name": "ProgressStyleModel",
            "description_width": "initial",
            "_view_module": "@jupyter-widgets/base",
            "_model_module_version": "1.5.0",
            "_view_count": null,
            "_view_module_version": "1.2.0",
            "bar_color": null,
            "_model_module": "@jupyter-widgets/controls"
          }
        },
        "bb77ae3684b44988b8ad93a9b5ee64f7": {
          "model_module": "@jupyter-widgets/base",
          "model_name": "LayoutModel",
          "state": {
            "_view_name": "LayoutView",
            "grid_template_rows": null,
            "right": null,
            "justify_content": null,
            "_view_module": "@jupyter-widgets/base",
            "overflow": null,
            "_model_module_version": "1.2.0",
            "_view_count": null,
            "flex_flow": null,
            "width": null,
            "min_width": null,
            "border": null,
            "align_items": null,
            "bottom": null,
            "_model_module": "@jupyter-widgets/base",
            "top": null,
            "grid_column": null,
            "overflow_y": null,
            "overflow_x": null,
            "grid_auto_flow": null,
            "grid_area": null,
            "grid_template_columns": null,
            "flex": null,
            "_model_name": "LayoutModel",
            "justify_items": null,
            "grid_row": null,
            "max_height": null,
            "align_content": null,
            "visibility": null,
            "align_self": null,
            "height": null,
            "min_height": null,
            "padding": null,
            "grid_auto_rows": null,
            "grid_gap": null,
            "max_width": null,
            "order": null,
            "_view_module_version": "1.2.0",
            "grid_template_areas": null,
            "object_position": null,
            "object_fit": null,
            "grid_auto_columns": null,
            "margin": null,
            "display": null,
            "left": null
          }
        },
        "89e82ed596ec4c8fa5b75bf35a490d82": {
          "model_module": "@jupyter-widgets/controls",
          "model_name": "DescriptionStyleModel",
          "state": {
            "_view_name": "StyleView",
            "_model_name": "DescriptionStyleModel",
            "description_width": "",
            "_view_module": "@jupyter-widgets/base",
            "_model_module_version": "1.5.0",
            "_view_count": null,
            "_view_module_version": "1.2.0",
            "_model_module": "@jupyter-widgets/controls"
          }
        },
        "8add531420d14331a3183085d26e2813": {
          "model_module": "@jupyter-widgets/base",
          "model_name": "LayoutModel",
          "state": {
            "_view_name": "LayoutView",
            "grid_template_rows": null,
            "right": null,
            "justify_content": null,
            "_view_module": "@jupyter-widgets/base",
            "overflow": null,
            "_model_module_version": "1.2.0",
            "_view_count": null,
            "flex_flow": null,
            "width": null,
            "min_width": null,
            "border": null,
            "align_items": null,
            "bottom": null,
            "_model_module": "@jupyter-widgets/base",
            "top": null,
            "grid_column": null,
            "overflow_y": null,
            "overflow_x": null,
            "grid_auto_flow": null,
            "grid_area": null,
            "grid_template_columns": null,
            "flex": null,
            "_model_name": "LayoutModel",
            "justify_items": null,
            "grid_row": null,
            "max_height": null,
            "align_content": null,
            "visibility": null,
            "align_self": null,
            "height": null,
            "min_height": null,
            "padding": null,
            "grid_auto_rows": null,
            "grid_gap": null,
            "max_width": null,
            "order": null,
            "_view_module_version": "1.2.0",
            "grid_template_areas": null,
            "object_position": null,
            "object_fit": null,
            "grid_auto_columns": null,
            "margin": null,
            "display": null,
            "left": null
          }
        },
        "5c78323514d341718d6967cd39306b08": {
          "model_module": "@jupyter-widgets/controls",
          "model_name": "HBoxModel",
          "state": {
            "_view_name": "HBoxView",
            "_dom_classes": [],
            "_model_name": "HBoxModel",
            "_view_module": "@jupyter-widgets/controls",
            "_model_module_version": "1.5.0",
            "_view_count": null,
            "_view_module_version": "1.5.0",
            "box_style": "",
            "layout": "IPY_MODEL_4a06ca7b8acf49b794a1cd1bad8ec67e",
            "_model_module": "@jupyter-widgets/controls",
            "children": [
              "IPY_MODEL_42101f0aa3964f4b8b247909930d9b99",
              "IPY_MODEL_533fe64da67b4963bc837510a2e050fe"
            ]
          }
        },
        "4a06ca7b8acf49b794a1cd1bad8ec67e": {
          "model_module": "@jupyter-widgets/base",
          "model_name": "LayoutModel",
          "state": {
            "_view_name": "LayoutView",
            "grid_template_rows": null,
            "right": null,
            "justify_content": null,
            "_view_module": "@jupyter-widgets/base",
            "overflow": null,
            "_model_module_version": "1.2.0",
            "_view_count": null,
            "flex_flow": null,
            "width": null,
            "min_width": null,
            "border": null,
            "align_items": null,
            "bottom": null,
            "_model_module": "@jupyter-widgets/base",
            "top": null,
            "grid_column": null,
            "overflow_y": null,
            "overflow_x": null,
            "grid_auto_flow": null,
            "grid_area": null,
            "grid_template_columns": null,
            "flex": null,
            "_model_name": "LayoutModel",
            "justify_items": null,
            "grid_row": null,
            "max_height": null,
            "align_content": null,
            "visibility": null,
            "align_self": null,
            "height": null,
            "min_height": null,
            "padding": null,
            "grid_auto_rows": null,
            "grid_gap": null,
            "max_width": null,
            "order": null,
            "_view_module_version": "1.2.0",
            "grid_template_areas": null,
            "object_position": null,
            "object_fit": null,
            "grid_auto_columns": null,
            "margin": null,
            "display": null,
            "left": null
          }
        },
        "42101f0aa3964f4b8b247909930d9b99": {
          "model_module": "@jupyter-widgets/controls",
          "model_name": "FloatProgressModel",
          "state": {
            "_view_name": "ProgressView",
            "style": "IPY_MODEL_1121419afd214889898b08a4081bc235",
            "_dom_classes": [],
            "description": "Downloading: 100%",
            "_model_name": "FloatProgressModel",
            "bar_style": "success",
            "max": 29,
            "_view_module": "@jupyter-widgets/controls",
            "_model_module_version": "1.5.0",
            "value": 29,
            "_view_count": null,
            "_view_module_version": "1.5.0",
            "orientation": "horizontal",
            "min": 0,
            "description_tooltip": null,
            "_model_module": "@jupyter-widgets/controls",
            "layout": "IPY_MODEL_b51644fad4a54bedacb820018768f912"
          }
        },
        "533fe64da67b4963bc837510a2e050fe": {
          "model_module": "@jupyter-widgets/controls",
          "model_name": "HTMLModel",
          "state": {
            "_view_name": "HTMLView",
            "style": "IPY_MODEL_947d8aff50364baf886d03a3291f34d0",
            "_dom_classes": [],
            "description": "",
            "_model_name": "HTMLModel",
            "placeholder": "​",
            "_view_module": "@jupyter-widgets/controls",
            "_model_module_version": "1.5.0",
            "value": " 29.0/29.0 [00:00&lt;00:00, 36.6B/s]",
            "_view_count": null,
            "_view_module_version": "1.5.0",
            "description_tooltip": null,
            "_model_module": "@jupyter-widgets/controls",
            "layout": "IPY_MODEL_8c505ecacaf64128b1b5b342d19f42ed"
          }
        },
        "1121419afd214889898b08a4081bc235": {
          "model_module": "@jupyter-widgets/controls",
          "model_name": "ProgressStyleModel",
          "state": {
            "_view_name": "StyleView",
            "_model_name": "ProgressStyleModel",
            "description_width": "initial",
            "_view_module": "@jupyter-widgets/base",
            "_model_module_version": "1.5.0",
            "_view_count": null,
            "_view_module_version": "1.2.0",
            "bar_color": null,
            "_model_module": "@jupyter-widgets/controls"
          }
        },
        "b51644fad4a54bedacb820018768f912": {
          "model_module": "@jupyter-widgets/base",
          "model_name": "LayoutModel",
          "state": {
            "_view_name": "LayoutView",
            "grid_template_rows": null,
            "right": null,
            "justify_content": null,
            "_view_module": "@jupyter-widgets/base",
            "overflow": null,
            "_model_module_version": "1.2.0",
            "_view_count": null,
            "flex_flow": null,
            "width": null,
            "min_width": null,
            "border": null,
            "align_items": null,
            "bottom": null,
            "_model_module": "@jupyter-widgets/base",
            "top": null,
            "grid_column": null,
            "overflow_y": null,
            "overflow_x": null,
            "grid_auto_flow": null,
            "grid_area": null,
            "grid_template_columns": null,
            "flex": null,
            "_model_name": "LayoutModel",
            "justify_items": null,
            "grid_row": null,
            "max_height": null,
            "align_content": null,
            "visibility": null,
            "align_self": null,
            "height": null,
            "min_height": null,
            "padding": null,
            "grid_auto_rows": null,
            "grid_gap": null,
            "max_width": null,
            "order": null,
            "_view_module_version": "1.2.0",
            "grid_template_areas": null,
            "object_position": null,
            "object_fit": null,
            "grid_auto_columns": null,
            "margin": null,
            "display": null,
            "left": null
          }
        },
        "947d8aff50364baf886d03a3291f34d0": {
          "model_module": "@jupyter-widgets/controls",
          "model_name": "DescriptionStyleModel",
          "state": {
            "_view_name": "StyleView",
            "_model_name": "DescriptionStyleModel",
            "description_width": "",
            "_view_module": "@jupyter-widgets/base",
            "_model_module_version": "1.5.0",
            "_view_count": null,
            "_view_module_version": "1.2.0",
            "_model_module": "@jupyter-widgets/controls"
          }
        },
        "8c505ecacaf64128b1b5b342d19f42ed": {
          "model_module": "@jupyter-widgets/base",
          "model_name": "LayoutModel",
          "state": {
            "_view_name": "LayoutView",
            "grid_template_rows": null,
            "right": null,
            "justify_content": null,
            "_view_module": "@jupyter-widgets/base",
            "overflow": null,
            "_model_module_version": "1.2.0",
            "_view_count": null,
            "flex_flow": null,
            "width": null,
            "min_width": null,
            "border": null,
            "align_items": null,
            "bottom": null,
            "_model_module": "@jupyter-widgets/base",
            "top": null,
            "grid_column": null,
            "overflow_y": null,
            "overflow_x": null,
            "grid_auto_flow": null,
            "grid_area": null,
            "grid_template_columns": null,
            "flex": null,
            "_model_name": "LayoutModel",
            "justify_items": null,
            "grid_row": null,
            "max_height": null,
            "align_content": null,
            "visibility": null,
            "align_self": null,
            "height": null,
            "min_height": null,
            "padding": null,
            "grid_auto_rows": null,
            "grid_gap": null,
            "max_width": null,
            "order": null,
            "_view_module_version": "1.2.0",
            "grid_template_areas": null,
            "object_position": null,
            "object_fit": null,
            "grid_auto_columns": null,
            "margin": null,
            "display": null,
            "left": null
          }
        },
        "b312931169ff4e4492da90062579e4ab": {
          "model_module": "@jupyter-widgets/controls",
          "model_name": "HBoxModel",
          "state": {
            "_view_name": "HBoxView",
            "_dom_classes": [],
            "_model_name": "HBoxModel",
            "_view_module": "@jupyter-widgets/controls",
            "_model_module_version": "1.5.0",
            "_view_count": null,
            "_view_module_version": "1.5.0",
            "box_style": "",
            "layout": "IPY_MODEL_a98cd385ca0441f69c776bfcfc092215",
            "_model_module": "@jupyter-widgets/controls",
            "children": [
              "IPY_MODEL_1ec24cb022d94e1b9d0d883d32ca6849",
              "IPY_MODEL_af21263cdd12498097d005f21dc0566b"
            ]
          }
        },
        "a98cd385ca0441f69c776bfcfc092215": {
          "model_module": "@jupyter-widgets/base",
          "model_name": "LayoutModel",
          "state": {
            "_view_name": "LayoutView",
            "grid_template_rows": null,
            "right": null,
            "justify_content": null,
            "_view_module": "@jupyter-widgets/base",
            "overflow": null,
            "_model_module_version": "1.2.0",
            "_view_count": null,
            "flex_flow": null,
            "width": null,
            "min_width": null,
            "border": null,
            "align_items": null,
            "bottom": null,
            "_model_module": "@jupyter-widgets/base",
            "top": null,
            "grid_column": null,
            "overflow_y": null,
            "overflow_x": null,
            "grid_auto_flow": null,
            "grid_area": null,
            "grid_template_columns": null,
            "flex": null,
            "_model_name": "LayoutModel",
            "justify_items": null,
            "grid_row": null,
            "max_height": null,
            "align_content": null,
            "visibility": null,
            "align_self": null,
            "height": null,
            "min_height": null,
            "padding": null,
            "grid_auto_rows": null,
            "grid_gap": null,
            "max_width": null,
            "order": null,
            "_view_module_version": "1.2.0",
            "grid_template_areas": null,
            "object_position": null,
            "object_fit": null,
            "grid_auto_columns": null,
            "margin": null,
            "display": null,
            "left": null
          }
        },
        "1ec24cb022d94e1b9d0d883d32ca6849": {
          "model_module": "@jupyter-widgets/controls",
          "model_name": "FloatProgressModel",
          "state": {
            "_view_name": "ProgressView",
            "style": "IPY_MODEL_24cdad583c5b44ee86ce31e6e6bc9633",
            "_dom_classes": [],
            "description": "Downloading: 100%",
            "_model_name": "FloatProgressModel",
            "bar_style": "success",
            "max": 435797,
            "_view_module": "@jupyter-widgets/controls",
            "_model_module_version": "1.5.0",
            "value": 435797,
            "_view_count": null,
            "_view_module_version": "1.5.0",
            "orientation": "horizontal",
            "min": 0,
            "description_tooltip": null,
            "_model_module": "@jupyter-widgets/controls",
            "layout": "IPY_MODEL_23586db1081047609f1419a11fea3ac6"
          }
        },
        "af21263cdd12498097d005f21dc0566b": {
          "model_module": "@jupyter-widgets/controls",
          "model_name": "HTMLModel",
          "state": {
            "_view_name": "HTMLView",
            "style": "IPY_MODEL_1f34bad7afa1407da331f99634910afe",
            "_dom_classes": [],
            "description": "",
            "_model_name": "HTMLModel",
            "placeholder": "​",
            "_view_module": "@jupyter-widgets/controls",
            "_model_module_version": "1.5.0",
            "value": " 436k/436k [00:00&lt;00:00, 1.34MB/s]",
            "_view_count": null,
            "_view_module_version": "1.5.0",
            "description_tooltip": null,
            "_model_module": "@jupyter-widgets/controls",
            "layout": "IPY_MODEL_5825559816294d0ebf225037f706c057"
          }
        },
        "24cdad583c5b44ee86ce31e6e6bc9633": {
          "model_module": "@jupyter-widgets/controls",
          "model_name": "ProgressStyleModel",
          "state": {
            "_view_name": "StyleView",
            "_model_name": "ProgressStyleModel",
            "description_width": "initial",
            "_view_module": "@jupyter-widgets/base",
            "_model_module_version": "1.5.0",
            "_view_count": null,
            "_view_module_version": "1.2.0",
            "bar_color": null,
            "_model_module": "@jupyter-widgets/controls"
          }
        },
        "23586db1081047609f1419a11fea3ac6": {
          "model_module": "@jupyter-widgets/base",
          "model_name": "LayoutModel",
          "state": {
            "_view_name": "LayoutView",
            "grid_template_rows": null,
            "right": null,
            "justify_content": null,
            "_view_module": "@jupyter-widgets/base",
            "overflow": null,
            "_model_module_version": "1.2.0",
            "_view_count": null,
            "flex_flow": null,
            "width": null,
            "min_width": null,
            "border": null,
            "align_items": null,
            "bottom": null,
            "_model_module": "@jupyter-widgets/base",
            "top": null,
            "grid_column": null,
            "overflow_y": null,
            "overflow_x": null,
            "grid_auto_flow": null,
            "grid_area": null,
            "grid_template_columns": null,
            "flex": null,
            "_model_name": "LayoutModel",
            "justify_items": null,
            "grid_row": null,
            "max_height": null,
            "align_content": null,
            "visibility": null,
            "align_self": null,
            "height": null,
            "min_height": null,
            "padding": null,
            "grid_auto_rows": null,
            "grid_gap": null,
            "max_width": null,
            "order": null,
            "_view_module_version": "1.2.0",
            "grid_template_areas": null,
            "object_position": null,
            "object_fit": null,
            "grid_auto_columns": null,
            "margin": null,
            "display": null,
            "left": null
          }
        },
        "1f34bad7afa1407da331f99634910afe": {
          "model_module": "@jupyter-widgets/controls",
          "model_name": "DescriptionStyleModel",
          "state": {
            "_view_name": "StyleView",
            "_model_name": "DescriptionStyleModel",
            "description_width": "",
            "_view_module": "@jupyter-widgets/base",
            "_model_module_version": "1.5.0",
            "_view_count": null,
            "_view_module_version": "1.2.0",
            "_model_module": "@jupyter-widgets/controls"
          }
        },
        "5825559816294d0ebf225037f706c057": {
          "model_module": "@jupyter-widgets/base",
          "model_name": "LayoutModel",
          "state": {
            "_view_name": "LayoutView",
            "grid_template_rows": null,
            "right": null,
            "justify_content": null,
            "_view_module": "@jupyter-widgets/base",
            "overflow": null,
            "_model_module_version": "1.2.0",
            "_view_count": null,
            "flex_flow": null,
            "width": null,
            "min_width": null,
            "border": null,
            "align_items": null,
            "bottom": null,
            "_model_module": "@jupyter-widgets/base",
            "top": null,
            "grid_column": null,
            "overflow_y": null,
            "overflow_x": null,
            "grid_auto_flow": null,
            "grid_area": null,
            "grid_template_columns": null,
            "flex": null,
            "_model_name": "LayoutModel",
            "justify_items": null,
            "grid_row": null,
            "max_height": null,
            "align_content": null,
            "visibility": null,
            "align_self": null,
            "height": null,
            "min_height": null,
            "padding": null,
            "grid_auto_rows": null,
            "grid_gap": null,
            "max_width": null,
            "order": null,
            "_view_module_version": "1.2.0",
            "grid_template_areas": null,
            "object_position": null,
            "object_fit": null,
            "grid_auto_columns": null,
            "margin": null,
            "display": null,
            "left": null
          }
        },
        "43f1ae38aac849f880046b172837a132": {
          "model_module": "@jupyter-widgets/controls",
          "model_name": "HBoxModel",
          "state": {
            "_view_name": "HBoxView",
            "_dom_classes": [],
            "_model_name": "HBoxModel",
            "_view_module": "@jupyter-widgets/controls",
            "_model_module_version": "1.5.0",
            "_view_count": null,
            "_view_module_version": "1.5.0",
            "box_style": "",
            "layout": "IPY_MODEL_874fb64beac04ba18afa3572faf59c2f",
            "_model_module": "@jupyter-widgets/controls",
            "children": [
              "IPY_MODEL_921f67cd46124fd79416a85b8037c011",
              "IPY_MODEL_b3531af339e54a8f9845547deea7ec41"
            ]
          }
        },
        "874fb64beac04ba18afa3572faf59c2f": {
          "model_module": "@jupyter-widgets/base",
          "model_name": "LayoutModel",
          "state": {
            "_view_name": "LayoutView",
            "grid_template_rows": null,
            "right": null,
            "justify_content": null,
            "_view_module": "@jupyter-widgets/base",
            "overflow": null,
            "_model_module_version": "1.2.0",
            "_view_count": null,
            "flex_flow": null,
            "width": null,
            "min_width": null,
            "border": null,
            "align_items": null,
            "bottom": null,
            "_model_module": "@jupyter-widgets/base",
            "top": null,
            "grid_column": null,
            "overflow_y": null,
            "overflow_x": null,
            "grid_auto_flow": null,
            "grid_area": null,
            "grid_template_columns": null,
            "flex": null,
            "_model_name": "LayoutModel",
            "justify_items": null,
            "grid_row": null,
            "max_height": null,
            "align_content": null,
            "visibility": null,
            "align_self": null,
            "height": null,
            "min_height": null,
            "padding": null,
            "grid_auto_rows": null,
            "grid_gap": null,
            "max_width": null,
            "order": null,
            "_view_module_version": "1.2.0",
            "grid_template_areas": null,
            "object_position": null,
            "object_fit": null,
            "grid_auto_columns": null,
            "margin": null,
            "display": null,
            "left": null
          }
        },
        "921f67cd46124fd79416a85b8037c011": {
          "model_module": "@jupyter-widgets/controls",
          "model_name": "FloatProgressModel",
          "state": {
            "_view_name": "ProgressView",
            "style": "IPY_MODEL_1b60cb991c8c4002a21928873168764e",
            "_dom_classes": [],
            "description": "Downloading: 100%",
            "_model_name": "FloatProgressModel",
            "bar_style": "success",
            "max": 433,
            "_view_module": "@jupyter-widgets/controls",
            "_model_module_version": "1.5.0",
            "value": 433,
            "_view_count": null,
            "_view_module_version": "1.5.0",
            "orientation": "horizontal",
            "min": 0,
            "description_tooltip": null,
            "_model_module": "@jupyter-widgets/controls",
            "layout": "IPY_MODEL_a76bba0e85604e7ebb45fc471469e607"
          }
        },
        "b3531af339e54a8f9845547deea7ec41": {
          "model_module": "@jupyter-widgets/controls",
          "model_name": "HTMLModel",
          "state": {
            "_view_name": "HTMLView",
            "style": "IPY_MODEL_d0d4a117c0a04cebacd2a3a1a193e36b",
            "_dom_classes": [],
            "description": "",
            "_model_name": "HTMLModel",
            "placeholder": "​",
            "_view_module": "@jupyter-widgets/controls",
            "_model_module_version": "1.5.0",
            "value": " 433/433 [00:05&lt;00:00, 83.9B/s]",
            "_view_count": null,
            "_view_module_version": "1.5.0",
            "description_tooltip": null,
            "_model_module": "@jupyter-widgets/controls",
            "layout": "IPY_MODEL_7ece63c8eac140f39e7f6c5ca8b87954"
          }
        },
        "1b60cb991c8c4002a21928873168764e": {
          "model_module": "@jupyter-widgets/controls",
          "model_name": "ProgressStyleModel",
          "state": {
            "_view_name": "StyleView",
            "_model_name": "ProgressStyleModel",
            "description_width": "initial",
            "_view_module": "@jupyter-widgets/base",
            "_model_module_version": "1.5.0",
            "_view_count": null,
            "_view_module_version": "1.2.0",
            "bar_color": null,
            "_model_module": "@jupyter-widgets/controls"
          }
        },
        "a76bba0e85604e7ebb45fc471469e607": {
          "model_module": "@jupyter-widgets/base",
          "model_name": "LayoutModel",
          "state": {
            "_view_name": "LayoutView",
            "grid_template_rows": null,
            "right": null,
            "justify_content": null,
            "_view_module": "@jupyter-widgets/base",
            "overflow": null,
            "_model_module_version": "1.2.0",
            "_view_count": null,
            "flex_flow": null,
            "width": null,
            "min_width": null,
            "border": null,
            "align_items": null,
            "bottom": null,
            "_model_module": "@jupyter-widgets/base",
            "top": null,
            "grid_column": null,
            "overflow_y": null,
            "overflow_x": null,
            "grid_auto_flow": null,
            "grid_area": null,
            "grid_template_columns": null,
            "flex": null,
            "_model_name": "LayoutModel",
            "justify_items": null,
            "grid_row": null,
            "max_height": null,
            "align_content": null,
            "visibility": null,
            "align_self": null,
            "height": null,
            "min_height": null,
            "padding": null,
            "grid_auto_rows": null,
            "grid_gap": null,
            "max_width": null,
            "order": null,
            "_view_module_version": "1.2.0",
            "grid_template_areas": null,
            "object_position": null,
            "object_fit": null,
            "grid_auto_columns": null,
            "margin": null,
            "display": null,
            "left": null
          }
        },
        "d0d4a117c0a04cebacd2a3a1a193e36b": {
          "model_module": "@jupyter-widgets/controls",
          "model_name": "DescriptionStyleModel",
          "state": {
            "_view_name": "StyleView",
            "_model_name": "DescriptionStyleModel",
            "description_width": "",
            "_view_module": "@jupyter-widgets/base",
            "_model_module_version": "1.5.0",
            "_view_count": null,
            "_view_module_version": "1.2.0",
            "_model_module": "@jupyter-widgets/controls"
          }
        },
        "7ece63c8eac140f39e7f6c5ca8b87954": {
          "model_module": "@jupyter-widgets/base",
          "model_name": "LayoutModel",
          "state": {
            "_view_name": "LayoutView",
            "grid_template_rows": null,
            "right": null,
            "justify_content": null,
            "_view_module": "@jupyter-widgets/base",
            "overflow": null,
            "_model_module_version": "1.2.0",
            "_view_count": null,
            "flex_flow": null,
            "width": null,
            "min_width": null,
            "border": null,
            "align_items": null,
            "bottom": null,
            "_model_module": "@jupyter-widgets/base",
            "top": null,
            "grid_column": null,
            "overflow_y": null,
            "overflow_x": null,
            "grid_auto_flow": null,
            "grid_area": null,
            "grid_template_columns": null,
            "flex": null,
            "_model_name": "LayoutModel",
            "justify_items": null,
            "grid_row": null,
            "max_height": null,
            "align_content": null,
            "visibility": null,
            "align_self": null,
            "height": null,
            "min_height": null,
            "padding": null,
            "grid_auto_rows": null,
            "grid_gap": null,
            "max_width": null,
            "order": null,
            "_view_module_version": "1.2.0",
            "grid_template_areas": null,
            "object_position": null,
            "object_fit": null,
            "grid_auto_columns": null,
            "margin": null,
            "display": null,
            "left": null
          }
        },
        "4527229846184b699bb47a68b94b4f03": {
          "model_module": "@jupyter-widgets/controls",
          "model_name": "HBoxModel",
          "state": {
            "_view_name": "HBoxView",
            "_dom_classes": [],
            "_model_name": "HBoxModel",
            "_view_module": "@jupyter-widgets/controls",
            "_model_module_version": "1.5.0",
            "_view_count": null,
            "_view_module_version": "1.5.0",
            "box_style": "",
            "layout": "IPY_MODEL_9921fd6011784e01b15d89876c5a62ac",
            "_model_module": "@jupyter-widgets/controls",
            "children": [
              "IPY_MODEL_27ed373f57ee485cab342b43fd6ab703",
              "IPY_MODEL_df345024457644a18df62bd28558627f"
            ]
          }
        },
        "9921fd6011784e01b15d89876c5a62ac": {
          "model_module": "@jupyter-widgets/base",
          "model_name": "LayoutModel",
          "state": {
            "_view_name": "LayoutView",
            "grid_template_rows": null,
            "right": null,
            "justify_content": null,
            "_view_module": "@jupyter-widgets/base",
            "overflow": null,
            "_model_module_version": "1.2.0",
            "_view_count": null,
            "flex_flow": null,
            "width": null,
            "min_width": null,
            "border": null,
            "align_items": null,
            "bottom": null,
            "_model_module": "@jupyter-widgets/base",
            "top": null,
            "grid_column": null,
            "overflow_y": null,
            "overflow_x": null,
            "grid_auto_flow": null,
            "grid_area": null,
            "grid_template_columns": null,
            "flex": null,
            "_model_name": "LayoutModel",
            "justify_items": null,
            "grid_row": null,
            "max_height": null,
            "align_content": null,
            "visibility": null,
            "align_self": null,
            "height": null,
            "min_height": null,
            "padding": null,
            "grid_auto_rows": null,
            "grid_gap": null,
            "max_width": null,
            "order": null,
            "_view_module_version": "1.2.0",
            "grid_template_areas": null,
            "object_position": null,
            "object_fit": null,
            "grid_auto_columns": null,
            "margin": null,
            "display": null,
            "left": null
          }
        },
        "27ed373f57ee485cab342b43fd6ab703": {
          "model_module": "@jupyter-widgets/controls",
          "model_name": "FloatProgressModel",
          "state": {
            "_view_name": "ProgressView",
            "style": "IPY_MODEL_866e25585896400e85593e549624f389",
            "_dom_classes": [],
            "description": "Downloading: 100%",
            "_model_name": "FloatProgressModel",
            "bar_style": "success",
            "max": 526681800,
            "_view_module": "@jupyter-widgets/controls",
            "_model_module_version": "1.5.0",
            "value": 526681800,
            "_view_count": null,
            "_view_module_version": "1.5.0",
            "orientation": "horizontal",
            "min": 0,
            "description_tooltip": null,
            "_model_module": "@jupyter-widgets/controls",
            "layout": "IPY_MODEL_d88254c7da954005ba8bde9b0cd53183"
          }
        },
        "df345024457644a18df62bd28558627f": {
          "model_module": "@jupyter-widgets/controls",
          "model_name": "HTMLModel",
          "state": {
            "_view_name": "HTMLView",
            "style": "IPY_MODEL_9aa61deacdd14d2b8733bd122cba7620",
            "_dom_classes": [],
            "description": "",
            "_model_name": "HTMLModel",
            "placeholder": "​",
            "_view_module": "@jupyter-widgets/controls",
            "_model_module_version": "1.5.0",
            "value": " 527M/527M [00:11&lt;00:00, 44.1MB/s]",
            "_view_count": null,
            "_view_module_version": "1.5.0",
            "description_tooltip": null,
            "_model_module": "@jupyter-widgets/controls",
            "layout": "IPY_MODEL_3ed5c3cd5e9c40ddbbe4ca53f2591532"
          }
        },
        "866e25585896400e85593e549624f389": {
          "model_module": "@jupyter-widgets/controls",
          "model_name": "ProgressStyleModel",
          "state": {
            "_view_name": "StyleView",
            "_model_name": "ProgressStyleModel",
            "description_width": "initial",
            "_view_module": "@jupyter-widgets/base",
            "_model_module_version": "1.5.0",
            "_view_count": null,
            "_view_module_version": "1.2.0",
            "bar_color": null,
            "_model_module": "@jupyter-widgets/controls"
          }
        },
        "d88254c7da954005ba8bde9b0cd53183": {
          "model_module": "@jupyter-widgets/base",
          "model_name": "LayoutModel",
          "state": {
            "_view_name": "LayoutView",
            "grid_template_rows": null,
            "right": null,
            "justify_content": null,
            "_view_module": "@jupyter-widgets/base",
            "overflow": null,
            "_model_module_version": "1.2.0",
            "_view_count": null,
            "flex_flow": null,
            "width": null,
            "min_width": null,
            "border": null,
            "align_items": null,
            "bottom": null,
            "_model_module": "@jupyter-widgets/base",
            "top": null,
            "grid_column": null,
            "overflow_y": null,
            "overflow_x": null,
            "grid_auto_flow": null,
            "grid_area": null,
            "grid_template_columns": null,
            "flex": null,
            "_model_name": "LayoutModel",
            "justify_items": null,
            "grid_row": null,
            "max_height": null,
            "align_content": null,
            "visibility": null,
            "align_self": null,
            "height": null,
            "min_height": null,
            "padding": null,
            "grid_auto_rows": null,
            "grid_gap": null,
            "max_width": null,
            "order": null,
            "_view_module_version": "1.2.0",
            "grid_template_areas": null,
            "object_position": null,
            "object_fit": null,
            "grid_auto_columns": null,
            "margin": null,
            "display": null,
            "left": null
          }
        },
        "9aa61deacdd14d2b8733bd122cba7620": {
          "model_module": "@jupyter-widgets/controls",
          "model_name": "DescriptionStyleModel",
          "state": {
            "_view_name": "StyleView",
            "_model_name": "DescriptionStyleModel",
            "description_width": "",
            "_view_module": "@jupyter-widgets/base",
            "_model_module_version": "1.5.0",
            "_view_count": null,
            "_view_module_version": "1.2.0",
            "_model_module": "@jupyter-widgets/controls"
          }
        },
        "3ed5c3cd5e9c40ddbbe4ca53f2591532": {
          "model_module": "@jupyter-widgets/base",
          "model_name": "LayoutModel",
          "state": {
            "_view_name": "LayoutView",
            "grid_template_rows": null,
            "right": null,
            "justify_content": null,
            "_view_module": "@jupyter-widgets/base",
            "overflow": null,
            "_model_module_version": "1.2.0",
            "_view_count": null,
            "flex_flow": null,
            "width": null,
            "min_width": null,
            "border": null,
            "align_items": null,
            "bottom": null,
            "_model_module": "@jupyter-widgets/base",
            "top": null,
            "grid_column": null,
            "overflow_y": null,
            "overflow_x": null,
            "grid_auto_flow": null,
            "grid_area": null,
            "grid_template_columns": null,
            "flex": null,
            "_model_name": "LayoutModel",
            "justify_items": null,
            "grid_row": null,
            "max_height": null,
            "align_content": null,
            "visibility": null,
            "align_self": null,
            "height": null,
            "min_height": null,
            "padding": null,
            "grid_auto_rows": null,
            "grid_gap": null,
            "max_width": null,
            "order": null,
            "_view_module_version": "1.2.0",
            "grid_template_areas": null,
            "object_position": null,
            "object_fit": null,
            "grid_auto_columns": null,
            "margin": null,
            "display": null,
            "left": null
          }
        },
        "f3a128175864483bbcd6d22be6a66b01": {
          "model_module": "@jupyter-widgets/controls",
          "model_name": "HBoxModel",
          "state": {
            "_view_name": "HBoxView",
            "_dom_classes": [],
            "_model_name": "HBoxModel",
            "_view_module": "@jupyter-widgets/controls",
            "_model_module_version": "1.5.0",
            "_view_count": null,
            "_view_module_version": "1.5.0",
            "box_style": "",
            "layout": "IPY_MODEL_1fed546cca8d43bdbb4c0012522fb446",
            "_model_module": "@jupyter-widgets/controls",
            "children": [
              "IPY_MODEL_3469a6d208ff419ba309cb4d0c7a346a",
              "IPY_MODEL_83dacc136eb64db6a3714fa7da89be96"
            ]
          }
        },
        "1fed546cca8d43bdbb4c0012522fb446": {
          "model_module": "@jupyter-widgets/base",
          "model_name": "LayoutModel",
          "state": {
            "_view_name": "LayoutView",
            "grid_template_rows": null,
            "right": null,
            "justify_content": null,
            "_view_module": "@jupyter-widgets/base",
            "overflow": null,
            "_model_module_version": "1.2.0",
            "_view_count": null,
            "flex_flow": null,
            "width": null,
            "min_width": null,
            "border": null,
            "align_items": null,
            "bottom": null,
            "_model_module": "@jupyter-widgets/base",
            "top": null,
            "grid_column": null,
            "overflow_y": null,
            "overflow_x": null,
            "grid_auto_flow": null,
            "grid_area": null,
            "grid_template_columns": null,
            "flex": null,
            "_model_name": "LayoutModel",
            "justify_items": null,
            "grid_row": null,
            "max_height": null,
            "align_content": null,
            "visibility": null,
            "align_self": null,
            "height": null,
            "min_height": null,
            "padding": null,
            "grid_auto_rows": null,
            "grid_gap": null,
            "max_width": null,
            "order": null,
            "_view_module_version": "1.2.0",
            "grid_template_areas": null,
            "object_position": null,
            "object_fit": null,
            "grid_auto_columns": null,
            "margin": null,
            "display": null,
            "left": null
          }
        },
        "3469a6d208ff419ba309cb4d0c7a346a": {
          "model_module": "@jupyter-widgets/controls",
          "model_name": "FloatProgressModel",
          "state": {
            "_view_name": "ProgressView",
            "style": "IPY_MODEL_b810195d963c401d94a2581dd7dbdb04",
            "_dom_classes": [],
            "description": "Downloading: 100%",
            "_model_name": "FloatProgressModel",
            "bar_style": "success",
            "max": 526681800,
            "_view_module": "@jupyter-widgets/controls",
            "_model_module_version": "1.5.0",
            "value": 526681800,
            "_view_count": null,
            "_view_module_version": "1.5.0",
            "orientation": "horizontal",
            "min": 0,
            "description_tooltip": null,
            "_model_module": "@jupyter-widgets/controls",
            "layout": "IPY_MODEL_d0e4d2fcfb63495f96b00f1d34e7f905"
          }
        },
        "83dacc136eb64db6a3714fa7da89be96": {
          "model_module": "@jupyter-widgets/controls",
          "model_name": "HTMLModel",
          "state": {
            "_view_name": "HTMLView",
            "style": "IPY_MODEL_7e86e443b0f34816a4af929bc6d00aac",
            "_dom_classes": [],
            "description": "",
            "_model_name": "HTMLModel",
            "placeholder": "​",
            "_view_module": "@jupyter-widgets/controls",
            "_model_module_version": "1.5.0",
            "value": " 527M/527M [00:15&lt;00:00, 33.4MB/s]",
            "_view_count": null,
            "_view_module_version": "1.5.0",
            "description_tooltip": null,
            "_model_module": "@jupyter-widgets/controls",
            "layout": "IPY_MODEL_dee68243f68f4d9cb3e6eb9624a72cd4"
          }
        },
        "b810195d963c401d94a2581dd7dbdb04": {
          "model_module": "@jupyter-widgets/controls",
          "model_name": "ProgressStyleModel",
          "state": {
            "_view_name": "StyleView",
            "_model_name": "ProgressStyleModel",
            "description_width": "initial",
            "_view_module": "@jupyter-widgets/base",
            "_model_module_version": "1.5.0",
            "_view_count": null,
            "_view_module_version": "1.2.0",
            "bar_color": null,
            "_model_module": "@jupyter-widgets/controls"
          }
        },
        "d0e4d2fcfb63495f96b00f1d34e7f905": {
          "model_module": "@jupyter-widgets/base",
          "model_name": "LayoutModel",
          "state": {
            "_view_name": "LayoutView",
            "grid_template_rows": null,
            "right": null,
            "justify_content": null,
            "_view_module": "@jupyter-widgets/base",
            "overflow": null,
            "_model_module_version": "1.2.0",
            "_view_count": null,
            "flex_flow": null,
            "width": null,
            "min_width": null,
            "border": null,
            "align_items": null,
            "bottom": null,
            "_model_module": "@jupyter-widgets/base",
            "top": null,
            "grid_column": null,
            "overflow_y": null,
            "overflow_x": null,
            "grid_auto_flow": null,
            "grid_area": null,
            "grid_template_columns": null,
            "flex": null,
            "_model_name": "LayoutModel",
            "justify_items": null,
            "grid_row": null,
            "max_height": null,
            "align_content": null,
            "visibility": null,
            "align_self": null,
            "height": null,
            "min_height": null,
            "padding": null,
            "grid_auto_rows": null,
            "grid_gap": null,
            "max_width": null,
            "order": null,
            "_view_module_version": "1.2.0",
            "grid_template_areas": null,
            "object_position": null,
            "object_fit": null,
            "grid_auto_columns": null,
            "margin": null,
            "display": null,
            "left": null
          }
        },
        "7e86e443b0f34816a4af929bc6d00aac": {
          "model_module": "@jupyter-widgets/controls",
          "model_name": "DescriptionStyleModel",
          "state": {
            "_view_name": "StyleView",
            "_model_name": "DescriptionStyleModel",
            "description_width": "",
            "_view_module": "@jupyter-widgets/base",
            "_model_module_version": "1.5.0",
            "_view_count": null,
            "_view_module_version": "1.2.0",
            "_model_module": "@jupyter-widgets/controls"
          }
        },
        "dee68243f68f4d9cb3e6eb9624a72cd4": {
          "model_module": "@jupyter-widgets/base",
          "model_name": "LayoutModel",
          "state": {
            "_view_name": "LayoutView",
            "grid_template_rows": null,
            "right": null,
            "justify_content": null,
            "_view_module": "@jupyter-widgets/base",
            "overflow": null,
            "_model_module_version": "1.2.0",
            "_view_count": null,
            "flex_flow": null,
            "width": null,
            "min_width": null,
            "border": null,
            "align_items": null,
            "bottom": null,
            "_model_module": "@jupyter-widgets/base",
            "top": null,
            "grid_column": null,
            "overflow_y": null,
            "overflow_x": null,
            "grid_auto_flow": null,
            "grid_area": null,
            "grid_template_columns": null,
            "flex": null,
            "_model_name": "LayoutModel",
            "justify_items": null,
            "grid_row": null,
            "max_height": null,
            "align_content": null,
            "visibility": null,
            "align_self": null,
            "height": null,
            "min_height": null,
            "padding": null,
            "grid_auto_rows": null,
            "grid_gap": null,
            "max_width": null,
            "order": null,
            "_view_module_version": "1.2.0",
            "grid_template_areas": null,
            "object_position": null,
            "object_fit": null,
            "grid_auto_columns": null,
            "margin": null,
            "display": null,
            "left": null
          }
        },
        "d6b2ee78f5e24d99b11c754ffb93e46d": {
          "model_module": "@jupyter-widgets/controls",
          "model_name": "HBoxModel",
          "state": {
            "_view_name": "HBoxView",
            "_dom_classes": [],
            "_model_name": "HBoxModel",
            "_view_module": "@jupyter-widgets/controls",
            "_model_module_version": "1.5.0",
            "_view_count": null,
            "_view_module_version": "1.5.0",
            "box_style": "",
            "layout": "IPY_MODEL_c44ec05599cb4af686f1a68163924387",
            "_model_module": "@jupyter-widgets/controls",
            "children": [
              "IPY_MODEL_5b0985ba277a40949e5adeaca58cbf96",
              "IPY_MODEL_4faae676fb6e4a56b71e1c5af687cf1e"
            ]
          }
        },
        "c44ec05599cb4af686f1a68163924387": {
          "model_module": "@jupyter-widgets/base",
          "model_name": "LayoutModel",
          "state": {
            "_view_name": "LayoutView",
            "grid_template_rows": null,
            "right": null,
            "justify_content": null,
            "_view_module": "@jupyter-widgets/base",
            "overflow": null,
            "_model_module_version": "1.2.0",
            "_view_count": null,
            "flex_flow": null,
            "width": null,
            "min_width": null,
            "border": null,
            "align_items": null,
            "bottom": null,
            "_model_module": "@jupyter-widgets/base",
            "top": null,
            "grid_column": null,
            "overflow_y": null,
            "overflow_x": null,
            "grid_auto_flow": null,
            "grid_area": null,
            "grid_template_columns": null,
            "flex": null,
            "_model_name": "LayoutModel",
            "justify_items": null,
            "grid_row": null,
            "max_height": null,
            "align_content": null,
            "visibility": null,
            "align_self": null,
            "height": null,
            "min_height": null,
            "padding": null,
            "grid_auto_rows": null,
            "grid_gap": null,
            "max_width": null,
            "order": null,
            "_view_module_version": "1.2.0",
            "grid_template_areas": null,
            "object_position": null,
            "object_fit": null,
            "grid_auto_columns": null,
            "margin": null,
            "display": null,
            "left": null
          }
        },
        "5b0985ba277a40949e5adeaca58cbf96": {
          "model_module": "@jupyter-widgets/controls",
          "model_name": "FloatProgressModel",
          "state": {
            "_view_name": "ProgressView",
            "style": "IPY_MODEL_4c8c8a9e80f1468f8b0919e0b5a25093",
            "_dom_classes": [],
            "description": "Downloading: 100%",
            "_model_name": "FloatProgressModel",
            "bar_style": "success",
            "max": 526681800,
            "_view_module": "@jupyter-widgets/controls",
            "_model_module_version": "1.5.0",
            "value": 526681800,
            "_view_count": null,
            "_view_module_version": "1.5.0",
            "orientation": "horizontal",
            "min": 0,
            "description_tooltip": null,
            "_model_module": "@jupyter-widgets/controls",
            "layout": "IPY_MODEL_de141d8ac8914471978201d6984f503d"
          }
        },
        "4faae676fb6e4a56b71e1c5af687cf1e": {
          "model_module": "@jupyter-widgets/controls",
          "model_name": "HTMLModel",
          "state": {
            "_view_name": "HTMLView",
            "style": "IPY_MODEL_35181fcbc1f34bedad494bd1dc040547",
            "_dom_classes": [],
            "description": "",
            "_model_name": "HTMLModel",
            "placeholder": "​",
            "_view_module": "@jupyter-widgets/controls",
            "_model_module_version": "1.5.0",
            "value": " 527M/527M [10:34&lt;00:00, 830kB/s]",
            "_view_count": null,
            "_view_module_version": "1.5.0",
            "description_tooltip": null,
            "_model_module": "@jupyter-widgets/controls",
            "layout": "IPY_MODEL_3eb6ab14fe764143bdb618334244d4c0"
          }
        },
        "4c8c8a9e80f1468f8b0919e0b5a25093": {
          "model_module": "@jupyter-widgets/controls",
          "model_name": "ProgressStyleModel",
          "state": {
            "_view_name": "StyleView",
            "_model_name": "ProgressStyleModel",
            "description_width": "initial",
            "_view_module": "@jupyter-widgets/base",
            "_model_module_version": "1.5.0",
            "_view_count": null,
            "_view_module_version": "1.2.0",
            "bar_color": null,
            "_model_module": "@jupyter-widgets/controls"
          }
        },
        "de141d8ac8914471978201d6984f503d": {
          "model_module": "@jupyter-widgets/base",
          "model_name": "LayoutModel",
          "state": {
            "_view_name": "LayoutView",
            "grid_template_rows": null,
            "right": null,
            "justify_content": null,
            "_view_module": "@jupyter-widgets/base",
            "overflow": null,
            "_model_module_version": "1.2.0",
            "_view_count": null,
            "flex_flow": null,
            "width": null,
            "min_width": null,
            "border": null,
            "align_items": null,
            "bottom": null,
            "_model_module": "@jupyter-widgets/base",
            "top": null,
            "grid_column": null,
            "overflow_y": null,
            "overflow_x": null,
            "grid_auto_flow": null,
            "grid_area": null,
            "grid_template_columns": null,
            "flex": null,
            "_model_name": "LayoutModel",
            "justify_items": null,
            "grid_row": null,
            "max_height": null,
            "align_content": null,
            "visibility": null,
            "align_self": null,
            "height": null,
            "min_height": null,
            "padding": null,
            "grid_auto_rows": null,
            "grid_gap": null,
            "max_width": null,
            "order": null,
            "_view_module_version": "1.2.0",
            "grid_template_areas": null,
            "object_position": null,
            "object_fit": null,
            "grid_auto_columns": null,
            "margin": null,
            "display": null,
            "left": null
          }
        },
        "35181fcbc1f34bedad494bd1dc040547": {
          "model_module": "@jupyter-widgets/controls",
          "model_name": "DescriptionStyleModel",
          "state": {
            "_view_name": "StyleView",
            "_model_name": "DescriptionStyleModel",
            "description_width": "",
            "_view_module": "@jupyter-widgets/base",
            "_model_module_version": "1.5.0",
            "_view_count": null,
            "_view_module_version": "1.2.0",
            "_model_module": "@jupyter-widgets/controls"
          }
        },
        "3eb6ab14fe764143bdb618334244d4c0": {
          "model_module": "@jupyter-widgets/base",
          "model_name": "LayoutModel",
          "state": {
            "_view_name": "LayoutView",
            "grid_template_rows": null,
            "right": null,
            "justify_content": null,
            "_view_module": "@jupyter-widgets/base",
            "overflow": null,
            "_model_module_version": "1.2.0",
            "_view_count": null,
            "flex_flow": null,
            "width": null,
            "min_width": null,
            "border": null,
            "align_items": null,
            "bottom": null,
            "_model_module": "@jupyter-widgets/base",
            "top": null,
            "grid_column": null,
            "overflow_y": null,
            "overflow_x": null,
            "grid_auto_flow": null,
            "grid_area": null,
            "grid_template_columns": null,
            "flex": null,
            "_model_name": "LayoutModel",
            "justify_items": null,
            "grid_row": null,
            "max_height": null,
            "align_content": null,
            "visibility": null,
            "align_self": null,
            "height": null,
            "min_height": null,
            "padding": null,
            "grid_auto_rows": null,
            "grid_gap": null,
            "max_width": null,
            "order": null,
            "_view_module_version": "1.2.0",
            "grid_template_areas": null,
            "object_position": null,
            "object_fit": null,
            "grid_auto_columns": null,
            "margin": null,
            "display": null,
            "left": null
          }
        },
        "7165d5fc6793474293040681501d73ec": {
          "model_module": "@jupyter-widgets/controls",
          "model_name": "HBoxModel",
          "state": {
            "_view_name": "HBoxView",
            "_dom_classes": [],
            "_model_name": "HBoxModel",
            "_view_module": "@jupyter-widgets/controls",
            "_model_module_version": "1.5.0",
            "_view_count": null,
            "_view_module_version": "1.5.0",
            "box_style": "",
            "layout": "IPY_MODEL_76aea2996f5a4d8e928ec86803fa6ce9",
            "_model_module": "@jupyter-widgets/controls",
            "children": [
              "IPY_MODEL_4938bd1727004008a00c9e7e7fbab357",
              "IPY_MODEL_ffd7774eb76a42fd9cb72eaaead766d2"
            ]
          }
        },
        "76aea2996f5a4d8e928ec86803fa6ce9": {
          "model_module": "@jupyter-widgets/base",
          "model_name": "LayoutModel",
          "state": {
            "_view_name": "LayoutView",
            "grid_template_rows": null,
            "right": null,
            "justify_content": null,
            "_view_module": "@jupyter-widgets/base",
            "overflow": null,
            "_model_module_version": "1.2.0",
            "_view_count": null,
            "flex_flow": null,
            "width": null,
            "min_width": null,
            "border": null,
            "align_items": null,
            "bottom": null,
            "_model_module": "@jupyter-widgets/base",
            "top": null,
            "grid_column": null,
            "overflow_y": null,
            "overflow_x": null,
            "grid_auto_flow": null,
            "grid_area": null,
            "grid_template_columns": null,
            "flex": null,
            "_model_name": "LayoutModel",
            "justify_items": null,
            "grid_row": null,
            "max_height": null,
            "align_content": null,
            "visibility": null,
            "align_self": null,
            "height": null,
            "min_height": null,
            "padding": null,
            "grid_auto_rows": null,
            "grid_gap": null,
            "max_width": null,
            "order": null,
            "_view_module_version": "1.2.0",
            "grid_template_areas": null,
            "object_position": null,
            "object_fit": null,
            "grid_auto_columns": null,
            "margin": null,
            "display": null,
            "left": null
          }
        },
        "4938bd1727004008a00c9e7e7fbab357": {
          "model_module": "@jupyter-widgets/controls",
          "model_name": "FloatProgressModel",
          "state": {
            "_view_name": "ProgressView",
            "style": "IPY_MODEL_113b019714294b13ab97b9dce2bfe55c",
            "_dom_classes": [],
            "description": "Downloading: 100%",
            "_model_name": "FloatProgressModel",
            "bar_style": "success",
            "max": 526681800,
            "_view_module": "@jupyter-widgets/controls",
            "_model_module_version": "1.5.0",
            "value": 526681800,
            "_view_count": null,
            "_view_module_version": "1.5.0",
            "orientation": "horizontal",
            "min": 0,
            "description_tooltip": null,
            "_model_module": "@jupyter-widgets/controls",
            "layout": "IPY_MODEL_b98edac276884727bbfa68cdaf55b3a9"
          }
        },
        "ffd7774eb76a42fd9cb72eaaead766d2": {
          "model_module": "@jupyter-widgets/controls",
          "model_name": "HTMLModel",
          "state": {
            "_view_name": "HTMLView",
            "style": "IPY_MODEL_d9e13037bbc94129b200f17ea07a93a8",
            "_dom_classes": [],
            "description": "",
            "_model_name": "HTMLModel",
            "placeholder": "​",
            "_view_module": "@jupyter-widgets/controls",
            "_model_module_version": "1.5.0",
            "value": " 527M/527M [00:09&lt;00:00, 55.9MB/s]",
            "_view_count": null,
            "_view_module_version": "1.5.0",
            "description_tooltip": null,
            "_model_module": "@jupyter-widgets/controls",
            "layout": "IPY_MODEL_84e237193367462ab0194bd43e0cf58c"
          }
        },
        "113b019714294b13ab97b9dce2bfe55c": {
          "model_module": "@jupyter-widgets/controls",
          "model_name": "ProgressStyleModel",
          "state": {
            "_view_name": "StyleView",
            "_model_name": "ProgressStyleModel",
            "description_width": "initial",
            "_view_module": "@jupyter-widgets/base",
            "_model_module_version": "1.5.0",
            "_view_count": null,
            "_view_module_version": "1.2.0",
            "bar_color": null,
            "_model_module": "@jupyter-widgets/controls"
          }
        },
        "b98edac276884727bbfa68cdaf55b3a9": {
          "model_module": "@jupyter-widgets/base",
          "model_name": "LayoutModel",
          "state": {
            "_view_name": "LayoutView",
            "grid_template_rows": null,
            "right": null,
            "justify_content": null,
            "_view_module": "@jupyter-widgets/base",
            "overflow": null,
            "_model_module_version": "1.2.0",
            "_view_count": null,
            "flex_flow": null,
            "width": null,
            "min_width": null,
            "border": null,
            "align_items": null,
            "bottom": null,
            "_model_module": "@jupyter-widgets/base",
            "top": null,
            "grid_column": null,
            "overflow_y": null,
            "overflow_x": null,
            "grid_auto_flow": null,
            "grid_area": null,
            "grid_template_columns": null,
            "flex": null,
            "_model_name": "LayoutModel",
            "justify_items": null,
            "grid_row": null,
            "max_height": null,
            "align_content": null,
            "visibility": null,
            "align_self": null,
            "height": null,
            "min_height": null,
            "padding": null,
            "grid_auto_rows": null,
            "grid_gap": null,
            "max_width": null,
            "order": null,
            "_view_module_version": "1.2.0",
            "grid_template_areas": null,
            "object_position": null,
            "object_fit": null,
            "grid_auto_columns": null,
            "margin": null,
            "display": null,
            "left": null
          }
        },
        "d9e13037bbc94129b200f17ea07a93a8": {
          "model_module": "@jupyter-widgets/controls",
          "model_name": "DescriptionStyleModel",
          "state": {
            "_view_name": "StyleView",
            "_model_name": "DescriptionStyleModel",
            "description_width": "",
            "_view_module": "@jupyter-widgets/base",
            "_model_module_version": "1.5.0",
            "_view_count": null,
            "_view_module_version": "1.2.0",
            "_model_module": "@jupyter-widgets/controls"
          }
        },
        "84e237193367462ab0194bd43e0cf58c": {
          "model_module": "@jupyter-widgets/base",
          "model_name": "LayoutModel",
          "state": {
            "_view_name": "LayoutView",
            "grid_template_rows": null,
            "right": null,
            "justify_content": null,
            "_view_module": "@jupyter-widgets/base",
            "overflow": null,
            "_model_module_version": "1.2.0",
            "_view_count": null,
            "flex_flow": null,
            "width": null,
            "min_width": null,
            "border": null,
            "align_items": null,
            "bottom": null,
            "_model_module": "@jupyter-widgets/base",
            "top": null,
            "grid_column": null,
            "overflow_y": null,
            "overflow_x": null,
            "grid_auto_flow": null,
            "grid_area": null,
            "grid_template_columns": null,
            "flex": null,
            "_model_name": "LayoutModel",
            "justify_items": null,
            "grid_row": null,
            "max_height": null,
            "align_content": null,
            "visibility": null,
            "align_self": null,
            "height": null,
            "min_height": null,
            "padding": null,
            "grid_auto_rows": null,
            "grid_gap": null,
            "max_width": null,
            "order": null,
            "_view_module_version": "1.2.0",
            "grid_template_areas": null,
            "object_position": null,
            "object_fit": null,
            "grid_auto_columns": null,
            "margin": null,
            "display": null,
            "left": null
          }
        },
        "9547e9adebac4415bf18f85245875bd9": {
          "model_module": "@jupyter-widgets/controls",
          "model_name": "HBoxModel",
          "state": {
            "_view_name": "HBoxView",
            "_dom_classes": [],
            "_model_name": "HBoxModel",
            "_view_module": "@jupyter-widgets/controls",
            "_model_module_version": "1.5.0",
            "_view_count": null,
            "_view_module_version": "1.5.0",
            "box_style": "",
            "layout": "IPY_MODEL_88daef13e61940fea7254d5d1109b1c5",
            "_model_module": "@jupyter-widgets/controls",
            "children": [
              "IPY_MODEL_be358be750464beb8a8bc9e7526ebda5",
              "IPY_MODEL_9bf4c9633cb54abeb371ac4b4bbc3087"
            ]
          }
        },
        "88daef13e61940fea7254d5d1109b1c5": {
          "model_module": "@jupyter-widgets/base",
          "model_name": "LayoutModel",
          "state": {
            "_view_name": "LayoutView",
            "grid_template_rows": null,
            "right": null,
            "justify_content": null,
            "_view_module": "@jupyter-widgets/base",
            "overflow": null,
            "_model_module_version": "1.2.0",
            "_view_count": null,
            "flex_flow": null,
            "width": null,
            "min_width": null,
            "border": null,
            "align_items": null,
            "bottom": null,
            "_model_module": "@jupyter-widgets/base",
            "top": null,
            "grid_column": null,
            "overflow_y": null,
            "overflow_x": null,
            "grid_auto_flow": null,
            "grid_area": null,
            "grid_template_columns": null,
            "flex": null,
            "_model_name": "LayoutModel",
            "justify_items": null,
            "grid_row": null,
            "max_height": null,
            "align_content": null,
            "visibility": null,
            "align_self": null,
            "height": null,
            "min_height": null,
            "padding": null,
            "grid_auto_rows": null,
            "grid_gap": null,
            "max_width": null,
            "order": null,
            "_view_module_version": "1.2.0",
            "grid_template_areas": null,
            "object_position": null,
            "object_fit": null,
            "grid_auto_columns": null,
            "margin": null,
            "display": null,
            "left": null
          }
        },
        "be358be750464beb8a8bc9e7526ebda5": {
          "model_module": "@jupyter-widgets/controls",
          "model_name": "FloatProgressModel",
          "state": {
            "_view_name": "ProgressView",
            "style": "IPY_MODEL_a2b6a09d03344161b9822f43a2b4057d",
            "_dom_classes": [],
            "description": "Downloading: 100%",
            "_model_name": "FloatProgressModel",
            "bar_style": "success",
            "max": 526681800,
            "_view_module": "@jupyter-widgets/controls",
            "_model_module_version": "1.5.0",
            "value": 526681800,
            "_view_count": null,
            "_view_module_version": "1.5.0",
            "orientation": "horizontal",
            "min": 0,
            "description_tooltip": null,
            "_model_module": "@jupyter-widgets/controls",
            "layout": "IPY_MODEL_8ca24d9aad194dd0ae5f105943d2d8a1"
          }
        },
        "9bf4c9633cb54abeb371ac4b4bbc3087": {
          "model_module": "@jupyter-widgets/controls",
          "model_name": "HTMLModel",
          "state": {
            "_view_name": "HTMLView",
            "style": "IPY_MODEL_093c8bdff0dd4cacbe90933c7e1325ba",
            "_dom_classes": [],
            "description": "",
            "_model_name": "HTMLModel",
            "placeholder": "​",
            "_view_module": "@jupyter-widgets/controls",
            "_model_module_version": "1.5.0",
            "value": " 527M/527M [00:09&lt;00:00, 56.8MB/s]",
            "_view_count": null,
            "_view_module_version": "1.5.0",
            "description_tooltip": null,
            "_model_module": "@jupyter-widgets/controls",
            "layout": "IPY_MODEL_17d980a9638a48d1aa06e8253d78da54"
          }
        },
        "a2b6a09d03344161b9822f43a2b4057d": {
          "model_module": "@jupyter-widgets/controls",
          "model_name": "ProgressStyleModel",
          "state": {
            "_view_name": "StyleView",
            "_model_name": "ProgressStyleModel",
            "description_width": "initial",
            "_view_module": "@jupyter-widgets/base",
            "_model_module_version": "1.5.0",
            "_view_count": null,
            "_view_module_version": "1.2.0",
            "bar_color": null,
            "_model_module": "@jupyter-widgets/controls"
          }
        },
        "8ca24d9aad194dd0ae5f105943d2d8a1": {
          "model_module": "@jupyter-widgets/base",
          "model_name": "LayoutModel",
          "state": {
            "_view_name": "LayoutView",
            "grid_template_rows": null,
            "right": null,
            "justify_content": null,
            "_view_module": "@jupyter-widgets/base",
            "overflow": null,
            "_model_module_version": "1.2.0",
            "_view_count": null,
            "flex_flow": null,
            "width": null,
            "min_width": null,
            "border": null,
            "align_items": null,
            "bottom": null,
            "_model_module": "@jupyter-widgets/base",
            "top": null,
            "grid_column": null,
            "overflow_y": null,
            "overflow_x": null,
            "grid_auto_flow": null,
            "grid_area": null,
            "grid_template_columns": null,
            "flex": null,
            "_model_name": "LayoutModel",
            "justify_items": null,
            "grid_row": null,
            "max_height": null,
            "align_content": null,
            "visibility": null,
            "align_self": null,
            "height": null,
            "min_height": null,
            "padding": null,
            "grid_auto_rows": null,
            "grid_gap": null,
            "max_width": null,
            "order": null,
            "_view_module_version": "1.2.0",
            "grid_template_areas": null,
            "object_position": null,
            "object_fit": null,
            "grid_auto_columns": null,
            "margin": null,
            "display": null,
            "left": null
          }
        },
        "093c8bdff0dd4cacbe90933c7e1325ba": {
          "model_module": "@jupyter-widgets/controls",
          "model_name": "DescriptionStyleModel",
          "state": {
            "_view_name": "StyleView",
            "_model_name": "DescriptionStyleModel",
            "description_width": "",
            "_view_module": "@jupyter-widgets/base",
            "_model_module_version": "1.5.0",
            "_view_count": null,
            "_view_module_version": "1.2.0",
            "_model_module": "@jupyter-widgets/controls"
          }
        },
        "17d980a9638a48d1aa06e8253d78da54": {
          "model_module": "@jupyter-widgets/base",
          "model_name": "LayoutModel",
          "state": {
            "_view_name": "LayoutView",
            "grid_template_rows": null,
            "right": null,
            "justify_content": null,
            "_view_module": "@jupyter-widgets/base",
            "overflow": null,
            "_model_module_version": "1.2.0",
            "_view_count": null,
            "flex_flow": null,
            "width": null,
            "min_width": null,
            "border": null,
            "align_items": null,
            "bottom": null,
            "_model_module": "@jupyter-widgets/base",
            "top": null,
            "grid_column": null,
            "overflow_y": null,
            "overflow_x": null,
            "grid_auto_flow": null,
            "grid_area": null,
            "grid_template_columns": null,
            "flex": null,
            "_model_name": "LayoutModel",
            "justify_items": null,
            "grid_row": null,
            "max_height": null,
            "align_content": null,
            "visibility": null,
            "align_self": null,
            "height": null,
            "min_height": null,
            "padding": null,
            "grid_auto_rows": null,
            "grid_gap": null,
            "max_width": null,
            "order": null,
            "_view_module_version": "1.2.0",
            "grid_template_areas": null,
            "object_position": null,
            "object_fit": null,
            "grid_auto_columns": null,
            "margin": null,
            "display": null,
            "left": null
          }
        },
        "4a9b6082099445d689810b90b4370d38": {
          "model_module": "@jupyter-widgets/controls",
          "model_name": "HBoxModel",
          "state": {
            "_view_name": "HBoxView",
            "_dom_classes": [],
            "_model_name": "HBoxModel",
            "_view_module": "@jupyter-widgets/controls",
            "_model_module_version": "1.5.0",
            "_view_count": null,
            "_view_module_version": "1.5.0",
            "box_style": "",
            "layout": "IPY_MODEL_ea395165a5e34667b34e5a0ee82e5b17",
            "_model_module": "@jupyter-widgets/controls",
            "children": [
              "IPY_MODEL_57373eabcd184ad4a1cb714c2f11d825",
              "IPY_MODEL_caf7c96970d6422884d773beb24ab386"
            ]
          }
        },
        "ea395165a5e34667b34e5a0ee82e5b17": {
          "model_module": "@jupyter-widgets/base",
          "model_name": "LayoutModel",
          "state": {
            "_view_name": "LayoutView",
            "grid_template_rows": null,
            "right": null,
            "justify_content": null,
            "_view_module": "@jupyter-widgets/base",
            "overflow": null,
            "_model_module_version": "1.2.0",
            "_view_count": null,
            "flex_flow": null,
            "width": null,
            "min_width": null,
            "border": null,
            "align_items": null,
            "bottom": null,
            "_model_module": "@jupyter-widgets/base",
            "top": null,
            "grid_column": null,
            "overflow_y": null,
            "overflow_x": null,
            "grid_auto_flow": null,
            "grid_area": null,
            "grid_template_columns": null,
            "flex": null,
            "_model_name": "LayoutModel",
            "justify_items": null,
            "grid_row": null,
            "max_height": null,
            "align_content": null,
            "visibility": null,
            "align_self": null,
            "height": null,
            "min_height": null,
            "padding": null,
            "grid_auto_rows": null,
            "grid_gap": null,
            "max_width": null,
            "order": null,
            "_view_module_version": "1.2.0",
            "grid_template_areas": null,
            "object_position": null,
            "object_fit": null,
            "grid_auto_columns": null,
            "margin": null,
            "display": null,
            "left": null
          }
        },
        "57373eabcd184ad4a1cb714c2f11d825": {
          "model_module": "@jupyter-widgets/controls",
          "model_name": "FloatProgressModel",
          "state": {
            "_view_name": "ProgressView",
            "style": "IPY_MODEL_137dfe6c589b4d4fa7efedf1ea1bd2c9",
            "_dom_classes": [],
            "description": "Downloading: 100%",
            "_model_name": "FloatProgressModel",
            "bar_style": "success",
            "max": 433,
            "_view_module": "@jupyter-widgets/controls",
            "_model_module_version": "1.5.0",
            "value": 433,
            "_view_count": null,
            "_view_module_version": "1.5.0",
            "orientation": "horizontal",
            "min": 0,
            "description_tooltip": null,
            "_model_module": "@jupyter-widgets/controls",
            "layout": "IPY_MODEL_086e321f15e34e7cbd425ef0dedfa5f6"
          }
        },
        "caf7c96970d6422884d773beb24ab386": {
          "model_module": "@jupyter-widgets/controls",
          "model_name": "HTMLModel",
          "state": {
            "_view_name": "HTMLView",
            "style": "IPY_MODEL_e708601335f349028c07a9a8f06f84b6",
            "_dom_classes": [],
            "description": "",
            "_model_name": "HTMLModel",
            "placeholder": "​",
            "_view_module": "@jupyter-widgets/controls",
            "_model_module_version": "1.5.0",
            "value": " 433/433 [00:24&lt;00:00, 17.6B/s]",
            "_view_count": null,
            "_view_module_version": "1.5.0",
            "description_tooltip": null,
            "_model_module": "@jupyter-widgets/controls",
            "layout": "IPY_MODEL_086f9184eb1a427aa9fd36a932d05dce"
          }
        },
        "137dfe6c589b4d4fa7efedf1ea1bd2c9": {
          "model_module": "@jupyter-widgets/controls",
          "model_name": "ProgressStyleModel",
          "state": {
            "_view_name": "StyleView",
            "_model_name": "ProgressStyleModel",
            "description_width": "initial",
            "_view_module": "@jupyter-widgets/base",
            "_model_module_version": "1.5.0",
            "_view_count": null,
            "_view_module_version": "1.2.0",
            "bar_color": null,
            "_model_module": "@jupyter-widgets/controls"
          }
        },
        "086e321f15e34e7cbd425ef0dedfa5f6": {
          "model_module": "@jupyter-widgets/base",
          "model_name": "LayoutModel",
          "state": {
            "_view_name": "LayoutView",
            "grid_template_rows": null,
            "right": null,
            "justify_content": null,
            "_view_module": "@jupyter-widgets/base",
            "overflow": null,
            "_model_module_version": "1.2.0",
            "_view_count": null,
            "flex_flow": null,
            "width": null,
            "min_width": null,
            "border": null,
            "align_items": null,
            "bottom": null,
            "_model_module": "@jupyter-widgets/base",
            "top": null,
            "grid_column": null,
            "overflow_y": null,
            "overflow_x": null,
            "grid_auto_flow": null,
            "grid_area": null,
            "grid_template_columns": null,
            "flex": null,
            "_model_name": "LayoutModel",
            "justify_items": null,
            "grid_row": null,
            "max_height": null,
            "align_content": null,
            "visibility": null,
            "align_self": null,
            "height": null,
            "min_height": null,
            "padding": null,
            "grid_auto_rows": null,
            "grid_gap": null,
            "max_width": null,
            "order": null,
            "_view_module_version": "1.2.0",
            "grid_template_areas": null,
            "object_position": null,
            "object_fit": null,
            "grid_auto_columns": null,
            "margin": null,
            "display": null,
            "left": null
          }
        },
        "e708601335f349028c07a9a8f06f84b6": {
          "model_module": "@jupyter-widgets/controls",
          "model_name": "DescriptionStyleModel",
          "state": {
            "_view_name": "StyleView",
            "_model_name": "DescriptionStyleModel",
            "description_width": "",
            "_view_module": "@jupyter-widgets/base",
            "_model_module_version": "1.5.0",
            "_view_count": null,
            "_view_module_version": "1.2.0",
            "_model_module": "@jupyter-widgets/controls"
          }
        },
        "086f9184eb1a427aa9fd36a932d05dce": {
          "model_module": "@jupyter-widgets/base",
          "model_name": "LayoutModel",
          "state": {
            "_view_name": "LayoutView",
            "grid_template_rows": null,
            "right": null,
            "justify_content": null,
            "_view_module": "@jupyter-widgets/base",
            "overflow": null,
            "_model_module_version": "1.2.0",
            "_view_count": null,
            "flex_flow": null,
            "width": null,
            "min_width": null,
            "border": null,
            "align_items": null,
            "bottom": null,
            "_model_module": "@jupyter-widgets/base",
            "top": null,
            "grid_column": null,
            "overflow_y": null,
            "overflow_x": null,
            "grid_auto_flow": null,
            "grid_area": null,
            "grid_template_columns": null,
            "flex": null,
            "_model_name": "LayoutModel",
            "justify_items": null,
            "grid_row": null,
            "max_height": null,
            "align_content": null,
            "visibility": null,
            "align_self": null,
            "height": null,
            "min_height": null,
            "padding": null,
            "grid_auto_rows": null,
            "grid_gap": null,
            "max_width": null,
            "order": null,
            "_view_module_version": "1.2.0",
            "grid_template_areas": null,
            "object_position": null,
            "object_fit": null,
            "grid_auto_columns": null,
            "margin": null,
            "display": null,
            "left": null
          }
        },
        "fafca5b315c24addbf7b7b9bd9ad7d7f": {
          "model_module": "@jupyter-widgets/controls",
          "model_name": "HBoxModel",
          "state": {
            "_view_name": "HBoxView",
            "_dom_classes": [],
            "_model_name": "HBoxModel",
            "_view_module": "@jupyter-widgets/controls",
            "_model_module_version": "1.5.0",
            "_view_count": null,
            "_view_module_version": "1.5.0",
            "box_style": "",
            "layout": "IPY_MODEL_3b8540b2632b4907ab88935c2fb84e3a",
            "_model_module": "@jupyter-widgets/controls",
            "children": [
              "IPY_MODEL_8d6000679fe24e698e64c730ebf46507",
              "IPY_MODEL_e86ffc44a8424f8c87bf88d5dfe9e5df"
            ]
          }
        },
        "3b8540b2632b4907ab88935c2fb84e3a": {
          "model_module": "@jupyter-widgets/base",
          "model_name": "LayoutModel",
          "state": {
            "_view_name": "LayoutView",
            "grid_template_rows": null,
            "right": null,
            "justify_content": null,
            "_view_module": "@jupyter-widgets/base",
            "overflow": null,
            "_model_module_version": "1.2.0",
            "_view_count": null,
            "flex_flow": null,
            "width": null,
            "min_width": null,
            "border": null,
            "align_items": null,
            "bottom": null,
            "_model_module": "@jupyter-widgets/base",
            "top": null,
            "grid_column": null,
            "overflow_y": null,
            "overflow_x": null,
            "grid_auto_flow": null,
            "grid_area": null,
            "grid_template_columns": null,
            "flex": null,
            "_model_name": "LayoutModel",
            "justify_items": null,
            "grid_row": null,
            "max_height": null,
            "align_content": null,
            "visibility": null,
            "align_self": null,
            "height": null,
            "min_height": null,
            "padding": null,
            "grid_auto_rows": null,
            "grid_gap": null,
            "max_width": null,
            "order": null,
            "_view_module_version": "1.2.0",
            "grid_template_areas": null,
            "object_position": null,
            "object_fit": null,
            "grid_auto_columns": null,
            "margin": null,
            "display": null,
            "left": null
          }
        },
        "8d6000679fe24e698e64c730ebf46507": {
          "model_module": "@jupyter-widgets/controls",
          "model_name": "FloatProgressModel",
          "state": {
            "_view_name": "ProgressView",
            "style": "IPY_MODEL_d01b0edfa16f4fd5b23153e6e8ca73ea",
            "_dom_classes": [],
            "description": "Downloading: 100%",
            "_model_name": "FloatProgressModel",
            "bar_style": "success",
            "max": 526681800,
            "_view_module": "@jupyter-widgets/controls",
            "_model_module_version": "1.5.0",
            "value": 526681800,
            "_view_count": null,
            "_view_module_version": "1.5.0",
            "orientation": "horizontal",
            "min": 0,
            "description_tooltip": null,
            "_model_module": "@jupyter-widgets/controls",
            "layout": "IPY_MODEL_fe55a35850dd48d2954a075c9e33500e"
          }
        },
        "e86ffc44a8424f8c87bf88d5dfe9e5df": {
          "model_module": "@jupyter-widgets/controls",
          "model_name": "HTMLModel",
          "state": {
            "_view_name": "HTMLView",
            "style": "IPY_MODEL_eb0b0a5cc26947f4af265d304cd3cd98",
            "_dom_classes": [],
            "description": "",
            "_model_name": "HTMLModel",
            "placeholder": "​",
            "_view_module": "@jupyter-widgets/controls",
            "_model_module_version": "1.5.0",
            "value": " 527M/527M [00:16&lt;00:00, 31.8MB/s]",
            "_view_count": null,
            "_view_module_version": "1.5.0",
            "description_tooltip": null,
            "_model_module": "@jupyter-widgets/controls",
            "layout": "IPY_MODEL_ab39effdc6444d06bbad8d551ccff494"
          }
        },
        "d01b0edfa16f4fd5b23153e6e8ca73ea": {
          "model_module": "@jupyter-widgets/controls",
          "model_name": "ProgressStyleModel",
          "state": {
            "_view_name": "StyleView",
            "_model_name": "ProgressStyleModel",
            "description_width": "initial",
            "_view_module": "@jupyter-widgets/base",
            "_model_module_version": "1.5.0",
            "_view_count": null,
            "_view_module_version": "1.2.0",
            "bar_color": null,
            "_model_module": "@jupyter-widgets/controls"
          }
        },
        "fe55a35850dd48d2954a075c9e33500e": {
          "model_module": "@jupyter-widgets/base",
          "model_name": "LayoutModel",
          "state": {
            "_view_name": "LayoutView",
            "grid_template_rows": null,
            "right": null,
            "justify_content": null,
            "_view_module": "@jupyter-widgets/base",
            "overflow": null,
            "_model_module_version": "1.2.0",
            "_view_count": null,
            "flex_flow": null,
            "width": null,
            "min_width": null,
            "border": null,
            "align_items": null,
            "bottom": null,
            "_model_module": "@jupyter-widgets/base",
            "top": null,
            "grid_column": null,
            "overflow_y": null,
            "overflow_x": null,
            "grid_auto_flow": null,
            "grid_area": null,
            "grid_template_columns": null,
            "flex": null,
            "_model_name": "LayoutModel",
            "justify_items": null,
            "grid_row": null,
            "max_height": null,
            "align_content": null,
            "visibility": null,
            "align_self": null,
            "height": null,
            "min_height": null,
            "padding": null,
            "grid_auto_rows": null,
            "grid_gap": null,
            "max_width": null,
            "order": null,
            "_view_module_version": "1.2.0",
            "grid_template_areas": null,
            "object_position": null,
            "object_fit": null,
            "grid_auto_columns": null,
            "margin": null,
            "display": null,
            "left": null
          }
        },
        "eb0b0a5cc26947f4af265d304cd3cd98": {
          "model_module": "@jupyter-widgets/controls",
          "model_name": "DescriptionStyleModel",
          "state": {
            "_view_name": "StyleView",
            "_model_name": "DescriptionStyleModel",
            "description_width": "",
            "_view_module": "@jupyter-widgets/base",
            "_model_module_version": "1.5.0",
            "_view_count": null,
            "_view_module_version": "1.2.0",
            "_model_module": "@jupyter-widgets/controls"
          }
        },
        "ab39effdc6444d06bbad8d551ccff494": {
          "model_module": "@jupyter-widgets/base",
          "model_name": "LayoutModel",
          "state": {
            "_view_name": "LayoutView",
            "grid_template_rows": null,
            "right": null,
            "justify_content": null,
            "_view_module": "@jupyter-widgets/base",
            "overflow": null,
            "_model_module_version": "1.2.0",
            "_view_count": null,
            "flex_flow": null,
            "width": null,
            "min_width": null,
            "border": null,
            "align_items": null,
            "bottom": null,
            "_model_module": "@jupyter-widgets/base",
            "top": null,
            "grid_column": null,
            "overflow_y": null,
            "overflow_x": null,
            "grid_auto_flow": null,
            "grid_area": null,
            "grid_template_columns": null,
            "flex": null,
            "_model_name": "LayoutModel",
            "justify_items": null,
            "grid_row": null,
            "max_height": null,
            "align_content": null,
            "visibility": null,
            "align_self": null,
            "height": null,
            "min_height": null,
            "padding": null,
            "grid_auto_rows": null,
            "grid_gap": null,
            "max_width": null,
            "order": null,
            "_view_module_version": "1.2.0",
            "grid_template_areas": null,
            "object_position": null,
            "object_fit": null,
            "grid_auto_columns": null,
            "margin": null,
            "display": null,
            "left": null
          }
        }
      }
    },
    "accelerator": "GPU"
  },
  "cells": [
    {
      "cell_type": "markdown",
      "metadata": {
        "id": "4MfWhIOCEcTZ"
      },
      "source": [
        "Setting seed"
      ]
    },
    {
      "cell_type": "code",
      "metadata": {
        "id": "0ZhFbu1UEeEM"
      },
      "source": [
        "import random\n",
        "\n",
        "random.seed(10)"
      ],
      "execution_count": 1,
      "outputs": []
    },
    {
      "cell_type": "markdown",
      "metadata": {
        "id": "mW8_Jzlwp9bM"
      },
      "source": [
        "Importing tensorflow"
      ]
    },
    {
      "cell_type": "code",
      "metadata": {
        "id": "v4pesGedrWzh"
      },
      "source": [
        "import tensorflow as tf"
      ],
      "execution_count": 2,
      "outputs": []
    },
    {
      "cell_type": "markdown",
      "metadata": {
        "id": "cWovZGj-r1h3"
      },
      "source": [
        "Installing the Hugging Face Library"
      ]
    },
    {
      "cell_type": "code",
      "metadata": {
        "colab": {
          "base_uri": "https://localhost:8080/"
        },
        "id": "U8DQsCy_3OGJ",
        "outputId": "3fc4f84b-e533-4fb9-f6c5-f7c5ab8556b8"
      },
      "source": [
        "!pip install transformers"
      ],
      "execution_count": 3,
      "outputs": [
        {
          "output_type": "stream",
          "text": [
            "Collecting transformers\n",
            "\u001b[?25l  Downloading https://files.pythonhosted.org/packages/81/91/61d69d58a1af1bd81d9ca9d62c90a6de3ab80d77f27c5df65d9a2c1f5626/transformers-4.5.0-py3-none-any.whl (2.1MB)\n",
            "\u001b[K     |████████████████████████████████| 2.2MB 8.4MB/s \n",
            "\u001b[?25hRequirement already satisfied: filelock in /usr/local/lib/python3.7/dist-packages (from transformers) (3.0.12)\n",
            "Collecting tokenizers<0.11,>=0.10.1\n",
            "\u001b[?25l  Downloading https://files.pythonhosted.org/packages/ae/04/5b870f26a858552025a62f1649c20d29d2672c02ff3c3fb4c688ca46467a/tokenizers-0.10.2-cp37-cp37m-manylinux2010_x86_64.whl (3.3MB)\n",
            "\u001b[K     |████████████████████████████████| 3.3MB 51.1MB/s \n",
            "\u001b[?25hRequirement already satisfied: packaging in /usr/local/lib/python3.7/dist-packages (from transformers) (20.9)\n",
            "Requirement already satisfied: requests in /usr/local/lib/python3.7/dist-packages (from transformers) (2.23.0)\n",
            "Requirement already satisfied: numpy>=1.17 in /usr/local/lib/python3.7/dist-packages (from transformers) (1.19.5)\n",
            "Requirement already satisfied: importlib-metadata; python_version < \"3.8\" in /usr/local/lib/python3.7/dist-packages (from transformers) (3.8.1)\n",
            "Requirement already satisfied: tqdm>=4.27 in /usr/local/lib/python3.7/dist-packages (from transformers) (4.41.1)\n",
            "Requirement already satisfied: regex!=2019.12.17 in /usr/local/lib/python3.7/dist-packages (from transformers) (2019.12.20)\n",
            "Collecting sacremoses\n",
            "\u001b[?25l  Downloading https://files.pythonhosted.org/packages/08/cd/342e584ee544d044fb573ae697404ce22ede086c9e87ce5960772084cad0/sacremoses-0.0.44.tar.gz (862kB)\n",
            "\u001b[K     |████████████████████████████████| 870kB 53.9MB/s \n",
            "\u001b[?25hRequirement already satisfied: pyparsing>=2.0.2 in /usr/local/lib/python3.7/dist-packages (from packaging->transformers) (2.4.7)\n",
            "Requirement already satisfied: idna<3,>=2.5 in /usr/local/lib/python3.7/dist-packages (from requests->transformers) (2.10)\n",
            "Requirement already satisfied: certifi>=2017.4.17 in /usr/local/lib/python3.7/dist-packages (from requests->transformers) (2020.12.5)\n",
            "Requirement already satisfied: urllib3!=1.25.0,!=1.25.1,<1.26,>=1.21.1 in /usr/local/lib/python3.7/dist-packages (from requests->transformers) (1.24.3)\n",
            "Requirement already satisfied: chardet<4,>=3.0.2 in /usr/local/lib/python3.7/dist-packages (from requests->transformers) (3.0.4)\n",
            "Requirement already satisfied: typing-extensions>=3.6.4; python_version < \"3.8\" in /usr/local/lib/python3.7/dist-packages (from importlib-metadata; python_version < \"3.8\"->transformers) (3.7.4.3)\n",
            "Requirement already satisfied: zipp>=0.5 in /usr/local/lib/python3.7/dist-packages (from importlib-metadata; python_version < \"3.8\"->transformers) (3.4.1)\n",
            "Requirement already satisfied: six in /usr/local/lib/python3.7/dist-packages (from sacremoses->transformers) (1.15.0)\n",
            "Requirement already satisfied: click in /usr/local/lib/python3.7/dist-packages (from sacremoses->transformers) (7.1.2)\n",
            "Requirement already satisfied: joblib in /usr/local/lib/python3.7/dist-packages (from sacremoses->transformers) (1.0.1)\n",
            "Building wheels for collected packages: sacremoses\n",
            "  Building wheel for sacremoses (setup.py) ... \u001b[?25l\u001b[?25hdone\n",
            "  Created wheel for sacremoses: filename=sacremoses-0.0.44-cp37-none-any.whl size=886084 sha256=2d84247e7b9131ca10dc8b2a11c4d6d93e9f0652b3c24b81574f63095e1ed01c\n",
            "  Stored in directory: /root/.cache/pip/wheels/3e/fb/c0/13ab4d63d537658f448366744654323077c4d90069b6512f3c\n",
            "Successfully built sacremoses\n",
            "Installing collected packages: tokenizers, sacremoses, transformers\n",
            "Successfully installed sacremoses-0.0.44 tokenizers-0.10.2 transformers-4.5.0\n"
          ],
          "name": "stdout"
        }
      ]
    },
    {
      "cell_type": "markdown",
      "metadata": {
        "id": "cPmVnUbzsHVZ"
      },
      "source": [
        "Loading Reddit Dataset"
      ]
    },
    {
      "cell_type": "code",
      "metadata": {
        "colab": {
          "base_uri": "https://localhost:8080/"
        },
        "id": "eua1jnBUoX_G",
        "outputId": "47ecbf0f-7117-495f-d4db-4f00016ec017"
      },
      "source": [
        "from google.colab import drive\n",
        "drive.mount('/content/gdrive')\n",
        "lav_path = '/content/gdrive/MyDrive/Colab Notebooks/train-balanced-sarcasm.csv'\n",
        "shalz_path = '/content/gdrive/MyDrive/Colab Notebooks/train-balanced-sarcasm.csv'\n",
        "\n",
        "import pandas as pd\n",
        "full_df = pd.read_csv(lav_path)"
      ],
      "execution_count": 4,
      "outputs": [
        {
          "output_type": "stream",
          "text": [
            "Mounted at /content/gdrive\n"
          ],
          "name": "stdout"
        }
      ]
    },
    {
      "cell_type": "markdown",
      "metadata": {
        "id": "miOiWALXt6P4"
      },
      "source": [
        "Viewing first few rows of Reddit Dataset"
      ]
    },
    {
      "cell_type": "code",
      "metadata": {
        "colab": {
          "base_uri": "https://localhost:8080/",
          "height": 442
        },
        "id": "O8IZGoert9uX",
        "outputId": "c3167751-76f8-4add-975e-85d32868a346"
      },
      "source": [
        "full_df.head()"
      ],
      "execution_count": 5,
      "outputs": [
        {
          "output_type": "execute_result",
          "data": {
            "text/html": [
              "<div>\n",
              "<style scoped>\n",
              "    .dataframe tbody tr th:only-of-type {\n",
              "        vertical-align: middle;\n",
              "    }\n",
              "\n",
              "    .dataframe tbody tr th {\n",
              "        vertical-align: top;\n",
              "    }\n",
              "\n",
              "    .dataframe thead th {\n",
              "        text-align: right;\n",
              "    }\n",
              "</style>\n",
              "<table border=\"1\" class=\"dataframe\">\n",
              "  <thead>\n",
              "    <tr style=\"text-align: right;\">\n",
              "      <th></th>\n",
              "      <th>label</th>\n",
              "      <th>comment</th>\n",
              "      <th>author</th>\n",
              "      <th>subreddit</th>\n",
              "      <th>score</th>\n",
              "      <th>ups</th>\n",
              "      <th>downs</th>\n",
              "      <th>date</th>\n",
              "      <th>created_utc</th>\n",
              "      <th>parent_comment</th>\n",
              "    </tr>\n",
              "  </thead>\n",
              "  <tbody>\n",
              "    <tr>\n",
              "      <th>0</th>\n",
              "      <td>0</td>\n",
              "      <td>NC and NH.</td>\n",
              "      <td>Trumpbart</td>\n",
              "      <td>politics</td>\n",
              "      <td>2</td>\n",
              "      <td>-1</td>\n",
              "      <td>-1</td>\n",
              "      <td>2016-10</td>\n",
              "      <td>2016-10-16 23:55:23</td>\n",
              "      <td>Yeah, I get that argument. At this point, I'd ...</td>\n",
              "    </tr>\n",
              "    <tr>\n",
              "      <th>1</th>\n",
              "      <td>0</td>\n",
              "      <td>You do know west teams play against west teams...</td>\n",
              "      <td>Shbshb906</td>\n",
              "      <td>nba</td>\n",
              "      <td>-4</td>\n",
              "      <td>-1</td>\n",
              "      <td>-1</td>\n",
              "      <td>2016-11</td>\n",
              "      <td>2016-11-01 00:24:10</td>\n",
              "      <td>The blazers and Mavericks (The wests 5 and 6 s...</td>\n",
              "    </tr>\n",
              "    <tr>\n",
              "      <th>2</th>\n",
              "      <td>0</td>\n",
              "      <td>They were underdogs earlier today, but since G...</td>\n",
              "      <td>Creepeth</td>\n",
              "      <td>nfl</td>\n",
              "      <td>3</td>\n",
              "      <td>3</td>\n",
              "      <td>0</td>\n",
              "      <td>2016-09</td>\n",
              "      <td>2016-09-22 21:45:37</td>\n",
              "      <td>They're favored to win.</td>\n",
              "    </tr>\n",
              "    <tr>\n",
              "      <th>3</th>\n",
              "      <td>0</td>\n",
              "      <td>This meme isn't funny none of the \"new york ni...</td>\n",
              "      <td>icebrotha</td>\n",
              "      <td>BlackPeopleTwitter</td>\n",
              "      <td>-8</td>\n",
              "      <td>-1</td>\n",
              "      <td>-1</td>\n",
              "      <td>2016-10</td>\n",
              "      <td>2016-10-18 21:03:47</td>\n",
              "      <td>deadass don't kill my buzz</td>\n",
              "    </tr>\n",
              "    <tr>\n",
              "      <th>4</th>\n",
              "      <td>0</td>\n",
              "      <td>I could use one of those tools.</td>\n",
              "      <td>cush2push</td>\n",
              "      <td>MaddenUltimateTeam</td>\n",
              "      <td>6</td>\n",
              "      <td>-1</td>\n",
              "      <td>-1</td>\n",
              "      <td>2016-12</td>\n",
              "      <td>2016-12-30 17:00:13</td>\n",
              "      <td>Yep can confirm I saw the tool they use for th...</td>\n",
              "    </tr>\n",
              "  </tbody>\n",
              "</table>\n",
              "</div>"
            ],
            "text/plain": [
              "   label  ...                                     parent_comment\n",
              "0      0  ...  Yeah, I get that argument. At this point, I'd ...\n",
              "1      0  ...  The blazers and Mavericks (The wests 5 and 6 s...\n",
              "2      0  ...                            They're favored to win.\n",
              "3      0  ...                         deadass don't kill my buzz\n",
              "4      0  ...  Yep can confirm I saw the tool they use for th...\n",
              "\n",
              "[5 rows x 10 columns]"
            ]
          },
          "metadata": {
            "tags": []
          },
          "execution_count": 5
        }
      ]
    },
    {
      "cell_type": "markdown",
      "metadata": {
        "id": "XtS-l_EytguC"
      },
      "source": [
        "Reporting the number of comments"
      ]
    },
    {
      "cell_type": "code",
      "metadata": {
        "colab": {
          "base_uri": "https://localhost:8080/"
        },
        "id": "mR9FYX1StxIj",
        "outputId": "e4564b5d-d0bf-4460-bc8c-dc3b2d6e7a7a"
      },
      "source": [
        "print('Number of comments: {:,}\\n'.format(full_df.shape[0]))"
      ],
      "execution_count": 6,
      "outputs": [
        {
          "output_type": "stream",
          "text": [
            "Number of comments: 1,010,826\n",
            "\n"
          ],
          "name": "stdout"
        }
      ]
    },
    {
      "cell_type": "markdown",
      "metadata": {
        "id": "5kYa1tvlfHxg"
      },
      "source": [
        "Removing missing values"
      ]
    },
    {
      "cell_type": "code",
      "metadata": {
        "id": "3DRvWSwWfNb1"
      },
      "source": [
        "# remove na \n",
        "full_df = full_df[full_df['parent_comment'].notna() & full_df['comment'].notna()]"
      ],
      "execution_count": 7,
      "outputs": []
    },
    {
      "cell_type": "markdown",
      "metadata": {
        "id": "IGvqrj7bJvgP"
      },
      "source": [
        "Selecting a subset of the data"
      ]
    },
    {
      "cell_type": "code",
      "metadata": {
        "colab": {
          "base_uri": "https://localhost:8080/",
          "height": 1000
        },
        "id": "-NVGfeIHJj2J",
        "outputId": "48fa9538-4034-4635-9f73-2c63a211a192"
      },
      "source": [
        "# select the full data\n",
        "df = full_df\n",
        "df"
      ],
      "execution_count": 8,
      "outputs": [
        {
          "output_type": "execute_result",
          "data": {
            "text/html": [
              "<div>\n",
              "<style scoped>\n",
              "    .dataframe tbody tr th:only-of-type {\n",
              "        vertical-align: middle;\n",
              "    }\n",
              "\n",
              "    .dataframe tbody tr th {\n",
              "        vertical-align: top;\n",
              "    }\n",
              "\n",
              "    .dataframe thead th {\n",
              "        text-align: right;\n",
              "    }\n",
              "</style>\n",
              "<table border=\"1\" class=\"dataframe\">\n",
              "  <thead>\n",
              "    <tr style=\"text-align: right;\">\n",
              "      <th></th>\n",
              "      <th>label</th>\n",
              "      <th>comment</th>\n",
              "      <th>author</th>\n",
              "      <th>subreddit</th>\n",
              "      <th>score</th>\n",
              "      <th>ups</th>\n",
              "      <th>downs</th>\n",
              "      <th>date</th>\n",
              "      <th>created_utc</th>\n",
              "      <th>parent_comment</th>\n",
              "    </tr>\n",
              "  </thead>\n",
              "  <tbody>\n",
              "    <tr>\n",
              "      <th>0</th>\n",
              "      <td>0</td>\n",
              "      <td>NC and NH.</td>\n",
              "      <td>Trumpbart</td>\n",
              "      <td>politics</td>\n",
              "      <td>2</td>\n",
              "      <td>-1</td>\n",
              "      <td>-1</td>\n",
              "      <td>2016-10</td>\n",
              "      <td>2016-10-16 23:55:23</td>\n",
              "      <td>Yeah, I get that argument. At this point, I'd ...</td>\n",
              "    </tr>\n",
              "    <tr>\n",
              "      <th>1</th>\n",
              "      <td>0</td>\n",
              "      <td>You do know west teams play against west teams...</td>\n",
              "      <td>Shbshb906</td>\n",
              "      <td>nba</td>\n",
              "      <td>-4</td>\n",
              "      <td>-1</td>\n",
              "      <td>-1</td>\n",
              "      <td>2016-11</td>\n",
              "      <td>2016-11-01 00:24:10</td>\n",
              "      <td>The blazers and Mavericks (The wests 5 and 6 s...</td>\n",
              "    </tr>\n",
              "    <tr>\n",
              "      <th>2</th>\n",
              "      <td>0</td>\n",
              "      <td>They were underdogs earlier today, but since G...</td>\n",
              "      <td>Creepeth</td>\n",
              "      <td>nfl</td>\n",
              "      <td>3</td>\n",
              "      <td>3</td>\n",
              "      <td>0</td>\n",
              "      <td>2016-09</td>\n",
              "      <td>2016-09-22 21:45:37</td>\n",
              "      <td>They're favored to win.</td>\n",
              "    </tr>\n",
              "    <tr>\n",
              "      <th>3</th>\n",
              "      <td>0</td>\n",
              "      <td>This meme isn't funny none of the \"new york ni...</td>\n",
              "      <td>icebrotha</td>\n",
              "      <td>BlackPeopleTwitter</td>\n",
              "      <td>-8</td>\n",
              "      <td>-1</td>\n",
              "      <td>-1</td>\n",
              "      <td>2016-10</td>\n",
              "      <td>2016-10-18 21:03:47</td>\n",
              "      <td>deadass don't kill my buzz</td>\n",
              "    </tr>\n",
              "    <tr>\n",
              "      <th>4</th>\n",
              "      <td>0</td>\n",
              "      <td>I could use one of those tools.</td>\n",
              "      <td>cush2push</td>\n",
              "      <td>MaddenUltimateTeam</td>\n",
              "      <td>6</td>\n",
              "      <td>-1</td>\n",
              "      <td>-1</td>\n",
              "      <td>2016-12</td>\n",
              "      <td>2016-12-30 17:00:13</td>\n",
              "      <td>Yep can confirm I saw the tool they use for th...</td>\n",
              "    </tr>\n",
              "    <tr>\n",
              "      <th>...</th>\n",
              "      <td>...</td>\n",
              "      <td>...</td>\n",
              "      <td>...</td>\n",
              "      <td>...</td>\n",
              "      <td>...</td>\n",
              "      <td>...</td>\n",
              "      <td>...</td>\n",
              "      <td>...</td>\n",
              "      <td>...</td>\n",
              "      <td>...</td>\n",
              "    </tr>\n",
              "    <tr>\n",
              "      <th>1010821</th>\n",
              "      <td>1</td>\n",
              "      <td>I'm sure that Iran and N. Korea have the techn...</td>\n",
              "      <td>TwarkMain</td>\n",
              "      <td>reddit.com</td>\n",
              "      <td>2</td>\n",
              "      <td>2</td>\n",
              "      <td>0</td>\n",
              "      <td>2009-04</td>\n",
              "      <td>2009-04-25 00:47:52</td>\n",
              "      <td>No one is calling this an engineered pathogen,...</td>\n",
              "    </tr>\n",
              "    <tr>\n",
              "      <th>1010822</th>\n",
              "      <td>1</td>\n",
              "      <td>whatever you do, don't vote green!</td>\n",
              "      <td>BCHarvey</td>\n",
              "      <td>climate</td>\n",
              "      <td>1</td>\n",
              "      <td>1</td>\n",
              "      <td>0</td>\n",
              "      <td>2009-05</td>\n",
              "      <td>2009-05-14 22:27:40</td>\n",
              "      <td>In a move typical of their recent do-nothing a...</td>\n",
              "    </tr>\n",
              "    <tr>\n",
              "      <th>1010823</th>\n",
              "      <td>1</td>\n",
              "      <td>Perhaps this is an atheist conspiracy to make ...</td>\n",
              "      <td>rebelcommander</td>\n",
              "      <td>atheism</td>\n",
              "      <td>1</td>\n",
              "      <td>1</td>\n",
              "      <td>0</td>\n",
              "      <td>2009-01</td>\n",
              "      <td>2009-01-11 00:22:57</td>\n",
              "      <td>Screw the Disabled--I've got to get to Church ...</td>\n",
              "    </tr>\n",
              "    <tr>\n",
              "      <th>1010824</th>\n",
              "      <td>1</td>\n",
              "      <td>The Slavs got their own country - it is called...</td>\n",
              "      <td>catsi</td>\n",
              "      <td>worldnews</td>\n",
              "      <td>1</td>\n",
              "      <td>1</td>\n",
              "      <td>0</td>\n",
              "      <td>2009-01</td>\n",
              "      <td>2009-01-23 21:12:49</td>\n",
              "      <td>I've always been unsettled by that. I hear a l...</td>\n",
              "    </tr>\n",
              "    <tr>\n",
              "      <th>1010825</th>\n",
              "      <td>1</td>\n",
              "      <td>values, as in capitalism .. there is good mone...</td>\n",
              "      <td>frogking</td>\n",
              "      <td>politics</td>\n",
              "      <td>2</td>\n",
              "      <td>2</td>\n",
              "      <td>0</td>\n",
              "      <td>2009-01</td>\n",
              "      <td>2009-01-24 06:20:14</td>\n",
              "      <td>Why do the people who make our laws seem unabl...</td>\n",
              "    </tr>\n",
              "  </tbody>\n",
              "</table>\n",
              "<p>1010773 rows × 10 columns</p>\n",
              "</div>"
            ],
            "text/plain": [
              "         label  ...                                     parent_comment\n",
              "0            0  ...  Yeah, I get that argument. At this point, I'd ...\n",
              "1            0  ...  The blazers and Mavericks (The wests 5 and 6 s...\n",
              "2            0  ...                            They're favored to win.\n",
              "3            0  ...                         deadass don't kill my buzz\n",
              "4            0  ...  Yep can confirm I saw the tool they use for th...\n",
              "...        ...  ...                                                ...\n",
              "1010821      1  ...  No one is calling this an engineered pathogen,...\n",
              "1010822      1  ...  In a move typical of their recent do-nothing a...\n",
              "1010823      1  ...  Screw the Disabled--I've got to get to Church ...\n",
              "1010824      1  ...  I've always been unsettled by that. I hear a l...\n",
              "1010825      1  ...  Why do the people who make our laws seem unabl...\n",
              "\n",
              "[1010773 rows x 10 columns]"
            ]
          },
          "metadata": {
            "tags": []
          },
          "execution_count": 8
        }
      ]
    },
    {
      "cell_type": "markdown",
      "metadata": {
        "id": "DD4_NzlgvHhv"
      },
      "source": [
        "Extracting the comments and the labels of the dataset as numpy ndarrays"
      ]
    },
    {
      "cell_type": "code",
      "metadata": {
        "id": "cxC4TqxaygWp"
      },
      "source": [
        "import numpy as np"
      ],
      "execution_count": 9,
      "outputs": []
    },
    {
      "cell_type": "code",
      "metadata": {
        "id": "hD1wKvKIvPBD"
      },
      "source": [
        "parent_comments = df.parent_comment.values\n",
        "comments = df.comment.values\n",
        "labels = df.label.values"
      ],
      "execution_count": 10,
      "outputs": []
    },
    {
      "cell_type": "markdown",
      "metadata": {
        "id": "EwRQWq9FP8um"
      },
      "source": [
        "Tokenization"
      ]
    },
    {
      "cell_type": "code",
      "metadata": {
        "colab": {
          "base_uri": "https://localhost:8080/",
          "height": 181,
          "referenced_widgets": [
            "c1db7c49437449e785ad8a6e31d611f7",
            "a770fb1aa6ae4b58ab43ae4a038471a5",
            "20eb6b6855074c7dbe096c1ee221f2de",
            "591f893f82ef4abfa305f5c78cdb9d8d",
            "6affcaad8cb44e9baf36b700c0fe9700",
            "bb77ae3684b44988b8ad93a9b5ee64f7",
            "89e82ed596ec4c8fa5b75bf35a490d82",
            "8add531420d14331a3183085d26e2813",
            "5c78323514d341718d6967cd39306b08",
            "4a06ca7b8acf49b794a1cd1bad8ec67e",
            "42101f0aa3964f4b8b247909930d9b99",
            "533fe64da67b4963bc837510a2e050fe",
            "1121419afd214889898b08a4081bc235",
            "b51644fad4a54bedacb820018768f912",
            "947d8aff50364baf886d03a3291f34d0",
            "8c505ecacaf64128b1b5b342d19f42ed",
            "b312931169ff4e4492da90062579e4ab",
            "a98cd385ca0441f69c776bfcfc092215",
            "1ec24cb022d94e1b9d0d883d32ca6849",
            "af21263cdd12498097d005f21dc0566b",
            "24cdad583c5b44ee86ce31e6e6bc9633",
            "23586db1081047609f1419a11fea3ac6",
            "1f34bad7afa1407da331f99634910afe",
            "5825559816294d0ebf225037f706c057"
          ]
        },
        "id": "f1SCKbHgP8Y9",
        "outputId": "533a0907-3ee9-4a3f-f638-4f45f56aebdb"
      },
      "source": [
        "from transformers import BertTokenizer\n",
        "\n",
        "# Load the BERT tokenizer.\n",
        "print('Loading BERT tokenizer...')\n",
        "tokenizer = BertTokenizer.from_pretrained('bert-base-cased')"
      ],
      "execution_count": 11,
      "outputs": [
        {
          "output_type": "stream",
          "text": [
            "Loading BERT tokenizer...\n"
          ],
          "name": "stdout"
        },
        {
          "output_type": "display_data",
          "data": {
            "application/vnd.jupyter.widget-view+json": {
              "model_id": "c1db7c49437449e785ad8a6e31d611f7",
              "version_minor": 0,
              "version_major": 2
            },
            "text/plain": [
              "HBox(children=(FloatProgress(value=0.0, description='Downloading', max=213450.0, style=ProgressStyle(descripti…"
            ]
          },
          "metadata": {
            "tags": []
          }
        },
        {
          "output_type": "stream",
          "text": [
            "\n"
          ],
          "name": "stdout"
        },
        {
          "output_type": "display_data",
          "data": {
            "application/vnd.jupyter.widget-view+json": {
              "model_id": "5c78323514d341718d6967cd39306b08",
              "version_minor": 0,
              "version_major": 2
            },
            "text/plain": [
              "HBox(children=(FloatProgress(value=0.0, description='Downloading', max=29.0, style=ProgressStyle(description_w…"
            ]
          },
          "metadata": {
            "tags": []
          }
        },
        {
          "output_type": "stream",
          "text": [
            "\n"
          ],
          "name": "stdout"
        },
        {
          "output_type": "display_data",
          "data": {
            "application/vnd.jupyter.widget-view+json": {
              "model_id": "b312931169ff4e4492da90062579e4ab",
              "version_minor": 0,
              "version_major": 2
            },
            "text/plain": [
              "HBox(children=(FloatProgress(value=0.0, description='Downloading', max=435797.0, style=ProgressStyle(descripti…"
            ]
          },
          "metadata": {
            "tags": []
          }
        },
        {
          "output_type": "stream",
          "text": [
            "\n"
          ],
          "name": "stdout"
        }
      ]
    },
    {
      "cell_type": "markdown",
      "metadata": {
        "id": "45DxQTTmkOf2"
      },
      "source": [
        "# Tokenize and Split Data"
      ]
    },
    {
      "cell_type": "markdown",
      "metadata": {
        "id": "HCZcGmabstmi"
      },
      "source": [
        "## Combine parent comments and comments"
      ]
    },
    {
      "cell_type": "code",
      "metadata": {
        "id": "ZOuvSiAiEfvA"
      },
      "source": [
        "combined = [list(i) for i in zip(parent_comments, comments)]"
      ],
      "execution_count": 12,
      "outputs": []
    },
    {
      "cell_type": "markdown",
      "metadata": {
        "id": "HDkleOt85J6s"
      },
      "source": [
        "## Tokenize using batch encode"
      ]
    },
    {
      "cell_type": "code",
      "metadata": {
        "colab": {
          "base_uri": "https://localhost:8080/"
        },
        "id": "Xg1QzQ12EfvB",
        "outputId": "fe5f5d76-610c-48cc-cc04-9eb4084fce3b"
      },
      "source": [
        "batch_encoded_dict = tokenizer.batch_encode_plus(\n",
        "                      combined,\n",
        "                      add_special_tokens = True,\n",
        "                      max_length = 50,\n",
        "                      pad_to_max_length = True,\n",
        "                      return_token_type_ids=True,\n",
        "                      return_attention_mask = True,\n",
        "                      return_tensors = 'tf'\n",
        "                     )"
      ],
      "execution_count": 13,
      "outputs": [
        {
          "output_type": "stream",
          "text": [
            "Truncation was not explicitly activated but `max_length` is provided a specific value, please use `truncation=True` to explicitly truncate examples to max length. Defaulting to 'longest_first' truncation strategy. If you encode pairs of sequences (GLUE-style) with the tokenizer you can select this strategy more precisely by providing a specific strategy to `truncation`.\n",
            "/usr/local/lib/python3.7/dist-packages/transformers/tokenization_utils_base.py:2079: FutureWarning: The `pad_to_max_length` argument is deprecated and will be removed in a future version, use `padding=True` or `padding='longest'` to pad to the longest sequence in the batch, or use `padding='max_length'` to pad to a max length. In this case, you can give a specific length with `max_length` (e.g. `max_length=45`) or leave max_length to None to pad to the maximal input size of the model (e.g. 512 for Bert).\n",
            "  FutureWarning,\n"
          ],
          "name": "stderr"
        }
      ]
    },
    {
      "cell_type": "code",
      "metadata": {
        "id": "5vIDVRE3HUeT"
      },
      "source": [
        "labels = tf.convert_to_tensor(labels)"
      ],
      "execution_count": 14,
      "outputs": []
    },
    {
      "cell_type": "code",
      "metadata": {
        "colab": {
          "base_uri": "https://localhost:8080/"
        },
        "id": "ShcOkPgNHWow",
        "outputId": "828925b1-bece-4e9c-e725-c33d8edec755"
      },
      "source": [
        "labels"
      ],
      "execution_count": 15,
      "outputs": [
        {
          "output_type": "execute_result",
          "data": {
            "text/plain": [
              "<tf.Tensor: shape=(1010773,), dtype=int64, numpy=array([0, 0, 0, ..., 1, 1, 1])>"
            ]
          },
          "metadata": {
            "tags": []
          },
          "execution_count": 15
        }
      ]
    },
    {
      "cell_type": "markdown",
      "metadata": {
        "id": "ZhVLgbIRbxEP"
      },
      "source": [
        "### Combine the training inputs into a tensorflow dataset"
      ]
    },
    {
      "cell_type": "code",
      "metadata": {
        "id": "HXveiOejgFng"
      },
      "source": [
        "def example_to_features(input_ids, attention_masks, token_type_ids, y):\n",
        "  return {\"input_ids\": input_ids,\n",
        "          \"token_type_ids\": token_type_ids,\n",
        "          \"attention_mask\": attention_masks}, y\n",
        "\n",
        "dataset = tf.data.Dataset.from_tensor_slices((batch_encoded_dict['input_ids'], batch_encoded_dict['token_type_ids'], batch_encoded_dict['attention_mask'], \n",
        "                                              labels)).map(example_to_features)\n"
      ],
      "execution_count": 16,
      "outputs": []
    },
    {
      "cell_type": "markdown",
      "metadata": {
        "id": "ZI5UMxw2fTi3"
      },
      "source": [
        "### Split the tensorflow dataset into Training, Validation, Test"
      ]
    },
    {
      "cell_type": "code",
      "metadata": {
        "colab": {
          "base_uri": "https://localhost:8080/"
        },
        "id": "6wVMf2VcIU_X",
        "outputId": "a641b3c7-d7e0-4300-9810-01ea519d3e8a"
      },
      "source": [
        "# Train on 10% of the data, Validate on 10% of the data, Test on 80% of the data\n",
        "# Calculate the number of samples to include in each set\n",
        "dataset_size = len(dataset)\n",
        "train_size = int(0.1 * dataset_size)\n",
        "val_size = int(0.1 * dataset_size)\n",
        "test_size = int(0.8 * dataset_size)\n",
        "dataset = dataset.shuffle(dataset_size)\n",
        "train_dataset = dataset.take(train_size)\n",
        "test_dataset = dataset.skip(train_size)\n",
        "val_dataset = dataset.skip(test_size)\n",
        "test_dataset = dataset.take(test_size)\n",
        "\n",
        "print('{:>5,} training samples'.format(train_size))\n",
        "print('{:>5,} validation samples'.format(val_size))\n",
        "print('{:>5,} test samples'.format(test_size))"
      ],
      "execution_count": 17,
      "outputs": [
        {
          "output_type": "stream",
          "text": [
            "101,077 training samples\n",
            "101,077 validation samples\n",
            "808,618 test samples\n"
          ],
          "name": "stdout"
        }
      ]
    },
    {
      "cell_type": "markdown",
      "metadata": {
        "id": "jsBO-sr9TtvY"
      },
      "source": [
        "# Modeling with Various Hyperparameters"
      ]
    },
    {
      "cell_type": "markdown",
      "metadata": {
        "id": "zhI777skt9OY"
      },
      "source": [
        "Define function that takes a EvalPrediction and outputs metrics as a dictionary (string to value)"
      ]
    },
    {
      "cell_type": "code",
      "metadata": {
        "id": "7f4gIzBKt_Yj"
      },
      "source": [
        "def compute_metrics(eval_pred):\n",
        "    predictions, labels = eval_pred\n",
        "    preds_flat = np.argmax(predictions, axis=1).flatten()\n",
        "    labels_flat = labels.flatten()\n",
        "    acc = np.sum(preds_flat == labels_flat) / len(labels_flat)\n",
        "    return {'accuracy': acc}"
      ],
      "execution_count": 18,
      "outputs": []
    },
    {
      "cell_type": "markdown",
      "metadata": {
        "id": "TIfYs5hgUvph"
      },
      "source": [
        "## Training batch size 16, Evaluation batch size 64, Learning rate 5e-5, No. of Epochs 2, Weight decay 0.01, Trained on 101,077 examples, Validated on 101,077 examples, Tested on 808,618 examples, Hidden dropout prob 0.1"
      ]
    },
    {
      "cell_type": "code",
      "metadata": {
        "id": "lURjgapfVDX4",
        "colab": {
          "base_uri": "https://localhost:8080/",
          "height": 66,
          "referenced_widgets": [
            "43f1ae38aac849f880046b172837a132",
            "874fb64beac04ba18afa3572faf59c2f",
            "921f67cd46124fd79416a85b8037c011",
            "b3531af339e54a8f9845547deea7ec41",
            "1b60cb991c8c4002a21928873168764e",
            "a76bba0e85604e7ebb45fc471469e607",
            "d0d4a117c0a04cebacd2a3a1a193e36b",
            "7ece63c8eac140f39e7f6c5ca8b87954"
          ]
        },
        "outputId": "f77a9d1c-cf1e-417c-fa8d-428c232224a6"
      },
      "source": [
        "from transformers import TFBertForSequenceClassification, TFTrainer, TFTrainingArguments, BertConfig\n",
        "\n",
        "config = BertConfig.from_pretrained('bert-base-cased', hidden_dropout_prob=0.1, num_labels=2)"
      ],
      "execution_count": 19,
      "outputs": [
        {
          "output_type": "display_data",
          "data": {
            "application/vnd.jupyter.widget-view+json": {
              "model_id": "43f1ae38aac849f880046b172837a132",
              "version_minor": 0,
              "version_major": 2
            },
            "text/plain": [
              "HBox(children=(FloatProgress(value=0.0, description='Downloading', max=433.0, style=ProgressStyle(description_…"
            ]
          },
          "metadata": {
            "tags": []
          }
        },
        {
          "output_type": "stream",
          "text": [
            "\n"
          ],
          "name": "stdout"
        }
      ]
    },
    {
      "cell_type": "markdown",
      "metadata": {
        "id": "F5ykxy1ScaXr"
      },
      "source": [
        "Build TFTrainer"
      ]
    },
    {
      "cell_type": "code",
      "metadata": {
        "colab": {
          "base_uri": "https://localhost:8080/",
          "height": 154,
          "referenced_widgets": [
            "4527229846184b699bb47a68b94b4f03",
            "9921fd6011784e01b15d89876c5a62ac",
            "27ed373f57ee485cab342b43fd6ab703",
            "df345024457644a18df62bd28558627f",
            "866e25585896400e85593e549624f389",
            "d88254c7da954005ba8bde9b0cd53183",
            "9aa61deacdd14d2b8733bd122cba7620",
            "3ed5c3cd5e9c40ddbbe4ca53f2591532"
          ]
        },
        "id": "beBtyYJmUQmb",
        "outputId": "71a7b0e6-8581-4957-b367-fec2cbfc5f10"
      },
      "source": [
        "training_args = TFTrainingArguments(\n",
        "    output_dir='./results',          # output directory\n",
        "    do_train=True,\n",
        "    do_eval=True,\n",
        "    evaluation_strategy = \"epoch\",\n",
        "    num_train_epochs=2,              # total number of training epochs\n",
        "    per_device_train_batch_size=16,  # batch size per device during training\n",
        "    per_device_eval_batch_size=64,   # batch size for evaluation\n",
        "    learning_rate=5e-5,              # learning rate\n",
        "    warmup_steps=500,                # number of warmup steps for learning rate scheduler\n",
        "    weight_decay=0.01,               # strength of weight decay\n",
        ")\n",
        "\n",
        "with training_args.strategy.scope():\n",
        "    # Load TFBertForSequenceClassification, the pretrained BERT model with a single \n",
        "    # linear classification layer on top. \n",
        "    model = TFBertForSequenceClassification.from_pretrained(\n",
        "        \"bert-base-cased\", # Use the 12-layer BERT model, with cased vocab.\n",
        "        config = config,   \n",
        "    )\n",
        "\n",
        "trainer = TFTrainer(\n",
        "    model=model,                         # the instantiated 🤗 Transformers model to be trained\n",
        "    args=training_args,                  # training arguments, defined above\n",
        "    train_dataset=train_dataset,         # training dataset\n",
        "    eval_dataset=val_dataset,            # evaluation dataset\n",
        "    compute_metrics=compute_metrics     # function that computes metrics \n",
        ")"
      ],
      "execution_count": 20,
      "outputs": [
        {
          "output_type": "display_data",
          "data": {
            "application/vnd.jupyter.widget-view+json": {
              "model_id": "4527229846184b699bb47a68b94b4f03",
              "version_minor": 0,
              "version_major": 2
            },
            "text/plain": [
              "HBox(children=(FloatProgress(value=0.0, description='Downloading', max=526681800.0, style=ProgressStyle(descri…"
            ]
          },
          "metadata": {
            "tags": []
          }
        },
        {
          "output_type": "stream",
          "text": [
            "\n"
          ],
          "name": "stdout"
        },
        {
          "output_type": "stream",
          "text": [
            "All model checkpoint layers were used when initializing TFBertForSequenceClassification.\n",
            "\n",
            "Some layers of TFBertForSequenceClassification were not initialized from the model checkpoint at bert-base-cased and are newly initialized: ['classifier']\n",
            "You should probably TRAIN this model on a down-stream task to be able to use it for predictions and inference.\n"
          ],
          "name": "stderr"
        }
      ]
    },
    {
      "cell_type": "markdown",
      "metadata": {
        "id": "g_Z2ZBH6Qiqt"
      },
      "source": [
        "Train and Validate"
      ]
    },
    {
      "cell_type": "code",
      "metadata": {
        "id": "XmV1EDN90XOc"
      },
      "source": [
        "import transformers\n",
        "\n",
        "transformers.logging.set_verbosity_info()"
      ],
      "execution_count": 21,
      "outputs": []
    },
    {
      "cell_type": "code",
      "metadata": {
        "colab": {
          "base_uri": "https://localhost:8080/"
        },
        "id": "_h-dYj7JQhR7",
        "outputId": "23b2fc4d-2212-489b-8246-31b0c38877cd"
      },
      "source": [
        "trainer.train()"
      ],
      "execution_count": 22,
      "outputs": [
        {
          "output_type": "stream",
          "text": [
            "***** Running training *****\n",
            "  Num examples = 101077\n",
            "  Num Epochs = 2.0\n",
            "  Instantaneous batch size per device = 16\n",
            "  Total train batch size (w. parallel, distributed & accumulation) = 16\n",
            "  Gradient Accumulation steps = 1\n",
            "  Steps per epoch = 6318\n",
            "  Total optimization steps = 12636\n"
          ],
          "name": "stderr"
        },
        {
          "output_type": "stream",
          "text": [
            "WARNING:tensorflow:The parameters `output_attentions`, `output_hidden_states` and `use_cache` cannot be updated when calling a model.They have to be set to True/False in the config object (i.e.: `config=XConfig.from_pretrained('name', output_attentions=True)`).\n",
            "WARNING:tensorflow:AutoGraph could not transform <bound method Socket.send of <zmq.sugar.socket.Socket object at 0x7f5496a74d70>> and will run it as-is.\n",
            "Please report this to the TensorFlow team. When filing the bug, set the verbosity to 10 (on Linux, `export AUTOGRAPH_VERBOSITY=10`) and attach the full output.\n",
            "Cause: module, class, method, function, traceback, frame, or code object was expected, got cython_function_or_method\n",
            "To silence this warning, decorate the function with @tf.autograph.experimental.do_not_convert\n",
            "WARNING: AutoGraph could not transform <bound method Socket.send of <zmq.sugar.socket.Socket object at 0x7f5496a74d70>> and will run it as-is.\n",
            "Please report this to the TensorFlow team. When filing the bug, set the verbosity to 10 (on Linux, `export AUTOGRAPH_VERBOSITY=10`) and attach the full output.\n",
            "Cause: module, class, method, function, traceback, frame, or code object was expected, got cython_function_or_method\n",
            "To silence this warning, decorate the function with @tf.autograph.experimental.do_not_convert\n",
            "WARNING:tensorflow:AutoGraph could not transform <function wrap at 0x7f54b2322c20> and will run it as-is.\n",
            "Cause: while/else statement not yet supported\n",
            "To silence this warning, decorate the function with @tf.autograph.experimental.do_not_convert\n",
            "WARNING: AutoGraph could not transform <function wrap at 0x7f54b2322c20> and will run it as-is.\n",
            "Cause: while/else statement not yet supported\n",
            "To silence this warning, decorate the function with @tf.autograph.experimental.do_not_convert\n",
            "WARNING:tensorflow:The parameter `return_dict` cannot be set in graph mode and will always be set to `True`.\n",
            "WARNING:tensorflow:The parameters `output_attentions`, `output_hidden_states` and `use_cache` cannot be updated when calling a model.They have to be set to True/False in the config object (i.e.: `config=XConfig.from_pretrained('name', output_attentions=True)`).\n",
            "WARNING:tensorflow:The parameter `return_dict` cannot be set in graph mode and will always be set to `True`.\n"
          ],
          "name": "stdout"
        },
        {
          "output_type": "stream",
          "text": [
            "{'loss': 0.64429796, 'learning_rate': 5e-05, 'epoch': 0.07913896802785692, 'step': 500}\n",
            "Saving checkpoint for step 500 at ./results/checkpoint/ckpt-1\n",
            "{'loss': 0.6232622, 'learning_rate': 4.7940008e-05, 'epoch': 0.15827793605571383, 'step': 1000}\n",
            "Saving checkpoint for step 1000 at ./results/checkpoint/ckpt-2\n",
            "{'loss': 0.6072424, 'learning_rate': 4.5880024e-05, 'epoch': 0.23741690408357075, 'step': 1500}\n",
            "Saving checkpoint for step 1500 at ./results/checkpoint/ckpt-3\n",
            "{'loss': 0.59854627, 'learning_rate': 4.3820037e-05, 'epoch': 0.31655587211142766, 'step': 2000}\n",
            "Saving checkpoint for step 2000 at ./results/checkpoint/ckpt-4\n",
            "{'loss': 0.59332687, 'learning_rate': 4.1760046e-05, 'epoch': 0.3956948401392846, 'step': 2500}\n",
            "Saving checkpoint for step 2500 at ./results/checkpoint/ckpt-5\n",
            "{'loss': 0.5889442, 'learning_rate': 3.9700066e-05, 'epoch': 0.4748338081671415, 'step': 3000}\n",
            "Saving checkpoint for step 3000 at ./results/checkpoint/ckpt-6\n",
            "{'loss': 0.58284205, 'learning_rate': 3.764008e-05, 'epoch': 0.5539727761949984, 'step': 3500}\n",
            "Saving checkpoint for step 3500 at ./results/checkpoint/ckpt-7\n",
            "{'loss': 0.5792727, 'learning_rate': 3.5580088e-05, 'epoch': 0.6331117442228553, 'step': 4000}\n",
            "Saving checkpoint for step 4000 at ./results/checkpoint/ckpt-8\n",
            "{'loss': 0.5754864, 'learning_rate': 3.3520104e-05, 'epoch': 0.7122507122507122, 'step': 4500}\n",
            "Saving checkpoint for step 4500 at ./results/checkpoint/ckpt-9\n",
            "{'loss': 0.5716346, 'learning_rate': 3.1460117e-05, 'epoch': 0.7913896802785692, 'step': 5000}\n",
            "Saving checkpoint for step 5000 at ./results/checkpoint/ckpt-10\n",
            "{'loss': 0.5684816, 'learning_rate': 2.9400131e-05, 'epoch': 0.8705286483064261, 'step': 5500}\n",
            "Saving checkpoint for step 5500 at ./results/checkpoint/ckpt-11\n",
            "{'loss': 0.5657777, 'learning_rate': 2.7340144e-05, 'epoch': 0.949667616334283, 'step': 6000}\n",
            "Saving checkpoint for step 6000 at ./results/checkpoint/ckpt-12\n",
            "{'loss': 0.50554454, 'learning_rate': 2.5280158e-05, 'epoch': 1.02880658436214, 'step': 6500}\n",
            "Saving checkpoint for step 6500 at ./results/checkpoint/ckpt-13\n",
            "{'loss': 0.52151644, 'learning_rate': 2.3220171e-05, 'epoch': 1.1079455523899968, 'step': 7000}\n",
            "Saving checkpoint for step 7000 at ./results/checkpoint/ckpt-14\n",
            "{'loss': 0.5241562, 'learning_rate': 2.1160185e-05, 'epoch': 1.1870845204178537, 'step': 7500}\n",
            "Saving checkpoint for step 7500 at ./results/checkpoint/ckpt-15\n",
            "{'loss': 0.52273655, 'learning_rate': 1.9100196e-05, 'epoch': 1.2662234884457106, 'step': 8000}\n",
            "Saving checkpoint for step 8000 at ./results/checkpoint/ckpt-16\n",
            "{'loss': 0.52177674, 'learning_rate': 1.7040209e-05, 'epoch': 1.3453624564735676, 'step': 8500}\n",
            "Saving checkpoint for step 8500 at ./results/checkpoint/ckpt-17\n",
            "{'loss': 0.5195359, 'learning_rate': 1.4980222e-05, 'epoch': 1.4245014245014245, 'step': 9000}\n",
            "Saving checkpoint for step 9000 at ./results/checkpoint/ckpt-18\n",
            "{'loss': 0.5167059, 'learning_rate': 1.2920236e-05, 'epoch': 1.5036403925292814, 'step': 9500}\n",
            "Saving checkpoint for step 9500 at ./results/checkpoint/ckpt-19\n",
            "{'loss': 0.514968, 'learning_rate': 1.086025e-05, 'epoch': 1.5827793605571383, 'step': 10000}\n",
            "Saving checkpoint for step 10000 at ./results/checkpoint/ckpt-20\n",
            "{'loss': 0.5134703, 'learning_rate': 8.800262e-06, 'epoch': 1.6619183285849952, 'step': 10500}\n",
            "Saving checkpoint for step 10500 at ./results/checkpoint/ckpt-21\n",
            "{'loss': 0.51243997, 'learning_rate': 6.740277e-06, 'epoch': 1.7410572966128521, 'step': 11000}\n",
            "Saving checkpoint for step 11000 at ./results/checkpoint/ckpt-22\n",
            "{'loss': 0.51184464, 'learning_rate': 4.6802907e-06, 'epoch': 1.820196264640709, 'step': 11500}\n",
            "Saving checkpoint for step 11500 at ./results/checkpoint/ckpt-23\n",
            "{'loss': 0.5111057, 'learning_rate': 2.6203036e-06, 'epoch': 1.899335232668566, 'step': 12000}\n",
            "Saving checkpoint for step 12000 at ./results/checkpoint/ckpt-24\n",
            "{'loss': 0.5106086, 'learning_rate': 5.6031644e-07, 'epoch': 1.9784742006964229, 'step': 12500}\n",
            "Saving checkpoint for step 12500 at ./results/checkpoint/ckpt-25\n",
            "Training took: 0:27:50.115978\n"
          ],
          "name": "stderr"
        }
      ]
    },
    {
      "cell_type": "markdown",
      "metadata": {
        "id": "3C5kpxvGQ63z"
      },
      "source": [
        "Evaluate on test set"
      ]
    },
    {
      "cell_type": "code",
      "metadata": {
        "colab": {
          "base_uri": "https://localhost:8080/"
        },
        "id": "_4wLyfHhQ2iY",
        "outputId": "221e2d5c-899d-4093-e928-bbd562c99310"
      },
      "source": [
        "trainer.evaluate(test_dataset)"
      ],
      "execution_count": 23,
      "outputs": [
        {
          "output_type": "stream",
          "text": [
            "***** Running Evaluation *****\n",
            "  Num examples in dataset = 808618\n",
            "  Num examples in used in evaluation = 808640\n",
            "  Batch size = 64\n"
          ],
          "name": "stderr"
        },
        {
          "output_type": "stream",
          "text": [
            "WARNING:tensorflow:The parameters `output_attentions`, `output_hidden_states` and `use_cache` cannot be updated when calling a model.They have to be set to True/False in the config object (i.e.: `config=XConfig.from_pretrained('name', output_attentions=True)`).\n",
            "WARNING:tensorflow:The parameter `return_dict` cannot be set in graph mode and will always be set to `True`.\n"
          ],
          "name": "stdout"
        },
        {
          "output_type": "stream",
          "text": [
            "{'eval_loss': 0.4877101908760388, 'eval_accuracy': 0.7621747625643055, 'epoch': 2.0, 'step': 12636}\n"
          ],
          "name": "stderr"
        },
        {
          "output_type": "execute_result",
          "data": {
            "text/plain": [
              "{'eval_accuracy': 0.7621747625643055, 'eval_loss': 0.4877101908760388}"
            ]
          },
          "metadata": {
            "tags": []
          },
          "execution_count": 23
        }
      ]
    },
    {
      "cell_type": "markdown",
      "metadata": {
        "id": "FDziPO2QAgzd"
      },
      "source": [
        "### Results"
      ]
    },
    {
      "cell_type": "code",
      "metadata": {
        "id": "J84luad9Ac3G"
      },
      "source": [
        "from sklearn.metrics import precision_score\n",
        "from sklearn.metrics import recall_score\n",
        "from sklearn.metrics import f1_score\n",
        "from sklearn.metrics import classification_report\n",
        "from sklearn.metrics import accuracy_score"
      ],
      "execution_count": 24,
      "outputs": []
    },
    {
      "cell_type": "markdown",
      "metadata": {
        "id": "7RV0xuLKBP79"
      },
      "source": [
        "Get test predictions"
      ]
    },
    {
      "cell_type": "code",
      "metadata": {
        "id": "bI36dIDDBK-3",
        "colab": {
          "base_uri": "https://localhost:8080/"
        },
        "outputId": "ef901667-5b40-4ab4-d130-5c091a1a8421"
      },
      "source": [
        "test_predictions = trainer.predict(test_dataset).label_ids"
      ],
      "execution_count": 25,
      "outputs": [
        {
          "output_type": "stream",
          "text": [
            "***** Running Prediction *****\n",
            "  Num examples in dataset = 808618\n",
            "  Batch size = 64\n"
          ],
          "name": "stderr"
        },
        {
          "output_type": "stream",
          "text": [
            "WARNING:tensorflow:The parameters `output_attentions`, `output_hidden_states` and `use_cache` cannot be updated when calling a model.They have to be set to True/False in the config object (i.e.: `config=XConfig.from_pretrained('name', output_attentions=True)`).\n",
            "WARNING:tensorflow:The parameter `return_dict` cannot be set in graph mode and will always be set to `True`.\n"
          ],
          "name": "stdout"
        }
      ]
    },
    {
      "cell_type": "code",
      "metadata": {
        "id": "CZM3feCIBYRl"
      },
      "source": [
        "test_predictions"
      ],
      "execution_count": null,
      "outputs": []
    },
    {
      "cell_type": "markdown",
      "metadata": {
        "id": "Z29VmmOPRNTy"
      },
      "source": [
        "Get true test labels"
      ]
    },
    {
      "cell_type": "code",
      "metadata": {
        "id": "FRR4Dp-ZBaqg"
      },
      "source": [
        "test_numpy = list(test_dataset.as_numpy_iterator())\n",
        "true_test_labels = [elem[1] for elem in test_numpy]"
      ],
      "execution_count": 26,
      "outputs": []
    },
    {
      "cell_type": "code",
      "metadata": {
        "id": "l7t7M5UsQs0F",
        "colab": {
          "base_uri": "https://localhost:8080/"
        },
        "outputId": "155142ea-5736-4fa5-d623-f88f4088aafc"
      },
      "source": [
        "true_test_labels"
      ],
      "execution_count": 27,
      "outputs": [
        {
          "output_type": "execute_result",
          "data": {
            "text/plain": [
              "[1,\n",
              " 1,\n",
              " 0,\n",
              " 0,\n",
              " 0,\n",
              " 0,\n",
              " 1,\n",
              " 0,\n",
              " 1,\n",
              " 1,\n",
              " 1,\n",
              " 0,\n",
              " 0,\n",
              " 0,\n",
              " 0,\n",
              " 1,\n",
              " 0,\n",
              " 0,\n",
              " 0,\n",
              " 1,\n",
              " 1,\n",
              " 1,\n",
              " 1,\n",
              " 0,\n",
              " 1,\n",
              " 1,\n",
              " 0,\n",
              " 1,\n",
              " 0,\n",
              " 1,\n",
              " 0,\n",
              " 0,\n",
              " 0,\n",
              " 0,\n",
              " 0,\n",
              " 0,\n",
              " 1,\n",
              " 1,\n",
              " 1,\n",
              " 0,\n",
              " 0,\n",
              " 1,\n",
              " 1,\n",
              " 0,\n",
              " 1,\n",
              " 0,\n",
              " 1,\n",
              " 0,\n",
              " 0,\n",
              " 0,\n",
              " 0,\n",
              " 0,\n",
              " 1,\n",
              " 1,\n",
              " 0,\n",
              " 1,\n",
              " 1,\n",
              " 1,\n",
              " 1,\n",
              " 1,\n",
              " 1,\n",
              " 1,\n",
              " 1,\n",
              " 0,\n",
              " 0,\n",
              " 0,\n",
              " 1,\n",
              " 0,\n",
              " 1,\n",
              " 0,\n",
              " 0,\n",
              " 0,\n",
              " 1,\n",
              " 0,\n",
              " 0,\n",
              " 1,\n",
              " 1,\n",
              " 1,\n",
              " 1,\n",
              " 1,\n",
              " 1,\n",
              " 1,\n",
              " 1,\n",
              " 0,\n",
              " 0,\n",
              " 1,\n",
              " 0,\n",
              " 0,\n",
              " 1,\n",
              " 0,\n",
              " 1,\n",
              " 0,\n",
              " 1,\n",
              " 0,\n",
              " 0,\n",
              " 1,\n",
              " 1,\n",
              " 1,\n",
              " 1,\n",
              " 0,\n",
              " 1,\n",
              " 1,\n",
              " 0,\n",
              " 1,\n",
              " 0,\n",
              " 1,\n",
              " 0,\n",
              " 1,\n",
              " 1,\n",
              " 1,\n",
              " 0,\n",
              " 1,\n",
              " 0,\n",
              " 0,\n",
              " 1,\n",
              " 0,\n",
              " 1,\n",
              " 0,\n",
              " 1,\n",
              " 1,\n",
              " 1,\n",
              " 1,\n",
              " 1,\n",
              " 1,\n",
              " 0,\n",
              " 0,\n",
              " 1,\n",
              " 1,\n",
              " 1,\n",
              " 0,\n",
              " 1,\n",
              " 1,\n",
              " 1,\n",
              " 1,\n",
              " 0,\n",
              " 1,\n",
              " 0,\n",
              " 1,\n",
              " 1,\n",
              " 1,\n",
              " 1,\n",
              " 1,\n",
              " 0,\n",
              " 0,\n",
              " 0,\n",
              " 0,\n",
              " 1,\n",
              " 0,\n",
              " 0,\n",
              " 1,\n",
              " 1,\n",
              " 0,\n",
              " 0,\n",
              " 0,\n",
              " 1,\n",
              " 1,\n",
              " 1,\n",
              " 1,\n",
              " 0,\n",
              " 0,\n",
              " 1,\n",
              " 1,\n",
              " 0,\n",
              " 0,\n",
              " 0,\n",
              " 1,\n",
              " 0,\n",
              " 1,\n",
              " 1,\n",
              " 0,\n",
              " 0,\n",
              " 1,\n",
              " 1,\n",
              " 1,\n",
              " 0,\n",
              " 0,\n",
              " 0,\n",
              " 1,\n",
              " 1,\n",
              " 1,\n",
              " 1,\n",
              " 1,\n",
              " 0,\n",
              " 0,\n",
              " 0,\n",
              " 1,\n",
              " 0,\n",
              " 0,\n",
              " 1,\n",
              " 0,\n",
              " 1,\n",
              " 1,\n",
              " 0,\n",
              " 1,\n",
              " 0,\n",
              " 0,\n",
              " 0,\n",
              " 1,\n",
              " 1,\n",
              " 0,\n",
              " 1,\n",
              " 1,\n",
              " 0,\n",
              " 1,\n",
              " 1,\n",
              " 0,\n",
              " 1,\n",
              " 0,\n",
              " 1,\n",
              " 1,\n",
              " 0,\n",
              " 1,\n",
              " 0,\n",
              " 0,\n",
              " 1,\n",
              " 1,\n",
              " 0,\n",
              " 1,\n",
              " 0,\n",
              " 0,\n",
              " 0,\n",
              " 0,\n",
              " 0,\n",
              " 0,\n",
              " 1,\n",
              " 0,\n",
              " 0,\n",
              " 0,\n",
              " 1,\n",
              " 0,\n",
              " 0,\n",
              " 0,\n",
              " 0,\n",
              " 0,\n",
              " 1,\n",
              " 1,\n",
              " 1,\n",
              " 0,\n",
              " 0,\n",
              " 0,\n",
              " 0,\n",
              " 0,\n",
              " 1,\n",
              " 1,\n",
              " 1,\n",
              " 1,\n",
              " 0,\n",
              " 0,\n",
              " 0,\n",
              " 1,\n",
              " 0,\n",
              " 0,\n",
              " 1,\n",
              " 0,\n",
              " 1,\n",
              " 0,\n",
              " 1,\n",
              " 1,\n",
              " 0,\n",
              " 0,\n",
              " 1,\n",
              " 1,\n",
              " 1,\n",
              " 0,\n",
              " 0,\n",
              " 1,\n",
              " 1,\n",
              " 0,\n",
              " 0,\n",
              " 0,\n",
              " 1,\n",
              " 0,\n",
              " 1,\n",
              " 0,\n",
              " 0,\n",
              " 1,\n",
              " 1,\n",
              " 0,\n",
              " 1,\n",
              " 1,\n",
              " 0,\n",
              " 0,\n",
              " 0,\n",
              " 1,\n",
              " 1,\n",
              " 1,\n",
              " 0,\n",
              " 0,\n",
              " 1,\n",
              " 0,\n",
              " 1,\n",
              " 1,\n",
              " 0,\n",
              " 1,\n",
              " 0,\n",
              " 0,\n",
              " 0,\n",
              " 0,\n",
              " 1,\n",
              " 0,\n",
              " 1,\n",
              " 0,\n",
              " 0,\n",
              " 0,\n",
              " 0,\n",
              " 1,\n",
              " 1,\n",
              " 0,\n",
              " 1,\n",
              " 0,\n",
              " 0,\n",
              " 1,\n",
              " 0,\n",
              " 0,\n",
              " 1,\n",
              " 1,\n",
              " 1,\n",
              " 1,\n",
              " 0,\n",
              " 0,\n",
              " 0,\n",
              " 0,\n",
              " 1,\n",
              " 0,\n",
              " 0,\n",
              " 0,\n",
              " 0,\n",
              " 1,\n",
              " 1,\n",
              " 0,\n",
              " 1,\n",
              " 1,\n",
              " 0,\n",
              " 1,\n",
              " 1,\n",
              " 1,\n",
              " 1,\n",
              " 0,\n",
              " 1,\n",
              " 1,\n",
              " 0,\n",
              " 1,\n",
              " 0,\n",
              " 0,\n",
              " 1,\n",
              " 1,\n",
              " 1,\n",
              " 0,\n",
              " 1,\n",
              " 0,\n",
              " 1,\n",
              " 0,\n",
              " 0,\n",
              " 0,\n",
              " 1,\n",
              " 1,\n",
              " 0,\n",
              " 1,\n",
              " 1,\n",
              " 1,\n",
              " 0,\n",
              " 1,\n",
              " 1,\n",
              " 1,\n",
              " 1,\n",
              " 1,\n",
              " 0,\n",
              " 0,\n",
              " 1,\n",
              " 1,\n",
              " 1,\n",
              " 0,\n",
              " 1,\n",
              " 0,\n",
              " 0,\n",
              " 0,\n",
              " 1,\n",
              " 0,\n",
              " 1,\n",
              " 0,\n",
              " 1,\n",
              " 1,\n",
              " 0,\n",
              " 1,\n",
              " 1,\n",
              " 0,\n",
              " 0,\n",
              " 1,\n",
              " 0,\n",
              " 0,\n",
              " 0,\n",
              " 0,\n",
              " 1,\n",
              " 0,\n",
              " 0,\n",
              " 0,\n",
              " 0,\n",
              " 1,\n",
              " 0,\n",
              " 0,\n",
              " 1,\n",
              " 0,\n",
              " 0,\n",
              " 0,\n",
              " 1,\n",
              " 0,\n",
              " 0,\n",
              " 1,\n",
              " 1,\n",
              " 0,\n",
              " 1,\n",
              " 1,\n",
              " 0,\n",
              " 0,\n",
              " 0,\n",
              " 1,\n",
              " 1,\n",
              " 1,\n",
              " 0,\n",
              " 1,\n",
              " 1,\n",
              " 0,\n",
              " 1,\n",
              " 0,\n",
              " 0,\n",
              " 0,\n",
              " 0,\n",
              " 1,\n",
              " 0,\n",
              " 0,\n",
              " 0,\n",
              " 1,\n",
              " 1,\n",
              " 1,\n",
              " 1,\n",
              " 1,\n",
              " 0,\n",
              " 0,\n",
              " 1,\n",
              " 1,\n",
              " 1,\n",
              " 1,\n",
              " 0,\n",
              " 0,\n",
              " 0,\n",
              " 1,\n",
              " 0,\n",
              " 0,\n",
              " 1,\n",
              " 1,\n",
              " 1,\n",
              " 1,\n",
              " 0,\n",
              " 1,\n",
              " 0,\n",
              " 0,\n",
              " 0,\n",
              " 1,\n",
              " 0,\n",
              " 1,\n",
              " 0,\n",
              " 0,\n",
              " 1,\n",
              " 1,\n",
              " 0,\n",
              " 1,\n",
              " 0,\n",
              " 0,\n",
              " 0,\n",
              " 1,\n",
              " 0,\n",
              " 1,\n",
              " 0,\n",
              " 0,\n",
              " 1,\n",
              " 0,\n",
              " 1,\n",
              " 1,\n",
              " 1,\n",
              " 1,\n",
              " 0,\n",
              " 1,\n",
              " 1,\n",
              " 0,\n",
              " 1,\n",
              " 1,\n",
              " 0,\n",
              " 1,\n",
              " 0,\n",
              " 1,\n",
              " 1,\n",
              " 0,\n",
              " 0,\n",
              " 0,\n",
              " 1,\n",
              " 0,\n",
              " 0,\n",
              " 0,\n",
              " 0,\n",
              " 1,\n",
              " 0,\n",
              " 1,\n",
              " 0,\n",
              " 0,\n",
              " 0,\n",
              " 1,\n",
              " 0,\n",
              " 1,\n",
              " 1,\n",
              " 1,\n",
              " 1,\n",
              " 1,\n",
              " 0,\n",
              " 1,\n",
              " 0,\n",
              " 0,\n",
              " 1,\n",
              " 0,\n",
              " 1,\n",
              " 0,\n",
              " 1,\n",
              " 1,\n",
              " 1,\n",
              " 1,\n",
              " 1,\n",
              " 1,\n",
              " 1,\n",
              " 0,\n",
              " 1,\n",
              " 0,\n",
              " 1,\n",
              " 0,\n",
              " 1,\n",
              " 0,\n",
              " 0,\n",
              " 0,\n",
              " 0,\n",
              " 1,\n",
              " 0,\n",
              " 1,\n",
              " 1,\n",
              " 0,\n",
              " 1,\n",
              " 0,\n",
              " 1,\n",
              " 0,\n",
              " 1,\n",
              " 1,\n",
              " 1,\n",
              " 0,\n",
              " 1,\n",
              " 1,\n",
              " 1,\n",
              " 1,\n",
              " 0,\n",
              " 1,\n",
              " 0,\n",
              " 1,\n",
              " 1,\n",
              " 0,\n",
              " 0,\n",
              " 0,\n",
              " 1,\n",
              " 1,\n",
              " 0,\n",
              " 0,\n",
              " 0,\n",
              " 0,\n",
              " 0,\n",
              " 0,\n",
              " 1,\n",
              " 0,\n",
              " 1,\n",
              " 1,\n",
              " 0,\n",
              " 0,\n",
              " 1,\n",
              " 1,\n",
              " 0,\n",
              " 1,\n",
              " 0,\n",
              " 1,\n",
              " 1,\n",
              " 0,\n",
              " 0,\n",
              " 0,\n",
              " 1,\n",
              " 1,\n",
              " 0,\n",
              " 0,\n",
              " 0,\n",
              " 1,\n",
              " 1,\n",
              " 1,\n",
              " 0,\n",
              " 1,\n",
              " 1,\n",
              " 0,\n",
              " 1,\n",
              " 1,\n",
              " 0,\n",
              " 1,\n",
              " 0,\n",
              " 0,\n",
              " 0,\n",
              " 1,\n",
              " 0,\n",
              " 1,\n",
              " 0,\n",
              " 1,\n",
              " 1,\n",
              " 0,\n",
              " 1,\n",
              " 1,\n",
              " 0,\n",
              " 0,\n",
              " 1,\n",
              " 0,\n",
              " 0,\n",
              " 0,\n",
              " 1,\n",
              " 1,\n",
              " 0,\n",
              " 0,\n",
              " 0,\n",
              " 1,\n",
              " 1,\n",
              " 0,\n",
              " 0,\n",
              " 0,\n",
              " 1,\n",
              " 1,\n",
              " 0,\n",
              " 0,\n",
              " 0,\n",
              " 0,\n",
              " 1,\n",
              " 1,\n",
              " 0,\n",
              " 0,\n",
              " 0,\n",
              " 1,\n",
              " 0,\n",
              " 1,\n",
              " 1,\n",
              " 0,\n",
              " 0,\n",
              " 0,\n",
              " 0,\n",
              " 1,\n",
              " 1,\n",
              " 1,\n",
              " 1,\n",
              " 0,\n",
              " 1,\n",
              " 0,\n",
              " 1,\n",
              " 0,\n",
              " 1,\n",
              " 1,\n",
              " 0,\n",
              " 1,\n",
              " 1,\n",
              " 1,\n",
              " 0,\n",
              " 1,\n",
              " 1,\n",
              " 1,\n",
              " 1,\n",
              " 0,\n",
              " 1,\n",
              " 0,\n",
              " 1,\n",
              " 1,\n",
              " 1,\n",
              " 1,\n",
              " 1,\n",
              " 1,\n",
              " 1,\n",
              " 0,\n",
              " 1,\n",
              " 1,\n",
              " 0,\n",
              " 1,\n",
              " 1,\n",
              " 1,\n",
              " 1,\n",
              " 0,\n",
              " 1,\n",
              " 0,\n",
              " 1,\n",
              " 1,\n",
              " 1,\n",
              " 0,\n",
              " 0,\n",
              " 1,\n",
              " 1,\n",
              " 1,\n",
              " 1,\n",
              " 1,\n",
              " 0,\n",
              " 1,\n",
              " 1,\n",
              " 0,\n",
              " 0,\n",
              " 0,\n",
              " 1,\n",
              " 0,\n",
              " 0,\n",
              " 1,\n",
              " 1,\n",
              " 0,\n",
              " 1,\n",
              " 0,\n",
              " 1,\n",
              " 1,\n",
              " 0,\n",
              " 0,\n",
              " 0,\n",
              " 1,\n",
              " 0,\n",
              " 0,\n",
              " 0,\n",
              " 1,\n",
              " 1,\n",
              " 0,\n",
              " 1,\n",
              " 1,\n",
              " 0,\n",
              " 1,\n",
              " 1,\n",
              " 1,\n",
              " 1,\n",
              " 0,\n",
              " 1,\n",
              " 1,\n",
              " 1,\n",
              " 1,\n",
              " 1,\n",
              " 1,\n",
              " 0,\n",
              " 0,\n",
              " 0,\n",
              " 1,\n",
              " 1,\n",
              " 1,\n",
              " 1,\n",
              " 1,\n",
              " 1,\n",
              " 1,\n",
              " 0,\n",
              " 1,\n",
              " 1,\n",
              " 1,\n",
              " 0,\n",
              " 1,\n",
              " 0,\n",
              " 0,\n",
              " 1,\n",
              " 1,\n",
              " 0,\n",
              " 1,\n",
              " 1,\n",
              " 0,\n",
              " 1,\n",
              " 1,\n",
              " 1,\n",
              " 0,\n",
              " 1,\n",
              " 0,\n",
              " 0,\n",
              " 1,\n",
              " 1,\n",
              " 0,\n",
              " 1,\n",
              " 0,\n",
              " 1,\n",
              " 0,\n",
              " 0,\n",
              " 1,\n",
              " 1,\n",
              " 0,\n",
              " 1,\n",
              " 1,\n",
              " 1,\n",
              " 1,\n",
              " 0,\n",
              " 0,\n",
              " 1,\n",
              " 0,\n",
              " 1,\n",
              " 0,\n",
              " 1,\n",
              " 0,\n",
              " 0,\n",
              " 1,\n",
              " 1,\n",
              " 1,\n",
              " 0,\n",
              " 0,\n",
              " 1,\n",
              " 0,\n",
              " 0,\n",
              " 0,\n",
              " 0,\n",
              " 0,\n",
              " 0,\n",
              " 0,\n",
              " 1,\n",
              " 0,\n",
              " 0,\n",
              " 1,\n",
              " 1,\n",
              " 0,\n",
              " 0,\n",
              " 0,\n",
              " 0,\n",
              " 1,\n",
              " 0,\n",
              " 1,\n",
              " 0,\n",
              " 1,\n",
              " 1,\n",
              " 0,\n",
              " 0,\n",
              " 0,\n",
              " 1,\n",
              " 1,\n",
              " 1,\n",
              " 0,\n",
              " 0,\n",
              " 1,\n",
              " 1,\n",
              " 1,\n",
              " 1,\n",
              " 1,\n",
              " 0,\n",
              " 0,\n",
              " 0,\n",
              " 0,\n",
              " 1,\n",
              " 0,\n",
              " 1,\n",
              " 0,\n",
              " 0,\n",
              " 0,\n",
              " 0,\n",
              " 1,\n",
              " 0,\n",
              " 0,\n",
              " 0,\n",
              " 0,\n",
              " 0,\n",
              " 1,\n",
              " 0,\n",
              " 0,\n",
              " 0,\n",
              " 0,\n",
              " 0,\n",
              " 1,\n",
              " 0,\n",
              " 0,\n",
              " 0,\n",
              " 1,\n",
              " 0,\n",
              " 0,\n",
              " 1,\n",
              " 1,\n",
              " 0,\n",
              " 1,\n",
              " 0,\n",
              " 1,\n",
              " 0,\n",
              " 0,\n",
              " 0,\n",
              " 0,\n",
              " 0,\n",
              " 1,\n",
              " 1,\n",
              " 0,\n",
              " 0,\n",
              " 0,\n",
              " 0,\n",
              " 1,\n",
              " 0,\n",
              " 0,\n",
              " 0,\n",
              " 0,\n",
              " 0,\n",
              " 0,\n",
              " 0,\n",
              " 1,\n",
              " 1,\n",
              " 0,\n",
              " 1,\n",
              " 0,\n",
              " 0,\n",
              " 0,\n",
              " 0,\n",
              " 1,\n",
              " 1,\n",
              " 1,\n",
              " 0,\n",
              " 1,\n",
              " 1,\n",
              " 1,\n",
              " 1,\n",
              " 0,\n",
              " 1,\n",
              " 0,\n",
              " 0,\n",
              " 0,\n",
              " 0,\n",
              " 1,\n",
              " 1,\n",
              " 1,\n",
              " 0,\n",
              " 0,\n",
              " 0,\n",
              " 0,\n",
              " 0,\n",
              " 0,\n",
              " 1,\n",
              " 0,\n",
              " 0,\n",
              " 0,\n",
              " 0,\n",
              " 1,\n",
              " 1,\n",
              " 1,\n",
              " 1,\n",
              " 0,\n",
              " 0,\n",
              " 0,\n",
              " 0,\n",
              " 0,\n",
              " 1,\n",
              " 0,\n",
              " 0,\n",
              " 0,\n",
              " 1,\n",
              " 0,\n",
              " 1,\n",
              " 0,\n",
              " 0,\n",
              " 1,\n",
              " 1,\n",
              " 1,\n",
              " 1,\n",
              " 1,\n",
              " 0,\n",
              " 1,\n",
              " 0,\n",
              " 1,\n",
              " 0,\n",
              " 0,\n",
              " 1,\n",
              " 0,\n",
              " 1,\n",
              " 0,\n",
              " 1,\n",
              " 0,\n",
              " 1,\n",
              " 1,\n",
              " 0,\n",
              " 0,\n",
              " 0,\n",
              " 0,\n",
              " 0,\n",
              " 1,\n",
              " 0,\n",
              " 0,\n",
              " 1,\n",
              " 0,\n",
              " 1,\n",
              " 0,\n",
              " 1,\n",
              " 0,\n",
              " 1,\n",
              " 0,\n",
              " 1,\n",
              " 0,\n",
              " 1,\n",
              " 1,\n",
              " 0,\n",
              " 1,\n",
              " 1,\n",
              " 1,\n",
              " 1,\n",
              " 0,\n",
              " 1,\n",
              " 1,\n",
              " 0,\n",
              " 0,\n",
              " 0,\n",
              " 1,\n",
              " 1,\n",
              " 0,\n",
              " 0,\n",
              " 1,\n",
              " ...]"
            ]
          },
          "metadata": {
            "tags": []
          },
          "execution_count": 27
        }
      ]
    },
    {
      "cell_type": "markdown",
      "metadata": {
        "id": "dbBR1u3mUo3b"
      },
      "source": [
        "##### Generate Classification Report"
      ]
    },
    {
      "cell_type": "code",
      "metadata": {
        "id": "W-8pJCL-QtyT"
      },
      "source": [
        "# accuracy\n",
        "acc = accuracy_score(true_test_labels, test_predictions)\n",
        "print('Accuracy: %.3f' % acc)\n",
        "\n",
        "# precision\n",
        "precision = precision_score(true_test_labels, test_predictions, average='binary', zero_division = 0)\n",
        "print('Precision: %.3f' % precision)\n",
        "\n",
        "# recall\n",
        "recall = recall_score(true_test_labels, test_predictions, average='binary', zero_division = 0)\n",
        "print('Recall: %.3f' % recall)\n",
        "\n",
        "#f1\n",
        "score = f1_score(true_test_labels, test_predictions, average='binary')\n",
        "print('F-Measure: %.3f' % score)\n",
        "\n",
        "target_names = ['not sarc', 'sarc']\n",
        "print(classification_report(true_test_labels, test_predictions, target_names=target_names))\n"
      ],
      "execution_count": null,
      "outputs": []
    },
    {
      "cell_type": "markdown",
      "metadata": {
        "id": "ee8Cq_XzS8Xs"
      },
      "source": [
        "### Error Analysis"
      ]
    },
    {
      "cell_type": "markdown",
      "metadata": {
        "id": "iHIBY39-ReEb"
      },
      "source": [
        "Detokenize test comments and put into list"
      ]
    },
    {
      "cell_type": "code",
      "metadata": {
        "id": "4URw_cSbRspY"
      },
      "source": [
        "detokenized_comments = []\n",
        "for elem in test_numpy:\n",
        "  elem_input_ids = elem[0][\"input_ids\"]\n",
        "  elem_tokens = tokenizer.convert_ids_to_tokens(elem_input_ids)\n",
        "  detokenized_comments.append(\" \".join(elem_tokens))"
      ],
      "execution_count": 28,
      "outputs": []
    },
    {
      "cell_type": "code",
      "metadata": {
        "id": "pxGBxgosTdEH",
        "colab": {
          "base_uri": "https://localhost:8080/"
        },
        "outputId": "480a8b3d-c303-4194-9afc-d37efde0dec7"
      },
      "source": [
        "detokenized_comments[:5]"
      ],
      "execution_count": 29,
      "outputs": [
        {
          "output_type": "execute_result",
          "data": {
            "text/plain": [
              "[\"[CLS] This would totally fuck so many people ' s 401 ##k ' s and investments though ( as well as many corporations investments ) . Most peoples retirement are in oil companies so we don ##t want [SEP] Well that totally makes BP a great corporation then . [SEP]\",\n",
              " '[CLS] And we actually have a pretty solid idea of the keys to getting out of and staying out of poverty : ( 1 ) finish school ; ( 2 ) [SEP] People in poverty need to just get a loan from their parents and start a business . [SEP]',\n",
              " '[CLS] De ##pen ##ds on the drugs in question . Nobody I know would care at all if it were pot . [SEP] Does anyone call pot drugs anymore , especially people who smoke it ? [SEP] [PAD] [PAD] [PAD] [PAD] [PAD] [PAD] [PAD] [PAD] [PAD] [PAD] [PAD] [PAD] [PAD]',\n",
              " '[CLS] Done . But what do we name this one ? [SEP] High me ##lani ##n mask and low me ##lani ##n mask . [SEP] [PAD] [PAD] [PAD] [PAD] [PAD] [PAD] [PAD] [PAD] [PAD] [PAD] [PAD] [PAD] [PAD] [PAD] [PAD] [PAD] [PAD] [PAD] [PAD] [PAD] [PAD] [PAD] [PAD] [PAD] [PAD]',\n",
              " '[CLS] Man gives money to fine diner ##s in need . Can confirm , am homeless guy . [SEP] Then he came back in , handed everyone in the place $ 13 and we carried him on our shoulders to the nearest AT ##M where he withdrew even more [SEP]']"
            ]
          },
          "metadata": {
            "tags": []
          },
          "execution_count": 29
        }
      ]
    },
    {
      "cell_type": "code",
      "metadata": {
        "id": "yddXGcR-Tgrm"
      },
      "source": [
        "fp = []\n",
        "fn = []\n",
        "tp = []\n",
        "tn = []\n",
        "\n",
        "for index, (truth, pred) in enumerate(zip(true_test_labels, test_predictions)):\n",
        "  if truth == 0 and pred == 1: #predicted as sarcastic but actually not\n",
        "    fp.append(index)\n",
        "  elif truth == 1 and pred == 0: # predicted as not but actually are sarcastic\n",
        "    fn.append(index)\n",
        "  elif truth == 1 and pred == 1: # predicted as sarc and correct\n",
        "    tp.append(index)\n",
        "  else: # predicted as not and it's correct\n",
        "    tn.append(index)"
      ],
      "execution_count": 30,
      "outputs": []
    },
    {
      "cell_type": "markdown",
      "metadata": {
        "id": "hXSvVMP4UHZT"
      },
      "source": [
        "##### Examples that were predicted as sarcastic but are actually not sarcastic"
      ]
    },
    {
      "cell_type": "code",
      "metadata": {
        "id": "nag88z4YT_nG",
        "colab": {
          "base_uri": "https://localhost:8080/"
        },
        "outputId": "60d1be07-d5f1-4b32-8085-1b325a4d8afe"
      },
      "source": [
        "[detokenized_comments[i] for i in fp]"
      ],
      "execution_count": 31,
      "outputs": [
        {
          "output_type": "execute_result",
          "data": {
            "text/plain": [
              "['[CLS] De ##pen ##ds on the drugs in question . Nobody I know would care at all if it were pot . [SEP] Does anyone call pot drugs anymore , especially people who smoke it ? [SEP] [PAD] [PAD] [PAD] [PAD] [PAD] [PAD] [PAD] [PAD] [PAD] [PAD] [PAD] [PAD] [PAD]',\n",
              " '[CLS] Hell ya , fuck Michigan [SEP] Buck the Fuck ##eye ##s ! [SEP] [PAD] [PAD] [PAD] [PAD] [PAD] [PAD] [PAD] [PAD] [PAD] [PAD] [PAD] [PAD] [PAD] [PAD] [PAD] [PAD] [PAD] [PAD] [PAD] [PAD] [PAD] [PAD] [PAD] [PAD] [PAD] [PAD] [PAD] [PAD] [PAD] [PAD] [PAD] [PAD] [PAD] [PAD] [PAD] [PAD]',\n",
              " '[CLS] Special ##ly the blacks [SEP] Obama is white until he needs votes . [SEP] [PAD] [PAD] [PAD] [PAD] [PAD] [PAD] [PAD] [PAD] [PAD] [PAD] [PAD] [PAD] [PAD] [PAD] [PAD] [PAD] [PAD] [PAD] [PAD] [PAD] [PAD] [PAD] [PAD] [PAD] [PAD] [PAD] [PAD] [PAD] [PAD] [PAD] [PAD] [PAD] [PAD] [PAD] [PAD]',\n",
              " '[CLS] AND THE ##N YOU AR ##E D ##IR ##EC ##TE ##D TO H ##AV ##E F ##UN TO ##NI ##G ##HT . [SEP] E ##VE ##R ##Y ##BO ##D ##Y WA ##NG CH ##UN ##G TO ##NI ##G ##HT ? [SEP] [PAD] [PAD] [PAD] [PAD] [PAD] [PAD] [PAD] [PAD]',\n",
              " '[CLS] Isn ##t there like , only one Out ##land ? [SEP] Dr ##aen ##or IS Out ##land , 35 years in the past & am ##p ; in an alternate timeline Dr ##aen ##or blows up and * becomes * Out ##land . [SEP] [PAD] [PAD] [PAD] [PAD] [PAD]',\n",
              " '[CLS] Love how you put ca ##via ##r as frost ##ing . [SEP] Lo ##l [SEP] [PAD] [PAD] [PAD] [PAD] [PAD] [PAD] [PAD] [PAD] [PAD] [PAD] [PAD] [PAD] [PAD] [PAD] [PAD] [PAD] [PAD] [PAD] [PAD] [PAD] [PAD] [PAD] [PAD] [PAD] [PAD] [PAD] [PAD] [PAD] [PAD] [PAD] [PAD] [PAD] [PAD] [PAD]',\n",
              " '[CLS] This was barely funny the first time everyone heard it . [SEP] More like digital suicide am ##iri ##te [SEP] [PAD] [PAD] [PAD] [PAD] [PAD] [PAD] [PAD] [PAD] [PAD] [PAD] [PAD] [PAD] [PAD] [PAD] [PAD] [PAD] [PAD] [PAD] [PAD] [PAD] [PAD] [PAD] [PAD] [PAD] [PAD] [PAD] [PAD] [PAD] [PAD]',\n",
              " \"[CLS] This isn ' t a viable solution , Arena pigeon ##holes you into certain game types , and the banning phase is very time [SEP] Ban ##ning phase can be time consuming , but as for the game types , TD ##M / KC aren ##t exactly a [SEP]\",\n",
              " \"[CLS] Sad ##des ##t looking Dane ever ? ( Post surgery ) [SEP] Don ' t think of it as a sad looking Dane , think of it as a temporary baby g ##ira ##ffe . [SEP] [PAD] [PAD] [PAD] [PAD] [PAD] [PAD] [PAD] [PAD] [PAD] [PAD] [PAD] [PAD] [PAD]\",\n",
              " \"[CLS] He ' d be wrong . [SEP] Then it would grow , so he ' d be right . [SEP] [PAD] [PAD] [PAD] [PAD] [PAD] [PAD] [PAD] [PAD] [PAD] [PAD] [PAD] [PAD] [PAD] [PAD] [PAD] [PAD] [PAD] [PAD] [PAD] [PAD] [PAD] [PAD] [PAD] [PAD] [PAD] [PAD] [PAD] [PAD] [PAD]\",\n",
              " '[CLS] Fuck them up ? Not even close . 16 - 11 L ##OL \" Fuck them up \" . [SEP] If a professional team loses to a red ##dit ##or \\' s team , they should re ##con ##side ##r their life choices . [SEP] [PAD] [PAD] [PAD] [PAD]',\n",
              " '[CLS] Tower Control be like [SEP] Q ##U ##A ##H ##H ##H Q ##U ##AD ##R ##UP ##LE SP ##LE ##T [SEP] [PAD] [PAD] [PAD] [PAD] [PAD] [PAD] [PAD] [PAD] [PAD] [PAD] [PAD] [PAD] [PAD] [PAD] [PAD] [PAD] [PAD] [PAD] [PAD] [PAD] [PAD] [PAD] [PAD] [PAD] [PAD] [PAD] [PAD] [PAD]',\n",
              " \"[CLS] Con ##s ##cious ##ness can observe the movement of mechanical ##ness and come to the conclusion that it is mechanical . If that consciousness develops a third factor [SEP] But the au ##gment here is that it can ' t create non - mechanical action , right ? [SEP]\",\n",
              " '[CLS] Great video , hi ##lar ##ious ! Ki ##wi ##s right ? not au ##ssie ##s [SEP] un ##fu ##ck yourself son [SEP] [PAD] [PAD] [PAD] [PAD] [PAD] [PAD] [PAD] [PAD] [PAD] [PAD] [PAD] [PAD] [PAD] [PAD] [PAD] [PAD] [PAD] [PAD] [PAD] [PAD] [PAD] [PAD] [PAD] [PAD] [PAD] [PAD]',\n",
              " '[CLS] My totally intentional drift [SEP] Beautiful wheel control , was awesome watching the front wheels input mid drift [SEP] [PAD] [PAD] [PAD] [PAD] [PAD] [PAD] [PAD] [PAD] [PAD] [PAD] [PAD] [PAD] [PAD] [PAD] [PAD] [PAD] [PAD] [PAD] [PAD] [PAD] [PAD] [PAD] [PAD] [PAD] [PAD] [PAD] [PAD] [PAD] [PAD] [PAD]',\n",
              " '[CLS] I ##ma ##q ##t ##pie handles a trick ##y situation well [SEP] I love how this happened just a minute ago lo ##l [SEP] [PAD] [PAD] [PAD] [PAD] [PAD] [PAD] [PAD] [PAD] [PAD] [PAD] [PAD] [PAD] [PAD] [PAD] [PAD] [PAD] [PAD] [PAD] [PAD] [PAD] [PAD] [PAD] [PAD] [PAD] [PAD]',\n",
              " \"[CLS] 250 ##k in Pittsburgh would have me living like and absolute king . I can ' t even wrap my head around what that [SEP] That ' s why most $ 250 ##K jobs are in NY and not Pittsburgh : you don ' t need to pay [SEP]\",\n",
              " '[CLS] If humans and a ##pes were wiped out , what animal would you want to become the new master race ? [SEP] Cats , all of them [SEP] [PAD] [PAD] [PAD] [PAD] [PAD] [PAD] [PAD] [PAD] [PAD] [PAD] [PAD] [PAD] [PAD] [PAD] [PAD] [PAD] [PAD] [PAD] [PAD] [PAD] [PAD]',\n",
              " '[CLS] Do healer ##s have a harder time healing time Warriors than Pa ##lad ##ins ? Do Warriors still suffer from the Higher HP Pool but lower Mi ##ti ##gation , hence less efficient heal ##s problem ? [SEP] Not good healer ##s . [SEP] [PAD] [PAD] [PAD] [PAD] [PAD]',\n",
              " '[CLS] Just a warning to everyone : no s ##po ##iler ##ino ##s , please . I will go all Man in Black or N ##egan on you if you post s ##po ##iler ##s [SEP] Dolores gonna go high noon on those s ##po ##iler ##ino ##s . [SEP]',\n",
              " '[CLS] Those people are more federal ##ists than l ##iber ##tarian ##s . [SEP] l ##iber ##tarian ##s as a tactic support decent ##ral ##ization of decision making What this results in is federal ##ism , then local ##ism , and finally individual ##ism . [SEP] [PAD] [PAD] [PAD] [PAD]',\n",
              " '[CLS] I don ##t even think half the kids were even hers . I heard the women they were with say to them \" don \\' t tell your mom i took you here \" . [SEP] ni ##ii ##ii ##ii ##ii ##ii ##ii ##ii ##ii ##ice ! [SEP] [PAD]',\n",
              " '[CLS] There are streaks : \" While in Challenger , Advanced , or Ex ##pert tier ##s , players will earn 40 points ( instead of 20 points ) for consecutive victories \" \" While in Advanced or [SEP] I have indeed , thanks for pointing that out ! [SEP]',\n",
              " '[CLS] Not sure , I just got home and checked the box score . Still , nice to see some patient at - bats from the whole lineup . [SEP] No kidding [SEP] [PAD] [PAD] [PAD] [PAD] [PAD] [PAD] [PAD] [PAD] [PAD] [PAD] [PAD] [PAD] [PAD] [PAD] [PAD] [PAD] [PAD]',\n",
              " '[CLS] What about Palestine ? the article is about Middle Eastern immigration to America , not to Palestine . [SEP] Well , America controls what happens in Palestine [SEP] [PAD] [PAD] [PAD] [PAD] [PAD] [PAD] [PAD] [PAD] [PAD] [PAD] [PAD] [PAD] [PAD] [PAD] [PAD] [PAD] [PAD] [PAD] [PAD] [PAD] [PAD]',\n",
              " \"[CLS] You ' re so welcome ! : D Conservation is a huge passion of mine , so I love talking about it and I [SEP] Well I ' ve always kind of wanted to learn more about it , I could probably just go ##og ##le it though [SEP]\",\n",
              " \"[CLS] Could totally be a parent . The amount of times that people have looked at me weird because I wouldn ' t let my [SEP] Seems as though the parents who feed their kids anything they want from what I ' ve seen also are usually unable to [SEP]\",\n",
              " '[CLS] But not Canadians 23 and under , fuck those guys . [SEP] I mean I would cheer for team N ##A but that also involves me cheer ##ing for some American players so . . . [SEP] [PAD] [PAD] [PAD] [PAD] [PAD] [PAD] [PAD] [PAD] [PAD] [PAD] [PAD] [PAD]',\n",
              " \"[CLS] Height has nothing to do with age once you ' re above 15 / 16 . But with the actors given as examples , you could look at their faces and know they shouldn ' t be in [SEP] Make ##up can do a lot as well . [SEP]\",\n",
              " '[CLS] * rolls whole body on the ground * [SEP] Rolls with the planet , while rolling around the sun . [SEP] [PAD] [PAD] [PAD] [PAD] [PAD] [PAD] [PAD] [PAD] [PAD] [PAD] [PAD] [PAD] [PAD] [PAD] [PAD] [PAD] [PAD] [PAD] [PAD] [PAD] [PAD] [PAD] [PAD] [PAD] [PAD] [PAD] [PAD] [PAD]',\n",
              " \"[CLS] but i ' m right th ##o . just stating facts [SEP] but when ##s 0 ##rang ##ef ##ord [SEP] [PAD] [PAD] [PAD] [PAD] [PAD] [PAD] [PAD] [PAD] [PAD] [PAD] [PAD] [PAD] [PAD] [PAD] [PAD] [PAD] [PAD] [PAD] [PAD] [PAD] [PAD] [PAD] [PAD] [PAD] [PAD] [PAD] [PAD] [PAD] [PAD]\",\n",
              " '[CLS] Theresa May Getting In The Fest ##ive Spirit [SEP] A ##H ##H ##H BR ##IL ##L ##IA ##NT ! [SEP] [PAD] [PAD] [PAD] [PAD] [PAD] [PAD] [PAD] [PAD] [PAD] [PAD] [PAD] [PAD] [PAD] [PAD] [PAD] [PAD] [PAD] [PAD] [PAD] [PAD] [PAD] [PAD] [PAD] [PAD] [PAD] [PAD] [PAD] [PAD] [PAD]',\n",
              " '[CLS] Yes they are independent . [SEP] Thanks , I fixed a t ##y ##po in my comment as well . [SEP] [PAD] [PAD] [PAD] [PAD] [PAD] [PAD] [PAD] [PAD] [PAD] [PAD] [PAD] [PAD] [PAD] [PAD] [PAD] [PAD] [PAD] [PAD] [PAD] [PAD] [PAD] [PAD] [PAD] [PAD] [PAD] [PAD] [PAD] [PAD]',\n",
              " \"[CLS] He didn ' t choose . Source : Calvin ( the Catholic , not the kid from the comics ) [SEP] F ##TF ##Y : Source : Calvin ( the anything - but - Catholic , here ##sia ##rch and s ##chism ##atic ) [SEP] [PAD] [PAD] [PAD] [PAD]\",\n",
              " '[CLS] wa ##t [SEP] Z ##ac [SEP] [PAD] [PAD] [PAD] [PAD] [PAD] [PAD] [PAD] [PAD] [PAD] [PAD] [PAD] [PAD] [PAD] [PAD] [PAD] [PAD] [PAD] [PAD] [PAD] [PAD] [PAD] [PAD] [PAD] [PAD] [PAD] [PAD] [PAD] [PAD] [PAD] [PAD] [PAD] [PAD] [PAD] [PAD] [PAD] [PAD] [PAD] [PAD] [PAD] [PAD] [PAD] [PAD] [PAD]',\n",
              " \"[CLS] Analysis : Chicago chaos tests Trump promises of unity [SEP] You can ' t un ##ify pigs . [SEP] [PAD] [PAD] [PAD] [PAD] [PAD] [PAD] [PAD] [PAD] [PAD] [PAD] [PAD] [PAD] [PAD] [PAD] [PAD] [PAD] [PAD] [PAD] [PAD] [PAD] [PAD] [PAD] [PAD] [PAD] [PAD] [PAD] [PAD] [PAD] [PAD] [PAD]\",\n",
              " \"[CLS] I ' ll have a pin ##t of juice [SEP] Anyone know her name ? [SEP] [PAD] [PAD] [PAD] [PAD] [PAD] [PAD] [PAD] [PAD] [PAD] [PAD] [PAD] [PAD] [PAD] [PAD] [PAD] [PAD] [PAD] [PAD] [PAD] [PAD] [PAD] [PAD] [PAD] [PAD] [PAD] [PAD] [PAD] [PAD] [PAD] [PAD] [PAD] [PAD] [PAD]\",\n",
              " \"[CLS] Man detained at Disney ##land Paris carrying two guns and a Qur ' an . . . most liberal media outlets choosing to o ##mit the Qur ' an from [SEP] Just heard this on C ##NBC fin ##ac ##ial , they mentioned the Q ##ua ##ran . [SEP]\",\n",
              " '[CLS] O ##Y V ##E ##Y ! IS AN ##U ##DA SH ##OA ##H ! [SEP] GO ##Y V ##E ##Y I M ##Y ##SE ##LF R ##EM ##EM ##BE ##R THE S ##IX ##X GO ##R ##RI ##LL ##ION GO ##Y ##IM YOU AN ##TI ##SE ##MI ##TI [SEP]',\n",
              " '[CLS] What one t ##ria ##th ##let ##e - - past or present - - would you most want to meet and why ? [SEP] I would want to meet past me so I can tell him to do some damn strength training before he gets over ##use injuries [SEP]',\n",
              " \"[CLS] One reason why I ' m more optimistic ( albeit still nervous ) about Monday ' s game . For as much as we loved Weather [SEP] It was lack of performance on the field that led to us getting shut out , not off field smack talk [SEP]\",\n",
              " '[CLS] She has her own i ##Pad at 2 ? [SEP] This is more common than you might think . [SEP] [PAD] [PAD] [PAD] [PAD] [PAD] [PAD] [PAD] [PAD] [PAD] [PAD] [PAD] [PAD] [PAD] [PAD] [PAD] [PAD] [PAD] [PAD] [PAD] [PAD] [PAD] [PAD] [PAD] [PAD] [PAD] [PAD] [PAD] [PAD] [PAD]',\n",
              " '[CLS] Today is R U OK day here in Australia . So , hi . Are you OK ? [SEP] Are you serious ? [SEP] [PAD] [PAD] [PAD] [PAD] [PAD] [PAD] [PAD] [PAD] [PAD] [PAD] [PAD] [PAD] [PAD] [PAD] [PAD] [PAD] [PAD] [PAD] [PAD] [PAD] [PAD] [PAD] [PAD] [PAD] [PAD]',\n",
              " '[CLS] Swift red ##emption , I like your style . [SEP] \\\\ # i # think # there # is # something # wrong # with # my # keyboard [SEP] [PAD] [PAD] [PAD] [PAD] [PAD] [PAD] [PAD] [PAD] [PAD] [PAD] [PAD] [PAD] [PAD] [PAD] [PAD] [PAD] [PAD] [PAD] [PAD]',\n",
              " '[CLS] Sales ##ians are grade - A confess ##ors . I remember one of them saying you can enter their seminary at midnight , have someone wake up one of the priests , and get confession within five minutes . Also , [SEP] this is so warming and beautiful [SEP]',\n",
              " \"[CLS] the v ##iki ##ng ##s are the NFC Bills [SEP] Yeah , I ' d say we ' re closer to the NFC Chargers [SEP] [PAD] [PAD] [PAD] [PAD] [PAD] [PAD] [PAD] [PAD] [PAD] [PAD] [PAD] [PAD] [PAD] [PAD] [PAD] [PAD] [PAD] [PAD] [PAD] [PAD] [PAD] [PAD] [PAD] [PAD]\",\n",
              " \"[CLS] Popular restaurant on Monterey w ##harf posts no loud kids sign [SEP] I hate sea ##food but I ' d go there to support them in this . [SEP] [PAD] [PAD] [PAD] [PAD] [PAD] [PAD] [PAD] [PAD] [PAD] [PAD] [PAD] [PAD] [PAD] [PAD] [PAD] [PAD] [PAD] [PAD] [PAD] [PAD]\",\n",
              " \"[CLS] The controversial leader of Ch ##ech ##nya , K ##rem ##lin - backed Ram ##zan Ka ##dy ##rov , has engaged John Oliver in an [SEP] I love when he mock ##s world leaders seems like he ' s the only one with the balls to do it [SEP]\",\n",
              " '[CLS] Watch though [SEP] Watch what ? [SEP] [PAD] [PAD] [PAD] [PAD] [PAD] [PAD] [PAD] [PAD] [PAD] [PAD] [PAD] [PAD] [PAD] [PAD] [PAD] [PAD] [PAD] [PAD] [PAD] [PAD] [PAD] [PAD] [PAD] [PAD] [PAD] [PAD] [PAD] [PAD] [PAD] [PAD] [PAD] [PAD] [PAD] [PAD] [PAD] [PAD] [PAD] [PAD] [PAD] [PAD] [PAD] [PAD]',\n",
              " \"[CLS] I ' ve seen that exact argument before . [SEP] Ya ##h , I was considering buying some moon ##shin ##e today and getting wasted . . . now I ' m going to have too . [SEP] [PAD] [PAD] [PAD] [PAD] [PAD] [PAD] [PAD] [PAD] [PAD] [PAD] [PAD]\",\n",
              " \"[CLS] You ' re probably complaining about Dan comparing Game ##r ##G ##ater ##s to Kevin Owens , which is not radical liberal ##ism at all . But since you ' re saying our liberal world is a d ##ys [SEP] Pretty sure he was talking about Trump . [SEP]\",\n",
              " '[CLS] H ##y ##pot ##hetical ##ly speaking , how would I crash the Bit ##co ##in market ? Say , if I wanted the price of Bit ##co ##in to [SEP] start a bit ##co ##in company and make something awesome , which gets reported in the news . [SEP]',\n",
              " '[CLS] Yes \" Fi ##xed several issues which led to conflicts between text chat entry and player control on PC \" [SEP] thanks , it was al ##ot to read through , thank god though , the amount of times i ##ve accident ##ly left the he ##ist / [SEP]',\n",
              " \"[CLS] Virginia ' s Republican gubernatorial candidate on Tuesday said he would give a charity $ 18 , 000 , the value of gifts he received from a political donor whose gift - giving sparked a federal investigation . [SEP] that ' s socialist [SEP] [PAD] [PAD] [PAD] [PAD] [PAD]\",\n",
              " \"[CLS] Just finished it . There wasn ' t a track I didn ' t like . Thanks for the recommendation . Just downloaded Lords of Flat ##bush [SEP] get The Pro ##clamation too , it ' s not on either mixtape but it ' s a great track [SEP]\",\n",
              " '[CLS] The commercial for Mad ##den 16 is . . . insane . [SEP] This is so o ##b ##no ##xious ##ly awesome . [SEP] [PAD] [PAD] [PAD] [PAD] [PAD] [PAD] [PAD] [PAD] [PAD] [PAD] [PAD] [PAD] [PAD] [PAD] [PAD] [PAD] [PAD] [PAD] [PAD] [PAD] [PAD] [PAD] [PAD] [PAD] [PAD]',\n",
              " \"[CLS] Russia ' s New No ##bility [SEP] its hard to blame the Russians for loving Putin - he ' s a man ##ly man , e ##pit ##ome of Russia ( hunting , fighting & am ##p ; fucking ) - unlike Me ##d ##ved ##ev , who [SEP]\",\n",
              " '[CLS] Yeah na ##h I know that , it \\' s just you very rarely hear \\' you cu ##nt \\' . If you do [SEP] T ##IL in Australia , the hurt ##ful part of the epithet \" you cu ##nt \" is the word \" you . [SEP]',\n",
              " '[CLS] Red ##dit should love people , including soldiers of whatever nationality . [SEP] red ##dit should love people , including murderer ##s of whatever nationality . [SEP] [PAD] [PAD] [PAD] [PAD] [PAD] [PAD] [PAD] [PAD] [PAD] [PAD] [PAD] [PAD] [PAD] [PAD] [PAD] [PAD] [PAD] [PAD] [PAD] [PAD] [PAD] [PAD]',\n",
              " \"[CLS] Painting i did of a friend ' s Mi ##q ##o ' te [SEP] I might need to look into this , I like to think my FF ##14 character has an awesome outfit currently . [SEP] [PAD] [PAD] [PAD] [PAD] [PAD] [PAD] [PAD] [PAD] [PAD] [PAD] [PAD] [PAD]\",\n",
              " '[CLS] I ##gno ##re it , carry on with your life . [SEP] * How Baltimore went to shit * [SEP] [PAD] [PAD] [PAD] [PAD] [PAD] [PAD] [PAD] [PAD] [PAD] [PAD] [PAD] [PAD] [PAD] [PAD] [PAD] [PAD] [PAD] [PAD] [PAD] [PAD] [PAD] [PAD] [PAD] [PAD] [PAD] [PAD] [PAD] [PAD] [PAD]',\n",
              " \"[CLS] Absolutely lo ##l at everyone in this thread . The Y ##P ##J called , they think you ' re all fucking w ##uss [SEP] That ' s a little different , IS ##IS don ' t want to fight women because their flying spa ##gh ##etti monster [SEP]\",\n",
              " '[CLS] All the suits in the Le ##go Batman Movie trailer [SEP] Seeing the ad for this movie got me so excited [SEP] [PAD] [PAD] [PAD] [PAD] [PAD] [PAD] [PAD] [PAD] [PAD] [PAD] [PAD] [PAD] [PAD] [PAD] [PAD] [PAD] [PAD] [PAD] [PAD] [PAD] [PAD] [PAD] [PAD] [PAD] [PAD] [PAD] [PAD]',\n",
              " '[CLS] She de ##d ? [SEP] No but her t ##its are . [SEP] [PAD] [PAD] [PAD] [PAD] [PAD] [PAD] [PAD] [PAD] [PAD] [PAD] [PAD] [PAD] [PAD] [PAD] [PAD] [PAD] [PAD] [PAD] [PAD] [PAD] [PAD] [PAD] [PAD] [PAD] [PAD] [PAD] [PAD] [PAD] [PAD] [PAD] [PAD] [PAD] [PAD] [PAD] [PAD] [PAD]',\n",
              " \"[CLS] Well that ' s a sweeping general ##ization about athletes . [SEP] No it ' s not , he specified football players . [SEP] [PAD] [PAD] [PAD] [PAD] [PAD] [PAD] [PAD] [PAD] [PAD] [PAD] [PAD] [PAD] [PAD] [PAD] [PAD] [PAD] [PAD] [PAD] [PAD] [PAD] [PAD] [PAD] [PAD] [PAD] [PAD]\",\n",
              " \"[CLS] I ' m in 8th . [SEP] well cool man , good luck in high ##school , have fun it only happens once I ##OH ##O [SEP] [PAD] [PAD] [PAD] [PAD] [PAD] [PAD] [PAD] [PAD] [PAD] [PAD] [PAD] [PAD] [PAD] [PAD] [PAD] [PAD] [PAD] [PAD] [PAD] [PAD] [PAD] [PAD]\",\n",
              " \"[CLS] Love this ! I ' ve been looking for a good owl plate for so long ! [SEP] Born Pretty 54 [SEP] [PAD] [PAD] [PAD] [PAD] [PAD] [PAD] [PAD] [PAD] [PAD] [PAD] [PAD] [PAD] [PAD] [PAD] [PAD] [PAD] [PAD] [PAD] [PAD] [PAD] [PAD] [PAD] [PAD] [PAD] [PAD] [PAD] [PAD]\",\n",
              " \"[CLS] That depends on whether or not you can officially turn them back into real money . Otherwise , you ' d be calling a whole lot of games ( especially M ##MO ##s ) illegal [SEP] there are websites that you can sell your skins for real cash [SEP]\",\n",
              " \"[CLS] Is that a language ? [SEP] You ' re a language ! [SEP] [PAD] [PAD] [PAD] [PAD] [PAD] [PAD] [PAD] [PAD] [PAD] [PAD] [PAD] [PAD] [PAD] [PAD] [PAD] [PAD] [PAD] [PAD] [PAD] [PAD] [PAD] [PAD] [PAD] [PAD] [PAD] [PAD] [PAD] [PAD] [PAD] [PAD] [PAD] [PAD] [PAD] [PAD] [PAD] [PAD]\",\n",
              " \"[CLS] There isn ' t that much of a difference between 108 ##0 and 720 you probably won ' t even notice [SEP] As someone who plays on a 100 + inch project ##or screen I have only one thing to say : wa ##t . [SEP] [PAD] [PAD] [PAD]\",\n",
              " \"[CLS] I have a friend that I can no longer go to the movies with because he is * * for * * text ##ing during a movie . I could understand before they started telling people [SEP] I ' m sure your friend appreciate ##s your concern . [SEP]\",\n",
              " \"[CLS] 2016 : The year of realizing stuff - Kylie Jen ##ner [SEP] Lo ##l she ' s not exactly wrong though . [SEP] [PAD] [PAD] [PAD] [PAD] [PAD] [PAD] [PAD] [PAD] [PAD] [PAD] [PAD] [PAD] [PAD] [PAD] [PAD] [PAD] [PAD] [PAD] [PAD] [PAD] [PAD] [PAD] [PAD] [PAD] [PAD] [PAD]\",\n",
              " '[CLS] I Thought It Was All Over [SEP] I love the re ##load . [SEP] [PAD] [PAD] [PAD] [PAD] [PAD] [PAD] [PAD] [PAD] [PAD] [PAD] [PAD] [PAD] [PAD] [PAD] [PAD] [PAD] [PAD] [PAD] [PAD] [PAD] [PAD] [PAD] [PAD] [PAD] [PAD] [PAD] [PAD] [PAD] [PAD] [PAD] [PAD] [PAD] [PAD] [PAD] [PAD]',\n",
              " '[CLS] this was only his first year there just saying [SEP] No he was there for the 2014 season and went 2 - 14 with basically nobody on that team but Gerald McCoy and La ##von ##te David and Mike Evans on offense . [SEP] [PAD] [PAD] [PAD] [PAD] [PAD]',\n",
              " \"[CLS] Not going to Disney ##land . You ' re Welcome . Don ' t get me wrong , we ' re pretty solid DL people . I added it up the other day [SEP] Haven ' t been there since last July , I totally get you man [SEP]\",\n",
              " '[CLS] T ##iga sat ##u b ##ula ##n lap ##an , l ##ima pu ##lu ##h t ##u ##ju ##h [SEP] Hari m ##uli ##a , N ##eg ##ara ##ku me ##rde ##ka ! [SEP] [PAD] [PAD] [PAD] [PAD] [PAD] [PAD] [PAD] [PAD] [PAD] [PAD] [PAD] [PAD] [PAD] [PAD] [PAD]',\n",
              " '[CLS] I think \\' Pak ##i \\' just generally refers to the Middle East . The Danish s ##lu ##r , \\' per ##ker \\' , refers to Turks , Arabs [SEP] So he \\' s actually being racist by referring to them as \" Pak ##is \" ? [SEP]',\n",
              " '[CLS] GO ##D _ D ##AM ##NI ##T _ D ##ON ##AL ##D [SEP] Lo ##l , still one of my favorite video clips [SEP] [PAD] [PAD] [PAD] [PAD] [PAD] [PAD] [PAD] [PAD] [PAD] [PAD] [PAD] [PAD] [PAD] [PAD] [PAD] [PAD] [PAD] [PAD] [PAD] [PAD] [PAD] [PAD] [PAD] [PAD] [PAD]',\n",
              " \"[CLS] P ##uri ##fy + the Beast = 6 man ##a 9 / 7 and draw 1 [SEP] That ' s 8 man ##a , and if it takes two cards to draw 1 , it is no better than just a van ##illa 8 man ##a 9 / [SEP]\",\n",
              " '[CLS] Brian C ##ushing gives 0 fuck ##s [SEP] Love it , go Texans @ ! [SEP] [PAD] [PAD] [PAD] [PAD] [PAD] [PAD] [PAD] [PAD] [PAD] [PAD] [PAD] [PAD] [PAD] [PAD] [PAD] [PAD] [PAD] [PAD] [PAD] [PAD] [PAD] [PAD] [PAD] [PAD] [PAD] [PAD] [PAD] [PAD] [PAD] [PAD] [PAD] [PAD] [PAD]',\n",
              " '[CLS] ah ##ah ##ah i remember in high school doing s ##some ##thing similar with my shit . we used to throw it at the ceiling ah ##ah ##a [SEP] Why do you shit grenades ? [SEP] [PAD] [PAD] [PAD] [PAD] [PAD] [PAD] [PAD] [PAD] [PAD] [PAD] [PAD] [PAD] [PAD]',\n",
              " '[CLS] Alumni Post : Du ##c ##lair Just scored his first NHL hat trick . [SEP] Oh man . . . : / [SEP] [PAD] [PAD] [PAD] [PAD] [PAD] [PAD] [PAD] [PAD] [PAD] [PAD] [PAD] [PAD] [PAD] [PAD] [PAD] [PAD] [PAD] [PAD] [PAD] [PAD] [PAD] [PAD] [PAD] [PAD] [PAD] [PAD]',\n",
              " '[CLS] Where is this from ? This is so perfectly subtle . [SEP] Family Guy [SEP] [PAD] [PAD] [PAD] [PAD] [PAD] [PAD] [PAD] [PAD] [PAD] [PAD] [PAD] [PAD] [PAD] [PAD] [PAD] [PAD] [PAD] [PAD] [PAD] [PAD] [PAD] [PAD] [PAD] [PAD] [PAD] [PAD] [PAD] [PAD] [PAD] [PAD] [PAD] [PAD] [PAD] [PAD]',\n",
              " \"[CLS] People ' s history of the world , the log depression , revolutionary rehearsal ##s , ours to master and to own , and the Me ##ek and the Mi ##lit ##ant . [SEP] People ' s history of the world is amazing . [SEP] [PAD] [PAD] [PAD] [PAD]\",\n",
              " '[CLS] Not [SEP] Ever [SEP] [PAD] [PAD] [PAD] [PAD] [PAD] [PAD] [PAD] [PAD] [PAD] [PAD] [PAD] [PAD] [PAD] [PAD] [PAD] [PAD] [PAD] [PAD] [PAD] [PAD] [PAD] [PAD] [PAD] [PAD] [PAD] [PAD] [PAD] [PAD] [PAD] [PAD] [PAD] [PAD] [PAD] [PAD] [PAD] [PAD] [PAD] [PAD] [PAD] [PAD] [PAD] [PAD] [PAD] [PAD] [PAD]',\n",
              " '[CLS] Big Mac Bus ##ted [SEP] E ##ey ##up [SEP] [PAD] [PAD] [PAD] [PAD] [PAD] [PAD] [PAD] [PAD] [PAD] [PAD] [PAD] [PAD] [PAD] [PAD] [PAD] [PAD] [PAD] [PAD] [PAD] [PAD] [PAD] [PAD] [PAD] [PAD] [PAD] [PAD] [PAD] [PAD] [PAD] [PAD] [PAD] [PAD] [PAD] [PAD] [PAD] [PAD] [PAD] [PAD] [PAD] [PAD]',\n",
              " '[CLS] Census Religion , I ##m gonna put Red ##dit ##or Because red ##dit is as close to any religion I have . Peace [SEP] You are a sad , strange little man . [SEP] [PAD] [PAD] [PAD] [PAD] [PAD] [PAD] [PAD] [PAD] [PAD] [PAD] [PAD] [PAD] [PAD] [PAD] [PAD]',\n",
              " '[CLS] lo ##l [SEP] lo ##l [SEP] [PAD] [PAD] [PAD] [PAD] [PAD] [PAD] [PAD] [PAD] [PAD] [PAD] [PAD] [PAD] [PAD] [PAD] [PAD] [PAD] [PAD] [PAD] [PAD] [PAD] [PAD] [PAD] [PAD] [PAD] [PAD] [PAD] [PAD] [PAD] [PAD] [PAD] [PAD] [PAD] [PAD] [PAD] [PAD] [PAD] [PAD] [PAD] [PAD] [PAD] [PAD] [PAD] [PAD]',\n",
              " '[CLS] v ##og ##lion ##o dive ##nta ##re la \" second ##a S ##vi ##zz ##era \" s ##ti ill ##us ##i . [SEP] Mi as ##pet ##to la f ##uga dei capital ##i in 3 , 2 , 1 . . [SEP] [PAD] [PAD] [PAD] [PAD] [PAD] [PAD] [PAD]',\n",
              " '[CLS] Probably a E ##tude House - es ##que blush with a cute ##sy pepper or hot sauce bottle on the cover and a soft red color on the inside ! [SEP] That sounds adorable . [SEP] [PAD] [PAD] [PAD] [PAD] [PAD] [PAD] [PAD] [PAD] [PAD] [PAD] [PAD] [PAD] [PAD]',\n",
              " \"[CLS] We ' re getting the Holocaust left , right and centre the past couple of days . . . . . Is Israel about to carry out another massacre again , [SEP] It ' s probably because yesterday was the 70 ##th anniversary of Auschwitz camp liberation . [SEP]\",\n",
              " '[CLS] Los Angeles Lakers @ Sacramento Kings * * Game Disc ##uss ##ion T ##hr ##ead : Los Angeles Lakers @ Sacramento Kings * * * * V ##en ##ue : * * Sleep Train Arena , Sacramento , CA * * Time : * [SEP] Sweet Lou ! [SEP]',\n",
              " \"[CLS] Fresh ##ly baked 2016 me ##me . [SEP] I would tag it as N ##SF ##W , I think your boss isn ' t amused seeing Bin La ##den on your monitor / mobile . [SEP] [PAD] [PAD] [PAD] [PAD] [PAD] [PAD] [PAD] [PAD] [PAD] [PAD] [PAD] [PAD] [PAD]\",\n",
              " \"[CLS] No shit Watson . Look up what de ##ci ##mated means . [SEP] When being p ##eda ##nti ##c , always look up the alternative definitions of the word you ' re ni ##t ##pic ##king . [SEP] [PAD] [PAD] [PAD] [PAD] [PAD] [PAD] [PAD] [PAD] [PAD] [PAD] [PAD]\",\n",
              " '[CLS] The problem seems fixed , thanks ! [SEP] Excellent , Co ##mbo ##fi ##x is a last ditch effort tool . [SEP] [PAD] [PAD] [PAD] [PAD] [PAD] [PAD] [PAD] [PAD] [PAD] [PAD] [PAD] [PAD] [PAD] [PAD] [PAD] [PAD] [PAD] [PAD] [PAD] [PAD] [PAD] [PAD] [PAD] [PAD] [PAD] [PAD] [PAD]',\n",
              " '[CLS] Girl speaks fluent American [SEP] This is definitely a joke , she is hi ##lar ##ious . [SEP] [PAD] [PAD] [PAD] [PAD] [PAD] [PAD] [PAD] [PAD] [PAD] [PAD] [PAD] [PAD] [PAD] [PAD] [PAD] [PAD] [PAD] [PAD] [PAD] [PAD] [PAD] [PAD] [PAD] [PAD] [PAD] [PAD] [PAD] [PAD] [PAD] [PAD] [PAD]',\n",
              " '[CLS] What risks ? Like , over ##ex ##ert ##ion ? [SEP] Like dropping 90 ##K ##g on your fucking throat . [SEP] [PAD] [PAD] [PAD] [PAD] [PAD] [PAD] [PAD] [PAD] [PAD] [PAD] [PAD] [PAD] [PAD] [PAD] [PAD] [PAD] [PAD] [PAD] [PAD] [PAD] [PAD] [PAD] [PAD] [PAD] [PAD] [PAD] [PAD]',\n",
              " \"[CLS] A question about voting in p ##rima ##ries . This may be a stupid question , but here goes . Would it be better [SEP] I ' m sore ##ly tempted to vote for Bernie , because while I think he ' s economically ~ ~ idiot ##ic [SEP]\",\n",
              " '[CLS] Apple will make a consistent pleasant user experience . This is what they do with everything , remake it but pre ##tti ##er and easier to use . [SEP] You mean restricted , locked - in and dumb ##ed down . . . [SEP] [PAD] [PAD] [PAD] [PAD] [PAD]',\n",
              " \"[CLS] C ##X states car doesn ' t stop very well . [SEP] Looks somebody doesn ' t like you , O ##P ! [SEP] [PAD] [PAD] [PAD] [PAD] [PAD] [PAD] [PAD] [PAD] [PAD] [PAD] [PAD] [PAD] [PAD] [PAD] [PAD] [PAD] [PAD] [PAD] [PAD] [PAD] [PAD] [PAD] [PAD] [PAD] [PAD]\",\n",
              " '[CLS] State - Capital ##ism : Better or W ##orse than Corporate - Capital ##ism ? [SEP] Please explain the difference please and what we have in the world today [SEP] [PAD] [PAD] [PAD] [PAD] [PAD] [PAD] [PAD] [PAD] [PAD] [PAD] [PAD] [PAD] [PAD] [PAD] [PAD] [PAD] [PAD] [PAD] [PAD]',\n",
              " '[CLS] Lucky for you pop ##py is trash now . [SEP] she is not lo ##l , her win ##rate is high because she got b ##uffed few patches ago [SEP] [PAD] [PAD] [PAD] [PAD] [PAD] [PAD] [PAD] [PAD] [PAD] [PAD] [PAD] [PAD] [PAD] [PAD] [PAD] [PAD] [PAD] [PAD] [PAD]',\n",
              " \"[CLS] H ##UM ##AN body . [SEP] . . . why the goose are you commenting on this thread , it ' s , like ancient . [SEP] [PAD] [PAD] [PAD] [PAD] [PAD] [PAD] [PAD] [PAD] [PAD] [PAD] [PAD] [PAD] [PAD] [PAD] [PAD] [PAD] [PAD] [PAD] [PAD] [PAD] [PAD] [PAD]\",\n",
              " '[CLS] You gotta creep . [SEP] C ##ree ##p . [SEP] [PAD] [PAD] [PAD] [PAD] [PAD] [PAD] [PAD] [PAD] [PAD] [PAD] [PAD] [PAD] [PAD] [PAD] [PAD] [PAD] [PAD] [PAD] [PAD] [PAD] [PAD] [PAD] [PAD] [PAD] [PAD] [PAD] [PAD] [PAD] [PAD] [PAD] [PAD] [PAD] [PAD] [PAD] [PAD] [PAD] [PAD] [PAD] [PAD]',\n",
              " '[CLS] Warriors - Jazz trade [SEP] Are you serious ? [SEP] [PAD] [PAD] [PAD] [PAD] [PAD] [PAD] [PAD] [PAD] [PAD] [PAD] [PAD] [PAD] [PAD] [PAD] [PAD] [PAD] [PAD] [PAD] [PAD] [PAD] [PAD] [PAD] [PAD] [PAD] [PAD] [PAD] [PAD] [PAD] [PAD] [PAD] [PAD] [PAD] [PAD] [PAD] [PAD] [PAD] [PAD] [PAD] [PAD]',\n",
              " '[CLS] Yoga pants and a B ##B ##8 shirt . [SEP] Sounds com ##fy . [SEP] [PAD] [PAD] [PAD] [PAD] [PAD] [PAD] [PAD] [PAD] [PAD] [PAD] [PAD] [PAD] [PAD] [PAD] [PAD] [PAD] [PAD] [PAD] [PAD] [PAD] [PAD] [PAD] [PAD] [PAD] [PAD] [PAD] [PAD] [PAD] [PAD] [PAD] [PAD] [PAD] [PAD] [PAD]',\n",
              " '[CLS] Outstanding . I was coming here to post precisely this episode . A notably short Simpsons episode , but absolutely packed start to finish with brilliant , memorable comedy . Close runners up for \" Rose ##bu ##d \" , \" [SEP] M ##ON ##OR ##AA ##A ##IL [SEP]',\n",
              " '[CLS] It was actually 1990 . [SEP] Was it I thought it was the 89 season [SEP] [PAD] [PAD] [PAD] [PAD] [PAD] [PAD] [PAD] [PAD] [PAD] [PAD] [PAD] [PAD] [PAD] [PAD] [PAD] [PAD] [PAD] [PAD] [PAD] [PAD] [PAD] [PAD] [PAD] [PAD] [PAD] [PAD] [PAD] [PAD] [PAD] [PAD] [PAD] [PAD] [PAD]',\n",
              " '[CLS] This card , in the right meta , is * the * best legendary . Trump f ##ap ##s to T ##iri ##on boards [SEP] Trump actually said in a recent arena that he thinks if he were somehow offered T ##iri ##on against Must ##er for Battle [SEP]',\n",
              " '[CLS] But first , the 22 crew gets a half hour with it . [SEP] Nothing but the roll cage left I like it [SEP] [PAD] [PAD] [PAD] [PAD] [PAD] [PAD] [PAD] [PAD] [PAD] [PAD] [PAD] [PAD] [PAD] [PAD] [PAD] [PAD] [PAD] [PAD] [PAD] [PAD] [PAD] [PAD] [PAD] [PAD] [PAD]',\n",
              " '[CLS] The b ##loc against Mussolini Mouse [SEP] That really strikes the imagination . [SEP] [PAD] [PAD] [PAD] [PAD] [PAD] [PAD] [PAD] [PAD] [PAD] [PAD] [PAD] [PAD] [PAD] [PAD] [PAD] [PAD] [PAD] [PAD] [PAD] [PAD] [PAD] [PAD] [PAD] [PAD] [PAD] [PAD] [PAD] [PAD] [PAD] [PAD] [PAD] [PAD] [PAD] [PAD] [PAD]',\n",
              " '[CLS] She is 4th : ) [SEP] damn , Lee sin ? [SEP] [PAD] [PAD] [PAD] [PAD] [PAD] [PAD] [PAD] [PAD] [PAD] [PAD] [PAD] [PAD] [PAD] [PAD] [PAD] [PAD] [PAD] [PAD] [PAD] [PAD] [PAD] [PAD] [PAD] [PAD] [PAD] [PAD] [PAD] [PAD] [PAD] [PAD] [PAD] [PAD] [PAD] [PAD] [PAD] [PAD] [PAD]',\n",
              " '[CLS] Sometimes Ana ##l , Hand ##jo ##bs Mostly [SEP] under ##rated , but not un ##ap ##p ##re ##cia ##ted comment [SEP] [PAD] [PAD] [PAD] [PAD] [PAD] [PAD] [PAD] [PAD] [PAD] [PAD] [PAD] [PAD] [PAD] [PAD] [PAD] [PAD] [PAD] [PAD] [PAD] [PAD] [PAD] [PAD] [PAD] [PAD] [PAD] [PAD] [PAD]',\n",
              " '[CLS] I was the drunk one , it was hard enough to make the u ##rl and submit it to here . [SEP] x ##D Well you and your too ##n looked the part ! [SEP] [PAD] [PAD] [PAD] [PAD] [PAD] [PAD] [PAD] [PAD] [PAD] [PAD] [PAD] [PAD] [PAD] [PAD]',\n",
              " \"[CLS] I don ' t like Ted Cruz , but I ' ve got to hand it to him , he showed some serious restraint by not s ##po ##uti ##ng off a few of the [SEP] Also , no one is taking Perry seriously , but Perry . [SEP]\",\n",
              " '[CLS] Kind ##a under ##w ##hel ##ming . Race ##rs are too simple to cost this much and not have a color that pop ##s [SEP] na ##h this c / w is do ##pe , ni ##ke should stop dipping in the ski ##ttle ##s bag for a [SEP]',\n",
              " '[CLS] they tried and failed to get it on t ##v . [SEP] They should have waited , it could have replaced the grin ##der [SEP] [PAD] [PAD] [PAD] [PAD] [PAD] [PAD] [PAD] [PAD] [PAD] [PAD] [PAD] [PAD] [PAD] [PAD] [PAD] [PAD] [PAD] [PAD] [PAD] [PAD] [PAD] [PAD] [PAD] [PAD]',\n",
              " \"[CLS] It sad ##den ##s me to think that today , some humans will make a decision to die because they can ##t afford it . [SEP] That ' s so tractor : ( [SEP] [PAD] [PAD] [PAD] [PAD] [PAD] [PAD] [PAD] [PAD] [PAD] [PAD] [PAD] [PAD] [PAD] [PAD] [PAD]\",\n",
              " \"[CLS] FA ##MA ##S P ##ulse is the best FA ##MA ##S . Sad they have to be so worn on basically any float that isn ' [SEP] Yeah , the pulse does look sick , shame about the wear on all of the f ##ama ##s ' s [SEP]\",\n",
              " '[CLS] 3 - 0 Georgia teams got fucked up this week [SEP] Falcons go ##n make it 4 - 0 [SEP] [PAD] [PAD] [PAD] [PAD] [PAD] [PAD] [PAD] [PAD] [PAD] [PAD] [PAD] [PAD] [PAD] [PAD] [PAD] [PAD] [PAD] [PAD] [PAD] [PAD] [PAD] [PAD] [PAD] [PAD] [PAD] [PAD] [PAD] [PAD] [PAD]',\n",
              " \"[CLS] That , and the likelihood that Hilary will win the nomination because A . Name recognition and B . She ' s female are [SEP] She ' ll win because : A . Establishment - backed B . Rai ##sed a shit ton ##ne of money C . [SEP]\",\n",
              " \"[CLS] The actual relics will stay in your inventory , but they won ' t be in any drop tables for places that you can [SEP] I think this was confirmed in the latest prime time , which made me kind happy that my relics won ' t just [SEP]\",\n",
              " '[CLS] Some mildly interesting wrestling images from my archives [SEP] Take ##r without sleeves just seems wrong to me at this stage [SEP] [PAD] [PAD] [PAD] [PAD] [PAD] [PAD] [PAD] [PAD] [PAD] [PAD] [PAD] [PAD] [PAD] [PAD] [PAD] [PAD] [PAD] [PAD] [PAD] [PAD] [PAD] [PAD] [PAD] [PAD] [PAD] [PAD] [PAD]',\n",
              " \"[CLS] Right ? I ' m going to try to find some grants for instruments for at least a beginning band . [SEP] Good on ya [SEP] [PAD] [PAD] [PAD] [PAD] [PAD] [PAD] [PAD] [PAD] [PAD] [PAD] [PAD] [PAD] [PAD] [PAD] [PAD] [PAD] [PAD] [PAD] [PAD] [PAD] [PAD] [PAD] [PAD]\",\n",
              " \"[CLS] Titans got hose ##d , he was short by a mile . But I ' ll take it . [SEP] a yard at most not quite a mile [SEP] [PAD] [PAD] [PAD] [PAD] [PAD] [PAD] [PAD] [PAD] [PAD] [PAD] [PAD] [PAD] [PAD] [PAD] [PAD] [PAD] [PAD] [PAD] [PAD] [PAD]\",\n",
              " \"[CLS] * she s ##nick ##ers but keeps still * [SEP] * Tom then applies color to the work , a splash of orange for lighting , the s ##had ##ing is good , and he makes sure to capture Nat ##su ##mi ' s glow * [SEP] [PAD] [PAD]\",\n",
              " \"[CLS] I haven ' t seen it either . Want to go on a date ? [SEP] I ship it . [SEP] [PAD] [PAD] [PAD] [PAD] [PAD] [PAD] [PAD] [PAD] [PAD] [PAD] [PAD] [PAD] [PAD] [PAD] [PAD] [PAD] [PAD] [PAD] [PAD] [PAD] [PAD] [PAD] [PAD] [PAD] [PAD] [PAD] [PAD] [PAD]\",\n",
              " \"[CLS] I ' d argue its not gay because she looks and identify as a lady . A gay man wouldn ##t be attracted to her . [SEP] I ' m a gay man , would f ##ug [SEP] [PAD] [PAD] [PAD] [PAD] [PAD] [PAD] [PAD] [PAD] [PAD] [PAD] [PAD]\",\n",
              " '[CLS] There needs to be a \" Fuck no ! \" option . [SEP] or a \" No \" or \" N ##eg ##ative \" [SEP] [PAD] [PAD] [PAD] [PAD] [PAD] [PAD] [PAD] [PAD] [PAD] [PAD] [PAD] [PAD] [PAD] [PAD] [PAD] [PAD] [PAD] [PAD] [PAD] [PAD] [PAD] [PAD] [PAD] [PAD]',\n",
              " \"[CLS] most of your posting here is pretty awful , actually . If you ' re not actually a troll and what you write on [SEP] Not sure what I said that ' s racist but people like you will find racism on a box of cheer ##ios . [SEP]\",\n",
              " \"[CLS] This is the la ##zie ##st attempt I ' ve seen at covering up people ' s names . [SEP] s ##m ##h [SEP] [PAD] [PAD] [PAD] [PAD] [PAD] [PAD] [PAD] [PAD] [PAD] [PAD] [PAD] [PAD] [PAD] [PAD] [PAD] [PAD] [PAD] [PAD] [PAD] [PAD] [PAD] [PAD] [PAD] [PAD] [PAD]\",\n",
              " '[CLS] Going to my first and probably last NHL game , any tips for getting the most out of the experience ? Title pretty much says it all , I am an Australian visiting Canada [SEP] Get two beers every time you line up , ya cu ##nt . [SEP]',\n",
              " \"[CLS] You forget one thing . People under 30 can ' t afford to buy homes . [SEP] I bought my house at 29 but maybe I ' m the exception . [SEP] [PAD] [PAD] [PAD] [PAD] [PAD] [PAD] [PAD] [PAD] [PAD] [PAD] [PAD] [PAD] [PAD] [PAD] [PAD] [PAD] [PAD]\",\n",
              " \"[CLS] Holy crap that ' s a big chapter . Con ##gratulations new initiate ##s ! [SEP] There ' s also a fair amount of alumni , province visitors , and area visitors from out of province . [SEP] [PAD] [PAD] [PAD] [PAD] [PAD] [PAD] [PAD] [PAD] [PAD] [PAD] [PAD]\",\n",
              " '[CLS] This is massive ##ly off tan ##gent , but what do the bugs even eat ? Other than people . . . Their planets surface seems totally barren and devoid of plant life and fauna [SEP] They root around in the dirt eating worms and g ##ru ##bs [SEP]',\n",
              " '[CLS] Season 1 is great Season 2 is pretty good Season 3 is so - so but it is important set up Season 4 is great again [SEP] Exactly my thoughts on it . [SEP] [PAD] [PAD] [PAD] [PAD] [PAD] [PAD] [PAD] [PAD] [PAD] [PAD] [PAD] [PAD] [PAD] [PAD] [PAD]',\n",
              " \"[CLS] Any thoughts on using a comic book style drawing for the cover of a novel ? Also , does anyone know of any examples of this ? My go ##og ##le - [SEP] I ' ve seen crime novels with covers in style of old crime comics . [SEP]\",\n",
              " '[CLS] Not just di ##sband , they should never be allowed to ever touch a mouse again . [SEP] except k ##en ##ny , so he can go to g ##2 [SEP] [PAD] [PAD] [PAD] [PAD] [PAD] [PAD] [PAD] [PAD] [PAD] [PAD] [PAD] [PAD] [PAD] [PAD] [PAD] [PAD] [PAD] [PAD]',\n",
              " \"[CLS] Up ##F ##ron ##t - How religious are so - called ' Islamic terrorists ' ? [SEP] Seeing as the Qur ' an express ##ly for ##bid ##s forcing people to convert to Islam it really shouldn ' t be a surprise . [SEP] [PAD] [PAD] [PAD] [PAD] [PAD]\",\n",
              " \"[CLS] Who were you passing ? Why were you in the 3rd lane ? [SEP] There ' s a car on the right he ' s passing before he slow ##s down for the trap [SEP] [PAD] [PAD] [PAD] [PAD] [PAD] [PAD] [PAD] [PAD] [PAD] [PAD] [PAD] [PAD] [PAD] [PAD]\",\n",
              " \"[CLS] So you ' re saying just because I have dick and balls , I ' m not able to control myself ? Fuck that . It ' s not about his body , It ' s about his character , consideration [SEP] St ##raw man arguments are fun [SEP]\",\n",
              " \"[CLS] Did Android have this ? [SEP] You ' ve been able to do this with multiple apps for ages . [SEP] [PAD] [PAD] [PAD] [PAD] [PAD] [PAD] [PAD] [PAD] [PAD] [PAD] [PAD] [PAD] [PAD] [PAD] [PAD] [PAD] [PAD] [PAD] [PAD] [PAD] [PAD] [PAD] [PAD] [PAD] [PAD] [PAD] [PAD] [PAD]\",\n",
              " '[CLS] R ##im of the World Highway at sunrise yesterday , only an hour and a half from my house in Echo Park . [SEP] A few years ago one of my favorite stress all ##ev ##iator ##s was buying a cheap b ##ur ##rito , driving up the [SEP]',\n",
              " '[CLS] There Will Be No Commercial Break ##s During The Presidential De ##bate ##s [SEP] Oh , the humanity ! [SEP] [PAD] [PAD] [PAD] [PAD] [PAD] [PAD] [PAD] [PAD] [PAD] [PAD] [PAD] [PAD] [PAD] [PAD] [PAD] [PAD] [PAD] [PAD] [PAD] [PAD] [PAD] [PAD] [PAD] [PAD] [PAD] [PAD] [PAD] [PAD] [PAD]',\n",
              " '[CLS] Does any one have a rough idea how far this patch is off ? Was the t ##weet posted at night or during the day for that country ? [SEP] The studio is based out of Seattle so it was posted at about 3 ##pm PS ##T [SEP] [PAD]',\n",
              " '[CLS] Rocket League will not launch . Wen ##t into game files and I am missing Rocket ##L ##ea ##gue . ex ##e file . Help ! Hey guys for the past 4 days I have been unable [SEP] V ##eri ##fy integrity of your game files in steam [SEP]',\n",
              " '[CLS] Which is the worst sequel to an awesome movie ? [SEP] Tarzan 2 was pretty lack ##luster . [SEP] [PAD] [PAD] [PAD] [PAD] [PAD] [PAD] [PAD] [PAD] [PAD] [PAD] [PAD] [PAD] [PAD] [PAD] [PAD] [PAD] [PAD] [PAD] [PAD] [PAD] [PAD] [PAD] [PAD] [PAD] [PAD] [PAD] [PAD] [PAD] [PAD] [PAD]',\n",
              " '[CLS] Thing is Is ##hi ##da was very careful not to show any penetration of her actual chest only her arms and legs ( non fatal wounds ) . So who really knows . [SEP] Akira survives because of her huge muscles . [SEP] [PAD] [PAD] [PAD] [PAD] [PAD] [PAD]',\n",
              " \"[CLS] OH . Was that the guy who Left ##y said he had stream envy over ? I remember Left ##y ad ##miring him for having streams as good as / better than his [SEP] Nah that ' s w ##idge ##ty ##be ##ar [SEP] [PAD] [PAD] [PAD] [PAD] [PAD]\",\n",
              " \"[CLS] I just looked up Wilder ##s and , OH M ##Y GO ##D ! I remember who he is now . So sorry for [SEP] My mother told me the other day that she doesn ' t tell people anymore where she is from , if they ask [SEP]\",\n",
              " \"[CLS] ha funny that ##s the same announcer from the l ##ins ##ani ##ty days [SEP] That ' s Clyde Fr ##azi ##er , K ##nick ##s legend and top tier color commentator . [SEP] [PAD] [PAD] [PAD] [PAD] [PAD] [PAD] [PAD] [PAD] [PAD] [PAD] [PAD] [PAD] [PAD] [PAD] [PAD]\",\n",
              " \"[CLS] From what I can see , it ' s running CH ##KS ##D ##K on Windows , but I du ##nn ##o whether or [SEP] Windows isn ' t un ##ix based , but that sub is about commenting on shit ##ty ha ##cking / computer science shit [SEP]\",\n",
              " '[CLS] I pledged to buy 125 red ##dit gold months if Red ##dit decided to accept bit ##co ##in as a mean of payment . Get your free red ##dit gold month here ! [SEP] Count me in mate ! [SEP] [PAD] [PAD] [PAD] [PAD] [PAD] [PAD] [PAD] [PAD] [PAD]',\n",
              " '[CLS] The obscure constitutional provision that could be trouble for Trump [SEP] The fact that any part of our really short constitution can be called \" obscure \" is a comment on our collective intelligence . [SEP] [PAD] [PAD] [PAD] [PAD] [PAD] [PAD] [PAD] [PAD] [PAD] [PAD] [PAD] [PAD] [PAD]',\n",
              " '[CLS] AM ##A means you answer questions in this thread not in a video . Get your shit together Griffin ##s . [SEP] a lot of people have gone the video route . [SEP] [PAD] [PAD] [PAD] [PAD] [PAD] [PAD] [PAD] [PAD] [PAD] [PAD] [PAD] [PAD] [PAD] [PAD] [PAD] [PAD]',\n",
              " \"[CLS] Sorry I can ' t find the link to actual study [SEP] So you linked to a random one ? [SEP] [PAD] [PAD] [PAD] [PAD] [PAD] [PAD] [PAD] [PAD] [PAD] [PAD] [PAD] [PAD] [PAD] [PAD] [PAD] [PAD] [PAD] [PAD] [PAD] [PAD] [PAD] [PAD] [PAD] [PAD] [PAD] [PAD] [PAD] [PAD]\",\n",
              " '[CLS] In ##iti ##ation gone wrong . [SEP] GO ##NE SE ##X ##U ##AL [SEP] [PAD] [PAD] [PAD] [PAD] [PAD] [PAD] [PAD] [PAD] [PAD] [PAD] [PAD] [PAD] [PAD] [PAD] [PAD] [PAD] [PAD] [PAD] [PAD] [PAD] [PAD] [PAD] [PAD] [PAD] [PAD] [PAD] [PAD] [PAD] [PAD] [PAD] [PAD] [PAD] [PAD] [PAD] [PAD]',\n",
              " '[CLS] Java is to Java ##s ##cript as car is to carpet . [SEP] Java is to Java ##s ##cript as fun is to funeral I like that one better . [SEP] [PAD] [PAD] [PAD] [PAD] [PAD] [PAD] [PAD] [PAD] [PAD] [PAD] [PAD] [PAD] [PAD] [PAD] [PAD] [PAD] [PAD] [PAD]',\n",
              " \"[CLS] My point is polls don ' t mean shit . [SEP] Neither do rally numbers . [SEP] [PAD] [PAD] [PAD] [PAD] [PAD] [PAD] [PAD] [PAD] [PAD] [PAD] [PAD] [PAD] [PAD] [PAD] [PAD] [PAD] [PAD] [PAD] [PAD] [PAD] [PAD] [PAD] [PAD] [PAD] [PAD] [PAD] [PAD] [PAD] [PAD] [PAD] [PAD] [PAD]\",\n",
              " \"[CLS] Perhaps she already understands that face ##book IS a virus : ) [SEP] Ah ##ah ##a yes it ' s a human social me ##met ##ic virus ! [SEP] [PAD] [PAD] [PAD] [PAD] [PAD] [PAD] [PAD] [PAD] [PAD] [PAD] [PAD] [PAD] [PAD] [PAD] [PAD] [PAD] [PAD] [PAD] [PAD] [PAD]\",\n",
              " '[CLS] She was . She had a \" courtesy appointment \" in the school of journalism . She has since resigned that appointment . She still keeps her communications department seat , which blows [SEP] Co ##mm ##s is a c ##ess ##pool , this is not shocking . [SEP]',\n",
              " '[CLS] USA : 109 , Canada : 2 [SEP] Man , the rest of the world needs to step up . [SEP] [PAD] [PAD] [PAD] [PAD] [PAD] [PAD] [PAD] [PAD] [PAD] [PAD] [PAD] [PAD] [PAD] [PAD] [PAD] [PAD] [PAD] [PAD] [PAD] [PAD] [PAD] [PAD] [PAD] [PAD] [PAD] [PAD] [PAD] [PAD]',\n",
              " \"[CLS] Do a lot of people con ##fuse how long it takes to rebuild ? Since the leaf ##s are mid rebuild I ' ve [SEP] You could be stuck in the shit ##hole that the Oilers , Browns , 76 ##ers , and Mariners are in or figure [SEP]\",\n",
              " '[CLS] Not for his base . [SEP] Good point [SEP] [PAD] [PAD] [PAD] [PAD] [PAD] [PAD] [PAD] [PAD] [PAD] [PAD] [PAD] [PAD] [PAD] [PAD] [PAD] [PAD] [PAD] [PAD] [PAD] [PAD] [PAD] [PAD] [PAD] [PAD] [PAD] [PAD] [PAD] [PAD] [PAD] [PAD] [PAD] [PAD] [PAD] [PAD] [PAD] [PAD] [PAD] [PAD] [PAD] [PAD]',\n",
              " \"[CLS] A barrier to entry is a nice thing to weed out the people rushing into it . [SEP] I ' d argue that this lower ##s the barrier to entry compared to Section 333 exemption . [SEP] [PAD] [PAD] [PAD] [PAD] [PAD] [PAD] [PAD] [PAD] [PAD] [PAD] [PAD] [PAD]\",\n",
              " '[CLS] B ##re ##it ##bar ##t E ##X ##CL ##US ##IVE : Am ##ish PA ##C launches newspaper ad to m ##ot ##ivate PA voters to vote T ##R ##UM ##P [SEP] * * BA ##SE ##D AM ##IS ##H * * [SEP] [PAD] [PAD] [PAD] [PAD] [PAD] [PAD] [PAD]',\n",
              " \"[CLS] I only got 200 Ma ##gi ##kar ##p can ##dies : ( [SEP] It could be worse , you could evolve your Ma ##gi ##kar ##p into a G ##yra ##dos with T ##wi ##ster : ' ( ( ( ( [SEP] [PAD] [PAD] [PAD] [PAD] [PAD] [PAD] [PAD]\",\n",
              " \"[CLS] I want to see Luc ##io in Hot ##S so badly . He ' d be a perfect fit I think . [SEP] I agree , another A ##o ##E healer would be pretty cool so its not just Bright ##wing with this cool mechanic all to herself [SEP]\",\n",
              " '[CLS] the last two as ##tron ##omi ##c displays i remembered to watch were both sq ##uan ##dered by the clouds . first was the blood moon ( lunar eclipse ) and the recent met ##eor [SEP] I also missed the transit of Venus due to clouds : ( [SEP]',\n",
              " \"[CLS] New Photo ##s of Kelly Brook ( N ##SF ##W ) [SEP] Good o ##le Long ##tail there when you don ' t expect it [SEP] [PAD] [PAD] [PAD] [PAD] [PAD] [PAD] [PAD] [PAD] [PAD] [PAD] [PAD] [PAD] [PAD] [PAD] [PAD] [PAD] [PAD] [PAD] [PAD] [PAD] [PAD] [PAD] [PAD]\",\n",
              " '[CLS] E ##sto ##y i ##gua ##l . * * Ten ##go 3 p ##ases de 48 ho ##ras * * . El que q ##ui ##era un ##o que me ha ##ga reply re ##come ##nda ##ndo ##me al ##gun [SEP] B ##OK ##U NO P ##IC ##O [SEP]',\n",
              " \"[CLS] Titan ##ia should instead have a deploy ##able lantern . I think Titan ##ia ' s Lantern ability should instead actually deploy a lantern [SEP] Oh , and if it was a deploy ##able object , it could be channel ##ed too , either by default or through [SEP]\",\n",
              " \"[CLS] Where is the in - game clock ? ! [SEP] It ' s present on the PT ##R already , no worries , this was probably just a de ##v branch to add that H ##OT ##S icon ( X ##P bonus for multi - select maybe ? [SEP]\",\n",
              " \"[CLS] Leo gets the Oscar ! [SEP] I don ' t know what life means anymore [SEP] [PAD] [PAD] [PAD] [PAD] [PAD] [PAD] [PAD] [PAD] [PAD] [PAD] [PAD] [PAD] [PAD] [PAD] [PAD] [PAD] [PAD] [PAD] [PAD] [PAD] [PAD] [PAD] [PAD] [PAD] [PAD] [PAD] [PAD] [PAD] [PAD] [PAD] [PAD] [PAD] [PAD]\",\n",
              " '[CLS] St ##ret ##ch ##hh ##h [SEP] Those legs look fucked [SEP] [PAD] [PAD] [PAD] [PAD] [PAD] [PAD] [PAD] [PAD] [PAD] [PAD] [PAD] [PAD] [PAD] [PAD] [PAD] [PAD] [PAD] [PAD] [PAD] [PAD] [PAD] [PAD] [PAD] [PAD] [PAD] [PAD] [PAD] [PAD] [PAD] [PAD] [PAD] [PAD] [PAD] [PAD] [PAD] [PAD] [PAD] [PAD]',\n",
              " '[CLS] T ##IL Unlike many other big cats , snow leopard ##s are not aggressive towards humans . There has never been a verified snow leopard attack on a human being . [SEP] Good luck finding one . [SEP] [PAD] [PAD] [PAD] [PAD] [PAD] [PAD] [PAD] [PAD] [PAD] [PAD] [PAD]',\n",
              " \"[CLS] i haven ' t traded in 3 days and keys are almost 26 re ##f now what the fuck happened [SEP] We just need another golden w ##rench scenario , reward craft ##ing with a possible chance at an ultra - rare item [SEP] [PAD] [PAD] [PAD] [PAD] [PAD]\",\n",
              " \"[CLS] I ' ve heard rumors of good traders gone bad . Instead of un ##ins ##tal ##ling they turned to a life of crime , cursed to wander the stars shutting down community goals , promoting B ##GS terrorism [SEP] Surely there must be a reason though . [SEP]\",\n",
              " '[CLS] To be fair , it makes more sense than \" Inside Out \" . [SEP] You know , putting the \" inside \" stuff \" out \" on the silver screen ! [SEP] [PAD] [PAD] [PAD] [PAD] [PAD] [PAD] [PAD] [PAD] [PAD] [PAD] [PAD] [PAD] [PAD] [PAD] [PAD] [PAD]',\n",
              " \"[CLS] That second round was a beat ##down of epic proportions , I don ' t know how B ##J wasn ' t T ##KO ' d . [SEP] Hawaiian ##s , man [SEP] [PAD] [PAD] [PAD] [PAD] [PAD] [PAD] [PAD] [PAD] [PAD] [PAD] [PAD] [PAD] [PAD] [PAD] [PAD] [PAD]\",\n",
              " \"[CLS] . . . don ' t you * remember * what Liverpool used to be like ? [SEP] Of course , but I also know I hate Man City and Chelsea . [SEP] [PAD] [PAD] [PAD] [PAD] [PAD] [PAD] [PAD] [PAD] [PAD] [PAD] [PAD] [PAD] [PAD] [PAD] [PAD] [PAD]\",\n",
              " '[CLS] E ##X ##DE ##EE I WA ##TC ##H MI ##NE ##K ##RA ##FT L ##EL [SEP] R ##EE ##EE ##EE ##EE ##EE ##EE ##E [SEP] [PAD] [PAD] [PAD] [PAD] [PAD] [PAD] [PAD] [PAD] [PAD] [PAD] [PAD] [PAD] [PAD] [PAD] [PAD] [PAD] [PAD] [PAD] [PAD] [PAD] [PAD] [PAD] [PAD] [PAD]',\n",
              " '[CLS] Fuck ##ing Fe ##ras at it again [SEP] Classic Fe ##ras . [SEP] [PAD] [PAD] [PAD] [PAD] [PAD] [PAD] [PAD] [PAD] [PAD] [PAD] [PAD] [PAD] [PAD] [PAD] [PAD] [PAD] [PAD] [PAD] [PAD] [PAD] [PAD] [PAD] [PAD] [PAD] [PAD] [PAD] [PAD] [PAD] [PAD] [PAD] [PAD] [PAD] [PAD] [PAD] [PAD] [PAD]',\n",
              " \"[CLS] CNN putting Trump rally ' stage rush ##er ' on national prime ##time television . w ##t ##f ? [SEP] # C ##uck News Network [SEP] [PAD] [PAD] [PAD] [PAD] [PAD] [PAD] [PAD] [PAD] [PAD] [PAD] [PAD] [PAD] [PAD] [PAD] [PAD] [PAD] [PAD] [PAD] [PAD] [PAD] [PAD] [PAD] [PAD]\",\n",
              " '[CLS] The day of the dead is coming up , so if there was an of ##ren ##da made for j ##oh ##nny , what would be [SEP] Also a football , a rose , an in ##c ##rim ##inating audio cassette and a very dirty red dress . [SEP]',\n",
              " \"[CLS] I think you ' re clearly missing his point . He gives a console as an example which is not very space ##con ##suming . And I guess that in general woman have more stuff . Like make [SEP] This is precisely what I ' m saying . [SEP]\",\n",
              " '[CLS] He asked a j ##our ##no to move his bench because he wanted to touch wood after seeing the cat . Super ##st ##iti ##ous people [SEP] yeah but I would guess that most athletes are super ##st ##iti ##ous , I find it hi ##lar ##ious . [SEP]',\n",
              " '[CLS] S ##NL Writer Chris Kelly U ##rges Others Not to Buy Dogs from the \" Pure ##B ##red Bree ##ders \" Group [SEP] I feel bad for the guy but that looks like a C ##ava - Au ##ssie . [SEP] [PAD] [PAD] [PAD] [PAD] [PAD] [PAD] [PAD] [PAD]',\n",
              " \"[CLS] I ' m not sure we can count this one though , since it was a special event surrounding the server move . [SEP] and it was literally only there to help them test the server stability . [SEP] [PAD] [PAD] [PAD] [PAD] [PAD] [PAD] [PAD] [PAD] [PAD] [PAD]\",\n",
              " '[CLS] Happy Halloween ! Court ##es ##y my My ##space page from 2007 [SEP] You should have actually done it . . . . J ##k , we love you O ##P [SEP] [PAD] [PAD] [PAD] [PAD] [PAD] [PAD] [PAD] [PAD] [PAD] [PAD] [PAD] [PAD] [PAD] [PAD] [PAD] [PAD] [PAD]',\n",
              " '[CLS] New Ta ##lis ##man Give ##s + 20 Movement Speed | What about something like this for ch ##amp ##s like U ##dy ##r ? I think an item [SEP] like t ##rini ##ty force with its flat move speed instead and p ##hage move speed bonus ? [SEP]',\n",
              " '[CLS] Did Pendleton Ward just announce the AD ##vent ##ure Time game for 3D ##S ? Yes . [SEP] I was waiting for a reason to buy , now I have it . [SEP] [PAD] [PAD] [PAD] [PAD] [PAD] [PAD] [PAD] [PAD] [PAD] [PAD] [PAD] [PAD] [PAD] [PAD] [PAD] [PAD]',\n",
              " '[CLS] When is it ok to kill someone ? [SEP] If they steal your penis pump [SEP] [PAD] [PAD] [PAD] [PAD] [PAD] [PAD] [PAD] [PAD] [PAD] [PAD] [PAD] [PAD] [PAD] [PAD] [PAD] [PAD] [PAD] [PAD] [PAD] [PAD] [PAD] [PAD] [PAD] [PAD] [PAD] [PAD] [PAD] [PAD] [PAD] [PAD] [PAD] [PAD] [PAD]',\n",
              " '[CLS] Sure I feel better now , he just dropped from the last 1 / 2 s ##tam ##ina run : 3 [SEP] G ##e ##G ##e [SEP] [PAD] [PAD] [PAD] [PAD] [PAD] [PAD] [PAD] [PAD] [PAD] [PAD] [PAD] [PAD] [PAD] [PAD] [PAD] [PAD] [PAD] [PAD] [PAD] [PAD] [PAD] [PAD]',\n",
              " '[CLS] Holy fuck ! A foreign government sets up meetings for two world leaders at culturally relevant locations in their country and the President gets his picture taken ! Start the [SEP] Petty shit like this takes away from the real argument for not opening up to Cuba . [SEP]',\n",
              " \"[CLS] I ' m guessing you live in Austin , Texas ? That ' s what they have done here . It ' s politics , not the free market . [SEP] That ' s my guess [SEP] [PAD] [PAD] [PAD] [PAD] [PAD] [PAD] [PAD] [PAD] [PAD] [PAD] [PAD] [PAD]\",\n",
              " '[CLS] Episode 101 : Pa ##lo ##ma [SEP] Spencer is so stone ##d ! [SEP] [PAD] [PAD] [PAD] [PAD] [PAD] [PAD] [PAD] [PAD] [PAD] [PAD] [PAD] [PAD] [PAD] [PAD] [PAD] [PAD] [PAD] [PAD] [PAD] [PAD] [PAD] [PAD] [PAD] [PAD] [PAD] [PAD] [PAD] [PAD] [PAD] [PAD] [PAD] [PAD] [PAD] [PAD] [PAD]',\n",
              " '[CLS] Were you a gang of neck ##be ##ards ? [SEP] Neck ##be ##ards in training apparently . [SEP] [PAD] [PAD] [PAD] [PAD] [PAD] [PAD] [PAD] [PAD] [PAD] [PAD] [PAD] [PAD] [PAD] [PAD] [PAD] [PAD] [PAD] [PAD] [PAD] [PAD] [PAD] [PAD] [PAD] [PAD] [PAD] [PAD] [PAD] [PAD] [PAD] [PAD] [PAD]',\n",
              " '[CLS] Sometimes I watch an episode of ho ##ard ##ers before I do a big clean . Watching other people trying to find value in junk makes it easier for me see what of my stuff is really junk . Plus it seems [SEP] Yeah that definitely makes sense [SEP]',\n",
              " \"[CLS] [ ] ( / pp ##sh ##rug ) I just copied and paste ##d it from filly ##das ##hon ' s comment . [SEP] [ ] ( / t ##wi ##s ##quin ##t ) You ' ve been messing with the mirror pond again , haven ' t [SEP]\",\n",
              " \"[CLS] H ##y ##po ##c ##ris ##y at its best . [SEP] At least if you ' re a sniper aiming at this girl , you ' ll know where the heart is . [SEP] [PAD] [PAD] [PAD] [PAD] [PAD] [PAD] [PAD] [PAD] [PAD] [PAD] [PAD] [PAD] [PAD] [PAD] [PAD]\",\n",
              " '[CLS] Oh god he is going to be even worse to deal with [SEP] Especially since it makes him tank ##y as well , it gives more health than Rand ##uin ##s with 55 armour as well , looks like this might be his rush item vs hard AD [SEP]',\n",
              " '[CLS] I was really surprised to find out he was A ##p . For some reason I just assumed he would be ad based . [SEP] its the sword [SEP] [PAD] [PAD] [PAD] [PAD] [PAD] [PAD] [PAD] [PAD] [PAD] [PAD] [PAD] [PAD] [PAD] [PAD] [PAD] [PAD] [PAD] [PAD] [PAD] [PAD]',\n",
              " '[CLS] All I can say is this girl will survive the living dead a ##po ##cal ##y ##pse . Drug ##ged , confused , etc . . . She still asks the important questions like \" why are [SEP] That was the most American thing about this video . [SEP]',\n",
              " \"[CLS] I do not care that they sell dead body parts for research purposes , it ' s better than throwing them into the dump ##ster . At least they can be put to a good scientific [SEP] They get federal funding and are committing a federal crime . [SEP]\",\n",
              " '[CLS] Try to restart the game and walk out again while its not loaded ? [SEP] This , when I have gotten stuck I have gone to the character select screen , then log ##ged back in and ran forward before the wall I was stuck on rendered [SEP] [PAD]',\n",
              " \"[CLS] we ' ll have to grab some beers ! [SEP] I ' d be down ! [SEP] [PAD] [PAD] [PAD] [PAD] [PAD] [PAD] [PAD] [PAD] [PAD] [PAD] [PAD] [PAD] [PAD] [PAD] [PAD] [PAD] [PAD] [PAD] [PAD] [PAD] [PAD] [PAD] [PAD] [PAD] [PAD] [PAD] [PAD] [PAD] [PAD] [PAD] [PAD] [PAD]\",\n",
              " '[CLS] But he was a footballer [SEP] Not according to Con ##te . [SEP] [PAD] [PAD] [PAD] [PAD] [PAD] [PAD] [PAD] [PAD] [PAD] [PAD] [PAD] [PAD] [PAD] [PAD] [PAD] [PAD] [PAD] [PAD] [PAD] [PAD] [PAD] [PAD] [PAD] [PAD] [PAD] [PAD] [PAD] [PAD] [PAD] [PAD] [PAD] [PAD] [PAD] [PAD] [PAD] [PAD]',\n",
              " '[CLS] Does the j ##apa ##nese using it for everything make it better ? [SEP] no , but its probably a better indicator then the bee ##mers . [SEP] [PAD] [PAD] [PAD] [PAD] [PAD] [PAD] [PAD] [PAD] [PAD] [PAD] [PAD] [PAD] [PAD] [PAD] [PAD] [PAD] [PAD] [PAD] [PAD] [PAD] [PAD]',\n",
              " '[CLS] Seriously valve I can ##t ignore all these idiot ##s , they keep showing up . . . [SEP] just another reason to hate r ##uss ##ians . [SEP] [PAD] [PAD] [PAD] [PAD] [PAD] [PAD] [PAD] [PAD] [PAD] [PAD] [PAD] [PAD] [PAD] [PAD] [PAD] [PAD] [PAD] [PAD] [PAD] [PAD]',\n",
              " \"[CLS] I ' d have to disagree with you . Stewart has taken many shots at both the republican ##s as well as the demo ##crats . He equally [SEP] You mean Megan Kelly trying to torpedo Trump was not putting him in the spot enough for you ? [SEP]\",\n",
              " \"[CLS] Yeah , those frozen boxes are very stiff , it must be the cold that does it ? [SEP] Nah , they ' re just made stiff ##er and s ##tur ##dier to protect the product inside from getting crushed [SEP] [PAD] [PAD] [PAD] [PAD] [PAD] [PAD] [PAD] [PAD]\",\n",
              " \"[CLS] What ' s the name of those black and grey 1 ##s ? Nice p ##ic man . [SEP] Jordan 1 Shadow [SEP] [PAD] [PAD] [PAD] [PAD] [PAD] [PAD] [PAD] [PAD] [PAD] [PAD] [PAD] [PAD] [PAD] [PAD] [PAD] [PAD] [PAD] [PAD] [PAD] [PAD] [PAD] [PAD] [PAD] [PAD] [PAD] [PAD]\",\n",
              " '[CLS] I for whatever reason was thinking of dealing with the knight energy shield . I thought I was overlooking an ability to penetrate it [SEP] Nope just the arc damage and its pre ##dic ##able re ##coil allows for fast target acquisition for quick and deadly shots . [SEP]',\n",
              " '[CLS] How would animals look like with their eyes in the front [SEP] This is how we look to them [SEP] [PAD] [PAD] [PAD] [PAD] [PAD] [PAD] [PAD] [PAD] [PAD] [PAD] [PAD] [PAD] [PAD] [PAD] [PAD] [PAD] [PAD] [PAD] [PAD] [PAD] [PAD] [PAD] [PAD] [PAD] [PAD] [PAD] [PAD] [PAD] [PAD]',\n",
              " '[CLS] Florida elected officials walk out on at ##heist in ##vocation : At ##heist ##s face official big ##ot ##ry and discrimination in Lake Worth , Florida [SEP] Florida . . . . surprised ? [SEP] [PAD] [PAD] [PAD] [PAD] [PAD] [PAD] [PAD] [PAD] [PAD] [PAD] [PAD] [PAD] [PAD] [PAD]',\n",
              " '[CLS] Attack on Tunisia hotel [SEP] I wonder if they are the same group ( Google tells me \" Ok ##ba Ibn Na ##fa ##a Brigade \" ) that was behind the March attacks . [SEP] [PAD] [PAD] [PAD] [PAD] [PAD] [PAD] [PAD] [PAD] [PAD] [PAD] [PAD] [PAD] [PAD] [PAD]',\n",
              " '[CLS] Q ##uit duck ##ing around , of course it was ! [SEP] Q ##ua ##ck [SEP] [PAD] [PAD] [PAD] [PAD] [PAD] [PAD] [PAD] [PAD] [PAD] [PAD] [PAD] [PAD] [PAD] [PAD] [PAD] [PAD] [PAD] [PAD] [PAD] [PAD] [PAD] [PAD] [PAD] [PAD] [PAD] [PAD] [PAD] [PAD] [PAD] [PAD] [PAD] [PAD] [PAD]',\n",
              " \"[CLS] i ' ve never really had a chance to talk to a fur ##ry and br ##ony before but I ' ve always wanted to say this You keep doing you man , don ' t let all these people get [SEP] Thanks , means a lot ! [SEP]\",\n",
              " '[CLS] Chris Costa ! [SEP] Hmm ##m AND the angled fore ##g ##rip is in the game . . . [SEP] [PAD] [PAD] [PAD] [PAD] [PAD] [PAD] [PAD] [PAD] [PAD] [PAD] [PAD] [PAD] [PAD] [PAD] [PAD] [PAD] [PAD] [PAD] [PAD] [PAD] [PAD] [PAD] [PAD] [PAD] [PAD] [PAD] [PAD] [PAD] [PAD]',\n",
              " '[CLS] Have you ever injured anyone with a We ##apon ? [SEP] My ##self , cleaning a knife . [SEP] [PAD] [PAD] [PAD] [PAD] [PAD] [PAD] [PAD] [PAD] [PAD] [PAD] [PAD] [PAD] [PAD] [PAD] [PAD] [PAD] [PAD] [PAD] [PAD] [PAD] [PAD] [PAD] [PAD] [PAD] [PAD] [PAD] [PAD] [PAD] [PAD] [PAD]',\n",
              " '[CLS] F ##als ##e , T ##HC * is * crazy bad for you . [SEP] What is so \" crazy bad \" about it then Doctor ? [SEP] [PAD] [PAD] [PAD] [PAD] [PAD] [PAD] [PAD] [PAD] [PAD] [PAD] [PAD] [PAD] [PAD] [PAD] [PAD] [PAD] [PAD] [PAD] [PAD] [PAD] [PAD]',\n",
              " \"[CLS] I ' m just always sad [SEP] Ever since the Ba ##k ##ries started the fuck ##ery with the R ##oar so many years ago ? [SEP] [PAD] [PAD] [PAD] [PAD] [PAD] [PAD] [PAD] [PAD] [PAD] [PAD] [PAD] [PAD] [PAD] [PAD] [PAD] [PAD] [PAD] [PAD] [PAD] [PAD] [PAD] [PAD]\",\n",
              " \"[CLS] I personally think we ' re doing quite all right here [SEP] I ' m just jealous that Canadians have a bigger dick than me [SEP] [PAD] [PAD] [PAD] [PAD] [PAD] [PAD] [PAD] [PAD] [PAD] [PAD] [PAD] [PAD] [PAD] [PAD] [PAD] [PAD] [PAD] [PAD] [PAD] [PAD] [PAD] [PAD] [PAD]\",\n",
              " \"[CLS] eh ##h m ##ura ##mana hits on single target , its just meant to have u ##r W hit like E ##Z q ' s , pretty fun , not serious or anything [SEP] Ah ##h I ' ll need to try it ! [SEP] [PAD] [PAD] [PAD] [PAD]\",\n",
              " \"[CLS] Wisconsin Go ##v . Scott Walker ' s tale of how he came to hold the family Bible that President Ronald Reagan used when taking the oath of office doesn ' t match the memory of the presidential [SEP] Can ' t we just ask Brian Williams ? [SEP]\",\n",
              " \"[CLS] To The Left ##ists : En ##joy It While You Can , see what it is really about with these guys , read the [SEP] So this guy is complaining that we ' re not all she ##pher ##ds like in the bi ##ble , but with guns [SEP]\",\n",
              " '[CLS] Marie ##A ##nne Split Je ##rk and S ##qua ##t 80 ##k ##g [SEP] Damn , I don \\' t think I could do that , and I \\' m a 6 \\' 2 \" 210 ##l ##bs guy [SEP] [PAD] [PAD] [PAD] [PAD] [PAD] [PAD] [PAD] [PAD] [PAD]',\n",
              " '[CLS] As someone who sort of likes historical material ##ism , can someone explain what these people mean by cultural Marx ##ism ? I have [SEP] Cultural Marx ##ism is just made up term conservative ##s use to describe anything progressive to make it look like e ##v ##vi [SEP]',\n",
              " '[CLS] Yes they can , but many video ads auto ##play these days , and with the cost for placement , they really need to [SEP] Ok , but the point was that if you are moving to html ##5 ads , user will have total control of them [SEP]',\n",
              " \"[CLS] I can ' t lose if I don ' t play the game . [SEP] No , you are still losing . [SEP] [PAD] [PAD] [PAD] [PAD] [PAD] [PAD] [PAD] [PAD] [PAD] [PAD] [PAD] [PAD] [PAD] [PAD] [PAD] [PAD] [PAD] [PAD] [PAD] [PAD] [PAD] [PAD] [PAD] [PAD] [PAD] [PAD]\",\n",
              " \"[CLS] Su ##p ##rem ##acy just isn ' t a fun game type for iron banner . The dominance of r ##oaming super ##s and shotgun ##s [SEP] But I love my easy wins since no one else on both teams knows you have to collect the crest . [SEP]\",\n",
              " '[CLS] but can i stream it on net ##f ##lix ? [SEP] If only there was some way to find out ! [SEP] [PAD] [PAD] [PAD] [PAD] [PAD] [PAD] [PAD] [PAD] [PAD] [PAD] [PAD] [PAD] [PAD] [PAD] [PAD] [PAD] [PAD] [PAD] [PAD] [PAD] [PAD] [PAD] [PAD] [PAD] [PAD] [PAD] [PAD]',\n",
              " \"[CLS] Circle ##bro ##ke , what ' s an opinion of yours that would * actually * get down ##vo ##ted on Red ##dit ? [SEP] Dark Souls isn ' t that great . [SEP] [PAD] [PAD] [PAD] [PAD] [PAD] [PAD] [PAD] [PAD] [PAD] [PAD] [PAD] [PAD] [PAD] [PAD] [PAD]\",\n",
              " '[CLS] Hello ! This is your friendly Ni ##anti ##c employee . Thank ##yo ##u for reporting this bug . Our next build releasing tomorrow will squash this bug as we have done with all previous bugs and make sure no p ##oke ##mon [SEP] \" B ##ug \" [SEP]',\n",
              " '[CLS] I did something that truly scared me this past weekend . [SEP] Last p ##ic : \" I gotta keep cool so they don \\' t throw me again . \" [SEP] [PAD] [PAD] [PAD] [PAD] [PAD] [PAD] [PAD] [PAD] [PAD] [PAD] [PAD] [PAD] [PAD] [PAD] [PAD] [PAD] [PAD]',\n",
              " \"[CLS] Nope . Also it won ##t change your alignment choices . [SEP] Damn , that ' s the only reason I wanted to replay it [SEP] [PAD] [PAD] [PAD] [PAD] [PAD] [PAD] [PAD] [PAD] [PAD] [PAD] [PAD] [PAD] [PAD] [PAD] [PAD] [PAD] [PAD] [PAD] [PAD] [PAD] [PAD] [PAD] [PAD]\",\n",
              " '[CLS] \" To balance out Earth Day \" [SEP] I know we should be against private property , but this guy deserves a special g ##ula ##g just for him [SEP] [PAD] [PAD] [PAD] [PAD] [PAD] [PAD] [PAD] [PAD] [PAD] [PAD] [PAD] [PAD] [PAD] [PAD] [PAD] [PAD] [PAD] [PAD] [PAD]',\n",
              " '[CLS] IT ##AP of a la ##lang field [SEP] no idea what la ##lang is , but this is a great photo . [SEP] [PAD] [PAD] [PAD] [PAD] [PAD] [PAD] [PAD] [PAD] [PAD] [PAD] [PAD] [PAD] [PAD] [PAD] [PAD] [PAD] [PAD] [PAD] [PAD] [PAD] [PAD] [PAD] [PAD] [PAD] [PAD] [PAD]',\n",
              " '[CLS] Not in real life I hope . . . [SEP] Not in Mine ##craft I hope . . . [SEP] [PAD] [PAD] [PAD] [PAD] [PAD] [PAD] [PAD] [PAD] [PAD] [PAD] [PAD] [PAD] [PAD] [PAD] [PAD] [PAD] [PAD] [PAD] [PAD] [PAD] [PAD] [PAD] [PAD] [PAD] [PAD] [PAD] [PAD] [PAD] [PAD]',\n",
              " \"[CLS] probably ye ##men ##ite , not has ##si ##dic though since the has ##si ##di movement is euro ##pe ##an , just orthodox . [SEP] Aren ' t ye ##men ##ite ' s basically a ##rab ? [SEP] [PAD] [PAD] [PAD] [PAD] [PAD] [PAD] [PAD] [PAD] [PAD] [PAD] [PAD]\",\n",
              " '[CLS] 70 years of Lockheed Martin innovation [SEP] And billion ##s of American tax pay ##er dollars . [SEP] [PAD] [PAD] [PAD] [PAD] [PAD] [PAD] [PAD] [PAD] [PAD] [PAD] [PAD] [PAD] [PAD] [PAD] [PAD] [PAD] [PAD] [PAD] [PAD] [PAD] [PAD] [PAD] [PAD] [PAD] [PAD] [PAD] [PAD] [PAD] [PAD] [PAD] [PAD]',\n",
              " \"[CLS] How is the M ##MO ##RP ##G of your dreams ? Hello everyone , For years I ' ve been looking for a new M ##MO ##RP ##G to play [SEP] W ##o ##W ; but with the quest ##ing , and economy of Run ##es ##cape . [SEP]\",\n",
              " \"[CLS] Show ##s like cops I absolutely love shows like cops and Alaska state troop ##ers . Can you please recommend other good shows ? [SEP] Boston ' s Fine ##st , Co ##ps Re ##loaded , Rookie ##s , Wild Justice , Border Wars [SEP] [PAD] [PAD] [PAD] [PAD]\",\n",
              " \"[CLS] I was in the same situation and I have similar results ( live together now after 3 years of long distance ) . As long as we stayed dedicated in making time to see each other , I found it very [SEP] Couldn ' t agree more ! [SEP]\",\n",
              " \"[CLS] ( because they ' re lying about the languages they can speak to look cool on the internet ) [SEP] Thanks , I think we all understood that already lo ##l . [SEP] [PAD] [PAD] [PAD] [PAD] [PAD] [PAD] [PAD] [PAD] [PAD] [PAD] [PAD] [PAD] [PAD] [PAD] [PAD] [PAD]\",\n",
              " '[CLS] F ##og ##gy ch ##ica ##go street [SEP] that is a great photo [SEP] [PAD] [PAD] [PAD] [PAD] [PAD] [PAD] [PAD] [PAD] [PAD] [PAD] [PAD] [PAD] [PAD] [PAD] [PAD] [PAD] [PAD] [PAD] [PAD] [PAD] [PAD] [PAD] [PAD] [PAD] [PAD] [PAD] [PAD] [PAD] [PAD] [PAD] [PAD] [PAD] [PAD] [PAD] [PAD]',\n",
              " \"[CLS] Don ' t really see a problem with this , I mean , it actually seems kind of a respect ##ful thing to do . Maybe it ' s just me , [SEP] Heaven for ##bid anyone try and enjoy their lives while a tragedy is on ! [SEP]\",\n",
              " \"[CLS] I don ' t get it . [SEP] O ##P is Mario , High School is Yo ##shi . [SEP] [PAD] [PAD] [PAD] [PAD] [PAD] [PAD] [PAD] [PAD] [PAD] [PAD] [PAD] [PAD] [PAD] [PAD] [PAD] [PAD] [PAD] [PAD] [PAD] [PAD] [PAD] [PAD] [PAD] [PAD] [PAD] [PAD] [PAD] [PAD] [PAD]\",\n",
              " \"[CLS] I was making a joke about shit , not s ##ham ##po ##o , but still an impressive achievement . Also , not going to lie , I ' m totally jealous of your look dude . [SEP] thanks brother bear [SEP] [PAD] [PAD] [PAD] [PAD] [PAD] [PAD] [PAD]\",\n",
              " '[CLS] A fifteen year old [SEP] Jared ? [SEP] [PAD] [PAD] [PAD] [PAD] [PAD] [PAD] [PAD] [PAD] [PAD] [PAD] [PAD] [PAD] [PAD] [PAD] [PAD] [PAD] [PAD] [PAD] [PAD] [PAD] [PAD] [PAD] [PAD] [PAD] [PAD] [PAD] [PAD] [PAD] [PAD] [PAD] [PAD] [PAD] [PAD] [PAD] [PAD] [PAD] [PAD] [PAD] [PAD] [PAD] [PAD]',\n",
              " '[CLS] F ##ID ##LA ##R - Ch ##ea ##p Beer [SEP] For some reason the first five seconds remind me of the theme song for Jimmy N ##eu ##tron [SEP] [PAD] [PAD] [PAD] [PAD] [PAD] [PAD] [PAD] [PAD] [PAD] [PAD] [PAD] [PAD] [PAD] [PAD] [PAD] [PAD] [PAD] [PAD] [PAD] [PAD]',\n",
              " \"[CLS] I ' m a 48 year old married man who has sex with a 20 year old woman who lives with my wife and I . My wife set up [SEP] If your wife told you she wanted to bang another man , how would you react ? [SEP]\",\n",
              " \"[CLS] I just found out that my crush likes another guy . I know that I have to move on but I just can ' [SEP] I am in the exact same boat : ^ ( you can send me a PM if you want to talk about it [SEP]\",\n",
              " \"[CLS] By the sounds of it she kicked him to the curb and won ' t let him have access . A common occurrence these days . [SEP] What makes it sound like that ? [SEP] [PAD] [PAD] [PAD] [PAD] [PAD] [PAD] [PAD] [PAD] [PAD] [PAD] [PAD] [PAD] [PAD] [PAD]\",\n",
              " '[CLS] I like the look of it in a \" rough Viking mercenary \" sort of way , but I \\' ve always preferred the look of the steel plate and e ##bon ##y armor sets . Steel plate has [SEP] yeah steel plate is also bad ##ass . [SEP]',\n",
              " '[CLS] A couple private universities I was looking at in 2014 were looking to charge me around 50 - 60 ##k per year for room / board and tuition . No doubt [SEP] What did the private university have to offer that a solid state university could not ? [SEP]',\n",
              " '[CLS] Funny how every time there is a post that makes Block ##stream look bad you get the same troll ##s saying \" the post makes the this sub look bad \" and then on another post you have [SEP] Hey , at least they \\' re consistent . [SEP]',\n",
              " '[CLS] Will the console versions of the game have aim assist ? Title [SEP] yes [SEP] [PAD] [PAD] [PAD] [PAD] [PAD] [PAD] [PAD] [PAD] [PAD] [PAD] [PAD] [PAD] [PAD] [PAD] [PAD] [PAD] [PAD] [PAD] [PAD] [PAD] [PAD] [PAD] [PAD] [PAD] [PAD] [PAD] [PAD] [PAD] [PAD] [PAD] [PAD] [PAD] [PAD] [PAD]',\n",
              " \"[CLS] The entire industry ( not just Te ##sla ) is r ##ife with subsidies , so I ' m not sure what the solution [SEP] Don ' t have one other than we need a lot more inform ##at ##uo ##n before we could even begin to form [SEP]\",\n",
              " \"[CLS] I ' m on the 2013 Mo ##to X as well . . . Motor ##ola nail ##ed it with Active Di ##sp ##lay and As ##sist . It ' s the only reason [SEP] My contract ends in December , so I have some time to evaluate [SEP]\",\n",
              " '[CLS] Do you have a blue 84 ##8 ? [SEP] No . [SEP] [PAD] [PAD] [PAD] [PAD] [PAD] [PAD] [PAD] [PAD] [PAD] [PAD] [PAD] [PAD] [PAD] [PAD] [PAD] [PAD] [PAD] [PAD] [PAD] [PAD] [PAD] [PAD] [PAD] [PAD] [PAD] [PAD] [PAD] [PAD] [PAD] [PAD] [PAD] [PAD] [PAD] [PAD] [PAD] [PAD] [PAD]',\n",
              " \"[CLS] Ha ##ha nice try , O ##P , but that ' s a cat [SEP] We are clearly seeing a r ##ac ##coon here [SEP] [PAD] [PAD] [PAD] [PAD] [PAD] [PAD] [PAD] [PAD] [PAD] [PAD] [PAD] [PAD] [PAD] [PAD] [PAD] [PAD] [PAD] [PAD] [PAD] [PAD] [PAD] [PAD] [PAD] [PAD]\",\n",
              " '[CLS] DB ##G Bo ##ught L ##OT ##RO and D ##AD ##O it would seem [SEP] Hey folks , G ##anda ##lf here . . . [SEP] [PAD] [PAD] [PAD] [PAD] [PAD] [PAD] [PAD] [PAD] [PAD] [PAD] [PAD] [PAD] [PAD] [PAD] [PAD] [PAD] [PAD] [PAD] [PAD] [PAD] [PAD] [PAD] [PAD]',\n",
              " '[CLS] Its rifle target shooting , not \" sniper training \" These people appear to be using target shooting 22 rifles . American colleges sometimes have teams that shoot these competitive ##ly . Having shot some targets a similar rifle , I [SEP] Are the skills transfer ##able ? [SEP]',\n",
              " '[CLS] Cherry tomato ##es update , 25 days of indoor bucket ##ing [SEP] Is this from seed or clone ? [SEP] [PAD] [PAD] [PAD] [PAD] [PAD] [PAD] [PAD] [PAD] [PAD] [PAD] [PAD] [PAD] [PAD] [PAD] [PAD] [PAD] [PAD] [PAD] [PAD] [PAD] [PAD] [PAD] [PAD] [PAD] [PAD] [PAD] [PAD] [PAD] [PAD]',\n",
              " '[CLS] ah ok , that makes sense , I wonder how E ##G decided he was suitable for them over someone else ha ##ha . [SEP] Cause PP ##d is toxic as ##well [SEP] [PAD] [PAD] [PAD] [PAD] [PAD] [PAD] [PAD] [PAD] [PAD] [PAD] [PAD] [PAD] [PAD] [PAD] [PAD] [PAD]',\n",
              " '[CLS] Guess ##ing . . . but , to ##rt ##illa ? [SEP] S ##m ##h [SEP] [PAD] [PAD] [PAD] [PAD] [PAD] [PAD] [PAD] [PAD] [PAD] [PAD] [PAD] [PAD] [PAD] [PAD] [PAD] [PAD] [PAD] [PAD] [PAD] [PAD] [PAD] [PAD] [PAD] [PAD] [PAD] [PAD] [PAD] [PAD] [PAD] [PAD] [PAD] [PAD] [PAD]',\n",
              " '[CLS] Did Land ##fall get ne ##rf ##ed ? I am having a lot of trouble getting landfall kills lately when before the latest patch , it felt like I got at least one as long as someone was nearby . Did this per [SEP] seems normal to me [SEP]',\n",
              " \"[CLS] much later ? there isn ##t that much time before the game comes out . its just over 2 months [SEP] The post is from the 16th of June ( 2 months ago today ) , so I re ##ck ##on they ' ll have time : P [SEP]\",\n",
              " '[CLS] That was pretty Over ##don ##e [SEP] You should Trace ##r cables before assuming it is a dead ##eye - p [SEP] [PAD] [PAD] [PAD] [PAD] [PAD] [PAD] [PAD] [PAD] [PAD] [PAD] [PAD] [PAD] [PAD] [PAD] [PAD] [PAD] [PAD] [PAD] [PAD] [PAD] [PAD] [PAD] [PAD] [PAD] [PAD] [PAD] [PAD]',\n",
              " '[CLS] Yeah they tend to leave that fun fact out on the news when they talk about how E ##bol ##a is spread . [SEP] can ##t mention sex in the news , that ##d be off ##ending [SEP] [PAD] [PAD] [PAD] [PAD] [PAD] [PAD] [PAD] [PAD] [PAD] [PAD] [PAD]',\n",
              " \"[CLS] Even in war she has to show that c ##lea ##vage [SEP] Wouldn ' t be Lucy without t ##its bigger than her head constantly showing . [SEP] [PAD] [PAD] [PAD] [PAD] [PAD] [PAD] [PAD] [PAD] [PAD] [PAD] [PAD] [PAD] [PAD] [PAD] [PAD] [PAD] [PAD] [PAD] [PAD] [PAD] [PAD]\",\n",
              " '[CLS] G ##rump ##s Dream Course : 5 Second G ##rump ##s - PA ##RT 12 - Game G ##rump ##s V ##S [SEP] M ##UT ##E G ##R ##UM ##PS : PA ##RT 2 ! [SEP] [PAD] [PAD] [PAD] [PAD] [PAD] [PAD] [PAD] [PAD] [PAD] [PAD] [PAD] [PAD] [PAD]',\n",
              " \"[CLS] I wear cargo shorts but can ' t grow a beard . Is that why I became a video guy ? Wait , no , it was because it pays me [SEP] I have a video beard , although I am one of the few . . . [SEP]\",\n",
              " \"[CLS] Yeah I suppose . I have a hard time with the names sometimes especially going between the two . Then again , they wouldn ' t be as difficult if we used them all the time . [SEP] That ' s true [SEP] [PAD] [PAD] [PAD] [PAD] [PAD] [PAD]\",\n",
              " \"[CLS] You can control your weight . You can ' t control your ethnicity . I have zero tolerance for racism , trans ##ph ##obia [SEP] It ' s really sad that I ' m by now so desperate to see * someone * es ##po ##use non - [SEP]\",\n",
              " \"[CLS] Nice ! The M ##c ##lar ##en looks like it ' s too happy . [SEP] Can ' t un ##see , it looks almost ps ##ych ##otic ##ally happy lo ##l , like one of the last generation Ma ##zda ##s . [SEP] [PAD] [PAD] [PAD] [PAD] [PAD]\",\n",
              " \"[CLS] second that , one of the crap ##pies ##t brands out there [SEP] I ' m it ##alia ##n , i ' ll never buy a fucking FIA ##T . . . [SEP] [PAD] [PAD] [PAD] [PAD] [PAD] [PAD] [PAD] [PAD] [PAD] [PAD] [PAD] [PAD] [PAD] [PAD] [PAD] [PAD]\",\n",
              " '[CLS] f ) No such thing as bad publicity [SEP] ESPN seems to disagree . [SEP] [PAD] [PAD] [PAD] [PAD] [PAD] [PAD] [PAD] [PAD] [PAD] [PAD] [PAD] [PAD] [PAD] [PAD] [PAD] [PAD] [PAD] [PAD] [PAD] [PAD] [PAD] [PAD] [PAD] [PAD] [PAD] [PAD] [PAD] [PAD] [PAD] [PAD] [PAD] [PAD] [PAD] [PAD]',\n",
              " \"[CLS] Red ##dit with a Google U ##I [SEP] Hell you ' d be able to do that with a ch ##rome extension , I ' m actually interested in doing that x ##D [SEP] [PAD] [PAD] [PAD] [PAD] [PAD] [PAD] [PAD] [PAD] [PAD] [PAD] [PAD] [PAD] [PAD] [PAD] [PAD]\",\n",
              " \"[CLS] Why isn ' t there a Terra ##n captain ? rip z ##ee ##z [SEP] unavailable ! [SEP] [PAD] [PAD] [PAD] [PAD] [PAD] [PAD] [PAD] [PAD] [PAD] [PAD] [PAD] [PAD] [PAD] [PAD] [PAD] [PAD] [PAD] [PAD] [PAD] [PAD] [PAD] [PAD] [PAD] [PAD] [PAD] [PAD] [PAD] [PAD] [PAD] [PAD] [PAD]\",\n",
              " \"[CLS] IT ' S NO US ##E ! [SEP] T ##A ##KE T ##H ##IS ! [SEP] [PAD] [PAD] [PAD] [PAD] [PAD] [PAD] [PAD] [PAD] [PAD] [PAD] [PAD] [PAD] [PAD] [PAD] [PAD] [PAD] [PAD] [PAD] [PAD] [PAD] [PAD] [PAD] [PAD] [PAD] [PAD] [PAD] [PAD] [PAD] [PAD] [PAD] [PAD] [PAD] [PAD]\",\n",
              " \"[CLS] W E W L A D E W L A D [SEP] so much shit ##post ##ing but you couldn ' t donate en ##uff GB ##P to stop 4 ##chan from going under [SEP] [PAD] [PAD] [PAD] [PAD] [PAD] [PAD] [PAD] [PAD] [PAD] [PAD] [PAD] [PAD] [PAD] [PAD]\",\n",
              " '[CLS] How to play Doom with toast ##ers . [SEP] \" how to make a potentially interesting and funny topic un ##watch ##ably boring . \" [SEP] [PAD] [PAD] [PAD] [PAD] [PAD] [PAD] [PAD] [PAD] [PAD] [PAD] [PAD] [PAD] [PAD] [PAD] [PAD] [PAD] [PAD] [PAD] [PAD] [PAD] [PAD] [PAD] [PAD]',\n",
              " \"[CLS] T ##IL water doesn ' t give a damn about physics [SEP] This is exactly how physics works . [SEP] [PAD] [PAD] [PAD] [PAD] [PAD] [PAD] [PAD] [PAD] [PAD] [PAD] [PAD] [PAD] [PAD] [PAD] [PAD] [PAD] [PAD] [PAD] [PAD] [PAD] [PAD] [PAD] [PAD] [PAD] [PAD] [PAD] [PAD] [PAD] [PAD]\",\n",
              " \"[CLS] Has this show been renewed ? I sure hope so . [SEP] I don ' t think it was ever cancelled . [SEP] [PAD] [PAD] [PAD] [PAD] [PAD] [PAD] [PAD] [PAD] [PAD] [PAD] [PAD] [PAD] [PAD] [PAD] [PAD] [PAD] [PAD] [PAD] [PAD] [PAD] [PAD] [PAD] [PAD] [PAD] [PAD] [PAD]\",\n",
              " '[CLS] I would avoid him if possible [SEP] I intend to [SEP] [PAD] [PAD] [PAD] [PAD] [PAD] [PAD] [PAD] [PAD] [PAD] [PAD] [PAD] [PAD] [PAD] [PAD] [PAD] [PAD] [PAD] [PAD] [PAD] [PAD] [PAD] [PAD] [PAD] [PAD] [PAD] [PAD] [PAD] [PAD] [PAD] [PAD] [PAD] [PAD] [PAD] [PAD] [PAD] [PAD] [PAD] [PAD]',\n",
              " '[CLS] S ##nap ##cha ##t chick ##s p ##ee ##ing [SEP] S ##nap ##cha ##t sauce [SEP] [PAD] [PAD] [PAD] [PAD] [PAD] [PAD] [PAD] [PAD] [PAD] [PAD] [PAD] [PAD] [PAD] [PAD] [PAD] [PAD] [PAD] [PAD] [PAD] [PAD] [PAD] [PAD] [PAD] [PAD] [PAD] [PAD] [PAD] [PAD] [PAD] [PAD] [PAD] [PAD] [PAD]',\n",
              " \"[CLS] Yes , over ##rated . He ' s a volume shooter . He got the third most targets in the NFL last season , but the two people [SEP] My guess is you ' re just reading s ##tat ##s and don ' t watch him play . [SEP]\",\n",
              " '[CLS] Weird hands you say ? [SEP] I thought it was going to say something at the end . [SEP] [PAD] [PAD] [PAD] [PAD] [PAD] [PAD] [PAD] [PAD] [PAD] [PAD] [PAD] [PAD] [PAD] [PAD] [PAD] [PAD] [PAD] [PAD] [PAD] [PAD] [PAD] [PAD] [PAD] [PAD] [PAD] [PAD] [PAD] [PAD] [PAD] [PAD]',\n",
              " '[CLS] Because they are close to us . [SEP] We like the m ##oo ##oo ##oo ##oon ##nn ##n But not as much as a s ##po ##oo ##on ##n [SEP] [PAD] [PAD] [PAD] [PAD] [PAD] [PAD] [PAD] [PAD] [PAD] [PAD] [PAD] [PAD] [PAD] [PAD] [PAD] [PAD] [PAD] [PAD] [PAD]',\n",
              " '[CLS] Christine Te ##ige ##n demonstrating a strong understanding of \" Freedom of Speech \" [SEP] She \\' s been banned from t ##wi ##tter on numerous occasions if it \\' s the person I think it is . [SEP] [PAD] [PAD] [PAD] [PAD] [PAD] [PAD] [PAD] [PAD] [PAD] [PAD]',\n",
              " \"[CLS] I like having the GT logo on top of U ##GA ' s in the first map . [SEP] Ha ##ha it is only due to you being in the ACC Lay ##er folder and me not wanting the Tiger Pa ##w to be under the Chicken . [SEP]\",\n",
              " '[CLS] while doing lunar diplomacy [SEP] People were really mad at me because I killed 1 fire giant for the ka ##nda ##rin diary l ##ma ##o [SEP] [PAD] [PAD] [PAD] [PAD] [PAD] [PAD] [PAD] [PAD] [PAD] [PAD] [PAD] [PAD] [PAD] [PAD] [PAD] [PAD] [PAD] [PAD] [PAD] [PAD] [PAD] [PAD]',\n",
              " '[CLS] pretty much what a ps ##4 is with its own o ##s [SEP] Um , every game console in the history of game consoles ( with the exception of things like Po ##ng ) was by definition a computer . [SEP] [PAD] [PAD] [PAD] [PAD] [PAD] [PAD] [PAD] [PAD]',\n",
              " '[CLS] If you had the opportunity to eat human flesh , would you do it ? [SEP] Are you offering to be the guest of honor at a long pork cook ##out ? [SEP] [PAD] [PAD] [PAD] [PAD] [PAD] [PAD] [PAD] [PAD] [PAD] [PAD] [PAD] [PAD] [PAD] [PAD] [PAD] [PAD]',\n",
              " '[CLS] Shell Beach in Western Australia , a beautiful bright white beach that is made up of millions of tiny shells up to 10 metres deep and stretching for over 120 kilometres . This beach is one of only two [SEP] Might just be worse than leg ##os . [SEP]',\n",
              " \"[CLS] What ' s some supposedly q ##uin ##tes ##sent ##ial childhood experience that you didn ' t have ? [SEP] I never had a Nintendo 64 or a game ##cu ##be , my friends sometimes talk about the consoles and i can ' t say anything because i [SEP]\",\n",
              " \"[CLS] Sa ##ving a brother ' s PC from a g ##lit ##tery , sticky death [SEP] my friend got in a fight with his girlfriend and he ran into her room and destroyed all her shit j ##k guys can ' t get away with that [SEP] [PAD] [PAD]\",\n",
              " \"[CLS] What ' s your Game Of The Year so far ? So with the summer d ##raught all but behind us and a lot of big and interesting releases in the months ahead : what is your game of the year so far ? And [SEP] Over ##watch [SEP]\",\n",
              " '[CLS] F ##U ##K U G ##UI ##SE H ##OW D ##O I DE ##LE ##T [SEP] You press the reply button and type in your email and pay ##pal password . [SEP] [PAD] [PAD] [PAD] [PAD] [PAD] [PAD] [PAD] [PAD] [PAD] [PAD] [PAD] [PAD] [PAD] [PAD] [PAD] [PAD] [PAD]',\n",
              " \"[CLS] I would think that would be fine . Make sure you f ##use as close to the battery as possible . Usually people use [SEP] I am fused like 3 inches from battery , but I ' ll be adding an AN ##L f ##use there really soon [SEP]\",\n",
              " '[CLS] Oh look , everybody forgot that EA are the god ##dam devil again . [SEP] People are fuck ##in idiot ##s . [SEP] [PAD] [PAD] [PAD] [PAD] [PAD] [PAD] [PAD] [PAD] [PAD] [PAD] [PAD] [PAD] [PAD] [PAD] [PAD] [PAD] [PAD] [PAD] [PAD] [PAD] [PAD] [PAD] [PAD] [PAD] [PAD] [PAD]',\n",
              " \"[CLS] I agree that it ' s not worth the wait if the wait is more than 15 minutes . But it ' s really , really good k ##eb ##ab ! Probably among the best I ' ve [SEP] That is what I always tell my visitors . [SEP]\",\n",
              " '[CLS] 25 Deep - Fr ##ied Foods From the Texas State Fair ( I plan on trying them AL ##L ! [SEP] Most of that looks re ##pu ##lsive , yet oddly delicious at the same time . [SEP] [PAD] [PAD] [PAD] [PAD] [PAD] [PAD] [PAD] [PAD] [PAD] [PAD] [PAD]',\n",
              " '[CLS] Young T ##hu ##g - I Mean ( Pro ##d By Metro Boom ##in ) [SEP] every ##time this video comes up i get really horn ##y and then im like god damn i was just trying to listen to young th ##ug and relax but now i [SEP]',\n",
              " '[CLS] What do you have against Heinrich B ##iber ? [SEP] too bar ##ock for him . [SEP] [PAD] [PAD] [PAD] [PAD] [PAD] [PAD] [PAD] [PAD] [PAD] [PAD] [PAD] [PAD] [PAD] [PAD] [PAD] [PAD] [PAD] [PAD] [PAD] [PAD] [PAD] [PAD] [PAD] [PAD] [PAD] [PAD] [PAD] [PAD] [PAD] [PAD] [PAD] [PAD]',\n",
              " \"[CLS] A lot of en ##gli ##sh - speaking tourists are spending winter holidays in it ##alia ##n al ##ps or do ##lo ##mite ##s , and yes [SEP] Maybe they ' re talking about their winter , which is our summer , because they live upside down ? [SEP]\",\n",
              " '[CLS] And also goes like : Allah la ##lal ##ala ##lal ##ala ##l B ##O ##O ##O ##O ##O ##O ##O ##O ##O ##O ##O ##O ##OM ##B ! ! ! [SEP] I meant C ##rom ##iel ##l comment , not your dip ##shi ##t stereo ##ty ##pical comment [SEP]',\n",
              " \"[CLS] I am personally very happy with Day ##Z . Help ##s if you play with friends . [SEP] I did for a while , but it just seemed like the de ##v ##s weren ' t developing the game for the experience of the people playing , which [SEP]\",\n",
              " '[CLS] II ##RC the controversy was over The Jin ##x with ##holding info the police could have used and f ##ud ##ging details to make [SEP] I find it kind of h ##y ##po ##c ##ritic ##al that they are talking about The Jin ##x leaving out details , [SEP]',\n",
              " '[CLS] How much you need for current H ##T - 12 ? [SEP] 3 ##x your HP + 2 ##k d ##m ##g ( T - 55 ##A ) [SEP] [PAD] [PAD] [PAD] [PAD] [PAD] [PAD] [PAD] [PAD] [PAD] [PAD] [PAD] [PAD] [PAD] [PAD] [PAD] [PAD] [PAD] [PAD] [PAD] [PAD]',\n",
              " \"[CLS] If they aren ' t American civilians , what does it matter ? [SEP] I seriously hope that was sarcasm . [SEP] [PAD] [PAD] [PAD] [PAD] [PAD] [PAD] [PAD] [PAD] [PAD] [PAD] [PAD] [PAD] [PAD] [PAD] [PAD] [PAD] [PAD] [PAD] [PAD] [PAD] [PAD] [PAD] [PAD] [PAD] [PAD] [PAD] [PAD]\",\n",
              " \"[CLS] I can ' t tell which is worse , the fact that Palmer handy some really shit to answer questions better than the m ##ods did or that he had to fight with [SEP] I think the combination of both is what makes it pretty shit ##ty . [SEP]\",\n",
              " '[CLS] I like how your argument essentially b ##oil ##s down to \" we shouldn \\' t challenge young people with ideas they might not be [SEP] So your argument essentially b ##oil ##s down to \" we need to take every possible opportunity to shock children \" . [SEP]',\n",
              " '[CLS] Red ##dit ##ors who saved all of their money at a young age instead of \" living \" , and now are 50 + years old , how are your lives today [SEP] No one is 50 + and was a red ##dit ##er a young age . [SEP]',\n",
              " '[CLS] Why would a m ##od del ##ete the recipe comment ? [SEP] Could be auto ##mo ##d * shrug * [SEP] [PAD] [PAD] [PAD] [PAD] [PAD] [PAD] [PAD] [PAD] [PAD] [PAD] [PAD] [PAD] [PAD] [PAD] [PAD] [PAD] [PAD] [PAD] [PAD] [PAD] [PAD] [PAD] [PAD] [PAD] [PAD] [PAD] [PAD] [PAD]',\n",
              " \"[CLS] Oh is this what we are going to do today ? Fight ? [SEP] This question has been posted over and over again , and it ' s always the same movies . [SEP] [PAD] [PAD] [PAD] [PAD] [PAD] [PAD] [PAD] [PAD] [PAD] [PAD] [PAD] [PAD] [PAD] [PAD] [PAD]\",\n",
              " \"[CLS] Fuck that trailer . Just awful . And fuck the people shit ##ting on such a classic legacy just to make a quick no [SEP] Not sure about this post . . . so you are or you aren ' t going to go see this movie ? [SEP]\",\n",
              " \"[CLS] How tall is ice ? [SEP] He is at least 5 ' 7 . [SEP] [PAD] [PAD] [PAD] [PAD] [PAD] [PAD] [PAD] [PAD] [PAD] [PAD] [PAD] [PAD] [PAD] [PAD] [PAD] [PAD] [PAD] [PAD] [PAD] [PAD] [PAD] [PAD] [PAD] [PAD] [PAD] [PAD] [PAD] [PAD] [PAD] [PAD] [PAD] [PAD] [PAD] [PAD]\",\n",
              " '[CLS] # W ##E H ##AV ##E THE B ##ES ##T W ##OM ##EN F ##OL ##KS # [SEP] I L ##O ##VE W ##OM ##EN [SEP] [PAD] [PAD] [PAD] [PAD] [PAD] [PAD] [PAD] [PAD] [PAD] [PAD] [PAD] [PAD] [PAD] [PAD] [PAD] [PAD] [PAD] [PAD] [PAD] [PAD] [PAD] [PAD] [PAD]',\n",
              " '[CLS] Is it racist to say \\' Mexican ##s \\' ? [SEP] It \\' s more racist say \" la ##tino ##s \" or \" his ##pan ##ics \" to me ##xi ##can people . [SEP] [PAD] [PAD] [PAD] [PAD] [PAD] [PAD] [PAD] [PAD] [PAD] [PAD] [PAD] [PAD] [PAD] [PAD]',\n",
              " '[CLS] could he not have just gone to the banks at ##m and check the balance there ? i mean . . . he did have the card and the pin number [SEP] The personal identification number number ? [SEP] [PAD] [PAD] [PAD] [PAD] [PAD] [PAD] [PAD] [PAD] [PAD] [PAD]',\n",
              " \"[CLS] Show me your Dell X ##PS 15 ' s with DB ##rand skins I ' m considering getting a DB ##rand skin for my [SEP] I ' ll post mine later , it ' s got concrete and copper , but I ' ve also got a z [SEP]\",\n",
              " '[CLS] An art ##erial view of Sydney [SEP] With the water and the roads a similar colour , Sydney has now become the city with the most intricate and largest canal system ! [SEP] [PAD] [PAD] [PAD] [PAD] [PAD] [PAD] [PAD] [PAD] [PAD] [PAD] [PAD] [PAD] [PAD] [PAD] [PAD] [PAD]',\n",
              " '[CLS] Eddie Hear ##n extended interview with IF ##LT ##V on Joshua - K ##lit ##sch ##ko situation and various other upcoming fights [SEP] This snake would tell you black was white if it meant he could line his pockets . [SEP] [PAD] [PAD] [PAD] [PAD] [PAD] [PAD] [PAD] [PAD]',\n",
              " \"[CLS] P ##m me . I live in Brighton and actually have a free lot available , it ' s not crazy close to Harry ' s but it might serve you temporarily . [SEP] Thanks , will do . [SEP] [PAD] [PAD] [PAD] [PAD] [PAD] [PAD] [PAD] [PAD] [PAD]\",\n",
              " '[CLS] Hi ##nk ##ie \\' s Re ##sign ##ation Letter [SEP] There is a section titled \" the importance of intellectual hum ##ility \" in a 13 page resignation letter that compares his own thought process to Abe Lincoln , Warren ##t B ##uff ##et , and Max Plan [SEP]',\n",
              " '[CLS] help with custom unit rules I have made a custom ta ##u fly ##er and I am not sure if the rules and war [SEP] I jump in on the points here , 200 - 250 plus sound rather fair I ##d say go take forge ##world ##s [SEP]',\n",
              " \"[CLS] There is a lot of these do ##uche bags , its like an in ##fest ##ation problem but we can ##t reach under the fridge [SEP] So what you ' re saying is , we need to gas them . . . . uh . . . . [SEP]\",\n",
              " '[CLS] D ##A ##E still play F ##lap ##py Birds ? [SEP] I do . [SEP] [PAD] [PAD] [PAD] [PAD] [PAD] [PAD] [PAD] [PAD] [PAD] [PAD] [PAD] [PAD] [PAD] [PAD] [PAD] [PAD] [PAD] [PAD] [PAD] [PAD] [PAD] [PAD] [PAD] [PAD] [PAD] [PAD] [PAD] [PAD] [PAD] [PAD] [PAD] [PAD] [PAD] [PAD]',\n",
              " '[CLS] Another example of how natural sexual expression being re ##pressed can lead to mental illness . [SEP] How does this lead to the pre ##dis ##position that children are a ##rous ##ing ? [SEP] [PAD] [PAD] [PAD] [PAD] [PAD] [PAD] [PAD] [PAD] [PAD] [PAD] [PAD] [PAD] [PAD] [PAD] [PAD]',\n",
              " \"[CLS] Oh ok you ' re totally right . [SEP] Cool [SEP] [PAD] [PAD] [PAD] [PAD] [PAD] [PAD] [PAD] [PAD] [PAD] [PAD] [PAD] [PAD] [PAD] [PAD] [PAD] [PAD] [PAD] [PAD] [PAD] [PAD] [PAD] [PAD] [PAD] [PAD] [PAD] [PAD] [PAD] [PAD] [PAD] [PAD] [PAD] [PAD] [PAD] [PAD] [PAD] [PAD] [PAD] [PAD]\",\n",
              " \"[CLS] I don ' t remember which thread this is , but living wage in NYC is $ 14 / h ##r and poverty is [SEP] I mean , I know what it * is * , but if a living wage means living in shit holes what does [SEP]\",\n",
              " \"[CLS] Me and my girlfriend are lovely to each other ( She ' s left , I ' m right ) [SEP] put a cup on your junk and asks if she wants a drink [SEP] [PAD] [PAD] [PAD] [PAD] [PAD] [PAD] [PAD] [PAD] [PAD] [PAD] [PAD] [PAD] [PAD] [PAD]\",\n",
              " \"[CLS] I don ' t know why I am so bored . . . [SEP] i just installed windows 8 . 1 so now i liter ##ately have nothing to play . . . it ' s crazy t ##ropic ##o 4 , CS : GO , ps ##y [SEP]\",\n",
              " '[CLS] Rome , a Palestinian and a Tunisian attack and try to di ##sar ##m military men while shouting \" Allah is great \" . [SEP] Basic ##ally these two already re ##cie ##ven an order of expulsion but were si ##ll in Italy * somehow * , and [SEP]',\n",
              " '[CLS] First one is f ##rie ##za arc . Second one is far enough above the earth that any atmosphere there would be un ##bre ##ath ##ably thin . [SEP] How long can he hold his breath though ? [SEP] [PAD] [PAD] [PAD] [PAD] [PAD] [PAD] [PAD] [PAD] [PAD] [PAD]',\n",
              " \"[CLS] I thought so . But I ' ve learned that it isn ' t . When you and your partner are exclusive it means you won ' t be having sex with anyone else , but you still can date other people , because [SEP] Wu ##t ? [SEP]\",\n",
              " '[CLS] When you have to go . . . . . you have to go . [SEP] Where is that ? [SEP] [PAD] [PAD] [PAD] [PAD] [PAD] [PAD] [PAD] [PAD] [PAD] [PAD] [PAD] [PAD] [PAD] [PAD] [PAD] [PAD] [PAD] [PAD] [PAD] [PAD] [PAD] [PAD] [PAD] [PAD] [PAD] [PAD] [PAD] [PAD]',\n",
              " \"[CLS] Need ##s more [ [ Restoration Angel ] ] [SEP] Maybe , but Angel can ' t be gotten by Co ##C ##o . [SEP] [PAD] [PAD] [PAD] [PAD] [PAD] [PAD] [PAD] [PAD] [PAD] [PAD] [PAD] [PAD] [PAD] [PAD] [PAD] [PAD] [PAD] [PAD] [PAD] [PAD] [PAD] [PAD] [PAD] [PAD]\",\n",
              " \"[CLS] Yes , money will quite literally fix this problem . [SEP] Problem is where to get it from and how to tell the other interests they can ' t have it , such as the pension systems . [SEP] [PAD] [PAD] [PAD] [PAD] [PAD] [PAD] [PAD] [PAD] [PAD] [PAD]\",\n",
              " '[CLS] Say ##ing \" suck ##ling \" instead of \" sucking \" makes it sound weird for some reason [SEP] Oh , plenty of people suck ##le cock . [SEP] [PAD] [PAD] [PAD] [PAD] [PAD] [PAD] [PAD] [PAD] [PAD] [PAD] [PAD] [PAD] [PAD] [PAD] [PAD] [PAD] [PAD] [PAD] [PAD] [PAD]',\n",
              " '[CLS] I s ##hr ##unk all the f ##nat ##ic players faces [SEP] L ##OL ##ed really hard at the o ##lo ##f one H ##A ##HA ##HA ##HA [SEP] [PAD] [PAD] [PAD] [PAD] [PAD] [PAD] [PAD] [PAD] [PAD] [PAD] [PAD] [PAD] [PAD] [PAD] [PAD] [PAD] [PAD] [PAD] [PAD] [PAD]',\n",
              " '[CLS] Why u have so many main ##s ? [SEP] Pretty sure he just plays them , not main ##ing them . [SEP] [PAD] [PAD] [PAD] [PAD] [PAD] [PAD] [PAD] [PAD] [PAD] [PAD] [PAD] [PAD] [PAD] [PAD] [PAD] [PAD] [PAD] [PAD] [PAD] [PAD] [PAD] [PAD] [PAD] [PAD] [PAD] [PAD] [PAD]',\n",
              " \"[CLS] I ' ll bet that when they get the story line settled , Obama will be the villain . Or maybe Hillary . [SEP] The conservative Facebook pages are already saying it ' s da g ##ub ##ment ' s fault . [SEP] [PAD] [PAD] [PAD] [PAD] [PAD] [PAD]\",\n",
              " '[CLS] Fire Chief arrested for having sex with a sheep [SEP] That could have ended b ##aa ##aa ##aa ##dly . [SEP] [PAD] [PAD] [PAD] [PAD] [PAD] [PAD] [PAD] [PAD] [PAD] [PAD] [PAD] [PAD] [PAD] [PAD] [PAD] [PAD] [PAD] [PAD] [PAD] [PAD] [PAD] [PAD] [PAD] [PAD] [PAD] [PAD] [PAD] [PAD]',\n",
              " \"[CLS] Obama ' s FA ##KE birth c ##ert isn ' t being covered anywhere in the news ! Really ! ? And he starting a WA ##R with Russia to [SEP] Can someone tell me what happened recently between Obama and Russia that involves starting a war ? [SEP]\",\n",
              " \"[CLS] Did America ' s v ##is ##or get a BS ##OD ? [SEP] I was hoping someone would notice that [SEP] [PAD] [PAD] [PAD] [PAD] [PAD] [PAD] [PAD] [PAD] [PAD] [PAD] [PAD] [PAD] [PAD] [PAD] [PAD] [PAD] [PAD] [PAD] [PAD] [PAD] [PAD] [PAD] [PAD] [PAD] [PAD] [PAD] [PAD] [PAD]\",\n",
              " '[CLS] Milo Yi ##ann ##op ##ou ##los Twitter \" \" Social justice \" is ugly people stuff . \" [SEP] # W ##E H ##AV ##E FA ##G ##G ##OT ##S OF MA ##SS DE ##ST ##R ##UC ##TI ##ON [SEP] [PAD] [PAD] [PAD] [PAD] [PAD] [PAD] [PAD] [PAD] [PAD]',\n",
              " '[CLS] Darren Dr ##ege ##r reported it could happen first . [SEP] Thank you ! [SEP] [PAD] [PAD] [PAD] [PAD] [PAD] [PAD] [PAD] [PAD] [PAD] [PAD] [PAD] [PAD] [PAD] [PAD] [PAD] [PAD] [PAD] [PAD] [PAD] [PAD] [PAD] [PAD] [PAD] [PAD] [PAD] [PAD] [PAD] [PAD] [PAD] [PAD] [PAD] [PAD] [PAD] [PAD]',\n",
              " \"[CLS] Ko ##g Ma ##w Pen ##ta ##K ##ill [SEP] No ##ob Ko ##g doesn ' t use passive , teammates die because of it . [SEP] [PAD] [PAD] [PAD] [PAD] [PAD] [PAD] [PAD] [PAD] [PAD] [PAD] [PAD] [PAD] [PAD] [PAD] [PAD] [PAD] [PAD] [PAD] [PAD] [PAD] [PAD] [PAD] [PAD]\",\n",
              " '[CLS] I see no info on this under \" personal life \" or \" legacy \" [SEP] Author ##s of w ##iki ##ped ##ia doesn \\' t consider this an important fact [SEP] [PAD] [PAD] [PAD] [PAD] [PAD] [PAD] [PAD] [PAD] [PAD] [PAD] [PAD] [PAD] [PAD] [PAD] [PAD] [PAD] [PAD]',\n",
              " '[CLS] Baltimore police commissioner : There is a cost to reform [SEP] No , it is cost shifting with different results , less in ##car ##cer ##ation more non - law enforcement action versus intervention and treatment . [SEP] [PAD] [PAD] [PAD] [PAD] [PAD] [PAD] [PAD] [PAD] [PAD] [PAD] [PAD]',\n",
              " '[CLS] V ##MP Members - Could someone purchase an album for me through the marketplace ? [SEP] Re ##mo ##ved belongs in r / Vin ##yl ##M ##e ##P ##lea ##se [SEP] [PAD] [PAD] [PAD] [PAD] [PAD] [PAD] [PAD] [PAD] [PAD] [PAD] [PAD] [PAD] [PAD] [PAD] [PAD] [PAD] [PAD] [PAD]',\n",
              " '[CLS] Downtown Las O ##las . [SEP] He said college kids , not college kids with trust funds . [SEP] [PAD] [PAD] [PAD] [PAD] [PAD] [PAD] [PAD] [PAD] [PAD] [PAD] [PAD] [PAD] [PAD] [PAD] [PAD] [PAD] [PAD] [PAD] [PAD] [PAD] [PAD] [PAD] [PAD] [PAD] [PAD] [PAD] [PAD] [PAD] [PAD] [PAD]',\n",
              " '[CLS] in what way f ##am [SEP] I thought it was fun that the parent comment was taking this video seriously , as if So ##F ##lo really posted it . [SEP] [PAD] [PAD] [PAD] [PAD] [PAD] [PAD] [PAD] [PAD] [PAD] [PAD] [PAD] [PAD] [PAD] [PAD] [PAD] [PAD] [PAD] [PAD]',\n",
              " \"[CLS] Jay G ##ar ##rick question [SEP] Super ##girl and National City didn ' t recognize the name The Flash . [SEP] [PAD] [PAD] [PAD] [PAD] [PAD] [PAD] [PAD] [PAD] [PAD] [PAD] [PAD] [PAD] [PAD] [PAD] [PAD] [PAD] [PAD] [PAD] [PAD] [PAD] [PAD] [PAD] [PAD] [PAD] [PAD] [PAD] [PAD] [PAD]\",\n",
              " \"[CLS] It ' s just a way of me saying drag queen ; ) [SEP] I was talking about the barking up part . . . . m ##row ! [SEP] [PAD] [PAD] [PAD] [PAD] [PAD] [PAD] [PAD] [PAD] [PAD] [PAD] [PAD] [PAD] [PAD] [PAD] [PAD] [PAD] [PAD] [PAD] [PAD]\",\n",
              " '[CLS] Why is K ##re ##po dressed like a k ##ung f ##u villain ? [SEP] Korean collar shirts are pretty cool [SEP] [PAD] [PAD] [PAD] [PAD] [PAD] [PAD] [PAD] [PAD] [PAD] [PAD] [PAD] [PAD] [PAD] [PAD] [PAD] [PAD] [PAD] [PAD] [PAD] [PAD] [PAD] [PAD] [PAD] [PAD] [PAD] [PAD] [PAD]',\n",
              " '[CLS] After having just played it again recently I can hum ##bly point out that you guys are being completely foolish . X - 2 [SEP] No one will agree with you because they can only remember X ##2 as a pink dress - up cat fight game , [SEP]',\n",
              " '[CLS] What games are you all mainly watching today ? [SEP] Any of the games featuring 2 ranked teams with preference given to one in particular taking place in South Carolina [SEP] [PAD] [PAD] [PAD] [PAD] [PAD] [PAD] [PAD] [PAD] [PAD] [PAD] [PAD] [PAD] [PAD] [PAD] [PAD] [PAD] [PAD] [PAD]',\n",
              " \"[CLS] George Z ##immer ##man to auction off gun he used to kill T ##ray ##von Martin [SEP] I feel like I ' m setting my expectations too high , but I hope no one bids on it . [SEP] [PAD] [PAD] [PAD] [PAD] [PAD] [PAD] [PAD] [PAD] [PAD] [PAD]\",\n",
              " \"[CLS] His Dad ' s cars , most likely . [SEP] Yeah haven ' t gotten my own yet . [SEP] [PAD] [PAD] [PAD] [PAD] [PAD] [PAD] [PAD] [PAD] [PAD] [PAD] [PAD] [PAD] [PAD] [PAD] [PAD] [PAD] [PAD] [PAD] [PAD] [PAD] [PAD] [PAD] [PAD] [PAD] [PAD] [PAD] [PAD] [PAD] [PAD]\",\n",
              " '[CLS] No pain no gain ! [SEP] your user ##name is a filthy lie [SEP] [PAD] [PAD] [PAD] [PAD] [PAD] [PAD] [PAD] [PAD] [PAD] [PAD] [PAD] [PAD] [PAD] [PAD] [PAD] [PAD] [PAD] [PAD] [PAD] [PAD] [PAD] [PAD] [PAD] [PAD] [PAD] [PAD] [PAD] [PAD] [PAD] [PAD] [PAD] [PAD] [PAD] [PAD] [PAD]',\n",
              " '[CLS] This post from the front ##page [SEP] This is funny , go to hell [SEP] [PAD] [PAD] [PAD] [PAD] [PAD] [PAD] [PAD] [PAD] [PAD] [PAD] [PAD] [PAD] [PAD] [PAD] [PAD] [PAD] [PAD] [PAD] [PAD] [PAD] [PAD] [PAD] [PAD] [PAD] [PAD] [PAD] [PAD] [PAD] [PAD] [PAD] [PAD] [PAD] [PAD] [PAD]',\n",
              " \"[CLS] Is Ghost ##ery supposed to be able to block the shaking and stuff ? ' cu ##z I still see that , even with Ghost ##ery activated . [SEP] No , for that you need No ##Script ( FF ) or Not ##Script ( ch ##rome ) [SEP] [PAD]\",\n",
              " \"[CLS] German Euro ##s ##ce ##ptic Leader ' Shock ##s ' by Pre ##dict ##ing Me ##rk ##el Will F ##lee to South America [SEP] Maybe the US will take her , after all , she ' s sort of an expert on how to collapse nations and unions [SEP]\",\n",
              " '[CLS] _ d ##nt n ##dr ##st ##nd w ##ht th t ##tl s ##ys [SEP] T ##hr r s ##rt ##ng s ##mb ##ls n ##bt ##wn th l ##tt ##rs [SEP] [PAD] [PAD] [PAD] [PAD] [PAD] [PAD] [PAD] [PAD] [PAD] [PAD] [PAD] [PAD] [PAD] [PAD] [PAD] [PAD] [PAD]',\n",
              " '[CLS] O [SEP] U [SEP] [PAD] [PAD] [PAD] [PAD] [PAD] [PAD] [PAD] [PAD] [PAD] [PAD] [PAD] [PAD] [PAD] [PAD] [PAD] [PAD] [PAD] [PAD] [PAD] [PAD] [PAD] [PAD] [PAD] [PAD] [PAD] [PAD] [PAD] [PAD] [PAD] [PAD] [PAD] [PAD] [PAD] [PAD] [PAD] [PAD] [PAD] [PAD] [PAD] [PAD] [PAD] [PAD] [PAD] [PAD] [PAD]',\n",
              " '[CLS] * \" But at least we \\' re not r / politics \" * [SEP] That should be the tag ##line . [SEP] [PAD] [PAD] [PAD] [PAD] [PAD] [PAD] [PAD] [PAD] [PAD] [PAD] [PAD] [PAD] [PAD] [PAD] [PAD] [PAD] [PAD] [PAD] [PAD] [PAD] [PAD] [PAD] [PAD] [PAD] [PAD] [PAD]',\n",
              " \"[CLS] P ##ush ##es the curtain out so you have more elbow room . It ' s glorious . [SEP] Then doesn ' t all the water fall onto the ground ? [SEP] [PAD] [PAD] [PAD] [PAD] [PAD] [PAD] [PAD] [PAD] [PAD] [PAD] [PAD] [PAD] [PAD] [PAD] [PAD] [PAD] [PAD]\",\n",
              " \"[CLS] I ' m sure there ' s more to the story . [SEP] Yeah , the racist shit ##mon ##gers are probably mi ##so ##gy ##nist ##s and ho ##mo ##ph ##obe ##s too . [SEP] [PAD] [PAD] [PAD] [PAD] [PAD] [PAD] [PAD] [PAD] [PAD] [PAD] [PAD] [PAD] [PAD]\",\n",
              " '[CLS] Skin picking [SEP] I know it leads to scar ##ring , but picking at z ##its , dry fl ##ak ##y skin , and s ##ca ##bs is just so damn satisfying . . . [SEP] [PAD] [PAD] [PAD] [PAD] [PAD] [PAD] [PAD] [PAD] [PAD] [PAD] [PAD] [PAD] [PAD]',\n",
              " \"[CLS] What ' s changed with the AC IV Thunder ##bolt ? I see the premium AC IV Thunder ##bolt is back available for purchase sitting at 5 . 0 [SEP] Not noticed any difference in game terms , although not taken it out to play much recently . [SEP]\",\n",
              " '[CLS] Dick ##s out for Jon ##T ##ron [SEP] no t ##y [SEP] [PAD] [PAD] [PAD] [PAD] [PAD] [PAD] [PAD] [PAD] [PAD] [PAD] [PAD] [PAD] [PAD] [PAD] [PAD] [PAD] [PAD] [PAD] [PAD] [PAD] [PAD] [PAD] [PAD] [PAD] [PAD] [PAD] [PAD] [PAD] [PAD] [PAD] [PAD] [PAD] [PAD] [PAD] [PAD] [PAD] [PAD]',\n",
              " \"[CLS] What ' s dumb as hell but still awesome ? [SEP] Au ##tism p ##orn . [SEP] [PAD] [PAD] [PAD] [PAD] [PAD] [PAD] [PAD] [PAD] [PAD] [PAD] [PAD] [PAD] [PAD] [PAD] [PAD] [PAD] [PAD] [PAD] [PAD] [PAD] [PAD] [PAD] [PAD] [PAD] [PAD] [PAD] [PAD] [PAD] [PAD] [PAD] [PAD] [PAD]\",\n",
              " \"[CLS] don ' t forget Turtle has shown himself to be world class in the past , him and X ##pec ##ial were at least competitive against SS ##W ' s b ##ot lane in that b ##o ##5 from what I [SEP] He was with Lu ##st ##boy [SEP]\",\n",
              " '[CLS] You can \\' t a ##bor ##t children , it is by definition impossible . You do realize that many if not most women [SEP] I \\' m going to to need you to attempt to explain how \" abortion ##s save the lives of countless children \" [SEP]',\n",
              " \"[CLS] do da ##vid ' s 6th batch 750 ' s smell ? weird question but i have U ##A j ##ord ##an 1 ' s and they smell really strongly of [SEP] I have a sneak ##er di ##sin ##fect ##ant spray , that shit works well . [SEP]\",\n",
              " \"[CLS] I ' m Thank ##ful For the Education System [SEP] I ' m only seeing 2 no ' s on that list , those are the ones we ' re good to do right ? [SEP] [PAD] [PAD] [PAD] [PAD] [PAD] [PAD] [PAD] [PAD] [PAD] [PAD] [PAD] [PAD] [PAD]\",\n",
              " \"[CLS] The enormous amount of heat + pressure caused from z ##amo ##rak ##s destruction caused a lot of the marsh to dry up + e ##va ##por ##ate , and the force [SEP] Still doesn ' t explain how an entire building was moved without a scratch . [SEP]\",\n",
              " \"[CLS] Wait ##ress upset over ' Best But ##t ' award from Em ##p ##loy ##er [SEP] IT ##T : A stomach - ch ##urning amount of mi ##so ##gy ##ny . . . [SEP] [PAD] [PAD] [PAD] [PAD] [PAD] [PAD] [PAD] [PAD] [PAD] [PAD] [PAD] [PAD] [PAD] [PAD] [PAD]\",\n",
              " '[CLS] Oh great , another anti - big bi ##s ##cu ##it circle jerk . This sub is a fucking joke . [SEP] I fucking * hate * Prairie Home Companion , but gave you all up ##vo ##tes anyway . [SEP] [PAD] [PAD] [PAD] [PAD] [PAD] [PAD] [PAD] [PAD]',\n",
              " '[CLS] Netherlands will once again need to close prisons due to falling crime rate and lack of prisoners . [SEP] Dar ##n ? [SEP] [PAD] [PAD] [PAD] [PAD] [PAD] [PAD] [PAD] [PAD] [PAD] [PAD] [PAD] [PAD] [PAD] [PAD] [PAD] [PAD] [PAD] [PAD] [PAD] [PAD] [PAD] [PAD] [PAD] [PAD] [PAD] [PAD]',\n",
              " \"[CLS] I bought my Saturn around 96 - 97 on a fl ##ea ##market . I was still young and didn ' t have much money , so I asked my mom for [SEP] SF ##3 ' s still pretty expensive , so it could have been worse . [SEP]\",\n",
              " '[CLS] Been practicing my makeup for a Maya ( Border ##lands ) co ##sp ##lay ! [SEP] Need ##s a touch more Asian too it . [SEP] [PAD] [PAD] [PAD] [PAD] [PAD] [PAD] [PAD] [PAD] [PAD] [PAD] [PAD] [PAD] [PAD] [PAD] [PAD] [PAD] [PAD] [PAD] [PAD] [PAD] [PAD] [PAD] [PAD]',\n",
              " '[CLS] Start ##M ##ete ##or - Free Met ##eor ##J ##S Boots ##tra ##p ##T ##hem ##es & am ##p ; Te ##mp ##lates [SEP] Everyone at that company is a director ! [SEP] [PAD] [PAD] [PAD] [PAD] [PAD] [PAD] [PAD] [PAD] [PAD] [PAD] [PAD] [PAD] [PAD] [PAD] [PAD] [PAD]',\n",
              " '[CLS] Uh , what about it ? It actually looks pretty normal given the time difference . [SEP] Time difference ? [SEP] [PAD] [PAD] [PAD] [PAD] [PAD] [PAD] [PAD] [PAD] [PAD] [PAD] [PAD] [PAD] [PAD] [PAD] [PAD] [PAD] [PAD] [PAD] [PAD] [PAD] [PAD] [PAD] [PAD] [PAD] [PAD] [PAD] [PAD] [PAD]',\n",
              " \"[CLS] Ah man , just took a look . Shipping from the US to South Africa is crazy , cost more than the card is even worth . I don ' t think I ' m in the best spot to help . [SEP] Up ##vo ##te for effort [SEP]\",\n",
              " '[CLS] O ##m ##g . I \\' ve been using the phrase \" o ##m ##g I just died \" for a while now in reference to finding something really funny . But this time O ##MG I J ##US [SEP] Go back to Tu ##mb ##l ##r . [SEP]',\n",
              " '[CLS] Meet my new executive director : Social ##ly A ##wes ##ome A ##w ##k ##ward Penguin [SEP] Is his name Alex Louis Armstrong by any chance ? [SEP] [PAD] [PAD] [PAD] [PAD] [PAD] [PAD] [PAD] [PAD] [PAD] [PAD] [PAD] [PAD] [PAD] [PAD] [PAD] [PAD] [PAD] [PAD] [PAD] [PAD] [PAD]',\n",
              " \"[CLS] Seriously , this post has 1 , 100 + up ##vo ##tes but Air ##P ##lay 2 threads get 50 to 100 ? ? [SEP] perhaps many of us aren ' t thrilled about Air ##P ##lay 2 as Air ##P ##lay was an actual waste of time [SEP]\",\n",
              " \"[CLS] And here we see an op ##ti ##mist in a foreign habitat . Ain ' t s / he a be ##aut ' ! [SEP] Li ##teral ##ly none of that stuff is any different from what happens at W ##al ##mart ##s on a daily basis . [SEP]\",\n",
              " \"[CLS] Would an animated guardian with the unique shield troll ##ti ##mber , gain the life le ##ech from to ##tem ##s . . ( [SEP] No , those effects would only apply to to ##tem ##s placed by your guardian , which it can ' t do . [SEP]\",\n",
              " '[CLS] What if I don \\' t say it sarcastically ? Like , \" You must be fun at parties ! \" Is that socially acceptable ? C ##uz I \\' m sure you \\' re all fun at parties ! [SEP] You must be fun at parties . [SEP]',\n",
              " '[CLS] That U ##RL looks like a shit ##ty game of Bing ##o . [SEP] That U ##RL just sunk my mother ##fu ##cking battleship . [SEP] [PAD] [PAD] [PAD] [PAD] [PAD] [PAD] [PAD] [PAD] [PAD] [PAD] [PAD] [PAD] [PAD] [PAD] [PAD] [PAD] [PAD] [PAD] [PAD] [PAD] [PAD] [PAD] [PAD]',\n",
              " '[CLS] What \\' s the first thing that comes to mind when so ##mon ##e says \" Australia \" ? [SEP] Pen ##du ##lum and K ##nife Party ! [SEP] [PAD] [PAD] [PAD] [PAD] [PAD] [PAD] [PAD] [PAD] [PAD] [PAD] [PAD] [PAD] [PAD] [PAD] [PAD] [PAD] [PAD] [PAD] [PAD] [PAD]',\n",
              " '[CLS] My Foundation Adventure : AK ##A Why Sep ##hora Em ##p ##loy ##ees Are Beginning To Re ##sent Me [SEP] Your cheek bones are like those of the angels . [SEP] [PAD] [PAD] [PAD] [PAD] [PAD] [PAD] [PAD] [PAD] [PAD] [PAD] [PAD] [PAD] [PAD] [PAD] [PAD] [PAD] [PAD] [PAD]',\n",
              " \"[CLS] This is Stone Mountain in Georgia , United States . * * Fun F ##act ! * * Stone Mountain is the birthplace of the modern Ku K ##lux K ##lan . Maybe that wasn ' t so fun [SEP] And Ken ##ni ##th Pa ##rc ##el ! [SEP]\",\n",
              " '[CLS] Mar R ##ox ##as wins ! People will rally against it , and R ##ox ##as will be assassinated . This will be pointed on to Du ##ter ##te . Aquino will call Martial Law , extending his [SEP] \" bizarre \" H ##A ##HA ##HA ##HA ##HA [SEP]',\n",
              " \"[CLS] What random b ##oo ##b shots ? I don ' t recall any . [SEP] They were talking about Thor . [SEP] [PAD] [PAD] [PAD] [PAD] [PAD] [PAD] [PAD] [PAD] [PAD] [PAD] [PAD] [PAD] [PAD] [PAD] [PAD] [PAD] [PAD] [PAD] [PAD] [PAD] [PAD] [PAD] [PAD] [PAD] [PAD] [PAD] [PAD]\",\n",
              " \"[CLS] This whole ex ##c ##lus ##ivity business is the only thing keeping me from pre ##ord ##ering / buying any V ##R solution . In a niche market that still needs to get traction , it ' s beyond [SEP] You should support the more open platform . [SEP]\",\n",
              " \"[CLS] gal ##s ? You ' re in NYC and still use that term ? [SEP] She ' s in g ##ao ##n . [SEP] [PAD] [PAD] [PAD] [PAD] [PAD] [PAD] [PAD] [PAD] [PAD] [PAD] [PAD] [PAD] [PAD] [PAD] [PAD] [PAD] [PAD] [PAD] [PAD] [PAD] [PAD] [PAD] [PAD] [PAD] [PAD]\",\n",
              " '[CLS] but why not [SEP] He asked first [SEP] [PAD] [PAD] [PAD] [PAD] [PAD] [PAD] [PAD] [PAD] [PAD] [PAD] [PAD] [PAD] [PAD] [PAD] [PAD] [PAD] [PAD] [PAD] [PAD] [PAD] [PAD] [PAD] [PAD] [PAD] [PAD] [PAD] [PAD] [PAD] [PAD] [PAD] [PAD] [PAD] [PAD] [PAD] [PAD] [PAD] [PAD] [PAD] [PAD] [PAD] [PAD]',\n",
              " '[CLS] What if her private email server was con ##figured with a script to par ##se out and remove any classification marks before even saving them ? That would be consistent with both f ##ein ##stein ##s claims and [SEP] Is there any evidence to support this conjecture ? [SEP]',\n",
              " '[CLS] Trump adviser received salary from charity while steering B ##re ##it ##bar ##t News [SEP] \" drain the swamp \" [SEP] [PAD] [PAD] [PAD] [PAD] [PAD] [PAD] [PAD] [PAD] [PAD] [PAD] [PAD] [PAD] [PAD] [PAD] [PAD] [PAD] [PAD] [PAD] [PAD] [PAD] [PAD] [PAD] [PAD] [PAD] [PAD] [PAD] [PAD] [PAD]',\n",
              " '[CLS] In strength , yes . [SEP] You have a source ? [SEP] [PAD] [PAD] [PAD] [PAD] [PAD] [PAD] [PAD] [PAD] [PAD] [PAD] [PAD] [PAD] [PAD] [PAD] [PAD] [PAD] [PAD] [PAD] [PAD] [PAD] [PAD] [PAD] [PAD] [PAD] [PAD] [PAD] [PAD] [PAD] [PAD] [PAD] [PAD] [PAD] [PAD] [PAD] [PAD] [PAD] [PAD]',\n",
              " '[CLS] Calling it now - Michael Moore is going to come out as transgender . Just look at him . [SEP] Michelle Moore [SEP] [PAD] [PAD] [PAD] [PAD] [PAD] [PAD] [PAD] [PAD] [PAD] [PAD] [PAD] [PAD] [PAD] [PAD] [PAD] [PAD] [PAD] [PAD] [PAD] [PAD] [PAD] [PAD] [PAD] [PAD] [PAD] [PAD]',\n",
              " '[CLS] Titan - X vs 2 or 3 98 ##0s SL ##I I was wondering how much better or worse 2 or 3 g ##t ##x 98 ##0s SL ##I were compared to the t ##ita ##n - x or is [SEP] I would wait for the 390 ##X [SEP]',\n",
              " \"[CLS] It ' s in Texas too . [SEP] and Vegas [SEP] [PAD] [PAD] [PAD] [PAD] [PAD] [PAD] [PAD] [PAD] [PAD] [PAD] [PAD] [PAD] [PAD] [PAD] [PAD] [PAD] [PAD] [PAD] [PAD] [PAD] [PAD] [PAD] [PAD] [PAD] [PAD] [PAD] [PAD] [PAD] [PAD] [PAD] [PAD] [PAD] [PAD] [PAD] [PAD] [PAD] [PAD] [PAD]\",\n",
              " \"[CLS] I really wish the blue princess would have had some nude scenes . . . she was beautiful . [SEP] Honestly I hated everything about the Blue Princess , sometimes I just wanted to skip her scenes but I couldn ' t because I didn ' t want [SEP]\",\n",
              " \"[CLS] Pretty shit ##ty time . I just missed it . And only for one hour ? Fuck ##ing fuck . [SEP] I ' ve found that the best give ##away ##s that give the most exposure while also making everyone feel like they had a chance is when [SEP]\",\n",
              " \"[CLS] The Montana Free ##men stand ##off wasn ' t too long after W ##aco and Ruby Ridge and was handled very smoothly . Even the Native American occupation of Al ##cat ##raz ended well [SEP] Nobody remembers the times things didn ' t go p ##ear shaped . [SEP]\",\n",
              " '[CLS] You mean off duty cops ? [SEP] Off duty and out of jurisdiction = responsible gun owner [SEP] [PAD] [PAD] [PAD] [PAD] [PAD] [PAD] [PAD] [PAD] [PAD] [PAD] [PAD] [PAD] [PAD] [PAD] [PAD] [PAD] [PAD] [PAD] [PAD] [PAD] [PAD] [PAD] [PAD] [PAD] [PAD] [PAD] [PAD] [PAD] [PAD] [PAD] [PAD]',\n",
              " \"[CLS] Doesn ' t that kind of throw off the poll ? Maybe one voter is trying to select a certain game , but picks [SEP] It could . . . that said , with all the re - releases ( the difference all came with FF ##6 and [SEP]\",\n",
              " \"[CLS] It ' s clearly you [SEP] It ' s clearly me [SEP] [PAD] [PAD] [PAD] [PAD] [PAD] [PAD] [PAD] [PAD] [PAD] [PAD] [PAD] [PAD] [PAD] [PAD] [PAD] [PAD] [PAD] [PAD] [PAD] [PAD] [PAD] [PAD] [PAD] [PAD] [PAD] [PAD] [PAD] [PAD] [PAD] [PAD] [PAD] [PAD] [PAD] [PAD] [PAD] [PAD] [PAD]\",\n",
              " \"[CLS] Sai ##ko is too g ##rit ##ty to be something that ' d resemble a Spin ##nin ' release , New Style isn ' [SEP] Sai ##ko is g ##rit ##ty but it ' s still technically big room , at least for part of the drop . [SEP]\",\n",
              " '[CLS] Will psychology be mythology to artificial intelligence ? [SEP] * glances at post history * Uh huh . [SEP] [PAD] [PAD] [PAD] [PAD] [PAD] [PAD] [PAD] [PAD] [PAD] [PAD] [PAD] [PAD] [PAD] [PAD] [PAD] [PAD] [PAD] [PAD] [PAD] [PAD] [PAD] [PAD] [PAD] [PAD] [PAD] [PAD] [PAD] [PAD] [PAD] [PAD]',\n",
              " \"[CLS] Most of the really good employees have left already to Google / Facebook / Apple / etc . [SEP] Oh don ' t worry , they ' re hiring contractors 90 % of the time too . [SEP] [PAD] [PAD] [PAD] [PAD] [PAD] [PAD] [PAD] [PAD] [PAD] [PAD] [PAD]\",\n",
              " '[CLS] Sammy fan ##art by Snow ##ball ##22 [SEP] Q ##UI ##C ##K S ##OM ##E ##ON ##E GE ##T THE N ##SF ##W T ##AG NO ##W [SEP] [PAD] [PAD] [PAD] [PAD] [PAD] [PAD] [PAD] [PAD] [PAD] [PAD] [PAD] [PAD] [PAD] [PAD] [PAD] [PAD] [PAD] [PAD] [PAD] [PAD] [PAD]',\n",
              " '[CLS] Thank you for taking the time to post this . [SEP] Welcome to Houston and let us know what part of town you end up and what things have surprised you so far . [SEP] [PAD] [PAD] [PAD] [PAD] [PAD] [PAD] [PAD] [PAD] [PAD] [PAD] [PAD] [PAD] [PAD] [PAD]',\n",
              " '[CLS] Sol ##d a mobile phone through o ##l ##x . . . I \\' ve sold my brand new mobile phone through o ##l [SEP] Tell him \" ya ##han a ##ad ##mi k ##i warrant ##y na ##hi , au ##r t ##u second hand phone k [SEP]',\n",
              " '[CLS] New Battle ##front Trail ##er ! [SEP] B ##O ##BA [SEP] [PAD] [PAD] [PAD] [PAD] [PAD] [PAD] [PAD] [PAD] [PAD] [PAD] [PAD] [PAD] [PAD] [PAD] [PAD] [PAD] [PAD] [PAD] [PAD] [PAD] [PAD] [PAD] [PAD] [PAD] [PAD] [PAD] [PAD] [PAD] [PAD] [PAD] [PAD] [PAD] [PAD] [PAD] [PAD] [PAD] [PAD] [PAD]',\n",
              " '[CLS] me i ##rl [SEP] color ##ize ##bot [SEP] [PAD] [PAD] [PAD] [PAD] [PAD] [PAD] [PAD] [PAD] [PAD] [PAD] [PAD] [PAD] [PAD] [PAD] [PAD] [PAD] [PAD] [PAD] [PAD] [PAD] [PAD] [PAD] [PAD] [PAD] [PAD] [PAD] [PAD] [PAD] [PAD] [PAD] [PAD] [PAD] [PAD] [PAD] [PAD] [PAD] [PAD] [PAD] [PAD] [PAD] [PAD]',\n",
              " '[CLS] The \" Ju ##gger ##na ##ut \" fi ##asco has something to teach us about mobility creep . I \\' ve seen a lot [SEP] Don \\' t see why they can \\' t just have items that give mobility like in Dot ##a , that is the [SEP]',\n",
              " '[CLS] Johnny Man ##zie ##l reportedly goes missing in New York [SEP] He should have been the one that fell in the go ##rilla cage [SEP] [PAD] [PAD] [PAD] [PAD] [PAD] [PAD] [PAD] [PAD] [PAD] [PAD] [PAD] [PAD] [PAD] [PAD] [PAD] [PAD] [PAD] [PAD] [PAD] [PAD] [PAD] [PAD] [PAD] [PAD]',\n",
              " \"[CLS] So basically a bunch of rich guys don ' t want poor people to be able to get healthcare and they are throwing their [SEP] A whole lot of poor people got free healthcare before AC ##A , many of them were immigrants who came here seeking a [SEP]\",\n",
              " '[CLS] Not necessarily . None of the above means I don \\' t like any of the options but I accept the outcome nonetheless , [SEP] You see , the thing is that if I made my question about an \" op ##t - out \" option instead I [SEP]',\n",
              " \"[CLS] I kind of hope it isn ' t elemental , it would be really cool to see a really re imagined Z ##yra . Still , any skin they make for her is certainly going to be one that I will [SEP] Ten ##ta ##cle Z ##yra ? [SEP]\",\n",
              " \"[CLS] Why two objectives ? You could just as well have a # Next ##ID du ##mmy name in the ID objective . [SEP] Thanks , that ' s a big improvement ! [SEP] [PAD] [PAD] [PAD] [PAD] [PAD] [PAD] [PAD] [PAD] [PAD] [PAD] [PAD] [PAD] [PAD] [PAD] [PAD] [PAD]\",\n",
              " '[CLS] Nah hers is \" somebody please think of the children \" [SEP] And now she \\' s having to deal with some who thought a little too much about the children . . . [SEP] [PAD] [PAD] [PAD] [PAD] [PAD] [PAD] [PAD] [PAD] [PAD] [PAD] [PAD] [PAD] [PAD] [PAD]',\n",
              " \"[CLS] I don ' t get it [SEP] It ' s just that he took a self ##ie and pretended he a ##cc ##ed ##int ##ly took it while trying to use his flashlight . [SEP] [PAD] [PAD] [PAD] [PAD] [PAD] [PAD] [PAD] [PAD] [PAD] [PAD] [PAD] [PAD] [PAD] [PAD]\",\n",
              " '[CLS] Can we get a video of the \" Tank push \" cheese ? [SEP] I wish I had saved one , but al ##as , I didn \\' t . [SEP] [PAD] [PAD] [PAD] [PAD] [PAD] [PAD] [PAD] [PAD] [PAD] [PAD] [PAD] [PAD] [PAD] [PAD] [PAD] [PAD] [PAD] [PAD]',\n",
              " \"[CLS] All 20 of Armstrong ' s goals for Coventry . Is next season his year for us ? [SEP] Some of them are actual be ##aut ##ies . [SEP] [PAD] [PAD] [PAD] [PAD] [PAD] [PAD] [PAD] [PAD] [PAD] [PAD] [PAD] [PAD] [PAD] [PAD] [PAD] [PAD] [PAD] [PAD] [PAD] [PAD]\",\n",
              " \"[CLS] U ##gh , I don ' t know . Call me old fashioned , but if you * are fluent in the national language * have a college education * have a permanent job offer in your field * have already spent a [SEP] : ( sorry . [SEP]\",\n",
              " \"[CLS] B ##rooms can ' t cook or lay me . [SEP] I beg to differ about that second point , but that just depends on what you ' re into I guess , I don ' t judge : ) [SEP] [PAD] [PAD] [PAD] [PAD] [PAD] [PAD] [PAD] [PAD]\",\n",
              " '[CLS] That \\' s how the world works . \" Yo dude that new captain America movie was great ! \" \" Marvel movies suck ! \" \" What ? Which have you seen ? \" \" None . I don \\' t [SEP] Marvel movies do suck . [SEP]',\n",
              " '[CLS] Exactly - get that off quick ! The ka ##rm ##ic news , the pickup truck is about to have a very expensive repair bill . [SEP] What can transmission fluid do to a paint job if not taken off pretty quick ? [SEP] [PAD] [PAD] [PAD] [PAD] [PAD]',\n",
              " '[CLS] Very efficient . And protected from drought ##s , floods , freeze ##s , p ##ests , etc . I have to agree with [SEP] There is no con ##ce ##ivable need for p ##est ##icides , but the yield is huge ##ly higher than a normal farm [SEP]',\n",
              " '[CLS] Los ##e stomach fat , more defined a ##bs [SEP] Eat less food . [SEP] [PAD] [PAD] [PAD] [PAD] [PAD] [PAD] [PAD] [PAD] [PAD] [PAD] [PAD] [PAD] [PAD] [PAD] [PAD] [PAD] [PAD] [PAD] [PAD] [PAD] [PAD] [PAD] [PAD] [PAD] [PAD] [PAD] [PAD] [PAD] [PAD] [PAD] [PAD] [PAD] [PAD] [PAD]',\n",
              " '[CLS] I wonder what the weird ##est way to piss somebody off is . . . [SEP] I first saw this so long ago that I think that Vince is retired now . [SEP] [PAD] [PAD] [PAD] [PAD] [PAD] [PAD] [PAD] [PAD] [PAD] [PAD] [PAD] [PAD] [PAD] [PAD] [PAD] [PAD]',\n",
              " '[CLS] L ##F ##2 ##M N ##m A ##ks ##is phase II with monitors Leave ps ##n [SEP] ME ##R ##K ##TE ##AM ##SE ##VE ##N 39 ##8 hunter [SEP] [PAD] [PAD] [PAD] [PAD] [PAD] [PAD] [PAD] [PAD] [PAD] [PAD] [PAD] [PAD] [PAD] [PAD] [PAD] [PAD] [PAD] [PAD] [PAD] [PAD]',\n",
              " \"[CLS] T ##MO colour ##pop eyes ##had ##ows So I ' m not on a no - buy but I ' m here on re ##hab to make calculated buying [SEP] Kathleen lights is sponsored by Colour ##P ##op to r ##ave about them the way she does . [SEP]\",\n",
              " \"[CLS] Social Justice Youth Camp looks like Dash ##con . [SEP] I don ' t get it . . . Everybody here is just sort of sharing their culture . . . Isn ' t that cultural app ##ropriation ? [SEP] [PAD] [PAD] [PAD] [PAD] [PAD] [PAD] [PAD] [PAD] [PAD]\",\n",
              " \"[CLS] Wait , people ex ##folia ##te their butt ##s ? [SEP] Hey , if they ' re going to b ##lea ##ch ' em , they may as well make it smooth and kiss ##able too . . . [SEP] [PAD] [PAD] [PAD] [PAD] [PAD] [PAD] [PAD] [PAD] [PAD]\",\n",
              " \"[CLS] It ' s a Pan ##da bear , and everything I know about those lazy bastards tells me it should just fall asleep or eat some bamboo . Yet here it is , ma ##ulin ##g my face off [SEP] Pan ##das are just great like that . [SEP]\",\n",
              " '[CLS] When I needed to buy a lot of decorations , I arranged the item in the window right where the confirmation pop ##up is [SEP] Whenever they say something is \" * special * \" basically means \" * we don \\' t know how / feel like [SEP]',\n",
              " '[CLS] So , does this mean Bay ##ley is headed to S ##ma ##ck ##down ? [SEP] It was mention plenty of times during the match it was a \" one off . \" [SEP] [PAD] [PAD] [PAD] [PAD] [PAD] [PAD] [PAD] [PAD] [PAD] [PAD] [PAD] [PAD] [PAD] [PAD] [PAD]',\n",
              " \"[CLS] god isn ##t real and you ' re all sheep [SEP] 3 ##met ##a ##5 ##me [SEP] [PAD] [PAD] [PAD] [PAD] [PAD] [PAD] [PAD] [PAD] [PAD] [PAD] [PAD] [PAD] [PAD] [PAD] [PAD] [PAD] [PAD] [PAD] [PAD] [PAD] [PAD] [PAD] [PAD] [PAD] [PAD] [PAD] [PAD] [PAD] [PAD] [PAD] [PAD] [PAD]\",\n",
              " '[CLS] \" Provincial Luna ##tic Asylum \" They don \\' t name things like that any more . I think it \\' s now the \" Centre for Ad ##diction and [SEP] Personal ##ly , I prefer \" Provincial Luna ##tic Asylum \" by a fairly wide margin . [SEP]',\n",
              " '[CLS] Am I the only one who is sick of hearing people complain about the pricing ? Yes , you can rent or even buy [SEP] when you can buy a ps ##3 and a game for the price of rent ##ing 3 games for 90 days I find [SEP]',\n",
              " '[CLS] A solid Re ##in ##hardt play . Still not P ##OT ##G : ( . [SEP] Did a mercy 2 re ##z steal you your P ##OT ##G ? [SEP] [PAD] [PAD] [PAD] [PAD] [PAD] [PAD] [PAD] [PAD] [PAD] [PAD] [PAD] [PAD] [PAD] [PAD] [PAD] [PAD] [PAD] [PAD] [PAD]',\n",
              " \"[CLS] As a US ##PS employee today [SEP] Until Tuesday comes and everyone ' s late packages show up with an extra day of D ##PS . [SEP] [PAD] [PAD] [PAD] [PAD] [PAD] [PAD] [PAD] [PAD] [PAD] [PAD] [PAD] [PAD] [PAD] [PAD] [PAD] [PAD] [PAD] [PAD] [PAD] [PAD] [PAD] [PAD]\",\n",
              " '[CLS] North Korea executed defense chief because he fell asleep at an event attended by Kim Jong Un . [SEP] Career limiting move . [SEP] [PAD] [PAD] [PAD] [PAD] [PAD] [PAD] [PAD] [PAD] [PAD] [PAD] [PAD] [PAD] [PAD] [PAD] [PAD] [PAD] [PAD] [PAD] [PAD] [PAD] [PAD] [PAD] [PAD] [PAD] [PAD]',\n",
              " '[CLS] Le ##bro ##n , K ##G , Kobe to Kentucky to re ##tro ##active ##ly fulfill their one year requirement [SEP] H ##y ##pot ##hetical ##ly , if le ##bro ##n played 1 year at a crap ##py college , such as sa ##nta c ##lar ##a , [SEP]',\n",
              " '[CLS] just for you [SEP] th ##x b ##b [SEP] [PAD] [PAD] [PAD] [PAD] [PAD] [PAD] [PAD] [PAD] [PAD] [PAD] [PAD] [PAD] [PAD] [PAD] [PAD] [PAD] [PAD] [PAD] [PAD] [PAD] [PAD] [PAD] [PAD] [PAD] [PAD] [PAD] [PAD] [PAD] [PAD] [PAD] [PAD] [PAD] [PAD] [PAD] [PAD] [PAD] [PAD] [PAD] [PAD] [PAD]',\n",
              " '[CLS] in 2 days I got enough cards to prepare 15 full sets for the sales [SEP] How would you trade all these cards anyway ? [SEP] [PAD] [PAD] [PAD] [PAD] [PAD] [PAD] [PAD] [PAD] [PAD] [PAD] [PAD] [PAD] [PAD] [PAD] [PAD] [PAD] [PAD] [PAD] [PAD] [PAD] [PAD] [PAD] [PAD]',\n",
              " '[CLS] What a save ! [SEP] Cal ##culate ##d ! [SEP] [PAD] [PAD] [PAD] [PAD] [PAD] [PAD] [PAD] [PAD] [PAD] [PAD] [PAD] [PAD] [PAD] [PAD] [PAD] [PAD] [PAD] [PAD] [PAD] [PAD] [PAD] [PAD] [PAD] [PAD] [PAD] [PAD] [PAD] [PAD] [PAD] [PAD] [PAD] [PAD] [PAD] [PAD] [PAD] [PAD] [PAD] [PAD] [PAD]',\n",
              " \"[CLS] j ##es ##us ch ##rist . . . MLS is like those do ##rky kids who move in down the street and want to be your friend but you want nothing to do with [SEP] I think you ' ve got that backwards , Detroit City FC . [SEP]\",\n",
              " '[CLS] Saudi Arabia is pretty well off , but still a breeding ground for terrorists . [SEP] Yes , my point exactly . [SEP] [PAD] [PAD] [PAD] [PAD] [PAD] [PAD] [PAD] [PAD] [PAD] [PAD] [PAD] [PAD] [PAD] [PAD] [PAD] [PAD] [PAD] [PAD] [PAD] [PAD] [PAD] [PAD] [PAD] [PAD] [PAD] [PAD]',\n",
              " \"[CLS] If you ' re a fool , it is . The smart money bought bit ##co ##in some time ago . [SEP] So you ' re saying bit ##co ##in will never get larger than a p ##al ##try $ 4 . 7 billion dollar market ? [SEP] [PAD]\",\n",
              " \"[CLS] LP ##T : Have elderly family members ? Ask if they use A ##OL , they may still be paying monthly for something they never use . A ##OL doesn ' t charge [SEP] So * that ' s * how they ' re still in business . [SEP]\",\n",
              " '[CLS] Zero tolerance man ##g . I had the police called on my parents because I shoved some kid in the 5th grade . [SEP] I ##m glad I ##m too old to have gone through this shit ! [SEP] [PAD] [PAD] [PAD] [PAD] [PAD] [PAD] [PAD] [PAD] [PAD] [PAD]',\n",
              " \"[CLS] Over ##watch has these types of te ##ther damage weapons . Mostly they require pretty low skill cause it is auto lock on , [SEP] Actually now that I think about it I think you shouldn ' t Attack when the shield is up I ' ll change [SEP]\",\n",
              " \"[CLS] The breach of protocol is nonsense , but that is just a secondary part to the main problem , which is that a foreign [SEP] You are so lucky to get an advanced copy of B ##ibi ' s speech , how else would you know what he [SEP]\",\n",
              " '[CLS] What Nintendo game would you L ##O ##VE to see a sequel for ? Obviously some franchises need more life ( metro ##id , F - Zero , Star Fox . . . etc . ) but what games specifically [SEP] * Wave ##race * Punch - out [SEP]',\n",
              " \"[CLS] Hang it next to Gordon ' s # 13 [SEP] Double sad that I have a Gordon 13 jersey . [SEP] [PAD] [PAD] [PAD] [PAD] [PAD] [PAD] [PAD] [PAD] [PAD] [PAD] [PAD] [PAD] [PAD] [PAD] [PAD] [PAD] [PAD] [PAD] [PAD] [PAD] [PAD] [PAD] [PAD] [PAD] [PAD] [PAD] [PAD] [PAD]\",\n",
              " '[CLS] Boy ##cott the pork industry ? [SEP] Boy ##cott bars ? [SEP] [PAD] [PAD] [PAD] [PAD] [PAD] [PAD] [PAD] [PAD] [PAD] [PAD] [PAD] [PAD] [PAD] [PAD] [PAD] [PAD] [PAD] [PAD] [PAD] [PAD] [PAD] [PAD] [PAD] [PAD] [PAD] [PAD] [PAD] [PAD] [PAD] [PAD] [PAD] [PAD] [PAD] [PAD] [PAD] [PAD] [PAD]',\n",
              " \"[CLS] I ' d have to assume that surgeon ##s would look over the procedure again if they felt they needed to know something , as it is too [SEP] there are small surgical reference books printed on semi blood resistant paper . [SEP] [PAD] [PAD] [PAD] [PAD] [PAD] [PAD]\",\n",
              " '[CLS] # * * * NO ##P ##E * * * [SEP] Dude the worst thing this little guy could do to you is leave a little s ##tin ##ky m ##usk on your arm . [SEP] [PAD] [PAD] [PAD] [PAD] [PAD] [PAD] [PAD] [PAD] [PAD] [PAD] [PAD] [PAD] [PAD]',\n",
              " '[CLS] It seems to be on sign ##age at every small town mom and pop restaurant . Em ##p ##loy ##ees must \" Was ##h Hands \" Today \\' s \" Special ##s [SEP] Is there anything more sinister than ordering the day \\' s \" special \" ? [SEP]',\n",
              " '[CLS] Bad cards in good arch ##ety ##pes The polar opposite of an earlier thread , name cards in good arch ##ety ##pes that just don \\' t quite make the \" [SEP] All of the Mel ##od ##ious support cards that target , and the new fusion . [SEP]',\n",
              " '[CLS] * * \" The players will be sticking together and announcing where their career will take them next in the near future . \" * * [SEP] E ##G H ##YP ##E [SEP] [PAD] [PAD] [PAD] [PAD] [PAD] [PAD] [PAD] [PAD] [PAD] [PAD] [PAD] [PAD] [PAD] [PAD] [PAD] [PAD]',\n",
              " \"[CLS] I prefer those who know what they are doing to do their job . I want a pilot to fly a plain and I want a politician to run for office . [SEP] Holy shit , you seriously don ' t know how to spell plane [SEP] [PAD] [PAD]\",\n",
              " '[CLS] Thanks for the reply . When I use it ( really , I don \\' t think I ever say \" as a mother \" but \" I am a mother of adult kids \" ) it \\' s more so people understand my point [SEP] : ) [SEP]',\n",
              " \"[CLS] A ##pop ##his asteroid : Large space rock ' will not hit in 203 ##6 ' [SEP] I thought that it was already established that it wouldn ' t hit in 203 ##6 but if its trajectory is just right it could swing back and hit in ~ [SEP]\",\n",
              " '[CLS] \" Bo ##oh ##oo this series sucks finals were in semi ##s wa ##h wa ##h . \" [SEP] IT ##S NO ##T GO ##OD UN ##LE ##SS SK ##T W ##IN ##S IN THE E ##ND WA ##AA ##AA ##AA ##A ##H FA ##KE ##R K ##U [SEP]',\n",
              " \"[CLS] Usually you have 30 days to return ( unless the store has a weird policy but most places in the US is 30 days ) . Yes if you keep your re ##ceipt you ' ll [SEP] Eve if the product ' s been opened and used ? [SEP]\",\n",
              " \"[CLS] None of them were injured It ' s c ##ram ##p [SEP] In fair ##ness when you ' re c ##ram ##ping so badly you can hardly stand or walk ( like Ba ##le tonight ) it ' s pretty much an injury . [SEP] [PAD] [PAD] [PAD] [PAD]\",\n",
              " '[CLS] In the article that the O ##P linked to this topic was looked into in detail . Yes , he had a book with [SEP] It almost looks like the item in question would be edible for someone who had proper nutrition ( enough heavy metals as was [SEP]',\n",
              " \"[CLS] so many things that I ' d absolutely never eat [SEP] G ##utter oil . [SEP] [PAD] [PAD] [PAD] [PAD] [PAD] [PAD] [PAD] [PAD] [PAD] [PAD] [PAD] [PAD] [PAD] [PAD] [PAD] [PAD] [PAD] [PAD] [PAD] [PAD] [PAD] [PAD] [PAD] [PAD] [PAD] [PAD] [PAD] [PAD] [PAD] [PAD] [PAD] [PAD] [PAD]\",\n",
              " '[CLS] Facebook savage ##ry [SEP] Not ##ice how no one ever mentions the Sand People he slaughtered ? [SEP] [PAD] [PAD] [PAD] [PAD] [PAD] [PAD] [PAD] [PAD] [PAD] [PAD] [PAD] [PAD] [PAD] [PAD] [PAD] [PAD] [PAD] [PAD] [PAD] [PAD] [PAD] [PAD] [PAD] [PAD] [PAD] [PAD] [PAD] [PAD] [PAD] [PAD] [PAD]',\n",
              " \"[CLS] SE ##A servers down ? Volvo p ##l ##z , automatic pin ##g sending me to US West [SEP] In Re ##born , it says it ' s off ##line for maintenance . [SEP] [PAD] [PAD] [PAD] [PAD] [PAD] [PAD] [PAD] [PAD] [PAD] [PAD] [PAD] [PAD] [PAD] [PAD] [PAD]\",\n",
              " \"[CLS] Can you perhaps give an example of one person who has mastered the game ? They don ' t exist because it ' s not possible for [SEP] I mean it is because it ' s happened ; you ' ve been reading this thread too right ? [SEP]\",\n",
              " \"[CLS] on windows 10 , go to my p ##c , right click the suspect drive , properties , tools , then error checking . [SEP] That ' s exactly what I did and it restart ##ed my p ##c ran it and then it came back up , [SEP]\",\n",
              " \"[CLS] What ? No they don ' t . Rev ##is , Browne ##r , W ##il ##fo ##rk , V ##ere ##en just off the top of my head [SEP] He said receivers ? [SEP] [PAD] [PAD] [PAD] [PAD] [PAD] [PAD] [PAD] [PAD] [PAD] [PAD] [PAD] [PAD] [PAD] [PAD]\",\n",
              " \"[CLS] E ##h who doesn ' t love P ##up ##pe ##y [SEP] countless ne ##rds he defeated in tournaments [SEP] [PAD] [PAD] [PAD] [PAD] [PAD] [PAD] [PAD] [PAD] [PAD] [PAD] [PAD] [PAD] [PAD] [PAD] [PAD] [PAD] [PAD] [PAD] [PAD] [PAD] [PAD] [PAD] [PAD] [PAD] [PAD] [PAD] [PAD] [PAD] [PAD]\",\n",
              " '[CLS] First 10 minutes of the game : I was pushing a car . Then I found a mechanic for my car ; naturally , this was a big breast ##ed woman in boot ##y [SEP] Which of the other games have you played through in the past ? [SEP]',\n",
              " '[CLS] Re ##mind ##s me of when I opened up a box of nature valley bars and found one of the bars wrapped in several layers of electrical tape , w ##ut . [SEP] Free electrical tape ! [SEP] [PAD] [PAD] [PAD] [PAD] [PAD] [PAD] [PAD] [PAD] [PAD] [PAD] [PAD]',\n",
              " '[CLS] How good was Shaun Livingston suppose to be ? [SEP] Magic lit ##e [SEP] [PAD] [PAD] [PAD] [PAD] [PAD] [PAD] [PAD] [PAD] [PAD] [PAD] [PAD] [PAD] [PAD] [PAD] [PAD] [PAD] [PAD] [PAD] [PAD] [PAD] [PAD] [PAD] [PAD] [PAD] [PAD] [PAD] [PAD] [PAD] [PAD] [PAD] [PAD] [PAD] [PAD] [PAD] [PAD]',\n",
              " \"[CLS] Paul Mills ##ap is so close to being a Top 10 player but he ' s ranked in Top 30 ' s because he ' [SEP] I always think Tri ##lls ##ap ##s in his prime or gonna hit his prime then I realize he ' s 31 [SEP]\",\n",
              " \"[CLS] T ##rolls don ' t usually feel remorse for killing people ( the only troll ##s who ever felt any remorse were V ##ris ##ka and Te ##rez ##i , but this happened only because [SEP] That still doesn ' t stop him from being my favorite . [SEP]\",\n",
              " \"[CLS] Big ##ger balls wouldn ' t cause you to drown . They are less dense than water . [SEP] If they ' re big enough you ' d float balls up and probably drown . [SEP] [PAD] [PAD] [PAD] [PAD] [PAD] [PAD] [PAD] [PAD] [PAD] [PAD] [PAD] [PAD] [PAD]\",\n",
              " \"[CLS] Chi ##fu ##yu riding In ##ferno Co ##p [SEP] That ' s awesome , I didn ' t even notice . [SEP] [PAD] [PAD] [PAD] [PAD] [PAD] [PAD] [PAD] [PAD] [PAD] [PAD] [PAD] [PAD] [PAD] [PAD] [PAD] [PAD] [PAD] [PAD] [PAD] [PAD] [PAD] [PAD] [PAD] [PAD] [PAD] [PAD] [PAD]\",\n",
              " '[CLS] This sounds like an \" all s ##cot ##ch is whiskey but not all whiskey is s ##cot ##ch \" type situation . . [SEP] I \\' m not sure I follow , not all di ##ldo ##s are v ##ib ##rators nor are all v ##ib ##rators [SEP]',\n",
              " \"[CLS] Holy shit . . . I was thinking of posting this earlier today . I ' m mildly freaked out right now . Not really though . I ' m okay . [SEP] It ' s ok , this is still a re ##post [SEP] [PAD] [PAD] [PAD] [PAD]\",\n",
              " '[CLS] I either made the right decision , or a very wrong one [SEP] Rhine ##ge ##ist is never the wrong decision . [SEP] [PAD] [PAD] [PAD] [PAD] [PAD] [PAD] [PAD] [PAD] [PAD] [PAD] [PAD] [PAD] [PAD] [PAD] [PAD] [PAD] [PAD] [PAD] [PAD] [PAD] [PAD] [PAD] [PAD] [PAD] [PAD] [PAD]',\n",
              " '[CLS] What are your best disease names on P ##lag ##ue Inc . ? [SEP] Stupid ##ity [SEP] [PAD] [PAD] [PAD] [PAD] [PAD] [PAD] [PAD] [PAD] [PAD] [PAD] [PAD] [PAD] [PAD] [PAD] [PAD] [PAD] [PAD] [PAD] [PAD] [PAD] [PAD] [PAD] [PAD] [PAD] [PAD] [PAD] [PAD] [PAD] [PAD] [PAD] [PAD] [PAD]',\n",
              " \"[CLS] Tri ##ed to get to specific Wikipedia pages in as few click ##s as possible , using only links in the articles , using Hitler as my starting page . [SEP] Isn ' t there an online game for this ? [SEP] [PAD] [PAD] [PAD] [PAD] [PAD] [PAD] [PAD]\",\n",
              " '[CLS] \" Very wrong \" meaning what , exactly ? [SEP] Exactly [SEP] [PAD] [PAD] [PAD] [PAD] [PAD] [PAD] [PAD] [PAD] [PAD] [PAD] [PAD] [PAD] [PAD] [PAD] [PAD] [PAD] [PAD] [PAD] [PAD] [PAD] [PAD] [PAD] [PAD] [PAD] [PAD] [PAD] [PAD] [PAD] [PAD] [PAD] [PAD] [PAD] [PAD] [PAD] [PAD] [PAD] [PAD]',\n",
              " '[CLS] Do I want to know what you found ? It sounds disturbing . [SEP] Just stupid inn ##oc ##uous pieces that now go for a small fortune . [SEP] [PAD] [PAD] [PAD] [PAD] [PAD] [PAD] [PAD] [PAD] [PAD] [PAD] [PAD] [PAD] [PAD] [PAD] [PAD] [PAD] [PAD] [PAD] [PAD] [PAD]',\n",
              " \"[CLS] I ' m not allowed to talk about the context . [SEP] Thank you . [SEP] [PAD] [PAD] [PAD] [PAD] [PAD] [PAD] [PAD] [PAD] [PAD] [PAD] [PAD] [PAD] [PAD] [PAD] [PAD] [PAD] [PAD] [PAD] [PAD] [PAD] [PAD] [PAD] [PAD] [PAD] [PAD] [PAD] [PAD] [PAD] [PAD] [PAD] [PAD] [PAD] [PAD]\",\n",
              " '[CLS] Buck ##y Beaver mother ##fu ##cker ! [SEP] I could listen to Co ##rne ##tte talk about Kevin Dunn for the rest of my life and never get bored . [SEP] [PAD] [PAD] [PAD] [PAD] [PAD] [PAD] [PAD] [PAD] [PAD] [PAD] [PAD] [PAD] [PAD] [PAD] [PAD] [PAD] [PAD] [PAD]',\n",
              " \"[CLS] It ' s a watch . [SEP] Its another object during a crash [SEP] [PAD] [PAD] [PAD] [PAD] [PAD] [PAD] [PAD] [PAD] [PAD] [PAD] [PAD] [PAD] [PAD] [PAD] [PAD] [PAD] [PAD] [PAD] [PAD] [PAD] [PAD] [PAD] [PAD] [PAD] [PAD] [PAD] [PAD] [PAD] [PAD] [PAD] [PAD] [PAD] [PAD] [PAD] [PAD]\",\n",
              " '[CLS] Sounds like his American wife is lucky to have your p ##al out of her life . [SEP] De ##pen ##ds on your point of view I guess , knowing nothing about her as you do . [SEP] [PAD] [PAD] [PAD] [PAD] [PAD] [PAD] [PAD] [PAD] [PAD] [PAD] [PAD]',\n",
              " \"[CLS] I leave my town hall out there for free shields , I don ' t care about trophies at the moment , just resources . I ' ve seen diamond patterns a lot [SEP] They allow for more even coverage of your base with less weak spots . [SEP]\",\n",
              " \"[CLS] I had it a few times over the past couple years , and it ' s too inconsistent . Sometimes it ' s decent [SEP] Like I said , local places are the best , but they ' re not gonna deliver to your house on a Sunday [SEP]\",\n",
              " '[CLS] As somebody who watched literally just the last interception , w ##t ##f happened to Abdullah and R ##id ##dick ? [SEP] Abdullah foot injury I think . [SEP] [PAD] [PAD] [PAD] [PAD] [PAD] [PAD] [PAD] [PAD] [PAD] [PAD] [PAD] [PAD] [PAD] [PAD] [PAD] [PAD] [PAD] [PAD] [PAD] [PAD]',\n",
              " \"[CLS] I ' m H ##ype ##d for when N ##A drop out of groups . [SEP] I think that we are talking about N ##A , not EU ? [SEP] [PAD] [PAD] [PAD] [PAD] [PAD] [PAD] [PAD] [PAD] [PAD] [PAD] [PAD] [PAD] [PAD] [PAD] [PAD] [PAD] [PAD] [PAD] [PAD]\",\n",
              " '[CLS] Always Sunny reference ? [SEP] Yu ##p the whale is voiced by Kai ##tl ##in Olson . [SEP] [PAD] [PAD] [PAD] [PAD] [PAD] [PAD] [PAD] [PAD] [PAD] [PAD] [PAD] [PAD] [PAD] [PAD] [PAD] [PAD] [PAD] [PAD] [PAD] [PAD] [PAD] [PAD] [PAD] [PAD] [PAD] [PAD] [PAD] [PAD] [PAD] [PAD] [PAD]',\n",
              " '[CLS] Her eyes were dark and narrowed thin - Her mouth , a solid line . I took a breath , and with a grin , I ##gno ##red the warning sign . * Perhaps a smart ##er ( safer ) man [SEP] You truly are a legend . [SEP]',\n",
              " '[CLS] We should take up a collection and buy him tickets to their first 4 games . [SEP] L ##ma ##o [SEP] [PAD] [PAD] [PAD] [PAD] [PAD] [PAD] [PAD] [PAD] [PAD] [PAD] [PAD] [PAD] [PAD] [PAD] [PAD] [PAD] [PAD] [PAD] [PAD] [PAD] [PAD] [PAD] [PAD] [PAD] [PAD] [PAD] [PAD] [PAD]',\n",
              " \"[CLS] That ' s the golden non - legendary I want the most ! You ' re lucky ! [SEP] I wish you the best of luck in finding yours : ) [SEP] [PAD] [PAD] [PAD] [PAD] [PAD] [PAD] [PAD] [PAD] [PAD] [PAD] [PAD] [PAD] [PAD] [PAD] [PAD] [PAD] [PAD]\",\n",
              " '[CLS] So ##rt of has a bitter taste to it coming from Re ##ign ##s though . \" No matter where I am on the [SEP] Though people eat it up when Z ##ig ##gler gives some imp ##ass ##ioned speech about being the Show Off and stealing the [SEP]',\n",
              " '[CLS] U ##GA N ##T John Jenkins sleeping . . . and sucking his thumb . [SEP] Probably still having nightmares about the Out ##back Bowl . [SEP] [PAD] [PAD] [PAD] [PAD] [PAD] [PAD] [PAD] [PAD] [PAD] [PAD] [PAD] [PAD] [PAD] [PAD] [PAD] [PAD] [PAD] [PAD] [PAD] [PAD] [PAD] [PAD]',\n",
              " '[CLS] Do a marijuana [SEP] Not even once [SEP] [PAD] [PAD] [PAD] [PAD] [PAD] [PAD] [PAD] [PAD] [PAD] [PAD] [PAD] [PAD] [PAD] [PAD] [PAD] [PAD] [PAD] [PAD] [PAD] [PAD] [PAD] [PAD] [PAD] [PAD] [PAD] [PAD] [PAD] [PAD] [PAD] [PAD] [PAD] [PAD] [PAD] [PAD] [PAD] [PAD] [PAD] [PAD] [PAD] [PAD] [PAD]',\n",
              " '[CLS] O ##C High School A ##pol ##og ##izes After For ##cing Student To Re ##mo ##ve N ##RA T - Shi ##rt [SEP] A victory for common sense . [SEP] [PAD] [PAD] [PAD] [PAD] [PAD] [PAD] [PAD] [PAD] [PAD] [PAD] [PAD] [PAD] [PAD] [PAD] [PAD] [PAD] [PAD] [PAD] [PAD]',\n",
              " \"[CLS] It ' s the safe ##st method to produce methods and is responsible for less deaths then any other method , including solar and h ##ydro . [SEP] That was almost a sentence . [SEP] [PAD] [PAD] [PAD] [PAD] [PAD] [PAD] [PAD] [PAD] [PAD] [PAD] [PAD] [PAD] [PAD] [PAD]\",\n",
              " \"[CLS] What ' s your lame claim to fame ? [SEP] Through school I was best friends with a de ##cede ##nt of the guy who invented the Boxing glove , the friend was also named after said relative . [SEP] [PAD] [PAD] [PAD] [PAD] [PAD] [PAD] [PAD] [PAD] [PAD]\",\n",
              " '[CLS] Specifically in the case of \" a ##bs ##o - fucking - l ##ute ##ly \" , * ex ##ple ##tive t ##mes ##is [SEP] The W ##iki article for the word t ##mes ##is , gives examples from Ned Flanders from the Simpsons to Neal Patrick Harris [SEP]',\n",
              " \"[CLS] These s ##cam ##mers are getting smart ##er [SEP] You shouldn ' t click websites like that either , it could be a kid trying to troll people and give them a virus . [SEP] [PAD] [PAD] [PAD] [PAD] [PAD] [PAD] [PAD] [PAD] [PAD] [PAD] [PAD] [PAD] [PAD] [PAD]\",\n",
              " '[CLS] What drugs did you use ? [SEP] Hero ##in mostly , but over the years just about everything [SEP] [PAD] [PAD] [PAD] [PAD] [PAD] [PAD] [PAD] [PAD] [PAD] [PAD] [PAD] [PAD] [PAD] [PAD] [PAD] [PAD] [PAD] [PAD] [PAD] [PAD] [PAD] [PAD] [PAD] [PAD] [PAD] [PAD] [PAD] [PAD] [PAD] [PAD]',\n",
              " '[CLS] S ##pic ##y PC ##MR me ##me [SEP] For any un ##in ##formed in ##tel HD users , r / will ##iti ##nte ##l ##HD is great for finding games it can run [SEP] [PAD] [PAD] [PAD] [PAD] [PAD] [PAD] [PAD] [PAD] [PAD] [PAD] [PAD] [PAD] [PAD] [PAD] [PAD]',\n",
              " \"[CLS] It ' s not that I necessarily hate football , but it definitely dominate ##s the media and everything else , especially in the [SEP] Fair , I was just making a smart ass comment because you know they are gonna talk about it and promote the heck [SEP]\",\n",
              " \"[CLS] Does putting a few par cans on some f ##rot ##tos count at some point over a year ? I ' d like some cheaper insurance . . . ! [SEP] Well , most video switch ##ers have lights on them . . . [SEP] [PAD] [PAD] [PAD] [PAD]\",\n",
              " \"[CLS] con ##gra ##ts . . . [SEP] At least she didn ' t give it feral alcohol syndrome ! [SEP] [PAD] [PAD] [PAD] [PAD] [PAD] [PAD] [PAD] [PAD] [PAD] [PAD] [PAD] [PAD] [PAD] [PAD] [PAD] [PAD] [PAD] [PAD] [PAD] [PAD] [PAD] [PAD] [PAD] [PAD] [PAD] [PAD] [PAD] [PAD] [PAD]\",\n",
              " '[CLS] Dude , your bed is a car . [SEP] There is a guy in London on air ##b ##n ##b that rent ##s his unused car as a bed . [SEP] [PAD] [PAD] [PAD] [PAD] [PAD] [PAD] [PAD] [PAD] [PAD] [PAD] [PAD] [PAD] [PAD] [PAD] [PAD] [PAD] [PAD] [PAD]',\n",
              " '[CLS] She single ? Nah but seriously good job on s ##po ##iling the wife bra ##h [SEP] All yours bra ##h , sharing is caring . [SEP] [PAD] [PAD] [PAD] [PAD] [PAD] [PAD] [PAD] [PAD] [PAD] [PAD] [PAD] [PAD] [PAD] [PAD] [PAD] [PAD] [PAD] [PAD] [PAD] [PAD] [PAD] [PAD]',\n",
              " '[CLS] Mi ##so ##gy ##ny AND he ##tero ##ph ##obia ? It must be Christmas ! [SEP] Gee thanks for f ##eti ##shi ##zing my sexuality and gender . [SEP] [PAD] [PAD] [PAD] [PAD] [PAD] [PAD] [PAD] [PAD] [PAD] [PAD] [PAD] [PAD] [PAD] [PAD] [PAD] [PAD] [PAD] [PAD] [PAD] [PAD]',\n",
              " \"[CLS] I ' m somewhat jealous . [SEP] En ##vious * [SEP] [PAD] [PAD] [PAD] [PAD] [PAD] [PAD] [PAD] [PAD] [PAD] [PAD] [PAD] [PAD] [PAD] [PAD] [PAD] [PAD] [PAD] [PAD] [PAD] [PAD] [PAD] [PAD] [PAD] [PAD] [PAD] [PAD] [PAD] [PAD] [PAD] [PAD] [PAD] [PAD] [PAD] [PAD] [PAD] [PAD] [PAD] [PAD]\",\n",
              " \"[CLS] ha ##pp ##iest player this event - Fr ##eak ##az ##oid [SEP] He ' s N ##A ' s Pasha ##B ##ice ##ps , Fr ##eak ##a ##B ##ice ##ps : ) [SEP] [PAD] [PAD] [PAD] [PAD] [PAD] [PAD] [PAD] [PAD] [PAD] [PAD] [PAD] [PAD] [PAD] [PAD] [PAD] [PAD]\",\n",
              " \"[CLS] Google + updated to version 4 . 6 with more Material Design and completely redesigned Photo ##s app [SEP] and it ' s still a ghost town . [SEP] [PAD] [PAD] [PAD] [PAD] [PAD] [PAD] [PAD] [PAD] [PAD] [PAD] [PAD] [PAD] [PAD] [PAD] [PAD] [PAD] [PAD] [PAD] [PAD] [PAD]\",\n",
              " '[CLS] Squadron Mo ##ral ##e Shi ##rts What color is yours ? [SEP] Traffic cone orange . [SEP] [PAD] [PAD] [PAD] [PAD] [PAD] [PAD] [PAD] [PAD] [PAD] [PAD] [PAD] [PAD] [PAD] [PAD] [PAD] [PAD] [PAD] [PAD] [PAD] [PAD] [PAD] [PAD] [PAD] [PAD] [PAD] [PAD] [PAD] [PAD] [PAD] [PAD] [PAD] [PAD]',\n",
              " '[CLS] What is / was your \" Ex ##am Pen \" ? Many of us buy stationary before the exams , and it includes a pen to write the exams with . You know , like how all the studio ##us [SEP] Cell ##o pin ##point blue color . [SEP]',\n",
              " '[CLS] Girl Get ##s Hit With Du ##mps ##ter During Fight [SEP] I ##dio ##ts . [SEP] [PAD] [PAD] [PAD] [PAD] [PAD] [PAD] [PAD] [PAD] [PAD] [PAD] [PAD] [PAD] [PAD] [PAD] [PAD] [PAD] [PAD] [PAD] [PAD] [PAD] [PAD] [PAD] [PAD] [PAD] [PAD] [PAD] [PAD] [PAD] [PAD] [PAD] [PAD] [PAD] [PAD]',\n",
              " '[CLS] I believe we all want V ##R animal abuse my friend . [SEP] Cat beat ##er 2016 [SEP] [PAD] [PAD] [PAD] [PAD] [PAD] [PAD] [PAD] [PAD] [PAD] [PAD] [PAD] [PAD] [PAD] [PAD] [PAD] [PAD] [PAD] [PAD] [PAD] [PAD] [PAD] [PAD] [PAD] [PAD] [PAD] [PAD] [PAD] [PAD] [PAD] [PAD] [PAD]',\n",
              " \"[CLS] Only in tiny bits . What helps me a lot is to slowly create a routine in small steps . For example , I [SEP] Also , I ' ve found the moment you move that routine goes away and you have to start all over from square [SEP]\",\n",
              " \"[CLS] That ' s some good plastic [SEP] It ' s thick a ##f and will bend before it breaks . [SEP] [PAD] [PAD] [PAD] [PAD] [PAD] [PAD] [PAD] [PAD] [PAD] [PAD] [PAD] [PAD] [PAD] [PAD] [PAD] [PAD] [PAD] [PAD] [PAD] [PAD] [PAD] [PAD] [PAD] [PAD] [PAD] [PAD] [PAD] [PAD]\",\n",
              " \"[CLS] All art is meant to e ##voke something . Even if it ' s pointless , it ' s saying something about pointless ##ness [SEP] ' Even if it ' s pointless , it ' s saying something about pointless ##ness ' - just a little con ##tra [SEP]\",\n",
              " '[CLS] d ##R ##UN ##K AM ##A hi im drunk for t ##je third night in a r ##wo talk to me please ##s [SEP] what are you drinking ? [SEP] [PAD] [PAD] [PAD] [PAD] [PAD] [PAD] [PAD] [PAD] [PAD] [PAD] [PAD] [PAD] [PAD] [PAD] [PAD] [PAD] [PAD] [PAD] [PAD]',\n",
              " '[CLS] its gotta be true th ##ib ##s fashion . Play him 40 minutes on the second night of a back to back and since [SEP] \" It was against Honduras , I needed to make sure they wouldn \\' t ch ##ise ##l down that 35 point lead [SEP]',\n",
              " \"[CLS] It ' d be saving me about $ 50 - $ 70 dollars is the only reason . I ' m on a tight budget having bought both my gig ##ging amplifier and guitar this year along with [SEP] Ah that would be a very good reason . [SEP]\",\n",
              " \"[CLS] In honour of his upcoming AM ##A , here ' s a picture of my dad just hanging out at work . [SEP] your dad is a piece of shit f ##ag ##got I hope gets shot into orbit and burns in the atmosphere like a t ##ur [SEP]\",\n",
              " \"[CLS] what ' s strange about it ? [SEP] I ##d ##k people always say this but I ' m not sure what they ' re looking at ( examples p ##ls lo ##l ) [SEP] [PAD] [PAD] [PAD] [PAD] [PAD] [PAD] [PAD] [PAD] [PAD] [PAD] [PAD] [PAD] [PAD] [PAD]\",\n",
              " '[CLS] Taking the blame [SEP] Has ##hta ##g red ##pi ##ll [SEP] [PAD] [PAD] [PAD] [PAD] [PAD] [PAD] [PAD] [PAD] [PAD] [PAD] [PAD] [PAD] [PAD] [PAD] [PAD] [PAD] [PAD] [PAD] [PAD] [PAD] [PAD] [PAD] [PAD] [PAD] [PAD] [PAD] [PAD] [PAD] [PAD] [PAD] [PAD] [PAD] [PAD] [PAD] [PAD] [PAD] [PAD] [PAD]',\n",
              " '[CLS] No One Murder ##ed Because Of This Image - - three years on and still as glaring ##ly relevant as ever [SEP] Man , O ##P is getting c ##ru ##ci ##fied in the comment section of this post . [SEP] [PAD] [PAD] [PAD] [PAD] [PAD] [PAD] [PAD] [PAD]',\n",
              " '[CLS] Shit ##ty lo ##ot ##box got a du ##plicate em ##ote [SEP] Such horrible luck . [SEP] [PAD] [PAD] [PAD] [PAD] [PAD] [PAD] [PAD] [PAD] [PAD] [PAD] [PAD] [PAD] [PAD] [PAD] [PAD] [PAD] [PAD] [PAD] [PAD] [PAD] [PAD] [PAD] [PAD] [PAD] [PAD] [PAD] [PAD] [PAD] [PAD] [PAD] [PAD] [PAD]',\n",
              " \"[CLS] What are some tips to help out a socially awkward person ? [SEP] When I make eye contact with someone , I feel like it ' s a just a game to see who looks away first . [SEP] [PAD] [PAD] [PAD] [PAD] [PAD] [PAD] [PAD] [PAD] [PAD] [PAD]\",\n",
              " \"[CLS] that ' s 2 rape ##s . [SEP] like = 1 rape ##s share = 10 rape ##s [SEP] [PAD] [PAD] [PAD] [PAD] [PAD] [PAD] [PAD] [PAD] [PAD] [PAD] [PAD] [PAD] [PAD] [PAD] [PAD] [PAD] [PAD] [PAD] [PAD] [PAD] [PAD] [PAD] [PAD] [PAD] [PAD] [PAD] [PAD] [PAD] [PAD] [PAD]\",\n",
              " '[CLS] Good god . Did you come out of the w ##omb jerking it ? [SEP] His mother took in so many orgasm ##s that her kid * became * the orgasm . [SEP] [PAD] [PAD] [PAD] [PAD] [PAD] [PAD] [PAD] [PAD] [PAD] [PAD] [PAD] [PAD] [PAD] [PAD] [PAD] [PAD]',\n",
              " \"[CLS] I ' ve never run into a case of bullying as an adult . Does it really happen that much ? [SEP] At my work looking at someone the wrong way is considered ' bullying ' [SEP] [PAD] [PAD] [PAD] [PAD] [PAD] [PAD] [PAD] [PAD] [PAD] [PAD] [PAD] [PAD]\",\n",
              " \"[CLS] All drugs should be legal . Dr ##ink ##ing age should be lowered . Ta ##tto ##os are fine , just don ' t let [SEP] I think that would lead to an increase in drug over ##dos ##es , which would increase the burden on hospitals . [SEP]\",\n",
              " '[CLS] they make for great bed ##fell ##ows though . [SEP] Double bag it . [SEP] [PAD] [PAD] [PAD] [PAD] [PAD] [PAD] [PAD] [PAD] [PAD] [PAD] [PAD] [PAD] [PAD] [PAD] [PAD] [PAD] [PAD] [PAD] [PAD] [PAD] [PAD] [PAD] [PAD] [PAD] [PAD] [PAD] [PAD] [PAD] [PAD] [PAD] [PAD] [PAD] [PAD] [PAD]',\n",
              " '[CLS] Because every second sentence that comes out of B ##0 ##at ##ys mouth is something like \" Kappa s ##mor ##g slim ##e g ##inger cu ##nt 73 p ##og ##champ in the [SEP] A ##g ##reed its the reason why I don \\' t watch ad ##am [SEP]',\n",
              " '[CLS] Walk the Moon - Shut Up and Dance [SEP] This is the only one . [SEP] [PAD] [PAD] [PAD] [PAD] [PAD] [PAD] [PAD] [PAD] [PAD] [PAD] [PAD] [PAD] [PAD] [PAD] [PAD] [PAD] [PAD] [PAD] [PAD] [PAD] [PAD] [PAD] [PAD] [PAD] [PAD] [PAD] [PAD] [PAD] [PAD] [PAD] [PAD] [PAD] [PAD]',\n",
              " \"[CLS] I just wanted A source . . . [SEP] Translation : I ' m talking out of my ass and have no evidence to support my assertion apart from my F ##EE ##L ##Z [SEP] [PAD] [PAD] [PAD] [PAD] [PAD] [PAD] [PAD] [PAD] [PAD] [PAD] [PAD] [PAD] [PAD] [PAD]\",\n",
              " '[CLS] Your friend says \" Show me what kind of music you listen to \" . What song do you put on ? [SEP] When the Lev ##ee breaks by Led Zeppelin [SEP] [PAD] [PAD] [PAD] [PAD] [PAD] [PAD] [PAD] [PAD] [PAD] [PAD] [PAD] [PAD] [PAD] [PAD] [PAD] [PAD] [PAD]',\n",
              " \"[CLS] this is great . . I ' m bringing the RC back for a moment of gold like this . . [SEP] Holy fucking mix ' s . [SEP] [PAD] [PAD] [PAD] [PAD] [PAD] [PAD] [PAD] [PAD] [PAD] [PAD] [PAD] [PAD] [PAD] [PAD] [PAD] [PAD] [PAD] [PAD] [PAD] [PAD]\",\n",
              " '[CLS] Germans have a bizarre love affair with Native Americans which includes a museum that collects Native American scalp ##s . ( 2014 ) [SEP] i think \" love \" and \" scalp ##s \" don \\' t really go together . . . just saying . [SEP] [PAD] [PAD]',\n",
              " '[CLS] Moments like these are why Siege has become one of my all time favourite games ; I had no idea what happened in this minute until I watched it back [SEP] I \\' ll take \" things that shouldn \\' t have worked \" for 300 please . [SEP]',\n",
              " \"[CLS] Truck made it , tire said fuck it I ' m out . . [SEP] By comparison , the be ##ige car two over must feel better about their flat . [SEP] [PAD] [PAD] [PAD] [PAD] [PAD] [PAD] [PAD] [PAD] [PAD] [PAD] [PAD] [PAD] [PAD] [PAD] [PAD] [PAD] [PAD]\",\n",
              " \"[CLS] Since Flash has his own show and C ##rix ##us doesn ' t want to come back I re ##ck ##on the only way that this show might be saved is if they add on [SEP] I think killing Fe ##licity is enough , to be honest . [SEP]\",\n",
              " '[CLS] Feeling really down after buying chest ##s . So , I saw the pan ##de ##mon ##ium chest , and really wanted it . Fe ##lt kind of weird that I would have to buy a [SEP] See ##k help while there is still hope for you ! [SEP]',\n",
              " \"[CLS] Oh god you ' re right . D : [SEP] It made me giggle but it ' s not a horrible thing . [SEP] [PAD] [PAD] [PAD] [PAD] [PAD] [PAD] [PAD] [PAD] [PAD] [PAD] [PAD] [PAD] [PAD] [PAD] [PAD] [PAD] [PAD] [PAD] [PAD] [PAD] [PAD] [PAD] [PAD] [PAD] [PAD]\",\n",
              " \"[CLS] Is that a thing - having V ##eter ##an ' s Day off ? [SEP] I ##k ##r [SEP] [PAD] [PAD] [PAD] [PAD] [PAD] [PAD] [PAD] [PAD] [PAD] [PAD] [PAD] [PAD] [PAD] [PAD] [PAD] [PAD] [PAD] [PAD] [PAD] [PAD] [PAD] [PAD] [PAD] [PAD] [PAD] [PAD] [PAD] [PAD] [PAD] [PAD]\",\n",
              " \"[CLS] If the quality of the g ##if is low , just say it politely . [SEP] I didn ' t say anything that was imp ##oli ##te anyway ##s [SEP] [PAD] [PAD] [PAD] [PAD] [PAD] [PAD] [PAD] [PAD] [PAD] [PAD] [PAD] [PAD] [PAD] [PAD] [PAD] [PAD] [PAD] [PAD] [PAD]\",\n",
              " \"[CLS] Oh she ' s terrible . The fact that she ' s the Democratic front ##runner is a good example of why I want nothing to do with the Democrats . Unfortunately , they ' re our only defense [SEP] Can you name any viable republican ##s ? [SEP]\",\n",
              " \"[CLS] how much will it cost to implement the toll program ? how much will it cost to maintain ? will it end up even [SEP] Don ' t forget consultant ##s , and picking the lowest bid ##der and then finding the lowest bid ##der can ' t [SEP]\",\n",
              " '[CLS] The CT ##S - V wagon is so awesome . I picture it as something the grim re ##aper would drive . [SEP] Think of all the dead people he can fit with the wagon . [SEP] [PAD] [PAD] [PAD] [PAD] [PAD] [PAD] [PAD] [PAD] [PAD] [PAD] [PAD] [PAD]',\n",
              " '[CLS] Most valuable players according to C ##IE ##S Football Observatory [SEP] ka ##ne and hazard are massive ##ly over ##p ##rice ##d , remember hazard has 0 goals and 2 assists in 19 games for su ##pp ##osa ##bly the best player in the league [SEP] [PAD] [PAD] [PAD]',\n",
              " '[CLS] Could you point me to a place that has absolutely * no * bias , though ? Not trying to be a dick . I would actually love a site that just says \" This is a thing that happened today [SEP] NPR is another good one . [SEP]',\n",
              " '[CLS] The Xbox would continue download ##ing even if off [SEP] If the correct setting is enabled . [SEP] [PAD] [PAD] [PAD] [PAD] [PAD] [PAD] [PAD] [PAD] [PAD] [PAD] [PAD] [PAD] [PAD] [PAD] [PAD] [PAD] [PAD] [PAD] [PAD] [PAD] [PAD] [PAD] [PAD] [PAD] [PAD] [PAD] [PAD] [PAD] [PAD] [PAD] [PAD]',\n",
              " \"[CLS] Apparently the track saves your info [SEP] Honestly , it ' s not mine . [SEP] [PAD] [PAD] [PAD] [PAD] [PAD] [PAD] [PAD] [PAD] [PAD] [PAD] [PAD] [PAD] [PAD] [PAD] [PAD] [PAD] [PAD] [PAD] [PAD] [PAD] [PAD] [PAD] [PAD] [PAD] [PAD] [PAD] [PAD] [PAD] [PAD] [PAD] [PAD] [PAD] [PAD]\",\n",
              " '[CLS] It can \\' t be . NY ##S exclude ##s people . It exclude ##s the straight Caucasian majority of the western world . [SEP] Well it actually can because it can cross past game ##r gate there are tons of communities where the \" ben ##evo ##lent [SEP]',\n",
              " '[CLS] I just tried a mythical h ##ud , wouldn ##t accept it , same as immortal : S . [SEP] likely un ##tra ##dea ##ble as mythical ##s do go in the offering . [SEP] [PAD] [PAD] [PAD] [PAD] [PAD] [PAD] [PAD] [PAD] [PAD] [PAD] [PAD] [PAD] [PAD] [PAD]',\n",
              " \"[CLS] Which country ? Canada ? Oh , man . We would be pretty pissed off , yeah , but if it ' s not Hockey related , the Government would stay right [SEP] Sorry a ##boo ##t your GB ##U - 12 hitting our wedding party eh . [SEP]\",\n",
              " \"[CLS] What ' s something you can get cheap and everybody should have ? [SEP] Dental fl ##oss ! [SEP] [PAD] [PAD] [PAD] [PAD] [PAD] [PAD] [PAD] [PAD] [PAD] [PAD] [PAD] [PAD] [PAD] [PAD] [PAD] [PAD] [PAD] [PAD] [PAD] [PAD] [PAD] [PAD] [PAD] [PAD] [PAD] [PAD] [PAD] [PAD] [PAD] [PAD]\",\n",
              " \"[CLS] Well that ' s a load of bullshit [SEP] Gotta protect the children ! [SEP] [PAD] [PAD] [PAD] [PAD] [PAD] [PAD] [PAD] [PAD] [PAD] [PAD] [PAD] [PAD] [PAD] [PAD] [PAD] [PAD] [PAD] [PAD] [PAD] [PAD] [PAD] [PAD] [PAD] [PAD] [PAD] [PAD] [PAD] [PAD] [PAD] [PAD] [PAD] [PAD] [PAD] [PAD]\",\n",
              " '[CLS] Yes . [SEP] Nice . [SEP] [PAD] [PAD] [PAD] [PAD] [PAD] [PAD] [PAD] [PAD] [PAD] [PAD] [PAD] [PAD] [PAD] [PAD] [PAD] [PAD] [PAD] [PAD] [PAD] [PAD] [PAD] [PAD] [PAD] [PAD] [PAD] [PAD] [PAD] [PAD] [PAD] [PAD] [PAD] [PAD] [PAD] [PAD] [PAD] [PAD] [PAD] [PAD] [PAD] [PAD] [PAD] [PAD] [PAD]',\n",
              " '[CLS] Oh , I forgot Vita ##lity To ##tem was a thing . . . actually makes Tu ##skar ##r significantly worse than I thought = [SEP] it has a pseudo ta ##unt against a ##gg ##ro so . . . uh . . . ye ##a it sucks [SEP]',\n",
              " '[CLS] Con ##st ##ip ##ation cure Sorry in advance if you came here for real advice , Then again this did the trick for me . W ##H ##IT ##E CA ##ST ##LE ! ! ! o ##m ##g [SEP] I ##d rather eat garbage than White Castle . [SEP]',\n",
              " '[CLS] NJ Transit customer at k ##ios ##k dial ##s out ##dated hot ##line , gets sex line instead [SEP] Le ##w ##d [SEP] [PAD] [PAD] [PAD] [PAD] [PAD] [PAD] [PAD] [PAD] [PAD] [PAD] [PAD] [PAD] [PAD] [PAD] [PAD] [PAD] [PAD] [PAD] [PAD] [PAD] [PAD] [PAD] [PAD] [PAD] [PAD] [PAD]',\n",
              " '[CLS] I ##dea - polling the community Gen ##ts , Good morning . Was thinking of something and I asked the m ##ods if they thought it might be an idea that they would be interested in to further build community interaction . [SEP] I would enjoy that . [SEP]',\n",
              " '[CLS] This sounds similar to Estonia . [SEP] The last line sounds like Putin . [SEP] [PAD] [PAD] [PAD] [PAD] [PAD] [PAD] [PAD] [PAD] [PAD] [PAD] [PAD] [PAD] [PAD] [PAD] [PAD] [PAD] [PAD] [PAD] [PAD] [PAD] [PAD] [PAD] [PAD] [PAD] [PAD] [PAD] [PAD] [PAD] [PAD] [PAD] [PAD] [PAD] [PAD] [PAD]',\n",
              " \"[CLS] Keep in mind that many B ##IA ##B br ##ew ##ers don ' t spa ##rge at all and go with a full volume ma ##sh . He ##ck , I [SEP] Isn ' t the g ##rist ratio very important for en ##zy ##matic activity though ? [SEP]\",\n",
              " '[CLS] I was an adult with first kid when I found out they are actually called c ##re ##pes [SEP] It is customary in The UK and Ireland to eat these on S ##hr ##ove Tuesday aka Pan ##cake Tuesday . [SEP] [PAD] [PAD] [PAD] [PAD] [PAD] [PAD] [PAD] [PAD]',\n",
              " '[CLS] See ##ds for unlock ##ing The Lost ? Does anyone have good seeds to unlock The Lost ? I read you can do it via seeds on the w ##iki [SEP] You cannot unlock the lost with seeds anymore [SEP] [PAD] [PAD] [PAD] [PAD] [PAD] [PAD] [PAD] [PAD] [PAD]',\n",
              " \"[CLS] Every Christmas Eve , my family goes to a long time family friend ' s house at around 10 : 00 pm ( 22 [SEP] bring some beer and trees and s ##pice it up a little next time . . . . the family usually don ' [SEP]\",\n",
              " '[CLS] Theo ##log ##ians take the Bible as the in ##fall ##ible word of God . [SEP] Not all of them . [SEP] [PAD] [PAD] [PAD] [PAD] [PAD] [PAD] [PAD] [PAD] [PAD] [PAD] [PAD] [PAD] [PAD] [PAD] [PAD] [PAD] [PAD] [PAD] [PAD] [PAD] [PAD] [PAD] [PAD] [PAD] [PAD] [PAD] [PAD]',\n",
              " \"[CLS] Because of people like you , Dr . Who ##gi ##ves ##af ##uck ! [SEP] The doctors aren ' t the problem , the businessmen in the medical field are . [SEP] [PAD] [PAD] [PAD] [PAD] [PAD] [PAD] [PAD] [PAD] [PAD] [PAD] [PAD] [PAD] [PAD] [PAD] [PAD] [PAD] [PAD]\",\n",
              " \"[CLS] Sorry , I must ' ve mi ##s ##read that . [SEP] No worries , it happens ! [SEP] [PAD] [PAD] [PAD] [PAD] [PAD] [PAD] [PAD] [PAD] [PAD] [PAD] [PAD] [PAD] [PAD] [PAD] [PAD] [PAD] [PAD] [PAD] [PAD] [PAD] [PAD] [PAD] [PAD] [PAD] [PAD] [PAD] [PAD] [PAD] [PAD] [PAD]\",\n",
              " '[CLS] Point ##ers on throwing a liver punch Hi I have a good lead hook , but my liver punch feels awkward and c ##lu [SEP] well , for one thing , I wouldn \\' t call it a \" liver shot \" because there are many different ways [SEP]',\n",
              " '[CLS] Why does Casey go with Corey over Nor ##m ? [SEP] He likes the way he d ##ri ##bble ##s [SEP] [PAD] [PAD] [PAD] [PAD] [PAD] [PAD] [PAD] [PAD] [PAD] [PAD] [PAD] [PAD] [PAD] [PAD] [PAD] [PAD] [PAD] [PAD] [PAD] [PAD] [PAD] [PAD] [PAD] [PAD] [PAD] [PAD] [PAD] [PAD]',\n",
              " \"[CLS] Dame Maggie Smith [SEP] Didn ' t she have cancer while recording the later Harry Potter films ? [SEP] [PAD] [PAD] [PAD] [PAD] [PAD] [PAD] [PAD] [PAD] [PAD] [PAD] [PAD] [PAD] [PAD] [PAD] [PAD] [PAD] [PAD] [PAD] [PAD] [PAD] [PAD] [PAD] [PAD] [PAD] [PAD] [PAD] [PAD] [PAD] [PAD] [PAD]\",\n",
              " \"[CLS] run ##e pouch , allows you to store 1600 ##0 ? i think of 3 different types of run ##es , costs 1 . 2 [SEP] It ' s there a way to get it without doing b ##h I ' m quite shit at p ##v ##p [SEP]\",\n",
              " '[CLS] \" I had the opportunity to head to EA \\' s offices and play this game behind closed doors . \" Fantastic , more [SEP] As soon as I heard that I immediately knew this was going to be an EA / G ##G praise gang - bang [SEP]',\n",
              " '[CLS] my thousand man ma ##els ##trom fleet cannot defeat 150 t ##ita ##ns p ##l ##z cc ##p ha ##l ##p [SEP] You seem a bit bitter , no ? [SEP] [PAD] [PAD] [PAD] [PAD] [PAD] [PAD] [PAD] [PAD] [PAD] [PAD] [PAD] [PAD] [PAD] [PAD] [PAD] [PAD] [PAD] [PAD]',\n",
              " \"[CLS] B ##uff ##ing w ##raith / RA ##PS etc isn ' t going to do anything , still so easy to shoot them down [SEP] This would make the black ##cell useless because the first rocket can shoot kill streaks or people and would have the same number [SEP]\",\n",
              " '[CLS] The First Rule of . . [SEP] Stop fool ##ing yourself it was around before the World Wide Web [SEP] [PAD] [PAD] [PAD] [PAD] [PAD] [PAD] [PAD] [PAD] [PAD] [PAD] [PAD] [PAD] [PAD] [PAD] [PAD] [PAD] [PAD] [PAD] [PAD] [PAD] [PAD] [PAD] [PAD] [PAD] [PAD] [PAD] [PAD] [PAD] [PAD]',\n",
              " \"[CLS] The police better have the right woman if the media is going to spread all her information around , especially without a trial . Whatever this woman eventually is found guilty of , she [SEP] However that minds ##et never apply ' s if a male is accused [SEP]\",\n",
              " \"[CLS] He got wood on the ball . I assume the home plate um ##p initially didn ' t see that and called it a strike . After a quick conference [SEP] That ' s nice , that doesn ' t explain how the rule for pitching works . [SEP]\",\n",
              " '[CLS] Yu ##p [SEP] w [SEP] [PAD] [PAD] [PAD] [PAD] [PAD] [PAD] [PAD] [PAD] [PAD] [PAD] [PAD] [PAD] [PAD] [PAD] [PAD] [PAD] [PAD] [PAD] [PAD] [PAD] [PAD] [PAD] [PAD] [PAD] [PAD] [PAD] [PAD] [PAD] [PAD] [PAD] [PAD] [PAD] [PAD] [PAD] [PAD] [PAD] [PAD] [PAD] [PAD] [PAD] [PAD] [PAD] [PAD] [PAD]',\n",
              " '[CLS] Cut the guy some slack , \" i \" and \" o \" are right next to each other . He didn \\' t [SEP] m ##p o , m ##py hp ##om ##h y ##p v ##i ##y y ##j ##r hi ##u d ##p , r [SEP]',\n",
              " '[CLS] Was ##hing : I use some foam non - am ##monia window cleaner and a wash ##cloth twice a week . It gets rid [SEP] Ah got ##cha , my bike gets dusty after sitting in my garage even over night , so I spray down the tank [SEP]',\n",
              " '[CLS] Rachel Mad ##do ##w B ##lam ##es Jill Stein In Epic Act Of Journal ##istic N ##eg ##li ##gence [SEP] Rachel Mad ##do ##w has never been anything but a corporate global ##ist tool . [SEP] [PAD] [PAD] [PAD] [PAD] [PAD] [PAD] [PAD] [PAD] [PAD] [PAD] [PAD] [PAD] [PAD]',\n",
              " '[CLS] I love how on 4 : 10 one of the people on the \" evil \" side has a sick ##le . A very subtle message . [SEP] you don ##t believe forced communism is evil ? [SEP] [PAD] [PAD] [PAD] [PAD] [PAD] [PAD] [PAD] [PAD] [PAD] [PAD] [PAD]',\n",
              " '[CLS] Wood ##head / ye ##ldon / Freeman / Elliott ? PP ##R . Pick 3 . [SEP] Wood ##head , Ye ##ldon , and Elliott [SEP] [PAD] [PAD] [PAD] [PAD] [PAD] [PAD] [PAD] [PAD] [PAD] [PAD] [PAD] [PAD] [PAD] [PAD] [PAD] [PAD] [PAD] [PAD] [PAD] [PAD] [PAD] [PAD] [PAD]',\n",
              " '[CLS] Is it because he knows how to speak Spanish or the same noises he makes on every stand ##up he does . [SEP] Si los son ##ido ##s me i ##rita y no c ##re ##o que est ##as tan comic ##o ta ##mb ##ien [SEP] [PAD] [PAD] [PAD]',\n",
              " \"[CLS] Couldn ' t pass up the chance to get this painted ; thanks Shit ##ty ##W ##ater ##co ##lour ! [SEP] That looks more like south Carolina [SEP] [PAD] [PAD] [PAD] [PAD] [PAD] [PAD] [PAD] [PAD] [PAD] [PAD] [PAD] [PAD] [PAD] [PAD] [PAD] [PAD] [PAD] [PAD] [PAD] [PAD] [PAD]\",\n",
              " \"[CLS] Imagine if Jake McGee could do an AM ##A ! Dan seems like he ' d know what red ##dit is , but then again you never know if any ideas can pan out [SEP] Jake M ##c ##gee is who I ' m hoping does it ! [SEP]\",\n",
              " '[CLS] N ##eat little Japanese invention [SEP] Is it Vietnamese ? [SEP] [PAD] [PAD] [PAD] [PAD] [PAD] [PAD] [PAD] [PAD] [PAD] [PAD] [PAD] [PAD] [PAD] [PAD] [PAD] [PAD] [PAD] [PAD] [PAD] [PAD] [PAD] [PAD] [PAD] [PAD] [PAD] [PAD] [PAD] [PAD] [PAD] [PAD] [PAD] [PAD] [PAD] [PAD] [PAD] [PAD] [PAD] [PAD]',\n",
              " '[CLS] So for anyone interested the order of events was : 1 ) Get period 2 ) Jump off 40 ft sea cliff 3 ) Hit water so hard ta ##mpo ##n pop ##s out 4 ) Get U ##TI 5 ) Take anti ##biotics [SEP] Well that blows [SEP]',\n",
              " '[CLS] I think Ka ##ep has less to lose than Cam does . Cam is to ##uted on talk radio shows as the \" new face of the NFL \" [SEP] All the more reason to use that voice and image given to him for good im ##o . [SEP]',\n",
              " '[CLS] I can already imagine all the peasants b ##oast ##ing about this [SEP] w ##ow , a grand total of 20 % on an already paid service . . . * sarcastic c ##lap [SEP] [PAD] [PAD] [PAD] [PAD] [PAD] [PAD] [PAD] [PAD] [PAD] [PAD] [PAD] [PAD] [PAD] [PAD]',\n",
              " '[CLS] probably the engine [SEP] No issues on my end [SEP] [PAD] [PAD] [PAD] [PAD] [PAD] [PAD] [PAD] [PAD] [PAD] [PAD] [PAD] [PAD] [PAD] [PAD] [PAD] [PAD] [PAD] [PAD] [PAD] [PAD] [PAD] [PAD] [PAD] [PAD] [PAD] [PAD] [PAD] [PAD] [PAD] [PAD] [PAD] [PAD] [PAD] [PAD] [PAD] [PAD] [PAD] [PAD] [PAD]',\n",
              " \"[CLS] It ' s not what you were , it ' s what you are now . [SEP] And the French are far from surrender monkeys . [SEP] [PAD] [PAD] [PAD] [PAD] [PAD] [PAD] [PAD] [PAD] [PAD] [PAD] [PAD] [PAD] [PAD] [PAD] [PAD] [PAD] [PAD] [PAD] [PAD] [PAD] [PAD] [PAD]\",\n",
              " \"[CLS] I definitely HD ##R ' d the crap out of it . I rarely do use it to this degree - but I like the result here . A ##g ##ree [SEP] It would be cool if half the sky wasn ' t still over ##ex ##posed . [SEP]\",\n",
              " '[CLS] Ha ##ha ##ha ##ha Yes , although I kinda like saying its 50 / 50 [SEP] Technical ##ly speaking , 20 / 20 = 50 / 50 [SEP] [PAD] [PAD] [PAD] [PAD] [PAD] [PAD] [PAD] [PAD] [PAD] [PAD] [PAD] [PAD] [PAD] [PAD] [PAD] [PAD] [PAD] [PAD] [PAD] [PAD] [PAD]',\n",
              " '[CLS] For what it \\' s worth Hill is a tough match ##up for Low ##ry and his presence would have made a difference . [SEP] George \" 2015 - 2016 Si ##s ##q ##o \" Hill can defend anyone \\' s point guard f ##ero ##cious ##ly and [SEP]',\n",
              " \"[CLS] That would give an unfair advantage to locals . What ' s going to happen when the Japanese guy who lives next to the stadium and [SEP] Funny thing is , the first few Arc ##o Rock ##master ##s where on natural rock with chip ##ped holds . [SEP]\",\n",
              " \"[CLS] Pretty massive digital art theft over at de ##vian ##tar ##t ( x ##post ) [SEP] He ' s one of those guys that thinks avoiding p ##lag ##iar ##ism means copy ##ing and past ##ing and using a the ##saurus . [SEP] [PAD] [PAD] [PAD] [PAD] [PAD] [PAD]\",\n",
              " '[CLS] Aren \\' t those also just rocks on sticks ? [SEP] A hand axe is just a rock , shaped into an \" axe ##head \" , but with no stick . [SEP] [PAD] [PAD] [PAD] [PAD] [PAD] [PAD] [PAD] [PAD] [PAD] [PAD] [PAD] [PAD] [PAD] [PAD] [PAD] [PAD]',\n",
              " '[CLS] As I understood this , the plug itself is locked behind the wood with no access for the students . [SEP] He meant plug ##ging it in another outlet . [SEP] [PAD] [PAD] [PAD] [PAD] [PAD] [PAD] [PAD] [PAD] [PAD] [PAD] [PAD] [PAD] [PAD] [PAD] [PAD] [PAD] [PAD] [PAD]',\n",
              " \"[CLS] They ' ve openly admitted to cat ##fish ##ing . They ' re doing it specifically to mock them . [SEP] I don ' t get how you can mock someone for being wealthy enough to blow money on some random woman . [SEP] [PAD] [PAD] [PAD] [PAD] [PAD]\",\n",
              " \"[CLS] I know this article isn ' t satirical , but isn ' t the A ##V Club an offs ##hoot or partner of The On ##ion ? [SEP] Rule 6 specifically mentions A ##V Club [SEP] [PAD] [PAD] [PAD] [PAD] [PAD] [PAD] [PAD] [PAD] [PAD] [PAD] [PAD] [PAD] [PAD]\",\n",
              " '[CLS] So I remember them talking about m ##ods coming to consoles this time . Any word on that ? [SEP] The current date for console m ##ods is May for the one , June for the PS ##4 . [SEP] [PAD] [PAD] [PAD] [PAD] [PAD] [PAD] [PAD] [PAD] [PAD]',\n",
              " \"[CLS] I ' m going to call bullshit on this . . . As a tank chain running dungeon ##s , taking the week off [SEP] I can take a screen cap when I get off work , I ' ve made a total of 3 im ##bu ##ed [SEP]\",\n",
              " '[CLS] Israel \\' s \" defense \" has caused the death of countless children and innocent ##s . It \\' s not like it \\' s the pale ##st ##ian government attacking them it \\' s a terrorist group . [SEP] Hamas IS the Palestinian government . . . [SEP]',\n",
              " \"[CLS] Please mark things N ##SF ##L . I ' m tired of seeing people being ran over , falling down an elevator shaft , [SEP] The kind of person that likes to trick people in to watching very violent content is probably sitting there with an erection and [SEP]\",\n",
              " '[CLS] MR ##W when I took Bing ##s challenge to find proof it is better than Google . [SEP] Bing kills it on p ##orn though . [SEP] [PAD] [PAD] [PAD] [PAD] [PAD] [PAD] [PAD] [PAD] [PAD] [PAD] [PAD] [PAD] [PAD] [PAD] [PAD] [PAD] [PAD] [PAD] [PAD] [PAD] [PAD] [PAD]',\n",
              " \"[CLS] It ' s obviously an un ##founded opinion , but the propaganda machine in the US is real and what better way to relate to the 18 - 40 year [SEP] I see where you ' re coming from , the notion is just patent ##ly false . [SEP]\",\n",
              " \"[CLS] When someone uses the microwave and doesn ' t clear the time ##r after stopping it early . [SEP] I do that to my dad all the time . [SEP] [PAD] [PAD] [PAD] [PAD] [PAD] [PAD] [PAD] [PAD] [PAD] [PAD] [PAD] [PAD] [PAD] [PAD] [PAD] [PAD] [PAD] [PAD] [PAD]\",\n",
              " \"[CLS] You sure you aren ' t also a French model ? [SEP] Pretty sure I ' m not . . . . [SEP] [PAD] [PAD] [PAD] [PAD] [PAD] [PAD] [PAD] [PAD] [PAD] [PAD] [PAD] [PAD] [PAD] [PAD] [PAD] [PAD] [PAD] [PAD] [PAD] [PAD] [PAD] [PAD] [PAD] [PAD] [PAD] [PAD]\",\n",
              " '[CLS] Parents need to focus on the real issues . . . [SEP] Drug based ho ##mu ##nc ##uli are really the worst and we need to deal with them . [SEP] [PAD] [PAD] [PAD] [PAD] [PAD] [PAD] [PAD] [PAD] [PAD] [PAD] [PAD] [PAD] [PAD] [PAD] [PAD] [PAD] [PAD] [PAD]',\n",
              " \"[CLS] Rainbow W ##rass ##e caught off Christmas Island [SEP] what ' s it taste like [SEP] [PAD] [PAD] [PAD] [PAD] [PAD] [PAD] [PAD] [PAD] [PAD] [PAD] [PAD] [PAD] [PAD] [PAD] [PAD] [PAD] [PAD] [PAD] [PAD] [PAD] [PAD] [PAD] [PAD] [PAD] [PAD] [PAD] [PAD] [PAD] [PAD] [PAD] [PAD] [PAD] [PAD]\",\n",
              " '[CLS] In a shocking turn of events , _ _ _ _ is ranked 1st on MI ##OM this year [SEP] S ##UP ##A ##H MA ##RI ##O BR ##U ##D ##DA ##S 2 BA ##Y ##BE ##EE [SEP] [PAD] [PAD] [PAD] [PAD] [PAD] [PAD] [PAD] [PAD] [PAD] [PAD] [PAD]',\n",
              " \"[CLS] Yes ! Con ##let ##h Hill is back , he was the best thing about last years panel . [SEP] I agree he ' s so funny ! [SEP] [PAD] [PAD] [PAD] [PAD] [PAD] [PAD] [PAD] [PAD] [PAD] [PAD] [PAD] [PAD] [PAD] [PAD] [PAD] [PAD] [PAD] [PAD] [PAD] [PAD]\",\n",
              " '[CLS] This adds a unique dimension to the Florida - F ##SU rivalry [SEP] Pub ##lix De ##fender ! [SEP] [PAD] [PAD] [PAD] [PAD] [PAD] [PAD] [PAD] [PAD] [PAD] [PAD] [PAD] [PAD] [PAD] [PAD] [PAD] [PAD] [PAD] [PAD] [PAD] [PAD] [PAD] [PAD] [PAD] [PAD] [PAD] [PAD] [PAD] [PAD] [PAD] [PAD]',\n",
              " '[CLS] I du ##nn ##o why someone down ##vo ##ted this comment . . . Quick question . . what makes a western ##ized country ? [SEP] At ##tri ##but ##es considered to by typical for western countries . [SEP] [PAD] [PAD] [PAD] [PAD] [PAD] [PAD] [PAD] [PAD] [PAD] [PAD]',\n",
              " \"[CLS] These changes weren ' t directly voted on and approved . Nor should they be allowed to . It is national destruction . [SEP] Because that ' s merely applying EU as ##yu ##m rules . [SEP] [PAD] [PAD] [PAD] [PAD] [PAD] [PAD] [PAD] [PAD] [PAD] [PAD] [PAD] [PAD]\",\n",
              " \"[CLS] I was going to say that she ' s a go ##of ##y fraud who lied about her heritage to steal a position intended for a minority . . . but [SEP] I ' m sure that would keep you up at night , were it true . [SEP]\",\n",
              " \"[CLS] What is M ##T ##G ##O ? [SEP] It ' s Magic The Gathering : Online . [SEP] [PAD] [PAD] [PAD] [PAD] [PAD] [PAD] [PAD] [PAD] [PAD] [PAD] [PAD] [PAD] [PAD] [PAD] [PAD] [PAD] [PAD] [PAD] [PAD] [PAD] [PAD] [PAD] [PAD] [PAD] [PAD] [PAD] [PAD] [PAD] [PAD] [PAD] [PAD]\",\n",
              " '[CLS] You could say the same about Ba ##lot ##elli and Lo ##vre ##n , and even the aforementioned Spurs trio in their first season . But Ba [SEP] S ##hame that Ba ##lot ##elli is paid to score and Lo ##vre ##n is paid to stop them . [SEP]',\n",
              " \"[CLS] How easy do you guys think attain ##ing all the Dark lords will be ? Perhaps two boxes to get all the support . [SEP] The set has a fixed r ##arity ratio so it shouldn ' t be that hard to get everything you need with two [SEP]\",\n",
              " \"[CLS] Both of these reactions are inappropriate . Do you agree ? Why or why not ? [SEP] I ' m not denying the existence of grey areas , just pointing out the double standard . [SEP] [PAD] [PAD] [PAD] [PAD] [PAD] [PAD] [PAD] [PAD] [PAD] [PAD] [PAD] [PAD] [PAD]\",\n",
              " '[CLS] There have now been three fantastic 4 movies . . . . The most recent one being a re ##boo ##t . [SEP] Nope . . . only one . [SEP] [PAD] [PAD] [PAD] [PAD] [PAD] [PAD] [PAD] [PAD] [PAD] [PAD] [PAD] [PAD] [PAD] [PAD] [PAD] [PAD] [PAD] [PAD]',\n",
              " \"[CLS] What are the price range of SUV ' s ? [SEP] Well , you can get a cheap ##o make , or a Range Rover , so . . . . way too vague of a question . [SEP] [PAD] [PAD] [PAD] [PAD] [PAD] [PAD] [PAD] [PAD] [PAD] [PAD]\",\n",
              " \"[CLS] No death runs are typically done in new games . [SEP] Doesn ' t mean it ' s easier that way . [SEP] [PAD] [PAD] [PAD] [PAD] [PAD] [PAD] [PAD] [PAD] [PAD] [PAD] [PAD] [PAD] [PAD] [PAD] [PAD] [PAD] [PAD] [PAD] [PAD] [PAD] [PAD] [PAD] [PAD] [PAD] [PAD] [PAD]\",\n",
              " '[CLS] Po ##tat ##o potato [SEP] Po ##tat ##o , pod ##il ##do [SEP] [PAD] [PAD] [PAD] [PAD] [PAD] [PAD] [PAD] [PAD] [PAD] [PAD] [PAD] [PAD] [PAD] [PAD] [PAD] [PAD] [PAD] [PAD] [PAD] [PAD] [PAD] [PAD] [PAD] [PAD] [PAD] [PAD] [PAD] [PAD] [PAD] [PAD] [PAD] [PAD] [PAD] [PAD] [PAD] [PAD]',\n",
              " '[CLS] Black Hole comparison will blow your mind [SEP] A voice ##over on that video would have been really nice . [SEP] [PAD] [PAD] [PAD] [PAD] [PAD] [PAD] [PAD] [PAD] [PAD] [PAD] [PAD] [PAD] [PAD] [PAD] [PAD] [PAD] [PAD] [PAD] [PAD] [PAD] [PAD] [PAD] [PAD] [PAD] [PAD] [PAD] [PAD] [PAD]',\n",
              " '[CLS] For turtle times , Do I still need full ##body if I have a 3 ##x lead ? So , I just got a [SEP] I believe you need matching or ##bs on a character with over 900 ##at ##k with 3 ##x at ##k boost captains so [SEP]',\n",
              " \"[CLS] Ra ##nt : Met a racist today . Note that I ' m Chinese . So I was at Pak ' n ' Save today to buy some [SEP] O ##P , sounds like you * don ' t * live in Christchurch or the South Island . [SEP]\",\n",
              " \"[CLS] The last needle he ' d ever use . [SEP] He ' s proud he quit years ago ! [SEP] [PAD] [PAD] [PAD] [PAD] [PAD] [PAD] [PAD] [PAD] [PAD] [PAD] [PAD] [PAD] [PAD] [PAD] [PAD] [PAD] [PAD] [PAD] [PAD] [PAD] [PAD] [PAD] [PAD] [PAD] [PAD] [PAD] [PAD] [PAD] [PAD]\",\n",
              " '[CLS] The cop pulled his own bat ##on . Have you ever been hit with a bat ##on ? They break bones . If someone is swinging one at you [SEP] Yep , cop wanted to make sure the kid knew who was boss and who was bitch . [SEP]',\n",
              " \"[CLS] like Ke ##rber ##os principle ? [SEP] Us K ##ha ' Z ##ix main ##s seem well verse ##d in authentic ##ation : - ) [SEP] [PAD] [PAD] [PAD] [PAD] [PAD] [PAD] [PAD] [PAD] [PAD] [PAD] [PAD] [PAD] [PAD] [PAD] [PAD] [PAD] [PAD] [PAD] [PAD] [PAD] [PAD] [PAD] [PAD]\",\n",
              " '[CLS] Should I even fucking ask ? [SEP] He said she \\' ll get off light because of the well - known and fact ##ually - founded \" pu ##ssy pass \" [SEP] [PAD] [PAD] [PAD] [PAD] [PAD] [PAD] [PAD] [PAD] [PAD] [PAD] [PAD] [PAD] [PAD] [PAD] [PAD] [PAD] [PAD]',\n",
              " \"[CLS] Well , it ' s my opinion . It doesn ' t matter that much , but i prefer it to be separated . [SEP] Op ##ini ##ons usually should have a basis . [SEP] [PAD] [PAD] [PAD] [PAD] [PAD] [PAD] [PAD] [PAD] [PAD] [PAD] [PAD] [PAD] [PAD] [PAD]\",\n",
              " '[CLS] Softball and baseball players say hello . [SEP] They wave hello with both hands . [SEP] [PAD] [PAD] [PAD] [PAD] [PAD] [PAD] [PAD] [PAD] [PAD] [PAD] [PAD] [PAD] [PAD] [PAD] [PAD] [PAD] [PAD] [PAD] [PAD] [PAD] [PAD] [PAD] [PAD] [PAD] [PAD] [PAD] [PAD] [PAD] [PAD] [PAD] [PAD] [PAD] [PAD]',\n",
              " '[CLS] Un ##ique Art . Wood ##burn ##ing with sunlight and a ma ##gni ##fying glass . Mr . Germain P ##lour ##de . [SEP] On other news , local artist fighting skin cancer . . . [SEP] [PAD] [PAD] [PAD] [PAD] [PAD] [PAD] [PAD] [PAD] [PAD] [PAD] [PAD] [PAD]',\n",
              " '[CLS] FM ##L will be released in the fall as this year \\' s version of \" The Hills . \" Calling it . Wolves could be an indie single during fall / winter , much like [SEP] Yeah that \\' s exactly how I was thinking about it [SEP]',\n",
              " '[CLS] Short video of Max t ##yre test in Abu Dhabi [SEP] Black camera on top , is it really Max ? [SEP] [PAD] [PAD] [PAD] [PAD] [PAD] [PAD] [PAD] [PAD] [PAD] [PAD] [PAD] [PAD] [PAD] [PAD] [PAD] [PAD] [PAD] [PAD] [PAD] [PAD] [PAD] [PAD] [PAD] [PAD] [PAD] [PAD] [PAD]',\n",
              " \"[CLS] Here ' s a tip , if you see the red dot blinking , it means enemies haven ' t spawned yet . When [SEP] When back ##track ##ing means slowly drifting through a minute and a half of tunnels and such , then it warrant ##s attention [SEP]\",\n",
              " '[CLS] Ha ##ck server . . . B ##lah , b ##lah K ##EE ##P ON ST ##IC ##K ##ING [SEP] Got b & am ##p ; ? [SEP] [PAD] [PAD] [PAD] [PAD] [PAD] [PAD] [PAD] [PAD] [PAD] [PAD] [PAD] [PAD] [PAD] [PAD] [PAD] [PAD] [PAD] [PAD] [PAD] [PAD] [PAD]',\n",
              " \"[CLS] There are reasons why one might prefer to use Linux over Windows . Gaming might not be one of them , but computing doesn ' t re ##vo ##lve entirely [SEP] If Adobe CC and MS office is one of them . . . . . Lo ##l [SEP]\",\n",
              " \"[CLS] It ' s kind of di ##s ##res ##pect ##ful though . Instead of making a mock ##ery of your parent ' s belief system , you could grow up [SEP] As di ##s ##res ##pect ##ful as them reminding us that Santa wasn ' t real ? [SEP]\",\n",
              " '[CLS] From the looks of things , nothing but ore ##os and g ##inger ale . [SEP] Can ##not un ##read ! [SEP] [PAD] [PAD] [PAD] [PAD] [PAD] [PAD] [PAD] [PAD] [PAD] [PAD] [PAD] [PAD] [PAD] [PAD] [PAD] [PAD] [PAD] [PAD] [PAD] [PAD] [PAD] [PAD] [PAD] [PAD] [PAD] [PAD] [PAD]',\n",
              " '[CLS] I Watch General Conference . Am I twisted if . . . Thanks to my Di ##sh D ##VR I record every session of General Conference just in case some bombs ##hell explode ##s and I hear [SEP] Never judge another man ##s span ##k bank material . [SEP]',\n",
              " '[CLS] For that matter , where do they GO ##ING to ? [SEP] Where do is * anyone * going to ? [SEP] [PAD] [PAD] [PAD] [PAD] [PAD] [PAD] [PAD] [PAD] [PAD] [PAD] [PAD] [PAD] [PAD] [PAD] [PAD] [PAD] [PAD] [PAD] [PAD] [PAD] [PAD] [PAD] [PAD] [PAD] [PAD] [PAD] [PAD]',\n",
              " '[CLS] O ##b ##liga ##tory \\' that \\' s what she said \\' . [SEP] * dismiss ##ive laugh * \" Yeah , like you would know . \" [SEP] [PAD] [PAD] [PAD] [PAD] [PAD] [PAD] [PAD] [PAD] [PAD] [PAD] [PAD] [PAD] [PAD] [PAD] [PAD] [PAD] [PAD] [PAD] [PAD] [PAD]',\n",
              " '[CLS] MR ##W my Mom says sarcastically \" So what are you just going to stay single and never give me grand babies ? \" ( x ##post ##ed from r / troll ##x ##ch ##rom ##oso ##mes ) [SEP] Gotta love Christoph W ##al ##z : ) [SEP] [PAD]',\n",
              " \"[CLS] How can India critic ##ize * any * country for having a rape problem when India is the rape capital of the world . Lau ##gh ##able . Where is the link for that [SEP] No its not , you ' ve clearly never heard of South Africa [SEP]\",\n",
              " \"[CLS] Eat cap on ta ##l ##bot ##s cap hit ? It ' s minus ##cule [SEP] Take back a bad contract was the rumor I believe [SEP] [PAD] [PAD] [PAD] [PAD] [PAD] [PAD] [PAD] [PAD] [PAD] [PAD] [PAD] [PAD] [PAD] [PAD] [PAD] [PAD] [PAD] [PAD] [PAD] [PAD] [PAD] [PAD]\",\n",
              " '[CLS] El ##dra ##zi vs . Platinum Angel So , help me settle an argument . Which is the bigger dick move ? Playing an El ##dra ##zi deck ( Em ##rak ##ul included ) [SEP] So , G ##R T ##ron or Mon ##o U T ##ron ? [SEP]',\n",
              " \"[CLS] Driver accused of ram ##ming Confederate - flag van into black couple [SEP] Wouldn ' t have expected anything less than a place called Jim ##bo ' s Sand Bar nearby . . . . [SEP] [PAD] [PAD] [PAD] [PAD] [PAD] [PAD] [PAD] [PAD] [PAD] [PAD] [PAD] [PAD] [PAD]\",\n",
              " \"[CLS] What is the most embarrassing way you ' ve injured yourself ? [SEP] Playing soccer in high school I tore my men ##is ##cus because I went to kick the ball missed and kicked the ground instead . [SEP] [PAD] [PAD] [PAD] [PAD] [PAD] [PAD] [PAD] [PAD] [PAD] [PAD]\",\n",
              " '[CLS] Hey Red ##dit , what \\' s your catch ##ph ##rase ? [SEP] \" When in doubt , [ insert word that sum ##mar ##izes an excuse someone just gave ] out \" \" As per the words that I spoke \" - This happens whenever I deliver [SEP]',\n",
              " '[CLS] Di ##llas ##haw vs Bar ##ao is a good example . The basic idea behind angles in striking is to put yourself in a position that you can hit your opponent with power easily and he cannot [SEP] I will watch that , thanks for the reply ! [SEP]',\n",
              " \"[CLS] Because there are limits to transactions on savings accounts , among other things . The other thing is that if you owe the bank money such as with a bounced [SEP] I think there was a mi ##sunderstanding , since I didn ' t mention savings accounts . [SEP]\",\n",
              " \"[CLS] Sure , if reducing the top number to zero , and adding 1000 to the bottom number q ##ual ##ifies as ' the same boat . . . ' . When is C ##iv VI coming out , b ##t ##w ? [SEP] Fall . [SEP] [PAD] [PAD] [PAD]\",\n",
              " \"[CLS] No suspension for Dr ##ay ##mond . Un ##believable . This league is a joke . I don ' t even know what to say . [SEP] Isn ' t he , now , one technical foul away from being suspended ? [SEP] [PAD] [PAD] [PAD] [PAD] [PAD] [PAD]\",\n",
              " \"[CLS] Sorry you ' re getting down ##vo ##ted , that ' s a pretty accurate description of what happened . Why did we let go of Jonathan Joseph again ? [SEP] $ I think it was before Brown decided to stop being so cheap though . [SEP] [PAD] [PAD]\",\n",
              " '[CLS] I was hoping for at least one \" zu ##g zu ##g ! \" . [SEP] My life for Ai ##ur [SEP] [PAD] [PAD] [PAD] [PAD] [PAD] [PAD] [PAD] [PAD] [PAD] [PAD] [PAD] [PAD] [PAD] [PAD] [PAD] [PAD] [PAD] [PAD] [PAD] [PAD] [PAD] [PAD] [PAD] [PAD] [PAD] [PAD] [PAD]',\n",
              " '[CLS] O ##oo ##oo ##oh Delta Force . The first real army si ##mu ##lator . I remember playing f ##ps games and then there was Delta Force . Like you [SEP] Game even had bullet drop before that became a prominent \" feature \" in games now . [SEP]',\n",
              " '[CLS] 40 + year old S ##pet ##s ##na ##z ? [SEP] V ##eter ##an on vacation * [SEP] [PAD] [PAD] [PAD] [PAD] [PAD] [PAD] [PAD] [PAD] [PAD] [PAD] [PAD] [PAD] [PAD] [PAD] [PAD] [PAD] [PAD] [PAD] [PAD] [PAD] [PAD] [PAD] [PAD] [PAD] [PAD] [PAD] [PAD] [PAD] [PAD] [PAD] [PAD]',\n",
              " '[CLS] Scientists caught off - guard by record temperatures linked to climate change . \" We predicted moderate warmth for 2016 , but nothing like [SEP] Michael C ##rich ##ton , author of Jurassic Park , ended his book \" Pre ##y \" saying that the tombs ##tone of [SEP]',\n",
              " '[CLS] Bloom ##ing ##dale Trail Projects Part of State Cash Free ##ze . [SEP] who voted for this asshole ? [SEP] [PAD] [PAD] [PAD] [PAD] [PAD] [PAD] [PAD] [PAD] [PAD] [PAD] [PAD] [PAD] [PAD] [PAD] [PAD] [PAD] [PAD] [PAD] [PAD] [PAD] [PAD] [PAD] [PAD] [PAD] [PAD] [PAD] [PAD] [PAD] [PAD]',\n",
              " \"[CLS] Found this in my basement . Using it as my Explorer ' s Journal . Made of stone . [SEP] Some people have the best basement ##s . [SEP] [PAD] [PAD] [PAD] [PAD] [PAD] [PAD] [PAD] [PAD] [PAD] [PAD] [PAD] [PAD] [PAD] [PAD] [PAD] [PAD] [PAD] [PAD] [PAD] [PAD]\",\n",
              " \"[CLS] For putting a gun in someone ' s mouth . You want to live in a country where that is OK ? Lau ##gh ##able . [SEP] Ok so 10 years is good for that ? [SEP] [PAD] [PAD] [PAD] [PAD] [PAD] [PAD] [PAD] [PAD] [PAD] [PAD] [PAD] [PAD]\",\n",
              " \"[CLS] Cool thank you ! I ' m convinced there ' s a website out there that does what I ' m looking for already . Going to keep researching online . If I don ' t find anything , [SEP] Wow this conversation evolved quite a bit . [SEP]\",\n",
              " '[CLS] T ##IM ##ING ! [SEP] 2 ##met ##a ##2 ##fast [SEP] [PAD] [PAD] [PAD] [PAD] [PAD] [PAD] [PAD] [PAD] [PAD] [PAD] [PAD] [PAD] [PAD] [PAD] [PAD] [PAD] [PAD] [PAD] [PAD] [PAD] [PAD] [PAD] [PAD] [PAD] [PAD] [PAD] [PAD] [PAD] [PAD] [PAD] [PAD] [PAD] [PAD] [PAD] [PAD] [PAD] [PAD] [PAD]',\n",
              " '[CLS] D ##WS is a high - profile figure and the whole scandal is front of the public view . Off ##ing D ##WS would [SEP] I am only half - joking when I ask . . . . Is it possible for there to be new levels of [SEP]',\n",
              " \"[CLS] Why are they just okay with him having a gun ? [SEP] Because it ' s ~ ~ America ~ ~ Egypt . [SEP] [PAD] [PAD] [PAD] [PAD] [PAD] [PAD] [PAD] [PAD] [PAD] [PAD] [PAD] [PAD] [PAD] [PAD] [PAD] [PAD] [PAD] [PAD] [PAD] [PAD] [PAD] [PAD] [PAD] [PAD] [PAD]\",\n",
              " '[CLS] B ##B ##US Episode Disc ##uss ##ion - September 03 , 2015 Disc ##uss tonight \\' s episode below ! Co ##mme ##nts best sorted by \" new . \" [SEP] J ##M ##ac \\' s face : \" I M ##c ##F ##uck ##ed Up . \" [SEP]',\n",
              " '[CLS] Re ##mind ##er for sponsors : Off Top ##ic ( the A ##H Po ##d ##cast ) starts in 15 minutes ! [SEP] They should have called this podcast the \" Mountain Monsters Po ##d ##cast \" [SEP] [PAD] [PAD] [PAD] [PAD] [PAD] [PAD] [PAD] [PAD] [PAD] [PAD] [PAD]',\n",
              " '[CLS] Oh shit , Gram ##ps let me think . . . ( I tag ##ged you as \" gram ##ps \" , F ##Y [SEP] I know this is a really old post that I stumbled upon randomly , but my birthday is also 8 / 31 o [SEP]',\n",
              " '[CLS] Co ##rre ##ct . He * might * be able to land a scholarship for a very small school in football , but nothing [SEP] At 330 or so with a collegiate weight program and coaching , he could be a force at a lot of schools . [SEP]',\n",
              " '[CLS] Di ##jon ##ais ##e . Like two con ##di ##ments mixed together to make one super con ##di ##ment . [SEP] That was the name of a character The Pro ##ud family cartoon [SEP] [PAD] [PAD] [PAD] [PAD] [PAD] [PAD] [PAD] [PAD] [PAD] [PAD] [PAD] [PAD] [PAD] [PAD] [PAD]',\n",
              " '[CLS] Oh shit here comes y ##urt ##le the turtle [SEP] ha ##aa ##aa ##a ye ##p ! [SEP] [PAD] [PAD] [PAD] [PAD] [PAD] [PAD] [PAD] [PAD] [PAD] [PAD] [PAD] [PAD] [PAD] [PAD] [PAD] [PAD] [PAD] [PAD] [PAD] [PAD] [PAD] [PAD] [PAD] [PAD] [PAD] [PAD] [PAD] [PAD] [PAD] [PAD] [PAD]',\n",
              " \"[CLS] Well , you do you , but I think homosexuality is wrong * S ##hr ##ugs * [SEP] I don ' t really care [SEP] [PAD] [PAD] [PAD] [PAD] [PAD] [PAD] [PAD] [PAD] [PAD] [PAD] [PAD] [PAD] [PAD] [PAD] [PAD] [PAD] [PAD] [PAD] [PAD] [PAD] [PAD] [PAD] [PAD] [PAD]\",\n",
              " \"[CLS] Don ' t play games with team kill enabled for awhile . [SEP] What a terrible solution . [SEP] [PAD] [PAD] [PAD] [PAD] [PAD] [PAD] [PAD] [PAD] [PAD] [PAD] [PAD] [PAD] [PAD] [PAD] [PAD] [PAD] [PAD] [PAD] [PAD] [PAD] [PAD] [PAD] [PAD] [PAD] [PAD] [PAD] [PAD] [PAD] [PAD] [PAD]\",\n",
              " '[CLS] Flower man ##tis striking prey [SEP] Looks like it just laughs at his pray [SEP] [PAD] [PAD] [PAD] [PAD] [PAD] [PAD] [PAD] [PAD] [PAD] [PAD] [PAD] [PAD] [PAD] [PAD] [PAD] [PAD] [PAD] [PAD] [PAD] [PAD] [PAD] [PAD] [PAD] [PAD] [PAD] [PAD] [PAD] [PAD] [PAD] [PAD] [PAD] [PAD] [PAD] [PAD]',\n",
              " \"[CLS] Love the s ##yne ##rgy he would have in a re ##z deck , as he ' d come back more often than others [SEP] One problem I see there is re ##z decks usually run death ##rat ##tle for value , this card is anti death ##rat [SEP]\",\n",
              " '[CLS] I would have milk steak [SEP] Bo ##iled over hard with your finest raw j ##elly ##be ##ans [SEP] [PAD] [PAD] [PAD] [PAD] [PAD] [PAD] [PAD] [PAD] [PAD] [PAD] [PAD] [PAD] [PAD] [PAD] [PAD] [PAD] [PAD] [PAD] [PAD] [PAD] [PAD] [PAD] [PAD] [PAD] [PAD] [PAD] [PAD] [PAD] [PAD] [PAD]',\n",
              " \"[CLS] No , I ' m just saying I ' ll believe it when I see it . He talked all off season about changing and until the Ka ##nter trade everything was the same . [SEP] I hope we see it too . [SEP] [PAD] [PAD] [PAD] [PAD] [PAD]\",\n",
              " \"[CLS] Ye ##a the only one like that would be ma ##rio ka ##rt double dash but I actually think i might have the case [SEP] Po ##ssi ##bly , but it ' s a big trade for me , and I live in Canada so shipping will be [SEP]\",\n",
              " '[CLS] \" Montreal is definitely a place Dale wouldn \\' t hesitate to come back to . \" - Dale Wei ##se \\' s agent [SEP] If he wins a cup I feel like we won \\' t be able to afford him , some team will definitely over [SEP]',\n",
              " \"[CLS] you gender locked and i didn ' t have any female H ##A ones for this give ##away [SEP] You couldn ' t have , you know , told me earlier so I can red ##ep ##os ##it ? [SEP] [PAD] [PAD] [PAD] [PAD] [PAD] [PAD] [PAD] [PAD] [PAD]\",\n",
              " \"[CLS] I , too , hate when other people having fun , in a way that doesn ' t imp ##ede my having fun , [SEP] Yeah , and I too trust strangers to toss my child around upside down and critic ##ize other parents for not being as [SEP]\",\n",
              " \"[CLS] If Eli Manning was a bodily waste , he ' d be P ##ee ##L ##i Manning . [SEP] If Eli man ##ning was a dog , he ' d be a yellow lab . [SEP] [PAD] [PAD] [PAD] [PAD] [PAD] [PAD] [PAD] [PAD] [PAD] [PAD] [PAD] [PAD] [PAD]\",\n",
              " \"[CLS] As mentioned below , either the Secret Service , or if he ' s trying to send it through the mail , then contact the US Postal Inspector ##s . Both [SEP] I ' ll give the secret service a try and see if they are interested . [SEP]\",\n",
              " '[CLS] No wonder Microsoft is swirling the toilet bowl , employing dip ##shi ##ts like this . [SEP] Well , they either laid off all of their talent or they left of their accord after the lay ##offs . [SEP] [PAD] [PAD] [PAD] [PAD] [PAD] [PAD] [PAD] [PAD] [PAD] [PAD]',\n",
              " '[CLS] I can see this going multiple ways . Are you saying that we pipe the liquid from a water cooler through a b ##ong ? [SEP] I originally tough ##t about second option ( after watching l ##in ##ux b ##ong video ) but why not both ? [SEP]',\n",
              " \"[CLS] I don ' t think he could really compete in the middle ##weight division nowadays . . . . . [SEP] He could , but Chris does everything Cha ##el does . . . but better . [SEP] [PAD] [PAD] [PAD] [PAD] [PAD] [PAD] [PAD] [PAD] [PAD] [PAD] [PAD]\",\n",
              " '[CLS] Solo Q - We want it and we need it . [SEP] Ah yes , our dial ##y dose of complaining about pre ##made ##s . [SEP] [PAD] [PAD] [PAD] [PAD] [PAD] [PAD] [PAD] [PAD] [PAD] [PAD] [PAD] [PAD] [PAD] [PAD] [PAD] [PAD] [PAD] [PAD] [PAD] [PAD] [PAD] [PAD]',\n",
              " '[CLS] Any bar open on Oak Island hopefully [SEP] They just got an evacuation ##not ##ice , I doubt many places will be open [SEP] [PAD] [PAD] [PAD] [PAD] [PAD] [PAD] [PAD] [PAD] [PAD] [PAD] [PAD] [PAD] [PAD] [PAD] [PAD] [PAD] [PAD] [PAD] [PAD] [PAD] [PAD] [PAD] [PAD] [PAD] [PAD]',\n",
              " \"[CLS] The sole review on there isn ' t promising . Also , does the blend of fabric ##s lower its quality ? [SEP] Pol ##yes ##ter is a warning sign . [SEP] [PAD] [PAD] [PAD] [PAD] [PAD] [PAD] [PAD] [PAD] [PAD] [PAD] [PAD] [PAD] [PAD] [PAD] [PAD] [PAD] [PAD]\",\n",
              " '[CLS] I \\' m totally watching the Gay Draft in March . [SEP] \" Now switch hitting for the San Francisco B ##ise ##x ##ual ##s . . . \" [SEP] [PAD] [PAD] [PAD] [PAD] [PAD] [PAD] [PAD] [PAD] [PAD] [PAD] [PAD] [PAD] [PAD] [PAD] [PAD] [PAD] [PAD] [PAD] [PAD]',\n",
              " '[CLS] Yeah I guess so . I feel like they are not hearing us though [SEP] Oh definitely , we are not loaded with money like the lobby ##ists are . [SEP] [PAD] [PAD] [PAD] [PAD] [PAD] [PAD] [PAD] [PAD] [PAD] [PAD] [PAD] [PAD] [PAD] [PAD] [PAD] [PAD] [PAD] [PAD]',\n",
              " '[CLS] West ##jet did it again . [SEP] Hai ##l Corporate ! [SEP] [PAD] [PAD] [PAD] [PAD] [PAD] [PAD] [PAD] [PAD] [PAD] [PAD] [PAD] [PAD] [PAD] [PAD] [PAD] [PAD] [PAD] [PAD] [PAD] [PAD] [PAD] [PAD] [PAD] [PAD] [PAD] [PAD] [PAD] [PAD] [PAD] [PAD] [PAD] [PAD] [PAD] [PAD] [PAD] [PAD] [PAD]',\n",
              " '[CLS] I like L . A . Woman the most : ) [SEP] : ) How old are you ? [SEP] [PAD] [PAD] [PAD] [PAD] [PAD] [PAD] [PAD] [PAD] [PAD] [PAD] [PAD] [PAD] [PAD] [PAD] [PAD] [PAD] [PAD] [PAD] [PAD] [PAD] [PAD] [PAD] [PAD] [PAD] [PAD] [PAD] [PAD] [PAD] [PAD]',\n",
              " '[CLS] I figured it was from s ##ymph ##onia as well ! Did the p ##c version come out yet ? : 0 [SEP] Not til sometime next year unfortunately . [SEP] [PAD] [PAD] [PAD] [PAD] [PAD] [PAD] [PAD] [PAD] [PAD] [PAD] [PAD] [PAD] [PAD] [PAD] [PAD] [PAD] [PAD] [PAD]',\n",
              " \"[CLS] What ' s more , he stuck his dick in a 16 - year old as well . And he got away with it [SEP] It wasn ' t about the sex by itself , it was because he engaged in prostitution with an under ##age girl . [SEP]\",\n",
              " \"[CLS] Don ' t ask pp ##l who sit on their computers reading red ##dit all day . [SEP] Yeah , because none of us are fit and happen to be at a desk all day because we are working . [SEP] [PAD] [PAD] [PAD] [PAD] [PAD] [PAD] [PAD] [PAD]\",\n",
              " '[CLS] Is there anything like the V ##2 war anal ##ys ##er for EU ##4 or C ##K ##2 ? Ch ##eers ! [SEP] Would love to know this as well . [SEP] [PAD] [PAD] [PAD] [PAD] [PAD] [PAD] [PAD] [PAD] [PAD] [PAD] [PAD] [PAD] [PAD] [PAD] [PAD] [PAD] [PAD]',\n",
              " \"[CLS] Then he ' d probably disagree with you . Him being kinda racist and all . . . . . Just say ##in ' [SEP] I think it ' s all tied to ignorance . [SEP] [PAD] [PAD] [PAD] [PAD] [PAD] [PAD] [PAD] [PAD] [PAD] [PAD] [PAD] [PAD] [PAD]\",\n",
              " \"[CLS] Star Wars Battle ##front : AT - AT Walker G ##lit ##ch [SEP] I ' ll be honest every time I play as the empire now I stand around in the first up ##link ##s . [SEP] [PAD] [PAD] [PAD] [PAD] [PAD] [PAD] [PAD] [PAD] [PAD] [PAD] [PAD] [PAD]\",\n",
              " \"[CLS] You just can ' t get enough of me can you ? I ' m flat ##tered . You actually captured the first ad ho ##mine ##m in that argument - - the first comment in the thread , and w ##ow - - written [SEP] ; ) [SEP]\",\n",
              " \"[CLS] well im sorry that the ducks suck : ) [SEP] Ha ##ha ##ha ##ha ##ha ##h its funny because you ' re right . [SEP] [PAD] [PAD] [PAD] [PAD] [PAD] [PAD] [PAD] [PAD] [PAD] [PAD] [PAD] [PAD] [PAD] [PAD] [PAD] [PAD] [PAD] [PAD] [PAD] [PAD] [PAD] [PAD] [PAD] [PAD]\",\n",
              " '[CLS] Why did Guy Pearce play the role of \" Peter We ##yland \" in Pro ##met ##heus in s ##tead of someone who is actually old ? After recently watching Pro ##met ##heus I keep wondering why they didn \\' [SEP] Set ##ting up potential pre ##quel ##s [SEP]',\n",
              " \"[CLS] Worth buying premium ? I ' ve played War ##th ##und ##er for 145 hours now , and I ' ve loved every minute of it . However , recently as I enter higher tier vehicles , I ' ve [SEP] If you want progress , definitely . [SEP]\",\n",
              " \"[CLS] And Ko ##mar ##ov was still several strides away . What is he supposed to do ? Play the pu ##ck behind his own back so he ' s not facing the boards ? [SEP] He ' s not supposed to turn his back to a hit . [SEP]\",\n",
              " '[CLS] what if your mind says no ninety percent of the time an opportunity arises ? [SEP] Then you only fuck ten percent of the time ? [SEP] [PAD] [PAD] [PAD] [PAD] [PAD] [PAD] [PAD] [PAD] [PAD] [PAD] [PAD] [PAD] [PAD] [PAD] [PAD] [PAD] [PAD] [PAD] [PAD] [PAD] [PAD] [PAD]',\n",
              " '[CLS] Holly shit , this sun ##hat cu ##ck . [SEP] SH ##E CO ##N ##VI ##NC ##ED ME I W ##IL ##L NO ##W V ##OT ##E F ##OR H ##ER ##NI ##E SH ##MA ##ND ##ER ##S [SEP] [PAD] [PAD] [PAD] [PAD] [PAD] [PAD] [PAD] [PAD] [PAD] [PAD]',\n",
              " \"[CLS] It ' s a good thing I live in 15th and Ki ##l ##bo ##urn or I ' d be in real trouble . . . [SEP] You in the house next to si ##gma ka ##ppa ? [SEP] [PAD] [PAD] [PAD] [PAD] [PAD] [PAD] [PAD] [PAD] [PAD] [PAD]\",\n",
              " '[CLS] Il ##lum ##ina ##ti = Chip confirmed [SEP] # # Chip ##K ##elly ##fo ##r ##F ##uh ##rer [SEP] [PAD] [PAD] [PAD] [PAD] [PAD] [PAD] [PAD] [PAD] [PAD] [PAD] [PAD] [PAD] [PAD] [PAD] [PAD] [PAD] [PAD] [PAD] [PAD] [PAD] [PAD] [PAD] [PAD] [PAD] [PAD] [PAD] [PAD] [PAD] [PAD] [PAD]',\n",
              " \"[CLS] Set aside a sum out of your salary that you would want to save every month . Let ##s say 10 , 000 / - Out of this [SEP] Sounds like some really good advice , I ' ll definitely look into what you ' ve said ! [SEP]\",\n",
              " '[CLS] Yeah , I need more angry followers . . . Nice try . [SEP] Christ , how do you get such a following ? [SEP] [PAD] [PAD] [PAD] [PAD] [PAD] [PAD] [PAD] [PAD] [PAD] [PAD] [PAD] [PAD] [PAD] [PAD] [PAD] [PAD] [PAD] [PAD] [PAD] [PAD] [PAD] [PAD] [PAD] [PAD]',\n",
              " '[CLS] Ad ##d \" ing \" to the end of a movie title , what is the movie about now ? [SEP] The Hunger Gaming - 3 boys play World of War ##craft in their mom \\' s basement , surviving only on hot pockets and ch ##ees ##y [SEP]',\n",
              " \"[CLS] Planet Earth 2 has just ended . The best programme I ' ve ever seen bar none . I ' m a huge fan [SEP] Some recommendations : * Life series ( At ##ten ##borough ) : * Life Of Ma ##mmal ##s , Life Of Birds , [SEP]\",\n",
              " \"[CLS] I could go ##og ##le some of those words to find their meaning but . . . I ' m gonna pretend I know them and silently smile to myself with what [SEP] I just go out and make my country proud , that ##s all : ) [SEP]\",\n",
              " \"[CLS] I don ' t have th ##ala ##sso ##ph ##obia and come here for the awesome sea photography but I do have a serious [SEP] I want there to be a sub for a ##c ##rop ##ho ##bia for the same reason this sub and try ##pop ##ho [SEP]\",\n",
              " '[CLS] What I like best is how she knows nothing about the game but picks out the m ##ox ##es to display out of that [SEP] \" She \" at least used the excuse that those were sleeves and probably more valuable than the un ##sle ##eve ##d cards [SEP]',\n",
              " \"[CLS] You should probably set your goals a little higher . [SEP] I have a job interview today ^ ^ ^ ^ So ^ ^ ^ ^ ^ there ' s ^ ^ ^ ^ ^ ^ that [SEP] [PAD] [PAD] [PAD] [PAD] [PAD] [PAD] [PAD] [PAD] [PAD] [PAD] [PAD]\",\n",
              " \"[CLS] What is the longest coherent sentence you can make with words beginning with the same letter ? E ##G : Don ' t disc [SEP] Amazing au ##st ##rians assume all au ##tist ##ic am ##eric ##ans always angrily assault a at ##heist a ##f ##rica ##n am [SEP]\",\n",
              " '[CLS] Po ##sitive T ##hr ##ead [ ] ( / hi ##rar ##ity ) Now that my hell of a week is finally over , I have more time to do useful things like P ##lou ##nge and video games ! [SEP] Not much . . . : ( [SEP]',\n",
              " \"[CLS] 55 second mark in the article ' s video , Harper pro ##nounce ##s Putin as p ##out ##ine [SEP] Vladimir Po ##uti ##ne : delicious but deadly , and goes well with hockey games . [SEP] [PAD] [PAD] [PAD] [PAD] [PAD] [PAD] [PAD] [PAD] [PAD] [PAD] [PAD] [PAD]\",\n",
              " '[CLS] What the hell do these have in common ? [SEP] They are all post dark ages ? [SEP] [PAD] [PAD] [PAD] [PAD] [PAD] [PAD] [PAD] [PAD] [PAD] [PAD] [PAD] [PAD] [PAD] [PAD] [PAD] [PAD] [PAD] [PAD] [PAD] [PAD] [PAD] [PAD] [PAD] [PAD] [PAD] [PAD] [PAD] [PAD] [PAD] [PAD] [PAD]',\n",
              " '[CLS] * * WA ##R ##NI ##NG * * This comment contains a Rick ##R ##oll ! * * * Version 1 . 19 | By u / The ##PC ##IE ##x ##press | Co ##mme ##nts processed this session : 350 ##9 ##1 [SEP] Our sa ##vior . [SEP]',\n",
              " '[CLS] Oh yeah , forgot about that . They managed to get a real - money auction house in the game , including all the [SEP] To be fair , the legal team ( R ##MA ##H ) and the development team ( the actual game ) probably work [SEP]',\n",
              " '[CLS] I knew this first date was over when Donald Trump came up [SEP] For some reason the topic of this article is so stupid my mind translated it to \" I knew the debate was over when Donald Trump was up \" . . . Then I read [SEP]',\n",
              " \"[CLS] Shan ##g ##ri la took place in the Him ##alaya ##s so no dice there although I think they ' re talking about Z ##ets ##ub ##ou ( or Shi no [SEP] What artifacts are found in Z ##ets ##ub ##ou and Go ##rod K ##rov ##i ? [SEP]\",\n",
              " \"[CLS] Progress Alberta de ##bu ##nks the latest crazy and wrong anti - LGBT ##Q guide ##line pamphlet [SEP] As much as I agree that the pamphlet is wrong , you ' re not supposed to editorial ##ize in the title [SEP] [PAD] [PAD] [PAD] [PAD] [PAD] [PAD] [PAD] [PAD]\",\n",
              " '[CLS] all civil disputes would be settled via thunder ##dom ##e type glad ##iator matches . [SEP] All men enter , one man leaves . [SEP] [PAD] [PAD] [PAD] [PAD] [PAD] [PAD] [PAD] [PAD] [PAD] [PAD] [PAD] [PAD] [PAD] [PAD] [PAD] [PAD] [PAD] [PAD] [PAD] [PAD] [PAD] [PAD] [PAD] [PAD]',\n",
              " \"[CLS] 55 : 1 ? Seems like a pretty good K : D . I guess maybe their strategy of setting pilots on fire is working [SEP] But they didn ' t get first blood . . . ^ ( I might be going to hell for this ) [SEP]\",\n",
              " '[CLS] If I can get a citation for \" F ##ail ##ure to Main ##tain Vehicle \" how come I can \\' t write the city a ticket for \" F ##ail ##ure to Main ##tain Roads ? \" I [SEP] Because they have a monopoly on force . [SEP]',\n",
              " '[CLS] If I slip on a banana p ##eel , am I Freud ##ian - slipping on a dick ? [SEP] Maybe . [SEP] [PAD] [PAD] [PAD] [PAD] [PAD] [PAD] [PAD] [PAD] [PAD] [PAD] [PAD] [PAD] [PAD] [PAD] [PAD] [PAD] [PAD] [PAD] [PAD] [PAD] [PAD] [PAD] [PAD] [PAD] [PAD] [PAD]',\n",
              " '[CLS] Guy badly photos ##hop ##s only one arm again . [SEP] Anyone else notice the bad ##ass ca ##mo k ##ip ##pa ##h ? [SEP] [PAD] [PAD] [PAD] [PAD] [PAD] [PAD] [PAD] [PAD] [PAD] [PAD] [PAD] [PAD] [PAD] [PAD] [PAD] [PAD] [PAD] [PAD] [PAD] [PAD] [PAD] [PAD] [PAD] [PAD]',\n",
              " \"[CLS] Ave vs L ##HP is higher ? That ' s pretty interesting . [SEP] For some reason left ##ies hit him better worth me , as well [SEP] [PAD] [PAD] [PAD] [PAD] [PAD] [PAD] [PAD] [PAD] [PAD] [PAD] [PAD] [PAD] [PAD] [PAD] [PAD] [PAD] [PAD] [PAD] [PAD] [PAD] [PAD]\",\n",
              " \"[CLS] What ' s the biggest amount of money a s ##cam ##mer has doubled to gain your trust ? [SEP] 0 Because I ' m not stupid enough to give any amount of money to double ##rs . [SEP] [PAD] [PAD] [PAD] [PAD] [PAD] [PAD] [PAD] [PAD] [PAD] [PAD]\",\n",
              " \"[CLS] ' Lewis Hamilton could dominate F1 for next 10 years ' Say ##s Anthony Hamilton [SEP] Hu ##sh daddy . [SEP] [PAD] [PAD] [PAD] [PAD] [PAD] [PAD] [PAD] [PAD] [PAD] [PAD] [PAD] [PAD] [PAD] [PAD] [PAD] [PAD] [PAD] [PAD] [PAD] [PAD] [PAD] [PAD] [PAD] [PAD] [PAD] [PAD] [PAD] [PAD]\",\n",
              " \"[CLS] It ' s a good thing To ##ews hasn ' t been convicted of rape , otherwise the cover would just be a floating s ##tan ##ley [SEP] If To ##ews was convicted of rape I would give up on humanity and go live on Mars alone . [SEP]\",\n",
              " '[CLS] Jesus , as if having belief in your team is illegal these days . [SEP] having belief and being del ##uded are different things [SEP] [PAD] [PAD] [PAD] [PAD] [PAD] [PAD] [PAD] [PAD] [PAD] [PAD] [PAD] [PAD] [PAD] [PAD] [PAD] [PAD] [PAD] [PAD] [PAD] [PAD] [PAD] [PAD] [PAD] [PAD]',\n",
              " '[CLS] Z ##ile ##an ( as support ) , I think he would be insane ##ly over ##powered , but he does quite rely on cool ##down [SEP] Could you imagine trying to bring down a late ##game carry with an A ##eg ##is and Z ##ile ##an ? [SEP]',\n",
              " '[CLS] AG ##M 2015 report by Tim Still ##man [SEP] good report by Still ##man . [SEP] [PAD] [PAD] [PAD] [PAD] [PAD] [PAD] [PAD] [PAD] [PAD] [PAD] [PAD] [PAD] [PAD] [PAD] [PAD] [PAD] [PAD] [PAD] [PAD] [PAD] [PAD] [PAD] [PAD] [PAD] [PAD] [PAD] [PAD] [PAD] [PAD] [PAD] [PAD] [PAD] [PAD]',\n",
              " \"[CLS] I wish the market share would spread out a bit . I don ' t want to end up in the same fucking boat we did years back with I ##E 6 . That is , de ##v ##s developing [SEP] Why not just use Ch ##rome ? [SEP]\",\n",
              " '[CLS] I truly hope that Trump dies pen ##ni ##less in a gut ##ter somewhere , very soon . I hope his children lose all their money and end up working at a V ##eri ##zon Store in Scott ##sdale . I hope that every [SEP] Rough day ? [SEP]',\n",
              " \"[CLS] Disc ##uss ##ion T ##hr ##ead : New York Jets ( 2 - 1 ) at Miami Dolphins ( 1 - 2 ) Figure ##d I ' d just make this myself . [SEP] Fi ##tz plays football like I play Mad ##den . [SEP] [PAD] [PAD] [PAD] [PAD]\",\n",
              " '[CLS] Hawthorn / Carlton supporters who should we expect to play N ##AB 1 ? Wei ##tering ? McKay ? C ##urn ##ow ? or [SEP] I assumed Burton would be on the injury list for half the year as he recover ##s from a broken leg he suffered [SEP]',\n",
              " \"[CLS] THE ##Y ' R ##E MI ##NE ##RA ##LS MA ##RI ##E ! ! [SEP] Something something crystal something something met ##ham ##phe ##tamine . [SEP] [PAD] [PAD] [PAD] [PAD] [PAD] [PAD] [PAD] [PAD] [PAD] [PAD] [PAD] [PAD] [PAD] [PAD] [PAD] [PAD] [PAD] [PAD] [PAD] [PAD] [PAD] [PAD] [PAD]\",\n",
              " \"[CLS] Hey Red ##dit , I just wanted to share this with you guys , for the first time in a 8 years , me , all my siblings , and my parents are together [SEP] Looks like Mile ##y ' s dream finally came true , huh ? [SEP]\",\n",
              " '[CLS] Co ##sp ##lay Dance Party with Hip ##H ##op Troop ##er , Lady Dead ##pool ( @ b ##girl ##mis ##lee ) , & am ##p ; Spider - Man Wonder ##C ##on 2016 [SEP] Spider ##man and H ##H Troop ##er got fuck ##in * served * [SEP]',\n",
              " \"[CLS] St ##owa ##way seems like a pretty decent des ##cript ##or to me , especially since he said it out loud . It ' s not racist to call a black guy black , sure , but the need to make the [SEP] But all ##iter ##ation . [SEP]\",\n",
              " '[CLS] Made the playoffs ? Who were your first 5 picks ? 14 team league . * Antonio Brown * Jam ##aal Charles * Le [SEP] 8 Team League , Standard * E ##ze ##kie ##l Elliott ( B ##EA ##ST ) * Adrian Peterson ( ou ##ch , [SEP]',\n",
              " '[CLS] First thing \\' s first : how is your relationship with your boyfriend ? Does it feel healthy ? Does it feel like it [SEP] If he \\' s a \" keeper \" then he deserves someone else ; someone who respects him and knows how to control [SEP]',\n",
              " '[CLS] Oh no , someone was offended on the internet , whatever shall we do ? ! This whole PC bullshit needs to stop . [SEP] Ya ##h well being offensive like that where your entire businesses reputation is on the line can easily get someone fired . [SEP] [PAD]',\n",
              " \"[CLS] Remember that this is not about S ##J ##W ##s . On a unrelated note , here ' s a list of supposed failures of S ##J ##W ##s in 2014 . [SEP] It ' s not about S ##J ##W ##s except when it totally is . [SEP]\",\n",
              " '[CLS] Dead Money gets a lot of hate because of the un ##fo ##rg ##iving gameplay , but from a writing and atmospheric stand ##point it is above and beyond all the other DL ##C . At least [SEP] Dead money is almost cinema ##tic in its storytelling . [SEP]',\n",
              " '[CLS] up ##vo ##te for feeling the same . . _ sad ##face . j ##p ##g _ [SEP] Christ you two just blow each other and get it over with . [SEP] [PAD] [PAD] [PAD] [PAD] [PAD] [PAD] [PAD] [PAD] [PAD] [PAD] [PAD] [PAD] [PAD] [PAD] [PAD] [PAD] [PAD]',\n",
              " \"[CLS] Everyone likes to p ##oke fun at B ##iden but he has been incredibly consistent about taking sexual assault very seriously and supporting victims . I ' m gonna miss him . [SEP] I wish he ran . [SEP] [PAD] [PAD] [PAD] [PAD] [PAD] [PAD] [PAD] [PAD] [PAD] [PAD]\",\n",
              " '[CLS] Or draw in my name ? What the fuck did I pay them all that money for ? ! [SEP] For them to buy the robot to do it for them ! [SEP] [PAD] [PAD] [PAD] [PAD] [PAD] [PAD] [PAD] [PAD] [PAD] [PAD] [PAD] [PAD] [PAD] [PAD] [PAD] [PAD]',\n",
              " \"[CLS] Nope . Is it supposedly a thing ? [SEP] Ha ##ha yeah , here in Australia it ' s basically always been in my fridge growing up [SEP] [PAD] [PAD] [PAD] [PAD] [PAD] [PAD] [PAD] [PAD] [PAD] [PAD] [PAD] [PAD] [PAD] [PAD] [PAD] [PAD] [PAD] [PAD] [PAD] [PAD] [PAD]\",\n",
              " \"[CLS] It ' s one of the 4 days of summer we get each year and I can ' t go outside because there ' s too many giant bloody ants [SEP] I think you ' re just looking for an excuse . [SEP] [PAD] [PAD] [PAD] [PAD] [PAD] [PAD]\",\n",
              " \"[CLS] s ##ni ##ff [SEP] Aren ' t you from the gaming forums ? [SEP] [PAD] [PAD] [PAD] [PAD] [PAD] [PAD] [PAD] [PAD] [PAD] [PAD] [PAD] [PAD] [PAD] [PAD] [PAD] [PAD] [PAD] [PAD] [PAD] [PAD] [PAD] [PAD] [PAD] [PAD] [PAD] [PAD] [PAD] [PAD] [PAD] [PAD] [PAD] [PAD] [PAD] [PAD] [PAD]\",\n",
              " '[CLS] What are they ? Looking for a decent flick to watch [SEP] Battle ##field Earth . [SEP] [PAD] [PAD] [PAD] [PAD] [PAD] [PAD] [PAD] [PAD] [PAD] [PAD] [PAD] [PAD] [PAD] [PAD] [PAD] [PAD] [PAD] [PAD] [PAD] [PAD] [PAD] [PAD] [PAD] [PAD] [PAD] [PAD] [PAD] [PAD] [PAD] [PAD] [PAD] [PAD]',\n",
              " \"[CLS] A [SEP] We didn ' t do it , red ##dit . [SEP] [PAD] [PAD] [PAD] [PAD] [PAD] [PAD] [PAD] [PAD] [PAD] [PAD] [PAD] [PAD] [PAD] [PAD] [PAD] [PAD] [PAD] [PAD] [PAD] [PAD] [PAD] [PAD] [PAD] [PAD] [PAD] [PAD] [PAD] [PAD] [PAD] [PAD] [PAD] [PAD] [PAD] [PAD] [PAD] [PAD]\",\n",
              " '[CLS] \" Information ##al article \" Right . . . [SEP] It \\' s technically correct , but reads like someone trying to sound smart . [SEP] [PAD] [PAD] [PAD] [PAD] [PAD] [PAD] [PAD] [PAD] [PAD] [PAD] [PAD] [PAD] [PAD] [PAD] [PAD] [PAD] [PAD] [PAD] [PAD] [PAD] [PAD] [PAD] [PAD]',\n",
              " '[CLS] I think you missed the actual point of that comment . [SEP] Which was ? [SEP] [PAD] [PAD] [PAD] [PAD] [PAD] [PAD] [PAD] [PAD] [PAD] [PAD] [PAD] [PAD] [PAD] [PAD] [PAD] [PAD] [PAD] [PAD] [PAD] [PAD] [PAD] [PAD] [PAD] [PAD] [PAD] [PAD] [PAD] [PAD] [PAD] [PAD] [PAD] [PAD] [PAD]',\n",
              " '[CLS] Never cried reading a red ##dit post until this . . . [SEP] . . . p ##ony _ cu ##nt ? [SEP] [PAD] [PAD] [PAD] [PAD] [PAD] [PAD] [PAD] [PAD] [PAD] [PAD] [PAD] [PAD] [PAD] [PAD] [PAD] [PAD] [PAD] [PAD] [PAD] [PAD] [PAD] [PAD] [PAD] [PAD] [PAD] [PAD]',\n",
              " \"[CLS] Most cars use them , it ' s just an electro magnetic and a spring . . . . [SEP] A lot of airplane ##s ( piston ones ) use the same style as well ! [SEP] [PAD] [PAD] [PAD] [PAD] [PAD] [PAD] [PAD] [PAD] [PAD] [PAD] [PAD] [PAD]\",\n",
              " '[CLS] There are many r ##abi ##d AA ##P ##es here in desperate need for it . C ##ue someone speaking about Mo ##dit ##ards with a special focus on me . [SEP] The biggest dead ##diction program for AA ##P would be - Elections 2014 results . [SEP] [PAD]',\n",
              " \"[CLS] Is this a picture of a computer screen ? [SEP] I don ' t think there ' s screen cap on old computers . [SEP] [PAD] [PAD] [PAD] [PAD] [PAD] [PAD] [PAD] [PAD] [PAD] [PAD] [PAD] [PAD] [PAD] [PAD] [PAD] [PAD] [PAD] [PAD] [PAD] [PAD] [PAD] [PAD] [PAD] [PAD]\",\n",
              " \"[CLS] No , you are . [SEP] Ye ##w ' re [SEP] [PAD] [PAD] [PAD] [PAD] [PAD] [PAD] [PAD] [PAD] [PAD] [PAD] [PAD] [PAD] [PAD] [PAD] [PAD] [PAD] [PAD] [PAD] [PAD] [PAD] [PAD] [PAD] [PAD] [PAD] [PAD] [PAD] [PAD] [PAD] [PAD] [PAD] [PAD] [PAD] [PAD] [PAD] [PAD] [PAD] [PAD] [PAD]\",\n",
              " \"[CLS] You kept Kill Se ##cu ##ring him ? I ' m confused [SEP] K ##S as in kill stealing [SEP] [PAD] [PAD] [PAD] [PAD] [PAD] [PAD] [PAD] [PAD] [PAD] [PAD] [PAD] [PAD] [PAD] [PAD] [PAD] [PAD] [PAD] [PAD] [PAD] [PAD] [PAD] [PAD] [PAD] [PAD] [PAD] [PAD] [PAD] [PAD] [PAD]\",\n",
              " \"[CLS] They showed that teacher ! [SEP] All I can think about is how glad that teacher would ' ve been to get rid of them . [SEP] [PAD] [PAD] [PAD] [PAD] [PAD] [PAD] [PAD] [PAD] [PAD] [PAD] [PAD] [PAD] [PAD] [PAD] [PAD] [PAD] [PAD] [PAD] [PAD] [PAD] [PAD] [PAD]\",\n",
              " \"[CLS] If this post receives 20 , 000 up ##vo ##tes the Circle ##jer ##k m ##ods will end ratio ##ns forever . I ' [SEP] I wish that red ##dit would take out the shadow ##ban ##ning option and quit co ##oper ##ating with the western intelligence agencies [SEP]\",\n",
              " '[CLS] Should develop this picture into a commercial for the shower curtain . Picture yards of blue vinyl going into a machine , moving through the process , cut to the yards of blue covered with [SEP] Hey , we found the guy who took the p ##ic ! [SEP]',\n",
              " '[CLS] We have a no me ##mes thing , right ? Lo ##l [SEP] it was removed last time m ##ods are asleep ? [SEP] [PAD] [PAD] [PAD] [PAD] [PAD] [PAD] [PAD] [PAD] [PAD] [PAD] [PAD] [PAD] [PAD] [PAD] [PAD] [PAD] [PAD] [PAD] [PAD] [PAD] [PAD] [PAD] [PAD] [PAD] [PAD]',\n",
              " \"[CLS] I don ' t understand what you ' re asking . [SEP] It ' s not a question , more ##so I was saying it is pretty uncommon , at least in America for the most part . [SEP] [PAD] [PAD] [PAD] [PAD] [PAD] [PAD] [PAD] [PAD] [PAD] [PAD]\",\n",
              " '[CLS] W ##t ##f is intelligence ? [SEP] I think O ##P meant I ##Q . [SEP] [PAD] [PAD] [PAD] [PAD] [PAD] [PAD] [PAD] [PAD] [PAD] [PAD] [PAD] [PAD] [PAD] [PAD] [PAD] [PAD] [PAD] [PAD] [PAD] [PAD] [PAD] [PAD] [PAD] [PAD] [PAD] [PAD] [PAD] [PAD] [PAD] [PAD] [PAD] [PAD] [PAD]',\n",
              " '[CLS] Why is this getting down ##vo ##ted ? I fucking hate it when people pre ##em ##pt ##ively complain about down ##vo ##tes . [SEP] Sad ##ly he should have complained about being down ##vo ##ted in order to stock ##pile up ##vo ##tes like the usual ka [SEP]',\n",
              " '[CLS] First look at Roberto Fi ##rm ##ino in a Liverpool shirt . [SEP] \" Welcome to Old T ##rafford \" L ##ma ##o [SEP] [PAD] [PAD] [PAD] [PAD] [PAD] [PAD] [PAD] [PAD] [PAD] [PAD] [PAD] [PAD] [PAD] [PAD] [PAD] [PAD] [PAD] [PAD] [PAD] [PAD] [PAD] [PAD] [PAD] [PAD] [PAD]',\n",
              " \"[CLS] I ' m not for murder . . . Just want to be clear on that . . I ' m really into paranormal though . I ' ve always wanted a chance to [SEP] The house isn ' t haunted , don ' t be silly . [SEP]\",\n",
              " '[CLS] Before Gaga , there was . . . . [SEP] This is before he grew up into Epic Sa ##x Man [SEP] [PAD] [PAD] [PAD] [PAD] [PAD] [PAD] [PAD] [PAD] [PAD] [PAD] [PAD] [PAD] [PAD] [PAD] [PAD] [PAD] [PAD] [PAD] [PAD] [PAD] [PAD] [PAD] [PAD] [PAD] [PAD] [PAD] [PAD]',\n",
              " \"[CLS] It ' s a bit of a stretch . . . [SEP] Until you claim d ##ys ##lex ##ia [SEP] [PAD] [PAD] [PAD] [PAD] [PAD] [PAD] [PAD] [PAD] [PAD] [PAD] [PAD] [PAD] [PAD] [PAD] [PAD] [PAD] [PAD] [PAD] [PAD] [PAD] [PAD] [PAD] [PAD] [PAD] [PAD] [PAD] [PAD] [PAD] [PAD]\",\n",
              " \"[CLS] Better not vote for Trump , then . He eats pizza with a knife and fork . [SEP] If I was picking a candidate based on their eating abilities , I ' d ' ve had to go with Ka ##si ##ch . [SEP] [PAD] [PAD] [PAD] [PAD] [PAD]\",\n",
              " \"[CLS] Oh ? Is there something you want to tell me ? I ' m all ears . [SEP] Nah , na ##h , na ##h ^ ^ White ##R ##ose ##is ##over ##played [SEP] [PAD] [PAD] [PAD] [PAD] [PAD] [PAD] [PAD] [PAD] [PAD] [PAD] [PAD] [PAD] [PAD] [PAD] [PAD]\",\n",
              " '[CLS] Police ID Su ##spect in San Bernardino Massacre as Syed Far ##ook [SEP] I see we \\' re no longer sucking the \" don \\' t spread the shooter \\' s name , they don \\' t deserve the publicity \" train anymore . . . FF ##S [SEP]',\n",
              " '[CLS] Take up home ##bre ##wing . C ##rea ##ting hundreds of billion ##s of yeast cells is just a drunken afternoon . [SEP] Use ##rna ##me checks right out . [SEP] [PAD] [PAD] [PAD] [PAD] [PAD] [PAD] [PAD] [PAD] [PAD] [PAD] [PAD] [PAD] [PAD] [PAD] [PAD] [PAD] [PAD] [PAD]',\n",
              " '[CLS] I would love to see us go with our classic home ( gold helmet , ma ##roon jersey , gold pants ) against your blue jersey and [SEP] Man , I miss Spa ##rky so much for you guys = ( what an awesome look that was . [SEP]',\n",
              " \"[CLS] How can i save the artwork ? I ' ve been trying to on previous attempts but they never seem to save properly . Also Does it [SEP] i try to and i think its impossible to do on ch ##rome at ##lea ##st , try another browser [SEP]\",\n",
              " '[CLS] Sen ##t , enjoy your fire ##fo ##x , my sun brother in arms . [SEP] Thank you so much ! [SEP] [PAD] [PAD] [PAD] [PAD] [PAD] [PAD] [PAD] [PAD] [PAD] [PAD] [PAD] [PAD] [PAD] [PAD] [PAD] [PAD] [PAD] [PAD] [PAD] [PAD] [PAD] [PAD] [PAD] [PAD] [PAD] [PAD] [PAD]',\n",
              " \"[CLS] My dad started painting after he retired . Here ' s one of my favorites that ' s hanging above my TV . [SEP] I too saw Star Wars 7 [SEP] [PAD] [PAD] [PAD] [PAD] [PAD] [PAD] [PAD] [PAD] [PAD] [PAD] [PAD] [PAD] [PAD] [PAD] [PAD] [PAD] [PAD] [PAD]\",\n",
              " '[CLS] Sorry Jo ##ke God . [SEP] no problem was bit mad 14 minutes ago [SEP] [PAD] [PAD] [PAD] [PAD] [PAD] [PAD] [PAD] [PAD] [PAD] [PAD] [PAD] [PAD] [PAD] [PAD] [PAD] [PAD] [PAD] [PAD] [PAD] [PAD] [PAD] [PAD] [PAD] [PAD] [PAD] [PAD] [PAD] [PAD] [PAD] [PAD] [PAD] [PAD] [PAD] [PAD]',\n",
              " '[CLS] Let me help . It smells like l ##ila ##cs and go ##oes ##berries . [SEP] I bet she ultra ##sonic re ##f ##resh ##ers . [SEP] [PAD] [PAD] [PAD] [PAD] [PAD] [PAD] [PAD] [PAD] [PAD] [PAD] [PAD] [PAD] [PAD] [PAD] [PAD] [PAD] [PAD] [PAD] [PAD] [PAD] [PAD] [PAD]',\n",
              " '[CLS] Does a single bio ##me per planet er ##k anyone else ? I feel like I have this huge planet , with different species to discover , however after [SEP] A little , but I just see it as the George Lucas approach to planet design : ) [SEP]',\n",
              " \"[CLS] I ' m surrounded by idiot ##s [SEP] ' Man I should have revised for those exams ' [SEP] [PAD] [PAD] [PAD] [PAD] [PAD] [PAD] [PAD] [PAD] [PAD] [PAD] [PAD] [PAD] [PAD] [PAD] [PAD] [PAD] [PAD] [PAD] [PAD] [PAD] [PAD] [PAD] [PAD] [PAD] [PAD] [PAD] [PAD] [PAD] [PAD] [PAD]\",\n",
              " '[CLS] What books could you not get through ? Are there any books that you could not get through ? I tried to read Mi ##en Ka ##mp ##f , but I threw it against the wall after about 50 pages . For [SEP] don q ##ui ##x ##ote [SEP]',\n",
              " '[CLS] heck ye ##a even more excited for imperial now , when is it expected to drop ? [SEP] No release date yet . [SEP] [PAD] [PAD] [PAD] [PAD] [PAD] [PAD] [PAD] [PAD] [PAD] [PAD] [PAD] [PAD] [PAD] [PAD] [PAD] [PAD] [PAD] [PAD] [PAD] [PAD] [PAD] [PAD] [PAD] [PAD] [PAD]',\n",
              " \"[CLS] Ok . . . How many years before this is advertised as something you can track your kids with ? [SEP] They ' ll call it a life ha ##ck and a ad ##vert ##ise it on YouTube tonight [SEP] [PAD] [PAD] [PAD] [PAD] [PAD] [PAD] [PAD] [PAD] [PAD]\",\n",
              " \"[CLS] What I was trying to say it that flashing once here to proceed doesn ' t mean it ' s une ##du ##cated just because it ' s different . The UK [SEP] And as i mentioned above earlier i stand corrected regarding that law in our country [SEP]\",\n",
              " \"[CLS] We went right for raw sugar . Might ' ve been better options , but this one worked out okay ! [SEP] I thought it looked like corn ##me ##al [SEP] [PAD] [PAD] [PAD] [PAD] [PAD] [PAD] [PAD] [PAD] [PAD] [PAD] [PAD] [PAD] [PAD] [PAD] [PAD] [PAD] [PAD] [PAD]\",\n",
              " \"[CLS] I ' m actually incredibly worried that Star Citizen will be shit . It just kept going further and further and whilst I know [SEP] Star Citizen is so h ##ype ##d up and people had out so much into it anything less than a masterpiece is going [SEP]\",\n",
              " '[CLS] Water bottle flipping [SEP] Il ##lum ##ina ##ti confirmed . [SEP] [PAD] [PAD] [PAD] [PAD] [PAD] [PAD] [PAD] [PAD] [PAD] [PAD] [PAD] [PAD] [PAD] [PAD] [PAD] [PAD] [PAD] [PAD] [PAD] [PAD] [PAD] [PAD] [PAD] [PAD] [PAD] [PAD] [PAD] [PAD] [PAD] [PAD] [PAD] [PAD] [PAD] [PAD] [PAD] [PAD] [PAD] [PAD]',\n",
              " \"[CLS] Looking back on the season , what ' s one decision this year that you ' d reverse in a heartbeat ? Cubs fan here , but I ##HD ##K . This can [SEP] The one to start Sc ##hwa ##rb ##s in that game in Arizona . [SEP]\",\n",
              " \"[CLS] * Fall ##out 3 crashes to desktop because it ' s Fall ##out 3 . F ##TF ##Y Look up the Un ##off ##ici ##al patches for the game on Fall ##out [SEP] That ' a the thing , I don ' t have an anti - virus [SEP]\",\n",
              " \"[CLS] Hai ##l Storm in Melbourne [SEP] this isn ' t that bad , in all honesty . . . had the same hail a few weeks ago in Kansas City [SEP] [PAD] [PAD] [PAD] [PAD] [PAD] [PAD] [PAD] [PAD] [PAD] [PAD] [PAD] [PAD] [PAD] [PAD] [PAD] [PAD] [PAD] [PAD]\",\n",
              " \"[CLS] Just because A ##corn had a Bad performance at worlds doesn ' t mean he didn ' t out ##per ##form Marin the rest of the year . [SEP] Marin was the best in the world at world , that ##s what matter . [SEP] [PAD] [PAD] [PAD] [PAD]\",\n",
              " '[CLS] I actually did this cause I was nervous . \" Is this a picture of your wife ? She is beautiful . \" \" That is my 14 year old daughter . \" \" Nice , nice . \" [SEP] You \\' re married to your daughter ? [SEP]',\n",
              " '[CLS] Walking in Pre ##sto ##s again 15 years later nearly brought me to tears [SEP] That seems a little extreme [SEP] [PAD] [PAD] [PAD] [PAD] [PAD] [PAD] [PAD] [PAD] [PAD] [PAD] [PAD] [PAD] [PAD] [PAD] [PAD] [PAD] [PAD] [PAD] [PAD] [PAD] [PAD] [PAD] [PAD] [PAD] [PAD] [PAD] [PAD] [PAD]',\n",
              " \"[CLS] You don ' t even really need to say that . You just need to say he ' s a drug dealer , who ' s going [SEP] exactly . . . if you ask questions they will just say you did drugs too and kill you . [SEP]\",\n",
              " \"[CLS] No , that isn ' t what I meant at all . People live close together for lots of good reasons , but you have to expect the many issues living close together brings too . Its ridiculous to expect hundreds of people living [SEP] this is true [SEP]\",\n",
              " '[CLS] When you win at the th ##rift store [SEP] Dude I have the same lamp , but blue [SEP] [PAD] [PAD] [PAD] [PAD] [PAD] [PAD] [PAD] [PAD] [PAD] [PAD] [PAD] [PAD] [PAD] [PAD] [PAD] [PAD] [PAD] [PAD] [PAD] [PAD] [PAD] [PAD] [PAD] [PAD] [PAD] [PAD] [PAD] [PAD] [PAD] [PAD]',\n",
              " '[CLS] God damn . I keep mine in s ##tam ##ina and have to charge twice a day and only get 5 hours maximum . [SEP] You are either doing something wrong or your battery is fucked [SEP] [PAD] [PAD] [PAD] [PAD] [PAD] [PAD] [PAD] [PAD] [PAD] [PAD] [PAD] [PAD]',\n",
              " '[CLS] M ##T ##B or fixed gear , [SEP] 3 ##x ##8 Hybrid [SEP] [PAD] [PAD] [PAD] [PAD] [PAD] [PAD] [PAD] [PAD] [PAD] [PAD] [PAD] [PAD] [PAD] [PAD] [PAD] [PAD] [PAD] [PAD] [PAD] [PAD] [PAD] [PAD] [PAD] [PAD] [PAD] [PAD] [PAD] [PAD] [PAD] [PAD] [PAD] [PAD] [PAD] [PAD] [PAD] [PAD]',\n",
              " '[CLS] Ah yes , the classics . \" You don \\' t * find * any traps . \" \" Are you sure you want to do that ? \" [SEP] * As far as you can tell * he believes he is telling the truth . [SEP] [PAD] [PAD]',\n",
              " \"[CLS] Polish s ##hu ##ffle incoming 3 . 2 . 1 [SEP] Mi ##chu could eventually end up on v ##p , they ' re all old . [SEP] [PAD] [PAD] [PAD] [PAD] [PAD] [PAD] [PAD] [PAD] [PAD] [PAD] [PAD] [PAD] [PAD] [PAD] [PAD] [PAD] [PAD] [PAD] [PAD] [PAD] [PAD]\",\n",
              " '[CLS] Mountain Goa ##t ( 204 ##8 ##x ##13 ##65 ) [SEP] Did you pleasure him in return for plea ##su ##ring you ? [SEP] [PAD] [PAD] [PAD] [PAD] [PAD] [PAD] [PAD] [PAD] [PAD] [PAD] [PAD] [PAD] [PAD] [PAD] [PAD] [PAD] [PAD] [PAD] [PAD] [PAD] [PAD] [PAD] [PAD] [PAD] [PAD]',\n",
              " \"[CLS] Pick ##ing a laptop for office use and pro ##c ##ras ##tina ##tion ( dot ##a ) So I work a lot but I [SEP] I ' m looking forward to buying an As ##us X ##55 ##0 ##J ##K 116 ##D ( i ##7 47 ##10 ##H [SEP]\",\n",
              " \"[CLS] At any given time , it is possible that you will fall straight through your chair if the polar ##ity of the atoms al ##ign in one direction . The only [SEP] It ' s also more unlikely the more you ' re focusing on the chair . [SEP]\",\n",
              " \"[CLS] played football in high school and in college ( division 1 ) . . can ' t confirm [SEP] let me guess , kicker ? [SEP] [PAD] [PAD] [PAD] [PAD] [PAD] [PAD] [PAD] [PAD] [PAD] [PAD] [PAD] [PAD] [PAD] [PAD] [PAD] [PAD] [PAD] [PAD] [PAD] [PAD] [PAD] [PAD] [PAD]\",\n",
              " '[CLS] Guess the arena [SEP] Arena 2 ? [SEP] [PAD] [PAD] [PAD] [PAD] [PAD] [PAD] [PAD] [PAD] [PAD] [PAD] [PAD] [PAD] [PAD] [PAD] [PAD] [PAD] [PAD] [PAD] [PAD] [PAD] [PAD] [PAD] [PAD] [PAD] [PAD] [PAD] [PAD] [PAD] [PAD] [PAD] [PAD] [PAD] [PAD] [PAD] [PAD] [PAD] [PAD] [PAD] [PAD] [PAD] [PAD]',\n",
              " \"[CLS] Something definitely went a ##wry with this latest update . I shut down to swap in a new battery . After months of good service , it ' s now in a boot ##loop . God ##dam ##mit ! [SEP] It ' s not the update . . [SEP]\",\n",
              " '[CLS] you want to ta ##b between them to see what ##s happening in both games [SEP] Yeah if you have amazing internet . [SEP] [PAD] [PAD] [PAD] [PAD] [PAD] [PAD] [PAD] [PAD] [PAD] [PAD] [PAD] [PAD] [PAD] [PAD] [PAD] [PAD] [PAD] [PAD] [PAD] [PAD] [PAD] [PAD] [PAD] [PAD] [PAD]',\n",
              " \"[CLS] What do you mean by only letting high levels in ? If they ' re 40 there ' s a high chance they have V ##ero ##mos and [SEP] That there won ##t be low level players try ##ong just to get good re ##ps that i mean [SEP]\",\n",
              " '[CLS] Hey ! Can i get some Con ##text on that Picture ? [SEP] I thought b ##umble ##bee was a Cam ##aro . . [SEP] [PAD] [PAD] [PAD] [PAD] [PAD] [PAD] [PAD] [PAD] [PAD] [PAD] [PAD] [PAD] [PAD] [PAD] [PAD] [PAD] [PAD] [PAD] [PAD] [PAD] [PAD] [PAD] [PAD] [PAD]',\n",
              " '[CLS] M / 25 / Travel ##ling Audi ##tor [SEP] Need a list but , glad you posted ! [SEP] [PAD] [PAD] [PAD] [PAD] [PAD] [PAD] [PAD] [PAD] [PAD] [PAD] [PAD] [PAD] [PAD] [PAD] [PAD] [PAD] [PAD] [PAD] [PAD] [PAD] [PAD] [PAD] [PAD] [PAD] [PAD] [PAD] [PAD] [PAD] [PAD] [PAD]',\n",
              " '[CLS] Phase ##outs are usually scheduled to protect the boom ##ers . [SEP] Killing mom - not a good idea [SEP] [PAD] [PAD] [PAD] [PAD] [PAD] [PAD] [PAD] [PAD] [PAD] [PAD] [PAD] [PAD] [PAD] [PAD] [PAD] [PAD] [PAD] [PAD] [PAD] [PAD] [PAD] [PAD] [PAD] [PAD] [PAD] [PAD] [PAD] [PAD] [PAD]',\n",
              " '[CLS] Car Self ##ie [SEP] Sweet m ##ous ##ta ##che [SEP] [PAD] [PAD] [PAD] [PAD] [PAD] [PAD] [PAD] [PAD] [PAD] [PAD] [PAD] [PAD] [PAD] [PAD] [PAD] [PAD] [PAD] [PAD] [PAD] [PAD] [PAD] [PAD] [PAD] [PAD] [PAD] [PAD] [PAD] [PAD] [PAD] [PAD] [PAD] [PAD] [PAD] [PAD] [PAD] [PAD] [PAD] [PAD] [PAD]',\n",
              " '[CLS] Very interesting , thanks for the information ! I think I will most likely not take it [SEP] No problem , best of luck ! [SEP] [PAD] [PAD] [PAD] [PAD] [PAD] [PAD] [PAD] [PAD] [PAD] [PAD] [PAD] [PAD] [PAD] [PAD] [PAD] [PAD] [PAD] [PAD] [PAD] [PAD] [PAD] [PAD] [PAD]',\n",
              " '[CLS] \" Get your fucking shine box \" will be followed up by a lively musical number in the upcoming remake . [SEP] They \\' ll make a spin ##off , * How P ##es ##ci Got His Groove Back * . [SEP] [PAD] [PAD] [PAD] [PAD] [PAD] [PAD] [PAD]',\n",
              " \"[CLS] Hopefully we can get some V ##LC streams going again . Those are super high quality . [SEP] Doesn ' t work ; they are en ##c ##ry ##pted this year . [SEP] [PAD] [PAD] [PAD] [PAD] [PAD] [PAD] [PAD] [PAD] [PAD] [PAD] [PAD] [PAD] [PAD] [PAD] [PAD] [PAD]\",\n",
              " \"[CLS] The sad world we live in [SEP] That ' s why , in the event of suddenly becoming desire ##able to women in my late 20 ##s / early 30 ##s , I will be extremely cautious . [SEP] [PAD] [PAD] [PAD] [PAD] [PAD] [PAD] [PAD] [PAD] [PAD] [PAD]\",\n",
              " '[CLS] and the labels agreed because Apple will be paying more down the line so it be ##ho ##ove ##s them to move as many [SEP] So if your work made a deal with a large client that offered their service for free for three months and because of [SEP]',\n",
              " \"[CLS] What about B ##um Phillips ' kid ? Are they keeping him as the DC ? [SEP] That ##s up to the new HC . [SEP] [PAD] [PAD] [PAD] [PAD] [PAD] [PAD] [PAD] [PAD] [PAD] [PAD] [PAD] [PAD] [PAD] [PAD] [PAD] [PAD] [PAD] [PAD] [PAD] [PAD] [PAD] [PAD] [PAD]\",\n",
              " \"[CLS] Don ' t worry about me trying to kiss you any time soon , or ever . I ' ll remember that , though . If we ' re ever stuck on guard and I ' m suck ##in ' [SEP] Touch ##e , mon am ##ie . [SEP]\",\n",
              " '[CLS] We need to out ##law guns . This is just getting stupid . [SEP] Out ##law them all you want , people would still have them and still find ways to get them . [SEP] [PAD] [PAD] [PAD] [PAD] [PAD] [PAD] [PAD] [PAD] [PAD] [PAD] [PAD] [PAD] [PAD] [PAD]',\n",
              " '[CLS] Can someone leak some footage please ? [SEP] You wanna pay the fine , plus interest ? [SEP] [PAD] [PAD] [PAD] [PAD] [PAD] [PAD] [PAD] [PAD] [PAD] [PAD] [PAD] [PAD] [PAD] [PAD] [PAD] [PAD] [PAD] [PAD] [PAD] [PAD] [PAD] [PAD] [PAD] [PAD] [PAD] [PAD] [PAD] [PAD] [PAD] [PAD] [PAD]',\n",
              " \"[CLS] Flat earth rapper Bo ##B releases Neil de ##G ##rass ##e Tyson di ##ss track [SEP] Will ##ing to bet he ' s just saying it for publicity [SEP] [PAD] [PAD] [PAD] [PAD] [PAD] [PAD] [PAD] [PAD] [PAD] [PAD] [PAD] [PAD] [PAD] [PAD] [PAD] [PAD] [PAD] [PAD] [PAD] [PAD]\",\n",
              " '[CLS] My reaction to this reaction . [SEP] cringed extra hard when he did that [SEP] [PAD] [PAD] [PAD] [PAD] [PAD] [PAD] [PAD] [PAD] [PAD] [PAD] [PAD] [PAD] [PAD] [PAD] [PAD] [PAD] [PAD] [PAD] [PAD] [PAD] [PAD] [PAD] [PAD] [PAD] [PAD] [PAD] [PAD] [PAD] [PAD] [PAD] [PAD] [PAD] [PAD] [PAD]',\n",
              " \"[CLS] I ##m the guy in the glasses ; ) [SEP] I ' m a guy with a beard ; } [SEP] [PAD] [PAD] [PAD] [PAD] [PAD] [PAD] [PAD] [PAD] [PAD] [PAD] [PAD] [PAD] [PAD] [PAD] [PAD] [PAD] [PAD] [PAD] [PAD] [PAD] [PAD] [PAD] [PAD] [PAD] [PAD] [PAD] [PAD] [PAD]\",\n",
              " '[CLS] must be fun having someone ride your dick . tell me how it feels [SEP] Don ##t worry , one day you too will learn what it feels like to have someone on your dick . [SEP] [PAD] [PAD] [PAD] [PAD] [PAD] [PAD] [PAD] [PAD] [PAD] [PAD] [PAD] [PAD]',\n",
              " '[CLS] L ##F ##1 ##M Night ##fall Strike twice 30 + Looking for one more person to do the night ##fall strike twice . Leave PS ##N , Character and level . [SEP] shit n ##v ##m i only need it once sorry [SEP] [PAD] [PAD] [PAD] [PAD] [PAD] [PAD]',\n",
              " \"[CLS] Why was Song of Solomon included in the Bible ? Song of Solomon ( or Song of Songs ) is in the Bible . It ' s a sexy set of letters back and forth between a couple who [SEP] Who doesn ' t like sexy letters ? [SEP]\",\n",
              " \"[CLS] The free college is only applicable for EU citizens , since it ' s funded by tax money . . . If you pay your taxes elsewhere , you have to pay tuition here . [SEP] Isn ' t full tuition crazy cheap though ? [SEP] [PAD] [PAD] [PAD]\",\n",
              " \"[CLS] To be fair , The F ##SU kid was probably so black ##out drunk when he got the tattoo , he probably still doesn ' t even know he has it [SEP] Tall ##ah ##ass ##ee : We ' re a drinking town with a football problem . [SEP]\",\n",
              " \"[CLS] At least 4 ##chan * knows * they ' re shit ##ty human beings [SEP] And plays up their shit ##tine ##ss for the l ##ul ##z . [SEP] [PAD] [PAD] [PAD] [PAD] [PAD] [PAD] [PAD] [PAD] [PAD] [PAD] [PAD] [PAD] [PAD] [PAD] [PAD] [PAD] [PAD] [PAD] [PAD] [PAD]\",\n",
              " '[CLS] Samsung C ##41 ##4 ##m , you ? [SEP] A ##9 ##20 he ##eh ##ee . . . [SEP] [PAD] [PAD] [PAD] [PAD] [PAD] [PAD] [PAD] [PAD] [PAD] [PAD] [PAD] [PAD] [PAD] [PAD] [PAD] [PAD] [PAD] [PAD] [PAD] [PAD] [PAD] [PAD] [PAD] [PAD] [PAD] [PAD] [PAD] [PAD] [PAD] [PAD]',\n",
              " '[CLS] Benson Henderson just got choked out in the first round at AD ##CC [SEP] S ##po ##iler ##s man . [SEP] [PAD] [PAD] [PAD] [PAD] [PAD] [PAD] [PAD] [PAD] [PAD] [PAD] [PAD] [PAD] [PAD] [PAD] [PAD] [PAD] [PAD] [PAD] [PAD] [PAD] [PAD] [PAD] [PAD] [PAD] [PAD] [PAD] [PAD] [PAD]',\n",
              " '[CLS] Yes , because it bother ##s au ##tist ##s like you . [SEP] Sure it does . [SEP] [PAD] [PAD] [PAD] [PAD] [PAD] [PAD] [PAD] [PAD] [PAD] [PAD] [PAD] [PAD] [PAD] [PAD] [PAD] [PAD] [PAD] [PAD] [PAD] [PAD] [PAD] [PAD] [PAD] [PAD] [PAD] [PAD] [PAD] [PAD] [PAD] [PAD] [PAD]',\n",
              " '[CLS] Pre ##mat ##ure Zack ##ulation would di ##sa ##pp ##oint the population [SEP] Would you stop with the rhyme ##s . [SEP] [PAD] [PAD] [PAD] [PAD] [PAD] [PAD] [PAD] [PAD] [PAD] [PAD] [PAD] [PAD] [PAD] [PAD] [PAD] [PAD] [PAD] [PAD] [PAD] [PAD] [PAD] [PAD] [PAD] [PAD] [PAD] [PAD] [PAD]',\n",
              " '[CLS] What Kara ##mb ##its are worth 130 ##K ? [SEP] Do ##pp ##ler MW probably [SEP] [PAD] [PAD] [PAD] [PAD] [PAD] [PAD] [PAD] [PAD] [PAD] [PAD] [PAD] [PAD] [PAD] [PAD] [PAD] [PAD] [PAD] [PAD] [PAD] [PAD] [PAD] [PAD] [PAD] [PAD] [PAD] [PAD] [PAD] [PAD] [PAD] [PAD] [PAD] [PAD] [PAD]',\n",
              " '[CLS] And I know half of you are going to say \" what \\' s left ##over steak ? \" Ha ha . [SEP] came here to say that : P [SEP] [PAD] [PAD] [PAD] [PAD] [PAD] [PAD] [PAD] [PAD] [PAD] [PAD] [PAD] [PAD] [PAD] [PAD] [PAD] [PAD] [PAD] [PAD]',\n",
              " \"[CLS] Sub ##s never gave me rage but I will say that when I was quit ##ting I had an attitude for a couple of [SEP] I hate it when I get an attitude , I ' m such a dick to people who are trying to BS or [SEP]\",\n",
              " '[CLS] The His ##t Trees of Black Marsh have a s ##ym ##biotic relationship with the A ##rgon ##ians . How re ##pt ##ilian an A ##rgon ##ian looks depends [SEP] ~ ~ M ##UR ##IC ##A ! ~ ~ B ##LA ##C ##K M ##UR ##S ##H ! [SEP]',\n",
              " '[CLS] If I h ##uff a bunch of this , I should be able to live underwater right ? [SEP] Sure , it \\' s \" effective on all breath ##able surfaces \" . [SEP] [PAD] [PAD] [PAD] [PAD] [PAD] [PAD] [PAD] [PAD] [PAD] [PAD] [PAD] [PAD] [PAD] [PAD] [PAD]',\n",
              " '[CLS] How can I see my pin ##g ing ##ame ? [SEP] i just use / / pin ##g in normal chat [SEP] [PAD] [PAD] [PAD] [PAD] [PAD] [PAD] [PAD] [PAD] [PAD] [PAD] [PAD] [PAD] [PAD] [PAD] [PAD] [PAD] [PAD] [PAD] [PAD] [PAD] [PAD] [PAD] [PAD] [PAD] [PAD] [PAD] [PAD]',\n",
              " '[CLS] Go to bed 4 hours earlier , wake up 4 hours earlier . Clearly super easy to do and nothing else in life could interfere with this genius plan . [SEP] Except , you know . . . A job . [SEP] [PAD] [PAD] [PAD] [PAD] [PAD] [PAD] [PAD]',\n",
              " '[CLS] Sick N ##erd who ? [SEP] Fuck you and your fishing cup ! [SEP] [PAD] [PAD] [PAD] [PAD] [PAD] [PAD] [PAD] [PAD] [PAD] [PAD] [PAD] [PAD] [PAD] [PAD] [PAD] [PAD] [PAD] [PAD] [PAD] [PAD] [PAD] [PAD] [PAD] [PAD] [PAD] [PAD] [PAD] [PAD] [PAD] [PAD] [PAD] [PAD] [PAD] [PAD] [PAD]',\n",
              " '[CLS] For ##es ##kin ( my first rage comic ) [SEP] Was it pick ##led ? [SEP] [PAD] [PAD] [PAD] [PAD] [PAD] [PAD] [PAD] [PAD] [PAD] [PAD] [PAD] [PAD] [PAD] [PAD] [PAD] [PAD] [PAD] [PAD] [PAD] [PAD] [PAD] [PAD] [PAD] [PAD] [PAD] [PAD] [PAD] [PAD] [PAD] [PAD] [PAD] [PAD] [PAD]',\n",
              " '[CLS] Please keep us updated . [SEP] I can do that for you , just want the one where I decide whether I go or not the day before or were you looking for something more frequent like an hourly update on my current thoughts vs gas prices vs [SEP]',\n",
              " \"[CLS] Yeah that ' s what the movie seems to indicate . The idea is that in the MC ##U continuity , Than ##os is able to ex ##ert some kind of [SEP] He might ' ve controlled it indirectly by giving Loki the stone in the first place [SEP]\",\n",
              " '[CLS] Saw this at the local Best Buy [SEP] P ##lot T ##wi ##st : O ##P probably did it . [SEP] [PAD] [PAD] [PAD] [PAD] [PAD] [PAD] [PAD] [PAD] [PAD] [PAD] [PAD] [PAD] [PAD] [PAD] [PAD] [PAD] [PAD] [PAD] [PAD] [PAD] [PAD] [PAD] [PAD] [PAD] [PAD] [PAD] [PAD] [PAD]',\n",
              " \"[CLS] Not a divorce , but similar situation . . . . A girlfriend that was staying with me at the time got high on [SEP] f ##als ##ifying evidence isn ' t recommended in any case , but it ' s good that you didn ' t have [SEP]\",\n",
              " '[CLS] Congressman seeks ban to stop federal employees from watching p ##orn all day [SEP] It \\' s sort of like \" who s ##mel ##t it dealt it \" ; apparently Congress watches p ##orn all day . [SEP] [PAD] [PAD] [PAD] [PAD] [PAD] [PAD] [PAD] [PAD] [PAD] [PAD]',\n",
              " \"[CLS] Very decent defender , had a great game against Fe ##ye ##no ##ord this wed ##nes ##day . I am glad to have him as a back - up . [SEP] He ' s pretty good , but he just sometimes has these brain ##fu ##ck moments [SEP] [PAD]\",\n",
              " '[CLS] Are * you * del ##uded by big business and the government ? Who are you to assume that everyone else is ? You give the establishment too much credit . [SEP] more than 100 posts in a day - someone ##s been working hard ! [SEP] [PAD] [PAD]',\n",
              " \"[CLS] So it won ' t even be on the November 8 ballot anyway ? That ' s their main strategy to defeat it obviously since a presidential election is [SEP] so . . . people should go out to vote anyway . . . and vote accordingly . [SEP]\",\n",
              " '[CLS] So I need some money . . . Where can I sell my supposed soul ? pay ##pal payments preferred [SEP] I owe my soul to the company store . [SEP] [PAD] [PAD] [PAD] [PAD] [PAD] [PAD] [PAD] [PAD] [PAD] [PAD] [PAD] [PAD] [PAD] [PAD] [PAD] [PAD] [PAD] [PAD]',\n",
              " '[CLS] r ##x 480 75 ##h ##z or 144 ##h ##z Monitor ? Hey everyone ! I just purchased the 480 and was wondering what [SEP] get 75 h ##z IP ##S , I have a dell U2 ##41 ##4 ##H o ##ced to 75 h ##z for 7 [SEP]',\n",
              " \"[CLS] To be fair , the comment it was in response to wasn ' t very compelling or intelligent either . [SEP] Sure br ##o [SEP] [PAD] [PAD] [PAD] [PAD] [PAD] [PAD] [PAD] [PAD] [PAD] [PAD] [PAD] [PAD] [PAD] [PAD] [PAD] [PAD] [PAD] [PAD] [PAD] [PAD] [PAD] [PAD] [PAD] [PAD]\",\n",
              " \"[CLS] Do you have any sources for this ? I believe you , but I ' m curious [SEP] I ' m on my phone and I ' m too lazy . [SEP] [PAD] [PAD] [PAD] [PAD] [PAD] [PAD] [PAD] [PAD] [PAD] [PAD] [PAD] [PAD] [PAD] [PAD] [PAD] [PAD] [PAD]\",\n",
              " \"[CLS] I would love to work 4 days , 10 hour shifts . I need money though , so I need 40 hours unless I ' m changed to [SEP] Unless I missed something in your post , 4 / 10 ##s is still 40 hours a week . [SEP]\",\n",
              " \"[CLS] Because the people are purchased into com ##place ##ncy with their government social ##ized welfare programs , and then there ' s the increasingly mi ##lit ##ari ##zed police state in case anyone else gets out of line . All this [SEP] man , what a down ##er [SEP]\",\n",
              " '[CLS] I didn \\' t know this is what I wanted until I read it . I also need a girl to be ok with [SEP] This is on the same level of stupid ##ity like \" learning to love my flaws \" and \" if you can \\' [SEP]',\n",
              " \"[CLS] updates you have no choice in . At least the disc saves you a big chunk of the install . [SEP] * self doesn ' t play online * presses cancel on update [SEP] [PAD] [PAD] [PAD] [PAD] [PAD] [PAD] [PAD] [PAD] [PAD] [PAD] [PAD] [PAD] [PAD] [PAD] [PAD]\",\n",
              " '[CLS] Seeing Davis in a scene with Pine would be so worth it . [SEP] Once we see what kind of Steve Trevor and Amanda Waller we are getting then it is something I would like to see . [SEP] [PAD] [PAD] [PAD] [PAD] [PAD] [PAD] [PAD] [PAD] [PAD] [PAD]',\n",
              " '[CLS] Rainbow Six Siege $ 30 Pay ##pal Key red ##ee ##ms through N ##vid ##ia promotion page then activate ##s on Up ##lay [SEP] Still got it ? [SEP] [PAD] [PAD] [PAD] [PAD] [PAD] [PAD] [PAD] [PAD] [PAD] [PAD] [PAD] [PAD] [PAD] [PAD] [PAD] [PAD] [PAD] [PAD] [PAD] [PAD]',\n",
              " \"[CLS] al ##t - light are just the biggest fucking h ##y ##po ##c ##rites , ' Look at these Muslim crime statistics ! ' ' let ' s ignore these black crime [SEP] That ' s a double standard , not h ##y ##po ##c ##ris ##y . [SEP]\",\n",
              " '[CLS] Yale S ##J ##W ##s screaming at professor yesterday because he isn \\' t making the university enough of a \" safe space \" by den ##ou ##ncing offensive Halloween costumes . [SEP] SH ##E is disgusting . [SEP] [PAD] [PAD] [PAD] [PAD] [PAD] [PAD] [PAD] [PAD] [PAD] [PAD]',\n",
              " \"[CLS] Just because something is logical doesn ' t mean it fits into the conservative frame ##w ##rk [SEP] I suppose not , but it seems inevitable that a U ##BI is going to move into the mainstream thinking and the issue will become not whether there should be [SEP]\",\n",
              " \"[CLS] Everyone ' s 12 on Red ##dit . [SEP] I ' m 10 and what is this ? [SEP] [PAD] [PAD] [PAD] [PAD] [PAD] [PAD] [PAD] [PAD] [PAD] [PAD] [PAD] [PAD] [PAD] [PAD] [PAD] [PAD] [PAD] [PAD] [PAD] [PAD] [PAD] [PAD] [PAD] [PAD] [PAD] [PAD] [PAD] [PAD] [PAD] [PAD]\",\n",
              " '[CLS] only Z ##MA is worth im ##o for better dreams [SEP] Dreams and se ##men production [SEP] [PAD] [PAD] [PAD] [PAD] [PAD] [PAD] [PAD] [PAD] [PAD] [PAD] [PAD] [PAD] [PAD] [PAD] [PAD] [PAD] [PAD] [PAD] [PAD] [PAD] [PAD] [PAD] [PAD] [PAD] [PAD] [PAD] [PAD] [PAD] [PAD] [PAD] [PAD] [PAD]',\n",
              " '[CLS] \" Ma ##sco ##t ideas deemed too controversial for use . \" [SEP] Hugh , the rabbit [SEP] [PAD] [PAD] [PAD] [PAD] [PAD] [PAD] [PAD] [PAD] [PAD] [PAD] [PAD] [PAD] [PAD] [PAD] [PAD] [PAD] [PAD] [PAD] [PAD] [PAD] [PAD] [PAD] [PAD] [PAD] [PAD] [PAD] [PAD] [PAD] [PAD] [PAD] [PAD]',\n",
              " '[CLS] basically what is going to happen is that , if t ##rump does indeed take the white house , he will band together with any other world dictator ##s and des ##pot ##s and international money [SEP] Sounds like a vague and un ##real ##istic fantasy to me [SEP]',\n",
              " \"[CLS] It ' s almost like he is a fucking liar [SEP] I think he ' s going to grab social security by the pu ##ssy , and he ' s not going to wait for consent . [SEP] [PAD] [PAD] [PAD] [PAD] [PAD] [PAD] [PAD] [PAD] [PAD] [PAD] [PAD]\",\n",
              " '[CLS] Climate change , era ##sing student debt top policies for Stein [SEP] She should probably try running for a realistic office first . [SEP] [PAD] [PAD] [PAD] [PAD] [PAD] [PAD] [PAD] [PAD] [PAD] [PAD] [PAD] [PAD] [PAD] [PAD] [PAD] [PAD] [PAD] [PAD] [PAD] [PAD] [PAD] [PAD] [PAD] [PAD] [PAD]',\n",
              " \"[CLS] go ask ch ##ris ? I don ' t give a fuck about C ##L ##G why would I ask ch ##ris ? Who [SEP] If you don ' t give a shit , don ' t give a shit , don ' t pretend not to care [SEP]\",\n",
              " \"[CLS] Yu ##p , the bulk purchase allowed us to have the really nice steel - cut kind . Individual packages of instant o ##at [SEP] What ' s the difference between Scottish o ##at ##me ##al and the large can ##ister ##s of the plain , instant type [SEP]\",\n",
              " '[CLS] if your teammates go full re ##tar ##d , go with him , else you fucking lost [SEP] big ##dad ##dy ##no ##lan ##s ? [SEP] [PAD] [PAD] [PAD] [PAD] [PAD] [PAD] [PAD] [PAD] [PAD] [PAD] [PAD] [PAD] [PAD] [PAD] [PAD] [PAD] [PAD] [PAD] [PAD] [PAD] [PAD] [PAD] [PAD]',\n",
              " \"[CLS] The 3 wickets that weren ' t . Could ' ve been a completely different result if those had stood . [SEP] Same with K ##hol ##i ' s run ##outs though [SEP] [PAD] [PAD] [PAD] [PAD] [PAD] [PAD] [PAD] [PAD] [PAD] [PAD] [PAD] [PAD] [PAD] [PAD] [PAD] [PAD]\",\n",
              " \"[CLS] On the bright side , Justin Masters ##on and Joe Kelly are going to form a fantastic 1 - 2 punch in AAA ! [SEP] That ' s not what design ##ating someone for assignment means . . . . . [SEP] [PAD] [PAD] [PAD] [PAD] [PAD] [PAD] [PAD]\",\n",
              " '[CLS] Why is this even a thing . [SEP] They look like high - end sex dolls you find at the sex ##po [SEP] [PAD] [PAD] [PAD] [PAD] [PAD] [PAD] [PAD] [PAD] [PAD] [PAD] [PAD] [PAD] [PAD] [PAD] [PAD] [PAD] [PAD] [PAD] [PAD] [PAD] [PAD] [PAD] [PAD] [PAD] [PAD] [PAD]',\n",
              " \"[CLS] Seems like Mal ##don ##ado has his own fire ex ##ting ##ui ##sher ##s ! He sure needed a lot of them [SEP] ' Looks like that fire ex ##ting ##ui ##sher has Pastor ' s name on it ' [SEP] [PAD] [PAD] [PAD] [PAD] [PAD] [PAD] [PAD] [PAD]\",\n",
              " '[CLS] The four square comment threw me for a loop because I was thinking about the online social networking app . [SEP] That always gets me , too . [SEP] [PAD] [PAD] [PAD] [PAD] [PAD] [PAD] [PAD] [PAD] [PAD] [PAD] [PAD] [PAD] [PAD] [PAD] [PAD] [PAD] [PAD] [PAD] [PAD] [PAD]',\n",
              " '[CLS] If you do that , the tax rate has to go wa ##aa ##aa ##ay up . [SEP] or spending way down [SEP] [PAD] [PAD] [PAD] [PAD] [PAD] [PAD] [PAD] [PAD] [PAD] [PAD] [PAD] [PAD] [PAD] [PAD] [PAD] [PAD] [PAD] [PAD] [PAD] [PAD] [PAD] [PAD] [PAD] [PAD] [PAD] [PAD]',\n",
              " \"[CLS] Back ##ward ##s Co ##mp ##ati ##bility optimization poor for anyone else ? Bo ##oted up go ##w ##3 on X ##O ##ne and 360 for comparison . [SEP] If you don ' t mind frame rates of 15 - 20 f ##ps it ' s fine . [SEP]\",\n",
              " '[CLS] A lot of the lists posted in this thread seem to be too full of CA generators ( S ##nap , Jace , A ##V [SEP] In the late game you can use ve ##ndi ##lli ##on c ##lique to lo ##ot A ##V out of your hand [SEP]',\n",
              " \"[CLS] I ' m sure this isn ' t what he ' s means , but . I to like good toilet paper ! [SEP] 2 p ##ly is great , if you can a for ##d it . [SEP] [PAD] [PAD] [PAD] [PAD] [PAD] [PAD] [PAD] [PAD] [PAD] [PAD]\",\n",
              " \"[CLS] I ' ve got parents with iPhone ##s and Facebook . Of course , I ' m 35 , but they ' re still [SEP] For all the fl ##ak I got about constantly playing my game ##boy as a kid it ' s absolutely ridiculous how bad [SEP]\",\n",
              " '[CLS] Up ##date is live Rs ##tar ##t x ##box for update that is all . . [SEP] I did a hard restart of Xbox One and no update available [SEP] [PAD] [PAD] [PAD] [PAD] [PAD] [PAD] [PAD] [PAD] [PAD] [PAD] [PAD] [PAD] [PAD] [PAD] [PAD] [PAD] [PAD] [PAD] [PAD]',\n",
              " '[CLS] Why do programmer ##s have the need to remind everyone that they are a programmer ? [SEP] I stated that to indicate that I use my keyboard extensively . [SEP] [PAD] [PAD] [PAD] [PAD] [PAD] [PAD] [PAD] [PAD] [PAD] [PAD] [PAD] [PAD] [PAD] [PAD] [PAD] [PAD] [PAD] [PAD] [PAD]',\n",
              " \"[CLS] I ' m on episode 2 . Does Win ##ona Ryder tone it down soon ? She ' s the worst part of this so [SEP] Well she ' s kinda going through a lot , I ' d assume she ' s a little distress ##ed . [SEP]\",\n",
              " '[CLS] Draw four squares , all with side length one , forming a grid . So they together sit inside a big square of side [SEP] I have to say , after reading through this thread , you have the per ##se ##verance and patience of a saint , [SEP]',\n",
              " \"[CLS] Nope . I do catch myself thinking oh , tomorrow ' s Sunday ! Time to go to the lake ! [SEP] Yu ##p [SEP] [PAD] [PAD] [PAD] [PAD] [PAD] [PAD] [PAD] [PAD] [PAD] [PAD] [PAD] [PAD] [PAD] [PAD] [PAD] [PAD] [PAD] [PAD] [PAD] [PAD] [PAD] [PAD] [PAD] [PAD]\",\n",
              " '[CLS] Would that work in D ##MM with the logo ##ut time ##r ? [SEP] Yeah , as long as you make sure to log every 59 seconds / 49 with 10 se ##cs delay [SEP] [PAD] [PAD] [PAD] [PAD] [PAD] [PAD] [PAD] [PAD] [PAD] [PAD] [PAD] [PAD] [PAD] [PAD]',\n",
              " '[CLS] No idea how I thought it would re - pro ##c if it killed something on its own . [SEP] Hall ##uc ##ino ##gens are dangerous , kids ! [SEP] [PAD] [PAD] [PAD] [PAD] [PAD] [PAD] [PAD] [PAD] [PAD] [PAD] [PAD] [PAD] [PAD] [PAD] [PAD] [PAD] [PAD] [PAD] [PAD]',\n",
              " \"[CLS] I mean shit , even 121 ##9 ! [SEP] Hey now . . don ' t get carried away [SEP] [PAD] [PAD] [PAD] [PAD] [PAD] [PAD] [PAD] [PAD] [PAD] [PAD] [PAD] [PAD] [PAD] [PAD] [PAD] [PAD] [PAD] [PAD] [PAD] [PAD] [PAD] [PAD] [PAD] [PAD] [PAD] [PAD] [PAD] [PAD] [PAD]\",\n",
              " \"[CLS] Imagine that you were told you hold a gaming world record . What would you guess that record would be ? Something you ' ve done better , faster , [SEP] Highest ratio of time spent m ##od ##ding a game to time spent actually playing it . [SEP]\",\n",
              " '[CLS] * hangs self * * police kick down door * D ##O YOU H ##AV ##E AN ##Y ID ##EA H ##OW FA ##ST YOU W ##ER ##E GO ##ING ? [SEP] License and registration please . [SEP] [PAD] [PAD] [PAD] [PAD] [PAD] [PAD] [PAD] [PAD] [PAD] [PAD] [PAD]',\n",
              " \"[CLS] What ' s the story on the weird books and art ? I love weird books and art . Any photos or titles , [SEP] I can take a picture or you can come by at some point this weekend to per ##use as long as you ' [SEP]\",\n",
              " '[CLS] Man explains how China helped his $ 2 billion con game [SEP] I feel like I just read the plot to Catch Me If You Can 2 [SEP] [PAD] [PAD] [PAD] [PAD] [PAD] [PAD] [PAD] [PAD] [PAD] [PAD] [PAD] [PAD] [PAD] [PAD] [PAD] [PAD] [PAD] [PAD] [PAD] [PAD] [PAD]',\n",
              " \"[CLS] Fair point , but she ' s clearly very stupid . [SEP] No arguing there ! [SEP] [PAD] [PAD] [PAD] [PAD] [PAD] [PAD] [PAD] [PAD] [PAD] [PAD] [PAD] [PAD] [PAD] [PAD] [PAD] [PAD] [PAD] [PAD] [PAD] [PAD] [PAD] [PAD] [PAD] [PAD] [PAD] [PAD] [PAD] [PAD] [PAD] [PAD] [PAD] [PAD]\",\n",
              " \"[CLS] Fun house . It ' s pronounced fun house . [SEP] We were discussing how you would pro ##nounce it with the um ##lau ##t that O ##P has in the title . [SEP] [PAD] [PAD] [PAD] [PAD] [PAD] [PAD] [PAD] [PAD] [PAD] [PAD] [PAD] [PAD] [PAD] [PAD] [PAD]\",\n",
              " '[CLS] D ##ON ##T L ##OS ##E YOU ##R WA ##Y , F ##IG ##HT THE P ##OW ##A ##H [SEP] L ##IF ##E F ##IB ##ER . . . . . CO ##MB ##IN ##E ! [SEP] [PAD] [PAD] [PAD] [PAD] [PAD] [PAD] [PAD] [PAD] [PAD] [PAD] [PAD] [PAD]',\n",
              " '[CLS] Soap , Slim ##e , C ##um ? ? ? [SEP] * O ##b ##liga ##tory not confused comment * [SEP] [PAD] [PAD] [PAD] [PAD] [PAD] [PAD] [PAD] [PAD] [PAD] [PAD] [PAD] [PAD] [PAD] [PAD] [PAD] [PAD] [PAD] [PAD] [PAD] [PAD] [PAD] [PAD] [PAD] [PAD] [PAD] [PAD] [PAD] [PAD]',\n",
              " '[CLS] K ##d started is ##oing and it back ##fire ##d [SEP] Not to mention Russ passing it to Step ##h every other possession [SEP] [PAD] [PAD] [PAD] [PAD] [PAD] [PAD] [PAD] [PAD] [PAD] [PAD] [PAD] [PAD] [PAD] [PAD] [PAD] [PAD] [PAD] [PAD] [PAD] [PAD] [PAD] [PAD] [PAD] [PAD] [PAD]',\n",
              " \"[CLS] It actually got hot ##fi ##xed on Monday . I got it and I ' m in EU , so no 7 . 1 [SEP] Ah , that explains why I couldn ' t find the new quest ##s in Dal ##aran : P I just assumed the [SEP]\",\n",
              " \"[CLS] u ##r * [SEP] u ' r * [SEP] [PAD] [PAD] [PAD] [PAD] [PAD] [PAD] [PAD] [PAD] [PAD] [PAD] [PAD] [PAD] [PAD] [PAD] [PAD] [PAD] [PAD] [PAD] [PAD] [PAD] [PAD] [PAD] [PAD] [PAD] [PAD] [PAD] [PAD] [PAD] [PAD] [PAD] [PAD] [PAD] [PAD] [PAD] [PAD] [PAD] [PAD] [PAD] [PAD] [PAD]\",\n",
              " \"[CLS] We get the materials to create the war ##p drive , build a wrap capable ship , hit war ##p 1 , attracting contact [SEP] We ' re not locked down to that timeline ' s time frame ( aka we can build a war ##p - capable [SEP]\",\n",
              " \"[CLS] Val ##ve , please option to block regions I shouldn ' t have to play with people that don ' t speak my language . Please add the option to block players from certain regions from being [SEP] You can use pin ##gs to communicate just fine . [SEP]\",\n",
              " '[CLS] Happy National Aero Cho ##rd day ! [SEP] w ##ut ? [SEP] [PAD] [PAD] [PAD] [PAD] [PAD] [PAD] [PAD] [PAD] [PAD] [PAD] [PAD] [PAD] [PAD] [PAD] [PAD] [PAD] [PAD] [PAD] [PAD] [PAD] [PAD] [PAD] [PAD] [PAD] [PAD] [PAD] [PAD] [PAD] [PAD] [PAD] [PAD] [PAD] [PAD] [PAD] [PAD] [PAD] [PAD]',\n",
              " '[CLS] De ##pen ##ds on whether they can find a jungle or support . Which ##ever they can find , Hai will fill in the other role . [SEP] I hope Lemon stays as coach / sub [SEP] [PAD] [PAD] [PAD] [PAD] [PAD] [PAD] [PAD] [PAD] [PAD] [PAD] [PAD] [PAD]',\n",
              " \"[CLS] No update on console ? Everyone is saying the update has hit but my friends and I haven ' t received the update yet [SEP] Not yet [SEP] [PAD] [PAD] [PAD] [PAD] [PAD] [PAD] [PAD] [PAD] [PAD] [PAD] [PAD] [PAD] [PAD] [PAD] [PAD] [PAD] [PAD] [PAD] [PAD] [PAD] [PAD]\",\n",
              " \"[CLS] V ##ers ##ta ##ppe ##n had a full season of F ##3 before he moved up to F1 ##s , although you can ' t really compare F1 to cricket [SEP] We didn ' t jerk Smith to the Test captain ##cy with logic and sound reasoning . [SEP]\",\n",
              " '[CLS] You mean a See ##D ? They were mercenaries from Ba ##lam ##b Garden . [SEP] Sick reference br ##o . [SEP] [PAD] [PAD] [PAD] [PAD] [PAD] [PAD] [PAD] [PAD] [PAD] [PAD] [PAD] [PAD] [PAD] [PAD] [PAD] [PAD] [PAD] [PAD] [PAD] [PAD] [PAD] [PAD] [PAD] [PAD] [PAD] [PAD] [PAD]',\n",
              " '[CLS] You don \\' t get to spend every other day of the year shit ##ting all over everything yelling \" PC MA ##ST ##ER [SEP] The \" PC mater race \" comment is a joke from us p ##c players it \\' s not meant to be serious [SEP]',\n",
              " \"[CLS] I didn ' t say it isn ' t welcome : p you said P ##v ##P isn ' t worth the effort , and I said [SEP] Sorry , I didn ' t mean that you weren ' t welcoming , I meant design - wise . [SEP]\",\n",
              " \"[CLS] Yep , that ' s My ##ster ##ious . [SEP] o ##m ##g this is funny X ##D [SEP] [PAD] [PAD] [PAD] [PAD] [PAD] [PAD] [PAD] [PAD] [PAD] [PAD] [PAD] [PAD] [PAD] [PAD] [PAD] [PAD] [PAD] [PAD] [PAD] [PAD] [PAD] [PAD] [PAD] [PAD] [PAD] [PAD] [PAD] [PAD] [PAD] [PAD]\",\n",
              " \"[CLS] Maybe you mi ##sun ##ders ##to ##od . My point wasn ' t that the train operator blew the horn , but they blew [SEP] Yeah sorry , I think I just mi ##sin ##ter ##p ##ret ##ed what you were saying and gave a kind p ##eda [SEP]\",\n",
              " \"[CLS] I guess but didn ' t O ##G and millennium only have to win one game ? [SEP] to get to final yeah , 2 games to win the event [SEP] [PAD] [PAD] [PAD] [PAD] [PAD] [PAD] [PAD] [PAD] [PAD] [PAD] [PAD] [PAD] [PAD] [PAD] [PAD] [PAD] [PAD] [PAD]\",\n",
              " '[CLS] Pizza , by origin , was a way for b ##aker ##s to clean the ash from the bottom of their ( traditionally ) wood oven ##s . Top ##ping ##s consisted of any ingredients ( usually going bad , [SEP] Is pizza a valid pizza topping ? [SEP]',\n",
              " '[CLS] Rob Ford lives [SEP] Wrong , because Tory is actually going to do something about it . [SEP] [PAD] [PAD] [PAD] [PAD] [PAD] [PAD] [PAD] [PAD] [PAD] [PAD] [PAD] [PAD] [PAD] [PAD] [PAD] [PAD] [PAD] [PAD] [PAD] [PAD] [PAD] [PAD] [PAD] [PAD] [PAD] [PAD] [PAD] [PAD] [PAD] [PAD] [PAD]',\n",
              " \"[CLS] There are many reasons to doubt Bit ##co ##in from Austrian perspectives . Do you think Bit ##co ##in has a stab ##ili ##zing mechanism ? If so what it is ? [SEP] What do you mean by ' stab ##ili ##zing mechanism ' ? [SEP] [PAD] [PAD] [PAD]\",\n",
              " \"[CLS] Actually the votes in those counties were thrown out because some were counted ( fed through the machine ) up to 6 times . The news stations here are reporting on [SEP] If that ' s the case , then its the perfect reason for an audit . [SEP]\",\n",
              " '[CLS] Apparently for your TV show to make it big on AMC , you really need a late model R ##V [SEP] If \" late model \" is supposed to be old , then what \\' s \" early model \" supposed to be ? [SEP] [PAD] [PAD] [PAD] [PAD]',\n",
              " '[CLS] With gritted teeth & am ##p ; a plastic bag . Plastic con ##fers a degree of separation I can handle . [SEP] I think your first mistake is picking it up with your teeth . [SEP] [PAD] [PAD] [PAD] [PAD] [PAD] [PAD] [PAD] [PAD] [PAD] [PAD] [PAD] [PAD]',\n",
              " '[CLS] Does a set of all sets contain itself ? [SEP] It has to by definition . [SEP] [PAD] [PAD] [PAD] [PAD] [PAD] [PAD] [PAD] [PAD] [PAD] [PAD] [PAD] [PAD] [PAD] [PAD] [PAD] [PAD] [PAD] [PAD] [PAD] [PAD] [PAD] [PAD] [PAD] [PAD] [PAD] [PAD] [PAD] [PAD] [PAD] [PAD] [PAD] [PAD]',\n",
              " '[CLS] If your mind was getting wiped in an hour , and you had one memory that you could hold on to , what memory would you choose ? [SEP] My relationship with my wife . [SEP] [PAD] [PAD] [PAD] [PAD] [PAD] [PAD] [PAD] [PAD] [PAD] [PAD] [PAD] [PAD] [PAD]',\n",
              " '[CLS] Yeah , but is that a permanent move ? [SEP] Unless DJ loses the belt , probably . [SEP] [PAD] [PAD] [PAD] [PAD] [PAD] [PAD] [PAD] [PAD] [PAD] [PAD] [PAD] [PAD] [PAD] [PAD] [PAD] [PAD] [PAD] [PAD] [PAD] [PAD] [PAD] [PAD] [PAD] [PAD] [PAD] [PAD] [PAD] [PAD] [PAD] [PAD]',\n",
              " \"[CLS] Because pulling them out of the air makes so much more sense . [SEP] It ' s less out of thin air and more replication of what was there , but if you ' re considering him a divine being the whole thin air thing really doesn ' [SEP]\",\n",
              " '[CLS] Which mi ##sp ##ron ##ounced words i ##rri ##tate you the most ? [SEP] When people say \" p ##ac ##ific \" instead of specific . [SEP] [PAD] [PAD] [PAD] [PAD] [PAD] [PAD] [PAD] [PAD] [PAD] [PAD] [PAD] [PAD] [PAD] [PAD] [PAD] [PAD] [PAD] [PAD] [PAD] [PAD] [PAD] [PAD]',\n",
              " \"[CLS] She ' s still a nut ##jo ##b though . [SEP] I W ##IL ##L V ##OT ##E F ##OR NO ##BO ##D ##Y E ##VE ##R AG ##A ##IN [SEP] [PAD] [PAD] [PAD] [PAD] [PAD] [PAD] [PAD] [PAD] [PAD] [PAD] [PAD] [PAD] [PAD] [PAD] [PAD] [PAD] [PAD] [PAD]\",\n",
              " \"[CLS] looks really great ! [SEP] Two people didn ' t see this as so : / [SEP] [PAD] [PAD] [PAD] [PAD] [PAD] [PAD] [PAD] [PAD] [PAD] [PAD] [PAD] [PAD] [PAD] [PAD] [PAD] [PAD] [PAD] [PAD] [PAD] [PAD] [PAD] [PAD] [PAD] [PAD] [PAD] [PAD] [PAD] [PAD] [PAD] [PAD] [PAD] [PAD]\",\n",
              " \"[CLS] And how Michael Ke ##aton must feel . . do you think about it ? The guy ' s been acting on the side for years while working a [SEP] I heard his kid ' s DJ ##ing career is really starting to take off , though . [SEP]\",\n",
              " \"[CLS] I didn ' t need technology out on my family ' s farm . Just my trust ##y . 50 and a sniper scope was all I needed . My parents hated that they built the highway so close , [SEP] That got dark quick . . . [SEP]\",\n",
              " '[CLS] I think it says \" RA ##Z ##O \" [SEP] You \\' re correct . [SEP] [PAD] [PAD] [PAD] [PAD] [PAD] [PAD] [PAD] [PAD] [PAD] [PAD] [PAD] [PAD] [PAD] [PAD] [PAD] [PAD] [PAD] [PAD] [PAD] [PAD] [PAD] [PAD] [PAD] [PAD] [PAD] [PAD] [PAD] [PAD] [PAD] [PAD] [PAD] [PAD] [PAD]',\n",
              " '[CLS] Belt ##ers rarely have extended periods ( weeks or months ) at an Earth ##like 1 ##G ( most ships fly at 1 / [SEP] The ma ##rt ##ians probably have rotating habitats with 1 ##g and they train their soldiers there for extended periods of time . [SEP]',\n",
              " '[CLS] Jump ##er cable guy has not been here in a long time . [SEP] Yeah I was just thinking that . [SEP] [PAD] [PAD] [PAD] [PAD] [PAD] [PAD] [PAD] [PAD] [PAD] [PAD] [PAD] [PAD] [PAD] [PAD] [PAD] [PAD] [PAD] [PAD] [PAD] [PAD] [PAD] [PAD] [PAD] [PAD] [PAD] [PAD] [PAD]',\n",
              " \"[CLS] dude posted his sister ' s fit and people made a bunch of comments about how they wanna fuck his sister and how she ' s probably good at sucking dick . there were a lot of removed comments . [SEP] link ? [SEP] [PAD] [PAD] [PAD] [PAD] [PAD]\",\n",
              " '[CLS] N ##u W ##a has brown hair . Apollo has blond hair . [SEP] Look ##ed at card arts they looked red ##heads [SEP] [PAD] [PAD] [PAD] [PAD] [PAD] [PAD] [PAD] [PAD] [PAD] [PAD] [PAD] [PAD] [PAD] [PAD] [PAD] [PAD] [PAD] [PAD] [PAD] [PAD] [PAD] [PAD] [PAD] [PAD] [PAD]',\n",
              " \"[CLS] The show has gotten critical acclaim and for someone that young to have a show that is critically acclaimed is rare in the film [SEP] She ' s also a daughter of two highly laude ##d artists with possible ne ##pot ##ism that that got her into the [SEP]\",\n",
              " \"[CLS] This was the plot for an episode of * Yes , Dear * . [SEP] Wasn ' t this the plot of the whole show ? [SEP] [PAD] [PAD] [PAD] [PAD] [PAD] [PAD] [PAD] [PAD] [PAD] [PAD] [PAD] [PAD] [PAD] [PAD] [PAD] [PAD] [PAD] [PAD] [PAD] [PAD] [PAD] [PAD]\",\n",
              " \"[CLS] by that logic the transform ##ers movies are some of the best movies of all time [SEP] not really because there are metric ##s to objective ##ly say they aren ' t . [SEP] [PAD] [PAD] [PAD] [PAD] [PAD] [PAD] [PAD] [PAD] [PAD] [PAD] [PAD] [PAD] [PAD] [PAD] [PAD]\",\n",
              " '[CLS] Lamb ##or ##gh ##ini un ##box ##ing ! [SEP] I hardly ever pay attention to cars but . . I came . [SEP] [PAD] [PAD] [PAD] [PAD] [PAD] [PAD] [PAD] [PAD] [PAD] [PAD] [PAD] [PAD] [PAD] [PAD] [PAD] [PAD] [PAD] [PAD] [PAD] [PAD] [PAD] [PAD] [PAD] [PAD] [PAD] [PAD]',\n",
              " \"[CLS] T ##IL SC ##AN has brick and mortar stores . [SEP] They ' ve only got one in Bolton haven ' t they ? [SEP] [PAD] [PAD] [PAD] [PAD] [PAD] [PAD] [PAD] [PAD] [PAD] [PAD] [PAD] [PAD] [PAD] [PAD] [PAD] [PAD] [PAD] [PAD] [PAD] [PAD] [PAD] [PAD] [PAD] [PAD]\",\n",
              " \"[CLS] I regret qualifying this week [SEP] Pen ##alty shootout ##s shouldn ' t be in weekend league I ##MO . [SEP] [PAD] [PAD] [PAD] [PAD] [PAD] [PAD] [PAD] [PAD] [PAD] [PAD] [PAD] [PAD] [PAD] [PAD] [PAD] [PAD] [PAD] [PAD] [PAD] [PAD] [PAD] [PAD] [PAD] [PAD] [PAD] [PAD] [PAD] [PAD]\",\n",
              " \"[CLS] G ##az ##low ##e has this choice kind of given to him by level 10 . Want a huge b ##uff to your siege [SEP] That ' s the idea , but if that actually worked consistently G ##az ##low ##e would be considered a good hero . [SEP]\",\n",
              " \"[CLS] Ya but you still need a half decent Q ##B to win the S ##B . Doesn ' t matter if you have a # 1 defense if your offense can ' t score . [SEP] How ' d that work out for you last year ? [SEP] [PAD]\",\n",
              " \"[CLS] Then why is everyone saying that she was just a bitch from the get go ? Like she never loved him . [SEP] she was a bitch from the get go , but she really did love him . . . . . . but she ' s [SEP]\",\n",
              " \"[CLS] F ##W were always great and literally lost to champions every time . Everyone else was beaten by them . SS ##G is just [SEP] Last worlds they got knocked out by O ##G SS ##G didn ' t play T ##HA ##T well in the g ##aunt [SEP]\",\n",
              " '[CLS] My kids always throw To ##ad into the lava on Super Mario Wii while chanting \" sacrifice , sacrifice \" . [SEP] You should maybe get then checked out by a psychologist . [SEP] [PAD] [PAD] [PAD] [PAD] [PAD] [PAD] [PAD] [PAD] [PAD] [PAD] [PAD] [PAD] [PAD] [PAD] [PAD]',\n",
              " '[CLS] He drafted U ##rl ##acher , Briggs , Till ##man , Rod ##dy White , Matt Ryan , and a handful of players who are definitely in the better [SEP] \" He was on staff when they were drafted \" is br ##t different from actually drafting them [SEP]',\n",
              " \"[CLS] E ##h , they probably do . I just toss them all in there together at the same time , I ' m not pick ##y . As [SEP] Well , I found someone less Italian than the ' all past ##a is the same ' crowd . [SEP]\",\n",
              " \"[CLS] It really bother ##s me to see Red ##dit making a mock ##ery of someone ' s sudden death without apparent regard for that [SEP] No you ' re wrong AND an asshole , it ' s from 2009 ##ish , I get what you ' re trying [SEP]\",\n",
              " \"[CLS] what ##s the most fun commander you ' ve ever played ? Me and my friend have completely stopped playing E ##D ##H to [SEP] [ [ Mom ##ir V ##ig , Si ##mic Vision ##ary ] ] He ' s so fun being able to tutor up [SEP]\",\n",
              " \"[CLS] If some one isn ' t a cu ##ck they are automatically a Hitler na ##zi . [SEP] C ##uck - a - do ##od ##le - do ##o , you must be a Jew [SEP] [PAD] [PAD] [PAD] [PAD] [PAD] [PAD] [PAD] [PAD] [PAD] [PAD] [PAD] [PAD] [PAD]\",\n",
              " '[CLS] What about accomplished businessman ? [SEP] Tax records , please . [SEP] [PAD] [PAD] [PAD] [PAD] [PAD] [PAD] [PAD] [PAD] [PAD] [PAD] [PAD] [PAD] [PAD] [PAD] [PAD] [PAD] [PAD] [PAD] [PAD] [PAD] [PAD] [PAD] [PAD] [PAD] [PAD] [PAD] [PAD] [PAD] [PAD] [PAD] [PAD] [PAD] [PAD] [PAD] [PAD] [PAD] [PAD]',\n",
              " '[CLS] The Dal ##ai Lama now has the ability to transform into the h ##ul ##k . Who can make him angry enough to transform ? [SEP] Del ##ores from Co ##m ##cast customer service hot ##line . [SEP] [PAD] [PAD] [PAD] [PAD] [PAD] [PAD] [PAD] [PAD] [PAD] [PAD] [PAD]',\n",
              " '[CLS] Day ##Z on Xbox One Game ##play - How did he get it ? [SEP] F ##aked . [SEP] [PAD] [PAD] [PAD] [PAD] [PAD] [PAD] [PAD] [PAD] [PAD] [PAD] [PAD] [PAD] [PAD] [PAD] [PAD] [PAD] [PAD] [PAD] [PAD] [PAD] [PAD] [PAD] [PAD] [PAD] [PAD] [PAD] [PAD] [PAD] [PAD] [PAD]',\n",
              " '[CLS] By the time I get home from work , hopefully the initial influx of people over ##flow ##ing the server will have died down . [SEP] Yeah , it looks like absolute may ##hem online . [SEP] [PAD] [PAD] [PAD] [PAD] [PAD] [PAD] [PAD] [PAD] [PAD] [PAD] [PAD] [PAD]',\n",
              " '[CLS] My ex has a Golden Re ##tri ##ever Border Col ##lie Mix , he is like the Forest G ##ump of Dogs . [SEP] Never stops running and is really good at pin ##g p ##ong ? [SEP] [PAD] [PAD] [PAD] [PAD] [PAD] [PAD] [PAD] [PAD] [PAD] [PAD] [PAD]',\n",
              " '[CLS] \" Money is the flash ##y mansion in Hollywood the decay ##s and with ##ers over time . Power is the stone castle that weather ##s and endure ##s [SEP] The rich work for a living , the wealthy have others and their money work for them . [SEP]',\n",
              " \"[CLS] got an extra , 24 hours from now I ' ll randomly pick a winner [SEP] Thank you for doing this and good luck to everyone ! [SEP] [PAD] [PAD] [PAD] [PAD] [PAD] [PAD] [PAD] [PAD] [PAD] [PAD] [PAD] [PAD] [PAD] [PAD] [PAD] [PAD] [PAD] [PAD] [PAD] [PAD] [PAD]\",\n",
              " '[CLS] In ##vade ##rz ##z asked for something like this , and when someone asks for a s ##h * t ##ty me ##me then I f ##uk ##cing deliver a s ##h * t ##ty me ##me . [SEP] w ##ow [SEP] [PAD] [PAD] [PAD] [PAD] [PAD] [PAD] [PAD]',\n",
              " '[CLS] You mean like s ##rs or Best ##O ##f ? [SEP] You miss ##pelled Sub ##R ##edd ##it ##D ##rama . [SEP] [PAD] [PAD] [PAD] [PAD] [PAD] [PAD] [PAD] [PAD] [PAD] [PAD] [PAD] [PAD] [PAD] [PAD] [PAD] [PAD] [PAD] [PAD] [PAD] [PAD] [PAD] [PAD] [PAD] [PAD] [PAD] [PAD] [PAD]',\n",
              " '[CLS] Still need to get the heat from the die to the case . [SEP] How about cooling the case with a p ##el ##tier ? [SEP] [PAD] [PAD] [PAD] [PAD] [PAD] [PAD] [PAD] [PAD] [PAD] [PAD] [PAD] [PAD] [PAD] [PAD] [PAD] [PAD] [PAD] [PAD] [PAD] [PAD] [PAD] [PAD] [PAD]',\n",
              " \"[CLS] Lo ##l . . Yep , I definitely don ' t live there , but thanks anyway ##s ! [SEP] No problem , glad to see there ' s at least some interest in it ! [SEP] [PAD] [PAD] [PAD] [PAD] [PAD] [PAD] [PAD] [PAD] [PAD] [PAD] [PAD] [PAD]\",\n",
              " \"[CLS] Late ##ys ##ha had the whole c ##lique believing that they should be happy that she should win for her baby . Jason e ##vic ##ting her has literally given everyone in that house a better chance at [SEP] I ' m sure some are secretly happy . [SEP]\",\n",
              " ...]"
            ]
          },
          "metadata": {
            "tags": []
          },
          "execution_count": 31
        }
      ]
    },
    {
      "cell_type": "markdown",
      "metadata": {
        "id": "y8vkc-MhULUT"
      },
      "source": [
        "##### Examples that were predicted as not sarcastic but are actually sarcastic"
      ]
    },
    {
      "cell_type": "code",
      "metadata": {
        "id": "fcVDbDU2UZiH",
        "colab": {
          "base_uri": "https://localhost:8080/"
        },
        "outputId": "4b0583d5-0f49-4d26-c951-ecef200328ec"
      },
      "source": [
        "[detokenized_comments[i] for i in fn]"
      ],
      "execution_count": 32,
      "outputs": [
        {
          "output_type": "execute_result",
          "data": {
            "text/plain": [
              "[\"[CLS] This would totally fuck so many people ' s 401 ##k ' s and investments though ( as well as many corporations investments ) . Most peoples retirement are in oil companies so we don ##t want [SEP] Well that totally makes BP a great corporation then . [SEP]\",\n",
              " '[CLS] And we actually have a pretty solid idea of the keys to getting out of and staying out of poverty : ( 1 ) finish school ; ( 2 ) [SEP] People in poverty need to just get a loan from their parents and start a business . [SEP]',\n",
              " \"[CLS] mildly in ##fu ##ria ##ting that you took the time to post this . . . get over it . . your friend texts like a 4th grade ##r . . and you have shit taste in food [SEP] Ye ##a because both restaurants aren ' t great [SEP]\",\n",
              " \"[CLS] i refuse to believe any amount of s ##hr ##oom ##s leaves you head any different than before except more en ##light ##ened . [SEP] Guys he ' s obviously right , * s ##hr ##oom ##s are natural * so they * * can ' t possibly [SEP]\",\n",
              " \"[CLS] This isn ' t just for Classical era music . [SEP] Someone posted some St ##ra ##vin ##sky garbage in here the other day , I nearly flipped my w ##ig . [SEP] [PAD] [PAD] [PAD] [PAD] [PAD] [PAD] [PAD] [PAD] [PAD] [PAD] [PAD] [PAD] [PAD] [PAD] [PAD] [PAD]\",\n",
              " '[CLS] Zeke certainly killed that narrative . . . [SEP] Only because Meyer is an SEC coach , du ##h . . . . [SEP] [PAD] [PAD] [PAD] [PAD] [PAD] [PAD] [PAD] [PAD] [PAD] [PAD] [PAD] [PAD] [PAD] [PAD] [PAD] [PAD] [PAD] [PAD] [PAD] [PAD] [PAD] [PAD] [PAD] [PAD] [PAD]',\n",
              " \"[CLS] Scientist finds Gulf bottom still oil ##y [SEP] Thank god it ' s a natural part of the ecosystem . [SEP] [PAD] [PAD] [PAD] [PAD] [PAD] [PAD] [PAD] [PAD] [PAD] [PAD] [PAD] [PAD] [PAD] [PAD] [PAD] [PAD] [PAD] [PAD] [PAD] [PAD] [PAD] [PAD] [PAD] [PAD] [PAD] [PAD] [PAD] [PAD]\",\n",
              " '[CLS] A Pakistani ex ##tre ##mist wanted me dead , says Mark Z ##uck ##er ##berg [SEP] O ##oh that poor victim Z ##uck ##er ##berg . . [SEP] [PAD] [PAD] [PAD] [PAD] [PAD] [PAD] [PAD] [PAD] [PAD] [PAD] [PAD] [PAD] [PAD] [PAD] [PAD] [PAD] [PAD] [PAD] [PAD] [PAD] [PAD]',\n",
              " '[CLS] Why buy a graphics card ? [SEP] So I can turn my 98 ##0 ##ti into a Titan X ? [SEP] [PAD] [PAD] [PAD] [PAD] [PAD] [PAD] [PAD] [PAD] [PAD] [PAD] [PAD] [PAD] [PAD] [PAD] [PAD] [PAD] [PAD] [PAD] [PAD] [PAD] [PAD] [PAD] [PAD] [PAD] [PAD] [PAD] [PAD] [PAD]',\n",
              " '[CLS] Miranda out for Milan Derby with MC ##L strain [SEP] ah ##hh no wonder Ba ##lot ##elli is starting [SEP] [PAD] [PAD] [PAD] [PAD] [PAD] [PAD] [PAD] [PAD] [PAD] [PAD] [PAD] [PAD] [PAD] [PAD] [PAD] [PAD] [PAD] [PAD] [PAD] [PAD] [PAD] [PAD] [PAD] [PAD] [PAD] [PAD] [PAD] [PAD] [PAD]',\n",
              " \"[CLS] No , we don ' t have it here and I only heard about it like 3 years ago . What ' s the deal with it ? Why the crazy sales and people going full Bat ##eman [SEP] Patriot ##ism is best displayed via mass consumption . [SEP]\",\n",
              " '[CLS] Yeah they have some decent albums as ##well [SEP] I mean if you still listen to metal ##core like its 2010 . [SEP] [PAD] [PAD] [PAD] [PAD] [PAD] [PAD] [PAD] [PAD] [PAD] [PAD] [PAD] [PAD] [PAD] [PAD] [PAD] [PAD] [PAD] [PAD] [PAD] [PAD] [PAD] [PAD] [PAD] [PAD] [PAD] [PAD]',\n",
              " \"[CLS] Yes , but have you * seen * any censorship ? Or heard of any ? [SEP] Not if it ' s working ! [SEP] [PAD] [PAD] [PAD] [PAD] [PAD] [PAD] [PAD] [PAD] [PAD] [PAD] [PAD] [PAD] [PAD] [PAD] [PAD] [PAD] [PAD] [PAD] [PAD] [PAD] [PAD] [PAD] [PAD] [PAD]\",\n",
              " \"[CLS] Du ##h , that ' s like rule - 1 of the internet . [SEP] I feel like it ' s rule 0 , you must be fucking re ##tar ##ded [SEP] [PAD] [PAD] [PAD] [PAD] [PAD] [PAD] [PAD] [PAD] [PAD] [PAD] [PAD] [PAD] [PAD] [PAD] [PAD] [PAD] [PAD]\",\n",
              " '[CLS] London . [SEP] I ##m sure players would L ##O ##VE to have to fly all the way across the at ##lant ##ic for a regular season game , and people in th ##ier division would have to do it twice ! [SEP] [PAD] [PAD] [PAD] [PAD] [PAD] [PAD]',\n",
              " '[CLS] In French , we have a saying that goes something like \" The first generation builds , the second strengthen ##s , and the [SEP] In Ireland we have a saying that goes : \" The first generation is poor , the second is poor ##er , and [SEP]',\n",
              " \"[CLS] I wonder who will be able to compete with O ##G in this game . F ##az ##e ' s team th ##rive ##d in A ##W ' s a ##g ##ress ##ive plays ##ty ##le , which is why they matched up so [SEP] H ##2 ##K [SEP]\",\n",
              " \"[CLS] Fr ##oli ##k ' s penalty shot goal on Howard [SEP] I love seeing all of the good pan ##ther ##s players leaving and going on to better things . [SEP] [PAD] [PAD] [PAD] [PAD] [PAD] [PAD] [PAD] [PAD] [PAD] [PAD] [PAD] [PAD] [PAD] [PAD] [PAD] [PAD] [PAD] [PAD]\",\n",
              " \"[CLS] He needs to make it so people stop relying on him as the bat ##man . If they think that he ' s dead , they will solve their [SEP] And Alfred had already proven that he couldn ' t keep a secret for him . . . [SEP]\",\n",
              " '[CLS] For the love of God just vote yes . The only people who want you to vote no are the ones currently making tons of money . They want things to stay the same . [SEP] Say no to drug money for schools and roads [SEP] [PAD] [PAD] [PAD]',\n",
              " \"[CLS] Aren ' t you getting your $ 11 , 000 government funded hair ##cut ? [SEP] Guess I ' m in the wrong here [SEP] [PAD] [PAD] [PAD] [PAD] [PAD] [PAD] [PAD] [PAD] [PAD] [PAD] [PAD] [PAD] [PAD] [PAD] [PAD] [PAD] [PAD] [PAD] [PAD] [PAD] [PAD] [PAD] [PAD] [PAD]\",\n",
              " \"[CLS] I ' m gonna call it as Am ##way . [SEP] But they ' re not a pyramid scheme ! [SEP] [PAD] [PAD] [PAD] [PAD] [PAD] [PAD] [PAD] [PAD] [PAD] [PAD] [PAD] [PAD] [PAD] [PAD] [PAD] [PAD] [PAD] [PAD] [PAD] [PAD] [PAD] [PAD] [PAD] [PAD] [PAD] [PAD] [PAD] [PAD]\",\n",
              " '[CLS] Simple explanation : you can \\' t un - become black , or Chinese , or Arab . You can stop being a red ##neck . Therefore it isn \\' t a \" race \" ; at best [SEP] So you thinks it \\' s a choice ? [SEP]',\n",
              " \"[CLS] Everyone asks about the best engine , but I wonder : What ' s the best transmission ? The only high - powered cars that I ' ve owned have both been A ##WD cars , and my future purchases [SEP] Da ##t Te ##sla Roads ##ter transmission [SEP]\",\n",
              " \"[CLS] What I am stuck looking at when I drive [SEP] I think that ' s a pre - printed stick ##er and they are supposed to check one of the two lines . [SEP] [PAD] [PAD] [PAD] [PAD] [PAD] [PAD] [PAD] [PAD] [PAD] [PAD] [PAD] [PAD] [PAD] [PAD] [PAD]\",\n",
              " '[CLS] Hopefully this is fixed for launch 30 ##h ##z lo ##l CR ##Y ! ! [SEP] The de ##v ##s just want us to experience true cinema ##tic gameplay [SEP] [PAD] [PAD] [PAD] [PAD] [PAD] [PAD] [PAD] [PAD] [PAD] [PAD] [PAD] [PAD] [PAD] [PAD] [PAD] [PAD] [PAD] [PAD] [PAD]',\n",
              " '[CLS] BR ##EA ##K ##ING NE ##WS : Shooting ##s reported at Florida nightclub [SEP] time for more ban ##s . . . [SEP] [PAD] [PAD] [PAD] [PAD] [PAD] [PAD] [PAD] [PAD] [PAD] [PAD] [PAD] [PAD] [PAD] [PAD] [PAD] [PAD] [PAD] [PAD] [PAD] [PAD] [PAD] [PAD] [PAD] [PAD] [PAD] [PAD]',\n",
              " \"[CLS] Why not just flat out ask them for a list of things they might want , rather than being sneak ##y about it ? [SEP] Because then it wouldn ' t make for a genius LP ##T [SEP] [PAD] [PAD] [PAD] [PAD] [PAD] [PAD] [PAD] [PAD] [PAD] [PAD] [PAD]\",\n",
              " \"[CLS] What ' s up with these Monastery Swift ##sp ##ear ##s ? They appear to be three different shades ! [SEP] Clearly you have 3 fake ##s , as color variation is the sure ##st way to positively ID fake Magic cards . [SEP] [PAD] [PAD] [PAD] [PAD] [PAD]\",\n",
              " \"[CLS] If you ' re going to beg at least know what games are : ) [SEP] What do you mean a joke ? I played Sands ##tor ##m by Dar ##ude ( check out their games , they ' re an awesome developer ) and really enjoyed it [SEP]\",\n",
              " '[CLS] Is having shit ##ty , neon - coloured hair a requirement for working in \" Gaming Journalism \" now ? [SEP] Yeah , fuck that guy ! [SEP] [PAD] [PAD] [PAD] [PAD] [PAD] [PAD] [PAD] [PAD] [PAD] [PAD] [PAD] [PAD] [PAD] [PAD] [PAD] [PAD] [PAD] [PAD] [PAD] [PAD] [PAD]',\n",
              " '[CLS] Most notable line from Rogers : \" I don \\' t want to go to Chicago . . . \" [SEP] Maybe DC can come into the trade picture , so that Ben can have a new option to give Legend Lion ##ard Pa ##joy the ball , [SEP]',\n",
              " '[CLS] NL ##DS Game 4 : St . Louis Cardinals @ Chicago Cubs * * Cardinals Line ##up * * 1 ) Carpenter , 3 ##B 2 ) Pi ##sco ##tty , 1 ##B 3 ) Ho ##lli ##day , L ##F 4 [SEP] A ##wes ##ome slide Cruz [SEP]',\n",
              " \"[CLS] Man that ' s al ##ot of bird p ##oop [SEP] Don ' t count on it being cleaned up either ! [SEP] [PAD] [PAD] [PAD] [PAD] [PAD] [PAD] [PAD] [PAD] [PAD] [PAD] [PAD] [PAD] [PAD] [PAD] [PAD] [PAD] [PAD] [PAD] [PAD] [PAD] [PAD] [PAD] [PAD] [PAD] [PAD] [PAD]\",\n",
              " \"[CLS] J ##DM ' s thoughts on the failed US ##P hit detection . [SEP] He was probably just al ##t ta ##bbed out while def ##using . [SEP] [PAD] [PAD] [PAD] [PAD] [PAD] [PAD] [PAD] [PAD] [PAD] [PAD] [PAD] [PAD] [PAD] [PAD] [PAD] [PAD] [PAD] [PAD] [PAD] [PAD] [PAD]\",\n",
              " '[CLS] Oh , YouTube . [SEP] in their defense it was related to the video [SEP] [PAD] [PAD] [PAD] [PAD] [PAD] [PAD] [PAD] [PAD] [PAD] [PAD] [PAD] [PAD] [PAD] [PAD] [PAD] [PAD] [PAD] [PAD] [PAD] [PAD] [PAD] [PAD] [PAD] [PAD] [PAD] [PAD] [PAD] [PAD] [PAD] [PAD] [PAD] [PAD] [PAD] [PAD]',\n",
              " \"[CLS] Park Rules and being clean . Last night our area ' s favorite p ##oke ##mon gathering place was visited by the local police . He was kind , but he reminded people that they [SEP] Thank god you did a PS ##A about this . . . [SEP]\",\n",
              " \"[CLS] Unless the Spurs sweep the playoffs [SEP] With the way things are going , Sacramento may be San Antonio ' s only competition by the end of the off season . . . S ##we ##ep could happen [SEP] [PAD] [PAD] [PAD] [PAD] [PAD] [PAD] [PAD] [PAD] [PAD] [PAD]\",\n",
              " '[CLS] Yeah , he completely missed the point there . [SEP] he probably got confused with all the tech ##no b ##ab ##ble , to many big words like frames and seconds . [SEP] [PAD] [PAD] [PAD] [PAD] [PAD] [PAD] [PAD] [PAD] [PAD] [PAD] [PAD] [PAD] [PAD] [PAD] [PAD] [PAD]',\n",
              " \"[CLS] Dar ##shan carried the shit out of that fight [SEP] he can ' t play tanks th ##o [SEP] [PAD] [PAD] [PAD] [PAD] [PAD] [PAD] [PAD] [PAD] [PAD] [PAD] [PAD] [PAD] [PAD] [PAD] [PAD] [PAD] [PAD] [PAD] [PAD] [PAD] [PAD] [PAD] [PAD] [PAD] [PAD] [PAD] [PAD] [PAD] [PAD] [PAD]\",\n",
              " \"[CLS] What are 3 s ##tat points you would like to see floating above people ' s heads ? [SEP] [ approach ##ability ] so I know who to avoid [ emotion ] [ gender ] so I don ' t use the wrong pro ##no ##uns [SEP] [PAD] [PAD]\",\n",
              " '[CLS] G ##rap ##pling hook & l ##t ; 3 [SEP] Wow Titan ##fall 2 looks great ! [SEP] [PAD] [PAD] [PAD] [PAD] [PAD] [PAD] [PAD] [PAD] [PAD] [PAD] [PAD] [PAD] [PAD] [PAD] [PAD] [PAD] [PAD] [PAD] [PAD] [PAD] [PAD] [PAD] [PAD] [PAD] [PAD] [PAD] [PAD] [PAD] [PAD] [PAD] [PAD]',\n",
              " \"[CLS] Low energy users in Queensland hit with ta ##riff ##s of 72 ##c / kW ##h [SEP] That ' ll teach those p ##es ##ky home rent ##ing f ##rug ##al pension ##ers who have to be uncomfortably cold to save money by not using any form of [SEP]\",\n",
              " '[CLS] I want five Mormon families to be put on a reality show where they have to live Biblical ##ly for a year , following all the rules and punishment ##s , so they can [SEP] I want to come and stone their di ##so ##bed ##ient daughters . [SEP]',\n",
              " '[CLS] Chi ##cha ##rito Goal vs Barcelona ( 1 - 1 ) [SEP] MLS defending [SEP] [PAD] [PAD] [PAD] [PAD] [PAD] [PAD] [PAD] [PAD] [PAD] [PAD] [PAD] [PAD] [PAD] [PAD] [PAD] [PAD] [PAD] [PAD] [PAD] [PAD] [PAD] [PAD] [PAD] [PAD] [PAD] [PAD] [PAD] [PAD] [PAD] [PAD] [PAD] [PAD] [PAD] [PAD]',\n",
              " \"[CLS] Looking for some tips to win the F ##UT draft I ' ve entered the draft about 10 / 11 times and my best [SEP] T ##ip # 1 - Play a team that has fuck ##all ch ##em T ##ip # 2 - Make sure said team [SEP]\",\n",
              " '[CLS] not r ##yan p ##ls [SEP] I hear punt ##er are putting a big den ##t in the salary cap [SEP] [PAD] [PAD] [PAD] [PAD] [PAD] [PAD] [PAD] [PAD] [PAD] [PAD] [PAD] [PAD] [PAD] [PAD] [PAD] [PAD] [PAD] [PAD] [PAD] [PAD] [PAD] [PAD] [PAD] [PAD] [PAD] [PAD] [PAD] [PAD]',\n",
              " \"[CLS] Hillary Clinton has pneumonia , doctor says [SEP] ' pneumonia ' sure , that ' s what it is . [SEP] [PAD] [PAD] [PAD] [PAD] [PAD] [PAD] [PAD] [PAD] [PAD] [PAD] [PAD] [PAD] [PAD] [PAD] [PAD] [PAD] [PAD] [PAD] [PAD] [PAD] [PAD] [PAD] [PAD] [PAD] [PAD] [PAD] [PAD] [PAD]\",\n",
              " \"[CLS] Oh god , they brought back some shit . I ' m happy I didn ' t get Ghosts . [SEP] How dare they bring back popular things , g ##rr ! [SEP] [PAD] [PAD] [PAD] [PAD] [PAD] [PAD] [PAD] [PAD] [PAD] [PAD] [PAD] [PAD] [PAD] [PAD] [PAD] [PAD]\",\n",
              " '[CLS] Why do they even plan for 10 years in advance when they know that the plan will be adjusted the next year ? If they are not going to stick to [SEP] Clearly the USSR had the right idea with * * 5 * * year plans . [SEP]',\n",
              " \"[CLS] These are fake ##s too yeah ? Advertising on ins ##ta [SEP] na ##h br ##o they ' re leg ##it how else would they get an ad on ins ##tag ##ram [SEP] [PAD] [PAD] [PAD] [PAD] [PAD] [PAD] [PAD] [PAD] [PAD] [PAD] [PAD] [PAD] [PAD] [PAD] [PAD] [PAD]\",\n",
              " \"[CLS] If you require salt and pepper and butter on your steak , you aren ' t cooking your steak properly . See how stupid that [SEP] Yeah , because b ##ast ##ing steak and covering a steak in k ##et ##chu ##p are the exact same thing . [SEP]\",\n",
              " '[CLS] YouTube ##r Cry ##ao ##tic is an insane Internet stalk ##er to a 17 year old girl all because she broke up with his cousin Travis ! [SEP] \\\\ # SC ##AN ##D ##LE Seems leg ##it [SEP] [PAD] [PAD] [PAD] [PAD] [PAD] [PAD] [PAD] [PAD] [PAD] [PAD] [PAD]',\n",
              " '[CLS] You can even see the food he is asking for in the original video . [SEP] I ##d ##k . . That food certainly looks like a lock for regular attendees to be able to open for some reason . [SEP] [PAD] [PAD] [PAD] [PAD] [PAD] [PAD] [PAD] [PAD]',\n",
              " \"[CLS] They tended to snap the rope , so we had to go with the standard ta ##r - and - feather . [SEP] After that ' s done we : p ##luck , clean , and deep - f ##ry the fat fuck ##s before they ' re [SEP]\",\n",
              " '[CLS] ^ This is so wrong in many aspects [SEP] Great point ! [SEP] [PAD] [PAD] [PAD] [PAD] [PAD] [PAD] [PAD] [PAD] [PAD] [PAD] [PAD] [PAD] [PAD] [PAD] [PAD] [PAD] [PAD] [PAD] [PAD] [PAD] [PAD] [PAD] [PAD] [PAD] [PAD] [PAD] [PAD] [PAD] [PAD] [PAD] [PAD] [PAD] [PAD] [PAD] [PAD] [PAD]',\n",
              " '[CLS] Well the Indian government wishes to split the site to honor both men . This is a small group of Indians who wish to erase the memory that Or ##well lived there , they do not [SEP] Ah yes , the no true in ##dian fall ##acy . [SEP]',\n",
              " '[CLS] G ##ro ##en ##L ##ink ##s : g ##ro ##ene k ##oe ##rs ma ##g ten k ##ost ##e van e ##con ##omi [SEP] Je ##ej , al ##s i ##k e ##ind ##eli ##jk specialist ben z ##it i ##k met e ##en ton studies ##chu ##ld [SEP]',\n",
              " \"[CLS] Jon Stewart just named dropped Bray Wyatt , the Us ##os , Re ##ign ##s and Bruno Sam ##mart ##ino in a bit . [SEP] Hmm ##mm na ##w ##w ##w you don ' t wanna mention D - B ##ry you wanna mention Roman Re ##ign ##s [SEP]\",\n",
              " '[CLS] E ##h . . . I assume you don \\' t re ##load so I will spare you the snow ##f ##lake ##s * * * * [SEP] . 30 - 06 is quite clearly better then . 308 cause you get to say \" au ##ght \" [SEP]',\n",
              " \"[CLS] Already not exactly on the public ' s good side after its slow expansion of usage caps and net neutrality tap dance routine , Co ##m [SEP] Wow , so glad the FCC is rest ##rain ##ing them like everyone said they would a few months back . [SEP]\",\n",
              " \"[CLS] This is pretty r ##ac ##i - oh wait . Rev ##erse racism isn ' t a thing , I forgot . [SEP] you can ' t be racist to white people you sex ##isi ##t [SEP] [PAD] [PAD] [PAD] [PAD] [PAD] [PAD] [PAD] [PAD] [PAD] [PAD] [PAD] [PAD]\",\n",
              " '[CLS] Taylor Swift interview in which she is gas ##sy ? [SEP] L ##OL ##Z SH ##E FA ##RT ##Z ##S G ##UI ##S O ##MG TO ##TA ##LL ##Y UN ##EX ##P ##EC ##TE ##D L ##OL ##OL ##L ##O ##OL ##L TO ##TA ##LL ##Y NO ##T [SEP]',\n",
              " '[CLS] C ##lev ##er iPhone A ##pp Turn ##s Everyone Into a R ##ov ##ing Weather Reporter [SEP] Dev ##elo ##pers hate him . [SEP] [PAD] [PAD] [PAD] [PAD] [PAD] [PAD] [PAD] [PAD] [PAD] [PAD] [PAD] [PAD] [PAD] [PAD] [PAD] [PAD] [PAD] [PAD] [PAD] [PAD] [PAD] [PAD] [PAD] [PAD] [PAD]',\n",
              " \"[CLS] Can I get your last name ? [SEP] I love how he never addresses the fake number he creates to message after he was blocked . . . because yeah that ' s normal . [SEP] [PAD] [PAD] [PAD] [PAD] [PAD] [PAD] [PAD] [PAD] [PAD] [PAD] [PAD] [PAD] [PAD]\",\n",
              " '[CLS] I see you guys are setting a low bar for this young fell ##a [SEP] Is it too much to ask for him to become a once - in - a - generation corner ##back ? [SEP] [PAD] [PAD] [PAD] [PAD] [PAD] [PAD] [PAD] [PAD] [PAD] [PAD] [PAD] [PAD]',\n",
              " '[CLS] Korean Vin ##dict ##us advertising new contents . . . wait a second . . . is that . . . ? [SEP] De ##fin ##ite ##ly not a copy ##pas ##ta . [SEP] [PAD] [PAD] [PAD] [PAD] [PAD] [PAD] [PAD] [PAD] [PAD] [PAD] [PAD] [PAD] [PAD] [PAD] [PAD]',\n",
              " \"[CLS] So what ' s the excuse for leaving his feet ? Not sure how Page ##au ends up with a bloody nose if the hit was clean . [SEP] Maybe the entire ice surface and arena seats except for Z shifted down about a foot . [SEP] [PAD] [PAD]\",\n",
              " \"[CLS] Anti - G ##G ##er accidentally confirms Di ##GR ##A has promoting feminism in the industry for over a decade [SEP] Of course they ' d promote the idea that women are people , why wouldn ' t they ? [SEP] [PAD] [PAD] [PAD] [PAD] [PAD] [PAD] [PAD] [PAD]\",\n",
              " \"[CLS] I ' m sure The Evil Muslims are behind this somehow . [SEP] E ##vide ##ntly I should have added [SEP] [PAD] [PAD] [PAD] [PAD] [PAD] [PAD] [PAD] [PAD] [PAD] [PAD] [PAD] [PAD] [PAD] [PAD] [PAD] [PAD] [PAD] [PAD] [PAD] [PAD] [PAD] [PAD] [PAD] [PAD] [PAD] [PAD] [PAD] [PAD]\",\n",
              " \"[CLS] Really ? Men are such brain dead cave ##men mouth ##bre ##ather ##s that people consider there to be a correlation between either being OK with [SEP] Yeah if I don ' t mast ##ur ##bate at least twice a day I start getting all rape ##y . [SEP]\",\n",
              " \"[CLS] Well , I was mostly the annoying s ##k ##ru ##b at meetings when I first started : P [SEP] Aren ' t you still that ? [SEP] [PAD] [PAD] [PAD] [PAD] [PAD] [PAD] [PAD] [PAD] [PAD] [PAD] [PAD] [PAD] [PAD] [PAD] [PAD] [PAD] [PAD] [PAD] [PAD] [PAD] [PAD]\",\n",
              " '[CLS] Oh good another thing to buy [SEP] Yeah i like having an adapt ##er in my p ##oke ##t everywhere i go [SEP] [PAD] [PAD] [PAD] [PAD] [PAD] [PAD] [PAD] [PAD] [PAD] [PAD] [PAD] [PAD] [PAD] [PAD] [PAD] [PAD] [PAD] [PAD] [PAD] [PAD] [PAD] [PAD] [PAD] [PAD] [PAD] [PAD]',\n",
              " '[CLS] Bridge ##water a top 3 q ##b ? Who ##se spot he taking ? [SEP] Aaron Rodgers du ##h [SEP] [PAD] [PAD] [PAD] [PAD] [PAD] [PAD] [PAD] [PAD] [PAD] [PAD] [PAD] [PAD] [PAD] [PAD] [PAD] [PAD] [PAD] [PAD] [PAD] [PAD] [PAD] [PAD] [PAD] [PAD] [PAD] [PAD] [PAD] [PAD] [PAD]',\n",
              " \"[CLS] This type of article is a circle ##jer ##k aimed at stroking game ##rs ego ##s . For some reason game ##rs think they are very smart . I ' m a [SEP] Likewise , I am not a game ##r , and I am definitely above average [SEP]\",\n",
              " '[CLS] Are the cars remote controlled , or are there people in the cars driving them ? [SEP] Re ##mote controlled by us via a controller or keyboard & am ##p ; mouse [SEP] [PAD] [PAD] [PAD] [PAD] [PAD] [PAD] [PAD] [PAD] [PAD] [PAD] [PAD] [PAD] [PAD] [PAD] [PAD] [PAD]',\n",
              " \"[CLS] A career VP . . . I ' m sure that ' s what he wants to be known as . ; ) [SEP] I thought Sanders wanted a book deal and a show on MS ##NBC . [SEP] [PAD] [PAD] [PAD] [PAD] [PAD] [PAD] [PAD] [PAD] [PAD] [PAD]\",\n",
              " \"[CLS] Why not though ? If you can ' t par ##ry your opponent then you can s ##tas ##h the shield and two - hand it . Then again I ' m mostly playing P ##v ##E r ##n rather than [SEP] Oh sorry , I forgot my [SEP]\",\n",
              " '[CLS] At least the bottom one is female . . . [SEP] Yeah , thank god ! [SEP] [PAD] [PAD] [PAD] [PAD] [PAD] [PAD] [PAD] [PAD] [PAD] [PAD] [PAD] [PAD] [PAD] [PAD] [PAD] [PAD] [PAD] [PAD] [PAD] [PAD] [PAD] [PAD] [PAD] [PAD] [PAD] [PAD] [PAD] [PAD] [PAD] [PAD] [PAD] [PAD]',\n",
              " '[CLS] So I went to the Wii Fi ##t U Mi ##ivers ##e . Am I missing something here ? NO ##NE of the posts on there are about Wii Fi ##t U . [SEP] actual w ##ii fit u topics . . . how exciting . [SEP] [PAD] [PAD]',\n",
              " \"[CLS] She came to me a few months after the fact saying that she needed a negative opinion of her for a paper , and [SEP] Wow she must be a really cool person if she could ##en ' t find a S ##ING ##LE person with a negative [SEP]\",\n",
              " '[CLS] What does it mean when a guy wants to film the deed during a one night stand ? [SEP] It means he loves you as he has loved no other before , and never will again , and fears that you will reject him and he will never [SEP]',\n",
              " '[CLS] just when you start getting l ##ull ##ed into accepting the o ##m ##ni ##p ##res ##ent b ##our ##ge ##ois myth of \" everything is perfectly fine \" pushed by their aggressive branding and advertising , into thinking that [SEP] Free market works in mysterious ways . [SEP]',\n",
              " \"[CLS] I do often think that I am much smart ##er than everyone else but in reality IN ##TP ' s are just ego ##tist ##ical . The other types don ' t [SEP] Nah , I ' m pretty sure everyone else ' s thoughts just suck . [SEP]\",\n",
              " \"[CLS] Wasn ' t that the buzz ##er beating put ##back off a Kobe miss ? I miss those days . [SEP] You mean off the Kobe pass ? [SEP] [PAD] [PAD] [PAD] [PAD] [PAD] [PAD] [PAD] [PAD] [PAD] [PAD] [PAD] [PAD] [PAD] [PAD] [PAD] [PAD] [PAD] [PAD] [PAD] [PAD]\",\n",
              " '[CLS] Should ask Riot for 1 R ##P [SEP] that would be too generous for riot [SEP] [PAD] [PAD] [PAD] [PAD] [PAD] [PAD] [PAD] [PAD] [PAD] [PAD] [PAD] [PAD] [PAD] [PAD] [PAD] [PAD] [PAD] [PAD] [PAD] [PAD] [PAD] [PAD] [PAD] [PAD] [PAD] [PAD] [PAD] [PAD] [PAD] [PAD] [PAD] [PAD] [PAD]',\n",
              " \"[CLS] Aren ' t there so many more important child protection issues to solve than this . Most c ##ir ##cum ##cise ##d men are fine , as are most un ##ci ##rc [SEP] Car ##ing about one thing means you can ' t care about another thing ! [SEP]\",\n",
              " \"[CLS] Seriously ! The whole point of a guest is to get their input on the show ! Let them talk g ##ee ##z . [SEP] I ' m hoping both of you guys forgot your [SEP] [PAD] [PAD] [PAD] [PAD] [PAD] [PAD] [PAD] [PAD] [PAD] [PAD] [PAD] [PAD] [PAD]\",\n",
              " '[CLS] Microsoft U ##tility All ##ows Windows 10 Home Users to Block Un ##wan ##ted Up ##dates [SEP] Windows 10 literally perfect now . . [SEP] [PAD] [PAD] [PAD] [PAD] [PAD] [PAD] [PAD] [PAD] [PAD] [PAD] [PAD] [PAD] [PAD] [PAD] [PAD] [PAD] [PAD] [PAD] [PAD] [PAD] [PAD] [PAD] [PAD] [PAD]',\n",
              " '[CLS] Disc ##rim ##ination based on gender , sexual orientation , or anything of that sort . [SEP] typical c ##is straight white male response [SEP] [PAD] [PAD] [PAD] [PAD] [PAD] [PAD] [PAD] [PAD] [PAD] [PAD] [PAD] [PAD] [PAD] [PAD] [PAD] [PAD] [PAD] [PAD] [PAD] [PAD] [PAD] [PAD] [PAD] [PAD]',\n",
              " \"[CLS] D ##IC ##E : Please tell me this is unofficial . . . It looks H ##OR ##RI ##BL ##E [SEP] Well thank God that guy doesn ' t reflect badly on us people ( Team Europe ) with the same clan ##tag . [SEP] [PAD] [PAD] [PAD] [PAD]\",\n",
              " '[CLS] How could this have been done ? ? ? ? [SEP] You know , I think there was a hole in the ground here out of frame . [SEP] [PAD] [PAD] [PAD] [PAD] [PAD] [PAD] [PAD] [PAD] [PAD] [PAD] [PAD] [PAD] [PAD] [PAD] [PAD] [PAD] [PAD] [PAD] [PAD] [PAD]',\n",
              " '[CLS] I hope we can go back to calling them \" m ##uss ##el ##men , \" though . [SEP] I \\' m hoping for a return of \\' sa ##race ##n \\' honestly [SEP] [PAD] [PAD] [PAD] [PAD] [PAD] [PAD] [PAD] [PAD] [PAD] [PAD] [PAD] [PAD] [PAD] [PAD] [PAD]',\n",
              " '[CLS] BP is doing an amazing job cleaning up the oil spill and getting the local businesses back on their feet again . [SEP] Lea ##rn how BP is helping [SEP] [PAD] [PAD] [PAD] [PAD] [PAD] [PAD] [PAD] [PAD] [PAD] [PAD] [PAD] [PAD] [PAD] [PAD] [PAD] [PAD] [PAD] [PAD] [PAD]',\n",
              " '[CLS] Hidden feature [SEP] Mark ##ed will not fix ; working as intended . [SEP] [PAD] [PAD] [PAD] [PAD] [PAD] [PAD] [PAD] [PAD] [PAD] [PAD] [PAD] [PAD] [PAD] [PAD] [PAD] [PAD] [PAD] [PAD] [PAD] [PAD] [PAD] [PAD] [PAD] [PAD] [PAD] [PAD] [PAD] [PAD] [PAD] [PAD] [PAD] [PAD] [PAD] [PAD] [PAD]',\n",
              " \"[CLS] What a great contribution to the discussion . Tell me : how do you deal with the slight probability that you end up in [SEP] What if they ' re wearing level II ##a armor ( because it stops the most rounds ) with two trauma plates duct [SEP]\",\n",
              " \"[CLS] As usual , foreign media outlets will only headline controversial statements . They ' ll convenient ##ly leave out : - du ##ter ##te ' s justification ##s [SEP] This statements taken out of context * again * will give a wrong impression , bias an ##g BBC [SEP]\",\n",
              " \"[CLS] They do , it ' s called math , you just have to apply it to the real world . The only thing that isn ' t straightforward is [SEP] Yeah I ' m sure calculus will really help me with how to open a bank account . [SEP]\",\n",
              " \"[CLS] They ' ve been verified , that ' s part of why they have the V ##eri ##fied Media fl ##air . : ) [SEP] Now all they need is to add SEC fl ##air ! [SEP] [PAD] [PAD] [PAD] [PAD] [PAD] [PAD] [PAD] [PAD] [PAD] [PAD] [PAD] [PAD]\",\n",
              " '[CLS] Good News America , Le ##go Marvel may delayed in Europe only . [SEP] Finally , some good news for you Americans as opposed to the usual announcement ##s that features will be postponed in America . [SEP] [PAD] [PAD] [PAD] [PAD] [PAD] [PAD] [PAD] [PAD] [PAD] [PAD] [PAD]',\n",
              " '[CLS] Hey , you want to get a pizza tonight after work ? [SEP] If by \" get a pizza \" you mean participate in a Satan ##ic ritual and then do some pay - to - play IS ##IS funding , then I know what you mean . [SEP]',\n",
              " \"[CLS] W ##TF my P ##OS ##T ? [SEP] Yeah , because you ' re the only one here that can think up threads like this . . . [SEP] [PAD] [PAD] [PAD] [PAD] [PAD] [PAD] [PAD] [PAD] [PAD] [PAD] [PAD] [PAD] [PAD] [PAD] [PAD] [PAD] [PAD] [PAD] [PAD] [PAD]\",\n",
              " '[CLS] This is why I have a problem with the \" affordable health care act \" . [SEP] ya , it should just be a set price , and if you can ##t afford it , we let you die . [SEP] [PAD] [PAD] [PAD] [PAD] [PAD] [PAD] [PAD] [PAD]',\n",
              " \"[CLS] There is also no writers name attached to the article . I don ' t think it ' s a real newspaper . [SEP] Plus it claims that it was written at at 4 : 17 pm today and its only 9 am here ! [SEP] [PAD] [PAD] [PAD]\",\n",
              " \"[CLS] YouTube isn ' t even profitable , so that would be no one . [SEP] well if you lot would just stop using ad ##block ##ers [SEP] [PAD] [PAD] [PAD] [PAD] [PAD] [PAD] [PAD] [PAD] [PAD] [PAD] [PAD] [PAD] [PAD] [PAD] [PAD] [PAD] [PAD] [PAD] [PAD] [PAD] [PAD] [PAD]\",\n",
              " '[CLS] You are correct . They posted \" What could this be ? A tunnel to a strange land ? Or just a new piece of [SEP] That \\' s way above the average intelligence of the Run ##es ##cape community , you set your standards too high . [SEP]',\n",
              " \"[CLS] That A ##w ##k ##ward Moment When the Steam Forum ##s are more civil ##ized than this sub . [SEP] No , you don ' t understand , someone else on my team having 4 more stability than me ruins my P ##v ##E experience [SEP] [PAD] [PAD] [PAD]\",\n",
              " '[CLS] what happened to t ##j grant ? I remember he was killing it , seemed like he was gonna fight for the title and [SEP] oh you know , he fake ##d a concussion two years ago so the u ##f ##c can have a more favorable match [SEP]',\n",
              " \"[CLS] TD ##K ##R = The Dark Knight Rise ##s [SEP] Oh man , thanks , I thought it was Teenage Don ##key ##s Kara ##te Remix , and I wasn ' t understanding the title until I read your comment . [SEP] [PAD] [PAD] [PAD] [PAD] [PAD] [PAD] [PAD]\",\n",
              " '[CLS] F / A - 18 Super Horne ##t Back ##fire ##d Speed T ##rap [SEP] Because Horne ##ts often cruise the San Diego area ( or anywhere ) with Ha ##rms or Shri ##kes . [SEP] [PAD] [PAD] [PAD] [PAD] [PAD] [PAD] [PAD] [PAD] [PAD] [PAD] [PAD] [PAD] [PAD]',\n",
              " '[CLS] The company whose tour bus crashed on Interstate 95 at the West ##chester - Bronx border killing 14 passengers has been cited for fatigue ##d driving often enough in recent years that it was [SEP] So the company was pressure ##d into an accident by government harassment . [SEP]',\n",
              " '[CLS] They just roll this out , without any testing ? [SEP] What could possibly go wrong ? [SEP] [PAD] [PAD] [PAD] [PAD] [PAD] [PAD] [PAD] [PAD] [PAD] [PAD] [PAD] [PAD] [PAD] [PAD] [PAD] [PAD] [PAD] [PAD] [PAD] [PAD] [PAD] [PAD] [PAD] [PAD] [PAD] [PAD] [PAD] [PAD] [PAD] [PAD] [PAD]',\n",
              " '[CLS] When people decide to be shit ##ty at Ya ##ka [SEP] At least he warned you [SEP] [PAD] [PAD] [PAD] [PAD] [PAD] [PAD] [PAD] [PAD] [PAD] [PAD] [PAD] [PAD] [PAD] [PAD] [PAD] [PAD] [PAD] [PAD] [PAD] [PAD] [PAD] [PAD] [PAD] [PAD] [PAD] [PAD] [PAD] [PAD] [PAD] [PAD] [PAD] [PAD]',\n",
              " \"[CLS] You really don ' t think three men in their late 40 ' s - 60 ' s can ' t name the mascot [SEP] Well , you ' re a college football fan who doesn ' t know that Iowa and Iowa State are in one singular [SEP]\",\n",
              " '[CLS] Another foot in mouth moment from Camp ##ese [SEP] I hate women sports j ##orn ##iol ##ists [SEP] [PAD] [PAD] [PAD] [PAD] [PAD] [PAD] [PAD] [PAD] [PAD] [PAD] [PAD] [PAD] [PAD] [PAD] [PAD] [PAD] [PAD] [PAD] [PAD] [PAD] [PAD] [PAD] [PAD] [PAD] [PAD] [PAD] [PAD] [PAD] [PAD] [PAD] [PAD]',\n",
              " \"[CLS] Jo ##kes made at another ' s expense are prohibited by the sub ##red ##dit rules . So which part of feeding her son to pigs was the fun ##nies ##t for you ? [SEP] Probably the part where a child died . [SEP] [PAD] [PAD] [PAD] [PAD] [PAD]\",\n",
              " '[CLS] you based your wedding on a t ##v show . hope you ##got pre ##nu ##ps [SEP] right , sharing something special that two people mutually enjoy on their special day sounds like disaster to me too . [SEP] [PAD] [PAD] [PAD] [PAD] [PAD] [PAD] [PAD] [PAD] [PAD] [PAD]',\n",
              " \"[CLS] UK ' s biggest male rape charity Survivor ##s UK has state funding slashed to zero despite 120 % rise in men reporting sexual violence and seeking help [SEP] Don ' t you know men can ' t be raped ? [SEP] [PAD] [PAD] [PAD] [PAD] [PAD] [PAD] [PAD]\",\n",
              " \"[CLS] Who needs fighter jets when you ' ve got IRA sniper ##s ? [SEP] Can ' t tell if [SEP] [PAD] [PAD] [PAD] [PAD] [PAD] [PAD] [PAD] [PAD] [PAD] [PAD] [PAD] [PAD] [PAD] [PAD] [PAD] [PAD] [PAD] [PAD] [PAD] [PAD] [PAD] [PAD] [PAD] [PAD] [PAD] [PAD] [PAD] [PAD] [PAD]\",\n",
              " \"[CLS] The HD ##2 was straight up a black re ##ct ##ang ##le . Doesn ' t get more generic than that . [SEP] That ' s what N ##ex ##us phones look like from the front , therefore it ' s the best look for anything . [SEP] [PAD]\",\n",
              " \"[CLS] That ' s not how 4 ##chan works . [SEP] Come on why would it suddenly not still be there [SEP] [PAD] [PAD] [PAD] [PAD] [PAD] [PAD] [PAD] [PAD] [PAD] [PAD] [PAD] [PAD] [PAD] [PAD] [PAD] [PAD] [PAD] [PAD] [PAD] [PAD] [PAD] [PAD] [PAD] [PAD] [PAD] [PAD] [PAD] [PAD]\",\n",
              " \"[CLS] If she ' s Miss Iceland , why is she holding a sign that says Miss Germany ? [SEP] Miss Iceland was too fat for the picture . [SEP] [PAD] [PAD] [PAD] [PAD] [PAD] [PAD] [PAD] [PAD] [PAD] [PAD] [PAD] [PAD] [PAD] [PAD] [PAD] [PAD] [PAD] [PAD] [PAD] [PAD]\",\n",
              " \"[CLS] Oh man . . . don ' t even joke about that . . . [SEP] R ##IP K ##K ##G O ##MG : ' ( [SEP] [PAD] [PAD] [PAD] [PAD] [PAD] [PAD] [PAD] [PAD] [PAD] [PAD] [PAD] [PAD] [PAD] [PAD] [PAD] [PAD] [PAD] [PAD] [PAD] [PAD] [PAD] [PAD]\",\n",
              " \"[CLS] IT ' S O ##VE ##R G ##U ##Y ##S ! T ##R ##UM ##PS L ##IE ##S AB ##O ##UT H ##IS PA ##ST AR ##E F ##IN ##AL ##L ##Y E ##X ##PO ##SE ##D [SEP] Big if true [SEP] [PAD] [PAD] [PAD] [PAD] [PAD] [PAD] [PAD]\",\n",
              " '[CLS] Ex ##haus ##ted for sure . I ##B ##P could have some fun and keep them on there toes for first b ##o ##7 and s ##wi ##pe second . [SEP] With that much money on the line , playing with fire is always a good idea [SEP] [PAD]',\n",
              " \"[CLS] * Probably why the government doesn ' t try this kind of thing nowadays * . [SEP] Drop ##ped the [SEP] [PAD] [PAD] [PAD] [PAD] [PAD] [PAD] [PAD] [PAD] [PAD] [PAD] [PAD] [PAD] [PAD] [PAD] [PAD] [PAD] [PAD] [PAD] [PAD] [PAD] [PAD] [PAD] [PAD] [PAD] [PAD] [PAD] [PAD] [PAD]\",\n",
              " \"[CLS] Steve Kerr re ##jo ##ices : Can now start both K ##lay and Hard ##en . Now he won ' t have to face any controversy if he decided to start K ##lay [SEP] That ##s fantastic , now I ' ll definitely watch the AS ##G intently [SEP]\",\n",
              " '[CLS] Si - a l ##ua ##t ban p ##e / the _ don ##ald cu al ##a ve ##chi . [SEP] lo ##l / as ##a ii t ##re ##bu ##ie c ##e ca ##uta in ca ##sa a ##ia p ##lina de ne ##bu ##ni : P [SEP]',\n",
              " '[CLS] counter play to assassins is buying defensive items , and do ##dging their skill shots , ah ##ri cannot 100 - 0 without d [SEP] Yu ##p , whenever I see a Ah ##ri or a Z ##ed on the enemy team while playing as AD ##C I [SEP]',\n",
              " \"[CLS] Do you think that Ku ##bo forgot that Ya ##mamoto beat Y ##hwa ##ch ? With the latest revelation ##s about the full extent of Y ##hwa ##ch ' s abilities , [SEP] Yes , I ' m sure Ku ##bo forgot how his own story goes . [SEP]\",\n",
              " '[CLS] Should Fi ##ora use energy ? Why not ? First , realism . Fi ##ora is a trained Fen ##cer out to fight . Co ##mp ##aris ##on this to G ##ara ##gas and Ko ##g . Also , [SEP] Thus thread is getting too much attention . [SEP]',\n",
              " '[CLS] Be at command for a year Re ##quest \" A \" School for the job you want P ##ester your NC until you get it Prof ##it [SEP] Wow you are so very helpful . [SEP] [PAD] [PAD] [PAD] [PAD] [PAD] [PAD] [PAD] [PAD] [PAD] [PAD] [PAD] [PAD] [PAD]',\n",
              " \"[CLS] Bring back awards ! 108 ##0 ##p Game ##rp ##ics from our favourite games would be awesome [SEP] But the x ##bone can ' t do 108 ##0 ##p [SEP] [PAD] [PAD] [PAD] [PAD] [PAD] [PAD] [PAD] [PAD] [PAD] [PAD] [PAD] [PAD] [PAD] [PAD] [PAD] [PAD] [PAD] [PAD] [PAD]\",\n",
              " \"[CLS] I hope this is done with 100 % humor in mind . Although it further cement ##s my belief that Northern ##ers bring up the Civil War 10 [SEP] To be fair , that ' s only because southern ##ers don ' t call it the civil war [SEP]\",\n",
              " \"[CLS] It ' s funny how they can never back up these obvious truth ##s ! [SEP] You goddamn s ##tat ##ist , you * would * think that . [SEP] [PAD] [PAD] [PAD] [PAD] [PAD] [PAD] [PAD] [PAD] [PAD] [PAD] [PAD] [PAD] [PAD] [PAD] [PAD] [PAD] [PAD] [PAD] [PAD]\",\n",
              " '[CLS] Carl needs to make a bit more of an effort [SEP] Carl the cu ##ck ? [SEP] [PAD] [PAD] [PAD] [PAD] [PAD] [PAD] [PAD] [PAD] [PAD] [PAD] [PAD] [PAD] [PAD] [PAD] [PAD] [PAD] [PAD] [PAD] [PAD] [PAD] [PAD] [PAD] [PAD] [PAD] [PAD] [PAD] [PAD] [PAD] [PAD] [PAD] [PAD] [PAD]',\n",
              " \"[CLS] I can confirm it is US only . [SEP] Did you run over to Mexico real quick to see if it ' d work ? [SEP] [PAD] [PAD] [PAD] [PAD] [PAD] [PAD] [PAD] [PAD] [PAD] [PAD] [PAD] [PAD] [PAD] [PAD] [PAD] [PAD] [PAD] [PAD] [PAD] [PAD] [PAD] [PAD] [PAD]\",\n",
              " '[CLS] Its a bit too large for my desk too . [SEP] Not ##hin a hands ##aw , plastic sheets and elbow g ##ree ##se can ##t solve [SEP] [PAD] [PAD] [PAD] [PAD] [PAD] [PAD] [PAD] [PAD] [PAD] [PAD] [PAD] [PAD] [PAD] [PAD] [PAD] [PAD] [PAD] [PAD] [PAD] [PAD] [PAD]',\n",
              " '[CLS] \" if he accidentally cuts off the penis , the punishment is death \" [SEP] Yeah , but it \\' s cleaner . [SEP] [PAD] [PAD] [PAD] [PAD] [PAD] [PAD] [PAD] [PAD] [PAD] [PAD] [PAD] [PAD] [PAD] [PAD] [PAD] [PAD] [PAD] [PAD] [PAD] [PAD] [PAD] [PAD] [PAD] [PAD] [PAD]',\n",
              " '[CLS] you need to look up what the word \" need \" means [SEP] _ _ _ need : a situation in which someone or something must do or have something : something that a person must have : something that is needed in order to live or succeed [SEP]',\n",
              " '[CLS] Record - long U . S . space ##f ##light leaves astronaut feeling sore [SEP] Um , that is from his wife \\' s \" welcome home \" . . . . [SEP] [PAD] [PAD] [PAD] [PAD] [PAD] [PAD] [PAD] [PAD] [PAD] [PAD] [PAD] [PAD] [PAD] [PAD] [PAD] [PAD]',\n",
              " '[CLS] In the kicking and hugging on the floor department , yeah . [SEP] A decent % of the actions then . [SEP] [PAD] [PAD] [PAD] [PAD] [PAD] [PAD] [PAD] [PAD] [PAD] [PAD] [PAD] [PAD] [PAD] [PAD] [PAD] [PAD] [PAD] [PAD] [PAD] [PAD] [PAD] [PAD] [PAD] [PAD] [PAD] [PAD] [PAD]',\n",
              " '[CLS] Was she hot ? [SEP] Yes , truly this is a relevant question . [SEP] [PAD] [PAD] [PAD] [PAD] [PAD] [PAD] [PAD] [PAD] [PAD] [PAD] [PAD] [PAD] [PAD] [PAD] [PAD] [PAD] [PAD] [PAD] [PAD] [PAD] [PAD] [PAD] [PAD] [PAD] [PAD] [PAD] [PAD] [PAD] [PAD] [PAD] [PAD] [PAD] [PAD] [PAD]',\n",
              " '[CLS] Chris Be ##rman . E ##asily the best commentator in the ESPN stable . [SEP] You dropped this [SEP] [PAD] [PAD] [PAD] [PAD] [PAD] [PAD] [PAD] [PAD] [PAD] [PAD] [PAD] [PAD] [PAD] [PAD] [PAD] [PAD] [PAD] [PAD] [PAD] [PAD] [PAD] [PAD] [PAD] [PAD] [PAD] [PAD] [PAD] [PAD] [PAD] [PAD]',\n",
              " \"[CLS] The new Star Trek series will have a more specific title to be unveiled at a later date , according to Variety [SEP] Would ' ve never guessed . [SEP] [PAD] [PAD] [PAD] [PAD] [PAD] [PAD] [PAD] [PAD] [PAD] [PAD] [PAD] [PAD] [PAD] [PAD] [PAD] [PAD] [PAD] [PAD] [PAD]\",\n",
              " \"[CLS] Pick ##ing up my 2 ##k ##16 pre ##ord ##er today , so I know how my weekend will be spent . From what I ' ve seen around Red [SEP] How dare they market a game about a 75 % black sports league to black people ! [SEP]\",\n",
              " \"[CLS] The irony of the Oregon Militia ' s land claim ( saw one like this on F ##B ) [SEP] We stole it fair and square ! [SEP] [PAD] [PAD] [PAD] [PAD] [PAD] [PAD] [PAD] [PAD] [PAD] [PAD] [PAD] [PAD] [PAD] [PAD] [PAD] [PAD] [PAD] [PAD] [PAD] [PAD] [PAD]\",\n",
              " \"[CLS] St ##uff like this would be used for roads in the National or Provincial road networks . It ' s really just roads without o ##bs ##truction , pedestrian ##s or crossing wildlife . Many of these roads already have [SEP] Right all those places without any wildlife [SEP]\",\n",
              " '[CLS] No ##one marries the ugly ones . Or at least noon ##e records it . [SEP] Right , just like us average Joe ##s and Jane ##s in the US are destined to remain single for all eternity . [SEP] [PAD] [PAD] [PAD] [PAD] [PAD] [PAD] [PAD] [PAD] [PAD]',\n",
              " '[CLS] Any chance of One ##P ##lus phone cases soon ? I want this phone , but I want to protect it too , my last [SEP] Case ##s are invite only , but if you break your old case they will give you one for one dollars . [SEP]',\n",
              " '[CLS] People who use \" Inc ##og ##ni ##to Mode \" on your web browser for reasons other than p ##orn , what are those [SEP] so I can \\' t be tracked by my cable provider or governments around the world , so I don \\' t get [SEP]',\n",
              " '[CLS] Steve Nash Had 4 Seasons Shooting . 500 F ##G , . 400 3 ##P ##T , . 900 F ##T . St ##reak from 07 - 08 to 09 - 10 seasons . [SEP] this is news [SEP] [PAD] [PAD] [PAD] [PAD] [PAD] [PAD] [PAD] [PAD] [PAD] [PAD]',\n",
              " '[CLS] Dot ##a Be ##ha ##vior score ? What is a good score and what does it imply ? What exactly is a good score [SEP] the lower the score , the less negative you are , for example , art ##ee ##zy is one of the least negative [SEP]',\n",
              " \"[CLS] The force meat texture is what makes a sa ##usage appealing . You could make your own hot dog and make it more healthy but there isn ' t [SEP] T ##IM ##E TO C ##UT CE ##LE ##R ##Y O ##UT OF M ##Y D ##IE ##T [SEP]\",\n",
              " '[CLS] E ##sea C ##lient making my p ##c la ##g Sometimes when I have the es ##ea client opened my p ##c will start la ##gging , only been happening recently and its also happening to a friend of mine too [SEP] b ##t ##c mining [SEP] [PAD] [PAD]',\n",
              " \"[CLS] For all those celebrating labor day today . . . [SEP] Working holidays is always fun because everybody loves their in ##laws and definitely don ' t get into fights . [SEP] [PAD] [PAD] [PAD] [PAD] [PAD] [PAD] [PAD] [PAD] [PAD] [PAD] [PAD] [PAD] [PAD] [PAD] [PAD] [PAD] [PAD]\",\n",
              " '[CLS] I am so confused by the message in this one . Is grand ##ma saying that rap causes inter ##city violence because the ghosts [SEP] I think the message grand ##ma is trying to get across is \" I don \\' t like black people \" but it [SEP]',\n",
              " '[CLS] I am sick and tired of Bernie Bros and their \" opinions \" about Hillary Clinton ! [SEP] I think you forgot this ; [SEP] [PAD] [PAD] [PAD] [PAD] [PAD] [PAD] [PAD] [PAD] [PAD] [PAD] [PAD] [PAD] [PAD] [PAD] [PAD] [PAD] [PAD] [PAD] [PAD] [PAD] [PAD] [PAD] [PAD] [PAD]',\n",
              " '[CLS] Watch out , you might get dragged down the stairs and then murdered by a p ##olt ##er ##ge ##ist . u _ u [SEP] What do you think this is , Animal Crossing ? [SEP] [PAD] [PAD] [PAD] [PAD] [PAD] [PAD] [PAD] [PAD] [PAD] [PAD] [PAD] [PAD] [PAD]',\n",
              " '[CLS] when and where were the Easter units announced ? [SEP] Around ch ##rist ##mas [SEP] [PAD] [PAD] [PAD] [PAD] [PAD] [PAD] [PAD] [PAD] [PAD] [PAD] [PAD] [PAD] [PAD] [PAD] [PAD] [PAD] [PAD] [PAD] [PAD] [PAD] [PAD] [PAD] [PAD] [PAD] [PAD] [PAD] [PAD] [PAD] [PAD] [PAD] [PAD] [PAD] [PAD] [PAD]',\n",
              " '[CLS] I was wondering about that too . I suspect that some students were leaving because they felt that the atmosphere was awkward and uncomfortable even if they were neutral on the topic . Still , that one girl walked out with the [SEP] 1 Timothy 2 : 9 [SEP]',\n",
              " '[CLS] He apparently can read the matrix [SEP] Obviously it says 2013 in Japanese ka ##ta ##kan ##a . [SEP] [PAD] [PAD] [PAD] [PAD] [PAD] [PAD] [PAD] [PAD] [PAD] [PAD] [PAD] [PAD] [PAD] [PAD] [PAD] [PAD] [PAD] [PAD] [PAD] [PAD] [PAD] [PAD] [PAD] [PAD] [PAD] [PAD] [PAD] [PAD] [PAD] [PAD]',\n",
              " '[CLS] What is the best You ##tub ##e channel to bin ##ge watch ? [SEP] Leaf ##y [SEP] [PAD] [PAD] [PAD] [PAD] [PAD] [PAD] [PAD] [PAD] [PAD] [PAD] [PAD] [PAD] [PAD] [PAD] [PAD] [PAD] [PAD] [PAD] [PAD] [PAD] [PAD] [PAD] [PAD] [PAD] [PAD] [PAD] [PAD] [PAD] [PAD] [PAD] [PAD] [PAD]',\n",
              " \"[CLS] Sc ##rip ##ting is more severe than you expect . Examples of someone caught in the act and how you can detect it . [SEP] why don ' t give the jungle treatment , if its on a 3rd party b ##ot , maybe it should be live [SEP]\",\n",
              " \"[CLS] All T ##RI ##BE ##S games free . [SEP] eh I think I ' ll wait for it to drop in price . [SEP] [PAD] [PAD] [PAD] [PAD] [PAD] [PAD] [PAD] [PAD] [PAD] [PAD] [PAD] [PAD] [PAD] [PAD] [PAD] [PAD] [PAD] [PAD] [PAD] [PAD] [PAD] [PAD] [PAD] [PAD] [PAD]\",\n",
              " \"[CLS] This is how my parents me ##dicated me [SEP] C ##rue ##l and in ##human ##e that they didn ' t just pump you up with drugs and call you a disease , huh ? [SEP] [PAD] [PAD] [PAD] [PAD] [PAD] [PAD] [PAD] [PAD] [PAD] [PAD] [PAD] [PAD] [PAD]\",\n",
              " \"[CLS] He ' s not a white Hispanic . He ' s mixed race Hispanic , he has white , black and la ##tino ancestry . [SEP] No man , he hates blacks . [SEP] [PAD] [PAD] [PAD] [PAD] [PAD] [PAD] [PAD] [PAD] [PAD] [PAD] [PAD] [PAD] [PAD] [PAD] [PAD]\",\n",
              " \"[CLS] Set me a goal to complete and I ' ll post results ! I ' m losing motivation for r ##s so I decided to let r ##s red ##dit set me a reasonable [SEP] Get a set of party ##hat ##s and donate them to me . [SEP]\",\n",
              " '[CLS] And where is their headquarters you ask ? . . . Israel [SEP] How dare you , anti Semi ##te ! [SEP] [PAD] [PAD] [PAD] [PAD] [PAD] [PAD] [PAD] [PAD] [PAD] [PAD] [PAD] [PAD] [PAD] [PAD] [PAD] [PAD] [PAD] [PAD] [PAD] [PAD] [PAD] [PAD] [PAD] [PAD] [PAD] [PAD] [PAD]',\n",
              " '[CLS] Welcome to Red ##dit , where the power of down ##vo ##ting is free and available for everyone to cast . I honestly roll with a few different accounts , each with a purpose , just for that reason [SEP] Sounds like Facebook , that works a treat [SEP]',\n",
              " \"[CLS] We ' re all brain ##wash ##ed by the cult of celebrity and white guilt . It has nothing to do with a moral ##ly bankrupt republican party or their candidate with the ch ##aris ##ma [SEP] It ' s all the voter fraud committed by Democrats ! [SEP]\",\n",
              " '[CLS] Another Republican pretending that most of the people on Welfare are black , when the majority are actually white . [SEP] Il ##lus ##trate ##s the lack of racism endemic in the party . [SEP] [PAD] [PAD] [PAD] [PAD] [PAD] [PAD] [PAD] [PAD] [PAD] [PAD] [PAD] [PAD] [PAD] [PAD]',\n",
              " '[CLS] In my house growing up : \" Help your sister set the table . \" \" No . \" \" Tell me no again and I \\' m gonna beat your fucking ass . [SEP] Wow , your N ##D ##ad , sounds like a do ##uch . [SEP]',\n",
              " \"[CLS] 2014 Was a To ##ugh Year To Be Female - Yeah whatever [SEP] Of course it what , there aren ' t any good men left ! [SEP] [PAD] [PAD] [PAD] [PAD] [PAD] [PAD] [PAD] [PAD] [PAD] [PAD] [PAD] [PAD] [PAD] [PAD] [PAD] [PAD] [PAD] [PAD] [PAD] [PAD] [PAD]\",\n",
              " \"[CLS] It would best for everyone if they did fuck off to G ##al ##t ' s G ##ul ##ch . How can we n ##udge them along ? [SEP] B . . . b ##u . . . but the job creators [SEP] [PAD] [PAD] [PAD] [PAD] [PAD] [PAD]\",\n",
              " '[CLS] El ##ea ##f has a triple 1865 ##0 is ##tick coming out . [SEP] Cha ##rg ##ing will be totally safe too [SEP] [PAD] [PAD] [PAD] [PAD] [PAD] [PAD] [PAD] [PAD] [PAD] [PAD] [PAD] [PAD] [PAD] [PAD] [PAD] [PAD] [PAD] [PAD] [PAD] [PAD] [PAD] [PAD] [PAD] [PAD] [PAD] [PAD]',\n",
              " '[CLS] No we could have just as easily divided the time it takes the earth to rotate by 10 , to have ten hours , that by [SEP] How can we define a day to only have 10 hours if the planet is divided into 24 time zones ? [SEP]',\n",
              " \"[CLS] . . if you ' re white . You try that shit when you ' re black . . . well lets just say it ' s one way to get Al Sharp [SEP] That racist bastard never shows up at white people ' s funeral ##s ! [SEP]\",\n",
              " \"[CLS] Within the context of the Revolution it was necessary . If the immediate members of the Russian royalty hadn ' t been killed , it would have been a possibility [SEP] Well in that case I ' m totally cool with the brutal murder of innocent children . [SEP]\",\n",
              " \"[CLS] The consumer won ' t benefit from the de ##ci ##mation of producer rights . Not in the long term , anyway . [SEP] Yeah , the amount of content being produced totally keeps going down every year . . . [SEP] [PAD] [PAD] [PAD] [PAD] [PAD] [PAD] [PAD]\",\n",
              " \"[CLS] There ' s no more . [SEP] Are you trying to say Liu ##gi doesn ' t start with Li ? [SEP] [PAD] [PAD] [PAD] [PAD] [PAD] [PAD] [PAD] [PAD] [PAD] [PAD] [PAD] [PAD] [PAD] [PAD] [PAD] [PAD] [PAD] [PAD] [PAD] [PAD] [PAD] [PAD] [PAD] [PAD] [PAD] [PAD] [PAD]\",\n",
              " '[CLS] $ 30 ##B is their operating income . Net income after interest expenses and taxes was about $ 18 ##B . [SEP] A pit ##tan ##ce . [SEP] [PAD] [PAD] [PAD] [PAD] [PAD] [PAD] [PAD] [PAD] [PAD] [PAD] [PAD] [PAD] [PAD] [PAD] [PAD] [PAD] [PAD] [PAD] [PAD] [PAD] [PAD]',\n",
              " '[CLS] I resign . [SEP] Does this mean no more Zionist m ##od selective ##ly controlling what news I see on the sub ##red ##dit ? [SEP] [PAD] [PAD] [PAD] [PAD] [PAD] [PAD] [PAD] [PAD] [PAD] [PAD] [PAD] [PAD] [PAD] [PAD] [PAD] [PAD] [PAD] [PAD] [PAD] [PAD] [PAD] [PAD] [PAD]',\n",
              " '[CLS] id say so , garage ##band is awesome , not sure about others . i know on i ##pad its awesome , especially with [SEP] A ##g ##reed , i ##M ##ov ##ie is also great for film production and i ##P ##hot ##o is fantastic for photographers [SEP]',\n",
              " \"[CLS] Oh you [SEP] I got em all day , check my post history . . . I ' m a pretty funny dude [SEP] [PAD] [PAD] [PAD] [PAD] [PAD] [PAD] [PAD] [PAD] [PAD] [PAD] [PAD] [PAD] [PAD] [PAD] [PAD] [PAD] [PAD] [PAD] [PAD] [PAD] [PAD] [PAD] [PAD] [PAD] [PAD]\",\n",
              " \"[CLS] The point with the many shoes is how you can have ones that * express * you . ' Cause shoes should do that . Express yourself by buying expensive shoes . The beautiful freedom ##s of Capital [SEP] This shoe is a part of my personality ! [SEP]\",\n",
              " \"[CLS] Well , at least the K ##ha ##ji ##it females are cute ? [SEP] We ' ll have none - o - that a ##ff ##ron ##t to the Lord in h ##ur ##r . [SEP] [PAD] [PAD] [PAD] [PAD] [PAD] [PAD] [PAD] [PAD] [PAD] [PAD] [PAD] [PAD] [PAD]\",\n",
              " \"[CLS] BA ##D R ##ED ##DI ##T [SEP] Oh , you ' re going to do wonderful ##ly here . [SEP] [PAD] [PAD] [PAD] [PAD] [PAD] [PAD] [PAD] [PAD] [PAD] [PAD] [PAD] [PAD] [PAD] [PAD] [PAD] [PAD] [PAD] [PAD] [PAD] [PAD] [PAD] [PAD] [PAD] [PAD] [PAD] [PAD] [PAD] [PAD] [PAD]\",\n",
              " '[CLS] Laws ##uit challenges constitutional ##ity of male - only draft registration [SEP] This should go a long way in reducing teen pregnancy . [SEP] [PAD] [PAD] [PAD] [PAD] [PAD] [PAD] [PAD] [PAD] [PAD] [PAD] [PAD] [PAD] [PAD] [PAD] [PAD] [PAD] [PAD] [PAD] [PAD] [PAD] [PAD] [PAD] [PAD] [PAD] [PAD]',\n",
              " \"[CLS] Co ##ws ##ep ' s Master Yi Moon ##tage - Sorry Solo Que ##ue [SEP] What is a Moon - tag ##e ? [SEP] [PAD] [PAD] [PAD] [PAD] [PAD] [PAD] [PAD] [PAD] [PAD] [PAD] [PAD] [PAD] [PAD] [PAD] [PAD] [PAD] [PAD] [PAD] [PAD] [PAD] [PAD] [PAD] [PAD] [PAD] [PAD]\",\n",
              " \"[CLS] I know how much hate I ' m going to receive for this comment , but alcohol . It ' s the world ' s dead ##liest drug . Cause ##s a ridiculous [SEP] Yeah , making alcohol illegal sure worked G ##RE ##AT during Pro ##hibition . [SEP]\",\n",
              " \"[CLS] Hyde United are now sponsored by the ##L ##ad ##B ##ible - Modern football couldn ' t get much worse [SEP] Top bit of cheek ##y ban ##ter [SEP] [PAD] [PAD] [PAD] [PAD] [PAD] [PAD] [PAD] [PAD] [PAD] [PAD] [PAD] [PAD] [PAD] [PAD] [PAD] [PAD] [PAD] [PAD] [PAD] [PAD]\",\n",
              " \"[CLS] Just picked these up . Can I hang out with you guys now ? [SEP] Nah they ' re mesh [SEP] [PAD] [PAD] [PAD] [PAD] [PAD] [PAD] [PAD] [PAD] [PAD] [PAD] [PAD] [PAD] [PAD] [PAD] [PAD] [PAD] [PAD] [PAD] [PAD] [PAD] [PAD] [PAD] [PAD] [PAD] [PAD] [PAD] [PAD] [PAD]\",\n",
              " \"[CLS] It ' s almost like red ##dit is a huge place filled with millions of different people ! As if . [SEP] forgot that [SEP] [PAD] [PAD] [PAD] [PAD] [PAD] [PAD] [PAD] [PAD] [PAD] [PAD] [PAD] [PAD] [PAD] [PAD] [PAD] [PAD] [PAD] [PAD] [PAD] [PAD] [PAD] [PAD] [PAD] [PAD]\",\n",
              " \"[CLS] I want that back . [SEP] B - B - B ##UT P ##LA ##NE ##TS ##ID ##E CA ##N ' T MA ##KE CO ##NT ##IN ##U ##O ##US B ##EA ##M W ##EA ##PO ##NS W ##OR ##K [SEP] [PAD] [PAD] [PAD] [PAD] [PAD] [PAD] [PAD] [PAD]\",\n",
              " \"[CLS] This was my show as I was on something with wheels or slid on snow nearly every day of my childhood . Sc ##oot ##ers , skate board , bikes , motorcycles , snow ##board , he ' [SEP] Shoes with wheels , you means skate ##s ? [SEP]\",\n",
              " '[CLS] O ##m ##g a team that make it to the finals last year has a good record this year . . . Who would ##a thought [SEP] Nah man the Spurs are like 48 years old and we only made it to the finals last year because luck [SEP]',\n",
              " '[CLS] Secret p ##ala ##din was the most broken deck to ever exist [SEP] you forgot u ##r [SEP] [PAD] [PAD] [PAD] [PAD] [PAD] [PAD] [PAD] [PAD] [PAD] [PAD] [PAD] [PAD] [PAD] [PAD] [PAD] [PAD] [PAD] [PAD] [PAD] [PAD] [PAD] [PAD] [PAD] [PAD] [PAD] [PAD] [PAD] [PAD] [PAD] [PAD] [PAD]',\n",
              " '[CLS] 3 ##m ##g of 30 ##p ##g / 70 ##v ##g . Thanks ! [SEP] F ##s ##cking neck ##be ##ards putting P ##G before V ##G . [SEP] [PAD] [PAD] [PAD] [PAD] [PAD] [PAD] [PAD] [PAD] [PAD] [PAD] [PAD] [PAD] [PAD] [PAD] [PAD] [PAD] [PAD] [PAD] [PAD] [PAD]',\n",
              " '[CLS] Apple Top ##s Smart ##phone Sa ##tisfaction Rat ##ings for 5th Year in a Row [SEP] P ##ff ##t , they must only be surveying the fan ##boy ##s [SEP] [PAD] [PAD] [PAD] [PAD] [PAD] [PAD] [PAD] [PAD] [PAD] [PAD] [PAD] [PAD] [PAD] [PAD] [PAD] [PAD] [PAD] [PAD] [PAD]',\n",
              " '[CLS] As ##tro ##logy . Ho ##o , boy . Take that shit elsewhere . [SEP] Classic Tau ##rus [SEP] [PAD] [PAD] [PAD] [PAD] [PAD] [PAD] [PAD] [PAD] [PAD] [PAD] [PAD] [PAD] [PAD] [PAD] [PAD] [PAD] [PAD] [PAD] [PAD] [PAD] [PAD] [PAD] [PAD] [PAD] [PAD] [PAD] [PAD] [PAD] [PAD] [PAD]',\n",
              " \"[CLS] Robert Sol ##dad ##o ' s heat map showing his activity from the match against Manchester City [SEP] Sol ##dad ##o , Under ##rated D ##M . [SEP] [PAD] [PAD] [PAD] [PAD] [PAD] [PAD] [PAD] [PAD] [PAD] [PAD] [PAD] [PAD] [PAD] [PAD] [PAD] [PAD] [PAD] [PAD] [PAD] [PAD] [PAD]\",\n",
              " '[CLS] Melville hockey club removes host from its bill ##eting program over transgender granddaughter [SEP] Think Of The Children . . . [SEP] [PAD] [PAD] [PAD] [PAD] [PAD] [PAD] [PAD] [PAD] [PAD] [PAD] [PAD] [PAD] [PAD] [PAD] [PAD] [PAD] [PAD] [PAD] [PAD] [PAD] [PAD] [PAD] [PAD] [PAD] [PAD] [PAD] [PAD]',\n",
              " '[CLS] Read a book ? [SEP] I would but it will drain my phone too fast [SEP] [PAD] [PAD] [PAD] [PAD] [PAD] [PAD] [PAD] [PAD] [PAD] [PAD] [PAD] [PAD] [PAD] [PAD] [PAD] [PAD] [PAD] [PAD] [PAD] [PAD] [PAD] [PAD] [PAD] [PAD] [PAD] [PAD] [PAD] [PAD] [PAD] [PAD] [PAD] [PAD] [PAD]',\n",
              " '[CLS] Rank ##ed confirmed to be down for the rest of the day \" We \\' ve tested our fix against the majority of champions in the time since our last update . [SEP] Oh my god riot is making sure they fixed the problem how horrible of them [SEP]',\n",
              " \"[CLS] Just don ' t . [SEP] Well , that ' s helpful . [SEP] [PAD] [PAD] [PAD] [PAD] [PAD] [PAD] [PAD] [PAD] [PAD] [PAD] [PAD] [PAD] [PAD] [PAD] [PAD] [PAD] [PAD] [PAD] [PAD] [PAD] [PAD] [PAD] [PAD] [PAD] [PAD] [PAD] [PAD] [PAD] [PAD] [PAD] [PAD] [PAD] [PAD] [PAD] [PAD]\",\n",
              " \"[CLS] When you spit out your coffee because it has lump ##s in it . . . [SEP] Now I ' m never getting a cup of coffee from a shop again . . . thanks Red ##dit [SEP] [PAD] [PAD] [PAD] [PAD] [PAD] [PAD] [PAD] [PAD] [PAD] [PAD] [PAD]\",\n",
              " \"[CLS] She ' s also a friend of ours . I hope she ' s reunited soon . [SEP] Good input , I learned a bit more from this . [SEP] [PAD] [PAD] [PAD] [PAD] [PAD] [PAD] [PAD] [PAD] [PAD] [PAD] [PAD] [PAD] [PAD] [PAD] [PAD] [PAD] [PAD] [PAD] [PAD]\",\n",
              " \"[CLS] My daughter was going to her junior pro ##m with a boy I didn ' t know . I figured that she is intelligent so this kid couldn ' t be all bad . He pulls up on a [SEP] Very original and funny if you ask me [SEP]\",\n",
              " \"[CLS] Does having a reputation for being late on deadline ##s hurt ? First se ##m of g ##rad school . I ' d like to know what professors think in general of students who seem to be late for deadline [SEP] No , it helps . . . [SEP]\",\n",
              " \"[CLS] Yeah , no thanks on that part . I ' d keep the game if it didn ' t have that . [SEP] Yeah man I hate P ##ulp Fiction because he has that one line where he re ##cite ##s from the bi ##ble . [SEP] [PAD] [PAD]\",\n",
              " '[CLS] That thumb ##nail [SEP] how else would the face ##book page get any likes ? [SEP] [PAD] [PAD] [PAD] [PAD] [PAD] [PAD] [PAD] [PAD] [PAD] [PAD] [PAD] [PAD] [PAD] [PAD] [PAD] [PAD] [PAD] [PAD] [PAD] [PAD] [PAD] [PAD] [PAD] [PAD] [PAD] [PAD] [PAD] [PAD] [PAD] [PAD] [PAD] [PAD] [PAD]',\n",
              " '[CLS] gonna go out on a limb here and say people gonna blame the j ##ews , its the popular thing to do nowadays . . [SEP] Yes , the only possible reason to suspect Israel in the assassination of a Palestinian leader is anti - Semi ##tism . [SEP]',\n",
              " \"[CLS] Pretty sure the market collapsed in September - October , before the election . [SEP] But Obama was leading in the polls , you see , so people were already assuming he ' d win . [SEP] [PAD] [PAD] [PAD] [PAD] [PAD] [PAD] [PAD] [PAD] [PAD] [PAD] [PAD] [PAD]\",\n",
              " \"[CLS] My god . . . by * that * margin ? That is incredible ! [SEP] that ' s mostly because things take longer to do in C , so there are comments listing out TO ##D ##O [SEP] [PAD] [PAD] [PAD] [PAD] [PAD] [PAD] [PAD] [PAD] [PAD] [PAD]\",\n",
              " \"[CLS] Is Google playing against O ##culus with Google Earth V ##R and T ##ilt B ##rush being H ##TC V ##ive exclusive ##s ? [SEP] I ' m sorry , aren ' t exclusive ##s good for the early V ##R industry ? [SEP] [PAD] [PAD] [PAD] [PAD] [PAD]\",\n",
              " '[CLS] what is the amazing part ? that they fucked the tax ##payers to get it ? ? [SEP] The benefits will trick ##le down soon enough . [SEP] [PAD] [PAD] [PAD] [PAD] [PAD] [PAD] [PAD] [PAD] [PAD] [PAD] [PAD] [PAD] [PAD] [PAD] [PAD] [PAD] [PAD] [PAD] [PAD] [PAD] [PAD]',\n",
              " \"[CLS] Chris St ##uck ##mann ' s Civil War review ( no s ##po ##iler ##s ) [SEP] Another Marvel s ##hill . [SEP] [PAD] [PAD] [PAD] [PAD] [PAD] [PAD] [PAD] [PAD] [PAD] [PAD] [PAD] [PAD] [PAD] [PAD] [PAD] [PAD] [PAD] [PAD] [PAD] [PAD] [PAD] [PAD] [PAD] [PAD] [PAD] [PAD]\",\n",
              " \"[CLS] If it doesn ' t exist it does now because I just made it random internet stranger ! It won ' t have any posts yet but it ' s r / Guess ##T ##hat ##TL ##DR . [SEP] m ##od me [SEP] [PAD] [PAD] [PAD] [PAD] [PAD] [PAD]\",\n",
              " '[CLS] My local sheriff \\' s way of doing business [SEP] I like how they make the general ##ization of \" Drug Deal ##er \" while portraying a very specific Can ##na ##bis Leaf on the front . [SEP] [PAD] [PAD] [PAD] [PAD] [PAD] [PAD] [PAD] [PAD] [PAD] [PAD] [PAD]',\n",
              " \"[CLS] Bulls ##hit . It totally was your intention . Own it . [SEP] man you just * re ##kt ' d * op [SEP] [PAD] [PAD] [PAD] [PAD] [PAD] [PAD] [PAD] [PAD] [PAD] [PAD] [PAD] [PAD] [PAD] [PAD] [PAD] [PAD] [PAD] [PAD] [PAD] [PAD] [PAD] [PAD] [PAD] [PAD] [PAD]\",\n",
              " '[CLS] * * Lee ##pes ##t Do ##re * * Next , we have to determine the significance behind \" Cool Dad \" [SEP] Well , obviously it means that the first G ##em ever was male , and had a cool color . [SEP] [PAD] [PAD] [PAD] [PAD] [PAD]',\n",
              " '[CLS] Julius Rand ##le with the 3 ##la ##b ##5 ##s [SEP] The perfect work out shoe [SEP] [PAD] [PAD] [PAD] [PAD] [PAD] [PAD] [PAD] [PAD] [PAD] [PAD] [PAD] [PAD] [PAD] [PAD] [PAD] [PAD] [PAD] [PAD] [PAD] [PAD] [PAD] [PAD] [PAD] [PAD] [PAD] [PAD] [PAD] [PAD] [PAD] [PAD] [PAD] [PAD]',\n",
              " \"[CLS] At ##lea ##st we ' re behind MA and CT per capita [SEP] Until you start counting the sheep . . . [SEP] [PAD] [PAD] [PAD] [PAD] [PAD] [PAD] [PAD] [PAD] [PAD] [PAD] [PAD] [PAD] [PAD] [PAD] [PAD] [PAD] [PAD] [PAD] [PAD] [PAD] [PAD] [PAD] [PAD] [PAD] [PAD] [PAD]\",\n",
              " '[CLS] College Kid C ##reate ##s Sweat ##shirt That Say ##s \" All white People Are Ra ##cist \" [SEP] All black people are criminals . [SEP] [PAD] [PAD] [PAD] [PAD] [PAD] [PAD] [PAD] [PAD] [PAD] [PAD] [PAD] [PAD] [PAD] [PAD] [PAD] [PAD] [PAD] [PAD] [PAD] [PAD] [PAD] [PAD] [PAD]',\n",
              " '[CLS] What will be the center back pairing now that Jones is back ? What do you guys think will be the first choice CB pairing now that Jones is back ? We saw Jones playing [SEP] Maybe Van G ##aal will try 5 at the back again . [SEP]',\n",
              " \"[CLS] Red ##dit ##or submit ##s some kind of pro ##mo video like he is famous or something . i couldn ' t make it 20 seconds . [SEP] What year is this ? [SEP] [PAD] [PAD] [PAD] [PAD] [PAD] [PAD] [PAD] [PAD] [PAD] [PAD] [PAD] [PAD] [PAD] [PAD] [PAD]\",\n",
              " '[CLS] Hearing \" Pay your fare , it \\' s only fair \" 15 times today has already made me hate living here [SEP] I know , but at least they \\' re not spending the money for these shine ##y new things on like , a late night [SEP]',\n",
              " '[CLS] Seriously . If someone can work in Congress for 30 years and get no endorsement ##s or super ##s from your colleagues , maybe [SEP] B ##EC ##A ##US ##E E ##VE ##R ##Y ##ON ##E E ##LS ##E IS CO ##R ##R ##UP ##T AND T ##A [SEP]',\n",
              " \"[CLS] What are you talking about ? [SEP] He ' s just so smart it went over your head ! [SEP] [PAD] [PAD] [PAD] [PAD] [PAD] [PAD] [PAD] [PAD] [PAD] [PAD] [PAD] [PAD] [PAD] [PAD] [PAD] [PAD] [PAD] [PAD] [PAD] [PAD] [PAD] [PAD] [PAD] [PAD] [PAD] [PAD] [PAD] [PAD] [PAD]\",\n",
              " '[CLS] In case you ever forget that the Q ##15 is just a bunch of white dude ##s [SEP] But they have \" minister ##ed \" to poor brown people so they totally understand their struggles . [SEP] [PAD] [PAD] [PAD] [PAD] [PAD] [PAD] [PAD] [PAD] [PAD] [PAD] [PAD] [PAD]',\n",
              " '[CLS] 9 - 11 is no longer a joke . 2000 + architects and engineers back petition to launch a truly independent investigation of the official story of the collapse [SEP] But remember how the matter got settled from that blacksmith on red ##dit a few days ago ? [SEP]',\n",
              " \"[CLS] I know you don ' t wanna know , but I ' d guess it ' s about 1 in 10 or so . [SEP] U forget u ##r [SEP] [PAD] [PAD] [PAD] [PAD] [PAD] [PAD] [PAD] [PAD] [PAD] [PAD] [PAD] [PAD] [PAD] [PAD] [PAD] [PAD] [PAD] [PAD] [PAD]\",\n",
              " \"[CLS] By the fact that he made no attempt to get away , or the fact that the cops didn ' t shoot him ? [SEP] He couldn ' t get away , they knocked off his s ##po ##iler which means he had no proper grip . [SEP] [PAD]\",\n",
              " '[CLS] Fox ##S ##ports : Ho ##ke out at Michigan [SEP] Gas ##p ! [SEP] [PAD] [PAD] [PAD] [PAD] [PAD] [PAD] [PAD] [PAD] [PAD] [PAD] [PAD] [PAD] [PAD] [PAD] [PAD] [PAD] [PAD] [PAD] [PAD] [PAD] [PAD] [PAD] [PAD] [PAD] [PAD] [PAD] [PAD] [PAD] [PAD] [PAD] [PAD] [PAD] [PAD] [PAD] [PAD]',\n",
              " \"[CLS] Vietnamese Red ##dit ##ors in the G ##VR ##D , I need your help If any of you have an authentic looking Vietnamese sword kicking around , I need to borrow it for a day [SEP] So , you ' re looking for a mac ##he ##te ? [SEP]\",\n",
              " \"[CLS] Du ##rant loves to w ##hine [SEP] Hey that ' s future Miami Heat legend Kevin Du ##rant you ' re talking about [SEP] [PAD] [PAD] [PAD] [PAD] [PAD] [PAD] [PAD] [PAD] [PAD] [PAD] [PAD] [PAD] [PAD] [PAD] [PAD] [PAD] [PAD] [PAD] [PAD] [PAD] [PAD] [PAD] [PAD] [PAD] [PAD]\",\n",
              " '[CLS] Congress Is About to Show ##er More Tax Break ##s on Corporation ##s After Tell ##ing the Un ##em ##p ##loy ##ed to Drop Dead [SEP] It is almost like it is government by the corporations for the corporations . [SEP] [PAD] [PAD] [PAD] [PAD] [PAD] [PAD] [PAD] [PAD]',\n",
              " '[CLS] W ##oke up with $ 96 ##3 , 000 in my bank account this morning . From my movie watching experience , hit ##men should be on their way to kidnap me at any moment now . [SEP] R ##IP In Peace O ##P [SEP] [PAD] [PAD] [PAD] [PAD]',\n",
              " '[CLS] because the game simply won ##t hurt her ye ##a [SEP] No dude they programmed her so she do ##dges every attack because it makes more sense than just not letting her get hurt [SEP] [PAD] [PAD] [PAD] [PAD] [PAD] [PAD] [PAD] [PAD] [PAD] [PAD] [PAD] [PAD] [PAD] [PAD]',\n",
              " \"[CLS] If x ##er was in my class I ' d get my own spray bottle and fill it with urine . I would blast x ##er with piss every time she insist on living out x ##er del ##usions [SEP] Yeah man , fuck transgender ##ed people ! [SEP]\",\n",
              " \"[CLS] Yes beating the legendary Patrick C ##um ##mins and 43 year ( should fight at ) MW Dan Henderson warrant ##s a title shot . [SEP] Yeah , just being the number two guy at h ##w didn ' t mean anything either . [SEP] [PAD] [PAD] [PAD] [PAD]\",\n",
              " \"[CLS] How about Mercy as Mrs Claus at Christmas time ? [SEP] Only if it rarely drops from a seasonal holiday lo ##ot box and you can ' t buy it with your c ##red ##s ! [SEP] [PAD] [PAD] [PAD] [PAD] [PAD] [PAD] [PAD] [PAD] [PAD] [PAD] [PAD] [PAD]\",\n",
              " '[CLS] What matters most is that it has value to you . [SEP] ha , g ##aa ##aa ##y [SEP] [PAD] [PAD] [PAD] [PAD] [PAD] [PAD] [PAD] [PAD] [PAD] [PAD] [PAD] [PAD] [PAD] [PAD] [PAD] [PAD] [PAD] [PAD] [PAD] [PAD] [PAD] [PAD] [PAD] [PAD] [PAD] [PAD] [PAD] [PAD] [PAD] [PAD]',\n",
              " \"[CLS] Every plant and animal was a surprise until I noticed it was the same 10 base models over and over again [SEP] Well that ' s your fault for not having the brain of a gold ##fish ! [SEP] [PAD] [PAD] [PAD] [PAD] [PAD] [PAD] [PAD] [PAD] [PAD] [PAD]\",\n",
              " \"[CLS] Because I ' m interested in what good ##ies were going to get for G ##rim ##ley . [SEP] Brent Reno ##uf . [SEP] [PAD] [PAD] [PAD] [PAD] [PAD] [PAD] [PAD] [PAD] [PAD] [PAD] [PAD] [PAD] [PAD] [PAD] [PAD] [PAD] [PAD] [PAD] [PAD] [PAD] [PAD] [PAD] [PAD] [PAD] [PAD]\",\n",
              " '[CLS] Pick ##ing up my g ##f during sex If I wanted to improve upon lifting my girlfriend up during sex , while face to face , what exercises besides sq ##ua ##ts and dead [SEP] Del ##oa ##d to a 45 ##l ##b girlfriend and work your form [SEP]',\n",
              " \"[CLS] A new season should have a blank roster . What ' s the point of placement matches for people who played in other competitive [SEP] Yeah , I wanna get smashed by top ##500 / GM ##s / Ms before I gain the skill to be able to [SEP]\",\n",
              " '[CLS] Cool v ##id but the music killed it . [SEP] yeah because fuck Pearl Jam should have done some dub ##ste ##p uh ##m , [SEP] [PAD] [PAD] [PAD] [PAD] [PAD] [PAD] [PAD] [PAD] [PAD] [PAD] [PAD] [PAD] [PAD] [PAD] [PAD] [PAD] [PAD] [PAD] [PAD] [PAD] [PAD] [PAD] [PAD]',\n",
              " \"[CLS] I suppose we ' ll just have to get Ken Je ##ong to start writing articles for us . [SEP] What more do you need than all of ESPN s ##lo ##bbe ##ring your dick ##s even when your team isn ' t playing ? [SEP] [PAD] [PAD] [PAD]\",\n",
              " '[CLS] All 6 \" if the world \\' s ice melted \" s [SEP] Ya know , it \\' s not * that * bad . . . More of a pain in the ass to relocate than anything else . . [SEP] [PAD] [PAD] [PAD] [PAD] [PAD] [PAD] [PAD]',\n",
              " \"[CLS] Actually I think the date is very early 16th century based on the advanced metal weaponry available , maybe late 15th century . I ' m sure they have a specific date in mind for when it takes place based on [SEP] Lo ##l , ne ##rd . [SEP]\",\n",
              " \"[CLS] Wouldn ' t matter . They would only replace a k ##ore ##an by a k ##ore ##an . That ' s not that big of an upgrade . They need to replace the euro ##pe ##ans [SEP] ye k ##ore ##ans playing r ##yl good right now [SEP]\",\n",
              " \"[CLS] I should have known better than to accept a message from ' Superman ' [SEP] But lo ##l ? [SEP] [PAD] [PAD] [PAD] [PAD] [PAD] [PAD] [PAD] [PAD] [PAD] [PAD] [PAD] [PAD] [PAD] [PAD] [PAD] [PAD] [PAD] [PAD] [PAD] [PAD] [PAD] [PAD] [PAD] [PAD] [PAD] [PAD] [PAD] [PAD] [PAD]\",\n",
              " '[CLS] why does it seem like the L ##D ##LC / E ##N ##vy ##s crowd is just a bunch of complain ##ers ? [SEP] Because the majority of them are f ##rench ? [SEP] [PAD] [PAD] [PAD] [PAD] [PAD] [PAD] [PAD] [PAD] [PAD] [PAD] [PAD] [PAD] [PAD] [PAD] [PAD]',\n",
              " '[CLS] No More In ##jection ##s ( except pain ##kill ##ers ) says AFL [SEP] The anti - v ##ac ##cin ##ation movement has won . . . [SEP] [PAD] [PAD] [PAD] [PAD] [PAD] [PAD] [PAD] [PAD] [PAD] [PAD] [PAD] [PAD] [PAD] [PAD] [PAD] [PAD] [PAD] [PAD] [PAD] [PAD] [PAD]',\n",
              " '[CLS] Edmonton has won the draft lottery [SEP] Connor just looks thrilled [SEP] [PAD] [PAD] [PAD] [PAD] [PAD] [PAD] [PAD] [PAD] [PAD] [PAD] [PAD] [PAD] [PAD] [PAD] [PAD] [PAD] [PAD] [PAD] [PAD] [PAD] [PAD] [PAD] [PAD] [PAD] [PAD] [PAD] [PAD] [PAD] [PAD] [PAD] [PAD] [PAD] [PAD] [PAD] [PAD] [PAD] [PAD]',\n",
              " \"[CLS] Ha ##ha e ##qua ##ting in ##fi ##delity with actual crimes . [SEP] Yes , you ' re right , crimes have no basis in moral norms . [SEP] [PAD] [PAD] [PAD] [PAD] [PAD] [PAD] [PAD] [PAD] [PAD] [PAD] [PAD] [PAD] [PAD] [PAD] [PAD] [PAD] [PAD] [PAD] [PAD] [PAD]\",\n",
              " '[CLS] If those are the only options , plea ##su ##ring myself or spending time with this ass ##hat , the choice is so easy . [SEP] But plea ##su ##ring yourself is infinite ##ly inferior to the wonders wrought by fed ##ora penis ! [SEP] [PAD] [PAD] [PAD] [PAD]',\n",
              " '[CLS] I hear women are pretty good cook ##s . . . maybe they could fill that position . [SEP] Ho ##ora ##y for re ##in ##forcing the gender binary and its wholly un ##hel ##pf ##ul gender roles ! [SEP] [PAD] [PAD] [PAD] [PAD] [PAD] [PAD] [PAD] [PAD] [PAD]',\n",
              " \"[CLS] You think Anthony Wien ##er purpose ##fully sex ##ted a 15 year old so the FBI could find Hillary ' s hidden emails right before the election ? [SEP] Russia paid him to sex ##t a 15 year old [SEP] [PAD] [PAD] [PAD] [PAD] [PAD] [PAD] [PAD] [PAD] [PAD]\",\n",
              " '[CLS] About to give myself art ##hr ##itis , wish me luck [SEP] or just use ah ##k [SEP] [PAD] [PAD] [PAD] [PAD] [PAD] [PAD] [PAD] [PAD] [PAD] [PAD] [PAD] [PAD] [PAD] [PAD] [PAD] [PAD] [PAD] [PAD] [PAD] [PAD] [PAD] [PAD] [PAD] [PAD] [PAD] [PAD] [PAD] [PAD] [PAD] [PAD] [PAD]',\n",
              " \"[CLS] Did you miss the part where they were team killing ? [SEP] He ' s an arcade scrub , he wouldn ' t understand basic game mechanics anyway . . [SEP] [PAD] [PAD] [PAD] [PAD] [PAD] [PAD] [PAD] [PAD] [PAD] [PAD] [PAD] [PAD] [PAD] [PAD] [PAD] [PAD] [PAD] [PAD]\",\n",
              " \"[CLS] Military ' takes control ' in Thailand [SEP] Nope , didn ' t see that one coming [SEP] [PAD] [PAD] [PAD] [PAD] [PAD] [PAD] [PAD] [PAD] [PAD] [PAD] [PAD] [PAD] [PAD] [PAD] [PAD] [PAD] [PAD] [PAD] [PAD] [PAD] [PAD] [PAD] [PAD] [PAD] [PAD] [PAD] [PAD] [PAD] [PAD] [PAD] [PAD]\",\n",
              " '[CLS] BR ##IL ##L ##IA ##NT : German Pol ##itic ##ian Mo ##cks PC , Ad ##dress ##es Parliament in 60 Different Gender ##s [SEP] I ##m at least 14 of those gender ##s ST ##OP L ##IT ##ER ##AL ##L ##Y RA ##PI ##NG ME [SEP] [PAD] [PAD] [PAD]',\n",
              " \"[CLS] Didn ' t something really cool happen that year ? [SEP] The space shuttle Discovery made its final flight . [SEP] [PAD] [PAD] [PAD] [PAD] [PAD] [PAD] [PAD] [PAD] [PAD] [PAD] [PAD] [PAD] [PAD] [PAD] [PAD] [PAD] [PAD] [PAD] [PAD] [PAD] [PAD] [PAD] [PAD] [PAD] [PAD] [PAD] [PAD] [PAD]\",\n",
              " \"[CLS] I don ' t know what any of that meant or pretended to mean . [SEP] It ' s not my job to educate you ! [SEP] [PAD] [PAD] [PAD] [PAD] [PAD] [PAD] [PAD] [PAD] [PAD] [PAD] [PAD] [PAD] [PAD] [PAD] [PAD] [PAD] [PAD] [PAD] [PAD] [PAD] [PAD] [PAD]\",\n",
              " '[CLS] P ##rai ##se be to Jimmy Carter [SEP] That was Billy that improved the beer . [SEP] [PAD] [PAD] [PAD] [PAD] [PAD] [PAD] [PAD] [PAD] [PAD] [PAD] [PAD] [PAD] [PAD] [PAD] [PAD] [PAD] [PAD] [PAD] [PAD] [PAD] [PAD] [PAD] [PAD] [PAD] [PAD] [PAD] [PAD] [PAD] [PAD] [PAD] [PAD] [PAD]',\n",
              " \"[CLS] He ' s 74 . Close ##r to 70 than 80 . My point is that if he doesn ' t back Clinton , the D ##NC [SEP] Sanders really looks like someone who gives a shit about what the D ##NC does to him . . . [SEP]\",\n",
              " \"[CLS] If the H ##TC One had came with a re ##mo ##vable battery and an SD card slot then they ' d have had the market instead . [SEP] Yes SD cards and re ##mo ##vable batteries is the reason the masses buy smart ##phones . [SEP] [PAD] [PAD]\",\n",
              " '[CLS] Sorry br ##o , there is none . [SEP] Not in Norway . [SEP] [PAD] [PAD] [PAD] [PAD] [PAD] [PAD] [PAD] [PAD] [PAD] [PAD] [PAD] [PAD] [PAD] [PAD] [PAD] [PAD] [PAD] [PAD] [PAD] [PAD] [PAD] [PAD] [PAD] [PAD] [PAD] [PAD] [PAD] [PAD] [PAD] [PAD] [PAD] [PAD] [PAD] [PAD] [PAD]',\n",
              " \"[CLS] I actually really loved Li ##tten ' s final leaked form so I am happy about this . Bring it on , my perfect b ##uff [SEP] Yeah , a bi ##ped ##al Fire / Fighting Po ##ke ##mon , totally never seen that before . . . [SEP]\",\n",
              " '[CLS] Dark magic , and voter suppression . [SEP] But I thought those photo ID laws were supposed to protect us [SEP] [PAD] [PAD] [PAD] [PAD] [PAD] [PAD] [PAD] [PAD] [PAD] [PAD] [PAD] [PAD] [PAD] [PAD] [PAD] [PAD] [PAD] [PAD] [PAD] [PAD] [PAD] [PAD] [PAD] [PAD] [PAD] [PAD] [PAD] [PAD]',\n",
              " '[CLS] Canada here ! Our dollar sucks now ! Can agree ! [SEP] At least we gained . 5 % [SEP] [PAD] [PAD] [PAD] [PAD] [PAD] [PAD] [PAD] [PAD] [PAD] [PAD] [PAD] [PAD] [PAD] [PAD] [PAD] [PAD] [PAD] [PAD] [PAD] [PAD] [PAD] [PAD] [PAD] [PAD] [PAD] [PAD] [PAD] [PAD] [PAD]',\n",
              " \"[CLS] But don ' t you see , we have a dick so we ' re naturally superior ! Am ##en ! [SEP] A - ME ##N , not a - W ##OM ##EN ! [SEP] [PAD] [PAD] [PAD] [PAD] [PAD] [PAD] [PAD] [PAD] [PAD] [PAD] [PAD] [PAD] [PAD] [PAD]\",\n",
              " '[CLS] Why is it not ok to kill a go ##rilla , but it is ok to kill a lagoon full of all ##iga ##tors ? [SEP] Because all ##iga ##tors are predators [SEP] [PAD] [PAD] [PAD] [PAD] [PAD] [PAD] [PAD] [PAD] [PAD] [PAD] [PAD] [PAD] [PAD] [PAD] [PAD] [PAD]',\n",
              " '[CLS] Have you not read ? Israel runs this place . Obama is basically a PR guy . [SEP] Their ability to run their small country makes me believe this [SEP] [PAD] [PAD] [PAD] [PAD] [PAD] [PAD] [PAD] [PAD] [PAD] [PAD] [PAD] [PAD] [PAD] [PAD] [PAD] [PAD] [PAD] [PAD] [PAD]',\n",
              " \"[CLS] I prefer people having something to lose instead of going all - in like it ' s a lottery . [SEP] Yeah , people playing too terribly is always bad [SEP] [PAD] [PAD] [PAD] [PAD] [PAD] [PAD] [PAD] [PAD] [PAD] [PAD] [PAD] [PAD] [PAD] [PAD] [PAD] [PAD] [PAD] [PAD]\",\n",
              " \"[CLS] Playing with my new equipment , managed to capture this galaxy [SEP] . . . and NASA can ' t even figure out how to capture an asteroid . . . [SEP] [PAD] [PAD] [PAD] [PAD] [PAD] [PAD] [PAD] [PAD] [PAD] [PAD] [PAD] [PAD] [PAD] [PAD] [PAD] [PAD] [PAD]\",\n",
              " '[CLS] Another mass shooting , innocent Americans die because coward ##s demand guns . . . and not one thing will change . Great job , N ##RA . [SEP] very subtle , and your perspective is fresh and unique [SEP] [PAD] [PAD] [PAD] [PAD] [PAD] [PAD] [PAD] [PAD] [PAD]',\n",
              " '[CLS] Apple ##s doomed . [SEP] Here , you dropped this : [SEP] [PAD] [PAD] [PAD] [PAD] [PAD] [PAD] [PAD] [PAD] [PAD] [PAD] [PAD] [PAD] [PAD] [PAD] [PAD] [PAD] [PAD] [PAD] [PAD] [PAD] [PAD] [PAD] [PAD] [PAD] [PAD] [PAD] [PAD] [PAD] [PAD] [PAD] [PAD] [PAD] [PAD] [PAD] [PAD] [PAD] [PAD]',\n",
              " \"[CLS] Looks like the pound will hit its lowest value since the dawn of the internet . This is bad . [SEP] Sure , the economy is gonna hit rock bottom , but at least the Muslims won ' t be able to im ##mi ##gra ##te anymore , [SEP]\",\n",
              " \"[CLS] I mean this goal shouldn ' t push you over that edge . He just tapped it in . [SEP] Works for Ronald ##o [SEP] [PAD] [PAD] [PAD] [PAD] [PAD] [PAD] [PAD] [PAD] [PAD] [PAD] [PAD] [PAD] [PAD] [PAD] [PAD] [PAD] [PAD] [PAD] [PAD] [PAD] [PAD] [PAD] [PAD] [PAD]\",\n",
              " '[CLS] \" It \\' s simple , men and boys need to stop rap ##ing women \" - Jess Phillips Fe ##mini ##st br ##itis ##h MP [SEP] It \\' s simple , men and boys just need to be educated that murder is bad . [SEP] [PAD] [PAD] [PAD]',\n",
              " \"[CLS] just look at how much time he spends watching corners where people are vs where people aren ' t . [SEP] Who needs to check the window when running down mid , it ' s not like the CT can easily kill you . [SEP] [PAD] [PAD] [PAD] [PAD]\",\n",
              " \"[CLS] So background music in December ? . . . . . . . . . . this is a f ##rig ##gin ' joke . Seriously . [SEP] Yeah screw them . [SEP] [PAD] [PAD] [PAD] [PAD] [PAD] [PAD] [PAD] [PAD] [PAD] [PAD] [PAD] [PAD] [PAD] [PAD] [PAD] [PAD]\",\n",
              " \"[CLS] Yes , but he wasn ' t convicted of rape [SEP] Why should he , it ' s clearly the woman ' s fault [SEP] [PAD] [PAD] [PAD] [PAD] [PAD] [PAD] [PAD] [PAD] [PAD] [PAD] [PAD] [PAD] [PAD] [PAD] [PAD] [PAD] [PAD] [PAD] [PAD] [PAD] [PAD] [PAD] [PAD] [PAD]\",\n",
              " \"[CLS] Danny offers some actual advice . [SEP] I ' m inspired , tomorrow . . . I ' ll go to work . . . and start being a dick and maybe I ' ll get some respect [SEP] [PAD] [PAD] [PAD] [PAD] [PAD] [PAD] [PAD] [PAD] [PAD] [PAD]\",\n",
              " \"[CLS] Another co ##llus ##ion email with super ##pa ##cs and Donna Brazil ##e [SEP] We ' re only per ##se ##cut ##ing her because she ' s a woman [SEP] [PAD] [PAD] [PAD] [PAD] [PAD] [PAD] [PAD] [PAD] [PAD] [PAD] [PAD] [PAD] [PAD] [PAD] [PAD] [PAD] [PAD] [PAD] [PAD]\",\n",
              " '[CLS] What statistics ? [SEP] All statistics . [SEP] [PAD] [PAD] [PAD] [PAD] [PAD] [PAD] [PAD] [PAD] [PAD] [PAD] [PAD] [PAD] [PAD] [PAD] [PAD] [PAD] [PAD] [PAD] [PAD] [PAD] [PAD] [PAD] [PAD] [PAD] [PAD] [PAD] [PAD] [PAD] [PAD] [PAD] [PAD] [PAD] [PAD] [PAD] [PAD] [PAD] [PAD] [PAD] [PAD] [PAD] [PAD]',\n",
              " '[CLS] \" He \\' s not breaking the law , he \\' s just making her uncomfortable . No wonder women don \\' t get anywhere in the workplace . \" / vomit [SEP] She needs to lean in , not lean back [SEP] [PAD] [PAD] [PAD] [PAD] [PAD] [PAD]',\n",
              " '[CLS] No more League of En ##orm ##ous Bo ##ob ##s The most recent 14 champions including the recently announced Kind ##red are not well - endowed females . This is a sick ##ening trend that could j ##eo [SEP] Man I sure love this sub ##red ##dit ! [SEP]',\n",
              " \"[CLS] Fe ##mini ##st graffiti from the 1970 ' s [SEP] IT ##T : Brave Trump supporters standing up against the evil ##s of 1970s feminism . [SEP] [PAD] [PAD] [PAD] [PAD] [PAD] [PAD] [PAD] [PAD] [PAD] [PAD] [PAD] [PAD] [PAD] [PAD] [PAD] [PAD] [PAD] [PAD] [PAD] [PAD] [PAD] [PAD]\",\n",
              " '[CLS] Or God could have given the doctors the knowledge to know how to help the man . [SEP] Yeah what a totally un ##rea ##son ##able , stupid , and spite ##ful thing to say . . . good thing we have the down ##vo ##te arrows so [SEP]',\n",
              " '[CLS] ye ##ez ##ys are off ##ically dead [SEP] Ye ##ez ##y re ##sal ##es are in s ##ham ##bles [SEP] [PAD] [PAD] [PAD] [PAD] [PAD] [PAD] [PAD] [PAD] [PAD] [PAD] [PAD] [PAD] [PAD] [PAD] [PAD] [PAD] [PAD] [PAD] [PAD] [PAD] [PAD] [PAD] [PAD] [PAD] [PAD] [PAD] [PAD] [PAD] [PAD]',\n",
              " '[CLS] H ##G ##H br ##oth ##a ! [SEP] They have muscles so they M ##US ##T take H ##G ##H . [SEP] [PAD] [PAD] [PAD] [PAD] [PAD] [PAD] [PAD] [PAD] [PAD] [PAD] [PAD] [PAD] [PAD] [PAD] [PAD] [PAD] [PAD] [PAD] [PAD] [PAD] [PAD] [PAD] [PAD] [PAD] [PAD] [PAD] [PAD]',\n",
              " \"[CLS] Seriously ! I guess everyone must be waiting in line to catch a glimpse of Obama and Hillary speak today . [SEP] Nah . . . they ' re just busy making ignorant and inflammatory statements on Facebook about political corruption and Trump ##isms . [SEP] [PAD] [PAD] [PAD]\",\n",
              " \"[CLS] Also , Shields gave up 10 runs in his last start . I ' m not T ##HA ##T afraid of him . [SEP] Didn ' t think i needed [SEP] [PAD] [PAD] [PAD] [PAD] [PAD] [PAD] [PAD] [PAD] [PAD] [PAD] [PAD] [PAD] [PAD] [PAD] [PAD] [PAD] [PAD] [PAD]\",\n",
              " '[CLS] What about his parents ? [SEP] \" Boys will be boys \" oh double standards [SEP] [PAD] [PAD] [PAD] [PAD] [PAD] [PAD] [PAD] [PAD] [PAD] [PAD] [PAD] [PAD] [PAD] [PAD] [PAD] [PAD] [PAD] [PAD] [PAD] [PAD] [PAD] [PAD] [PAD] [PAD] [PAD] [PAD] [PAD] [PAD] [PAD] [PAD] [PAD] [PAD] [PAD]',\n",
              " '[CLS] it was f ##utile to send them there originally , but that didn ##t stop anyone . [SEP] We should invade them again maybe this time it will be different . [SEP] [PAD] [PAD] [PAD] [PAD] [PAD] [PAD] [PAD] [PAD] [PAD] [PAD] [PAD] [PAD] [PAD] [PAD] [PAD] [PAD] [PAD]',\n",
              " '[CLS] Found this at a local fl ##ea market [SEP] Old games at a fl ##ea market . . . Oh w ##ow how rare ! [SEP] [PAD] [PAD] [PAD] [PAD] [PAD] [PAD] [PAD] [PAD] [PAD] [PAD] [PAD] [PAD] [PAD] [PAD] [PAD] [PAD] [PAD] [PAD] [PAD] [PAD] [PAD] [PAD] [PAD]',\n",
              " \"[CLS] The currently - known design plans are surely in ##fe ##asi ##ble . But there ' s no chance that we ' ll overcome [SEP] In today ' s society of instant g ##rat ##ification , if they can ' t get it right on the first try [SEP]\",\n",
              " \"[CLS] The Di ##fference [SEP] If you don ' t want girls to touch your a ##bs you shouldn ' t expose them . [SEP] [PAD] [PAD] [PAD] [PAD] [PAD] [PAD] [PAD] [PAD] [PAD] [PAD] [PAD] [PAD] [PAD] [PAD] [PAD] [PAD] [PAD] [PAD] [PAD] [PAD] [PAD] [PAD] [PAD] [PAD] [PAD]\",\n",
              " \"[CLS] What about middle and upper class minorities ? They suffer racism as well [SEP] No they don ' t , didn ' t you know once you have money white ##y treats you just fine . [SEP] [PAD] [PAD] [PAD] [PAD] [PAD] [PAD] [PAD] [PAD] [PAD] [PAD] [PAD] [PAD]\",\n",
              " '[CLS] \" one of the good ones \" You mean old white people ? Am I the only one who still believes in judging people [SEP] When 57 % of white males have proven themselves to be racist ##s a couple days ago , yes , they have something [SEP]',\n",
              " '[CLS] Consider ##ed custom r ##oms ? [SEP] Have you considered breaking your warrant ##y and doing a bunch of shit just to have the experience you want ? [SEP] [PAD] [PAD] [PAD] [PAD] [PAD] [PAD] [PAD] [PAD] [PAD] [PAD] [PAD] [PAD] [PAD] [PAD] [PAD] [PAD] [PAD] [PAD] [PAD] [PAD]',\n",
              " '[CLS] Ho ##ora ##y , another text editor ! [SEP] ? [SEP] [PAD] [PAD] [PAD] [PAD] [PAD] [PAD] [PAD] [PAD] [PAD] [PAD] [PAD] [PAD] [PAD] [PAD] [PAD] [PAD] [PAD] [PAD] [PAD] [PAD] [PAD] [PAD] [PAD] [PAD] [PAD] [PAD] [PAD] [PAD] [PAD] [PAD] [PAD] [PAD] [PAD] [PAD] [PAD] [PAD] [PAD] [PAD]',\n",
              " \"[CLS] If I haven ' t seen it , it ' s new to me . [SEP] You are supposed to red ##dit 24 / 7 . [SEP] [PAD] [PAD] [PAD] [PAD] [PAD] [PAD] [PAD] [PAD] [PAD] [PAD] [PAD] [PAD] [PAD] [PAD] [PAD] [PAD] [PAD] [PAD] [PAD] [PAD] [PAD] [PAD]\",\n",
              " \"[CLS] They ' re heading towards horse shit ! [SEP] So , the farm animal award ? [SEP] [PAD] [PAD] [PAD] [PAD] [PAD] [PAD] [PAD] [PAD] [PAD] [PAD] [PAD] [PAD] [PAD] [PAD] [PAD] [PAD] [PAD] [PAD] [PAD] [PAD] [PAD] [PAD] [PAD] [PAD] [PAD] [PAD] [PAD] [PAD] [PAD] [PAD] [PAD] [PAD]\",\n",
              " \"[CLS] Japanese o ##ta ##ku don ' t find western ##ers attractive at all which is why western games not sell well in Japan [SEP] this site is full of re ##put ##able information [SEP] [PAD] [PAD] [PAD] [PAD] [PAD] [PAD] [PAD] [PAD] [PAD] [PAD] [PAD] [PAD] [PAD] [PAD] [PAD]\",\n",
              " \"[CLS] Why do movies always show people get high and trip out looking at their hands ? I don ' t understand this stereo ##type . . . Hands are really great ; but I [SEP] Those damn Jews in Hollywood . . always ex ##agger ##ating everything ! [SEP]\",\n",
              " \"[CLS] P ##uli ##si ##c getting hated on when half of Muller ##s goals look like this l ##ma ##o [SEP] Ye ##a but he ' s a p ##oa ##cher that understands the game on more cerebral level than everybody else on the field , not a s [SEP]\",\n",
              " \"[CLS] Ta ##z tells Val ##ve they are making CS = CO ##D [SEP] I ' m sure T ##A ##Z has spent a lot of hours that he came up with this conclusion , in the same day as the update . [SEP] [PAD] [PAD] [PAD] [PAD] [PAD] [PAD]\",\n",
              " \"[CLS] It ' s ridiculous how some get upset about murder ##ous gang ##bang ##ers who are less than gentlemen ##ly to women - folk . What , [SEP] I just buy the game to pick up hook ##ers and beat them sense ##less and steal their money . [SEP]\",\n",
              " \"[CLS] Apparently West Virginia is ( officially ) another country now . . . I just can ' t even . . . [SEP] I can ' t believe someone spending time in / near West Virginia is so stupid ! [SEP] [PAD] [PAD] [PAD] [PAD] [PAD] [PAD] [PAD] [PAD]\",\n",
              " '[CLS] Na ##da g ##rac ##ios ##o . Argentina is white . No se que le ve ##s v ##os de r ##aro . . . [SEP] casual racism is so funny lo ##l [SEP] [PAD] [PAD] [PAD] [PAD] [PAD] [PAD] [PAD] [PAD] [PAD] [PAD] [PAD] [PAD] [PAD] [PAD] [PAD]',\n",
              " \"[CLS] Or you pass someone traveling slow , then suddenly find them following you . . . then passing you later , then slowing down again [SEP] Well who doesn ' t enjoy a r ##ous ##ing , 50 - mile long game of highway leap ##f ##rog ? [SEP]\",\n",
              " '[CLS] What are you referring to in regards to the cock ##iness ? [SEP] Obviously the fact that he came out and said that he needed to work on a lot of things if he wanted to win the starting job next year . . . [SEP] [PAD] [PAD] [PAD]',\n",
              " '[CLS] Fuck CNN and their refusal to put out real news . CNN : \" unable to confirm it was a pilot that made the may ##day call . \" [SEP] You never know , it could \\' ve been the passenger in the la ##v . . . [SEP]',\n",
              " '[CLS] You should have considered a f ##x ##8 ##x ##x ##x I doubt you would have ever known the difference [SEP] Nah I never notice 20 - 50 % more f ##ps [SEP] [PAD] [PAD] [PAD] [PAD] [PAD] [PAD] [PAD] [PAD] [PAD] [PAD] [PAD] [PAD] [PAD] [PAD] [PAD] [PAD]',\n",
              " '[CLS] Ex ##ist ##ence of God [SEP] _ Sur ##p ##rising _ [SEP] [PAD] [PAD] [PAD] [PAD] [PAD] [PAD] [PAD] [PAD] [PAD] [PAD] [PAD] [PAD] [PAD] [PAD] [PAD] [PAD] [PAD] [PAD] [PAD] [PAD] [PAD] [PAD] [PAD] [PAD] [PAD] [PAD] [PAD] [PAD] [PAD] [PAD] [PAD] [PAD] [PAD] [PAD] [PAD] [PAD] [PAD]',\n",
              " \"[CLS] T ##IL IBM is developing a Li ##thi ##um - Air battery that will allow electric cars to travel 500 ##mile ##s / charge . [SEP] I ' m sure glad they ' re doing this because Obama told them to and not in pursuit of profit . [SEP]\",\n",
              " \"[CLS] Wait what , she is 14 ? Why does she sound and talk like a 29 years old ? [SEP] Because it ' s hard to find 14 year old voice actors ? [SEP] [PAD] [PAD] [PAD] [PAD] [PAD] [PAD] [PAD] [PAD] [PAD] [PAD] [PAD] [PAD] [PAD] [PAD] [PAD]\",\n",
              " '[CLS] I found an east ##er egg in Hit ##man : a ##bs ##ol ##ution ( give ##away ) [SEP] Care ##ful , I hear this game is mi ##so ##gy ##nist ##ic [SEP] [PAD] [PAD] [PAD] [PAD] [PAD] [PAD] [PAD] [PAD] [PAD] [PAD] [PAD] [PAD] [PAD] [PAD] [PAD] [PAD]',\n",
              " '[CLS] If Captain America was really from the 1940s . [SEP] I think they should strip him of being a Captain for what he said years ago - like they did with Paula Dee ##n . [SEP] [PAD] [PAD] [PAD] [PAD] [PAD] [PAD] [PAD] [PAD] [PAD] [PAD] [PAD] [PAD] [PAD]',\n",
              " '[CLS] Car ##cin ##ogenic Sub ##stance Found in Su ##pp ##lement ##s of S ##hou ##jo Man ##ga Magazine ##s [SEP] It turns out that m ##oe is actually cancer ##ous . [SEP] [PAD] [PAD] [PAD] [PAD] [PAD] [PAD] [PAD] [PAD] [PAD] [PAD] [PAD] [PAD] [PAD] [PAD] [PAD] [PAD] [PAD]',\n",
              " \"[CLS] It ' s fine to rid ##ic ##ule fat ##log ##ic , but we need to actually help get rid of those enabling it . This is my report to Tu ##mb [SEP] Guys , this is just going to make them * burst into tears * . [SEP]\",\n",
              " '[CLS] I can imagine this girl going very far in the corporate world . [SEP] Unlike so many other qualified , enter ##p ##rising young women . [SEP] [PAD] [PAD] [PAD] [PAD] [PAD] [PAD] [PAD] [PAD] [PAD] [PAD] [PAD] [PAD] [PAD] [PAD] [PAD] [PAD] [PAD] [PAD] [PAD] [PAD] [PAD] [PAD]',\n",
              " \"[CLS] which makes me realize what P ##OS ##es many women are . They won ' t say shit when someone is single . But seeing that he ' s tied up or married , they don [SEP] A ##WA ##LT A ##WA ##LT R ##EE ##EE ##EE ##E [SEP]\",\n",
              " \"[CLS] Mu ##ndy charged for striking Boom ##er . Best thousand bucks he ##s ever spent . [SEP] Yeah it ' s great to have striking of players in our game . [SEP] [PAD] [PAD] [PAD] [PAD] [PAD] [PAD] [PAD] [PAD] [PAD] [PAD] [PAD] [PAD] [PAD] [PAD] [PAD] [PAD] [PAD]\",\n",
              " \"[CLS] And they ' ll never let you fucking forget it . [SEP] hey man , you ' re obviously just jealous of their 24 Stanley Cups [SEP] [PAD] [PAD] [PAD] [PAD] [PAD] [PAD] [PAD] [PAD] [PAD] [PAD] [PAD] [PAD] [PAD] [PAD] [PAD] [PAD] [PAD] [PAD] [PAD] [PAD] [PAD] [PAD]\",\n",
              " \"[CLS] i ' ll bet you my bottom dollar . . . if there is one thing he never does for the rest of his [SEP] Yeah , that ' s a good way to com ##pel blind o ##bedience to the fuck ##tar ##d over ##lord ##s : [SEP]\",\n",
              " \"[CLS] Me and my buddy ' s play ball every week . That ' s an Andy pass right there . [SEP] Fuck ##ing Andy . [SEP] [PAD] [PAD] [PAD] [PAD] [PAD] [PAD] [PAD] [PAD] [PAD] [PAD] [PAD] [PAD] [PAD] [PAD] [PAD] [PAD] [PAD] [PAD] [PAD] [PAD] [PAD] [PAD] [PAD]\",\n",
              " '[CLS] No , the cu ##bs were the ones that told him about the clause . Pretty slim ##y deal overall . [SEP] Ah , yes , lie on the internet , nobody will call you out on your bullshit ! [SEP] [PAD] [PAD] [PAD] [PAD] [PAD] [PAD] [PAD] [PAD]',\n",
              " '[CLS] Cook ##ing truth [SEP] Wow this is truly is the first time I have ever seen this [SEP] [PAD] [PAD] [PAD] [PAD] [PAD] [PAD] [PAD] [PAD] [PAD] [PAD] [PAD] [PAD] [PAD] [PAD] [PAD] [PAD] [PAD] [PAD] [PAD] [PAD] [PAD] [PAD] [PAD] [PAD] [PAD] [PAD] [PAD] [PAD] [PAD] [PAD] [PAD]',\n",
              " \"[CLS] Trump w ##hack ##ed by another damaging poll [SEP] Don ' t worry people , he has Scott Walker ' s approval ! [SEP] [PAD] [PAD] [PAD] [PAD] [PAD] [PAD] [PAD] [PAD] [PAD] [PAD] [PAD] [PAD] [PAD] [PAD] [PAD] [PAD] [PAD] [PAD] [PAD] [PAD] [PAD] [PAD] [PAD] [PAD] [PAD]\",\n",
              " \"[CLS] What if I told you some people think fat is un ##att ##rac ##tive ? Oh no , they can ' t because you feel pretty ? Po ##t meet k ##ett ##le . [SEP] They are male , their opinion does not count . [SEP] [PAD] [PAD] [PAD]\",\n",
              " \"[CLS] They are Russian now , the will never give you the truth . It ' s Putin style in Crimea . [SEP] Oh p ##ff . . . like Ukrainian sources are so much more reliable . [SEP] [PAD] [PAD] [PAD] [PAD] [PAD] [PAD] [PAD] [PAD] [PAD] [PAD] [PAD]\",\n",
              " '[CLS] Apple : Falling downward since 1976 . [SEP] Yeah , their revenue and earnings really solid ##ify that statement . [SEP] [PAD] [PAD] [PAD] [PAD] [PAD] [PAD] [PAD] [PAD] [PAD] [PAD] [PAD] [PAD] [PAD] [PAD] [PAD] [PAD] [PAD] [PAD] [PAD] [PAD] [PAD] [PAD] [PAD] [PAD] [PAD] [PAD] [PAD] [PAD]',\n",
              " '[CLS] Kerr on Walton : \" I thought maybe he \\' d be 40 - 3 , but 39 - 4 , I \\' ll have to settle for that . \" [SEP] Steve Kerr furious because of poor coaching from Walton [SEP] [PAD] [PAD] [PAD] [PAD] [PAD] [PAD] [PAD]',\n",
              " '[CLS] I suppose he might still be the lesser of two evil ##s next to a president that assassin ##ates citizens . [SEP] Yeah I bet Romney stops that program on day 1 . [SEP] [PAD] [PAD] [PAD] [PAD] [PAD] [PAD] [PAD] [PAD] [PAD] [PAD] [PAD] [PAD] [PAD] [PAD] [PAD]',\n",
              " '[CLS] Well luck ##ily Rick Snyder was there to come in and save everyone with severe lead poisoning . Hu ##ge cost savings there . [SEP] But the lawsuits should have been filed in his first term , clearly he is under his second term and immune from any [SEP]',\n",
              " \"[CLS] Le ##bro ##n James makes pass then calls Ray Allen ' s 3 point ##er [SEP] Because crashing the offensive glass is totally unnecessary , regardless of who is taking that shot [SEP] [PAD] [PAD] [PAD] [PAD] [PAD] [PAD] [PAD] [PAD] [PAD] [PAD] [PAD] [PAD] [PAD] [PAD] [PAD] [PAD]\",\n",
              " \"[CLS] Israeli general says something : 3 , 000 comments . Some olive trees get ch ##opped down : 5 , 000 comments . 13 people about to be executed : [SEP] Yet don ' t forget that the Jews have a secret organization that suppress ##es negative opinions [SEP]\",\n",
              " '[CLS] I think you missed many years which happened before the so - called tolerance of the executive . this stuff has been growing , [SEP] Yes , no one should be worried about a state with a Confederate flag on its cap ##ito ##l grounds null ##ifying something [SEP]',\n",
              " '[CLS] \" I \\' m not trying to charm you though \" [SEP] W ##it beyond measure , truly . [SEP] [PAD] [PAD] [PAD] [PAD] [PAD] [PAD] [PAD] [PAD] [PAD] [PAD] [PAD] [PAD] [PAD] [PAD] [PAD] [PAD] [PAD] [PAD] [PAD] [PAD] [PAD] [PAD] [PAD] [PAD] [PAD] [PAD] [PAD] [PAD] [PAD]',\n",
              " '[CLS] After many ho ##rre ##ndo ##us starts , the C ##iv 6 gods decide to show mercy . [SEP] no salt 0 / 10 [SEP] [PAD] [PAD] [PAD] [PAD] [PAD] [PAD] [PAD] [PAD] [PAD] [PAD] [PAD] [PAD] [PAD] [PAD] [PAD] [PAD] [PAD] [PAD] [PAD] [PAD] [PAD] [PAD] [PAD] [PAD]',\n",
              " '[CLS] Has anyone else tried v ##ap ##ing corn oil ? I got really stone ##d / drunk ( cross ##fa ##ded ) today and decided that [SEP] Try gasoline next time , that shit makes a crazy v ##ap ##e . . . . . . . . [SEP]',\n",
              " '[CLS] What is the first thing you install on a new computer ? [SEP] Windows 10 [SEP] [PAD] [PAD] [PAD] [PAD] [PAD] [PAD] [PAD] [PAD] [PAD] [PAD] [PAD] [PAD] [PAD] [PAD] [PAD] [PAD] [PAD] [PAD] [PAD] [PAD] [PAD] [PAD] [PAD] [PAD] [PAD] [PAD] [PAD] [PAD] [PAD] [PAD] [PAD] [PAD] [PAD]',\n",
              " '[CLS] most \" accidental \" shooting ##s within a family are because some paranoid and del ##usion ##al individual believed the N ##RA \\' s propaganda about \" self - defense [SEP] This wouldn \\' t be a problem if his mom had her own gun to defend herself [SEP]',\n",
              " '[CLS] I believe you might be in the wrong sub ##red ##dit , buddy . [SEP] What makes you say that ? [SEP] [PAD] [PAD] [PAD] [PAD] [PAD] [PAD] [PAD] [PAD] [PAD] [PAD] [PAD] [PAD] [PAD] [PAD] [PAD] [PAD] [PAD] [PAD] [PAD] [PAD] [PAD] [PAD] [PAD] [PAD] [PAD] [PAD] [PAD]',\n",
              " '[CLS] That is what our system says . There is always the chance that they will ship them to Canada just to spite us . [SEP] 80 ##k villagers now available at NW ##S ! [SEP] [PAD] [PAD] [PAD] [PAD] [PAD] [PAD] [PAD] [PAD] [PAD] [PAD] [PAD] [PAD] [PAD] [PAD]',\n",
              " '[CLS] Last night I wrote a Process ##ing script that generates a pie chart representing the color pale ##ttes of Po ##ke ##mon . Here are the results . [SEP] On ##ix is so ##oo ##o un ##ori ##gin ##al [SEP] [PAD] [PAD] [PAD] [PAD] [PAD] [PAD] [PAD] [PAD] [PAD]',\n",
              " '[CLS] How is a simple and logical explanation jumping through ho ##ops ? [SEP] B ##EC ##A ##US ##E H ##E IS S ##UP ##PO ##SE TO H ##AV ##E ONE E ##Y ##E O ##MG ! [SEP] [PAD] [PAD] [PAD] [PAD] [PAD] [PAD] [PAD] [PAD] [PAD] [PAD] [PAD] [PAD]',\n",
              " \"[CLS] how long until free everything and I have no personal responsibility whatsoever ? I mean the government knows what ' s best for it people as history has shown . [SEP] here you dropped this : [SEP] [PAD] [PAD] [PAD] [PAD] [PAD] [PAD] [PAD] [PAD] [PAD] [PAD] [PAD] [PAD]\",\n",
              " \"[CLS] You ' re not fucking ' solo ' if you have lo ##ki links . [SEP] But links are the only way I can fight b ##lo ##bs ! [SEP] [PAD] [PAD] [PAD] [PAD] [PAD] [PAD] [PAD] [PAD] [PAD] [PAD] [PAD] [PAD] [PAD] [PAD] [PAD] [PAD] [PAD] [PAD] [PAD]\",\n",
              " '[CLS] Where steam put their time and our money . . . . [SEP] T ##IL steam site de ##v ##s are actually the c ##s ##go de ##v team [SEP] [PAD] [PAD] [PAD] [PAD] [PAD] [PAD] [PAD] [PAD] [PAD] [PAD] [PAD] [PAD] [PAD] [PAD] [PAD] [PAD] [PAD] [PAD] [PAD]',\n",
              " '[CLS] They should make him charge the beaches of Normandy , on his own , under intense machine gun and mortar fire . If he survives , he should get 3 years in a P ##OW camp without [SEP] You sound like a logical person to deal with ! [SEP]',\n",
              " '[CLS] St ##umble upon this when I was fishing , never knew Monk ##s could do this ! [SEP] Just another example of how O ##P monks are [SEP] [PAD] [PAD] [PAD] [PAD] [PAD] [PAD] [PAD] [PAD] [PAD] [PAD] [PAD] [PAD] [PAD] [PAD] [PAD] [PAD] [PAD] [PAD] [PAD] [PAD] [PAD]',\n",
              " \"[CLS] Thought I wouldn ' t get it in time [SEP] Now get the purple one [SEP] [PAD] [PAD] [PAD] [PAD] [PAD] [PAD] [PAD] [PAD] [PAD] [PAD] [PAD] [PAD] [PAD] [PAD] [PAD] [PAD] [PAD] [PAD] [PAD] [PAD] [PAD] [PAD] [PAD] [PAD] [PAD] [PAD] [PAD] [PAD] [PAD] [PAD] [PAD] [PAD] [PAD]\",\n",
              " '[CLS] h ##A ##HA ##H L ##OL look at this funny [SEP] Damn , that spa ##m filter is impressive . [SEP] [PAD] [PAD] [PAD] [PAD] [PAD] [PAD] [PAD] [PAD] [PAD] [PAD] [PAD] [PAD] [PAD] [PAD] [PAD] [PAD] [PAD] [PAD] [PAD] [PAD] [PAD] [PAD] [PAD] [PAD] [PAD] [PAD] [PAD] [PAD]',\n",
              " \"[CLS] But if he was attracted to her , I ' m guessing that stable family thing would go out the window [SEP] Yeah if someone ' s attracted to someone who ' s passed out drunk they should totally rape them [SEP] [PAD] [PAD] [PAD] [PAD] [PAD] [PAD] [PAD]\",\n",
              " '[CLS] No ##mura : No plans to release Kingdom Hearts HD 1 . 5 Re ##MI ##X or HD 2 . 5 Re ##MI ##X on PlayStation 4 [SEP] Lo ##l who cares about this port when we can get Dark ##side ##rs 2 and Proto ##type [SEP] [PAD] [PAD]',\n",
              " \"[CLS] I had France and someone else in the final . . . don ' t think France was such an outrage ##ous prediction . [SEP] Obviously since they ' re playing at home the re ##fs give an advantage [SEP] [PAD] [PAD] [PAD] [PAD] [PAD] [PAD] [PAD] [PAD] [PAD]\",\n",
              " \"[CLS] I ' m partly there , although not quite as rare as you . I have dual citizenship ##s for Britain and South Africa . I ' m changing out my South African one for an American one this year most likely though . [SEP] You fucking traitor [SEP]\",\n",
              " \"[CLS] Good , you got your money ' s worth . I am su ##prise ##d how everyone here is using the re ##fu ##nd system for demo . This is why we can [SEP] Your ##e right , Il ##l switch back to pirate ##bay for my demos [SEP]\",\n",
              " '[CLS] Probably should have been titled \" food for later \" . [SEP] Ha ##ha yeah all Asian ##s eat dogs AM ##IR ##IT ##E ? [SEP] [PAD] [PAD] [PAD] [PAD] [PAD] [PAD] [PAD] [PAD] [PAD] [PAD] [PAD] [PAD] [PAD] [PAD] [PAD] [PAD] [PAD] [PAD] [PAD] [PAD] [PAD] [PAD] [PAD]',\n",
              " \"[CLS] I actually thought Vice would be the type of guys to wear a fed ##ora lo ##l . Man , I don ' t know what anything is anymore . . . . [SEP] Actually , they ' re * t ##ril ##bies * , Shit ##lord ! [SEP]\",\n",
              " '[CLS] He was having an awesome season so far . [SEP] Now you know why [SEP] [PAD] [PAD] [PAD] [PAD] [PAD] [PAD] [PAD] [PAD] [PAD] [PAD] [PAD] [PAD] [PAD] [PAD] [PAD] [PAD] [PAD] [PAD] [PAD] [PAD] [PAD] [PAD] [PAD] [PAD] [PAD] [PAD] [PAD] [PAD] [PAD] [PAD] [PAD] [PAD] [PAD] [PAD]',\n",
              " \"[CLS] Wonder how long it ' ll take for B ##re ##it ##bar ##t to float the idea that the Weather Channel is a front for a s ##nu ##ff film company . [SEP] Weather has a clear liberal bias [SEP] [PAD] [PAD] [PAD] [PAD] [PAD] [PAD] [PAD] [PAD] [PAD]\",\n",
              " '[CLS] My 2 Page Article In Card ##P ##layer [SEP] fun read , ha ##ha , although limp - jam ##ming AK U ##T ##G is the most profitable play ever . [SEP] [PAD] [PAD] [PAD] [PAD] [PAD] [PAD] [PAD] [PAD] [PAD] [PAD] [PAD] [PAD] [PAD] [PAD] [PAD] [PAD] [PAD]',\n",
              " '[CLS] 4 ##chan ! I have this one saved on my computer ha ##ha . [SEP] ha ##ha that was so funny that it needed a ha ##ha [SEP] [PAD] [PAD] [PAD] [PAD] [PAD] [PAD] [PAD] [PAD] [PAD] [PAD] [PAD] [PAD] [PAD] [PAD] [PAD] [PAD] [PAD] [PAD] [PAD] [PAD] [PAD]',\n",
              " '[CLS] Defensive Line ##men are so athletic nowadays [SEP] took me a while to see what you meant , must be hard to carry the ball like that [SEP] [PAD] [PAD] [PAD] [PAD] [PAD] [PAD] [PAD] [PAD] [PAD] [PAD] [PAD] [PAD] [PAD] [PAD] [PAD] [PAD] [PAD] [PAD] [PAD] [PAD] [PAD]',\n",
              " \"[CLS] Everyone ' s a damn expert . The reality is the program is effective at producing well rounded athletes or rather specialists in general fitness . It ' s insane ##ly popular because it ' s si ##mu ##late ##nous ##ly [SEP] Look at the expert over here [SEP]\",\n",
              " \"[CLS] Flat earth . . . even he isn ' t that crazy . . . Control ##led opposition has to be somewhat be ##lie ##vable . Flat earth , not so much . Only fool ##s think the earth is flat . [SEP] NASA s ##hill ! [SEP] [PAD]\",\n",
              " \"[CLS] 10 Things I ' d Say to the Anti - Choice Fan ##atic ##s Trying to End Access to A ##bor ##tion [SEP] Ah ' ll have none of yer well reasoned arguments and facts , Evil baby - murder ##in devil ##s ! [SEP] [PAD] [PAD] [PAD] [PAD]\",\n",
              " \"[CLS] First week or two of car ##b restriction . The ca ##lor ##ies have nothing to do with water weight , it ' s [SEP] Yep , that ' s why only low - car ##bers lose initial water weight from g ##ly ##co ##gen storage de ##ple [SEP]\",\n",
              " '[CLS] Smart ##est homeless man ever [SEP] CH ##RI ##ST ##IA ##NS - 1 AT ##H ##EI ##ST ##S - 0 [SEP] [PAD] [PAD] [PAD] [PAD] [PAD] [PAD] [PAD] [PAD] [PAD] [PAD] [PAD] [PAD] [PAD] [PAD] [PAD] [PAD] [PAD] [PAD] [PAD] [PAD] [PAD] [PAD] [PAD] [PAD] [PAD] [PAD] [PAD] [PAD]',\n",
              " \"[CLS] Riot , Champion Points are great but why can ' t we get them in every map ? Every map is different and that ' s ok . But champions ? [SEP] Because you don ' t really master a champion unless it ' s on SR . [SEP]\",\n",
              " '[CLS] Wisconsin drops 4 spots and gets jumped by Missouri for a 58 - 0 win ? [SEP] Well , Mi ##zzo ##u did beat perennial power ##house Arkansas State . [SEP] [PAD] [PAD] [PAD] [PAD] [PAD] [PAD] [PAD] [PAD] [PAD] [PAD] [PAD] [PAD] [PAD] [PAD] [PAD] [PAD] [PAD] [PAD]',\n",
              " '[CLS] This guy is a fund ##ie and way out of his league . You guys know what to do . [SEP] Way to encourage di ##ssent ##ing opinions sir . [SEP] [PAD] [PAD] [PAD] [PAD] [PAD] [PAD] [PAD] [PAD] [PAD] [PAD] [PAD] [PAD] [PAD] [PAD] [PAD] [PAD] [PAD] [PAD]',\n",
              " '[CLS] Tom Daniels ##on reveals positive test for test ##osterone on eve of Tour of Utah [SEP] I hope he tested positive for test ##osterone , he is a man ya know ! [SEP] [PAD] [PAD] [PAD] [PAD] [PAD] [PAD] [PAD] [PAD] [PAD] [PAD] [PAD] [PAD] [PAD] [PAD] [PAD] [PAD]',\n",
              " '[CLS] Welcome to red ##dit [SEP] You left off the [SEP] [PAD] [PAD] [PAD] [PAD] [PAD] [PAD] [PAD] [PAD] [PAD] [PAD] [PAD] [PAD] [PAD] [PAD] [PAD] [PAD] [PAD] [PAD] [PAD] [PAD] [PAD] [PAD] [PAD] [PAD] [PAD] [PAD] [PAD] [PAD] [PAD] [PAD] [PAD] [PAD] [PAD] [PAD] [PAD] [PAD] [PAD] [PAD] [PAD]',\n",
              " \"[CLS] If I could understand him I could care . [SEP] why won ' t these damn r ##uss ##kie ##s speak am ##eric ##an , am ##iri ##te ? [SEP] [PAD] [PAD] [PAD] [PAD] [PAD] [PAD] [PAD] [PAD] [PAD] [PAD] [PAD] [PAD] [PAD] [PAD] [PAD] [PAD] [PAD] [PAD] [PAD]\",\n",
              " \"[CLS] The fuck ? [SEP] CA ##N ' T H ##AN ##D ##LE B ##EI ##N ' E ##X ##PO ##SE ##D S ##ON ? [SEP] [PAD] [PAD] [PAD] [PAD] [PAD] [PAD] [PAD] [PAD] [PAD] [PAD] [PAD] [PAD] [PAD] [PAD] [PAD] [PAD] [PAD] [PAD] [PAD] [PAD] [PAD] [PAD] [PAD] [PAD]\",\n",
              " \"[CLS] Did he reveal his tax plan yet ? Or is he b ##laming climate change for him being late on his tax plan ? [SEP] It ' ll be less than 90 % What more do you need ? [SEP] [PAD] [PAD] [PAD] [PAD] [PAD] [PAD] [PAD] [PAD] [PAD]\",\n",
              " '[CLS] Ra ##cist S ##qua ##tters inside Detroit home being e ##victed . [SEP] Yeah obviously the news crew , neighbors and police were just op ##pressing them . [SEP] [PAD] [PAD] [PAD] [PAD] [PAD] [PAD] [PAD] [PAD] [PAD] [PAD] [PAD] [PAD] [PAD] [PAD] [PAD] [PAD] [PAD] [PAD] [PAD] [PAD]',\n",
              " '[CLS] September 19th , 2015 , Post - game discussion : Card ##s lose 5 - 4 [SEP] The good guys always win [SEP] [PAD] [PAD] [PAD] [PAD] [PAD] [PAD] [PAD] [PAD] [PAD] [PAD] [PAD] [PAD] [PAD] [PAD] [PAD] [PAD] [PAD] [PAD] [PAD] [PAD] [PAD] [PAD] [PAD] [PAD] [PAD] [PAD]',\n",
              " '[CLS] R ##ii ##ii ##ght [SEP] Oh sorry those are t ##rump ##s supporters [SEP] [PAD] [PAD] [PAD] [PAD] [PAD] [PAD] [PAD] [PAD] [PAD] [PAD] [PAD] [PAD] [PAD] [PAD] [PAD] [PAD] [PAD] [PAD] [PAD] [PAD] [PAD] [PAD] [PAD] [PAD] [PAD] [PAD] [PAD] [PAD] [PAD] [PAD] [PAD] [PAD] [PAD] [PAD] [PAD]',\n",
              " '[CLS] Which game has the best community ? [SEP] League of Legends and D ##OT ##A 2 . [SEP] [PAD] [PAD] [PAD] [PAD] [PAD] [PAD] [PAD] [PAD] [PAD] [PAD] [PAD] [PAD] [PAD] [PAD] [PAD] [PAD] [PAD] [PAD] [PAD] [PAD] [PAD] [PAD] [PAD] [PAD] [PAD] [PAD] [PAD] [PAD] [PAD] [PAD] [PAD]',\n",
              " \"[CLS] This is the one of the top reasons I prefer M ##T ##G ##O . [SEP] Are you sure i isn ' t the great client . [SEP] [PAD] [PAD] [PAD] [PAD] [PAD] [PAD] [PAD] [PAD] [PAD] [PAD] [PAD] [PAD] [PAD] [PAD] [PAD] [PAD] [PAD] [PAD] [PAD] [PAD] [PAD]\",\n",
              " \"[CLS] Sure he ' ll del ##ete a photo worth thousands . . . dude ' s gotta eat [SEP] Yeah , because he ' s totally risk ##ing starving by not capital ##izing on a woman ' s vulnerable moment . [SEP] [PAD] [PAD] [PAD] [PAD] [PAD] [PAD] [PAD]\",\n",
              " \"[CLS] Marco Arm ##ent ' s Content Block ##er , Peace , P ##ull ##ed From A ##pp Store [SEP] I for one like getting ads , how else am I going to know the deals on literally everything I ever search for on the web . [SEP] [PAD] [PAD]\",\n",
              " '[CLS] A naked Obama is in your kitchen doing a cross ##word puzzle , he refuses to leave , what do you do ? [SEP] Give him all my guns , and promise to vote for him for a third ( lifetime ) term . [SEP] [PAD] [PAD] [PAD] [PAD]',\n",
              " \"[CLS] I guess it ' s time to use my star ##dust [SEP] C ##as ##ual doesn ' t even have 10 ##m star ##dust [SEP] [PAD] [PAD] [PAD] [PAD] [PAD] [PAD] [PAD] [PAD] [PAD] [PAD] [PAD] [PAD] [PAD] [PAD] [PAD] [PAD] [PAD] [PAD] [PAD] [PAD] [PAD] [PAD] [PAD] [PAD]\",\n",
              " '[CLS] Zach La ##vin ##e ends the month of December with a line of 23 / 3 / 4 on 49 / 46 . 5 / 85 shooting ( 63 % T ##S ) . He set [SEP] and here I thought he was just a du ##nk ##er [SEP]',\n",
              " \"[CLS] So back in college I was piss drunk in bed and my girlfriend of the time put a condom on me and had her way with me , without my consent . Does that count as rape ? [SEP] No because men can ' t be raped ! [SEP]\",\n",
              " '[CLS] you may have been down ##vo ##ted because many post have been made on the subject and it was well understood that most felt it was too [SEP] Or se ##k ##rit war ##gami ##ng sabotage teams . . . * du ##n du ##n du ##n * [SEP]',\n",
              " \"[CLS] What track from 00 ##5 - Evolution should be next week ' s throw ##back song ? Full Force , Dream So ##da , Boom ##box or Del ##ay ##ed Friend Re ##quest [SEP] Well , someone ' s getting fired ! [SEP] [PAD] [PAD] [PAD] [PAD] [PAD] [PAD]\",\n",
              " '[CLS] West Coast about to get cu ##cked . Three hours for them to realize their mistake . [SEP] For the first time ever , I actually find something good on the East Coast . [SEP] [PAD] [PAD] [PAD] [PAD] [PAD] [PAD] [PAD] [PAD] [PAD] [PAD] [PAD] [PAD] [PAD] [PAD]',\n",
              " \"[CLS] I can ' t wait to see the full tone of the story . I wonder what style of Bond , Savage will be . My bet ##s are on the Craig / Dalton style ! [SEP] Fin ##gers crossed for Conner ##y [SEP] [PAD] [PAD] [PAD] [PAD] [PAD]\",\n",
              " \"[CLS] Nope , it ' s not . Especially if they cross dress and represent both gender ##s simultaneously . . . then what ? [SEP] Use the gender neutral ' it ' . [SEP] [PAD] [PAD] [PAD] [PAD] [PAD] [PAD] [PAD] [PAD] [PAD] [PAD] [PAD] [PAD] [PAD] [PAD] [PAD]\",\n",
              " \"[CLS] Portland has a history of being incredibly racist . Just because they like free range chickens doesn ' t mean they like sharing with black people . [SEP] Well , black people AR ##E known to steal bikes . [SEP] [PAD] [PAD] [PAD] [PAD] [PAD] [PAD] [PAD] [PAD] [PAD]\",\n",
              " '[CLS] There is a public garden thing on the 5th floor . It was required in order for Trump to build the building . [SEP] Fuck ##ing government . [SEP] [PAD] [PAD] [PAD] [PAD] [PAD] [PAD] [PAD] [PAD] [PAD] [PAD] [PAD] [PAD] [PAD] [PAD] [PAD] [PAD] [PAD] [PAD] [PAD] [PAD]',\n",
              " \"[CLS] She is truly someone who deserves to be the first female president of the United States . [SEP] We need to convince Hillary that she ' s actually a man . [SEP] [PAD] [PAD] [PAD] [PAD] [PAD] [PAD] [PAD] [PAD] [PAD] [PAD] [PAD] [PAD] [PAD] [PAD] [PAD] [PAD] [PAD]\",\n",
              " \"[CLS] Ch ##ronic makers , what ' s a project you ' ve dreamed of doing that has el ##uded you due to lack of time , resources , money , or ability ? Looking back in my notebook ##s [SEP] Ex Mac ##hin ##a Quality Sex Robot . [SEP]\",\n",
              " '[CLS] Did we win the war on terror yet ? [SEP] Not until all Evil has left the earth . [SEP] [PAD] [PAD] [PAD] [PAD] [PAD] [PAD] [PAD] [PAD] [PAD] [PAD] [PAD] [PAD] [PAD] [PAD] [PAD] [PAD] [PAD] [PAD] [PAD] [PAD] [PAD] [PAD] [PAD] [PAD] [PAD] [PAD] [PAD] [PAD] [PAD]',\n",
              " \"[CLS] You are under the impression that I ##m o ##b ##liga ##ted to argue with you . That ' s too bad . Have a nice night . [SEP] Thanks for stopping by [SEP] [PAD] [PAD] [PAD] [PAD] [PAD] [PAD] [PAD] [PAD] [PAD] [PAD] [PAD] [PAD] [PAD] [PAD] [PAD]\",\n",
              " \"[CLS] I understand not liking Trump , but denying people entry to your country because of their politics , is some Total ##itarian Hitler level shit . [SEP] That ' s ok , not much in Britain to look at anyway ##s . [SEP] [PAD] [PAD] [PAD] [PAD] [PAD] [PAD]\",\n",
              " '[CLS] O ##PS ##EC is used by people here to refer to what should right ##fully be called P ##ER ##SE ##C in most cases . Only vendors / re ##seller ##s need to worry about O ##PS ##EC [SEP] O ##PS ##EC CO ##MP ##RO ##MI ##SE ##D [SEP]',\n",
              " '[CLS] W ##t ##f just happened ? Experience ##d this before but I was just on a vol ##vo pub and everybody but me started to la ##g ( as in stopped still even in mid air [SEP] Random la ##g is fair & am ##p ; balanced . [SEP]',\n",
              " '[CLS] I looked at the picture and thought , \" this will achieve nothing . \" [SEP] In contrast to all of the protesting that does accomplish something ? [SEP] [PAD] [PAD] [PAD] [PAD] [PAD] [PAD] [PAD] [PAD] [PAD] [PAD] [PAD] [PAD] [PAD] [PAD] [PAD] [PAD] [PAD] [PAD] [PAD] [PAD]',\n",
              " '[CLS] If the car is a rock ##in , thanks for not just walk ##in . [SEP] [ N ##SF ##W ] Wait . . . that makes it sound like you want us to watch you [ having sex in your car . ] [SEP] [PAD] [PAD] [PAD] [PAD]',\n",
              " '[CLS] I swear if I see another one of those generic \" vaccine causes autism \" comment , im going to flip [SEP] V ##ac ##cine causes autism . [SEP] [PAD] [PAD] [PAD] [PAD] [PAD] [PAD] [PAD] [PAD] [PAD] [PAD] [PAD] [PAD] [PAD] [PAD] [PAD] [PAD] [PAD] [PAD] [PAD] [PAD]',\n",
              " '[CLS] \" I don ##t use guns \" Meanwhile bat ##mobile in new game has a 50 ca ##l on the roof . [SEP] Ha ##ha he only kills drone ##s with it though ! [SEP] [PAD] [PAD] [PAD] [PAD] [PAD] [PAD] [PAD] [PAD] [PAD] [PAD] [PAD] [PAD] [PAD] [PAD]',\n",
              " '[CLS] Woman awarded $ 1 . 5 ##M after a brain injury in a car accident turned her from a promising media - arts student into a Dom ##ina ##tri ##x [SEP] Maybe she always wanted to do this , but she needed an excuse . [SEP] [PAD] [PAD] [PAD]',\n",
              " '[CLS] P ##ss ##hh ##h easy fix . . . just stop being black . . . M ##J did it ! [SEP] That worked out pretty well in the end . [SEP] [PAD] [PAD] [PAD] [PAD] [PAD] [PAD] [PAD] [PAD] [PAD] [PAD] [PAD] [PAD] [PAD] [PAD] [PAD] [PAD] [PAD]',\n",
              " '[CLS] What are the odds Zen ##di ##kar might get go ##bbled up ? Personal ##ly I consider it very unlikely , but if New Ph ##yre ##xia taught us anything , it is that no plane is [SEP] Then the fetch ##es will never be reprinted then ! [SEP]',\n",
              " '[CLS] \" You know the way that E ##bol ##a spreads over in Africa is by the locals fucking monkeys . \" I wanted to jam his head in the c ##inder - block press for that ignorance . [SEP] Yu ##p , same way AIDS started . [SEP] [PAD]',\n",
              " '[CLS] I bet typing that made you feel so cool . [SEP] I bet it feels so cool having been in that square in Cologne , unable to defend yourself . . . just should have waited for the police [SEP] [PAD] [PAD] [PAD] [PAD] [PAD] [PAD] [PAD] [PAD] [PAD]',\n",
              " \"[CLS] It ' s not silver , but I thought you guys may want to see 10 k ##ilo ##s of 96 % platinum . [SEP] Just as long as it isn ' t copper . [SEP] [PAD] [PAD] [PAD] [PAD] [PAD] [PAD] [PAD] [PAD] [PAD] [PAD] [PAD] [PAD] [PAD]\",\n",
              " '[CLS] \" Have you ever noticed how a great deal of s ##tur ##m und d ##rang is placed on what whites and males have [SEP] Lizzie Bo ##rden took an A ##xe . . . . G ##ave her mother 40 w ##hack ##s . . . No [SEP]',\n",
              " \"[CLS] That time on my mission that a member of the 70 came and taught us false doctrine . It became my first big shelf [SEP] By that logic those script ##ures where not a hair was harm ##ed on their head didn ' t include facial hair , [SEP]\",\n",
              " '[CLS] Just played against all ha ##nz ##os and it was horrible , barely won . [SEP] You forgot the [SEP] [PAD] [PAD] [PAD] [PAD] [PAD] [PAD] [PAD] [PAD] [PAD] [PAD] [PAD] [PAD] [PAD] [PAD] [PAD] [PAD] [PAD] [PAD] [PAD] [PAD] [PAD] [PAD] [PAD] [PAD] [PAD] [PAD] [PAD] [PAD] [PAD]',\n",
              " \"[CLS] Col ##late ##ral damage is not acceptable . Making war on civilians is not acceptable . The day you find yourself rational ##izing the [SEP] But , if we don ' t fight them over there , they ' ll come here and kill us in our homes [SEP]\",\n",
              " \"[CLS] This just happened in my hometown ! - Half - million Dollar Met ##ham ##phe ##tamine Bus ##t ! ! [SEP] That ' s just enough to get a party started ! [SEP] [PAD] [PAD] [PAD] [PAD] [PAD] [PAD] [PAD] [PAD] [PAD] [PAD] [PAD] [PAD] [PAD] [PAD] [PAD] [PAD]\",\n",
              " \"[CLS] Master Yi Dance Speed s ##cal ##ing with Movement Speed [SEP] Quality patch content , I ' m glad someone took the time to do this . [SEP] [PAD] [PAD] [PAD] [PAD] [PAD] [PAD] [PAD] [PAD] [PAD] [PAD] [PAD] [PAD] [PAD] [PAD] [PAD] [PAD] [PAD] [PAD] [PAD] [PAD] [PAD]\",\n",
              " \"[CLS] Can you explain ? I completely disagree . . . J ##L ##in is nothing like Steve Kerr or Fisher . . . J [SEP] but l ##in went to ha ##rva ##rd and is as ##ian and is smart so he ' ll pick up the system [SEP]\",\n",
              " \"[CLS] I am sitting on a $ 2 , 800 bill I received a couple of weeks ago after a recent ER visit due to kidney stones [SEP] But I don ' t get it . . . can ' t you just sell some of your stock ? [SEP]\",\n",
              " \"[CLS] At a party , walked into the basement , and I ' m leaving . . . [SEP] No man all that is about heritage , not hate . [SEP] [PAD] [PAD] [PAD] [PAD] [PAD] [PAD] [PAD] [PAD] [PAD] [PAD] [PAD] [PAD] [PAD] [PAD] [PAD] [PAD] [PAD] [PAD] [PAD]\",\n",
              " \"[CLS] Ain ' t nobody got time for that . Also , what ' s a sniper round ? [SEP] I have a . 22 ##LR that I consider my sniper . . . wonder what he could do with those . [SEP] [PAD] [PAD] [PAD] [PAD] [PAD] [PAD] [PAD]\",\n",
              " '[CLS] N ##ude yoga with model - Lu ##ba Shu ##me ##yk ##o [SEP] I like how all the s ##natch shots are on the other side . [SEP] [PAD] [PAD] [PAD] [PAD] [PAD] [PAD] [PAD] [PAD] [PAD] [PAD] [PAD] [PAD] [PAD] [PAD] [PAD] [PAD] [PAD] [PAD] [PAD] [PAD] [PAD]',\n",
              " \"[CLS] Why don ' t scope ##s and no ##scope ##s have different kill icons ? This is coming from someone who primarily s ##pect ##ates and rarely [SEP] it ' s just an if statement to see if the killer is scope ##d in or not right ? [SEP]\",\n",
              " '[CLS] ha ##ha nice funny and original joke ha ##ha ##ha ##ha ##ha [SEP] X ##D & l ##t ; - literally my face on Ad ##der ##all when I saw the joke [SEP] [PAD] [PAD] [PAD] [PAD] [PAD] [PAD] [PAD] [PAD] [PAD] [PAD] [PAD] [PAD] [PAD] [PAD] [PAD] [PAD]',\n",
              " \"[CLS] Common sense . [SEP] Thanks for actually explaining what ' s wrong with making hollow point rifle rounds , instead of being a con ##des ##cend ##ing p ##rick about it . [SEP] [PAD] [PAD] [PAD] [PAD] [PAD] [PAD] [PAD] [PAD] [PAD] [PAD] [PAD] [PAD] [PAD] [PAD] [PAD] [PAD]\",\n",
              " '[CLS] The Dark Zone is about to get real . Anyone else s ##tok ##ed about the war to come ? With supply drops and being able to safely assume every player is [SEP] I can ##t wait for D ##Z ##0 ##6 to be completely un ##play ##able [SEP]',\n",
              " \"[CLS] G ##eh ##ry and talent don ' t belong in the same paragraph . [SEP] Yet you have them just three words apart . . . . [SEP] [PAD] [PAD] [PAD] [PAD] [PAD] [PAD] [PAD] [PAD] [PAD] [PAD] [PAD] [PAD] [PAD] [PAD] [PAD] [PAD] [PAD] [PAD] [PAD] [PAD] [PAD]\",\n",
              " \"[CLS] First , I use v ##im a lot but with plug ##ins it tends to slow down . It ' s not really fair to compare van [SEP] I thought V ##S was on the chart , but disappearing off the far end of the x - axis [SEP]\",\n",
              " \"[CLS] That ' s just sad . Why do they even have a sinking feature ? [SEP] Because Titanic never happened ? [SEP] [PAD] [PAD] [PAD] [PAD] [PAD] [PAD] [PAD] [PAD] [PAD] [PAD] [PAD] [PAD] [PAD] [PAD] [PAD] [PAD] [PAD] [PAD] [PAD] [PAD] [PAD] [PAD] [PAD] [PAD] [PAD] [PAD] [PAD]\",\n",
              " \"[CLS] This guy dropped 46 kills , all heads ##hot ##s with p ##90 . Flame ##d at us saying he was a Global s ##mu ##rf and had been playing since 2003 . Over [SEP] But he ' s sponsored by H ##yper ##X guys . . . [SEP]\",\n",
              " \"[CLS] If it ' s even a possibility why bother ? [SEP] P ##uss ##y ? [SEP] [PAD] [PAD] [PAD] [PAD] [PAD] [PAD] [PAD] [PAD] [PAD] [PAD] [PAD] [PAD] [PAD] [PAD] [PAD] [PAD] [PAD] [PAD] [PAD] [PAD] [PAD] [PAD] [PAD] [PAD] [PAD] [PAD] [PAD] [PAD] [PAD] [PAD] [PAD] [PAD] [PAD]\",\n",
              " \"[CLS] If B ##re ##it ##bar ##t was a W ##N site , they wouldn ' t have a gay , inter ##rac ##ial f ##eti ##shi ##st Jewish tech editor [SEP] Yeah and if America was a racist country they wouldn ' t have a half black president [SEP]\",\n",
              " '[CLS] \" Your universe a ##wai ##ts \" screen has replaced \" your galaxy a ##wai ##ts \" from the pulled version . That explains it . [SEP] A ##w ##w , I was hoping that each player would get their own galaxy . . . [SEP] [PAD] [PAD] [PAD]',\n",
              " '[CLS] I love how the dog just accepts it . It \\' s that look of \" this is my life now \" [SEP] I \\' m really impressed by your ability to steal as many comments as you can from the im ##gu ##r post . [SEP] [PAD] [PAD]',\n",
              " \"[CLS] It ' s our ability to disc ##rim ##inate against gay ##s that separates us from the low ##ly a ##pes [SEP] na ##h , we ' re not related to a ##pes at all , we don ' t share a common ancestor . [SEP] [PAD] [PAD] [PAD]\",\n",
              " \"[CLS] Found this on my Facebook news ##fe ##ed with thousands of Christians demanding it be taken down . The guy who posted it still hasn ' t . [SEP] Good job at ##heist ##s another win for US Y ##ES [SEP] [PAD] [PAD] [PAD] [PAD] [PAD] [PAD] [PAD] [PAD]\",\n",
              " \"[CLS] This game is fucked . Only one can hope that NHL 17 is better . Using my l ##ind ##ross to skate full speed at someone [SEP] B ##u . . . but , ice tilt isn ' t real cause EA said it wasn ' t ! [SEP]\",\n",
              " '[CLS] Cause ##s of At ##he ##ism Poor relationship with father ? Mo ##ral De ##pra ##vity ? E ##rro ##r ? I cannot believe [SEP] Of course people naturally grow up believing complex and self - con ##tra ##dict ##ing del ##usions , so at ##he ##ism must [SEP]',\n",
              " \"[CLS] So the big game in this video is a fucking 5 year old one ? Are you kidding ? [SEP] Z ##eld ##a and Mario definitely aren ' t Nintendo ' s big games or anything [SEP] [PAD] [PAD] [PAD] [PAD] [PAD] [PAD] [PAD] [PAD] [PAD] [PAD] [PAD] [PAD]\",\n",
              " '[CLS] This is far from a finished drawing , and I only crap ##ped it out quickly to see if the idea actually made me chuckle lo ##l . If anyone likes the idea of this crap drawing [SEP] Stop pushing your que ##er agenda , f ##ag ! [SEP]',\n",
              " \"[CLS] Here Are the Most Inn ##ova ##tive States in America - Oregon is 6th [SEP] But that is OK , but Oregon ' s re ##g ##ress ##ive and burden ##some taxes keep businesses away and is shrink ##ing our economy . [SEP] [PAD] [PAD] [PAD] [PAD] [PAD] [PAD]\",\n",
              " \"[CLS] Can confirm , I worked at a supermarket and when Obama passed the law about the benefits they cut everyone ' s hours down to 32 and hired more employees . [SEP] More jobs ! [SEP] [PAD] [PAD] [PAD] [PAD] [PAD] [PAD] [PAD] [PAD] [PAD] [PAD] [PAD] [PAD] [PAD]\",\n",
              " \"[CLS] Everything except competent ##ly building a new data center . Their new super facility in Bluff ##dale U ##T is having some severe issues right now during commissioning . They [SEP] I ' m sure that it has nothing to do with the scale of the operation . [SEP]\",\n",
              " '[CLS] Yu ##p , said it before : T ##H ##IS IS F ##RO ##M THE P ##L ##OT OF THE X F ##IL ##ES M ##O ##VI ##E , IT H ##AS NO P ##LA ##CE IN [SEP] B ##lah b ##lah predict ##ive programming b ##lah . [SEP]',\n",
              " '[CLS] M ##H ##X ##X Must have at least one other new de ##vian ##t , what would you guys want to see make the cut ? I [SEP] Devi ##ant P ##les ##iot ##h that requires 2 consecutive son ##ic bombs before it comes out of the sand [SEP]',\n",
              " \"[CLS] For ##got that ' s our responsibility [SEP] Well , next time be more careful . [SEP] [PAD] [PAD] [PAD] [PAD] [PAD] [PAD] [PAD] [PAD] [PAD] [PAD] [PAD] [PAD] [PAD] [PAD] [PAD] [PAD] [PAD] [PAD] [PAD] [PAD] [PAD] [PAD] [PAD] [PAD] [PAD] [PAD] [PAD] [PAD] [PAD] [PAD] [PAD] [PAD]\",\n",
              " \"[CLS] I agree with the first paragraph 100 % , one day I ' ll run a tournament and make everyone play by the 2 meter rule . If you get a chance to listen to the Final Round Radio [SEP] You don ' t like fire pits ? [SEP]\",\n",
              " \"[CLS] I thought mon ##te was not bias ##ed I guess he ' s just the same as j ##att . [SEP] clearly he was being serious and stop talking after saying that . [SEP] [PAD] [PAD] [PAD] [PAD] [PAD] [PAD] [PAD] [PAD] [PAD] [PAD] [PAD] [PAD] [PAD] [PAD] [PAD]\",\n",
              " \"[CLS] Manning [SEP] Let ' s tell people not go into under ##manned fields so we can solve our man ##ning problems . [SEP] [PAD] [PAD] [PAD] [PAD] [PAD] [PAD] [PAD] [PAD] [PAD] [PAD] [PAD] [PAD] [PAD] [PAD] [PAD] [PAD] [PAD] [PAD] [PAD] [PAD] [PAD] [PAD] [PAD] [PAD] [PAD] [PAD]\",\n",
              " '[CLS] SH ##TF ##p ##lan : UP ##DA ##TE : Up to 5 , 000 Armed Militia Members Will Be A ##rri ##ving in B [SEP] 5000 people with nothing better to do , no leader to keep them aligned , and a load of guns . . . [SEP]',\n",
              " \"[CLS] Then how will it change anything ? [SEP] How will I know if a post is funny if the up ##vo ##tes don ' t tell me so ! [SEP] [PAD] [PAD] [PAD] [PAD] [PAD] [PAD] [PAD] [PAD] [PAD] [PAD] [PAD] [PAD] [PAD] [PAD] [PAD] [PAD] [PAD] [PAD] [PAD]\",\n",
              " \"[CLS] I ' m not sure where they are selling fast , because I have never seen or even heard of any in stock in the US . I found 5 ##x of different [SEP] Yeah . . not a single 480 can ##t be found in the US [SEP]\",\n",
              " \"[CLS] So if this passes , we have 2 - 6 grow ##ers in the state where every plant is tracked in every stage of growth , distribution , use and destruction to an incredibly small handful of users that [SEP] It ' s * small government * ! [SEP]\",\n",
              " '[CLS] I ##m at Spot ##less Stadium behind where the soccer goals will be . For once , I feel for you W ##S ##W Fan ##s . [SEP] Perfect angle to throw banana ##s [SEP] [PAD] [PAD] [PAD] [PAD] [PAD] [PAD] [PAD] [PAD] [PAD] [PAD] [PAD] [PAD] [PAD] [PAD]',\n",
              " \"[CLS] I ' m voting for Trump to spite this post . [SEP] For ##got [SEP] [PAD] [PAD] [PAD] [PAD] [PAD] [PAD] [PAD] [PAD] [PAD] [PAD] [PAD] [PAD] [PAD] [PAD] [PAD] [PAD] [PAD] [PAD] [PAD] [PAD] [PAD] [PAD] [PAD] [PAD] [PAD] [PAD] [PAD] [PAD] [PAD] [PAD] [PAD] [PAD] [PAD] [PAD]\",\n",
              " \"[CLS] For the first 3 or 4 pumps it ' s commitment to the joke . . . the following 57 ##8 pumps are scary and unnecessary . The c ##ring ##e face win ##ces harder with each [SEP] That ' s just more commitment to the joke . [SEP]\",\n",
              " '[CLS] Uh ##hh . . . . yeah . Good call . [SEP] Sorry , meant to end with [SEP] [PAD] [PAD] [PAD] [PAD] [PAD] [PAD] [PAD] [PAD] [PAD] [PAD] [PAD] [PAD] [PAD] [PAD] [PAD] [PAD] [PAD] [PAD] [PAD] [PAD] [PAD] [PAD] [PAD] [PAD] [PAD] [PAD] [PAD] [PAD] [PAD] [PAD]',\n",
              " '[CLS] B ##U ##G : Ce ##ss ##pool ##s rift floor does not provide a check ##point , extreme F ##PS drops . As the [SEP] I think the frame rate drops are there to make sure that you really get the chance to take in the looks of [SEP]',\n",
              " '[CLS] Manchester City N ##ex ##en T ##ire Challenge [SEP] I suppose this settle ##s the Na ##cho debate ? [SEP] [PAD] [PAD] [PAD] [PAD] [PAD] [PAD] [PAD] [PAD] [PAD] [PAD] [PAD] [PAD] [PAD] [PAD] [PAD] [PAD] [PAD] [PAD] [PAD] [PAD] [PAD] [PAD] [PAD] [PAD] [PAD] [PAD] [PAD] [PAD] [PAD]',\n",
              " \"[CLS] Non - Lions fans ; Do you want N ##dam ##uk ##ong Su ##h on your team if he doesn ' t re - sign with [SEP] Do I want the best D ##T and one of the best defensive players in the league , yeah tough question [SEP]\",\n",
              " '[CLS] And I do use the hell out of them to be fair . Good o ##l lightning est ##oc & l ##t ; 3 [SEP] I bet you are an ice rap ##ier have ##lm ##ons ##ter in dark souls 2 . [SEP] [PAD] [PAD] [PAD] [PAD] [PAD] [PAD]',\n",
              " \"[CLS] I don ' t understand your argument . People without guns use less lethal arms to commit violence ? Sounds about right . . . [SEP] They probably have a ton of mass stabbing ##s over there [SEP] [PAD] [PAD] [PAD] [PAD] [PAD] [PAD] [PAD] [PAD] [PAD] [PAD] [PAD]\",\n",
              " '[CLS] Fall ##out 4 was just a cash grab . . . [SEP] Here , you dropped your [SEP] [PAD] [PAD] [PAD] [PAD] [PAD] [PAD] [PAD] [PAD] [PAD] [PAD] [PAD] [PAD] [PAD] [PAD] [PAD] [PAD] [PAD] [PAD] [PAD] [PAD] [PAD] [PAD] [PAD] [PAD] [PAD] [PAD] [PAD] [PAD] [PAD] [PAD] [PAD]',\n",
              " \"[CLS] It ' s so sad to believe that this is true . With such a motive that hasn ' t really been said of [SEP] SH ##UT UP D ##UR D ##UR IT WA ##S A PA ##R ##K ##ING D ##IS ##P ##UT ##E D ##UR D [SEP]\",\n",
              " '[CLS] Why post this in \" at ##he ##ism \" Red ##dit ? The vast majority of non ##ath ##ei ##sts are cool with scientific method , enthusiastic ##ally embrace doubt , and find the [SEP] as if at ##he ##ism had anything to do with creation ##ism . [SEP]',\n",
              " '[CLS] Ka ##ny ##e is reportedly trying to record music from his hospital bed [SEP] how brilliant [SEP] [PAD] [PAD] [PAD] [PAD] [PAD] [PAD] [PAD] [PAD] [PAD] [PAD] [PAD] [PAD] [PAD] [PAD] [PAD] [PAD] [PAD] [PAD] [PAD] [PAD] [PAD] [PAD] [PAD] [PAD] [PAD] [PAD] [PAD] [PAD] [PAD] [PAD] [PAD] [PAD]',\n",
              " \"[CLS] Since Jo ##ining the Mets ( Aug ' 15 - Present ) , Ce ##sp ##ede ##s has a . 62 ##4 SL ##G % - - higher than Harper , Gold ##sch ##mi ##dt , Donaldson , [SEP] He ' s over ##rated though . . . [SEP]\",\n",
              " \"[CLS] Yeah I wouldn ' t use a product that had a camera pointed right at me whenever I used it . Talk about privacy issues . ^ ^ posted ^ ^ from ^ ^ my ^ ^ i ##phone ^ ^ 6 ##s [SEP] You dropped the [SEP] [PAD]\",\n",
              " '[CLS] Because they could buy it all [SEP] Do you think water should be a human right or something ? [SEP] [PAD] [PAD] [PAD] [PAD] [PAD] [PAD] [PAD] [PAD] [PAD] [PAD] [PAD] [PAD] [PAD] [PAD] [PAD] [PAD] [PAD] [PAD] [PAD] [PAD] [PAD] [PAD] [PAD] [PAD] [PAD] [PAD] [PAD] [PAD] [PAD]',\n",
              " \"[CLS] If a queen had twins who would be next in line for the throne ? [SEP] T ##IL twins aren ' t born at the same time . . . [SEP] [PAD] [PAD] [PAD] [PAD] [PAD] [PAD] [PAD] [PAD] [PAD] [PAD] [PAD] [PAD] [PAD] [PAD] [PAD] [PAD] [PAD] [PAD]\",\n",
              " '[CLS] \" In its 2010 manifest ##o UK ##IP proposed a 40 percent increase in defence spending and the purchase of three new aircraft carriers [SEP] Far ##age thinks that Germany and France will launch an invasion of Britain if the UK leaves the EU so that \\' s [SEP]',\n",
              " \"[CLS] Meanwhile , on the IS ##S . [SEP] Cause without the US the world a - stops spin ##nin ' . . . . [SEP] [PAD] [PAD] [PAD] [PAD] [PAD] [PAD] [PAD] [PAD] [PAD] [PAD] [PAD] [PAD] [PAD] [PAD] [PAD] [PAD] [PAD] [PAD] [PAD] [PAD] [PAD] [PAD] [PAD] [PAD]\",\n",
              " '[CLS] We appropriate ##d S ##J ##W culture and made it our own . [SEP] Li ##teral ##ly rap ##ing them right now [SEP] [PAD] [PAD] [PAD] [PAD] [PAD] [PAD] [PAD] [PAD] [PAD] [PAD] [PAD] [PAD] [PAD] [PAD] [PAD] [PAD] [PAD] [PAD] [PAD] [PAD] [PAD] [PAD] [PAD] [PAD] [PAD] [PAD]',\n",
              " '[CLS] T ##rol ##olo ##lo ##lo ##lo , what a no ##ob , what a no ##ob , the customer is no ##ob : D [SEP] Found the 8 - year - old Co ##D kid . [SEP] [PAD] [PAD] [PAD] [PAD] [PAD] [PAD] [PAD] [PAD] [PAD] [PAD] [PAD] [PAD]',\n",
              " '[CLS] Giants acquire De A ##za [SEP] Somebody E ##L ##I ##5 why you can make a trade after the trade deadline ? [SEP] [PAD] [PAD] [PAD] [PAD] [PAD] [PAD] [PAD] [PAD] [PAD] [PAD] [PAD] [PAD] [PAD] [PAD] [PAD] [PAD] [PAD] [PAD] [PAD] [PAD] [PAD] [PAD] [PAD] [PAD] [PAD] [PAD]',\n",
              " '[CLS] bang ##er songs [SEP] just like bang ##eran ##g , my favorite dub ##ste ##p by s ##k ##rille ##x [SEP] [PAD] [PAD] [PAD] [PAD] [PAD] [PAD] [PAD] [PAD] [PAD] [PAD] [PAD] [PAD] [PAD] [PAD] [PAD] [PAD] [PAD] [PAD] [PAD] [PAD] [PAD] [PAD] [PAD] [PAD] [PAD] [PAD] [PAD] [PAD]',\n",
              " \"[CLS] I ' d say No Rep ##ly At All or Watch ##er of the Ski ##es [SEP] He was pretty good on the trumpet on No Rep ##ly at All [SEP] [PAD] [PAD] [PAD] [PAD] [PAD] [PAD] [PAD] [PAD] [PAD] [PAD] [PAD] [PAD] [PAD] [PAD] [PAD] [PAD] [PAD] [PAD]\",\n",
              " '[CLS] Phil Ke ##ssel : \" I think the way the media treats Dion Ph ##ane ##uf in this city is embarrassing . \" [SEP] Phil Ke ##ssel is at it again , attacking the media ! [SEP] [PAD] [PAD] [PAD] [PAD] [PAD] [PAD] [PAD] [PAD] [PAD] [PAD] [PAD] [PAD]',\n",
              " '[CLS] I made a x ##box / ps ##4 g ##pu with working fan . [SEP] They can finally feel the silky smooth 60 f ##ps and the glorious 108 ##0 ##p [SEP] [PAD] [PAD] [PAD] [PAD] [PAD] [PAD] [PAD] [PAD] [PAD] [PAD] [PAD] [PAD] [PAD] [PAD] [PAD] [PAD] [PAD]',\n",
              " \"[CLS] Gee , it ' s almost like I look at these situations on a case by case basis and arrive at my own conclusions [SEP] Why would I do that when the optimal way to farm ka ##rma is to flip ##f ##lop my view based on what [SEP]\",\n",
              " \"[CLS] He sure loved to bring up the polls when he was shown as winning . [SEP] He ' s still w ##hin ##ing . [SEP] [PAD] [PAD] [PAD] [PAD] [PAD] [PAD] [PAD] [PAD] [PAD] [PAD] [PAD] [PAD] [PAD] [PAD] [PAD] [PAD] [PAD] [PAD] [PAD] [PAD] [PAD] [PAD] [PAD] [PAD]\",\n",
              " \"[CLS] Works in the West too , instead of I ##mans we call the ' Professor ##s ' . [SEP] Yes , a professor is exactly the same as a religious leader . [SEP] [PAD] [PAD] [PAD] [PAD] [PAD] [PAD] [PAD] [PAD] [PAD] [PAD] [PAD] [PAD] [PAD] [PAD] [PAD] [PAD]\",\n",
              " '[CLS] This . On one hand they suffered during the ho ##loc ##aus ##t , and gave an excellent person to compare op ##press ##ors [SEP] T ##H ##IS IS W ##H ##Y IN ##TE ##RS ##EC ##TI ##ON ##AL F ##EM ##IN ##IS ##M IS I ##MP ##OR [SEP]',\n",
              " \"[CLS] G ##f break up with me and has already a new one . Any tips to recover ? Long story short : we had a heavy argument , I was [SEP] If she has a new g ##f she just didn ' t know she was a lesbian [SEP]\",\n",
              " \"[CLS] Orange is the New Black . Found the plot dull , and the characters either i ##rri ##tating or un ##int ##ere ##sting . I don ' t know what I expected . [SEP] Uh , lesbian sex ! [SEP] [PAD] [PAD] [PAD] [PAD] [PAD] [PAD] [PAD] [PAD] [PAD]\",\n",
              " '[CLS] S ##y ##fy Can ##cel ##s Star ##gate Universe [SEP] W ##O ##O ##O ##oo ##o M ##OR ##E R ##O ##OM F ##OR WR ##ES ##TL ##ING ! [SEP] [PAD] [PAD] [PAD] [PAD] [PAD] [PAD] [PAD] [PAD] [PAD] [PAD] [PAD] [PAD] [PAD] [PAD] [PAD] [PAD] [PAD] [PAD] [PAD]',\n",
              " \"[CLS] Did you even look into the history behind the original post before you decided to ass ##rea ##m me ? Or are you just being a dick because you ' re pissed at someone i ##rl ? [SEP] No man , big p ##har ##ma ! [SEP] [PAD] [PAD]\",\n",
              " \"[CLS] Clean ##ing Cable ##s My roommate ##s stupid ass cat has been shit ##ting and piss ##ing on my pile of wrapped up cables . There ' s about 15 of them . [SEP] Patch the cat into the ceiling fan with a fast attack and medium release [SEP]\",\n",
              " '[CLS] 17 minutes of added time in the Asian Champions League [SEP] Wow , Fe ##rg ##ie would be proud . [SEP] [PAD] [PAD] [PAD] [PAD] [PAD] [PAD] [PAD] [PAD] [PAD] [PAD] [PAD] [PAD] [PAD] [PAD] [PAD] [PAD] [PAD] [PAD] [PAD] [PAD] [PAD] [PAD] [PAD] [PAD] [PAD] [PAD] [PAD] [PAD]',\n",
              " '[CLS] Kevin Du ##rant just followed Heat owner Mick ##y Ari ##son on Twitter [SEP] K ##D stepping up his social media mind games to Le ##bro ##n levels ? [SEP] [PAD] [PAD] [PAD] [PAD] [PAD] [PAD] [PAD] [PAD] [PAD] [PAD] [PAD] [PAD] [PAD] [PAD] [PAD] [PAD] [PAD] [PAD] [PAD]',\n",
              " '[CLS] Is this going to happen for d ##l ##c 4 ? [SEP] What about der r ##ies ##e ? [SEP] [PAD] [PAD] [PAD] [PAD] [PAD] [PAD] [PAD] [PAD] [PAD] [PAD] [PAD] [PAD] [PAD] [PAD] [PAD] [PAD] [PAD] [PAD] [PAD] [PAD] [PAD] [PAD] [PAD] [PAD] [PAD] [PAD] [PAD] [PAD] [PAD]',\n",
              " \"[CLS] S ##hr ##oom ##ed ' s Doc [SEP] I said most technical player not only player [SEP] [PAD] [PAD] [PAD] [PAD] [PAD] [PAD] [PAD] [PAD] [PAD] [PAD] [PAD] [PAD] [PAD] [PAD] [PAD] [PAD] [PAD] [PAD] [PAD] [PAD] [PAD] [PAD] [PAD] [PAD] [PAD] [PAD] [PAD] [PAD] [PAD] [PAD] [PAD] [PAD]\",\n",
              " '[CLS] He still fucked up things with Katie Perry . That is a good looking woman . . . still a dumb ##ass . Sorry , it is what it [SEP] This is the type of in depth philosophy I come to expect from this sub . . . [SEP]',\n",
              " \"[CLS] Alright , then stop . Please , by any and all means , go right ahead and stop doing so this instant . Oh wait , you * can ' t * stop , because in reality [SEP] Ask your doctor if this is right for you . [SEP]\",\n",
              " '[CLS] What should my first FIFA 17 career be ? [SEP] Oh ##h you little glory hunter . [SEP] [PAD] [PAD] [PAD] [PAD] [PAD] [PAD] [PAD] [PAD] [PAD] [PAD] [PAD] [PAD] [PAD] [PAD] [PAD] [PAD] [PAD] [PAD] [PAD] [PAD] [PAD] [PAD] [PAD] [PAD] [PAD] [PAD] [PAD] [PAD] [PAD] [PAD] [PAD]',\n",
              " '[CLS] 23 years later and some cost only 2 hundred less than that . [SEP] Yu ##p because a modern smart phone is the exact same tech as that cell ##phone . [SEP] [PAD] [PAD] [PAD] [PAD] [PAD] [PAD] [PAD] [PAD] [PAD] [PAD] [PAD] [PAD] [PAD] [PAD] [PAD] [PAD] [PAD]',\n",
              " '[CLS] What If I currently play c ##iv v van ##illa and enjoy it ? [SEP] Well fuck you buddy ! [SEP] [PAD] [PAD] [PAD] [PAD] [PAD] [PAD] [PAD] [PAD] [PAD] [PAD] [PAD] [PAD] [PAD] [PAD] [PAD] [PAD] [PAD] [PAD] [PAD] [PAD] [PAD] [PAD] [PAD] [PAD] [PAD] [PAD] [PAD] [PAD]',\n",
              " '[CLS] sucks for her . ka ##rma for what she did to that poor gas station attendant . [SEP] Yeah the two incidents are totally comparable . [SEP] [PAD] [PAD] [PAD] [PAD] [PAD] [PAD] [PAD] [PAD] [PAD] [PAD] [PAD] [PAD] [PAD] [PAD] [PAD] [PAD] [PAD] [PAD] [PAD] [PAD] [PAD] [PAD]',\n",
              " \"[CLS] Super Bunny ##hop : Gaming with a above 60 f ##ps [SEP] But our eyes can ' t see more than 30 ##f ##ps ! [SEP] [PAD] [PAD] [PAD] [PAD] [PAD] [PAD] [PAD] [PAD] [PAD] [PAD] [PAD] [PAD] [PAD] [PAD] [PAD] [PAD] [PAD] [PAD] [PAD] [PAD] [PAD] [PAD] [PAD]\",\n",
              " \"[CLS] Holy shit ! I don ' t know anything about Warren Far ##rel , but people should be allowed to listen to information and decide for themselves if it is worth exploring without being called rap [SEP] Listen ##ing and deciding for yourself don ' t real . [SEP]\",\n",
              " '[CLS] I asked \" When was American great ? \" and was promptly banned ! Just a simple question as I don \\' t know when the Donald fans mean the [SEP] America was great in ( 2016 - my _ age + 18 ) , du ##mmy ! [SEP]',\n",
              " '[CLS] Love my m ##si laptop nothing but ch ##rome pre installed [SEP] How do you use Ch ##rome without Windows installed ? [SEP] [PAD] [PAD] [PAD] [PAD] [PAD] [PAD] [PAD] [PAD] [PAD] [PAD] [PAD] [PAD] [PAD] [PAD] [PAD] [PAD] [PAD] [PAD] [PAD] [PAD] [PAD] [PAD] [PAD] [PAD] [PAD] [PAD]',\n",
              " \"[CLS] I see a lot of G ##D , TO ##P , and Ta ##ey ##ang on here , but where ' s the love for Se ##ung ##ri ? [SEP] He ' s into b ##ds ##m too if that ' s your thing [SEP] [PAD] [PAD] [PAD] [PAD]\",\n",
              " '[CLS] Feel the La ##rr doesn \\' t have the same ring to it . [SEP] \" my little brother did it so can i \" doesn \\' t either [SEP] [PAD] [PAD] [PAD] [PAD] [PAD] [PAD] [PAD] [PAD] [PAD] [PAD] [PAD] [PAD] [PAD] [PAD] [PAD] [PAD] [PAD] [PAD] [PAD]',\n",
              " '[CLS] So S ##hari ##a law next ? [SEP] No no this is TO ##TA ##LL ##Y different . [SEP] [PAD] [PAD] [PAD] [PAD] [PAD] [PAD] [PAD] [PAD] [PAD] [PAD] [PAD] [PAD] [PAD] [PAD] [PAD] [PAD] [PAD] [PAD] [PAD] [PAD] [PAD] [PAD] [PAD] [PAD] [PAD] [PAD] [PAD] [PAD] [PAD] [PAD]',\n",
              " '[CLS] How do you . . . Sit down ? [SEP] If you have to ask the question you need to lose weight . [SEP] [PAD] [PAD] [PAD] [PAD] [PAD] [PAD] [PAD] [PAD] [PAD] [PAD] [PAD] [PAD] [PAD] [PAD] [PAD] [PAD] [PAD] [PAD] [PAD] [PAD] [PAD] [PAD] [PAD] [PAD] [PAD]',\n",
              " '[CLS] Scientists prepare to un ##lea ##sh millions of m ##os ##quito ##es to have sex with and kill their cousins [SEP] Our last words before super m ##os ##quito ##es start carrying people off into the humid dusk skies . [SEP] [PAD] [PAD] [PAD] [PAD] [PAD] [PAD] [PAD] [PAD]',\n",
              " \"[CLS] I really thought she was going to transform into a suitcase . . . with be ##w ##b ##z [SEP] So she ' s an organic Trans ##former ? [SEP] [PAD] [PAD] [PAD] [PAD] [PAD] [PAD] [PAD] [PAD] [PAD] [PAD] [PAD] [PAD] [PAD] [PAD] [PAD] [PAD] [PAD] [PAD] [PAD]\",\n",
              " '[CLS] Forget the fact that you can play every game since CO ##D ##4 back to back and physically see the degradation of the net code through progressive releases . L [SEP] Wouldn \\' t it be \" driving a 2015 Civic with a 1994 civic engine \" ? [SEP]',\n",
              " '[CLS] Like really ? With all the ch ##amp ##s that can destroy waves you think G ##raga ##s would be a problem ? And [SEP] and full tank G ##are ##n dealing true damage , yet G ##raga ##s going full tank dealing decent damage ( for a [SEP]',\n",
              " '[CLS] Am Vietnamese , can confirm . We have gender specific racial s ##lu ##rs for the Chinese . [SEP] We supplied you with all those guns and you repay us with this ? [SEP] [PAD] [PAD] [PAD] [PAD] [PAD] [PAD] [PAD] [PAD] [PAD] [PAD] [PAD] [PAD] [PAD] [PAD] [PAD]',\n",
              " \"[CLS] ban hands ! [SEP] O ##m ##g ban cars you can hurt people BA ##N E ##VE ##R ##Y ##TH ##ING O ##MG W ##E ' R ##E AL ##L GO ##ING TO K ##IL ##L EA ##CH O ##TH ##ER . [SEP] [PAD] [PAD] [PAD] [PAD] [PAD] [PAD]\",\n",
              " \"[CLS] In Korea criticizing the president will get you locked up . In the US , it won ' t . [SEP] But hey man , US rapper ##s got ball ##zz ##z even though they can say absolutely anything about the president without getting arrested Ball ##s though [SEP]\",\n",
              " \"[CLS] CT ##B still has such broken PP . . . . [SEP] Is that Ex ##G ##on ' s profile [SEP] [PAD] [PAD] [PAD] [PAD] [PAD] [PAD] [PAD] [PAD] [PAD] [PAD] [PAD] [PAD] [PAD] [PAD] [PAD] [PAD] [PAD] [PAD] [PAD] [PAD] [PAD] [PAD] [PAD] [PAD] [PAD] [PAD] [PAD] [PAD]\",\n",
              " '[CLS] How about play C ##M and ban them ? Or counter pick ? [SEP] Going well for pro teams . [SEP] [PAD] [PAD] [PAD] [PAD] [PAD] [PAD] [PAD] [PAD] [PAD] [PAD] [PAD] [PAD] [PAD] [PAD] [PAD] [PAD] [PAD] [PAD] [PAD] [PAD] [PAD] [PAD] [PAD] [PAD] [PAD] [PAD] [PAD] [PAD]',\n",
              " '[CLS] Thanks from Gina in accounting ! She really appreciated seeing that on my computer and she \\' s so excited she \\' s telling [SEP] N ##SF ##W l ##ul She \\' s just \" dancing \" , didn \\' t you know t ##wer ##king is an [SEP]',\n",
              " \"[CLS] R ##NG and Samsung didn ##t look outstanding when groups were drawn . So Hi ##nds ##ight is 20 / 20 . I still think if T ##SM was anything special , they would have [SEP] T ##SM ' s group is always the hardest at worlds . [SEP]\",\n",
              " '[CLS] What kind of court thought that was a good idea ? To order a rape victim to pay child support . [SEP] Since men have no agency in this regard in the eyes of the court when it comes to child support the closest man will do ; [SEP]',\n",
              " \"[CLS] Some friends told me they ' re offended by the term ' black Friday ' saying its racist . I ' m surprised so [SEP] IT ' S B ##LA ##C ##K F ##RI ##DA ##Y B ##EC ##A ##US ##E B ##LA ##C ##K P ##E ##OP [SEP]\",\n",
              " '[CLS] Only 3 ? [SEP] ( ps ##h its an a ##rg ) [SEP] [PAD] [PAD] [PAD] [PAD] [PAD] [PAD] [PAD] [PAD] [PAD] [PAD] [PAD] [PAD] [PAD] [PAD] [PAD] [PAD] [PAD] [PAD] [PAD] [PAD] [PAD] [PAD] [PAD] [PAD] [PAD] [PAD] [PAD] [PAD] [PAD] [PAD] [PAD] [PAD] [PAD] [PAD] [PAD] [PAD]',\n",
              " '[CLS] It seemed like a fair trade . . . [SEP] Can I have your s ##s ##n ? [SEP] [PAD] [PAD] [PAD] [PAD] [PAD] [PAD] [PAD] [PAD] [PAD] [PAD] [PAD] [PAD] [PAD] [PAD] [PAD] [PAD] [PAD] [PAD] [PAD] [PAD] [PAD] [PAD] [PAD] [PAD] [PAD] [PAD] [PAD] [PAD] [PAD] [PAD]',\n",
              " '[CLS] Ashe and her passive are 100 % fine . [SEP] B ##UT THE ##IR ID ##EA ##S F ##OR F ##IX ##ING IT AR ##E S ##O D ##AM ##N GO ##OD ! [SEP] [PAD] [PAD] [PAD] [PAD] [PAD] [PAD] [PAD] [PAD] [PAD] [PAD] [PAD] [PAD] [PAD] [PAD] [PAD]',\n",
              " '[CLS] Could you make a wall ##paper based off Eagle Eyes , Moving On , and Holding On To Sound ? [SEP] You must hate Stone ##bank [SEP] [PAD] [PAD] [PAD] [PAD] [PAD] [PAD] [PAD] [PAD] [PAD] [PAD] [PAD] [PAD] [PAD] [PAD] [PAD] [PAD] [PAD] [PAD] [PAD] [PAD] [PAD] [PAD]',\n",
              " \"[CLS] Fun fact , the Japanese got cu ##rry from the British . Indian cu ##rry has only recently ( 90 ' s ) gained much traction there . English speakers [SEP] B ##UT C ##U ##LT ##UR ##AL AP ##PR ##OP ##RI ##AT ##ION IS WR ##ON ##G [SEP]\",\n",
              " '[CLS] US States Economic Performance , in a Map : V ##T last according to this study , D . C . first Someone please help me understand how D . C . contributes the most [SEP] But Vermont makes it so attractive for businesses to move there ! [SEP]',\n",
              " '[CLS] But art direction . [SEP] I went to photography school I know more about art than u [SEP] [PAD] [PAD] [PAD] [PAD] [PAD] [PAD] [PAD] [PAD] [PAD] [PAD] [PAD] [PAD] [PAD] [PAD] [PAD] [PAD] [PAD] [PAD] [PAD] [PAD] [PAD] [PAD] [PAD] [PAD] [PAD] [PAD] [PAD] [PAD] [PAD] [PAD] [PAD]',\n",
              " '[CLS] This summer I learned the Ancient Greeks were more advanced than we realized . [SEP] If te ##hy were so great why are they extinct ? [SEP] [PAD] [PAD] [PAD] [PAD] [PAD] [PAD] [PAD] [PAD] [PAD] [PAD] [PAD] [PAD] [PAD] [PAD] [PAD] [PAD] [PAD] [PAD] [PAD] [PAD] [PAD] [PAD]',\n",
              " \"[CLS] I measure running in kilometers , but my driving in miles . Weight ##s in grams , except my own weight , which is in stones [SEP] Ki ##lo ##met ##res * If you ' re gonna use an inferior system , at least spell it right . [SEP]\",\n",
              " \"[CLS] In car footage of Audi R ##8 W ##reck at VI ##R [SEP] Pre ##mium , g ##erman engineered R ##8 can ' t even keep up with a dumb and poor Co ##rvette ? [SEP] [PAD] [PAD] [PAD] [PAD] [PAD] [PAD] [PAD] [PAD] [PAD] [PAD] [PAD] [PAD] [PAD]\",\n",
              " \"[CLS] I get texts from my 70 year old father all the time with t ##y ##po ##s . Surely this is equivalent to that . [SEP] So Trump ' s you ' re Dad ? [SEP] [PAD] [PAD] [PAD] [PAD] [PAD] [PAD] [PAD] [PAD] [PAD] [PAD] [PAD] [PAD] [PAD]\",\n",
              " '[CLS] 99 Fin ##ishing By Bravo [SEP] No no , this happens all the time i ##rl . [SEP] [PAD] [PAD] [PAD] [PAD] [PAD] [PAD] [PAD] [PAD] [PAD] [PAD] [PAD] [PAD] [PAD] [PAD] [PAD] [PAD] [PAD] [PAD] [PAD] [PAD] [PAD] [PAD] [PAD] [PAD] [PAD] [PAD] [PAD] [PAD] [PAD] [PAD] [PAD]',\n",
              " '[CLS] Or you could share yours . . . [SEP] Just study it out ! [SEP] [PAD] [PAD] [PAD] [PAD] [PAD] [PAD] [PAD] [PAD] [PAD] [PAD] [PAD] [PAD] [PAD] [PAD] [PAD] [PAD] [PAD] [PAD] [PAD] [PAD] [PAD] [PAD] [PAD] [PAD] [PAD] [PAD] [PAD] [PAD] [PAD] [PAD] [PAD] [PAD] [PAD] [PAD]',\n",
              " \"[CLS] T ##IL that sky ##rock ##eting college tuition prices began in 2005 , when Congress passed the Bank ##rup ##t ##cy Abu ##se Prevention and Consumer [SEP] If only we vote for Bernie and more government will see to it that this ' ll never happen again . [SEP]\",\n",
              " \"[CLS] I ' ve seen jobs that I had the degrees for but was shot down by the experience they wanted me to have . [SEP] C ' mon man , you should ##a know from day 1 of H ##S senior year that you had to have that [SEP]\",\n",
              " \"[CLS] Kids are to entitled . They ' ll vote for whoever gives them the most money for nothing . [SEP] No one else ever does that [SEP] [PAD] [PAD] [PAD] [PAD] [PAD] [PAD] [PAD] [PAD] [PAD] [PAD] [PAD] [PAD] [PAD] [PAD] [PAD] [PAD] [PAD] [PAD] [PAD] [PAD] [PAD] [PAD]\",\n",
              " '[CLS] Shit ##ties ##t Terror ##ist Award recipient no doubt : ) [SEP] Obama is in league with IS ##IS , he wins the shit ##ties ##t terrorist fighter award . [SEP] [PAD] [PAD] [PAD] [PAD] [PAD] [PAD] [PAD] [PAD] [PAD] [PAD] [PAD] [PAD] [PAD] [PAD] [PAD] [PAD] [PAD] [PAD]',\n",
              " '[CLS] Last year we promoted him from the worst O - Line coach in the NFC to the worst Offensive Coordinator in the NFL [SEP] I like where this is going . [SEP] [PAD] [PAD] [PAD] [PAD] [PAD] [PAD] [PAD] [PAD] [PAD] [PAD] [PAD] [PAD] [PAD] [PAD] [PAD] [PAD] [PAD]',\n",
              " '[CLS] T ##IL \" Black Wall Street \" , the most affluent black neighbourhood in the early 20th century , was nearly wiped out by white residents mass ##ac ##ring the black population in 1921 [SEP] No ##o black people are kept down by their own la ##zine ##ss [SEP]',\n",
              " '[CLS] So just update the B ##IO ##S right ? [SEP] looks like a ram issue [SEP] [PAD] [PAD] [PAD] [PAD] [PAD] [PAD] [PAD] [PAD] [PAD] [PAD] [PAD] [PAD] [PAD] [PAD] [PAD] [PAD] [PAD] [PAD] [PAD] [PAD] [PAD] [PAD] [PAD] [PAD] [PAD] [PAD] [PAD] [PAD] [PAD] [PAD] [PAD] [PAD] [PAD]',\n",
              " \"[CLS] That ##s like having the spider committee complain about Ara ##c ##no ##ph ##obia saying the movie contributes to fear of spiders . Who cares who ' s afraid of what . [SEP] What about the all the doll companies that must be suffering too ? [SEP] [PAD] [PAD]\",\n",
              " '[CLS] Those are amazing too . Very dark . [SEP] Those scenes are references to the DC ##E ##U . [SEP] [PAD] [PAD] [PAD] [PAD] [PAD] [PAD] [PAD] [PAD] [PAD] [PAD] [PAD] [PAD] [PAD] [PAD] [PAD] [PAD] [PAD] [PAD] [PAD] [PAD] [PAD] [PAD] [PAD] [PAD] [PAD] [PAD] [PAD] [PAD] [PAD]',\n",
              " \"[CLS] We ##al ##thy Kuwait ##i family . Well , there goes the poor and une ##du ##cated position . [SEP] They need jobs , that ' s all [SEP] [PAD] [PAD] [PAD] [PAD] [PAD] [PAD] [PAD] [PAD] [PAD] [PAD] [PAD] [PAD] [PAD] [PAD] [PAD] [PAD] [PAD] [PAD] [PAD] [PAD]\",\n",
              " '[CLS] lo ##l Kim ##i higher than But ##ton ? What a joke . [SEP] Yeah , these people who voted know nothing about F1 . [SEP] [PAD] [PAD] [PAD] [PAD] [PAD] [PAD] [PAD] [PAD] [PAD] [PAD] [PAD] [PAD] [PAD] [PAD] [PAD] [PAD] [PAD] [PAD] [PAD] [PAD] [PAD] [PAD] [PAD]',\n",
              " '[CLS] by N ##er ##f u mean B ##uff ? [SEP] How can we b ##uff the best O ##P in this game ? [SEP] [PAD] [PAD] [PAD] [PAD] [PAD] [PAD] [PAD] [PAD] [PAD] [PAD] [PAD] [PAD] [PAD] [PAD] [PAD] [PAD] [PAD] [PAD] [PAD] [PAD] [PAD] [PAD] [PAD] [PAD] [PAD]',\n",
              " '[CLS] Game T ##hr ##ead : PA ##OK FC ( E ##L # 2 ) [SEP] Nice to return from eating to a PA ##OK goal [SEP] [PAD] [PAD] [PAD] [PAD] [PAD] [PAD] [PAD] [PAD] [PAD] [PAD] [PAD] [PAD] [PAD] [PAD] [PAD] [PAD] [PAD] [PAD] [PAD] [PAD] [PAD] [PAD] [PAD]',\n",
              " '[CLS] No confirmation email for Ji ##gg ##ly ##pu ##ff [SEP] Yeah , probably . [SEP] [PAD] [PAD] [PAD] [PAD] [PAD] [PAD] [PAD] [PAD] [PAD] [PAD] [PAD] [PAD] [PAD] [PAD] [PAD] [PAD] [PAD] [PAD] [PAD] [PAD] [PAD] [PAD] [PAD] [PAD] [PAD] [PAD] [PAD] [PAD] [PAD] [PAD] [PAD] [PAD] [PAD] [PAD]',\n",
              " \"[CLS] Damn numbers 3 next to 4 . [SEP] Why don ' t they just mix up the number bar like the rest of the keyboard ? [SEP] [PAD] [PAD] [PAD] [PAD] [PAD] [PAD] [PAD] [PAD] [PAD] [PAD] [PAD] [PAD] [PAD] [PAD] [PAD] [PAD] [PAD] [PAD] [PAD] [PAD] [PAD] [PAD]\",\n",
              " '[CLS] Okay guys , I have the best clues ever : * Can learn moves * Can be Male or Female * Is number 133 [SEP] Di ##tto ? [SEP] [PAD] [PAD] [PAD] [PAD] [PAD] [PAD] [PAD] [PAD] [PAD] [PAD] [PAD] [PAD] [PAD] [PAD] [PAD] [PAD] [PAD] [PAD] [PAD] [PAD]',\n",
              " '[CLS] Red ##dit ( all of it ) is pretty hated for a reason . Once you start seeing the patterns and the repetition and the id ##io ##cy it gets very f ##rust ##rating . After being called an ignorant asshole for [SEP] Fuck ##in S ##J ##W [SEP]',\n",
              " \"[CLS] Why ? What ' s wrong with them ? [SEP] Dude they recorded a song with Mile ##y Cyrus so ##oo ##o lame [SEP] [PAD] [PAD] [PAD] [PAD] [PAD] [PAD] [PAD] [PAD] [PAD] [PAD] [PAD] [PAD] [PAD] [PAD] [PAD] [PAD] [PAD] [PAD] [PAD] [PAD] [PAD] [PAD] [PAD] [PAD] [PAD]\",\n",
              " '[CLS] The Metro in Dubai has a women and children only section [SEP] \" Mi ##san ##dr ##y ! \" [SEP] [PAD] [PAD] [PAD] [PAD] [PAD] [PAD] [PAD] [PAD] [PAD] [PAD] [PAD] [PAD] [PAD] [PAD] [PAD] [PAD] [PAD] [PAD] [PAD] [PAD] [PAD] [PAD] [PAD] [PAD] [PAD] [PAD] [PAD] [PAD] [PAD]',\n",
              " \"[CLS] Je ##b Bush : It ' s Obama ' s fault the GO ##P has become anti - gay [SEP] Thanks Obama ! [SEP] [PAD] [PAD] [PAD] [PAD] [PAD] [PAD] [PAD] [PAD] [PAD] [PAD] [PAD] [PAD] [PAD] [PAD] [PAD] [PAD] [PAD] [PAD] [PAD] [PAD] [PAD] [PAD] [PAD] [PAD] [PAD]\",\n",
              " \"[CLS] Thanks for ruin ##ing Star Wars ! [SEP] Yep , because creating Star Wars means that he can ' t create H ##IS vision . [SEP] [PAD] [PAD] [PAD] [PAD] [PAD] [PAD] [PAD] [PAD] [PAD] [PAD] [PAD] [PAD] [PAD] [PAD] [PAD] [PAD] [PAD] [PAD] [PAD] [PAD] [PAD] [PAD] [PAD]\",\n",
              " \"[CLS] a care ##be ##ar ' s He ##l , in its natural environment - inside a P ##OS force field . [SEP] Just like NC ##da ##w ##t ' s super fleet T ##HA ##T THE ##Y NE ##VE ##R US ##E am ##iri ##te ? [SEP] [PAD] [PAD]\",\n",
              " '[CLS] Its not their fault . Men are taught they have to pressure , and that they deserve anal . You have to re ##tra [SEP] Oh right , I forgot , men are just the victims here and I should let me partner rape me so he can [SEP]',\n",
              " '[CLS] He speaks span ##ish , Si ##me ##one speaks span ##ish , it checks out . [SEP] Both A ##rgent ##inian too , they probably know each other [SEP] [PAD] [PAD] [PAD] [PAD] [PAD] [PAD] [PAD] [PAD] [PAD] [PAD] [PAD] [PAD] [PAD] [PAD] [PAD] [PAD] [PAD] [PAD] [PAD] [PAD]',\n",
              " '[CLS] So ##rc ##ery , Sword ##s & am ##p ; T ##itt ##ies Volume 1 , Delilah Dallas [SEP] Huh , wonder what this book is about . [SEP] [PAD] [PAD] [PAD] [PAD] [PAD] [PAD] [PAD] [PAD] [PAD] [PAD] [PAD] [PAD] [PAD] [PAD] [PAD] [PAD] [PAD] [PAD] [PAD] [PAD]',\n",
              " '[CLS] Dude was not an \" Off Duty Police Detective \" Who says that ? [SEP] He sure did a good job of inter ##vening early . [SEP] [PAD] [PAD] [PAD] [PAD] [PAD] [PAD] [PAD] [PAD] [PAD] [PAD] [PAD] [PAD] [PAD] [PAD] [PAD] [PAD] [PAD] [PAD] [PAD] [PAD] [PAD] [PAD]',\n",
              " '[CLS] This is like saying you want random lightning strikes that can one shot your units , because \" it keeps you on your toes \" I guess you also thought trip ##ping was an amazing addition to B ##raw ##l ? [SEP] Trip ##ping is good game design [SEP]',\n",
              " \"[CLS] Is it because he ' s black ? You fucking racist ! ! ! 11 ! ! 1 [SEP] yes . . . [SEP] [PAD] [PAD] [PAD] [PAD] [PAD] [PAD] [PAD] [PAD] [PAD] [PAD] [PAD] [PAD] [PAD] [PAD] [PAD] [PAD] [PAD] [PAD] [PAD] [PAD] [PAD] [PAD] [PAD] [PAD] [PAD]\",\n",
              " '[CLS] I love u 2 f ##wi ##end & l ##t ; 3 [SEP] I \\' m sorry , saying \" f ##wi ##end \" affection ##at ##ly is able ##ist , as it mock ##s those with speech defects , you anti - snow ##f ##lake c ##is [SEP]',\n",
              " '[CLS] I think this new Disney t - shirt idea is inappropriate [SEP] Oh I du ##nn ##o , this could be the genes ##is of a fantastic new g ##rit ##ty mi ##ckey mouse re ##boo ##t . [SEP] [PAD] [PAD] [PAD] [PAD] [PAD] [PAD] [PAD] [PAD] [PAD] [PAD]',\n",
              " \"[CLS] This . I ' m a junior network ad ##min in title , but my job description vs my skills and what I actually [SEP] Yeah , the politics is mostly Martian at every level : that ' s why we ' re engineers not managers , because [SEP]\",\n",
              " '[CLS] Don ##t give Trump ideas . It bother ##s me that players are required to respond to media but also have limitations on what they can say . [SEP] At ##hlete ##s have a duty to tell fans everything they want to hear and nothing else ! [SEP] [PAD]',\n",
              " '[CLS] But 30 + years ago ? Really ? Just re ##name the sub \" stories where something went wrong \" [SEP] Fair enough , but S ##WS ##W ##W doesn \\' t have the same sound to it as T ##IF ##U ! [SEP] [PAD] [PAD] [PAD] [PAD] [PAD]',\n",
              " \"[CLS] Well of course they are , it was the Muslims collaborating with the Mexican ##s ! [SEP] Source of the nation ' s problems right there ^ ^ [SEP] [PAD] [PAD] [PAD] [PAD] [PAD] [PAD] [PAD] [PAD] [PAD] [PAD] [PAD] [PAD] [PAD] [PAD] [PAD] [PAD] [PAD] [PAD] [PAD] [PAD]\",\n",
              " \"[CLS] I ' m really freaked out about this being weapon ##ized . I ' ve seen two cry ##ptic messages , one on here and the other on 4 ##chan , that something [SEP] Yeah , because terrorists are on 4 ##chan * all the time * . [SEP]\",\n",
              " '[CLS] I for ##see moving towards se ##per ##ating athletes by physical ability and not gender which would easily solve this problem . [SEP] But that would be like merit ##oc ##racy , and merit ##oc ##racy is sex ##ist and evil . [SEP] [PAD] [PAD] [PAD] [PAD] [PAD] [PAD]',\n",
              " \"[CLS] I don ' t think the 22 ##LR comes with re ##coil . That ' s not a feature available to that caliber . [SEP] Why would they name a cartridge 22 lots ##a re ##coil if there is no re ##coil , unless they named it on [SEP]\",\n",
              " '[CLS] so you play with so many m ##ods no wonder you \" do ##dged \" the bright blue streaks . [SEP] Yeah because making something slightly more visible after you \\' ve already spotted them is totally going to make a difference [SEP] [PAD] [PAD] [PAD] [PAD] [PAD] [PAD]',\n",
              " \"[CLS] 50 % N ##ey ##mar for the brilliant d ##ri ##bbling and perfectly timed pass . 25 % for Su ##are ##z ' s nut ##me ##g pass . 25 % for Me ##ssi ' s unexpected [SEP] P ##I ##Q ##UE ' s H ##EA ##DE ##R [SEP]\",\n",
              " '[CLS] Yeah mate . All alone with my wife and kids . Such a lonely virgin . [SEP] Gee ##z what a loser [SEP] [PAD] [PAD] [PAD] [PAD] [PAD] [PAD] [PAD] [PAD] [PAD] [PAD] [PAD] [PAD] [PAD] [PAD] [PAD] [PAD] [PAD] [PAD] [PAD] [PAD] [PAD] [PAD] [PAD] [PAD] [PAD] [PAD]',\n",
              " \"[CLS] Wow ! That great ! Best armor collection / display I ' ve seen yet . I really love the mini bio ##mes . [SEP] Be careful , you might off ##end others that make armor collections because if this one is the best theirs can ' t [SEP]\",\n",
              " '[CLS] ( Not shit ##post but still kind off is ) I want my game ##r tag to be have something to do with Dr . Monty . Would should it be ? [SEP] X ##x _ Du ##C ##k ##S ##c ##O ##p ##E ##d _ x ##X [SEP]',\n",
              " '[CLS] Red Bulls fire assistant coaches Williams & am ##p ; M ##c ##A ##leen ##an for un ##sp ##ec ##ified rule violations ? ! Not Richie ! [SEP] Bo ##una should be fine without someone to help him with his form right ? [SEP] [PAD] [PAD] [PAD] [PAD] [PAD]',\n",
              " '[CLS] In motor ##ino e v ##ien ##e da Na ##poli . Non mi s ##tu ##pis ##ce . [SEP] Al ##men ##o non se ##mb ##ra ch ##e non a ##ves ##se il ca ##sco ( la sic ##ure ##zza p ##rima di t ##utt ##o ) ! [SEP]',\n",
              " '[CLS] Glenn Beck admits : Liberals got Iraq right [SEP] Oh cool I guess I can trust him now [SEP] [PAD] [PAD] [PAD] [PAD] [PAD] [PAD] [PAD] [PAD] [PAD] [PAD] [PAD] [PAD] [PAD] [PAD] [PAD] [PAD] [PAD] [PAD] [PAD] [PAD] [PAD] [PAD] [PAD] [PAD] [PAD] [PAD] [PAD] [PAD] [PAD] [PAD]',\n",
              " '[CLS] I ##mm ##ort ##als vs T ##SM Rank 5 ##s D ##ynamic Que ##ue [SEP] op shot ##cal ##ling [SEP] [PAD] [PAD] [PAD] [PAD] [PAD] [PAD] [PAD] [PAD] [PAD] [PAD] [PAD] [PAD] [PAD] [PAD] [PAD] [PAD] [PAD] [PAD] [PAD] [PAD] [PAD] [PAD] [PAD] [PAD] [PAD] [PAD] [PAD] [PAD] [PAD]',\n",
              " \"[CLS] What movie left you speech ##less , watching the credits while you ' re thinking what a great film ? [SEP] Serbian Film . [SEP] [PAD] [PAD] [PAD] [PAD] [PAD] [PAD] [PAD] [PAD] [PAD] [PAD] [PAD] [PAD] [PAD] [PAD] [PAD] [PAD] [PAD] [PAD] [PAD] [PAD] [PAD] [PAD] [PAD] [PAD]\",\n",
              " \"[CLS] Until now , Hillary Clinton hold back her almost $ 50 million Super PA ##C money ; she was planning to use it during general elections . I think she has big ( shall I [SEP] But she can ' t coordinate with the super ##pa ##c . [SEP]\",\n",
              " \"[CLS] I don ' t understand it myself . What ' s next ? A kid gets stung by a bee and dies because his / her E ##pi [SEP] I guess so because you never need an E ##pi - Pen or an in ##hale ##re quickly right [SEP]\",\n",
              " \"[CLS] I know I ' m being a dick by pointing this out , but you ' re talking about the applied forms of these disciplines , not the disciplines themselves . [SEP] I actually use a graph ##ing ca ##l ##cula ##tor to do skin fade ##s . [SEP]\",\n",
              " '[CLS] 77 ##0 is a great sweet spot right now for gaming . And this is my unpopular and possibly irrational opinion but here goes : get a 4 ##g ##b model for $ 50 more and if [SEP] Future proof ##ing with SL ##I how dare you ! [SEP]',\n",
              " \"[CLS] C ##ree ##pin ' cow ##or ##ker [SEP] he seems like a really class ##y fellow . [SEP] [PAD] [PAD] [PAD] [PAD] [PAD] [PAD] [PAD] [PAD] [PAD] [PAD] [PAD] [PAD] [PAD] [PAD] [PAD] [PAD] [PAD] [PAD] [PAD] [PAD] [PAD] [PAD] [PAD] [PAD] [PAD] [PAD] [PAD] [PAD] [PAD] [PAD] [PAD]\",\n",
              " \"[CLS] Does anyone know why the flags are half mast on Parliament today ? [SEP] Maybe for Johnny De ##pp ' s dogs ? [SEP] [PAD] [PAD] [PAD] [PAD] [PAD] [PAD] [PAD] [PAD] [PAD] [PAD] [PAD] [PAD] [PAD] [PAD] [PAD] [PAD] [PAD] [PAD] [PAD] [PAD] [PAD] [PAD] [PAD] [PAD] [PAD]\",\n",
              " '[CLS] A line of Colorado ##s from the E ##qua ##tor to the North Pole using the Me ##rca ##tor projection . [SEP] So we can double the land mass of the USA by moving Colorado north , would the land owners get a proportion ##ately larger acre ##age [SEP]',\n",
              " '[CLS] Over half the people in prison are there for drug offense ##s , and this women is being let go due to prison over ##crow ##ding [SEP] Makes sense to me , smoking weed is definitely worse than infant ##icide . [SEP] [PAD] [PAD] [PAD] [PAD] [PAD] [PAD] [PAD]',\n",
              " \"[CLS] someone has some daddy issues . its ok , ill listen [SEP] I ' m sure your parents are proud of their creation . [SEP] [PAD] [PAD] [PAD] [PAD] [PAD] [PAD] [PAD] [PAD] [PAD] [PAD] [PAD] [PAD] [PAD] [PAD] [PAD] [PAD] [PAD] [PAD] [PAD] [PAD] [PAD] [PAD] [PAD] [PAD]\",\n",
              " '[CLS] Ukrainian O ##liga ##rch Off ##ers $ 10 ##k for Each Capt ##ured Russian In ##vade ##r [SEP] Yep , that ##s one way to sure \" de - es ##cal ##ate \" the situation [SEP] [PAD] [PAD] [PAD] [PAD] [PAD] [PAD] [PAD] [PAD] [PAD] [PAD] [PAD] [PAD] [PAD]',\n",
              " \"[CLS] Saw this on Facebook , I nearly rage ##d . [SEP] You can always count on moral ##ly upright male doctors to teach those dumb w ##omb - having types what ' s right and what ' s wrong to do with their bodies . [SEP] [PAD] [PAD] [PAD]\",\n",
              " \"[CLS] Just sub ##scribed to the Network - give me 5 things to watch first PP ##V , shows , whatever . I missed out on the At ##ti ##tude Era , and while I know most of what happened I didn ' t get [SEP] Hole ##y Foley [SEP]\",\n",
              " '[CLS] The Cycle of Pro Life [SEP] God b ##less you and your completely accurate cartoon . . . [SEP] [PAD] [PAD] [PAD] [PAD] [PAD] [PAD] [PAD] [PAD] [PAD] [PAD] [PAD] [PAD] [PAD] [PAD] [PAD] [PAD] [PAD] [PAD] [PAD] [PAD] [PAD] [PAD] [PAD] [PAD] [PAD] [PAD] [PAD] [PAD] [PAD] [PAD]',\n",
              " \"[CLS] Dear Creation ##ists : At ##oms are not actually the size of heads . [SEP] But it ' s there in the video so therefore everything else in the video is wrong and di ##sp ##roved ! [SEP] [PAD] [PAD] [PAD] [PAD] [PAD] [PAD] [PAD] [PAD] [PAD] [PAD] [PAD]\",\n",
              " '[CLS] I think you mean value . Co ##st does not equal value . [SEP] Yeah , but any enterprise IS ##P charging $ 5 is probably a good value . [SEP] [PAD] [PAD] [PAD] [PAD] [PAD] [PAD] [PAD] [PAD] [PAD] [PAD] [PAD] [PAD] [PAD] [PAD] [PAD] [PAD] [PAD] [PAD]',\n",
              " '[CLS] I love it when a player can straight di ##s ##res ##pect another team with skill rather than his words [SEP] Ah you will love Jo ##aki ##m Noah then [SEP] [PAD] [PAD] [PAD] [PAD] [PAD] [PAD] [PAD] [PAD] [PAD] [PAD] [PAD] [PAD] [PAD] [PAD] [PAD] [PAD] [PAD] [PAD]',\n",
              " '[CLS] the snake eats its own tail , f ##am ##b ##ru ##h [SEP] When did Taylor Swift become relevant to this con ##vo [SEP] [PAD] [PAD] [PAD] [PAD] [PAD] [PAD] [PAD] [PAD] [PAD] [PAD] [PAD] [PAD] [PAD] [PAD] [PAD] [PAD] [PAD] [PAD] [PAD] [PAD] [PAD] [PAD] [PAD] [PAD] [PAD]',\n",
              " '[CLS] After a lot of hours of learning , I just launched my first game . A fast paced Te ##tri ##s - style match game . Fe ##ed ##back welcome . Hope you like it ! [SEP] ya ##y , another be ##je ##we ##led clone ! [SEP] [PAD]',\n",
              " \"[CLS] 40 - 50 people at the v ##igi ##l during daylight hours when this occur ##ed and no one saw a thing . Amazing . Can ' t [SEP] S ##ni ##tches get St ##itch ##es , but the blue code of silence is a ##b ##hor ##rent [SEP]\",\n",
              " '[CLS] Sometimes go ##og ##le isn \\' t enough . I swear I saw a version of Tom Hank \\' s \" Big \" on UK TV where the girl also gets younger and [SEP] You \\' re full of shit , I don \\' t believe you . [SEP]',\n",
              " \"[CLS] Ava ##st buys factory - re ##set Android phones from e ##bay , recover overwhelming amount of personal information from each [SEP] Why can ' t we have technologies like the self - des ##truct ##ing devices in Mission Impossible ? [SEP] [PAD] [PAD] [PAD] [PAD] [PAD] [PAD] [PAD]\",\n",
              " '[CLS] i didn ##t know there where s ##ty ##lists ? ! [SEP] quality photo right here [SEP] [PAD] [PAD] [PAD] [PAD] [PAD] [PAD] [PAD] [PAD] [PAD] [PAD] [PAD] [PAD] [PAD] [PAD] [PAD] [PAD] [PAD] [PAD] [PAD] [PAD] [PAD] [PAD] [PAD] [PAD] [PAD] [PAD] [PAD] [PAD] [PAD] [PAD] [PAD] [PAD]',\n",
              " \"[CLS] Now it ' s all about y ##ify . . [SEP] Because watching a movie in ' ' 108 ##0 ##p ' ' resolution at a bit ##rate of 250 ##0 k ##bit ##s is the next big thing ! [SEP] [PAD] [PAD] [PAD] [PAD] [PAD] [PAD] [PAD] [PAD]\",\n",
              " \"[CLS] Fin ##gers crossed for DS ##3 ! [SEP] * * Three Pre ##diction ##s for D ##k ##S ##3 * * 1 ) People ' ll get mad 2 ) New cheese s ##tra ##ts 3 ) Kat ##ana ##s will still be O ##P [SEP] [PAD] [PAD] [PAD]\",\n",
              " \"[CLS] Just enough space for their massive logo [SEP] No , it ' s a space for the electronics . . . . . . . . . [SEP] [PAD] [PAD] [PAD] [PAD] [PAD] [PAD] [PAD] [PAD] [PAD] [PAD] [PAD] [PAD] [PAD] [PAD] [PAD] [PAD] [PAD] [PAD] [PAD] [PAD] [PAD]\",\n",
              " '[CLS] Un ##em ##p ##loy ##ment is increasing in Kansas while falling in the US . Just another example that deep business and income tax cuts do not promote hiring . [SEP] You just have to give the tax cuts time to work . [SEP] [PAD] [PAD] [PAD] [PAD] [PAD]',\n",
              " \"[CLS] Walk to library . Save money on internet . Also . Sometimes it ' s hard to think of what to make . That [SEP] Ah yes , now I have no need for this Internet I ' m paying for , having walked to the library to [SEP]\",\n",
              " '[CLS] E ##O NO . 4 : Du ##ter ##te creates task force on establishment , support for drug re ##hab centers [SEP] there are still users alive to go to re ##hab centers ? [SEP] [PAD] [PAD] [PAD] [PAD] [PAD] [PAD] [PAD] [PAD] [PAD] [PAD] [PAD] [PAD] [PAD] [PAD]',\n",
              " '[CLS] Fuck ##ing Mi ##l ##bury . \" His save percentage and goals against are very good but he \\' s bad in the win column . He \\' s gonna have to be [SEP] What a scrub , he hasn \\' t even scored once this season . [SEP]',\n",
              " \"[CLS] Last I checked , the Jews weren ' t trying to blow up Western Civil ##ization . [SEP] No , they were being used as s ##cape ##go ##ats for a poor political and economic situation by a group seeking power after a war and European influence left [SEP]\",\n",
              " \"[CLS] I don ' t know what I did wrong . . . [SEP] Camp ##er [SEP] [PAD] [PAD] [PAD] [PAD] [PAD] [PAD] [PAD] [PAD] [PAD] [PAD] [PAD] [PAD] [PAD] [PAD] [PAD] [PAD] [PAD] [PAD] [PAD] [PAD] [PAD] [PAD] [PAD] [PAD] [PAD] [PAD] [PAD] [PAD] [PAD] [PAD] [PAD] [PAD] [PAD]\",\n",
              " \"[CLS] I think Aaron Donald is getting D ##PO ##Y this year . J ##J ' s injury put him back a bit this season . [SEP] Well this IS a down year . . . . [SEP] [PAD] [PAD] [PAD] [PAD] [PAD] [PAD] [PAD] [PAD] [PAD] [PAD] [PAD] [PAD]\",\n",
              " \"[CLS] Even a female cop will take it easier on you if you ' re a woman than if you ' re a man though . It ' s a bias that our culture in general unfortunately has . Though im ##o any [SEP] Think of the children ! [SEP]\",\n",
              " '[CLS] Hand ##lock ##s are considered cancer right now . . . ? [SEP] everything good is cancer , du ##h [SEP] [PAD] [PAD] [PAD] [PAD] [PAD] [PAD] [PAD] [PAD] [PAD] [PAD] [PAD] [PAD] [PAD] [PAD] [PAD] [PAD] [PAD] [PAD] [PAD] [PAD] [PAD] [PAD] [PAD] [PAD] [PAD] [PAD] [PAD] [PAD]',\n",
              " \"[CLS] the issue is that in Russia or China , anyone who is not a re ##tar ##d knows that the media is bias ##ed . In the west , it ' s the opposite way . . . [SEP] Oh go tighten your tin ##fo ##il hat ! [SEP]\",\n",
              " \"[CLS] T ##B ##H the net ##her ##lands really doesn ' t need to get the fuck over z ##wart ##e pie ##t , it [SEP] I perceive Christmas as a here ##tic celebration of the winter so ##ls ##tic ##e , p ##l ##z stop hurting my feelings [SEP]\",\n",
              " '[CLS] De G ##ea \\' s girlfriend : \" I \\' ve never said that I hate Manchester \" [SEP] Sur ##p ##rising ##ly she \\' s not hideous looking [SEP] [PAD] [PAD] [PAD] [PAD] [PAD] [PAD] [PAD] [PAD] [PAD] [PAD] [PAD] [PAD] [PAD] [PAD] [PAD] [PAD] [PAD] [PAD] [PAD]',\n",
              " '[CLS] Yeah , he won so much . . . clearly his year , sure . . . [SEP] We ##l ##beck won more than Ronald ##o , clearly he is a better player . [SEP] [PAD] [PAD] [PAD] [PAD] [PAD] [PAD] [PAD] [PAD] [PAD] [PAD] [PAD] [PAD] [PAD] [PAD]',\n",
              " \"[CLS] Looking for the people in this picture taken at I ##mpo ##rt Alliance over the weekend . My best friend was the second owner of this A ##cu ##ra V ##igor and we ' re curious where it ' s at ! Lots of [SEP] Nice screens ##hot [SEP]\",\n",
              " '[CLS] M ##Z ? [SEP] Mo ##cha Z ##wed ##nes ##day ? [SEP] [PAD] [PAD] [PAD] [PAD] [PAD] [PAD] [PAD] [PAD] [PAD] [PAD] [PAD] [PAD] [PAD] [PAD] [PAD] [PAD] [PAD] [PAD] [PAD] [PAD] [PAD] [PAD] [PAD] [PAD] [PAD] [PAD] [PAD] [PAD] [PAD] [PAD] [PAD] [PAD] [PAD] [PAD] [PAD] [PAD] [PAD]',\n",
              " '[CLS] Any g ##if of the goal ? [SEP] Real fans watch goals live ! [SEP] [PAD] [PAD] [PAD] [PAD] [PAD] [PAD] [PAD] [PAD] [PAD] [PAD] [PAD] [PAD] [PAD] [PAD] [PAD] [PAD] [PAD] [PAD] [PAD] [PAD] [PAD] [PAD] [PAD] [PAD] [PAD] [PAD] [PAD] [PAD] [PAD] [PAD] [PAD] [PAD] [PAD] [PAD]',\n",
              " \"[CLS] Red ##dit is better , more polite and friendly than it was before Di ##gg crashed . This must be us on our best behavior . I guess we have to prove that everything we ' d believed before about Red ##dit compared to [SEP] Fuck you ! [SEP]\",\n",
              " '[CLS] N ##f ##l , pull your head out of your ass , let the players have fun . We , the audience want to have fun to ! [SEP] People are not watching to be entertained ! [SEP] [PAD] [PAD] [PAD] [PAD] [PAD] [PAD] [PAD] [PAD] [PAD] [PAD] [PAD]',\n",
              " \"[CLS] Trump interrupted Clinton 25 times in the first 26 minutes of the debate [SEP] No shit dumb ##ass that ' s how you win debates . [SEP] [PAD] [PAD] [PAD] [PAD] [PAD] [PAD] [PAD] [PAD] [PAD] [PAD] [PAD] [PAD] [PAD] [PAD] [PAD] [PAD] [PAD] [PAD] [PAD] [PAD] [PAD] [PAD]\",\n",
              " \"[CLS] I was technically supposed to use it every time I ID ' d someone , so I used it every time a boss was near . Other than that , I just used it if somebody looked under ##age . I [SEP] You sir are a racist ! [SEP]\",\n",
              " \"[CLS] It ' s one thing to o ##mit details . . . another entirely to lie about them . That ' s fraud . [SEP] Care ##ful guys , we have the warrant ##y police around here ! [SEP] [PAD] [PAD] [PAD] [PAD] [PAD] [PAD] [PAD] [PAD] [PAD] [PAD]\",\n",
              " \"[CLS] Lower on the list [SEP] I didn ' t think my comment needed a [SEP] [PAD] [PAD] [PAD] [PAD] [PAD] [PAD] [PAD] [PAD] [PAD] [PAD] [PAD] [PAD] [PAD] [PAD] [PAD] [PAD] [PAD] [PAD] [PAD] [PAD] [PAD] [PAD] [PAD] [PAD] [PAD] [PAD] [PAD] [PAD] [PAD] [PAD] [PAD] [PAD] [PAD] [PAD]\",\n",
              " '[CLS] What a spectacular fail of their legal system ! ! ! Also of foolish men . . . [SEP] Yeah , blame the victims ! [SEP] [PAD] [PAD] [PAD] [PAD] [PAD] [PAD] [PAD] [PAD] [PAD] [PAD] [PAD] [PAD] [PAD] [PAD] [PAD] [PAD] [PAD] [PAD] [PAD] [PAD] [PAD] [PAD] [PAD]',\n",
              " '[CLS] There is always that one friend . . . [SEP] Sexual assault is funny ! [SEP] [PAD] [PAD] [PAD] [PAD] [PAD] [PAD] [PAD] [PAD] [PAD] [PAD] [PAD] [PAD] [PAD] [PAD] [PAD] [PAD] [PAD] [PAD] [PAD] [PAD] [PAD] [PAD] [PAD] [PAD] [PAD] [PAD] [PAD] [PAD] [PAD] [PAD] [PAD] [PAD] [PAD]',\n",
              " \"[CLS] A concrete wall that is un ##att ##ended will be broken through by the people Trump is trying to keep out , no ? Not to mention wildlife , in ##cle ##ment weather , etc etc [SEP] Chi ##ll dude , Mexico ' s got it covered . [SEP]\",\n",
              " '[CLS] It also permits a few to organize themselves into ruthless , powerful , and dangerous organizations . You know , like the government , except without account ##ability [SEP] Because no other human agency offers a better solution to transparency and account ##ability than a monopoly called government [SEP]',\n",
              " '[CLS] A ##w ##w ##w . . . & l ##t ; 3 ^ ( why am I the exception ) [SEP] Because of the nude ##s posted that one time proving otherwise : | ^ ^ ^ ^ ^ ^ [SEP] [PAD] [PAD] [PAD] [PAD] [PAD] [PAD] [PAD] [PAD]',\n",
              " \"[CLS] a : I have permission , and b : tell me how you ' d identify my dad from this ? [SEP] I didn ' t get it from your x - ray post . . . it was the linked co ##lon ##os ##copy video of your [SEP]\",\n",
              " '[CLS] They were probably also innocent . [SEP] well they were found guilty and j ##uries never make mistakes though [SEP] [PAD] [PAD] [PAD] [PAD] [PAD] [PAD] [PAD] [PAD] [PAD] [PAD] [PAD] [PAD] [PAD] [PAD] [PAD] [PAD] [PAD] [PAD] [PAD] [PAD] [PAD] [PAD] [PAD] [PAD] [PAD] [PAD] [PAD] [PAD] [PAD]',\n",
              " '[CLS] Top ME ##Ps seek to star ##ve fringe parties of funding [SEP] More proof that the EU is totally democratic . . . [SEP] [PAD] [PAD] [PAD] [PAD] [PAD] [PAD] [PAD] [PAD] [PAD] [PAD] [PAD] [PAD] [PAD] [PAD] [PAD] [PAD] [PAD] [PAD] [PAD] [PAD] [PAD] [PAD] [PAD] [PAD] [PAD]',\n",
              " '[CLS] I love it . I listen to them more intently than usual and encourage them to continue talking to me . I \\' ll occasionally say stuff like \" please don \\' t feel like [SEP] I do the same thing I feel so bad when doing it [SEP]',\n",
              " \"[CLS] Your post makes me want to ask your age ? M ##MO ' s are done . Fin ##ished forever . Sorry you got to play a few and want more . But they are done . . . forever . [SEP] ^ T ##IL [SEP] [PAD] [PAD] [PAD]\",\n",
              " '[CLS] That dude laying on the beach trying to stuff his own guts back in . . . . I nearly bail ##ed . I think this scene was in the very start of the movie too , [SEP] Yeah because every position in the military is infantry . [SEP]',\n",
              " '[CLS] bed ##ko et ##7 ##ab ##so ##ona en ##to ? [SEP] 3 ##adi free speech . [SEP] [PAD] [PAD] [PAD] [PAD] [PAD] [PAD] [PAD] [PAD] [PAD] [PAD] [PAD] [PAD] [PAD] [PAD] [PAD] [PAD] [PAD] [PAD] [PAD] [PAD] [PAD] [PAD] [PAD] [PAD] [PAD] [PAD] [PAD] [PAD] [PAD] [PAD] [PAD] [PAD]',\n",
              " '[CLS] * G ##roa ##n * I hate that circle ##jer ##k so much . And video game def ##ening probably piss ##es me off [SEP] And that is why I only play real games like Super Mario Bros on NE ##S . . . . . . . [SEP]',\n",
              " '[CLS] God for ##bid the developers want you to play the game rather then A ##F ##K farm all of the items . I have nothing against the act of it but when they [SEP] I personally get the most enjoyment out of games by not playing them . [SEP]',\n",
              " \"[CLS] This forum should be extended to the whole of Victoria ? Should ##n ' t this sub ##red ##dit be extended to the whole of Victoria , rather tan the capital . Does a Victoria sub ##red ##dit exist ? Thought ##s people [SEP] Melbourne ends at Brunswick [SEP]\",\n",
              " '[CLS] I have a visible 6 pack p . s . I still fucked u ##r mum mate . . . [SEP] Ya visible 6 pack of Co ##ors light when u open the fridge m ##8 [SEP] [PAD] [PAD] [PAD] [PAD] [PAD] [PAD] [PAD] [PAD] [PAD] [PAD] [PAD] [PAD]',\n",
              " '[CLS] W ##oop ##s , screwed up . What now ? [SEP] Cut your losses , start over . . . . . . [SEP] [PAD] [PAD] [PAD] [PAD] [PAD] [PAD] [PAD] [PAD] [PAD] [PAD] [PAD] [PAD] [PAD] [PAD] [PAD] [PAD] [PAD] [PAD] [PAD] [PAD] [PAD] [PAD] [PAD] [PAD] [PAD]',\n",
              " \"[CLS] There is no g ##amble today , because of the Internet . [SEP] Because review em ##bar ##go ##es aren ' t real either ? [SEP] [PAD] [PAD] [PAD] [PAD] [PAD] [PAD] [PAD] [PAD] [PAD] [PAD] [PAD] [PAD] [PAD] [PAD] [PAD] [PAD] [PAD] [PAD] [PAD] [PAD] [PAD] [PAD] [PAD]\",\n",
              " \"[CLS] No , I think he tried to parody the pulling of the race card , and I think this and most of the highly up ##vo ##ted replies are falling for that hook , line , and sink ##er . [SEP] should ' ve added [SEP] [PAD] [PAD] [PAD]\",\n",
              " '[CLS] What roles could a woman not play ? Saw this article and I got me thinking . Are there any roles which have been played by men , but which could be equally well portrayed by a woman . Any roles which a woman could [SEP] title character [SEP]',\n",
              " \"[CLS] Now That I ' ve Left The Mormon Church , I ' m So Un ##ha ##ppy . . . * * NO ##T ! I ' ve [SEP] Your vision of life is so short sighted and focused on ( relatively ) immediate g ##rat ##ification . [SEP]\",\n",
              " \"[CLS] The mental image of the Trinity Killer sitting down to write children ' s books is disturbing . [SEP] Arthur is just mi ##sun ##ders ##to ##od . [SEP] [PAD] [PAD] [PAD] [PAD] [PAD] [PAD] [PAD] [PAD] [PAD] [PAD] [PAD] [PAD] [PAD] [PAD] [PAD] [PAD] [PAD] [PAD] [PAD] [PAD]\",\n",
              " \"[CLS] I work in software development , if me or my team would ' ve worked at the pace Riot does , we would ' ve been fired long ago . . [SEP] But Riot is just a small start up who puts players first . [SEP] [PAD] [PAD] [PAD]\",\n",
              " \"[CLS] Actually , people who are drowning are pretty motionless and don ' t wave their arms around . [SEP] I ' ll bet your a real ho ##ot at parties , ain ' t ya ? [SEP] [PAD] [PAD] [PAD] [PAD] [PAD] [PAD] [PAD] [PAD] [PAD] [PAD] [PAD] [PAD]\",\n",
              " \"[CLS] It depends on the car . If you ' ve got something domestic , you ' re probably okay . The after ##market companies [SEP] oh ##h well that is ok then . . . Fuck rice burn ##ers . . . . . . . . . [SEP]\",\n",
              " \"[CLS] USA : 6 deaths by spider bite a year . Australia : zero since 1979 . [SEP] Because we ' re not pu ##ssie ##s , du ##h . [SEP] [PAD] [PAD] [PAD] [PAD] [PAD] [PAD] [PAD] [PAD] [PAD] [PAD] [PAD] [PAD] [PAD] [PAD] [PAD] [PAD] [PAD] [PAD] [PAD]\",\n",
              " \"[CLS] Yesterday was a good day - R ##RA 45 ##8 S ##OC ##OM [SEP] It ' s good to know that you aren ' t using evil 30 round ma ##gs . [SEP] [PAD] [PAD] [PAD] [PAD] [PAD] [PAD] [PAD] [PAD] [PAD] [PAD] [PAD] [PAD] [PAD] [PAD] [PAD] [PAD]\",\n",
              " '[CLS] Your user ##name is the reason why your significant other left you , what happened ? [SEP] I have no idea [SEP] [PAD] [PAD] [PAD] [PAD] [PAD] [PAD] [PAD] [PAD] [PAD] [PAD] [PAD] [PAD] [PAD] [PAD] [PAD] [PAD] [PAD] [PAD] [PAD] [PAD] [PAD] [PAD] [PAD] [PAD] [PAD] [PAD] [PAD]',\n",
              " \"[CLS] Play Star Wars : The old republic free to level 15 coming July 10th [SEP] That ' s certain to save the game . [SEP] [PAD] [PAD] [PAD] [PAD] [PAD] [PAD] [PAD] [PAD] [PAD] [PAD] [PAD] [PAD] [PAD] [PAD] [PAD] [PAD] [PAD] [PAD] [PAD] [PAD] [PAD] [PAD] [PAD] [PAD]\",\n",
              " '[CLS] I think the n ##uke ##s gave them autism [SEP] They must have sneak ##ed in v ##ac ##cin ##ations . [SEP] [PAD] [PAD] [PAD] [PAD] [PAD] [PAD] [PAD] [PAD] [PAD] [PAD] [PAD] [PAD] [PAD] [PAD] [PAD] [PAD] [PAD] [PAD] [PAD] [PAD] [PAD] [PAD] [PAD] [PAD] [PAD] [PAD] [PAD]',\n",
              " \"[CLS] I prefer the other stories , like the sister missionaries put ##ing water in their car ' s gas tank and praying for it to become gas . [SEP] Oh hey , that happened in my mission ! [SEP] [PAD] [PAD] [PAD] [PAD] [PAD] [PAD] [PAD] [PAD] [PAD] [PAD]\",\n",
              " \"[CLS] Our Captain is a funny drunk [SEP] I bet Doug ##ht ##y ' s a way better drunk . [SEP] [PAD] [PAD] [PAD] [PAD] [PAD] [PAD] [PAD] [PAD] [PAD] [PAD] [PAD] [PAD] [PAD] [PAD] [PAD] [PAD] [PAD] [PAD] [PAD] [PAD] [PAD] [PAD] [PAD] [PAD] [PAD] [PAD] [PAD] [PAD] [PAD]\",\n",
              " '[CLS] I see racism in the USA brought up a lot but god damn is it terrible in other countries . [SEP] Yeah minorities are literally being shot dead in the streets in Japan [SEP] [PAD] [PAD] [PAD] [PAD] [PAD] [PAD] [PAD] [PAD] [PAD] [PAD] [PAD] [PAD] [PAD] [PAD] [PAD]',\n",
              " \"[CLS] You should Google something called ' behaviour ##al sink ' . The experiments done with mice and over ##pop ##ulation draw some crazy parallels to the situation in lots of western nations . [SEP] In ##fer ##tility and can ##ni ##bal ##ism ? [SEP] [PAD] [PAD] [PAD] [PAD] [PAD]\",\n",
              " '[CLS] You left your door open . . . [SEP] This is from the movie \" rubber \" [SEP] [PAD] [PAD] [PAD] [PAD] [PAD] [PAD] [PAD] [PAD] [PAD] [PAD] [PAD] [PAD] [PAD] [PAD] [PAD] [PAD] [PAD] [PAD] [PAD] [PAD] [PAD] [PAD] [PAD] [PAD] [PAD] [PAD] [PAD] [PAD] [PAD] [PAD] [PAD]',\n",
              " '[CLS] Um . Donna Brazil ##e was not the D ##NC chair at the time . [SEP] What do facts matter with a good s ##me ##ar ? [SEP] [PAD] [PAD] [PAD] [PAD] [PAD] [PAD] [PAD] [PAD] [PAD] [PAD] [PAD] [PAD] [PAD] [PAD] [PAD] [PAD] [PAD] [PAD] [PAD] [PAD] [PAD]',\n",
              " \"[CLS] LA Galaxy are the first team to score 1 , 000 MLS Regular Season goals . [SEP] I ' m glad they were able to do it against long time rival NYC ##FC . [SEP] [PAD] [PAD] [PAD] [PAD] [PAD] [PAD] [PAD] [PAD] [PAD] [PAD] [PAD] [PAD] [PAD] [PAD]\",\n",
              " \"[CLS] I got banned from Riot ' s twitch by typing 322 [SEP] Don ' t you dare to raise toxicity in league ' s twitch chat filthy dot ##er ! [SEP] [PAD] [PAD] [PAD] [PAD] [PAD] [PAD] [PAD] [PAD] [PAD] [PAD] [PAD] [PAD] [PAD] [PAD] [PAD] [PAD] [PAD] [PAD]\",\n",
              " \"[CLS] American here . I even think people are crazy for eating it . [SEP] It ' s slippery , er ##go it must work to l ##ub ##rica ##te our art ##eries and veins ! [SEP] [PAD] [PAD] [PAD] [PAD] [PAD] [PAD] [PAD] [PAD] [PAD] [PAD] [PAD] [PAD] [PAD]\",\n",
              " '[CLS] [ ] ( / change ##lings ##ad ) Those royal ##s , never thinking about the 99 % and our jobs [SEP] Your job is op ##pressing people [SEP] [PAD] [PAD] [PAD] [PAD] [PAD] [PAD] [PAD] [PAD] [PAD] [PAD] [PAD] [PAD] [PAD] [PAD] [PAD] [PAD] [PAD] [PAD] [PAD] [PAD]',\n",
              " '[CLS] IS ##T ##J . Not surprising . I usually go back forth between IN ##T ##J and IS ##T ##J . [SEP] People just need to follow the damn rules and let me be alone sometimes dam ##mit ! [SEP] [PAD] [PAD] [PAD] [PAD] [PAD] [PAD] [PAD] [PAD] [PAD]',\n",
              " '[CLS] Canadian Armed Forces see spike in sexual misconduct complaints [SEP] You mean you took a bunch of test ##osterone filled men , deprived them of female contact and then they eventually snapped . . Colour me shocked . [SEP] [PAD] [PAD] [PAD] [PAD] [PAD] [PAD] [PAD] [PAD] [PAD] [PAD]',\n",
              " '[CLS] Start homes ##cho ##olin ##g now , or better yet yesterday . You can still save your kids from the terror ##s of mildly sexual images in both fiction and reality , but only if you act quickly [SEP] She ##lter your kids , its the only way [SEP]',\n",
              " '[CLS] Baby and Ba ##mb ##i [SEP] NO ##W T ##HA ##T THE BA ##B ##Y H ##AS TO ##UC ##H ##ED THE DE ##ER THE PA ##RE ##NT ##S W ##IL ##L NE ##G ##LE ##CT THE BA ##B ##Y [SEP] [PAD] [PAD] [PAD] [PAD] [PAD] [PAD] [PAD] [PAD]',\n",
              " '[CLS] I keep seeing the w ##oa ##h everywhere . Ke ##anu really has had an effect on red ##dit . [SEP] Yes , because he created the word and people are only using it now and all . [SEP] [PAD] [PAD] [PAD] [PAD] [PAD] [PAD] [PAD] [PAD] [PAD] [PAD]',\n",
              " \"[CLS] M ##F ##W the entire r / Politics front ##page is posts about Clinton ' s health [SEP] We posted all about her health before it was cool [SEP] [PAD] [PAD] [PAD] [PAD] [PAD] [PAD] [PAD] [PAD] [PAD] [PAD] [PAD] [PAD] [PAD] [PAD] [PAD] [PAD] [PAD] [PAD] [PAD] [PAD]\",\n",
              " '[CLS] Have the came ##l spend a few days with a \" noise box \" that makes a much more constant barrage of noise at a similar level & am ##p ; [SEP] yeah , let \\' s abuse a came ##l , sound like fun . . . [SEP]',\n",
              " \"[CLS] Can You Get Into The Me ##dit ##ation Chamber Pack ? - 1 : 1 , 000 , 000 ( that ' s right ) in Red Pack ##s - Give [SEP] Con ##firmed ho ##ax , I ' ve opened 1 million packs and no insert . [SEP]\",\n",
              " '[CLS] People will be quick to call him \" injury prone \" after this second injury , but it \\' s not like he was playing soft out there and got hurt doing nothing . If this is the [SEP] No it \\' s time we move on ! [SEP]',\n",
              " \"[CLS] I ' d rather not . I would like to have children that looks like me . [SEP] Ra ##cist ! [SEP] [PAD] [PAD] [PAD] [PAD] [PAD] [PAD] [PAD] [PAD] [PAD] [PAD] [PAD] [PAD] [PAD] [PAD] [PAD] [PAD] [PAD] [PAD] [PAD] [PAD] [PAD] [PAD] [PAD] [PAD] [PAD] [PAD] [PAD]\",\n",
              " '[CLS] You just bought a brand new PC , what do you do first ? I updated it , installed a good anti virus and fire ##wall , etc . What else is [SEP] T ##A ##KE IT BA ##C ##K AND B ##U ##Y A MAC L ##OL [SEP]',\n",
              " '[CLS] The thing is straight garbage what are you saying [SEP] \" But it \\' s a Black Market weapon so it automatically has to be O ##P idiot \" [SEP] [PAD] [PAD] [PAD] [PAD] [PAD] [PAD] [PAD] [PAD] [PAD] [PAD] [PAD] [PAD] [PAD] [PAD] [PAD] [PAD] [PAD] [PAD] [PAD]',\n",
              " \"[CLS] I ' m still upset about the rule change last year making what was always a solid defensive play , as long . As you hit the pu ##ck first , now a 2 minute trip ##ping penalty [SEP] But increased scoring will make more profits man ! [SEP]\",\n",
              " '[CLS] lo ##l please dude , if u were around back in 2013 when they announced everything for this game and how easily the game gonna be into beta and then [SEP] Your b ##lat ##antly outrage ##ous and obviously improvised assumptions are hi ##lar ##ious to me . [SEP]',\n",
              " \"[CLS] Isn ' t it funny how God split up the different languages , leaving a subtle trace ##ry of similarities across them , making it look exactly like they had diver ##ged during many thousands of years of migration [SEP] Yeah , isn ' t God amazing ? [SEP]\",\n",
              " '[CLS] Problems with Windows 7 Aero . Windows did updates , and it no longer works . Hey guys . A couple days ago my computer did some automatic up ##dating for windows , [SEP] just upgrade to windows 8 , you ##ll never have a ##ero problems again [SEP]',\n",
              " '[CLS] Ha ##cker active in Pont ##iff b ##on ##fire There is a ha ##cker actively invading in Pont ##iff b ##on ##fire getting people soft - banned . I was hosting a fight club and he [SEP] I hope From is enjoying their \" Golden Week \" . [SEP]',\n",
              " '[CLS] L ##OL Right . AD ##HD has absolutely no bearing on this situation . Nor does his friends running away , nor does his [SEP] so he had a shit ##ty life , that doesn \\' t e ##qua ##te into \" I \\' m going to lie [SEP]',\n",
              " \"[CLS] I thought that at first but , after using it for awhile , I quite like Ang ##ular . . . So now I [SEP] Don ' t worry , when Ang ##ular ##2 comes out all your knowledge will be obsolete anyway and you can switch to [SEP]\",\n",
              " '[CLS] I guess the f ##em ##ina ##zi ##s are next ? [SEP] Of course , feminism is a western plot to under ##mine traditional family values and eventually en ##slav ##e Russia . [SEP] [PAD] [PAD] [PAD] [PAD] [PAD] [PAD] [PAD] [PAD] [PAD] [PAD] [PAD] [PAD] [PAD] [PAD] [PAD]',\n",
              " \"[CLS] Not sure people are concerned with how much tax she ' s paid , so much as the source for all of the income she ' s paying that tax on . [SEP] The absence of evidence is not the evidence of absence ! [SEP] [PAD] [PAD] [PAD] [PAD]\",\n",
              " \"[CLS] I think it would be way different if her friend straight up insulted her food , but instead , the friend eats the stuff [SEP] It ' s not her job to educate them , and it ' s not her job to be a living cooking show [SEP]\",\n",
              " '[CLS] Chart ##ing a road to 270 , Hillary Clinton sets out most efficient path [SEP] little does she realize , Trump is going to flip CA and NY to sweep to victory . [SEP] [PAD] [PAD] [PAD] [PAD] [PAD] [PAD] [PAD] [PAD] [PAD] [PAD] [PAD] [PAD] [PAD] [PAD] [PAD]',\n",
              " \"[CLS] There is no data supporting your opinion , but plenty show that milk composition remains unchanged . If supply is good there are no [SEP] Oh sure , I bet there ' s plenty of data from reliable studies on mothers who star ##ved themselves for a month [SEP]\",\n",
              " '[CLS] My standards are still higher then those of the Italian voters for the last decade . [SEP] I am sure your country has great politicians . [SEP] [PAD] [PAD] [PAD] [PAD] [PAD] [PAD] [PAD] [PAD] [PAD] [PAD] [PAD] [PAD] [PAD] [PAD] [PAD] [PAD] [PAD] [PAD] [PAD] [PAD] [PAD] [PAD]',\n",
              " '[CLS] $ 9 , 000 , 000 , 000 , 000 MI ##SS ##ING From The Federal Reserve [SEP] b - but what about the ho ##mos that want to get married ? [SEP] [PAD] [PAD] [PAD] [PAD] [PAD] [PAD] [PAD] [PAD] [PAD] [PAD] [PAD] [PAD] [PAD] [PAD] [PAD] [PAD]',\n",
              " \"[CLS] There it is . . . [SEP] But he ' s original and funny ! [SEP] [PAD] [PAD] [PAD] [PAD] [PAD] [PAD] [PAD] [PAD] [PAD] [PAD] [PAD] [PAD] [PAD] [PAD] [PAD] [PAD] [PAD] [PAD] [PAD] [PAD] [PAD] [PAD] [PAD] [PAD] [PAD] [PAD] [PAD] [PAD] [PAD] [PAD] [PAD] [PAD] [PAD]\",\n",
              " \"[CLS] T ##IL In the US Between 1973 and 2011 productivity out ##pace ##d worker compensation by more then 750 % and from 1950 - 1973 they were [SEP] Don ' t worry all the money that went to the top will trick ##le down any day now . [SEP]\",\n",
              " \"[CLS] And this is why I voted no for a new boss . . . It ' s not that hard to kill and the [SEP] The reason i voted no to g ##w ##d is because someone could get b ##2 ##b ##2 ##b arm ##a hilt ##s [SEP]\",\n",
              " '[CLS] Arabian Nights [SEP] Li ##teral ##ly all Saudi Arabian ##s are do ##uche ##s . [SEP] [PAD] [PAD] [PAD] [PAD] [PAD] [PAD] [PAD] [PAD] [PAD] [PAD] [PAD] [PAD] [PAD] [PAD] [PAD] [PAD] [PAD] [PAD] [PAD] [PAD] [PAD] [PAD] [PAD] [PAD] [PAD] [PAD] [PAD] [PAD] [PAD] [PAD] [PAD] [PAD] [PAD]',\n",
              " '[CLS] Sex ##ist Trump forces more women than men to work on his projects [SEP] L ##OL where \\' s the other ##kin , the men who \" identify as women \" , the as ##ex ##ual ##s , the gender ##que ##ers , the gender fluid . . [SEP]',\n",
              " \"[CLS] Un ##rel ##iable as carry , shit support , shit off ##lane ##r and not very good mid . I don ' t see any place for him in competitive . [SEP] Jungle N ##ec ##ro [SEP] [PAD] [PAD] [PAD] [PAD] [PAD] [PAD] [PAD] [PAD] [PAD] [PAD] [PAD] [PAD]\",\n",
              " \"[CLS] Did you make that $ 20 giving blow ##jo ##bs to cops ? Your ##e on cop nuts so bad , even when one [SEP] Oh yeah , I ' m such a fan - girl of cops that I can ' t see a bad one . [SEP]\",\n",
              " '[CLS] Sa ##rl ##ac ##c pit anyone ? [SEP] Great content in this thread , thanks . [SEP] [PAD] [PAD] [PAD] [PAD] [PAD] [PAD] [PAD] [PAD] [PAD] [PAD] [PAD] [PAD] [PAD] [PAD] [PAD] [PAD] [PAD] [PAD] [PAD] [PAD] [PAD] [PAD] [PAD] [PAD] [PAD] [PAD] [PAD] [PAD] [PAD] [PAD] [PAD] [PAD]',\n",
              " '[CLS] The sarcasm tag takes all the punch out of a sarcastic response . Death to the sarcasm tag . [SEP] I love the sarcasm tag . [SEP] [PAD] [PAD] [PAD] [PAD] [PAD] [PAD] [PAD] [PAD] [PAD] [PAD] [PAD] [PAD] [PAD] [PAD] [PAD] [PAD] [PAD] [PAD] [PAD] [PAD] [PAD] [PAD]',\n",
              " \"[CLS] Belgium reaches deal to back EU - Canada trade agreement [SEP] I ' m shocked . [SEP] [PAD] [PAD] [PAD] [PAD] [PAD] [PAD] [PAD] [PAD] [PAD] [PAD] [PAD] [PAD] [PAD] [PAD] [PAD] [PAD] [PAD] [PAD] [PAD] [PAD] [PAD] [PAD] [PAD] [PAD] [PAD] [PAD] [PAD] [PAD] [PAD] [PAD] [PAD] [PAD]\",\n",
              " '[CLS] Fan ##s left with 3 minutes left in the game . W ##at [SEP] St ##ren ##gth in numbers ! [SEP] [PAD] [PAD] [PAD] [PAD] [PAD] [PAD] [PAD] [PAD] [PAD] [PAD] [PAD] [PAD] [PAD] [PAD] [PAD] [PAD] [PAD] [PAD] [PAD] [PAD] [PAD] [PAD] [PAD] [PAD] [PAD] [PAD] [PAD] [PAD]',\n",
              " \"[CLS] This me ##me sucks [SEP] yes , let ' s go back to the confession bears and advice mall ##ards , they ' re much more interesting [SEP] [PAD] [PAD] [PAD] [PAD] [PAD] [PAD] [PAD] [PAD] [PAD] [PAD] [PAD] [PAD] [PAD] [PAD] [PAD] [PAD] [PAD] [PAD] [PAD] [PAD] [PAD]\",\n",
              " '[CLS] Ferguson - style crack ##down on students and protesters in Berkeley , CA - - es ##cal ##ation begins at 0 : 20 [SEP] The protesters clearly started it by not just accepting the police state and going home . [SEP] [PAD] [PAD] [PAD] [PAD] [PAD] [PAD] [PAD] [PAD]',\n",
              " '[CLS] Ex ##pelled from school for drawing a 30 ##ft penis using weed ##kill ##er on the cricket field . No regret ##s . [SEP] Ra ##g ##rets * [SEP] [PAD] [PAD] [PAD] [PAD] [PAD] [PAD] [PAD] [PAD] [PAD] [PAD] [PAD] [PAD] [PAD] [PAD] [PAD] [PAD] [PAD] [PAD] [PAD] [PAD]',\n",
              " '[CLS] Are you car ##rot [SEP] I like how he sub ##tly tries to guilt - trip you for telling him no , very class ##y [SEP] [PAD] [PAD] [PAD] [PAD] [PAD] [PAD] [PAD] [PAD] [PAD] [PAD] [PAD] [PAD] [PAD] [PAD] [PAD] [PAD] [PAD] [PAD] [PAD] [PAD] [PAD] [PAD] [PAD]',\n",
              " '[CLS] 15 years ago on this day , an inside job changed world international peace forever . [SEP] 9 / 11 was outside though [SEP] [PAD] [PAD] [PAD] [PAD] [PAD] [PAD] [PAD] [PAD] [PAD] [PAD] [PAD] [PAD] [PAD] [PAD] [PAD] [PAD] [PAD] [PAD] [PAD] [PAD] [PAD] [PAD] [PAD] [PAD] [PAD]',\n",
              " \"[CLS] he ' s supposed to give a lecture in my college today . I hope he doesn ' t drone on AA ##P and corruption . [SEP] You must be paid by Mo ##di . [SEP] [PAD] [PAD] [PAD] [PAD] [PAD] [PAD] [PAD] [PAD] [PAD] [PAD] [PAD] [PAD] [PAD]\",\n",
              " '[CLS] so much [SEP] I want to learn how to make these amazing shit ##post ##s . [SEP] [PAD] [PAD] [PAD] [PAD] [PAD] [PAD] [PAD] [PAD] [PAD] [PAD] [PAD] [PAD] [PAD] [PAD] [PAD] [PAD] [PAD] [PAD] [PAD] [PAD] [PAD] [PAD] [PAD] [PAD] [PAD] [PAD] [PAD] [PAD] [PAD] [PAD] [PAD] [PAD]',\n",
              " '[CLS] My ##stic Tim ##bers is getting taller . [SEP] Oh , good thing its not getting shorter ! [SEP] [PAD] [PAD] [PAD] [PAD] [PAD] [PAD] [PAD] [PAD] [PAD] [PAD] [PAD] [PAD] [PAD] [PAD] [PAD] [PAD] [PAD] [PAD] [PAD] [PAD] [PAD] [PAD] [PAD] [PAD] [PAD] [PAD] [PAD] [PAD] [PAD] [PAD]',\n",
              " \"[CLS] If you live either in K ##Y , T ##N , OH , or In ##d could you post some scratch events coming up any time soon . Been out of tour ##ney [SEP] No , because I don ' t need another person to beat me . [SEP]\",\n",
              " '[CLS] Why ? saints going nowhere fast ! [SEP] True , they should retire - - good point ! [SEP] [PAD] [PAD] [PAD] [PAD] [PAD] [PAD] [PAD] [PAD] [PAD] [PAD] [PAD] [PAD] [PAD] [PAD] [PAD] [PAD] [PAD] [PAD] [PAD] [PAD] [PAD] [PAD] [PAD] [PAD] [PAD] [PAD] [PAD] [PAD] [PAD] [PAD]',\n",
              " '[CLS] New TV Ad : America [SEP] Bernie with AN ##OT ##H ##ER negative campaign ad ! [SEP] [PAD] [PAD] [PAD] [PAD] [PAD] [PAD] [PAD] [PAD] [PAD] [PAD] [PAD] [PAD] [PAD] [PAD] [PAD] [PAD] [PAD] [PAD] [PAD] [PAD] [PAD] [PAD] [PAD] [PAD] [PAD] [PAD] [PAD] [PAD] [PAD] [PAD] [PAD] [PAD]',\n",
              " '[CLS] would have been a perfect pickup for T ##SM [SEP] Nah , spending 100 ##k on Se ##mp ##his and F ##NS makes more sense . . . [SEP] [PAD] [PAD] [PAD] [PAD] [PAD] [PAD] [PAD] [PAD] [PAD] [PAD] [PAD] [PAD] [PAD] [PAD] [PAD] [PAD] [PAD] [PAD] [PAD] [PAD]',\n",
              " '[CLS] 2015 is the year of the albums , Ken ##drick , Earl Sweat ##shirt , Jack U , Tyler , The C ##reator , Made ##on and now the king himself [SEP] Tri ##sta ##m [SEP] [PAD] [PAD] [PAD] [PAD] [PAD] [PAD] [PAD] [PAD] [PAD] [PAD] [PAD] [PAD] [PAD]',\n",
              " '[CLS] Which applications do you have in the dock ? Mines are : - Phone dial ##er - What ##sa ##pp - G ##mail - Google Play - Camera [SEP] * Hang ##outs * Google All ##o * Google Duo * Google Messenger * What ##sa ##pp * [SEP] [PAD]',\n",
              " \"[CLS] No death threats from me , but you don ' t believe the same momentum that got Obama elected past Hillary and past McCain [SEP] Yeah , all good points but since you ' re obviously a right wing ex ##tre ##mist plant just trying to sabotage Clinton [SEP]\",\n",
              " '[CLS] Total ##ly agree . 1 : 45 time ##rs at my rank would be awful because it forces pp ##l to team ##work . Not that i have a [SEP] I re ##ck ##on we should give the terrorists 5 bombs because just one bomb forces team ##work [SEP]',\n",
              " '[CLS] ( S ##po ##iler ##s ) Is this a mistake ? [SEP] We all know that the multiple of one rain is two rains . [SEP] [PAD] [PAD] [PAD] [PAD] [PAD] [PAD] [PAD] [PAD] [PAD] [PAD] [PAD] [PAD] [PAD] [PAD] [PAD] [PAD] [PAD] [PAD] [PAD] [PAD] [PAD] [PAD] [PAD]',\n",
              " \"[CLS] It ' s especially evident when posts more fitting to advice ##ani ##mal ##s get up ##vo ##ted or someone twitch em ##otes in the comments . [SEP] P ##J ##S ##al ##t [SEP] [PAD] [PAD] [PAD] [PAD] [PAD] [PAD] [PAD] [PAD] [PAD] [PAD] [PAD] [PAD] [PAD] [PAD] [PAD]\",\n",
              " \"[CLS] You know , I don ' t care if people are fat . But it kinda i ##rks me when they ' re fat [SEP] Cause it ' s any of your business whether people are fat or not or whether they lie to themselves . . . [SEP]\",\n",
              " '[CLS] it was sarcasm . nice user ##name b ##t ##w . . . . that was not sarcasm . [SEP] you forgot the [SEP] [PAD] [PAD] [PAD] [PAD] [PAD] [PAD] [PAD] [PAD] [PAD] [PAD] [PAD] [PAD] [PAD] [PAD] [PAD] [PAD] [PAD] [PAD] [PAD] [PAD] [PAD] [PAD] [PAD] [PAD] [PAD]',\n",
              " \"[CLS] Because your health doesn ' t matter as long as men find you attractive . So feminist . [SEP] It ' s as if they write these articles only to justify their pre ##con ##ception ##s , and don ' t do any actual research . [SEP] [PAD] [PAD]\",\n",
              " '[CLS] being \" suddenly homosexual \" Its weird , my entire life post coming out no one ever * really * questioned my sexuality , outside of asshole [SEP] But how do you know you aren \\' t into men if you \\' ve never been with one ? [SEP]',\n",
              " \"[CLS] Islam is a religion of peace , and our own Nobel Peace Prize winning president wants to bomb in support of them so I ' m sure [SEP] Yes , because everything that any Muslim does is ultimately a commentary on the doctrine of Islam , right ? [SEP]\",\n",
              " '[CLS] p ##aw ##N : \" I feel Easy ##ho ##on is the better mid lane ##r \" [SEP] \" So before coming to MS ##I , what I had thought was that myself , F ##aker , B ##jer ##gs ##en , and Easy ##ho ##on were the [SEP]',\n",
              " '[CLS] And might get cancer [SEP] \" But there is so much more in life ! ! ! ! ! ! ! \" [SEP] [PAD] [PAD] [PAD] [PAD] [PAD] [PAD] [PAD] [PAD] [PAD] [PAD] [PAD] [PAD] [PAD] [PAD] [PAD] [PAD] [PAD] [PAD] [PAD] [PAD] [PAD] [PAD] [PAD] [PAD] [PAD] [PAD]',\n",
              " \"[CLS] Wait , what exactly happened to Kim ? Sorry , I was kinda out of the loop for the past couple of days , [SEP] She grew a penis , and it was longer than Si ##ps ' s , so Si ##ps cried salt ##y tears during [SEP]\",\n",
              " '[CLS] I have never been to the US and A but from what I \\' ve gathered throughout the years you \\' re the most [SEP] \" I have never been to the US and A \" well then , you must have a very objective and well - [SEP]',\n",
              " \"[CLS] Victoria should take her passion and create something that will crush Red ##dit . Victoria is to Red ##dit as Sam Walton is to K ##mart . [SEP] Who ' s Sam Walton ? [SEP] [PAD] [PAD] [PAD] [PAD] [PAD] [PAD] [PAD] [PAD] [PAD] [PAD] [PAD] [PAD] [PAD] [PAD]\",\n",
              " \"[CLS] I am getting tired of needing to spend $ 200 - 1000 , in war games , $ 3000 + to be a ' top tier player ' . When I was growing [SEP] Clearly you ' re more skill ##ful if you have a larger wallet ! [SEP]\",\n",
              " \"[CLS] Weight Cut ##ting . . . 8 pounds in a week I ' m doing this boot camp challenge where I put $ 500 on the line and if I don ' t lose 20 pounds in 6 weeks I don ' t have my [SEP] Am ##putation [SEP]\",\n",
              " \"[CLS] This year ' s NBA playoffs are so much better than the NFL ' s . And that not an unusual story . [SEP] They ' re so much better than the NFL playoffs that we even get to see a repeat of last years championship match ##up [SEP]\",\n",
              " '[CLS] I know lots of girls who fl ##irt with other girls for attention ( me included with enough alcohol ) . Its just for [SEP] This excuse would totally work if i was flirting with other women / men ( if I was so inclined that way ) [SEP]',\n",
              " '[CLS] shit post , use bra ##g / achievement thread [SEP] But all he got was Lightning and everyone knows she is useless . [SEP] [PAD] [PAD] [PAD] [PAD] [PAD] [PAD] [PAD] [PAD] [PAD] [PAD] [PAD] [PAD] [PAD] [PAD] [PAD] [PAD] [PAD] [PAD] [PAD] [PAD] [PAD] [PAD] [PAD] [PAD] [PAD]',\n",
              " \"[CLS] That right there may very well have cost them the playoffs . [SEP] And when Brooks Lai ##ch had his goal waived off because he was thought to be offs ##ides when he wasn ' t is the rather reason the Cap ##s were swept by the bolts [SEP]\",\n",
              " '[CLS] Cool ! Austin will soon be just like Dallas . . . with a river ##walk . [SEP] Because that C ##rab S ##hack is so Austin [SEP] [PAD] [PAD] [PAD] [PAD] [PAD] [PAD] [PAD] [PAD] [PAD] [PAD] [PAD] [PAD] [PAD] [PAD] [PAD] [PAD] [PAD] [PAD] [PAD] [PAD] [PAD]',\n",
              " '[CLS] Never have I spent so little time deciding on a man ##a base for a draft deck . [SEP] Need ##s more Ra ##dian ##t Fountain . [SEP] [PAD] [PAD] [PAD] [PAD] [PAD] [PAD] [PAD] [PAD] [PAD] [PAD] [PAD] [PAD] [PAD] [PAD] [PAD] [PAD] [PAD] [PAD] [PAD] [PAD] [PAD]',\n",
              " \"[CLS] I played a lot ##ta Company of Heroes in 2010 . [SEP] That ' s what all the We ##hra ##boo ##s say . . . [SEP] [PAD] [PAD] [PAD] [PAD] [PAD] [PAD] [PAD] [PAD] [PAD] [PAD] [PAD] [PAD] [PAD] [PAD] [PAD] [PAD] [PAD] [PAD] [PAD] [PAD] [PAD] [PAD]\",\n",
              " \"[CLS] A way to make Lia ##nd ##ry ' s a good tank bust ##er item for mage ##s Make it deal 1 % maximum hp in T ##R [SEP] Right because all those ch ##amp ##s are bad and are 1 item away from being top picks . [SEP]\",\n",
              " '[CLS] On a nuclear attack in South Korea : \" That would change up the e ##S ##ports scene . \" / \" At least [SEP] \" Ha ha ha , Million ##s would die in a nuclear attack , but at least I get to be the best [SEP]',\n",
              " \"[CLS] They don ' t work and are not armed . So yes a joke [SEP] Is that an opinion ? [SEP] [PAD] [PAD] [PAD] [PAD] [PAD] [PAD] [PAD] [PAD] [PAD] [PAD] [PAD] [PAD] [PAD] [PAD] [PAD] [PAD] [PAD] [PAD] [PAD] [PAD] [PAD] [PAD] [PAD] [PAD] [PAD] [PAD] [PAD] [PAD]\",\n",
              " '[CLS] Best title game ever . [SEP] 2011 ? [SEP] [PAD] [PAD] [PAD] [PAD] [PAD] [PAD] [PAD] [PAD] [PAD] [PAD] [PAD] [PAD] [PAD] [PAD] [PAD] [PAD] [PAD] [PAD] [PAD] [PAD] [PAD] [PAD] [PAD] [PAD] [PAD] [PAD] [PAD] [PAD] [PAD] [PAD] [PAD] [PAD] [PAD] [PAD] [PAD] [PAD] [PAD] [PAD] [PAD] [PAD]',\n",
              " '[CLS] \" Why do they let these people in , they \\' re cherry picking the audience , the BBC are left wing bias ##ed ! \" Isn \\' t that the usual routine for this sort of [SEP] \" Our plants are better than your plants . \" [SEP]',\n",
              " \"[CLS] I guarantee people will still talk shit on us no matter how well we do in the draft , ESPN has been doing it since Thursday . [SEP] Can ' t wait to hear the o ##b ##liga ##tory J ##ag ##s are moving to London comments . [SEP]\",\n",
              " \"[CLS] I love how if you were to comment on the post it gets moderate ##d . that ' s class ##y . [SEP] Co ##mme ##nts use a significant amount of bandwidth , heavy mode ##ration assure ##s only the most accurate information is posted without wasting bandwidth [SEP]\",\n",
              " '[CLS] That face on the r ##5 d ##roid made me laugh so much [SEP] There better be one dawn on the piece to add to the Value of this set [SEP] [PAD] [PAD] [PAD] [PAD] [PAD] [PAD] [PAD] [PAD] [PAD] [PAD] [PAD] [PAD] [PAD] [PAD] [PAD] [PAD] [PAD] [PAD]',\n",
              " '[CLS] Are you kidding me ? Let her have her steak the way she likes it . [SEP] No , because the way she likes her food totally affects his dinner . [SEP] [PAD] [PAD] [PAD] [PAD] [PAD] [PAD] [PAD] [PAD] [PAD] [PAD] [PAD] [PAD] [PAD] [PAD] [PAD] [PAD] [PAD]',\n",
              " '[CLS] what happened to Know ##sh ##on Moreno ? still a FA , why has no one picked him up ? [SEP] Le ##S ##ean McCoy ha ##unts his dreams [SEP] [PAD] [PAD] [PAD] [PAD] [PAD] [PAD] [PAD] [PAD] [PAD] [PAD] [PAD] [PAD] [PAD] [PAD] [PAD] [PAD] [PAD] [PAD] [PAD]',\n",
              " '[CLS] Well , one is a wanna ##be of the other [SEP] Why would Monte want to be like K ##re ##po ? [SEP] [PAD] [PAD] [PAD] [PAD] [PAD] [PAD] [PAD] [PAD] [PAD] [PAD] [PAD] [PAD] [PAD] [PAD] [PAD] [PAD] [PAD] [PAD] [PAD] [PAD] [PAD] [PAD] [PAD] [PAD] [PAD] [PAD]',\n",
              " \"[CLS] Is this real ? This sounds terrible , I hope they don ' t go through with it . # F1 ##V ##ette ##l [SEP] I want this in formula ##1 # F1 ##C ##hil ##ton [SEP] [PAD] [PAD] [PAD] [PAD] [PAD] [PAD] [PAD] [PAD] [PAD] [PAD] [PAD] [PAD]\",\n",
              " '[CLS] Tri ##gger Warning [SEP] O ##MG \" read \" IS ONE OF M ##Y T ##RI ##G ##GE ##R W ##OR ##DS AND YOU D ##ID ##N \\' T T ##RI ##G ##GE ##R IT I L ##IT ##TE ##RA ##LL ##Y CA ##N \\' T BR ##EA [SEP]',\n",
              " \"[CLS] What ' s the fuel efficiency of these things ? [SEP] 500 gallons to the mile . [SEP] [PAD] [PAD] [PAD] [PAD] [PAD] [PAD] [PAD] [PAD] [PAD] [PAD] [PAD] [PAD] [PAD] [PAD] [PAD] [PAD] [PAD] [PAD] [PAD] [PAD] [PAD] [PAD] [PAD] [PAD] [PAD] [PAD] [PAD] [PAD] [PAD] [PAD] [PAD]\",\n",
              " \"[CLS] Why is F ##lick ##r slow compared to I ##m ##gu ##r ? [SEP] Maybe F ##lick ##r didn ' t pay their Co ##m ##cast bill . [SEP] [PAD] [PAD] [PAD] [PAD] [PAD] [PAD] [PAD] [PAD] [PAD] [PAD] [PAD] [PAD] [PAD] [PAD] [PAD] [PAD] [PAD] [PAD] [PAD] [PAD]\",\n",
              " \"[CLS] What ##s wrong with ass ##im ##ilation ? [SEP] Yes , let ' s totally force people to follow the religion we all follow , dress the way that we dress , eat the food we eat ( which ironic ##ally contains cuisine ##s from their countries ) [SEP]\",\n",
              " \"[CLS] The reason we don ' t have banana ##s is because our hands are too fat to p ##eel the skin off [SEP] fucking thin privilege [SEP] [PAD] [PAD] [PAD] [PAD] [PAD] [PAD] [PAD] [PAD] [PAD] [PAD] [PAD] [PAD] [PAD] [PAD] [PAD] [PAD] [PAD] [PAD] [PAD] [PAD] [PAD] [PAD]\",\n",
              " '[CLS] He also comes out with the Mi ##ivers ##e stage and the s ##p ##lat ##oon costume . [SEP] And the latest G ##ren ##in ##ja ne ##rf ! [SEP] [PAD] [PAD] [PAD] [PAD] [PAD] [PAD] [PAD] [PAD] [PAD] [PAD] [PAD] [PAD] [PAD] [PAD] [PAD] [PAD] [PAD] [PAD] [PAD]',\n",
              " \"[CLS] Sad ##ly enough , I agree with you . Once past a point , the damage is too great to re ##media ##te . I saw this th ##ru my wife ' s 15 years teaching in [SEP] We need a solution , hopefully a final solution . [SEP]\",\n",
              " '[CLS] Now do it with Co ##sby . [SEP] too soon man [SEP] [PAD] [PAD] [PAD] [PAD] [PAD] [PAD] [PAD] [PAD] [PAD] [PAD] [PAD] [PAD] [PAD] [PAD] [PAD] [PAD] [PAD] [PAD] [PAD] [PAD] [PAD] [PAD] [PAD] [PAD] [PAD] [PAD] [PAD] [PAD] [PAD] [PAD] [PAD] [PAD] [PAD] [PAD] [PAD] [PAD] [PAD]',\n",
              " \"[CLS] Can we all just take a moment and be thankful that there are not advertisements in the game [SEP] Yes , let ' s all bow our heads and be thankful to the great Ni ##anti ##c for not putting ads in a game they are making millions [SEP]\",\n",
              " \"[CLS] I do not support gay marriage . [SEP] Well , everybody is gonna be so ##oo disappointed when they read YOU don ' t support gay marriage ! [SEP] [PAD] [PAD] [PAD] [PAD] [PAD] [PAD] [PAD] [PAD] [PAD] [PAD] [PAD] [PAD] [PAD] [PAD] [PAD] [PAD] [PAD] [PAD] [PAD] [PAD]\",\n",
              " '[CLS] The name of Adam Sand ##ler \\' s character in his new movie , \" The Do - Over \" is Max Ke ##ssler . My name is Max Ke ##ssler . Oh yeah , and I look just like him . [SEP] Laws ##uit . [SEP] [PAD] [PAD]',\n",
              " \"[CLS] What / where is J ##aw ##ja ##w ? [SEP] guess your not from ' round these parts [SEP] [PAD] [PAD] [PAD] [PAD] [PAD] [PAD] [PAD] [PAD] [PAD] [PAD] [PAD] [PAD] [PAD] [PAD] [PAD] [PAD] [PAD] [PAD] [PAD] [PAD] [PAD] [PAD] [PAD] [PAD] [PAD] [PAD] [PAD] [PAD] [PAD] [PAD]\",\n",
              " '[CLS] I think this is the worst Major in CS ##G ##O history [SEP] Obviously just salt ##y cause f ##nat ##ic are losing their game . [SEP] [PAD] [PAD] [PAD] [PAD] [PAD] [PAD] [PAD] [PAD] [PAD] [PAD] [PAD] [PAD] [PAD] [PAD] [PAD] [PAD] [PAD] [PAD] [PAD] [PAD] [PAD] [PAD]',\n",
              " \"[CLS] I hear there ' s good odds on J . Johnson winning this weekend . [SEP] Ko ##balt 400 . . . Jimmie driving the Ko ##balt car . . IT ##S R ##IG ##GE ##D ! [SEP] [PAD] [PAD] [PAD] [PAD] [PAD] [PAD] [PAD] [PAD] [PAD] [PAD] [PAD]\",\n",
              " '[CLS] A customer returned this watch because it was going back in time [SEP] a ##w ##w those backwards g ##if ##s . . pretty clever [SEP] [PAD] [PAD] [PAD] [PAD] [PAD] [PAD] [PAD] [PAD] [PAD] [PAD] [PAD] [PAD] [PAD] [PAD] [PAD] [PAD] [PAD] [PAD] [PAD] [PAD] [PAD] [PAD] [PAD]',\n",
              " \"[CLS] Ten ##ga ##ku ranked yet again [SEP] It ' s finally ranked ! [SEP] [PAD] [PAD] [PAD] [PAD] [PAD] [PAD] [PAD] [PAD] [PAD] [PAD] [PAD] [PAD] [PAD] [PAD] [PAD] [PAD] [PAD] [PAD] [PAD] [PAD] [PAD] [PAD] [PAD] [PAD] [PAD] [PAD] [PAD] [PAD] [PAD] [PAD] [PAD] [PAD] [PAD] [PAD] [PAD]\",\n",
              " \"[CLS] Saw the other HQ - cheap sweat ##shirt post . Here is a company I ' ve been wearing for years . 18 oz MI ##US ##A super HQ Sweat ##shirt ##s ~ $ 55 [SEP] How do we know you ' re not affiliated with them ? [SEP]\",\n",
              " \"[CLS] First 20 weeks , then 18 , then 12 , then 6 , then at conception . Charge doctors and women who have abortion ##s with murder , women [SEP] Well , we ' ve gotta keep those private prisons full somehow , don ' t we ? [SEP]\",\n",
              " \"[CLS] Oh , I got one . MC ##W shouldn ' t have won R ##O ##Y . He wasn ' t good at anything [SEP] B - b - but look at how many assists and rebounds he had in 36 minutes a game And his teammates were [SEP]\",\n",
              " '[CLS] I disagree with putting their faces in the news . Everyone makes mistakes when they are young . They should be discipline ##d without being plastered in the news . Especially [SEP] Great idea op , lets put their faces online for the whole world to see . [SEP]',\n",
              " '[CLS] He is the only Stanley Cup winning goal ##ie we have , so du ##h . [SEP] Yeah because Cup - less goal ##ies have never made a name for themselves in the playoffs . [SEP] [PAD] [PAD] [PAD] [PAD] [PAD] [PAD] [PAD] [PAD] [PAD] [PAD] [PAD] [PAD] [PAD]',\n",
              " '[CLS] Did these nails for myself in August but never posted them , here they are now anyway ##s [SEP] Wow how did you get your water ##mark painted above your finger ##nail ? [SEP] [PAD] [PAD] [PAD] [PAD] [PAD] [PAD] [PAD] [PAD] [PAD] [PAD] [PAD] [PAD] [PAD] [PAD] [PAD]',\n",
              " \"[CLS] What anti ##virus , spy ##ware , ma ##l ##ware program should I get ? I have a new windows 8 laptop and I ' m a n ##00 ##b to this . Is Microsoft defender enough ? [SEP] Norton [SEP] [PAD] [PAD] [PAD] [PAD] [PAD] [PAD] [PAD] [PAD]\",\n",
              " \"[CLS] You are wrong and always have been wrong . Keep your hate to yourself . I ' m done with it [SEP] Yeah , hope that guy gets AIDS and dies . [SEP] [PAD] [PAD] [PAD] [PAD] [PAD] [PAD] [PAD] [PAD] [PAD] [PAD] [PAD] [PAD] [PAD] [PAD] [PAD] [PAD]\",\n",
              " \"[CLS] cyclist , here . can confirm . everyone tries to kill me . even motor ##cy ##c ##lists . [SEP] That ' s because you are end ##anger ##ing your life by not being registered . [SEP] [PAD] [PAD] [PAD] [PAD] [PAD] [PAD] [PAD] [PAD] [PAD] [PAD] [PAD] [PAD]\",\n",
              " \"[CLS] Because we all know by now that Obama ' s influence extends only to di ##sa ##ffe ##cted foreign criminals and the Cuban trans ##sexual community . [SEP] Check your Cuban trans privilege ! [SEP] [PAD] [PAD] [PAD] [PAD] [PAD] [PAD] [PAD] [PAD] [PAD] [PAD] [PAD] [PAD] [PAD] [PAD]\",\n",
              " \"[CLS] Basic ##ally am ##eric ##an free speech laws protect their man ##nife ##sta ##tions and saying ##s and the like . Same as the West ##boro Baptist Church . I ' d say [SEP] What , Europe has has problems with hate speech getting out of hand ? [SEP]\",\n",
              " \"[CLS] Estonian reporting in . I ' m not at all patriotic and there are many things that I really dislike about my country , but one thing I truly admire is our history . The way we , as a [SEP] Wait I thought Estonia was in Africa [SEP]\",\n",
              " '[CLS] This is only semi - relevant , but I found it amusing . I had a friend of a friend who des ##pis ##ed me . . . because I had black hair . Eventually she found [SEP] What else would you expect from a blonde person ? [SEP]',\n",
              " '[CLS] You receive the power to make one crazy law based on your own personal preferences . What law do you make ? [SEP] Women have to have at least D cups . [SEP] [PAD] [PAD] [PAD] [PAD] [PAD] [PAD] [PAD] [PAD] [PAD] [PAD] [PAD] [PAD] [PAD] [PAD] [PAD] [PAD]',\n",
              " '[CLS] Can someone explain to me why this is being down ##vo ##ted ? [SEP] cause op is dating a CO ##DE member which means instant down ##vo ##tes [SEP] [PAD] [PAD] [PAD] [PAD] [PAD] [PAD] [PAD] [PAD] [PAD] [PAD] [PAD] [PAD] [PAD] [PAD] [PAD] [PAD] [PAD] [PAD] [PAD] [PAD]',\n",
              " \"[CLS] It doesn ' t just say it will increase , it says it will approach 1 . I don ' t think the probability of [SEP] Well now that you ' ve mentioned it , you ' ve * ruined * it for this thread . . . [SEP]\",\n",
              " \"[CLS] I ' ll be honest , more and more , I think it ' s time to let Red America go . [SEP] Yeah , different ideas and viewpoint ##s are dumb and should be hated . [SEP] [PAD] [PAD] [PAD] [PAD] [PAD] [PAD] [PAD] [PAD] [PAD] [PAD] [PAD]\",\n",
              " '[CLS] At least their children have job security . You know , with the Taliban / Al - Qaeda / IS ##IS [SEP] Yeah if my father died , I would also join the next organisation which is known for mass executing hundreds of other fathers . [SEP] [PAD] [PAD]',\n",
              " \"[CLS] Is ##fa ##han Beer [SEP] If there ' s anything the Iranian diaspora needs right now , it ' s definitely alcohol . [SEP] [PAD] [PAD] [PAD] [PAD] [PAD] [PAD] [PAD] [PAD] [PAD] [PAD] [PAD] [PAD] [PAD] [PAD] [PAD] [PAD] [PAD] [PAD] [PAD] [PAD] [PAD] [PAD] [PAD] [PAD] [PAD]\",\n",
              " '[CLS] I attempted to hike along the rural Great Wall of China for 4 days and failed . [SEP] Bad on you for thinking so far out of the box that you got yourself to fucking China and tried something so insane as trying to hike along un ##im [SEP]',\n",
              " \"[CLS] He is . Not many Jews admit to it tough . He ' s not our best product . We have better lines . We have the Rich ##L ##aw ##yer , [SEP] Yes , it ' s important to protect the lines and thus the race ! [SEP]\",\n",
              " '[CLS] It would appear that , while people have no idea how the current political system works , they are convinced that it is in ##ef ##ficient , corrupt , and in need of sweeping reforms . [SEP] they should be politicians , best of both worlds ! [SEP] [PAD]',\n",
              " \"[CLS] Donald Trump threatens ' political re ##p ##ris ##al ' against rebel Republican Electoral College voters [SEP] It ' s always pleasant to see would be dictator ##s * always * announce their intentions before they do something . [SEP] [PAD] [PAD] [PAD] [PAD] [PAD] [PAD] [PAD] [PAD] [PAD]\",\n",
              " \"[CLS] It ' s a fantastic idea , forward thinking , well planned , and future proof . Which is why it will never happen [SEP] It ' s a good think we built that 500 million dollar Bengal ' s stadium though , since there wasn ' t [SEP]\",\n",
              " '[CLS] k ##k go join the rest of the flock then . id ##c [SEP] \" Wake up , sheep ##le ! \" [SEP] [PAD] [PAD] [PAD] [PAD] [PAD] [PAD] [PAD] [PAD] [PAD] [PAD] [PAD] [PAD] [PAD] [PAD] [PAD] [PAD] [PAD] [PAD] [PAD] [PAD] [PAD] [PAD] [PAD] [PAD] [PAD] [PAD]',\n",
              " \"[CLS] Tor ##ture at the hands of Da ##ash [SEP] They ' re just culturally mi ##sun ##ders ##to ##od ! [SEP] [PAD] [PAD] [PAD] [PAD] [PAD] [PAD] [PAD] [PAD] [PAD] [PAD] [PAD] [PAD] [PAD] [PAD] [PAD] [PAD] [PAD] [PAD] [PAD] [PAD] [PAD] [PAD] [PAD] [PAD] [PAD] [PAD] [PAD] [PAD]\",\n",
              " '[CLS] X ##pec ##ial Body Block ##ed by Pink Ward [SEP] That ##s why you use a ward skin cause the model is smaller g ##g pay ##2 ##win [SEP] [PAD] [PAD] [PAD] [PAD] [PAD] [PAD] [PAD] [PAD] [PAD] [PAD] [PAD] [PAD] [PAD] [PAD] [PAD] [PAD] [PAD] [PAD] [PAD] [PAD]',\n",
              " \"[CLS] We ' ll see it on the 360 in approximately . . . Never [SEP] na ##h , it ' ll come with the Dawn ##breaker fix . [SEP] [PAD] [PAD] [PAD] [PAD] [PAD] [PAD] [PAD] [PAD] [PAD] [PAD] [PAD] [PAD] [PAD] [PAD] [PAD] [PAD] [PAD] [PAD] [PAD] [PAD]\",\n",
              " \"[CLS] I don ' t agree that s ##truct ##uring should be a f ##elo ##ny . If you deposited more than $ 10 , 000 , you ' ll raise some eyebrows and the government will seize your [SEP] Just put all your money in a mattress ! [SEP]\",\n",
              " '[CLS] This is my first SF game , and first fighting game since T ##TT or SC ##2 . I bought SF ##V around when it came out and have been playing a few hours per week ( [SEP] Star ##craft 2 best fighting game K ##rey ##gra ##sm [SEP]',\n",
              " \"[CLS] He ##h , in my school we weren ' t allowed to have backpack ##s outside of our locker , so everyone had to carry their books . [SEP] Why if there was a shooting surely the shooter should respect the rule of no backpack ##s [SEP] [PAD] [PAD]\",\n",
              " \"[CLS] Live from the S ##po ##dek . Yesterday you said we have a bad crowd in Kat ##ow ##ice [SEP] Oh no dude they ' re all there for the Lo ##L stuff , or so I was told ! [SEP] [PAD] [PAD] [PAD] [PAD] [PAD] [PAD] [PAD] [PAD]\",\n",
              " \"[CLS] Now now ladies put your w ##ig ##wa ##ms away it doesn ' t have to go down like this [SEP] Savage ##s [SEP] [PAD] [PAD] [PAD] [PAD] [PAD] [PAD] [PAD] [PAD] [PAD] [PAD] [PAD] [PAD] [PAD] [PAD] [PAD] [PAD] [PAD] [PAD] [PAD] [PAD] [PAD] [PAD] [PAD] [PAD] [PAD]\",\n",
              " \"[CLS] I couldn ' t agree more . I have a friend who bought a brand new Nissan X ##ter ##ra a few years ago . Her payments are about $ 250 a month and [SEP] If only her parents had sold her their car for $ 1500 ! [SEP]\",\n",
              " \"[CLS] Anyone have a clue why Ed ##el ##man is warning someone that he ' s wired at 0 : 55 ? [SEP] Somebody was trying to talk to him about def ##lating the balls [SEP] [PAD] [PAD] [PAD] [PAD] [PAD] [PAD] [PAD] [PAD] [PAD] [PAD] [PAD] [PAD] [PAD] [PAD]\",\n",
              " '[CLS] I just got billed $ 97 for what is certainly a mistake ! Who do I contact ? ? Thanks for any advice in advance . Last semester , I rented a text [SEP] First thing to do is ask red ##dit , because that makes sense . [SEP]',\n",
              " '[CLS] Pretty sure this is a joke . Yeah , the ve ##gan ##s on Tu ##mb ##l ##r get a little crazy , but , as [SEP] Come on , there is zero chance \" sa ##ssy ##p ##ries ##t ##6 ##9 \" is a sat ##iri ##st [SEP]',\n",
              " \"[CLS] Got told by a dude wearing work ##out gloves that I ' m gonna slip a disc arch ##ing during the bench press . . . . . Why . . [SEP] Don ' t wear a belt either , it ' s not good for your core [SEP]\",\n",
              " \"[CLS] Springfield , M ##O has repealed state law that makes discrimination against gay ##s illegal [SEP] I ' m guessing this was based on a well thought out logical decision and had nothing to do with religious big ##ot ##ry [SEP] [PAD] [PAD] [PAD] [PAD] [PAD] [PAD] [PAD] [PAD]\",\n",
              " '[CLS] My F ##B f ##re ##ind \\' s melt ##down . [SEP] Can anyone explain what the word \" big ##ly \" means ? [SEP] [PAD] [PAD] [PAD] [PAD] [PAD] [PAD] [PAD] [PAD] [PAD] [PAD] [PAD] [PAD] [PAD] [PAD] [PAD] [PAD] [PAD] [PAD] [PAD] [PAD] [PAD] [PAD] [PAD] [PAD]',\n",
              " \"[CLS] It would explain why they stand in fire so much [SEP] But if we don ' t what would the healer ##s do ? [SEP] [PAD] [PAD] [PAD] [PAD] [PAD] [PAD] [PAD] [PAD] [PAD] [PAD] [PAD] [PAD] [PAD] [PAD] [PAD] [PAD] [PAD] [PAD] [PAD] [PAD] [PAD] [PAD] [PAD] [PAD]\",\n",
              " '[CLS] Great A ##rgus Ph ##eas ##ant attempts to en ##tic ##e a mate . [SEP] can you imagine if humans were like this ? [SEP] [PAD] [PAD] [PAD] [PAD] [PAD] [PAD] [PAD] [PAD] [PAD] [PAD] [PAD] [PAD] [PAD] [PAD] [PAD] [PAD] [PAD] [PAD] [PAD] [PAD] [PAD] [PAD] [PAD] [PAD]',\n",
              " \"[CLS] It only means war if China continues to act like a possessive , jealous ex [SEP] R ##o ##C are bad loser ##s they lose the civil war , so they want to break China . - I ' m sure if the Southern States want independence because [SEP]\",\n",
              " \"[CLS] U . S . Senator To FIFA : Take The World Cup Away From Qatar [SEP] Oh shit . . . You know it ' s serious when a senator makes demands [SEP] [PAD] [PAD] [PAD] [PAD] [PAD] [PAD] [PAD] [PAD] [PAD] [PAD] [PAD] [PAD] [PAD] [PAD] [PAD] [PAD]\",\n",
              " '[CLS] Co ##mp ##lain about it , then mon ##eti ##ze its presence . [SEP] Hey , that sounds familiar - - corn ##rows , rap , big butt ##s , bag ##gy jeans , big lips , kin ##ky hair , sneak ##er culture , . . . [SEP]',\n",
              " \"[CLS] I saw d - lo ##re drop in casual just 3 days ago . Couldn ' t believe it but now I ' m wondering if they [SEP] Its v ##av ##les way of stopping all the du ##pping , more drops means less need for du ##pping [SEP]\",\n",
              " '[CLS] Our security is worth more to us than \" terrorists \" or \" child abuse ##rs . \" Sorry go ##v ##t , you [SEP] If think of the children and terrorism is not enough to get you to give up your freedom ##s then i only have [SEP]',\n",
              " '[CLS] We need to file a petition for S ##kat ##e 4 to EA . [SEP] Yes , because the last few S ##kat ##e games were just so awesome . [SEP] [PAD] [PAD] [PAD] [PAD] [PAD] [PAD] [PAD] [PAD] [PAD] [PAD] [PAD] [PAD] [PAD] [PAD] [PAD] [PAD] [PAD] [PAD]',\n",
              " \"[CLS] I find your facts really racist . [SEP] What would you expect from a gun to ##tin ' Tex ##an ? [SEP] [PAD] [PAD] [PAD] [PAD] [PAD] [PAD] [PAD] [PAD] [PAD] [PAD] [PAD] [PAD] [PAD] [PAD] [PAD] [PAD] [PAD] [PAD] [PAD] [PAD] [PAD] [PAD] [PAD] [PAD] [PAD] [PAD] [PAD]\",\n",
              " '[CLS] Mariners had interest in Ben Rev ##ere , but then R ##uben Amar ##o Jr . asked for Tai ##ju ##an Walker or James Pa ##xton [SEP] Seems reasonable . [SEP] [PAD] [PAD] [PAD] [PAD] [PAD] [PAD] [PAD] [PAD] [PAD] [PAD] [PAD] [PAD] [PAD] [PAD] [PAD] [PAD] [PAD] [PAD]',\n",
              " \"[CLS] De ##mo Shield I ##dea 100 % D ##MG Re ##sist while charging 75 % Charge re ##cha ##rge rate [SEP] Not like that ' s O ##P as fucking shit or anything [SEP] [PAD] [PAD] [PAD] [PAD] [PAD] [PAD] [PAD] [PAD] [PAD] [PAD] [PAD] [PAD] [PAD] [PAD] [PAD]\",\n",
              " \"[CLS] i don ' t know that ' s why i was asking . i thought enhancing is when you can zoo ##m , but then clear up the generally p ##ixel ##ated image that happens from zoo ##ming in on it . that [SEP] I forgot to include [SEP]\",\n",
              " \"[CLS] I ' m ashamed of myself : ( [SEP] YOU SH ##O ##U ##LD B ##E AS ##HA ##ME ##D OF YOU ##RS ##EL ##F [SEP] [PAD] [PAD] [PAD] [PAD] [PAD] [PAD] [PAD] [PAD] [PAD] [PAD] [PAD] [PAD] [PAD] [PAD] [PAD] [PAD] [PAD] [PAD] [PAD] [PAD] [PAD] [PAD] [PAD]\",\n",
              " '[CLS] It doesn \\' t end in genocide / 3rd world poverty like socialism , communism , or whatever the \" of we try it this [SEP] It \\' s not like most of them were created by capitalist societies in order to keep capitalism in place or something [SEP]',\n",
              " '[CLS] Ta ##var ##es game 6 O ##T winner [SEP] Nah the re ##fs scored that goal [SEP] [PAD] [PAD] [PAD] [PAD] [PAD] [PAD] [PAD] [PAD] [PAD] [PAD] [PAD] [PAD] [PAD] [PAD] [PAD] [PAD] [PAD] [PAD] [PAD] [PAD] [PAD] [PAD] [PAD] [PAD] [PAD] [PAD] [PAD] [PAD] [PAD] [PAD] [PAD] [PAD]',\n",
              " '[CLS] S ##lick Luigi Edge ##gau ##rd [SEP] s ##m ##h when will l ##ui ##gi stop getting luck based kills [SEP] [PAD] [PAD] [PAD] [PAD] [PAD] [PAD] [PAD] [PAD] [PAD] [PAD] [PAD] [PAD] [PAD] [PAD] [PAD] [PAD] [PAD] [PAD] [PAD] [PAD] [PAD] [PAD] [PAD] [PAD] [PAD] [PAD] [PAD] [PAD]',\n",
              " \"[CLS] Would it be possible to have a pigeon sent in order to not ##ify us when we become un - stunned ? [SEP] Ha ##ha ##ha ##ha that ' s very funny [SEP] [PAD] [PAD] [PAD] [PAD] [PAD] [PAD] [PAD] [PAD] [PAD] [PAD] [PAD] [PAD] [PAD] [PAD] [PAD] [PAD]\",\n",
              " '[CLS] Syrian here , never really had to use Arabic throughout my 1 . 5 ##k hours of c ##s , but I believe others use it , would be nice if it was fixed . [SEP] would be nice for terrorists to communicate [SEP] [PAD] [PAD] [PAD] [PAD] [PAD]',\n",
              " \"[CLS] Well , now there ' s also the post you ' re reply ##ing to . 50 % increase . : / [SEP] o ##oo ##h b ##ur ##rr ##rr ##n da ##nk me ##em [SEP] [PAD] [PAD] [PAD] [PAD] [PAD] [PAD] [PAD] [PAD] [PAD] [PAD] [PAD] [PAD] [PAD]\",\n",
              " \"[CLS] FBI Prior ##ities Right Now [SEP] I ' m sure they are simply re ##tri ##ev ##ing them for the privacy of the good ladies . [SEP] [PAD] [PAD] [PAD] [PAD] [PAD] [PAD] [PAD] [PAD] [PAD] [PAD] [PAD] [PAD] [PAD] [PAD] [PAD] [PAD] [PAD] [PAD] [PAD] [PAD] [PAD] [PAD]\",\n",
              " \"[CLS] The part about Calgary at the bottom is wrong . The Flames had a + 25 goal differential in the regular season and not a negative differential unless he [SEP] + 25 goal differential doesn ' t mean jack shit when it comes to winning hockey games . [SEP]\",\n",
              " \"[CLS] No shit . It ' s like when someone in town is trying to hire a software engineer and complain ##s about a shortage of qualified workers when they are trying to pay under market [SEP] who ##a buddy , let ' s not get too racist . [SEP]\",\n",
              " \"[CLS] From my personal experience just stray away mainly from White and Yellow stars , yes there are some Orange or lower star dick ##s , but I feel that ' s where you ' ll [SEP] Good advice because stars indicate who is a dick ##head or not [SEP]\",\n",
              " '[CLS] W ##WI ##II is bad no matter what Hillary and Obama say [SEP] And now we have a chance to be a part of the Axis instead of the Allies ! [SEP] [PAD] [PAD] [PAD] [PAD] [PAD] [PAD] [PAD] [PAD] [PAD] [PAD] [PAD] [PAD] [PAD] [PAD] [PAD] [PAD] [PAD]',\n",
              " \"[CLS] 28 turnover ##s . No Mu ##dia ##y or Malone to blame . [SEP] Mu ##dia ##y ' s such a scrub he had 0 points 0 assists and 0 rebounds tonight s ##m ##h . . . [SEP] [PAD] [PAD] [PAD] [PAD] [PAD] [PAD] [PAD] [PAD] [PAD] [PAD]\",\n",
              " \"[CLS] 19 year old girl in German city becomes victim of refugee rape gang , 4th attack this month alone [SEP] That ' s racist . [SEP] [PAD] [PAD] [PAD] [PAD] [PAD] [PAD] [PAD] [PAD] [PAD] [PAD] [PAD] [PAD] [PAD] [PAD] [PAD] [PAD] [PAD] [PAD] [PAD] [PAD] [PAD] [PAD] [PAD]\",\n",
              " '[CLS] Did someone say Sky ##rim at night ? [SEP] Oh man , sky ##box ##es are so impressive . [SEP] [PAD] [PAD] [PAD] [PAD] [PAD] [PAD] [PAD] [PAD] [PAD] [PAD] [PAD] [PAD] [PAD] [PAD] [PAD] [PAD] [PAD] [PAD] [PAD] [PAD] [PAD] [PAD] [PAD] [PAD] [PAD] [PAD] [PAD] [PAD] [PAD]',\n",
              " \"[CLS] Do you really need a list ? There ' s only like 4 of ' em [SEP] But but . . . so many ! [SEP] [PAD] [PAD] [PAD] [PAD] [PAD] [PAD] [PAD] [PAD] [PAD] [PAD] [PAD] [PAD] [PAD] [PAD] [PAD] [PAD] [PAD] [PAD] [PAD] [PAD] [PAD] [PAD] [PAD]\",\n",
              " '[CLS] Another reminder that the LDS worship their church , not Christ . [SEP] But the church Is ch ##rist ! [SEP] [PAD] [PAD] [PAD] [PAD] [PAD] [PAD] [PAD] [PAD] [PAD] [PAD] [PAD] [PAD] [PAD] [PAD] [PAD] [PAD] [PAD] [PAD] [PAD] [PAD] [PAD] [PAD] [PAD] [PAD] [PAD] [PAD] [PAD] [PAD]',\n",
              " \"[CLS] Her economic policies are just Obama ' s . Are you saying Obama is a conservative ? [SEP] This is fun ##nier than people are giving you credit for , but I ' m sure your not being [SEP] [PAD] [PAD] [PAD] [PAD] [PAD] [PAD] [PAD] [PAD] [PAD] [PAD]\",\n",
              " '[CLS] Oh , a drop ##down ! [SEP] you are supposed to do it faster , du ##h [SEP] [PAD] [PAD] [PAD] [PAD] [PAD] [PAD] [PAD] [PAD] [PAD] [PAD] [PAD] [PAD] [PAD] [PAD] [PAD] [PAD] [PAD] [PAD] [PAD] [PAD] [PAD] [PAD] [PAD] [PAD] [PAD] [PAD] [PAD] [PAD] [PAD] [PAD] [PAD]',\n",
              " \"[CLS] To Donald Sterling [SEP] Just because you own black people doesn ' t mean you want to f ##rate ##rn ##ize with them . [SEP] [PAD] [PAD] [PAD] [PAD] [PAD] [PAD] [PAD] [PAD] [PAD] [PAD] [PAD] [PAD] [PAD] [PAD] [PAD] [PAD] [PAD] [PAD] [PAD] [PAD] [PAD] [PAD] [PAD] [PAD]\",\n",
              " \"[CLS] If N ##eel ##ey goes up , the 4 girls are going to solid ##ify as strong as ever . The only reason they ' re s ##c [SEP] But the BS ##ers never s ##trate ##gi ##ze and they just hope for America to help them . [SEP]\",\n",
              " '[CLS] As much as I would enjoy growing out a fantastic blonde man ##e , my wife would never look at me again . [SEP] Even if you rocked a man b ##un ? [SEP] [PAD] [PAD] [PAD] [PAD] [PAD] [PAD] [PAD] [PAD] [PAD] [PAD] [PAD] [PAD] [PAD] [PAD] [PAD]',\n",
              " \"[CLS] Stop being a do ##uche ##bag [SEP] But that ' d mean he ' d have to be civil ! [SEP] [PAD] [PAD] [PAD] [PAD] [PAD] [PAD] [PAD] [PAD] [PAD] [PAD] [PAD] [PAD] [PAD] [PAD] [PAD] [PAD] [PAD] [PAD] [PAD] [PAD] [PAD] [PAD] [PAD] [PAD] [PAD] [PAD] [PAD] [PAD]\",\n",
              " \"[CLS] I love how the guy just yells out ' AB ##OL ##IS ##H THE P ##OL ##IC ##E ! ' . Like that will ever happen dude . [SEP] Yeah br ##o , no laws and nobody to punish criminals makes for a much safer society . [SEP] [PAD]\",\n",
              " \"[CLS] [ ] ( / r ##dha ##ppy ) Even though this scene bothered me in the show due to breaking continuity , I can ' t deny this is V ##ER ##Y well animated [SEP] It ' s not breaking continuity , it ' s character progression ! [SEP]\",\n",
              " '[CLS] I \\' m waiting for every person who hates Obama for going on an \" apology tour \" and saying it \\' s weak [SEP] The difference is when Obama does it he clearly is a secret Muslim and when Trump does it he wants to make America [SEP]',\n",
              " \"[CLS] Well , if they can ' t win at home with a fantastic team maybe people don ' t think they can win away [SEP] Is not our fault that the day of the game vs Germany in the q ##uate ##rf ##inal the freaking in ##ferno that [SEP]\",\n",
              " '[CLS] yes but the difference is biting someone is a v ##ile and des ##pic ##able thing to do that makes most decent people feel sick [SEP] Yeah , nearly killing someone with a flying knee to the head is totally not v ##ile or des ##pic ##able . [SEP]',\n",
              " \"[CLS] They were actually really good ! I mean they were able to cut and pick up the sad excuse of college food . I swear our meat ##lo ##af was a rock . lo ##l [SEP] Ha ##ha that ' s sound delicious . [SEP] [PAD] [PAD] [PAD] [PAD]\",\n",
              " \"[CLS] Another issue is that in the near future the cost to maintain h ##wy 12 is going to be astronomical . [SEP] Don ' t be silly , we ' ll just make it a bridge . [SEP] [PAD] [PAD] [PAD] [PAD] [PAD] [PAD] [PAD] [PAD] [PAD] [PAD] [PAD]\",\n",
              " \"[CLS] Any idea what the position is ? I ' m assuming something at a host / analyst desk or of the like . [SEP] bounce ##r or body guard [SEP] [PAD] [PAD] [PAD] [PAD] [PAD] [PAD] [PAD] [PAD] [PAD] [PAD] [PAD] [PAD] [PAD] [PAD] [PAD] [PAD] [PAD] [PAD] [PAD]\",\n",
              " \"[CLS] Play as te ##rra ##n and you ' ll suddenly feel like all the z ##er ##g units are op and b ##lizzard is playing a joke on you . You just are tilted . [SEP] Well they are [SEP] [PAD] [PAD] [PAD] [PAD] [PAD] [PAD] [PAD] [PAD] [PAD]\",\n",
              " \"[CLS] People seriously think Em ##ber releases their players salaries because they want to make in general es ##port better or anything like that ? They know their players salaries is pretty high for N ##A challenger ##s players . That ' s the only reason why [SEP] Yes [SEP]\",\n",
              " \"[CLS] Hope Solo and the domestic violence case no one is talking about [SEP] Because she ' s a woman and women aren ' t capable of committing domestic violence . [SEP] [PAD] [PAD] [PAD] [PAD] [PAD] [PAD] [PAD] [PAD] [PAD] [PAD] [PAD] [PAD] [PAD] [PAD] [PAD] [PAD] [PAD] [PAD]\",\n",
              " \"[CLS] Do you even reference , br ##o ? [SEP] You could say I ' m fun at parties [SEP] [PAD] [PAD] [PAD] [PAD] [PAD] [PAD] [PAD] [PAD] [PAD] [PAD] [PAD] [PAD] [PAD] [PAD] [PAD] [PAD] [PAD] [PAD] [PAD] [PAD] [PAD] [PAD] [PAD] [PAD] [PAD] [PAD] [PAD] [PAD] [PAD] [PAD]\",\n",
              " \"[CLS] Ohio State [SEP] Guys he didn ' t say THE Ohio State , I think he ' s a fraud . [SEP] [PAD] [PAD] [PAD] [PAD] [PAD] [PAD] [PAD] [PAD] [PAD] [PAD] [PAD] [PAD] [PAD] [PAD] [PAD] [PAD] [PAD] [PAD] [PAD] [PAD] [PAD] [PAD] [PAD] [PAD] [PAD] [PAD] [PAD]\",\n",
              " '[CLS] President Barack Obama said on Friday the CIA \" tortured some folks \" after the Sept . 11 , 2001 , attacks , and that the White House had handed over to Congress a report about an investigation [SEP] Well at least he made it sound friendly . [SEP]',\n",
              " \"[CLS] Trump ' s assault defense focuses on a ##cc ##user ##s ' motives , looks [SEP] Yes people are doing it for fame , because you know when you are a star , you can get away with anything . [SEP] [PAD] [PAD] [PAD] [PAD] [PAD] [PAD] [PAD] [PAD]\",\n",
              " '[CLS] What the hit ##box [SEP] Might want to invest in some F ##PS [SEP] [PAD] [PAD] [PAD] [PAD] [PAD] [PAD] [PAD] [PAD] [PAD] [PAD] [PAD] [PAD] [PAD] [PAD] [PAD] [PAD] [PAD] [PAD] [PAD] [PAD] [PAD] [PAD] [PAD] [PAD] [PAD] [PAD] [PAD] [PAD] [PAD] [PAD] [PAD] [PAD] [PAD] [PAD] [PAD]',\n",
              " \"[CLS] Is California still in the drought ? [SEP] No , we just don ' t have any water . [SEP] [PAD] [PAD] [PAD] [PAD] [PAD] [PAD] [PAD] [PAD] [PAD] [PAD] [PAD] [PAD] [PAD] [PAD] [PAD] [PAD] [PAD] [PAD] [PAD] [PAD] [PAD] [PAD] [PAD] [PAD] [PAD] [PAD] [PAD] [PAD] [PAD]\",\n",
              " '[CLS] T ##IL that the word \" sniper \" originated from Britain in the early 19th century and was a title given to a marks [SEP] P ##sh , but can those 19th century marks ##man q ##ui ##ks ##cope ##z with all the s ##wa ##g like me [SEP]',\n",
              " \"[CLS] You just called officers on the USS Liberty crazy . [SEP] He ' s smart ##er and more credible than the officers in the US Navy . [SEP] [PAD] [PAD] [PAD] [PAD] [PAD] [PAD] [PAD] [PAD] [PAD] [PAD] [PAD] [PAD] [PAD] [PAD] [PAD] [PAD] [PAD] [PAD] [PAD] [PAD] [PAD]\",\n",
              " '[CLS] Frank is on his way to London again W ##HA ##T IS GO ##ING ON [SEP] Wow a link to some random persons t ##wi ##tter , it must be true . [SEP] [PAD] [PAD] [PAD] [PAD] [PAD] [PAD] [PAD] [PAD] [PAD] [PAD] [PAD] [PAD] [PAD] [PAD] [PAD] [PAD]',\n",
              " \"[CLS] B ##UT W ##EE ##D D ##OE ##SN ' T I ##MP ##A ##IR YOU L ##I ##KE AL ##CO ##H ##OL ! [SEP] You dropped this : [SEP] [PAD] [PAD] [PAD] [PAD] [PAD] [PAD] [PAD] [PAD] [PAD] [PAD] [PAD] [PAD] [PAD] [PAD] [PAD] [PAD] [PAD] [PAD] [PAD] [PAD]\",\n",
              " \"[CLS] * Y ##EL ##L ##OW J ##AC ##KE ##TS * * [SEP] Sure , yellow is a loud color , but I doubt it will deaf ##en those bells if everyone ' s dressed the same . [SEP] [PAD] [PAD] [PAD] [PAD] [PAD] [PAD] [PAD] [PAD] [PAD] [PAD] [PAD]\",\n",
              " \"[CLS] Because the internet is serious business . I ' ve playing since the beta , bought the expansion pass , I cannot count how many hours I ' ve sank into this game [SEP] Oh w ##ow a different opinion to others , what ' s going on [SEP]\",\n",
              " \"[CLS] I had my Broken CD signed last year . . . By everyone but Trent : ( [SEP] He probably only signs complete CD ' s [SEP] [PAD] [PAD] [PAD] [PAD] [PAD] [PAD] [PAD] [PAD] [PAD] [PAD] [PAD] [PAD] [PAD] [PAD] [PAD] [PAD] [PAD] [PAD] [PAD] [PAD] [PAD] [PAD]\",\n",
              " \"[CLS] Sad ##ly , we have ignorant dumb - fuck ##s up here , too . As is required , they can ' t spell [SEP] Ya its almost like in the 6 years he ' s been in office he has made all us normal folk into religious [SEP]\",\n",
              " \"[CLS] Yu ##p . [SEP] Well by all means then , let ' s give him TO ##NS of new pillow talk [SEP] [PAD] [PAD] [PAD] [PAD] [PAD] [PAD] [PAD] [PAD] [PAD] [PAD] [PAD] [PAD] [PAD] [PAD] [PAD] [PAD] [PAD] [PAD] [PAD] [PAD] [PAD] [PAD] [PAD] [PAD] [PAD] [PAD] [PAD]\",\n",
              " \"[CLS] That is why Skye has the only good Alt fire . Its a mechanic you can decide which one you want to use in the situation rather than [SEP] You ' re wrong , the bet al ##t - fire ever is e ##vie ' s one , [SEP]\",\n",
              " '[CLS] I answered no to the \" would you participate in a rape fantasy if your partner asked you to \" question . My explanation : \" am I doing it right ? \" I \\' m a terrible person . [SEP] Tri ##gger warning ? [SEP] [PAD] [PAD] [PAD]',\n",
              " '[CLS] People should stop voting . It only encourages the bastards . [SEP] That will totally change everything ! [SEP] [PAD] [PAD] [PAD] [PAD] [PAD] [PAD] [PAD] [PAD] [PAD] [PAD] [PAD] [PAD] [PAD] [PAD] [PAD] [PAD] [PAD] [PAD] [PAD] [PAD] [PAD] [PAD] [PAD] [PAD] [PAD] [PAD] [PAD] [PAD] [PAD] [PAD]',\n",
              " \"[CLS] In ##ex ##p ##lica ##bly on the bench for the final 5 minutes because Fisher is a bad coach . [SEP] Well at least he didn ' t foul out . [SEP] [PAD] [PAD] [PAD] [PAD] [PAD] [PAD] [PAD] [PAD] [PAD] [PAD] [PAD] [PAD] [PAD] [PAD] [PAD] [PAD] [PAD]\",\n",
              " \"[CLS] This is my daughter ' s Spanish Teacher , found out at conferences father is Mexican . Ad ##vise ##d her we are fluent in AS ##L not Spanish at home . [SEP] Just trying to make it fair . [SEP] [PAD] [PAD] [PAD] [PAD] [PAD] [PAD] [PAD] [PAD]\",\n",
              " '[CLS] Sue Ever ##hart , the head of the Georgia GO ##P , believes that if same - sex marriage is legal ##ized , straight people [SEP] Makes perfect sense , just like all the he ##tero ##sexual people who do the very same thing all the time . [SEP]',\n",
              " \"[CLS] 2016 NBA Finals Game 6 : ( 1 ) Cleveland C ##ava ##liers vs . ( 1 ) Golden State Warriors [SEP] I ' ve been telling you guys to put Day ##te Jones in all year . [SEP] [PAD] [PAD] [PAD] [PAD] [PAD] [PAD] [PAD] [PAD] [PAD] [PAD]\",\n",
              " \"[CLS] The system is so broken that defense attorneys that think their client is innocent but can ' t win the case will push for the death penalty . Death penalty cases get an automatic appeal [SEP] Sounds like a good argument to keep the death penalty to me [SEP]\",\n",
              " \"[CLS] Hey look it ' s me every ##time someone builds Rod of Ta ##hu ##ti second on conquest ! : D please kill me [SEP] But that 25 % of like 140 power is worth being an item behind the other mid . [SEP] [PAD] [PAD] [PAD] [PAD] [PAD]\",\n",
              " '[CLS] Why has Z ##e ##R ##o been do ##dging tournaments ? Is he scared to lose ? A ##fra ##id of the patch ? [SEP] Because She ##ik got ne ##rf ##ed , du ##h [SEP] [PAD] [PAD] [PAD] [PAD] [PAD] [PAD] [PAD] [PAD] [PAD] [PAD] [PAD] [PAD] [PAD]',\n",
              " '[CLS] Okay sorry then . [SEP] B ##O ##OM [SEP] [PAD] [PAD] [PAD] [PAD] [PAD] [PAD] [PAD] [PAD] [PAD] [PAD] [PAD] [PAD] [PAD] [PAD] [PAD] [PAD] [PAD] [PAD] [PAD] [PAD] [PAD] [PAD] [PAD] [PAD] [PAD] [PAD] [PAD] [PAD] [PAD] [PAD] [PAD] [PAD] [PAD] [PAD] [PAD] [PAD] [PAD] [PAD] [PAD] [PAD]',\n",
              " \"[CLS] Ha just a bi ##mbo bill dick ##ed and said he dick ##ed under oath . [SEP] That ' s fun ##nier the second time I read I think . [SEP] [PAD] [PAD] [PAD] [PAD] [PAD] [PAD] [PAD] [PAD] [PAD] [PAD] [PAD] [PAD] [PAD] [PAD] [PAD] [PAD] [PAD] [PAD]\",\n",
              " '[CLS] See ! At ##he ##ism di ##sp ##rove ##s evolution . If it was true , it would be advantage ##ous , and if it was advantage ##ous , it would increase the likelihood that an At ##heist would survive and reproduce . [SEP] I hope you forgot [SEP]',\n",
              " '[CLS] Tom and Jerry , Donald Duck , S ##po ##nge ##bo ##b , The Simpsons [SEP] si ##mps ##ons is definitely a kids cartoon [SEP] [PAD] [PAD] [PAD] [PAD] [PAD] [PAD] [PAD] [PAD] [PAD] [PAD] [PAD] [PAD] [PAD] [PAD] [PAD] [PAD] [PAD] [PAD] [PAD] [PAD] [PAD] [PAD] [PAD] [PAD]',\n",
              " \"[CLS] I hope you go 0 - 15 [SEP] But . . . but that ' s not how the Cardinal Way works ! [SEP] [PAD] [PAD] [PAD] [PAD] [PAD] [PAD] [PAD] [PAD] [PAD] [PAD] [PAD] [PAD] [PAD] [PAD] [PAD] [PAD] [PAD] [PAD] [PAD] [PAD] [PAD] [PAD] [PAD] [PAD] [PAD]\",\n",
              " \"[CLS] So I ' ve finally saved 4 months salary , now what do I do ? [SEP] Buy an engagement ring with it . [SEP] [PAD] [PAD] [PAD] [PAD] [PAD] [PAD] [PAD] [PAD] [PAD] [PAD] [PAD] [PAD] [PAD] [PAD] [PAD] [PAD] [PAD] [PAD] [PAD] [PAD] [PAD] [PAD] [PAD] [PAD]\",\n",
              " \"[CLS] It ' s been my observation that non - English speakers have an almost ad ##vers ##aria ##l approach to team mates . So I ' m new to the Dot ##A scene , and have been [SEP] I have the same problem with blacks and j ##ews [SEP]\",\n",
              " \"[CLS] She ' s only un ##fa ##vor ##able since the nonsense investigation . She will re ##bound . Hillary is a great person and will re ##bound like she always does . [SEP] You forgot the [SEP] [PAD] [PAD] [PAD] [PAD] [PAD] [PAD] [PAD] [PAD] [PAD] [PAD] [PAD] [PAD]\",\n",
              " \"[CLS] Okay , let ' s put this together like most of the other comment ##ers have already done . . . O ##P called it a G ##hetto ##cross race [SEP] Well it not like he ' s wearing a sheet and a hood . . . . [SEP]\",\n",
              " \"[CLS] P ##mo ##d saw his friend call me gay , says it ' s freedom of speech . is he right ? [SEP] Its a mode ##rator , they are always in the right [SEP] [PAD] [PAD] [PAD] [PAD] [PAD] [PAD] [PAD] [PAD] [PAD] [PAD] [PAD] [PAD] [PAD] [PAD]\",\n",
              " \"[CLS] I ' ve always thought this was strange . Your cells start to fail simply because they refuse to die . Usually your cells are constantly dying and being replaced , [SEP] If you were immortal how long would _ you _ keep doing your job for ? [SEP]\",\n",
              " '[CLS] The Arctic ice is melting and what are northern countries doing ? Racing for resources . [SEP] This from the known reliable source with no agenda Al ##ja ##zee ##ra . [SEP] [PAD] [PAD] [PAD] [PAD] [PAD] [PAD] [PAD] [PAD] [PAD] [PAD] [PAD] [PAD] [PAD] [PAD] [PAD] [PAD] [PAD]',\n",
              " \"[CLS] Who is going to pay for it ? [SEP] It ' s free didn ' t you read the title ? [SEP] [PAD] [PAD] [PAD] [PAD] [PAD] [PAD] [PAD] [PAD] [PAD] [PAD] [PAD] [PAD] [PAD] [PAD] [PAD] [PAD] [PAD] [PAD] [PAD] [PAD] [PAD] [PAD] [PAD] [PAD] [PAD] [PAD] [PAD]\",\n",
              " '[CLS] Because you want muscle not fat [SEP] fuck you and your logical thinking [SEP] [PAD] [PAD] [PAD] [PAD] [PAD] [PAD] [PAD] [PAD] [PAD] [PAD] [PAD] [PAD] [PAD] [PAD] [PAD] [PAD] [PAD] [PAD] [PAD] [PAD] [PAD] [PAD] [PAD] [PAD] [PAD] [PAD] [PAD] [PAD] [PAD] [PAD] [PAD] [PAD] [PAD] [PAD] [PAD]',\n",
              " \"[CLS] Damn gay ##s and their need for equal rights . Why can ' t they just be okay with being second class citizens ? [SEP] By that you mean sub ##human right ? [SEP] [PAD] [PAD] [PAD] [PAD] [PAD] [PAD] [PAD] [PAD] [PAD] [PAD] [PAD] [PAD] [PAD] [PAD] [PAD]\",\n",
              " \"[CLS] 2002 - 2004 were the best years of wrestling and was under ##rated . [SEP] It ' s not the attitude era , therefore it sucks in comparison . [SEP] [PAD] [PAD] [PAD] [PAD] [PAD] [PAD] [PAD] [PAD] [PAD] [PAD] [PAD] [PAD] [PAD] [PAD] [PAD] [PAD] [PAD] [PAD] [PAD]\",\n",
              " '[CLS] This Shadow Government Agency Is Sc ##ari ##er Than the NSA [SEP] Happy to see my para ##no ##ia is never going away . [SEP] [PAD] [PAD] [PAD] [PAD] [PAD] [PAD] [PAD] [PAD] [PAD] [PAD] [PAD] [PAD] [PAD] [PAD] [PAD] [PAD] [PAD] [PAD] [PAD] [PAD] [PAD] [PAD] [PAD] [PAD]',\n",
              " '[CLS] The only person worth working for is yourself . Good luck . [SEP] Uh . . . you must not know me very well . [SEP] [PAD] [PAD] [PAD] [PAD] [PAD] [PAD] [PAD] [PAD] [PAD] [PAD] [PAD] [PAD] [PAD] [PAD] [PAD] [PAD] [PAD] [PAD] [PAD] [PAD] [PAD] [PAD] [PAD]',\n",
              " \"[CLS] Ortiz loses his suspension appeal . Will sit out tonight ' s game . [SEP] OR ##TI ##Z CA ##RE ##ER T ##A ##IN ##TE ##D [SEP] [PAD] [PAD] [PAD] [PAD] [PAD] [PAD] [PAD] [PAD] [PAD] [PAD] [PAD] [PAD] [PAD] [PAD] [PAD] [PAD] [PAD] [PAD] [PAD] [PAD] [PAD] [PAD]\",\n",
              " \"[CLS] Was doing this for awhile until my pink ##y seriously started to hurt from daily use . I ' ve stopped doing it and the pain went away . [SEP] Pink ##y ##G ##ate is coming . [SEP] [PAD] [PAD] [PAD] [PAD] [PAD] [PAD] [PAD] [PAD] [PAD] [PAD] [PAD]\",\n",
              " \"[CLS] People say weed should be treated like tobacco . . So let ' s just ban both . [SEP] I don ' t like abortion lets ban that . [SEP] [PAD] [PAD] [PAD] [PAD] [PAD] [PAD] [PAD] [PAD] [PAD] [PAD] [PAD] [PAD] [PAD] [PAD] [PAD] [PAD] [PAD] [PAD] [PAD]\",\n",
              " \"[CLS] It ' s funny how many women turn a discussion of ch ##ival ##ry into one of manners . [SEP] men are pigs , why should men be grace ##d with manners * towards * them ? [SEP] [PAD] [PAD] [PAD] [PAD] [PAD] [PAD] [PAD] [PAD] [PAD] [PAD] [PAD]\",\n",
              " \"[CLS] today I learned that ten ##ness ##ean ##s are OK with abortion ##s , as long as it ' s a Republican forcing his mistress to have one . . Scott des ##jar ##lai ##s [SEP] It ' s okay because he asked Jesus to forgive him . [SEP]\",\n",
              " '[CLS] Large ##st pyramid in Mexico has been found ; bigger than the Pyramid of Sun in Te ##ot ##ih ##ua ##can [SEP] But is it as big as the Bosnian Pyramid ##s ? [SEP] [PAD] [PAD] [PAD] [PAD] [PAD] [PAD] [PAD] [PAD] [PAD] [PAD] [PAD] [PAD] [PAD] [PAD] [PAD]',\n",
              " '[CLS] It does sound stupid , but you do realise that the La Liga distribution is actually set up that way right ? [SEP] Yeah , and look how well that works . [SEP] [PAD] [PAD] [PAD] [PAD] [PAD] [PAD] [PAD] [PAD] [PAD] [PAD] [PAD] [PAD] [PAD] [PAD] [PAD] [PAD]',\n",
              " \"[CLS] G ##lut ##ten free dog ? [SEP] We don ' t want the dog get ##tin autism . [SEP] [PAD] [PAD] [PAD] [PAD] [PAD] [PAD] [PAD] [PAD] [PAD] [PAD] [PAD] [PAD] [PAD] [PAD] [PAD] [PAD] [PAD] [PAD] [PAD] [PAD] [PAD] [PAD] [PAD] [PAD] [PAD] [PAD] [PAD] [PAD] [PAD] [PAD]\",\n",
              " \"[CLS] Sanford , FL knee - jerk ##s guns out of the hands of volunteers [SEP] You don ' t need to make your neighborhood safer , that ' s the police ' s job . [SEP] [PAD] [PAD] [PAD] [PAD] [PAD] [PAD] [PAD] [PAD] [PAD] [PAD] [PAD] [PAD] [PAD]\",\n",
              " \"[CLS] It is , but it ' s not really visible on those pictures . [SEP] It is not usually visible [SEP] [PAD] [PAD] [PAD] [PAD] [PAD] [PAD] [PAD] [PAD] [PAD] [PAD] [PAD] [PAD] [PAD] [PAD] [PAD] [PAD] [PAD] [PAD] [PAD] [PAD] [PAD] [PAD] [PAD] [PAD] [PAD] [PAD] [PAD] [PAD]\",\n",
              " '[CLS] Can ##t Find Z ##in ##c I ##ve just started up my game on PS ##4 and have already hit a w ##ier ##d s ##na ##g . I ##ve been looking around for [SEP] Have you looked at the game ##fa ##q ##s walk ##th ##rough ? [SEP]',\n",
              " '[CLS] Act ##ivision Support has added a bug reporting form for Black Op ##s 3 on their website . [SEP] Physical copies will be added to every console version sold ( inside the game case ) and when downloaded from steam the nearest printer in your house or street [SEP]',\n",
              " '[CLS] \" Why can \\' t we all be friends ? \" [SEP] Man , we \\' ve never seen anything like this before . [SEP] [PAD] [PAD] [PAD] [PAD] [PAD] [PAD] [PAD] [PAD] [PAD] [PAD] [PAD] [PAD] [PAD] [PAD] [PAD] [PAD] [PAD] [PAD] [PAD] [PAD] [PAD] [PAD] [PAD] [PAD]',\n",
              " \"[CLS] That ' s how justice works i ##rl too though . . . [SEP] think he forgot to put [SEP] [PAD] [PAD] [PAD] [PAD] [PAD] [PAD] [PAD] [PAD] [PAD] [PAD] [PAD] [PAD] [PAD] [PAD] [PAD] [PAD] [PAD] [PAD] [PAD] [PAD] [PAD] [PAD] [PAD] [PAD] [PAD] [PAD] [PAD] [PAD] [PAD]\",\n",
              " '[CLS] Rams ( and Chargers ) move to LA [SEP] Great , now we Europeans get two fewer early games [SEP] [PAD] [PAD] [PAD] [PAD] [PAD] [PAD] [PAD] [PAD] [PAD] [PAD] [PAD] [PAD] [PAD] [PAD] [PAD] [PAD] [PAD] [PAD] [PAD] [PAD] [PAD] [PAD] [PAD] [PAD] [PAD] [PAD] [PAD] [PAD] [PAD]',\n",
              " '[CLS] Mo ##ds = Gods [SEP] I do it for free . [SEP] [PAD] [PAD] [PAD] [PAD] [PAD] [PAD] [PAD] [PAD] [PAD] [PAD] [PAD] [PAD] [PAD] [PAD] [PAD] [PAD] [PAD] [PAD] [PAD] [PAD] [PAD] [PAD] [PAD] [PAD] [PAD] [PAD] [PAD] [PAD] [PAD] [PAD] [PAD] [PAD] [PAD] [PAD] [PAD] [PAD] [PAD]',\n",
              " \"[CLS] Rep ##eal the 1994 law granting law enforcement access to military surplus , put the superior officers involved on trial for war crimes ( they want to be soldiers , treat then like it ) [SEP] Its a damn shame that you ' re siding with the terrorists [SEP]\",\n",
              " \"[CLS] And then not know what to do with it . . . . it ' s hard the disc ##ard an achievement . [SEP] Just swallow it . . . . . [SEP] [PAD] [PAD] [PAD] [PAD] [PAD] [PAD] [PAD] [PAD] [PAD] [PAD] [PAD] [PAD] [PAD] [PAD] [PAD] [PAD]\",\n",
              " '[CLS] If anyone has learned from leak ##s ( from anything ) , a \" leak \" being partially true does not confirm everything that [SEP] P ##sh what are you talking about they guessed the color of the main character \\' s left shoe there ##fo ##r their [SEP]',\n",
              " '[CLS] Great game . Wide ##ly considered the best Ghost ##buster ##s game . [SEP] What , no love for the NE ##S game ? [SEP] [PAD] [PAD] [PAD] [PAD] [PAD] [PAD] [PAD] [PAD] [PAD] [PAD] [PAD] [PAD] [PAD] [PAD] [PAD] [PAD] [PAD] [PAD] [PAD] [PAD] [PAD] [PAD] [PAD] [PAD]',\n",
              " '[CLS] I guess we can go ahead and assume both troop leak ##s are leg ##it then . [SEP] The Ann ##ih ##ila ##tor ? [SEP] [PAD] [PAD] [PAD] [PAD] [PAD] [PAD] [PAD] [PAD] [PAD] [PAD] [PAD] [PAD] [PAD] [PAD] [PAD] [PAD] [PAD] [PAD] [PAD] [PAD] [PAD] [PAD] [PAD] [PAD]',\n",
              " \"[CLS] If No ##ct ##ua Made Heads ##ets . . . [SEP] stop hating on shit ##bro ##wn / vomit ##bro ##wn comb ##o if they weren ' t that colour they would be the best thing ever and no one else would sell fans no ##ct ##ua is [SEP]\",\n",
              " \"[CLS] None of them will . They aren ' t real . [SEP] They ' re real in my heart and mind ! [SEP] [PAD] [PAD] [PAD] [PAD] [PAD] [PAD] [PAD] [PAD] [PAD] [PAD] [PAD] [PAD] [PAD] [PAD] [PAD] [PAD] [PAD] [PAD] [PAD] [PAD] [PAD] [PAD] [PAD] [PAD] [PAD] [PAD]\",\n",
              " \"[CLS] Did you not notice the giant purple void gate that reaches across the whole lane ? Or the giant purple void circle on the ground that takes up half the lane ? Or the giant purple [SEP] Yeah but it ' s not clear in a team ##fight [SEP]\",\n",
              " '[CLS] the reaction to humans of new yo ##rk makes me think so . she has the respect of tons of women ( and men [SEP] If I have learned anything because you have a cold you will be dead by the end of the day or you are [SEP]',\n",
              " '[CLS] Back when i was a kid , i used to \" ha ##ck \" in P ##v ##P games . Does that mean I \" cheat today because [SEP] Fuck ##ing s ##cum you cheated in mine ##craft you are probably cheating in c ##s just kill yourself [SEP]',\n",
              " \"[CLS] So it ' s almost like you can make compromise ##s and still have a fulfilling life . [SEP] What kind of idiot would believe that load of horse shit ? [SEP] [PAD] [PAD] [PAD] [PAD] [PAD] [PAD] [PAD] [PAD] [PAD] [PAD] [PAD] [PAD] [PAD] [PAD] [PAD] [PAD] [PAD]\",\n",
              " '[CLS] T ##ick ##et ##master Class Action - - Order Process ##ing Fe ##es . Who ##pping $ 25 . 50 maximum re ##fu ##nd for the buyers . [SEP] Their too big to fail [SEP] [PAD] [PAD] [PAD] [PAD] [PAD] [PAD] [PAD] [PAD] [PAD] [PAD] [PAD] [PAD] [PAD] [PAD]',\n",
              " '[CLS] U ##gh . The left - wing is always looking for a new group to stereo ##type , label , and hate . What [SEP] You are lucky , the Left here in Europe love start fire at stores , cars with people inside , beating people on [SEP]',\n",
              " \"[CLS] We don ' t even have an end date . [SEP] Well whatever that date is , it ' s too early . [SEP] [PAD] [PAD] [PAD] [PAD] [PAD] [PAD] [PAD] [PAD] [PAD] [PAD] [PAD] [PAD] [PAD] [PAD] [PAD] [PAD] [PAD] [PAD] [PAD] [PAD] [PAD] [PAD] [PAD] [PAD] [PAD]\",\n",
              " '[CLS] What can I take advantage of with a powerful CPU ? Recently got a 47 ##90 ##k and wanted to know what I can run that usually struggles on a normal computer . [SEP] Mine ##craft above a silky smooth 4 f ##ps [SEP] [PAD] [PAD] [PAD] [PAD] [PAD]',\n",
              " \"[CLS] Good v ##id but you can ' t be racist against a religion , prejudice for sure [SEP] Cool , thanks for the helpful contribution [SEP] [PAD] [PAD] [PAD] [PAD] [PAD] [PAD] [PAD] [PAD] [PAD] [PAD] [PAD] [PAD] [PAD] [PAD] [PAD] [PAD] [PAD] [PAD] [PAD] [PAD] [PAD] [PAD] [PAD]\",\n",
              " '[CLS] I thought the point of red ##dit was to post the same tired shit day in day out . [SEP] This ! [SEP] [PAD] [PAD] [PAD] [PAD] [PAD] [PAD] [PAD] [PAD] [PAD] [PAD] [PAD] [PAD] [PAD] [PAD] [PAD] [PAD] [PAD] [PAD] [PAD] [PAD] [PAD] [PAD] [PAD] [PAD] [PAD] [PAD]',\n",
              " '[CLS] How to play Ana [SEP] could we please get a worse quality these lines are too well defined and sharp [SEP] [PAD] [PAD] [PAD] [PAD] [PAD] [PAD] [PAD] [PAD] [PAD] [PAD] [PAD] [PAD] [PAD] [PAD] [PAD] [PAD] [PAD] [PAD] [PAD] [PAD] [PAD] [PAD] [PAD] [PAD] [PAD] [PAD] [PAD] [PAD]',\n",
              " '[CLS] steel potato [SEP] Nothing wrong with spray ##s [SEP] [PAD] [PAD] [PAD] [PAD] [PAD] [PAD] [PAD] [PAD] [PAD] [PAD] [PAD] [PAD] [PAD] [PAD] [PAD] [PAD] [PAD] [PAD] [PAD] [PAD] [PAD] [PAD] [PAD] [PAD] [PAD] [PAD] [PAD] [PAD] [PAD] [PAD] [PAD] [PAD] [PAD] [PAD] [PAD] [PAD] [PAD] [PAD] [PAD] [PAD]',\n",
              " \"[CLS] Lo ##l did you just blame a victim of domestic violence for being a victim ? [SEP] He ' s a man , he can ' t be a victim [SEP] [PAD] [PAD] [PAD] [PAD] [PAD] [PAD] [PAD] [PAD] [PAD] [PAD] [PAD] [PAD] [PAD] [PAD] [PAD] [PAD] [PAD] [PAD]\",\n",
              " '[CLS] \" No Hara ##ss ##ment ? \" I grew up with a sister and watched her interactions with \" friends \" - can confirm this is BS . [SEP] Yep , that Z ##ami ##i de ##ba ##cle would just disappear because only men ha ##rass anybody [SEP] [PAD]',\n",
              " '[CLS] Miss ##es them all the time [SEP] Yeah , we should get rid of him . [SEP] [PAD] [PAD] [PAD] [PAD] [PAD] [PAD] [PAD] [PAD] [PAD] [PAD] [PAD] [PAD] [PAD] [PAD] [PAD] [PAD] [PAD] [PAD] [PAD] [PAD] [PAD] [PAD] [PAD] [PAD] [PAD] [PAD] [PAD] [PAD] [PAD] [PAD] [PAD] [PAD]',\n",
              " \"[CLS] Didn ' t he put his second foot down right before Butler knocked that out ? [SEP] He wasn ' t able to do a TD celebration before the ball came loose , so no TD [SEP] [PAD] [PAD] [PAD] [PAD] [PAD] [PAD] [PAD] [PAD] [PAD] [PAD] [PAD] [PAD]\",\n",
              " '[CLS] wouldn ##t 1865 ##0 batteries be better for battery life and higher am ##p limits [SEP] Yeah but how would you fit 18 , 000 batteries into a hand ##held device ? [SEP] [PAD] [PAD] [PAD] [PAD] [PAD] [PAD] [PAD] [PAD] [PAD] [PAD] [PAD] [PAD] [PAD] [PAD] [PAD] [PAD]',\n",
              " '[CLS] Sometimes red ##dit logic is a bit weird . . . Your comment did not aggregate to its parents at all , but why down ##vo ##te you so much [SEP] Because red ##dit is full of mi ##so ##gy ##nist ##s who are anti - woman . [SEP]',\n",
              " \"[CLS] S ##y ##F ##y could fuck up a great premise , and this . . . is not a great premise . [SEP] I du ##nn ##o , every time I see Superman in a movie or comic , I can ' t stop wondering what his grandfather [SEP]\",\n",
              " \"[CLS] What game do you think had the best animation ? I ' d say something but I have an extremely limited library consisting of valve games and ni ##nte ##ndo games . As well as one or two indie games and an u ##bis [SEP] Arm ##a 2 [SEP]\",\n",
              " \"[CLS] I have a Twin ##kie fl ##air , but we don ' t have a Ha ##ruk ##a fl ##air . I think that [SEP] The fact that you have a Twin ##kie fl ##air but we have no Ha ##ruk ##a fl ##air must be lo ##re [SEP]\",\n",
              " '[CLS] M ##F ##W a guy in D ##OT ##A ( video game ) tells me that I should be more class ##y , and [SEP] Obviously you need to start acting like a class ##y lady to app ##ease this fine gentleman that has S ##O much to [SEP]',\n",
              " '[CLS] Who was the best failed US presidential candidate ? [SEP] Carly Fi ##ori ##na , du ##hh ##h [SEP] [PAD] [PAD] [PAD] [PAD] [PAD] [PAD] [PAD] [PAD] [PAD] [PAD] [PAD] [PAD] [PAD] [PAD] [PAD] [PAD] [PAD] [PAD] [PAD] [PAD] [PAD] [PAD] [PAD] [PAD] [PAD] [PAD] [PAD] [PAD] [PAD] [PAD]',\n",
              " '[CLS] According to NASA data this January was the warm ##est January on record by a large margin while also claiming the title of most [SEP] But global warming ##s all made up . . . government just want our taxes for \" clean energy \" and then they [SEP]',\n",
              " \"[CLS] Because it was a good way to make a me ##me replacing captain with f ##ap ##tain . That ' s the only reason , no male is with ##holding any sex from [SEP] right because every male is always in the mood for sex all the time [SEP]\",\n",
              " \"[CLS] Hmm . . . [SEP] If you just tried heroin you would see how great it is , you know you ' re jealous of people who just shoot up all the time . [SEP] [PAD] [PAD] [PAD] [PAD] [PAD] [PAD] [PAD] [PAD] [PAD] [PAD] [PAD] [PAD] [PAD] [PAD]\",\n",
              " '[CLS] If you believe in an ##ar ##chy why does this have rules ? [SEP] I , too , am 14 . [SEP] [PAD] [PAD] [PAD] [PAD] [PAD] [PAD] [PAD] [PAD] [PAD] [PAD] [PAD] [PAD] [PAD] [PAD] [PAD] [PAD] [PAD] [PAD] [PAD] [PAD] [PAD] [PAD] [PAD] [PAD] [PAD] [PAD] [PAD]',\n",
              " \"[CLS] T ##ip ##s for farming gold . I ' m around 120 ##k gear score and I ' ve got a ton of stuff to au ##gment . Thing is , I keep running out of money , and Gold Quest [SEP] You could just go farm events [SEP]\",\n",
              " \"[CLS] I probably shouldn ' t have looked at the cast in the GT ##AV Manual A ##pp ( No S ##po ##iler ##s ) If you downloaded the app [SEP] [ Pack ##ie , Terry , Clay R ##occo , Johnny , and Ashley are in . ] [SEP]\",\n",
              " '[CLS] So this guy does 4 ##k ups ##cal ##ing videos and this was his response to me for saying \" di ##sa ##bling settings on console games does NO ##T help f [SEP] Trust him , im sure he studied 4 ##k ups ##cal ##ing at MIT . [SEP]',\n",
              " \"[CLS] Some states deserve no such equality . [SEP] Some states are 3 / 5 ' s of a state . [SEP] [PAD] [PAD] [PAD] [PAD] [PAD] [PAD] [PAD] [PAD] [PAD] [PAD] [PAD] [PAD] [PAD] [PAD] [PAD] [PAD] [PAD] [PAD] [PAD] [PAD] [PAD] [PAD] [PAD] [PAD] [PAD] [PAD] [PAD] [PAD]\",\n",
              " \"[CLS] Hillary already agreed to two more debates . Now she wants to manage Bernie ' s campaign in exchange for not re ##ne ##ging [SEP] A reality where this election is actually her coronation , and she ' s right ##ly pissed at Bernie for standing in the [SEP]\",\n",
              " '[CLS] Earth man sounds like a lo ##us ##y D - list superhero [SEP] Captain Wales : hero of sheep everywhere ! [SEP] [PAD] [PAD] [PAD] [PAD] [PAD] [PAD] [PAD] [PAD] [PAD] [PAD] [PAD] [PAD] [PAD] [PAD] [PAD] [PAD] [PAD] [PAD] [PAD] [PAD] [PAD] [PAD] [PAD] [PAD] [PAD] [PAD] [PAD]',\n",
              " '[CLS] Best job on the planet ( or at least , near the planet ) - Alexander G ##ers ##t posing for the camera on a space ##walk outside the IS ##S . photo E ##SA [SEP] Is that you O ##P ? [SEP] [PAD] [PAD] [PAD] [PAD] [PAD] [PAD]',\n",
              " '[CLS] Can I be the next to re ##post this ? [SEP] No , I wanna do it ! [SEP] [PAD] [PAD] [PAD] [PAD] [PAD] [PAD] [PAD] [PAD] [PAD] [PAD] [PAD] [PAD] [PAD] [PAD] [PAD] [PAD] [PAD] [PAD] [PAD] [PAD] [PAD] [PAD] [PAD] [PAD] [PAD] [PAD] [PAD] [PAD] [PAD] [PAD]',\n",
              " '[CLS] You mean the side where most of the action is happening ? [SEP] Where ##ver a photographer is his sentiments lie . [SEP] [PAD] [PAD] [PAD] [PAD] [PAD] [PAD] [PAD] [PAD] [PAD] [PAD] [PAD] [PAD] [PAD] [PAD] [PAD] [PAD] [PAD] [PAD] [PAD] [PAD] [PAD] [PAD] [PAD] [PAD] [PAD] [PAD]',\n",
              " \"[CLS] I still can ' t understand why / how they can dismiss that the solar var ##iability doesn ' t play a role in [SEP] It is way too complicated , you would not understand , only a c ##lim ##ato ##logist can say what the climate IS [SEP]\",\n",
              " '[CLS] Maybe when you stop being cancer to the world . . . [SEP] Wow , look how very very * very * sorry he is ! [SEP] [PAD] [PAD] [PAD] [PAD] [PAD] [PAD] [PAD] [PAD] [PAD] [PAD] [PAD] [PAD] [PAD] [PAD] [PAD] [PAD] [PAD] [PAD] [PAD] [PAD] [PAD] [PAD]',\n",
              " \"[CLS] I don ' t understand why pre ##bu ##il ##d makers do this , why not just throw in a good card and an ok i ##5 and call it a day ? [SEP] Because i ##7 is more future ##proof [SEP] [PAD] [PAD] [PAD] [PAD] [PAD] [PAD] [PAD]\",\n",
              " \"[CLS] As f ##rench , I never heard about anyone in my country asking France go ##v . actions in the middle east , but we have literally no ways to stop that [SEP] Yeah , France ' s multiple middle East interventions are definitely Israel ' s fault [SEP]\",\n",
              " \"[CLS] pro ##tos ##s match ##ups are so amazing [SEP] You didn ' t even need to include the [SEP] [PAD] [PAD] [PAD] [PAD] [PAD] [PAD] [PAD] [PAD] [PAD] [PAD] [PAD] [PAD] [PAD] [PAD] [PAD] [PAD] [PAD] [PAD] [PAD] [PAD] [PAD] [PAD] [PAD] [PAD] [PAD] [PAD] [PAD] [PAD] [PAD] [PAD]\",\n",
              " '[CLS] You are not wrong . [SEP] MA ##R ##KE ##R * s ##co ##ffs * [SEP] [PAD] [PAD] [PAD] [PAD] [PAD] [PAD] [PAD] [PAD] [PAD] [PAD] [PAD] [PAD] [PAD] [PAD] [PAD] [PAD] [PAD] [PAD] [PAD] [PAD] [PAD] [PAD] [PAD] [PAD] [PAD] [PAD] [PAD] [PAD] [PAD] [PAD] [PAD] [PAD] [PAD]',\n",
              " '[CLS] Oh , really ? [SEP] Ya ##rly [SEP] [PAD] [PAD] [PAD] [PAD] [PAD] [PAD] [PAD] [PAD] [PAD] [PAD] [PAD] [PAD] [PAD] [PAD] [PAD] [PAD] [PAD] [PAD] [PAD] [PAD] [PAD] [PAD] [PAD] [PAD] [PAD] [PAD] [PAD] [PAD] [PAD] [PAD] [PAD] [PAD] [PAD] [PAD] [PAD] [PAD] [PAD] [PAD] [PAD] [PAD] [PAD]',\n",
              " '[CLS] BMW ##s . I was never really a fan , now I own one and I understand . [SEP] You also spontaneous ##ly forgot what a turn signal is [SEP] [PAD] [PAD] [PAD] [PAD] [PAD] [PAD] [PAD] [PAD] [PAD] [PAD] [PAD] [PAD] [PAD] [PAD] [PAD] [PAD] [PAD] [PAD] [PAD]',\n",
              " '[CLS] Maybe Peter McCain made the Pa ##P [SEP] Peter McCain confirmed to be a blacksmith from the Old West ? [SEP] [PAD] [PAD] [PAD] [PAD] [PAD] [PAD] [PAD] [PAD] [PAD] [PAD] [PAD] [PAD] [PAD] [PAD] [PAD] [PAD] [PAD] [PAD] [PAD] [PAD] [PAD] [PAD] [PAD] [PAD] [PAD] [PAD] [PAD] [PAD]',\n",
              " \"[CLS] Why is everyone bust ##ing out the pitch ##fo ##rks ? The guy posted the p ##ic making fun of himself and got his ka ##rma . Now he ' ll pro ##bly get more [SEP] Being negative makes you cool , didn ' t you know ? [SEP]\",\n",
              " '[CLS] welcome to the mid ##day may ##hem , hop aboard the a ##po ##cal ##y ##pse a ##rk , 1 of each kind and mate with whoever because we are all screwed . Russian or Chinese boats [SEP] Speaking of ratio ##ns , you sound perfectly rational . [SEP]',\n",
              " '[CLS] I found a * lead * pipe , right ? Need ##ed lead for the lead p ##lating for power armor , not going into the glowing sea in my kn ##icker ##s [SEP] Clearly the radioactive waste ##land caused all the lead to decay into steel . [SEP]',\n",
              " \"[CLS] Usually the bigger group will build around you , but if you plan on solo ##ing widow to the top of ladder , obviously [SEP] Yeah for sure , because of the shit ##storm Riot caused this week I know that O ##W won ' t have any [SEP]\",\n",
              " \"[CLS] Art only exists within the con ##fines of AN ##Y ##ON ##E ' S opinion . But generic ##ally , referring to musicians as artists is a correct use of the word . [SEP] Sorry , I forgot my [SEP] [PAD] [PAD] [PAD] [PAD] [PAD] [PAD] [PAD] [PAD] [PAD]\",\n",
              " '[CLS] The comments . . . are troll ##s right ? R ##IG ##HT ? [SEP] You mean all the lovely Red ##dit ##ors checking in to give their progressive opinions ? [SEP] [PAD] [PAD] [PAD] [PAD] [PAD] [PAD] [PAD] [PAD] [PAD] [PAD] [PAD] [PAD] [PAD] [PAD] [PAD] [PAD] [PAD]',\n",
              " '[CLS] \" I \\' m the guy in the bar trying to fight you and steal your girlfriend . \" Seems like a really dick [SEP] But he \\' s such an exciting high level fighter , why would his personality and quality as a person differ from his [SEP]',\n",
              " \"[CLS] I like camping , i really do . There ' s one thing I can ' t handle about the el ##itis ##t camping [SEP] If you * * really * * want to enjoy * * real * * camping then you don ##t take a backpack [SEP]\",\n",
              " \"[CLS] obviously not , you look like you ' ve never worked a day in your life [SEP] Because you can totally tell if someone works based on a photo of them [SEP] [PAD] [PAD] [PAD] [PAD] [PAD] [PAD] [PAD] [PAD] [PAD] [PAD] [PAD] [PAD] [PAD] [PAD] [PAD] [PAD] [PAD]\",\n",
              " '[CLS] E ##V ##ery ##time I go to logo ##ut I am greeted by \" Mike \" E ##rro ##r . [SEP] Mass ##ive and U ##bis ##oft trying to co ##ax you into not putting the game down ! [SEP] [PAD] [PAD] [PAD] [PAD] [PAD] [PAD] [PAD] [PAD] [PAD]',\n",
              " '[CLS] Stop judging me ! [SEP] No , you ! [SEP] [PAD] [PAD] [PAD] [PAD] [PAD] [PAD] [PAD] [PAD] [PAD] [PAD] [PAD] [PAD] [PAD] [PAD] [PAD] [PAD] [PAD] [PAD] [PAD] [PAD] [PAD] [PAD] [PAD] [PAD] [PAD] [PAD] [PAD] [PAD] [PAD] [PAD] [PAD] [PAD] [PAD] [PAD] [PAD] [PAD] [PAD] [PAD] [PAD]',\n",
              " \"[CLS] Poles furious after Russia blame ##s them for starting W ##WI ##I ( from @ AP ) [SEP] IT ##T : Poland shouldn ' t be considered a victim state because they took land too ! [SEP] [PAD] [PAD] [PAD] [PAD] [PAD] [PAD] [PAD] [PAD] [PAD] [PAD] [PAD] [PAD]\",\n",
              " \"[CLS] In a way I kind of feel bad for Ken Ham ; Thinking is hard when you have the intelligence of a must ##ard seed . [SEP] He doesn ' t need intelligence , he has faith . [SEP] [PAD] [PAD] [PAD] [PAD] [PAD] [PAD] [PAD] [PAD] [PAD] [PAD]\",\n",
              " \"[CLS] Daily Disc ##uss ##ion T ##hr ##ead : 04 / 29 / 2016 Feel free to post things in the Daily Disc ##uss ##ion [SEP] No its ok please out your ass in my face when I ' m doing bent over rows I know there is a [SEP]\",\n",
              " '[CLS] Can you explain how it could be improved ? [SEP] Maybe the mon ##a Lisa made out of cables [SEP] [PAD] [PAD] [PAD] [PAD] [PAD] [PAD] [PAD] [PAD] [PAD] [PAD] [PAD] [PAD] [PAD] [PAD] [PAD] [PAD] [PAD] [PAD] [PAD] [PAD] [PAD] [PAD] [PAD] [PAD] [PAD] [PAD] [PAD] [PAD] [PAD]',\n",
              " \"[CLS] Iron , actually . [SEP] T ##IL iron isn ' t a metal . [SEP] [PAD] [PAD] [PAD] [PAD] [PAD] [PAD] [PAD] [PAD] [PAD] [PAD] [PAD] [PAD] [PAD] [PAD] [PAD] [PAD] [PAD] [PAD] [PAD] [PAD] [PAD] [PAD] [PAD] [PAD] [PAD] [PAD] [PAD] [PAD] [PAD] [PAD] [PAD] [PAD] [PAD] [PAD]\",\n",
              " \"[CLS] I honestly just wish that people like this would realize that their del ##usions are hurting the cause they think they ' re supporting . [SEP] They ' re too stupid , due to their tiny female brains . [SEP] [PAD] [PAD] [PAD] [PAD] [PAD] [PAD] [PAD] [PAD] [PAD]\",\n",
              " '[CLS] Force ##d by re ##gin ##ald to make a shit - ton of money [SEP] SK ##UM ##BA ##G R ##EG ##IN ##AL ##D [SEP] [PAD] [PAD] [PAD] [PAD] [PAD] [PAD] [PAD] [PAD] [PAD] [PAD] [PAD] [PAD] [PAD] [PAD] [PAD] [PAD] [PAD] [PAD] [PAD] [PAD] [PAD] [PAD] [PAD] [PAD]',\n",
              " '[CLS] Are you one of those guys who try to life ##ST ##EA ##L with 100 % hp ? : D [SEP] yeah , next time i let them attack me [SEP] [PAD] [PAD] [PAD] [PAD] [PAD] [PAD] [PAD] [PAD] [PAD] [PAD] [PAD] [PAD] [PAD] [PAD] [PAD] [PAD] [PAD] [PAD]',\n",
              " \"[CLS] but you have a super ##man fl ##air but i remember you always arguing d ##b ##z character in ve ##gata / go ##ku vs super ##man . i am so confused [SEP] People don ' t see the bias with a super ##man fl ##air ; ) [SEP]\",\n",
              " '[CLS] What does he mean by un ##fit ? I never heard anything about Trump del ##eting 30 , 000 emails or being under investigation of the FBI . Also [SEP] Now that sounds like a co ##gent well thought out argument that carefully considered n ##uan ##ced facts [SEP]',\n",
              " '[CLS] The A - ball Staten Island Yankees are having a contest to suggest a new team name . [SEP] Stan ##ke ##es [SEP] [PAD] [PAD] [PAD] [PAD] [PAD] [PAD] [PAD] [PAD] [PAD] [PAD] [PAD] [PAD] [PAD] [PAD] [PAD] [PAD] [PAD] [PAD] [PAD] [PAD] [PAD] [PAD] [PAD] [PAD] [PAD] [PAD]',\n",
              " \"[CLS] Nebraska v Northwestern - 10 / 24 , 11 : 00 AM , ESPN ##2 * * Date : * * 10 / 24 / 2015 * * Time : [SEP] 3rd and short passes have definitely worked for us , let ' s keep them up ! [SEP]\",\n",
              " '[CLS] So these aren ##t facts ? Just bias opinion ? [SEP] Everyone knows bias is a Latin word meaning \" pointing out fact ##ual information that \\' s in ##con ##ven ##ient for me or my position . \" [SEP] [PAD] [PAD] [PAD] [PAD] [PAD] [PAD] [PAD] [PAD] [PAD]',\n",
              " \"[CLS] well how else do you ins ##til ##l the idea that it ' s all good to be monitored all the time [SEP] Obviously capturing these kids for being un ##su ##per ##vise ##d will lead them to the conclusion that a surveillance state is a good thing [SEP]\",\n",
              " ...]"
            ]
          },
          "metadata": {
            "tags": []
          },
          "execution_count": 32
        }
      ]
    },
    {
      "cell_type": "markdown",
      "metadata": {
        "id": "EQaBrmxIZcUf"
      },
      "source": [
        "Clear session"
      ]
    },
    {
      "cell_type": "code",
      "metadata": {
        "id": "2CQgZnIzZeN-"
      },
      "source": [
        "tf.keras.backend.clear_session()"
      ],
      "execution_count": null,
      "outputs": []
    },
    {
      "cell_type": "markdown",
      "metadata": {
        "id": "SkclEEwBU3A1"
      },
      "source": [
        "### Clear session"
      ]
    },
    {
      "cell_type": "code",
      "metadata": {
        "id": "zpeEY6O5U3A2"
      },
      "source": [
        "tf.keras.backend.clear_session()"
      ],
      "execution_count": null,
      "outputs": []
    },
    {
      "cell_type": "markdown",
      "metadata": {
        "id": "98XHjYDWZwoE"
      },
      "source": [
        "## Training batch size 16, Evaluation batch size 64, Learning rate 3e-5, No. of Epochs 2, Weight decay 0.01, Trained on 101,077 examples, Validated on 101,077 examples, Tested on 808,618 examples, Hidden dropout prob 0.1"
      ]
    },
    {
      "cell_type": "code",
      "metadata": {
        "id": "cPPBWQ9SXXng"
      },
      "source": [
        "from transformers import TFBertForSequenceClassification, TFTrainer, TFTrainingArguments, BertConfig\n",
        "\n",
        "config = BertConfig.from_pretrained('bert-base-cased', hidden_dropout_prob=0.1, num_labels=2)"
      ],
      "execution_count": null,
      "outputs": []
    },
    {
      "cell_type": "markdown",
      "metadata": {
        "id": "Di3Jo1wtZwoS"
      },
      "source": [
        "Build TFTrainer"
      ]
    },
    {
      "cell_type": "code",
      "metadata": {
        "colab": {
          "base_uri": "https://localhost:8080/",
          "height": 154,
          "referenced_widgets": [
            "f3a128175864483bbcd6d22be6a66b01",
            "1fed546cca8d43bdbb4c0012522fb446",
            "3469a6d208ff419ba309cb4d0c7a346a",
            "83dacc136eb64db6a3714fa7da89be96",
            "b810195d963c401d94a2581dd7dbdb04",
            "d0e4d2fcfb63495f96b00f1d34e7f905",
            "7e86e443b0f34816a4af929bc6d00aac",
            "dee68243f68f4d9cb3e6eb9624a72cd4"
          ]
        },
        "id": "qkTcNxYuZwoS",
        "outputId": "4b34d8d6-6f51-43f8-c745-6701ba062f41"
      },
      "source": [
        "training_args = TFTrainingArguments(\n",
        "    output_dir='./results',          # output directory\n",
        "    do_train=True,\n",
        "    do_eval=True,\n",
        "    evaluation_strategy = \"epoch\",\n",
        "    num_train_epochs=2,              # total number of training epochs\n",
        "    per_device_train_batch_size=16,  # batch size per device during training\n",
        "    per_device_eval_batch_size=64,   # batch size for evaluation\n",
        "    learning_rate=3e-5,              # learning rate\n",
        "    warmup_steps=500,                # number of warmup steps for learning rate scheduler\n",
        "    weight_decay=0.01,               # strength of weight decay\n",
        ")\n",
        "\n",
        "with training_args.strategy.scope():\n",
        "    # Load TFBertForSequenceClassification, the pretrained BERT model with a single \n",
        "    # linear classification layer on top. \n",
        "    model = TFBertForSequenceClassification.from_pretrained(\n",
        "        \"bert-base-cased\", # Use the 12-layer BERT model, with cased vocab.\n",
        "        config = config,   \n",
        "    )\n",
        "\n",
        "trainer = TFTrainer(\n",
        "    model=model,                         # the instantiated 🤗 Transformers model to be trained\n",
        "    args=training_args,                  # training arguments, defined above\n",
        "    train_dataset=train_dataset,         # training dataset\n",
        "    eval_dataset=val_dataset,            # evaluation dataset\n",
        "    compute_metrics=compute_metrics     # function that computes metrics \n",
        ")"
      ],
      "execution_count": null,
      "outputs": [
        {
          "output_type": "display_data",
          "data": {
            "application/vnd.jupyter.widget-view+json": {
              "model_id": "f3a128175864483bbcd6d22be6a66b01",
              "version_minor": 0,
              "version_major": 2
            },
            "text/plain": [
              "HBox(children=(FloatProgress(value=0.0, description='Downloading', max=526681800.0, style=ProgressStyle(descri…"
            ]
          },
          "metadata": {
            "tags": []
          }
        },
        {
          "output_type": "stream",
          "text": [
            "\n"
          ],
          "name": "stdout"
        },
        {
          "output_type": "stream",
          "text": [
            "All model checkpoint layers were used when initializing TFBertForSequenceClassification.\n",
            "\n",
            "Some layers of TFBertForSequenceClassification were not initialized from the model checkpoint at bert-base-cased and are newly initialized: ['classifier']\n",
            "You should probably TRAIN this model on a down-stream task to be able to use it for predictions and inference.\n"
          ],
          "name": "stderr"
        }
      ]
    },
    {
      "cell_type": "markdown",
      "metadata": {
        "id": "5mhsiBEIZwoV"
      },
      "source": [
        "Train and Validate"
      ]
    },
    {
      "cell_type": "code",
      "metadata": {
        "id": "D73GwH14ZwoV"
      },
      "source": [
        "import transformers\n",
        "\n",
        "transformers.logging.set_verbosity_info()"
      ],
      "execution_count": null,
      "outputs": []
    },
    {
      "cell_type": "code",
      "metadata": {
        "colab": {
          "base_uri": "https://localhost:8080/"
        },
        "id": "JCWTrbO1ZwoV",
        "outputId": "3416bbbd-ee0c-4470-df6f-c5720e12b980"
      },
      "source": [
        "trainer.train()"
      ],
      "execution_count": null,
      "outputs": [
        {
          "output_type": "stream",
          "text": [
            "***** Running training *****\n",
            "  Num examples = 101077\n",
            "  Num Epochs = 2.0\n",
            "  Instantaneous batch size per device = 16\n",
            "  Total train batch size (w. parallel, distributed & accumulation) = 16\n",
            "  Gradient Accumulation steps = 1\n",
            "  Steps per epoch = 6318\n",
            "  Total optimization steps = 12636\n"
          ],
          "name": "stderr"
        },
        {
          "output_type": "stream",
          "text": [
            "WARNING:tensorflow:The parameters `output_attentions`, `output_hidden_states` and `use_cache` cannot be updated when calling a model.They have to be set to True/False in the config object (i.e.: `config=XConfig.from_pretrained('name', output_attentions=True)`).\n",
            "WARNING:tensorflow:AutoGraph could not transform <bound method Socket.send of <zmq.sugar.socket.Socket object at 0x7f9364865d70>> and will run it as-is.\n",
            "Please report this to the TensorFlow team. When filing the bug, set the verbosity to 10 (on Linux, `export AUTOGRAPH_VERBOSITY=10`) and attach the full output.\n",
            "Cause: module, class, method, function, traceback, frame, or code object was expected, got cython_function_or_method\n",
            "To silence this warning, decorate the function with @tf.autograph.experimental.do_not_convert\n",
            "WARNING: AutoGraph could not transform <bound method Socket.send of <zmq.sugar.socket.Socket object at 0x7f9364865d70>> and will run it as-is.\n",
            "Please report this to the TensorFlow team. When filing the bug, set the verbosity to 10 (on Linux, `export AUTOGRAPH_VERBOSITY=10`) and attach the full output.\n",
            "Cause: module, class, method, function, traceback, frame, or code object was expected, got cython_function_or_method\n",
            "To silence this warning, decorate the function with @tf.autograph.experimental.do_not_convert\n",
            "WARNING:tensorflow:AutoGraph could not transform <function wrap at 0x7f9380113c20> and will run it as-is.\n",
            "Cause: while/else statement not yet supported\n",
            "To silence this warning, decorate the function with @tf.autograph.experimental.do_not_convert\n",
            "WARNING: AutoGraph could not transform <function wrap at 0x7f9380113c20> and will run it as-is.\n",
            "Cause: while/else statement not yet supported\n",
            "To silence this warning, decorate the function with @tf.autograph.experimental.do_not_convert\n",
            "WARNING:tensorflow:The parameter `return_dict` cannot be set in graph mode and will always be set to `True`.\n",
            "WARNING:tensorflow:The parameters `output_attentions`, `output_hidden_states` and `use_cache` cannot be updated when calling a model.They have to be set to True/False in the config object (i.e.: `config=XConfig.from_pretrained('name', output_attentions=True)`).\n",
            "WARNING:tensorflow:The parameter `return_dict` cannot be set in graph mode and will always be set to `True`.\n"
          ],
          "name": "stdout"
        },
        {
          "output_type": "stream",
          "text": [
            "{'loss': 0.67973787, 'learning_rate': 3e-05, 'epoch': 0.07913896802785692, 'step': 500}\n",
            "Saving checkpoint for step 500 at ./results/checkpoint/ckpt-1\n",
            "{'loss': 0.69007206, 'learning_rate': 2.8764005e-05, 'epoch': 0.15827793605571383, 'step': 1000}\n",
            "Saving checkpoint for step 1000 at ./results/checkpoint/ckpt-2\n",
            "{'loss': 0.69356567, 'learning_rate': 2.7528014e-05, 'epoch': 0.23741690408357075, 'step': 1500}\n",
            "Saving checkpoint for step 1500 at ./results/checkpoint/ckpt-3\n",
            "{'loss': 0.6955756, 'learning_rate': 2.6292022e-05, 'epoch': 0.31655587211142766, 'step': 2000}\n",
            "Saving checkpoint for step 2000 at ./results/checkpoint/ckpt-4\n",
            "{'loss': 0.69658035, 'learning_rate': 2.5056028e-05, 'epoch': 0.3956948401392846, 'step': 2500}\n",
            "Saving checkpoint for step 2500 at ./results/checkpoint/ckpt-5\n",
            "{'loss': 0.6974441, 'learning_rate': 2.382004e-05, 'epoch': 0.4748338081671415, 'step': 3000}\n",
            "Saving checkpoint for step 3000 at ./results/checkpoint/ckpt-6\n",
            "{'loss': 0.69796246, 'learning_rate': 2.2584047e-05, 'epoch': 0.5539727761949984, 'step': 3500}\n",
            "Saving checkpoint for step 3500 at ./results/checkpoint/ckpt-7\n",
            "{'loss': 0.6980199, 'learning_rate': 2.1348053e-05, 'epoch': 0.6331117442228553, 'step': 4000}\n",
            "Saving checkpoint for step 4000 at ./results/checkpoint/ckpt-8\n",
            "{'loss': 0.6981971, 'learning_rate': 2.0112062e-05, 'epoch': 0.7122507122507122, 'step': 4500}\n",
            "Saving checkpoint for step 4500 at ./results/checkpoint/ckpt-9\n",
            "{'loss': 0.6984916, 'learning_rate': 1.8876071e-05, 'epoch': 0.7913896802785692, 'step': 5000}\n",
            "Saving checkpoint for step 5000 at ./results/checkpoint/ckpt-10\n",
            "{'loss': 0.69849414, 'learning_rate': 1.7640079e-05, 'epoch': 0.8705286483064261, 'step': 5500}\n",
            "Saving checkpoint for step 5500 at ./results/checkpoint/ckpt-11\n",
            "{'loss': 0.6985895, 'learning_rate': 1.6404087e-05, 'epoch': 0.949667616334283, 'step': 6000}\n",
            "Saving checkpoint for step 6000 at ./results/checkpoint/ckpt-12\n",
            "{'loss': 0.70043737, 'learning_rate': 1.5168095e-05, 'epoch': 1.02880658436214, 'step': 6500}\n",
            "Saving checkpoint for step 6500 at ./results/checkpoint/ckpt-13\n",
            "{'loss': 0.6999003, 'learning_rate': 1.3932102e-05, 'epoch': 1.1079455523899968, 'step': 7000}\n",
            "Saving checkpoint for step 7000 at ./results/checkpoint/ckpt-14\n",
            "{'loss': 0.7005781, 'learning_rate': 1.2696111e-05, 'epoch': 1.1870845204178537, 'step': 7500}\n",
            "Saving checkpoint for step 7500 at ./results/checkpoint/ckpt-15\n",
            "{'loss': 0.7002398, 'learning_rate': 1.1460118e-05, 'epoch': 1.2662234884457106, 'step': 8000}\n",
            "Saving checkpoint for step 8000 at ./results/checkpoint/ckpt-16\n",
            "{'loss': 0.7001693, 'learning_rate': 1.0224126e-05, 'epoch': 1.3453624564735676, 'step': 8500}\n",
            "Saving checkpoint for step 8500 at ./results/checkpoint/ckpt-17\n",
            "{'loss': 0.6997808, 'learning_rate': 8.988133e-06, 'epoch': 1.4245014245014245, 'step': 9000}\n",
            "Saving checkpoint for step 9000 at ./results/checkpoint/ckpt-18\n",
            "{'loss': 0.6993745, 'learning_rate': 7.752142e-06, 'epoch': 1.5036403925292814, 'step': 9500}\n",
            "Saving checkpoint for step 9500 at ./results/checkpoint/ckpt-19\n",
            "{'loss': 0.69929445, 'learning_rate': 6.51615e-06, 'epoch': 1.5827793605571383, 'step': 10000}\n",
            "Saving checkpoint for step 10000 at ./results/checkpoint/ckpt-20\n",
            "{'loss': 0.6993864, 'learning_rate': 5.280157e-06, 'epoch': 1.6619183285849952, 'step': 10500}\n",
            "Saving checkpoint for step 10500 at ./results/checkpoint/ckpt-21\n",
            "{'loss': 0.69920766, 'learning_rate': 4.0441664e-06, 'epoch': 1.7410572966128521, 'step': 11000}\n",
            "Saving checkpoint for step 11000 at ./results/checkpoint/ckpt-22\n",
            "{'loss': 0.69900686, 'learning_rate': 2.8081745e-06, 'epoch': 1.820196264640709, 'step': 11500}\n",
            "Saving checkpoint for step 11500 at ./results/checkpoint/ckpt-23\n",
            "{'loss': 0.6988698, 'learning_rate': 1.5721821e-06, 'epoch': 1.899335232668566, 'step': 12000}\n",
            "Saving checkpoint for step 12000 at ./results/checkpoint/ckpt-24\n",
            "{'loss': 0.69878834, 'learning_rate': 3.3618986e-07, 'epoch': 1.9784742006964229, 'step': 12500}\n",
            "Saving checkpoint for step 12500 at ./results/checkpoint/ckpt-25\n",
            "Training took: 0:20:56.797912\n"
          ],
          "name": "stderr"
        }
      ]
    },
    {
      "cell_type": "markdown",
      "metadata": {
        "id": "Dry6zvUQZwoW"
      },
      "source": [
        "Evaluate on test set"
      ]
    },
    {
      "cell_type": "code",
      "metadata": {
        "colab": {
          "base_uri": "https://localhost:8080/"
        },
        "id": "y-v5CKjcZwoW",
        "outputId": "58da9cfa-333c-494a-c77c-57a842b54d36"
      },
      "source": [
        "trainer.evaluate(test_dataset)"
      ],
      "execution_count": null,
      "outputs": [
        {
          "output_type": "stream",
          "text": [
            "***** Running Evaluation *****\n",
            "  Num examples in dataset = 808618\n",
            "  Num examples in used in evaluation = 808640\n",
            "  Batch size = 64\n"
          ],
          "name": "stderr"
        },
        {
          "output_type": "stream",
          "text": [
            "WARNING:tensorflow:The parameters `output_attentions`, `output_hidden_states` and `use_cache` cannot be updated when calling a model.They have to be set to True/False in the config object (i.e.: `config=XConfig.from_pretrained('name', output_attentions=True)`).\n",
            "WARNING:tensorflow:The parameter `return_dict` cannot be set in graph mode and will always be set to `True`.\n"
          ],
          "name": "stdout"
        },
        {
          "output_type": "stream",
          "text": [
            "{'eval_loss': 0.6934757741392956, 'eval_accuracy': 0.4997130985358132, 'epoch': 2.0, 'step': 12636}\n"
          ],
          "name": "stderr"
        },
        {
          "output_type": "execute_result",
          "data": {
            "text/plain": [
              "{'eval_accuracy': 0.4997130985358132, 'eval_loss': 0.6934757741392956}"
            ]
          },
          "metadata": {
            "tags": []
          },
          "execution_count": 29
        }
      ]
    },
    {
      "cell_type": "markdown",
      "metadata": {
        "id": "xeeoySQkZwoX"
      },
      "source": [
        "Clear session"
      ]
    },
    {
      "cell_type": "code",
      "metadata": {
        "id": "CzEV4tX4ZwoX"
      },
      "source": [
        "tf.keras.backend.clear_session()"
      ],
      "execution_count": null,
      "outputs": []
    },
    {
      "cell_type": "markdown",
      "metadata": {
        "id": "NDh6QHeoEyNl"
      },
      "source": [
        "## Training batch size 32, Evaluation batch size 64, Learning rate 5e-5, No. of Epochs 3, Weight decay 0, Trained on 202,154 examples, Validated on 101,077 examples, Tested on 707,541 examples, Hidden dropout prob 0.5"
      ]
    },
    {
      "cell_type": "code",
      "metadata": {
        "id": "wfYUKVVUVRYd"
      },
      "source": [
        "from transformers import TFBertForSequenceClassification, TFTrainer, TFTrainingArguments, BertConfig\n",
        "\n",
        "config = BertConfig.from_pretrained('bert-base-cased', hidden_dropout_prob=0.5, num_labels=2)"
      ],
      "execution_count": null,
      "outputs": []
    },
    {
      "cell_type": "markdown",
      "metadata": {
        "id": "v_NbgM_7FI2f"
      },
      "source": [
        "Build TFTrainer"
      ]
    },
    {
      "cell_type": "code",
      "metadata": {
        "colab": {
          "base_uri": "https://localhost:8080/",
          "height": 154,
          "referenced_widgets": [
            "d6b2ee78f5e24d99b11c754ffb93e46d",
            "c44ec05599cb4af686f1a68163924387",
            "5b0985ba277a40949e5adeaca58cbf96",
            "4faae676fb6e4a56b71e1c5af687cf1e",
            "4c8c8a9e80f1468f8b0919e0b5a25093",
            "de141d8ac8914471978201d6984f503d",
            "35181fcbc1f34bedad494bd1dc040547",
            "3eb6ab14fe764143bdb618334244d4c0"
          ]
        },
        "id": "0YV_yzcsFI2f",
        "outputId": "af96d30d-713f-4067-eb7a-1143638720fd"
      },
      "source": [
        "training_args = TFTrainingArguments(\n",
        "    output_dir='./results',          # output directory\n",
        "    do_train=True,\n",
        "    do_eval=True,\n",
        "    evaluation_strategy = \"epoch\",\n",
        "    num_train_epochs=3,              # total number of training epochs\n",
        "    per_device_train_batch_size=32,  # batch size per device during training\n",
        "    per_device_eval_batch_size=64,   # batch size for evaluation\n",
        "    learning_rate=5e-5,              # learning rate\n",
        "    warmup_steps=500,                # number of warmup steps for learning rate scheduler\n",
        "    weight_decay=0,               # strength of weight decay\n",
        ")\n",
        "\n",
        "with training_args.strategy.scope():\n",
        "    # Load TFBertForSequenceClassification, the pretrained BERT model with a single \n",
        "    # linear classification layer on top. \n",
        "    model = TFBertForSequenceClassification.from_pretrained(\n",
        "        \"bert-base-cased\", # Use the 12-layer BERT model, with cased vocab.\n",
        "        config = config,   \n",
        "    )\n",
        "\n",
        "trainer = TFTrainer(\n",
        "    model=model,                         # the instantiated 🤗 Transformers model to be trained\n",
        "    args=training_args,                  # training arguments, defined above\n",
        "    train_dataset=train_dataset,         # training dataset\n",
        "    eval_dataset=val_dataset,            # evaluation dataset\n",
        "    compute_metrics=compute_metrics     # function that computes metrics \n",
        ")"
      ],
      "execution_count": null,
      "outputs": [
        {
          "output_type": "display_data",
          "data": {
            "application/vnd.jupyter.widget-view+json": {
              "model_id": "d6b2ee78f5e24d99b11c754ffb93e46d",
              "version_minor": 0,
              "version_major": 2
            },
            "text/plain": [
              "HBox(children=(FloatProgress(value=0.0, description='Downloading', max=526681800.0, style=ProgressStyle(descri…"
            ]
          },
          "metadata": {
            "tags": []
          }
        },
        {
          "output_type": "stream",
          "text": [
            "\n"
          ],
          "name": "stdout"
        },
        {
          "output_type": "stream",
          "text": [
            "All model checkpoint layers were used when initializing TFBertForSequenceClassification.\n",
            "\n",
            "Some layers of TFBertForSequenceClassification were not initialized from the model checkpoint at bert-base-cased and are newly initialized: ['classifier']\n",
            "You should probably TRAIN this model on a down-stream task to be able to use it for predictions and inference.\n"
          ],
          "name": "stderr"
        }
      ]
    },
    {
      "cell_type": "markdown",
      "metadata": {
        "id": "v_4CmhM_FI2q"
      },
      "source": [
        "Train and Validate"
      ]
    },
    {
      "cell_type": "code",
      "metadata": {
        "id": "pVzm-dsdFI2r"
      },
      "source": [
        "import transformers\n",
        "\n",
        "transformers.logging.set_verbosity_info()"
      ],
      "execution_count": null,
      "outputs": []
    },
    {
      "cell_type": "code",
      "metadata": {
        "colab": {
          "base_uri": "https://localhost:8080/"
        },
        "id": "ead_D74JFI2r",
        "outputId": "ef67da48-4a49-4b20-bf6f-fe4ff71563b6"
      },
      "source": [
        "trainer.train()"
      ],
      "execution_count": null,
      "outputs": [
        {
          "output_type": "stream",
          "text": [
            "***** Running training *****\n",
            "  Num examples = 202154\n",
            "  Num Epochs = 3.0\n",
            "  Instantaneous batch size per device = 32\n",
            "  Total train batch size (w. parallel, distributed & accumulation) = 32\n",
            "  Gradient Accumulation steps = 1\n",
            "  Steps per epoch = 6318\n",
            "  Total optimization steps = 18954\n"
          ],
          "name": "stderr"
        },
        {
          "output_type": "stream",
          "text": [
            "WARNING:tensorflow:The parameters `output_attentions`, `output_hidden_states` and `use_cache` cannot be updated when calling a model.They have to be set to True/False in the config object (i.e.: `config=XConfig.from_pretrained('name', output_attentions=True)`).\n",
            "WARNING:tensorflow:AutoGraph could not transform <bound method Socket.send of <zmq.sugar.socket.Socket object at 0x7fd9f40fcd70>> and will run it as-is.\n",
            "Please report this to the TensorFlow team. When filing the bug, set the verbosity to 10 (on Linux, `export AUTOGRAPH_VERBOSITY=10`) and attach the full output.\n",
            "Cause: module, class, method, function, traceback, frame, or code object was expected, got cython_function_or_method\n",
            "To silence this warning, decorate the function with @tf.autograph.experimental.do_not_convert\n",
            "WARNING: AutoGraph could not transform <bound method Socket.send of <zmq.sugar.socket.Socket object at 0x7fd9f40fcd70>> and will run it as-is.\n",
            "Please report this to the TensorFlow team. When filing the bug, set the verbosity to 10 (on Linux, `export AUTOGRAPH_VERBOSITY=10`) and attach the full output.\n",
            "Cause: module, class, method, function, traceback, frame, or code object was expected, got cython_function_or_method\n",
            "To silence this warning, decorate the function with @tf.autograph.experimental.do_not_convert\n",
            "WARNING:tensorflow:AutoGraph could not transform <function wrap at 0x7fda0f9aac20> and will run it as-is.\n",
            "Cause: while/else statement not yet supported\n",
            "To silence this warning, decorate the function with @tf.autograph.experimental.do_not_convert\n",
            "WARNING: AutoGraph could not transform <function wrap at 0x7fda0f9aac20> and will run it as-is.\n",
            "Cause: while/else statement not yet supported\n",
            "To silence this warning, decorate the function with @tf.autograph.experimental.do_not_convert\n",
            "WARNING:tensorflow:The parameter `return_dict` cannot be set in graph mode and will always be set to `True`.\n",
            "WARNING:tensorflow:The parameters `output_attentions`, `output_hidden_states` and `use_cache` cannot be updated when calling a model.They have to be set to True/False in the config object (i.e.: `config=XConfig.from_pretrained('name', output_attentions=True)`).\n",
            "WARNING:tensorflow:The parameter `return_dict` cannot be set in graph mode and will always be set to `True`.\n"
          ],
          "name": "stdout"
        },
        {
          "output_type": "stream",
          "text": [
            "{'loss': 0.71059334, 'learning_rate': 5e-05, 'epoch': 0.07913896802785692, 'step': 500}\n",
            "Saving checkpoint for step 500 at ./results/checkpoint/ckpt-1\n",
            "{'loss': 0.71020424, 'learning_rate': 4.8645274e-05, 'epoch': 0.15827793605571383, 'step': 1000}\n",
            "Saving checkpoint for step 1000 at ./results/checkpoint/ckpt-2\n",
            "{'loss': 0.7055702, 'learning_rate': 4.729056e-05, 'epoch': 0.23741690408357075, 'step': 1500}\n",
            "Saving checkpoint for step 1500 at ./results/checkpoint/ckpt-3\n",
            "{'loss': 0.7002507, 'learning_rate': 4.5935834e-05, 'epoch': 0.31655587211142766, 'step': 2000}\n",
            "Saving checkpoint for step 2000 at ./results/checkpoint/ckpt-4\n",
            "{'loss': 0.6882027, 'learning_rate': 4.458112e-05, 'epoch': 0.3956948401392846, 'step': 2500}\n",
            "Saving checkpoint for step 2500 at ./results/checkpoint/ckpt-5\n",
            "{'loss': 0.6776838, 'learning_rate': 4.3226402e-05, 'epoch': 0.4748338081671415, 'step': 3000}\n",
            "Saving checkpoint for step 3000 at ./results/checkpoint/ckpt-6\n",
            "{'loss': 0.6683379, 'learning_rate': 4.187168e-05, 'epoch': 0.5539727761949984, 'step': 3500}\n",
            "Saving checkpoint for step 3500 at ./results/checkpoint/ckpt-7\n",
            "{'loss': 0.6595504, 'learning_rate': 4.051696e-05, 'epoch': 0.6331117442228553, 'step': 4000}\n",
            "Saving checkpoint for step 4000 at ./results/checkpoint/ckpt-8\n",
            "{'loss': 0.6531178, 'learning_rate': 3.9162238e-05, 'epoch': 0.7122507122507122, 'step': 4500}\n",
            "Saving checkpoint for step 4500 at ./results/checkpoint/ckpt-9\n",
            "{'loss': 0.64710164, 'learning_rate': 3.780752e-05, 'epoch': 0.7913896802785692, 'step': 5000}\n",
            "Saving checkpoint for step 5000 at ./results/checkpoint/ckpt-10\n",
            "{'loss': 0.64247423, 'learning_rate': 3.64528e-05, 'epoch': 0.8705286483064261, 'step': 5500}\n",
            "Saving checkpoint for step 5500 at ./results/checkpoint/ckpt-11\n",
            "{'loss': 0.63829947, 'learning_rate': 3.509808e-05, 'epoch': 0.949667616334283, 'step': 6000}\n",
            "Saving checkpoint for step 6000 at ./results/checkpoint/ckpt-12\n",
            "{'loss': 0.5979382, 'learning_rate': 3.3743363e-05, 'epoch': 1.02880658436214, 'step': 6500}\n",
            "Saving checkpoint for step 6500 at ./results/checkpoint/ckpt-13\n",
            "{'loss': 0.58924687, 'learning_rate': 3.238864e-05, 'epoch': 1.1079455523899968, 'step': 7000}\n",
            "Saving checkpoint for step 7000 at ./results/checkpoint/ckpt-14\n",
            "{'loss': 0.58556926, 'learning_rate': 3.1033924e-05, 'epoch': 1.1870845204178537, 'step': 7500}\n",
            "Saving checkpoint for step 7500 at ./results/checkpoint/ckpt-15\n",
            "{'loss': 0.5836669, 'learning_rate': 2.9679202e-05, 'epoch': 1.2662234884457106, 'step': 8000}\n",
            "Saving checkpoint for step 8000 at ./results/checkpoint/ckpt-16\n",
            "{'loss': 0.5825701, 'learning_rate': 2.832448e-05, 'epoch': 1.3453624564735676, 'step': 8500}\n",
            "Saving checkpoint for step 8500 at ./results/checkpoint/ckpt-17\n",
            "{'loss': 0.5810671, 'learning_rate': 2.6969758e-05, 'epoch': 1.4245014245014245, 'step': 9000}\n",
            "Saving checkpoint for step 9000 at ./results/checkpoint/ckpt-18\n",
            "{'loss': 0.5797702, 'learning_rate': 2.5615042e-05, 'epoch': 1.5036403925292814, 'step': 9500}\n",
            "Saving checkpoint for step 9500 at ./results/checkpoint/ckpt-19\n",
            "{'loss': 0.5786337, 'learning_rate': 2.4260324e-05, 'epoch': 1.5827793605571383, 'step': 10000}\n",
            "Saving checkpoint for step 10000 at ./results/checkpoint/ckpt-20\n",
            "{'loss': 0.5778562, 'learning_rate': 2.29056e-05, 'epoch': 1.6619183285849952, 'step': 10500}\n",
            "Saving checkpoint for step 10500 at ./results/checkpoint/ckpt-21\n",
            "{'loss': 0.5773695, 'learning_rate': 2.155088e-05, 'epoch': 1.7410572966128521, 'step': 11000}\n",
            "Saving checkpoint for step 11000 at ./results/checkpoint/ckpt-22\n",
            "{'loss': 0.57598007, 'learning_rate': 2.0196163e-05, 'epoch': 1.820196264640709, 'step': 11500}\n",
            "Saving checkpoint for step 11500 at ./results/checkpoint/ckpt-23\n",
            "{'loss': 0.5750537, 'learning_rate': 1.8841441e-05, 'epoch': 1.899335232668566, 'step': 12000}\n",
            "Saving checkpoint for step 12000 at ./results/checkpoint/ckpt-24\n",
            "{'loss': 0.5740626, 'learning_rate': 1.7486722e-05, 'epoch': 1.9784742006964229, 'step': 12500}\n",
            "Saving checkpoint for step 12500 at ./results/checkpoint/ckpt-25\n",
            "{'loss': 0.5649312, 'learning_rate': 1.6132002e-05, 'epoch': 2.05761316872428, 'step': 13000}\n",
            "Saving checkpoint for step 13000 at ./results/checkpoint/ckpt-26\n",
            "{'loss': 0.56289566, 'learning_rate': 1.4777284e-05, 'epoch': 2.1367521367521367, 'step': 13500}\n",
            "Saving checkpoint for step 13500 at ./results/checkpoint/ckpt-27\n",
            "{'loss': 0.5657695, 'learning_rate': 1.3422563e-05, 'epoch': 2.2158911047799936, 'step': 14000}\n",
            "Saving checkpoint for step 14000 at ./results/checkpoint/ckpt-28\n",
            "{'loss': 0.5651179, 'learning_rate': 1.2067845e-05, 'epoch': 2.2950300728078505, 'step': 14500}\n",
            "Saving checkpoint for step 14500 at ./results/checkpoint/ckpt-29\n",
            "{'loss': 0.5627734, 'learning_rate': 1.0713124e-05, 'epoch': 2.3741690408357075, 'step': 15000}\n",
            "Saving checkpoint for step 15000 at ./results/checkpoint/ckpt-30\n",
            "{'loss': 0.56171113, 'learning_rate': 9.358406e-06, 'epoch': 2.4533080088635644, 'step': 15500}\n",
            "Saving checkpoint for step 15500 at ./results/checkpoint/ckpt-31\n",
            "{'loss': 0.5613543, 'learning_rate': 8.003685e-06, 'epoch': 2.5324469768914213, 'step': 16000}\n",
            "Saving checkpoint for step 16000 at ./results/checkpoint/ckpt-32\n",
            "{'loss': 0.56087434, 'learning_rate': 6.6489633e-06, 'epoch': 2.611585944919278, 'step': 16500}\n",
            "Saving checkpoint for step 16500 at ./results/checkpoint/ckpt-33\n",
            "{'loss': 0.55969167, 'learning_rate': 5.2942455e-06, 'epoch': 2.690724912947135, 'step': 17000}\n",
            "Saving checkpoint for step 17000 at ./results/checkpoint/ckpt-34\n",
            "{'loss': 0.558882, 'learning_rate': 3.939524e-06, 'epoch': 2.769863880974992, 'step': 17500}\n",
            "Saving checkpoint for step 17500 at ./results/checkpoint/ckpt-35\n",
            "{'loss': 0.5580441, 'learning_rate': 2.5848058e-06, 'epoch': 2.849002849002849, 'step': 18000}\n",
            "Saving checkpoint for step 18000 at ./results/checkpoint/ckpt-36\n",
            "{'loss': 0.5575341, 'learning_rate': 1.2300849e-06, 'epoch': 2.928141817030706, 'step': 18500}\n",
            "Saving checkpoint for step 18500 at ./results/checkpoint/ckpt-37\n",
            "Training took: 0:27:00.382104\n"
          ],
          "name": "stderr"
        }
      ]
    },
    {
      "cell_type": "markdown",
      "metadata": {
        "id": "LH6rwuPkFI2r"
      },
      "source": [
        "Evaluate on test set"
      ]
    },
    {
      "cell_type": "code",
      "metadata": {
        "colab": {
          "base_uri": "https://localhost:8080/"
        },
        "id": "FywuACN7FI2s",
        "outputId": "23fb75cf-f92b-4635-ef03-0636019a557a"
      },
      "source": [
        "trainer.evaluate(test_dataset)"
      ],
      "execution_count": null,
      "outputs": [
        {
          "output_type": "stream",
          "text": [
            "***** Running Evaluation *****\n",
            "  Num examples in dataset = 707541\n",
            "  Num examples in used in evaluation = 707584\n",
            "  Batch size = 64\n"
          ],
          "name": "stderr"
        },
        {
          "output_type": "stream",
          "text": [
            "WARNING:tensorflow:The parameters `output_attentions`, `output_hidden_states` and `use_cache` cannot be updated when calling a model.They have to be set to True/False in the config object (i.e.: `config=XConfig.from_pretrained('name', output_attentions=True)`).\n",
            "WARNING:tensorflow:The parameter `return_dict` cannot be set in graph mode and will always be set to `True`.\n"
          ],
          "name": "stdout"
        },
        {
          "output_type": "stream",
          "text": [
            "{'eval_loss': 0.6010955059752623, 'eval_accuracy': 0.7261470016280752, 'epoch': 3.0, 'step': 18954}\n"
          ],
          "name": "stderr"
        },
        {
          "output_type": "execute_result",
          "data": {
            "text/plain": [
              "{'eval_accuracy': 0.7261470016280752, 'eval_loss': 0.6010955059752623}"
            ]
          },
          "metadata": {
            "tags": []
          },
          "execution_count": 25
        }
      ]
    },
    {
      "cell_type": "markdown",
      "metadata": {
        "id": "F5RzeIDVFI2s"
      },
      "source": [
        "Clear session"
      ]
    },
    {
      "cell_type": "code",
      "metadata": {
        "id": "QpE0GZqMFI2s"
      },
      "source": [
        "tf.keras.backend.clear_session()"
      ],
      "execution_count": null,
      "outputs": []
    },
    {
      "cell_type": "code",
      "metadata": {
        "id": "aKklx4cVE4qs"
      },
      "source": [
        ""
      ],
      "execution_count": null,
      "outputs": []
    },
    {
      "cell_type": "markdown",
      "metadata": {
        "id": "uaMqKQHYEmcP"
      },
      "source": [
        "## Training batch size 32, Evaluation batch size 64, Learning rate 5e-5, No. of Epochs 3, Weight decay 0.01, Trained on 202,154 examples, Validated on 101,077 examples, Tested on 707,541 examples, Hidden dropout prob 0.6"
      ]
    },
    {
      "cell_type": "code",
      "metadata": {
        "id": "apVhOGuJVUvO"
      },
      "source": [
        "from transformers import TFBertForSequenceClassification, TFTrainer, TFTrainingArguments, BertConfig\n",
        "\n",
        "config = BertConfig.from_pretrained('bert-base-cased', hidden_dropout_prob=0.6, num_labels=2)"
      ],
      "execution_count": null,
      "outputs": []
    },
    {
      "cell_type": "markdown",
      "metadata": {
        "id": "mzqzcFBhEmcP"
      },
      "source": [
        "Build TFTrainer"
      ]
    },
    {
      "cell_type": "code",
      "metadata": {
        "colab": {
          "base_uri": "https://localhost:8080/",
          "height": 154,
          "referenced_widgets": [
            "7165d5fc6793474293040681501d73ec",
            "76aea2996f5a4d8e928ec86803fa6ce9",
            "4938bd1727004008a00c9e7e7fbab357",
            "ffd7774eb76a42fd9cb72eaaead766d2",
            "113b019714294b13ab97b9dce2bfe55c",
            "b98edac276884727bbfa68cdaf55b3a9",
            "d9e13037bbc94129b200f17ea07a93a8",
            "84e237193367462ab0194bd43e0cf58c"
          ]
        },
        "id": "JSK1X5AnEmcQ",
        "outputId": "8107dde8-3475-4a3d-8703-80896327c5f2"
      },
      "source": [
        "training_args = TFTrainingArguments(\n",
        "    output_dir='./results',          # output directory\n",
        "    do_train=True,\n",
        "    do_eval=True,\n",
        "    evaluation_strategy = \"epoch\",\n",
        "    num_train_epochs=3,              # total number of training epochs\n",
        "    per_device_train_batch_size=32,  # batch size per device during training\n",
        "    per_device_eval_batch_size=64,   # batch size for evaluation\n",
        "    learning_rate=5e-5,              # learning rate\n",
        "    warmup_steps=500,                # number of warmup steps for learning rate scheduler\n",
        "    weight_decay=0.01,               # strength of weight decay\n",
        ")\n",
        "\n",
        "with training_args.strategy.scope():\n",
        "    # Load TFBertForSequenceClassification, the pretrained BERT model with a single \n",
        "    # linear classification layer on top. \n",
        "    model = TFBertForSequenceClassification.from_pretrained(\n",
        "        \"bert-base-cased\", # Use the 12-layer BERT model, with cased vocab.\n",
        "        config = config,   \n",
        "    )\n",
        "\n",
        "trainer = TFTrainer(\n",
        "    model=model,                         # the instantiated 🤗 Transformers model to be trained\n",
        "    args=training_args,                  # training arguments, defined above\n",
        "    train_dataset=train_dataset,         # training dataset\n",
        "    eval_dataset=val_dataset,            # evaluation dataset\n",
        "    compute_metrics=compute_metrics     # function that computes metrics \n",
        ")"
      ],
      "execution_count": null,
      "outputs": [
        {
          "output_type": "display_data",
          "data": {
            "application/vnd.jupyter.widget-view+json": {
              "model_id": "7165d5fc6793474293040681501d73ec",
              "version_minor": 0,
              "version_major": 2
            },
            "text/plain": [
              "HBox(children=(FloatProgress(value=0.0, description='Downloading', max=526681800.0, style=ProgressStyle(descri…"
            ]
          },
          "metadata": {
            "tags": []
          }
        },
        {
          "output_type": "stream",
          "text": [
            "\n"
          ],
          "name": "stdout"
        },
        {
          "output_type": "stream",
          "text": [
            "All model checkpoint layers were used when initializing TFBertForSequenceClassification.\n",
            "\n",
            "Some layers of TFBertForSequenceClassification were not initialized from the model checkpoint at bert-base-cased and are newly initialized: ['classifier']\n",
            "You should probably TRAIN this model on a down-stream task to be able to use it for predictions and inference.\n"
          ],
          "name": "stderr"
        }
      ]
    },
    {
      "cell_type": "markdown",
      "metadata": {
        "id": "An7ZH9m4EmcR"
      },
      "source": [
        "Train and Validate"
      ]
    },
    {
      "cell_type": "code",
      "metadata": {
        "id": "6P-mlw2tEmcR"
      },
      "source": [
        "import transformers\n",
        "\n",
        "transformers.logging.set_verbosity_info()"
      ],
      "execution_count": null,
      "outputs": []
    },
    {
      "cell_type": "code",
      "metadata": {
        "colab": {
          "base_uri": "https://localhost:8080/"
        },
        "id": "Z0EPql9mEmcS",
        "outputId": "ee60bda1-a13c-4258-8b15-2b3ded0a5277"
      },
      "source": [
        "trainer.train()"
      ],
      "execution_count": null,
      "outputs": [
        {
          "output_type": "stream",
          "text": [
            "***** Running training *****\n",
            "  Num examples = 202154\n",
            "  Num Epochs = 3.0\n",
            "  Instantaneous batch size per device = 32\n",
            "  Total train batch size (w. parallel, distributed & accumulation) = 32\n",
            "  Gradient Accumulation steps = 1\n",
            "  Steps per epoch = 6318\n",
            "  Total optimization steps = 18954\n"
          ],
          "name": "stderr"
        },
        {
          "output_type": "stream",
          "text": [
            "WARNING:tensorflow:The parameters `output_attentions`, `output_hidden_states` and `use_cache` cannot be updated when calling a model.They have to be set to True/False in the config object (i.e.: `config=XConfig.from_pretrained('name', output_attentions=True)`).\n",
            "WARNING:tensorflow:AutoGraph could not transform <bound method Socket.send of <zmq.sugar.socket.Socket object at 0x7f99cd179d70>> and will run it as-is.\n",
            "Please report this to the TensorFlow team. When filing the bug, set the verbosity to 10 (on Linux, `export AUTOGRAPH_VERBOSITY=10`) and attach the full output.\n",
            "Cause: module, class, method, function, traceback, frame, or code object was expected, got cython_function_or_method\n",
            "To silence this warning, decorate the function with @tf.autograph.experimental.do_not_convert\n",
            "WARNING: AutoGraph could not transform <bound method Socket.send of <zmq.sugar.socket.Socket object at 0x7f99cd179d70>> and will run it as-is.\n",
            "Please report this to the TensorFlow team. When filing the bug, set the verbosity to 10 (on Linux, `export AUTOGRAPH_VERBOSITY=10`) and attach the full output.\n",
            "Cause: module, class, method, function, traceback, frame, or code object was expected, got cython_function_or_method\n",
            "To silence this warning, decorate the function with @tf.autograph.experimental.do_not_convert\n",
            "WARNING:tensorflow:AutoGraph could not transform <function wrap at 0x7f99e8a27c20> and will run it as-is.\n",
            "Cause: while/else statement not yet supported\n",
            "To silence this warning, decorate the function with @tf.autograph.experimental.do_not_convert\n",
            "WARNING: AutoGraph could not transform <function wrap at 0x7f99e8a27c20> and will run it as-is.\n",
            "Cause: while/else statement not yet supported\n",
            "To silence this warning, decorate the function with @tf.autograph.experimental.do_not_convert\n",
            "WARNING:tensorflow:The parameter `return_dict` cannot be set in graph mode and will always be set to `True`.\n",
            "WARNING:tensorflow:The parameters `output_attentions`, `output_hidden_states` and `use_cache` cannot be updated when calling a model.They have to be set to True/False in the config object (i.e.: `config=XConfig.from_pretrained('name', output_attentions=True)`).\n",
            "WARNING:tensorflow:The parameter `return_dict` cannot be set in graph mode and will always be set to `True`.\n"
          ],
          "name": "stdout"
        },
        {
          "output_type": "stream",
          "text": [
            "{'loss': 0.7150724, 'learning_rate': 5e-05, 'epoch': 0.07913896802785692, 'step': 500}\n",
            "Saving checkpoint for step 500 at ./results/checkpoint/ckpt-1\n",
            "{'loss': 0.71227187, 'learning_rate': 4.8645274e-05, 'epoch': 0.15827793605571383, 'step': 1000}\n",
            "Saving checkpoint for step 1000 at ./results/checkpoint/ckpt-2\n",
            "{'loss': 0.7105165, 'learning_rate': 4.729056e-05, 'epoch': 0.23741690408357075, 'step': 1500}\n",
            "Saving checkpoint for step 1500 at ./results/checkpoint/ckpt-3\n",
            "{'loss': 0.7089663, 'learning_rate': 4.5935834e-05, 'epoch': 0.31655587211142766, 'step': 2000}\n",
            "Saving checkpoint for step 2000 at ./results/checkpoint/ckpt-4\n",
            "{'loss': 0.70774055, 'learning_rate': 4.458112e-05, 'epoch': 0.3956948401392846, 'step': 2500}\n",
            "Saving checkpoint for step 2500 at ./results/checkpoint/ckpt-5\n",
            "{'loss': 0.70652163, 'learning_rate': 4.3226402e-05, 'epoch': 0.4748338081671415, 'step': 3000}\n",
            "Saving checkpoint for step 3000 at ./results/checkpoint/ckpt-6\n",
            "{'loss': 0.7059105, 'learning_rate': 4.187168e-05, 'epoch': 0.5539727761949984, 'step': 3500}\n",
            "Saving checkpoint for step 3500 at ./results/checkpoint/ckpt-7\n",
            "{'loss': 0.7053489, 'learning_rate': 4.051696e-05, 'epoch': 0.6331117442228553, 'step': 4000}\n",
            "Saving checkpoint for step 4000 at ./results/checkpoint/ckpt-8\n",
            "{'loss': 0.7046667, 'learning_rate': 3.9162238e-05, 'epoch': 0.7122507122507122, 'step': 4500}\n",
            "Saving checkpoint for step 4500 at ./results/checkpoint/ckpt-9\n",
            "{'loss': 0.70422095, 'learning_rate': 3.780752e-05, 'epoch': 0.7913896802785692, 'step': 5000}\n",
            "Saving checkpoint for step 5000 at ./results/checkpoint/ckpt-10\n",
            "{'loss': 0.7036351, 'learning_rate': 3.64528e-05, 'epoch': 0.8705286483064261, 'step': 5500}\n",
            "Saving checkpoint for step 5500 at ./results/checkpoint/ckpt-11\n",
            "{'loss': 0.703123, 'learning_rate': 3.509808e-05, 'epoch': 0.949667616334283, 'step': 6000}\n",
            "Saving checkpoint for step 6000 at ./results/checkpoint/ckpt-12\n",
            "{'loss': 0.6982232, 'learning_rate': 3.3743363e-05, 'epoch': 1.02880658436214, 'step': 6500}\n",
            "Saving checkpoint for step 6500 at ./results/checkpoint/ckpt-13\n",
            "{'loss': 0.69711006, 'learning_rate': 3.238864e-05, 'epoch': 1.1079455523899968, 'step': 7000}\n",
            "Saving checkpoint for step 7000 at ./results/checkpoint/ckpt-14\n",
            "{'loss': 0.69678575, 'learning_rate': 3.1033924e-05, 'epoch': 1.1870845204178537, 'step': 7500}\n",
            "Saving checkpoint for step 7500 at ./results/checkpoint/ckpt-15\n",
            "{'loss': 0.69670135, 'learning_rate': 2.9679202e-05, 'epoch': 1.2662234884457106, 'step': 8000}\n",
            "Saving checkpoint for step 8000 at ./results/checkpoint/ckpt-16\n",
            "{'loss': 0.6965849, 'learning_rate': 2.832448e-05, 'epoch': 1.3453624564735676, 'step': 8500}\n",
            "Saving checkpoint for step 8500 at ./results/checkpoint/ckpt-17\n",
            "{'loss': 0.69642144, 'learning_rate': 2.6969758e-05, 'epoch': 1.4245014245014245, 'step': 9000}\n",
            "Saving checkpoint for step 9000 at ./results/checkpoint/ckpt-18\n",
            "{'loss': 0.6964894, 'learning_rate': 2.5615042e-05, 'epoch': 1.5036403925292814, 'step': 9500}\n",
            "Saving checkpoint for step 9500 at ./results/checkpoint/ckpt-19\n",
            "{'loss': 0.6964452, 'learning_rate': 2.4260324e-05, 'epoch': 1.5827793605571383, 'step': 10000}\n",
            "Saving checkpoint for step 10000 at ./results/checkpoint/ckpt-20\n",
            "{'loss': 0.69629294, 'learning_rate': 2.29056e-05, 'epoch': 1.6619183285849952, 'step': 10500}\n",
            "Saving checkpoint for step 10500 at ./results/checkpoint/ckpt-21\n",
            "{'loss': 0.6963932, 'learning_rate': 2.155088e-05, 'epoch': 1.7410572966128521, 'step': 11000}\n",
            "Saving checkpoint for step 11000 at ./results/checkpoint/ckpt-22\n",
            "{'loss': 0.6962761, 'learning_rate': 2.0196163e-05, 'epoch': 1.820196264640709, 'step': 11500}\n",
            "Saving checkpoint for step 11500 at ./results/checkpoint/ckpt-23\n",
            "{'loss': 0.6961792, 'learning_rate': 1.8841441e-05, 'epoch': 1.899335232668566, 'step': 12000}\n",
            "Saving checkpoint for step 12000 at ./results/checkpoint/ckpt-24\n",
            "{'loss': 0.6960893, 'learning_rate': 1.7486722e-05, 'epoch': 1.9784742006964229, 'step': 12500}\n",
            "Saving checkpoint for step 12500 at ./results/checkpoint/ckpt-25\n",
            "{'loss': 0.69487965, 'learning_rate': 1.6132002e-05, 'epoch': 2.05761316872428, 'step': 13000}\n",
            "Saving checkpoint for step 13000 at ./results/checkpoint/ckpt-26\n",
            "{'loss': 0.6948432, 'learning_rate': 1.4777284e-05, 'epoch': 2.1367521367521367, 'step': 13500}\n",
            "Saving checkpoint for step 13500 at ./results/checkpoint/ckpt-27\n",
            "{'loss': 0.69458646, 'learning_rate': 1.3422563e-05, 'epoch': 2.2158911047799936, 'step': 14000}\n",
            "Saving checkpoint for step 14000 at ./results/checkpoint/ckpt-28\n",
            "{'loss': 0.6946055, 'learning_rate': 1.2067845e-05, 'epoch': 2.2950300728078505, 'step': 14500}\n",
            "Saving checkpoint for step 14500 at ./results/checkpoint/ckpt-29\n",
            "{'loss': 0.69456977, 'learning_rate': 1.0713124e-05, 'epoch': 2.3741690408357075, 'step': 15000}\n",
            "Saving checkpoint for step 15000 at ./results/checkpoint/ckpt-30\n",
            "{'loss': 0.69458586, 'learning_rate': 9.358406e-06, 'epoch': 2.4533080088635644, 'step': 15500}\n",
            "Saving checkpoint for step 15500 at ./results/checkpoint/ckpt-31\n",
            "{'loss': 0.69456214, 'learning_rate': 8.003685e-06, 'epoch': 2.5324469768914213, 'step': 16000}\n",
            "Saving checkpoint for step 16000 at ./results/checkpoint/ckpt-32\n",
            "{'loss': 0.69455224, 'learning_rate': 6.6489633e-06, 'epoch': 2.611585944919278, 'step': 16500}\n",
            "Saving checkpoint for step 16500 at ./results/checkpoint/ckpt-33\n",
            "{'loss': 0.6945438, 'learning_rate': 5.2942455e-06, 'epoch': 2.690724912947135, 'step': 17000}\n",
            "Saving checkpoint for step 17000 at ./results/checkpoint/ckpt-34\n",
            "{'loss': 0.6945023, 'learning_rate': 3.939524e-06, 'epoch': 2.769863880974992, 'step': 17500}\n",
            "Saving checkpoint for step 17500 at ./results/checkpoint/ckpt-35\n",
            "{'loss': 0.69444615, 'learning_rate': 2.5848058e-06, 'epoch': 2.849002849002849, 'step': 18000}\n",
            "Saving checkpoint for step 18000 at ./results/checkpoint/ckpt-36\n",
            "{'loss': 0.6944516, 'learning_rate': 1.2300849e-06, 'epoch': 2.928141817030706, 'step': 18500}\n",
            "Saving checkpoint for step 18500 at ./results/checkpoint/ckpt-37\n",
            "Training took: 0:45:39.593734\n"
          ],
          "name": "stderr"
        }
      ]
    },
    {
      "cell_type": "markdown",
      "metadata": {
        "id": "vGRyDCtDEmcS"
      },
      "source": [
        "Evaluate on test set"
      ]
    },
    {
      "cell_type": "code",
      "metadata": {
        "colab": {
          "base_uri": "https://localhost:8080/"
        },
        "id": "TvDKJs8MEmcS",
        "outputId": "63cc2e4e-3c7b-4842-8a3d-e4bbf8a5f77b"
      },
      "source": [
        "trainer.evaluate(test_dataset)"
      ],
      "execution_count": null,
      "outputs": [
        {
          "output_type": "stream",
          "text": [
            "***** Running Evaluation *****\n",
            "  Num examples in dataset = 707541\n",
            "  Num examples in used in evaluation = 707584\n",
            "  Batch size = 64\n"
          ],
          "name": "stderr"
        },
        {
          "output_type": "stream",
          "text": [
            "WARNING:tensorflow:The parameters `output_attentions`, `output_hidden_states` and `use_cache` cannot be updated when calling a model.They have to be set to True/False in the config object (i.e.: `config=XConfig.from_pretrained('name', output_attentions=True)`).\n",
            "WARNING:tensorflow:The parameter `return_dict` cannot be set in graph mode and will always be set to `True`.\n"
          ],
          "name": "stdout"
        },
        {
          "output_type": "stream",
          "text": [
            "{'eval_loss': 0.6931508308554178, 'eval_accuracy': 0.5003801668777135, 'epoch': 3.0, 'step': 18954}\n"
          ],
          "name": "stderr"
        },
        {
          "output_type": "execute_result",
          "data": {
            "text/plain": [
              "{'eval_accuracy': 0.5003801668777135, 'eval_loss': 0.6931508308554178}"
            ]
          },
          "metadata": {
            "tags": []
          },
          "execution_count": 29
        }
      ]
    },
    {
      "cell_type": "markdown",
      "metadata": {
        "id": "tYOzI0dsEmcT"
      },
      "source": [
        "Clear session"
      ]
    },
    {
      "cell_type": "code",
      "metadata": {
        "id": "aukLb2llEmcT"
      },
      "source": [
        "tf.keras.backend.clear_session()"
      ],
      "execution_count": null,
      "outputs": []
    },
    {
      "cell_type": "markdown",
      "metadata": {
        "id": "cqvt6xnTcYk2"
      },
      "source": [
        "## Training batch size 16, Evaluation batch size 64, Learning rate 5e-5, No. of Epochs 2, Weight decay 0.01, Trained on 101,077 examples, Validated on 101,077 examples, Tested on 808,618 examples, Hidden dropout prob 0.7"
      ]
    },
    {
      "cell_type": "code",
      "metadata": {
        "id": "iGheJPUhVXG2"
      },
      "source": [
        "from transformers import TFBertForSequenceClassification, TFTrainer, TFTrainingArguments, BertConfig\n",
        "\n",
        "config = BertConfig.from_pretrained('bert-base-cased', hidden_dropout_prob=0.7, num_labels=2)"
      ],
      "execution_count": null,
      "outputs": []
    },
    {
      "cell_type": "markdown",
      "metadata": {
        "id": "BoCA3iLAcYk2"
      },
      "source": [
        "Build TFTrainer"
      ]
    },
    {
      "cell_type": "code",
      "metadata": {
        "colab": {
          "base_uri": "https://localhost:8080/",
          "height": 154,
          "referenced_widgets": [
            "9547e9adebac4415bf18f85245875bd9",
            "88daef13e61940fea7254d5d1109b1c5",
            "be358be750464beb8a8bc9e7526ebda5",
            "9bf4c9633cb54abeb371ac4b4bbc3087",
            "a2b6a09d03344161b9822f43a2b4057d",
            "8ca24d9aad194dd0ae5f105943d2d8a1",
            "093c8bdff0dd4cacbe90933c7e1325ba",
            "17d980a9638a48d1aa06e8253d78da54"
          ]
        },
        "id": "SIiHklTLcYk3",
        "outputId": "bd425604-83b9-49bb-860b-47dd0c3b7e71"
      },
      "source": [
        "training_args = TFTrainingArguments(\n",
        "    output_dir='./results',          # output directory\n",
        "    do_train=True,\n",
        "    do_eval=True,\n",
        "    evaluation_strategy = \"epoch\",\n",
        "    num_train_epochs=2,              # total number of training epochs\n",
        "    per_device_train_batch_size=16,  # batch size per device during training\n",
        "    per_device_eval_batch_size=64,   # batch size for evaluation\n",
        "    learning_rate=5e-5,              # learning rate\n",
        "    warmup_steps=500,                # number of warmup steps for learning rate scheduler\n",
        "    weight_decay=0.01,               # strength of weight decay\n",
        ")\n",
        "\n",
        "with training_args.strategy.scope():\n",
        "    # Load TFBertForSequenceClassification, the pretrained BERT model with a single \n",
        "    # linear classification layer on top. \n",
        "    model = TFBertForSequenceClassification.from_pretrained(\n",
        "        \"bert-base-cased\", # Use the 12-layer BERT model, with cased vocab.\n",
        "        config = config,   \n",
        "    )\n",
        "\n",
        "trainer = TFTrainer(\n",
        "    model=model,                         # the instantiated 🤗 Transformers model to be trained\n",
        "    args=training_args,                  # training arguments, defined above\n",
        "    train_dataset=train_dataset,         # training dataset\n",
        "    eval_dataset=val_dataset,            # evaluation dataset\n",
        "    compute_metrics=compute_metrics     # function that computes metrics \n",
        ")"
      ],
      "execution_count": null,
      "outputs": [
        {
          "output_type": "display_data",
          "data": {
            "application/vnd.jupyter.widget-view+json": {
              "model_id": "9547e9adebac4415bf18f85245875bd9",
              "version_minor": 0,
              "version_major": 2
            },
            "text/plain": [
              "HBox(children=(FloatProgress(value=0.0, description='Downloading', max=526681800.0, style=ProgressStyle(descri…"
            ]
          },
          "metadata": {
            "tags": []
          }
        },
        {
          "output_type": "stream",
          "text": [
            "\n"
          ],
          "name": "stdout"
        },
        {
          "output_type": "stream",
          "text": [
            "All model checkpoint layers were used when initializing TFBertForSequenceClassification.\n",
            "\n",
            "Some layers of TFBertForSequenceClassification were not initialized from the model checkpoint at bert-base-cased and are newly initialized: ['classifier']\n",
            "You should probably TRAIN this model on a down-stream task to be able to use it for predictions and inference.\n"
          ],
          "name": "stderr"
        }
      ]
    },
    {
      "cell_type": "markdown",
      "metadata": {
        "id": "j3f_hbVAcYk3"
      },
      "source": [
        "Train and Validate"
      ]
    },
    {
      "cell_type": "code",
      "metadata": {
        "id": "oogw2xkpcYk3"
      },
      "source": [
        "import transformers\n",
        "\n",
        "transformers.logging.set_verbosity_info()"
      ],
      "execution_count": null,
      "outputs": []
    },
    {
      "cell_type": "code",
      "metadata": {
        "colab": {
          "base_uri": "https://localhost:8080/"
        },
        "id": "gylkNfypcYk4",
        "outputId": "d5cd7414-ba57-405a-e00a-6042b9ff230f"
      },
      "source": [
        "trainer.train()"
      ],
      "execution_count": null,
      "outputs": [
        {
          "output_type": "stream",
          "text": [
            "***** Running training *****\n",
            "  Num examples = 101077\n",
            "  Num Epochs = 2.0\n",
            "  Instantaneous batch size per device = 16\n",
            "  Total train batch size (w. parallel, distributed & accumulation) = 16\n",
            "  Gradient Accumulation steps = 1\n",
            "  Steps per epoch = 6318\n",
            "  Total optimization steps = 12636\n"
          ],
          "name": "stderr"
        },
        {
          "output_type": "stream",
          "text": [
            "WARNING:tensorflow:The parameters `output_attentions`, `output_hidden_states` and `use_cache` cannot be updated when calling a model.They have to be set to True/False in the config object (i.e.: `config=XConfig.from_pretrained('name', output_attentions=True)`).\n",
            "WARNING:tensorflow:AutoGraph could not transform <bound method Socket.send of <zmq.sugar.socket.Socket object at 0x7f51a5906d70>> and will run it as-is.\n",
            "Please report this to the TensorFlow team. When filing the bug, set the verbosity to 10 (on Linux, `export AUTOGRAPH_VERBOSITY=10`) and attach the full output.\n",
            "Cause: module, class, method, function, traceback, frame, or code object was expected, got cython_function_or_method\n",
            "To silence this warning, decorate the function with @tf.autograph.experimental.do_not_convert\n",
            "WARNING: AutoGraph could not transform <bound method Socket.send of <zmq.sugar.socket.Socket object at 0x7f51a5906d70>> and will run it as-is.\n",
            "Please report this to the TensorFlow team. When filing the bug, set the verbosity to 10 (on Linux, `export AUTOGRAPH_VERBOSITY=10`) and attach the full output.\n",
            "Cause: module, class, method, function, traceback, frame, or code object was expected, got cython_function_or_method\n",
            "To silence this warning, decorate the function with @tf.autograph.experimental.do_not_convert\n",
            "WARNING:tensorflow:AutoGraph could not transform <function wrap at 0x7f51c11b4c20> and will run it as-is.\n",
            "Cause: while/else statement not yet supported\n",
            "To silence this warning, decorate the function with @tf.autograph.experimental.do_not_convert\n",
            "WARNING: AutoGraph could not transform <function wrap at 0x7f51c11b4c20> and will run it as-is.\n",
            "Cause: while/else statement not yet supported\n",
            "To silence this warning, decorate the function with @tf.autograph.experimental.do_not_convert\n",
            "WARNING:tensorflow:The parameter `return_dict` cannot be set in graph mode and will always be set to `True`.\n",
            "WARNING:tensorflow:The parameters `output_attentions`, `output_hidden_states` and `use_cache` cannot be updated when calling a model.They have to be set to True/False in the config object (i.e.: `config=XConfig.from_pretrained('name', output_attentions=True)`).\n",
            "WARNING:tensorflow:The parameter `return_dict` cannot be set in graph mode and will always be set to `True`.\n"
          ],
          "name": "stdout"
        },
        {
          "output_type": "stream",
          "text": [
            "{'loss': 0.7390617, 'learning_rate': 5e-05, 'epoch': 0.07913896802785692, 'step': 500}\n",
            "Saving checkpoint for step 500 at ./results/checkpoint/ckpt-1\n",
            "{'loss': 0.7330778, 'learning_rate': 4.7940008e-05, 'epoch': 0.15827793605571383, 'step': 1000}\n",
            "Saving checkpoint for step 1000 at ./results/checkpoint/ckpt-2\n",
            "{'loss': 0.72776324, 'learning_rate': 4.5880024e-05, 'epoch': 0.23741690408357075, 'step': 1500}\n",
            "Saving checkpoint for step 1500 at ./results/checkpoint/ckpt-3\n",
            "{'loss': 0.72474784, 'learning_rate': 4.3820037e-05, 'epoch': 0.31655587211142766, 'step': 2000}\n",
            "Saving checkpoint for step 2000 at ./results/checkpoint/ckpt-4\n",
            "{'loss': 0.72236055, 'learning_rate': 4.1760046e-05, 'epoch': 0.3956948401392846, 'step': 2500}\n",
            "Saving checkpoint for step 2500 at ./results/checkpoint/ckpt-5\n",
            "{'loss': 0.7201862, 'learning_rate': 3.9700066e-05, 'epoch': 0.4748338081671415, 'step': 3000}\n",
            "Saving checkpoint for step 3000 at ./results/checkpoint/ckpt-6\n",
            "{'loss': 0.71849, 'learning_rate': 3.764008e-05, 'epoch': 0.5539727761949984, 'step': 3500}\n",
            "Saving checkpoint for step 3500 at ./results/checkpoint/ckpt-7\n",
            "{'loss': 0.7172098, 'learning_rate': 3.5580088e-05, 'epoch': 0.6331117442228553, 'step': 4000}\n",
            "Saving checkpoint for step 4000 at ./results/checkpoint/ckpt-8\n",
            "{'loss': 0.7158425, 'learning_rate': 3.3520104e-05, 'epoch': 0.7122507122507122, 'step': 4500}\n",
            "Saving checkpoint for step 4500 at ./results/checkpoint/ckpt-9\n",
            "{'loss': 0.7145332, 'learning_rate': 3.1460117e-05, 'epoch': 0.7913896802785692, 'step': 5000}\n",
            "Saving checkpoint for step 5000 at ./results/checkpoint/ckpt-10\n",
            "{'loss': 0.713467, 'learning_rate': 2.9400131e-05, 'epoch': 0.8705286483064261, 'step': 5500}\n",
            "Saving checkpoint for step 5500 at ./results/checkpoint/ckpt-11\n",
            "{'loss': 0.7126844, 'learning_rate': 2.7340144e-05, 'epoch': 0.949667616334283, 'step': 6000}\n",
            "Saving checkpoint for step 6000 at ./results/checkpoint/ckpt-12\n",
            "{'loss': 0.7049633, 'learning_rate': 2.5280158e-05, 'epoch': 1.02880658436214, 'step': 6500}\n",
            "Saving checkpoint for step 6500 at ./results/checkpoint/ckpt-13\n",
            "{'loss': 0.7021973, 'learning_rate': 2.3220171e-05, 'epoch': 1.1079455523899968, 'step': 7000}\n",
            "Saving checkpoint for step 7000 at ./results/checkpoint/ckpt-14\n",
            "{'loss': 0.70150864, 'learning_rate': 2.1160185e-05, 'epoch': 1.1870845204178537, 'step': 7500}\n",
            "Saving checkpoint for step 7500 at ./results/checkpoint/ckpt-15\n",
            "{'loss': 0.70122325, 'learning_rate': 1.9100196e-05, 'epoch': 1.2662234884457106, 'step': 8000}\n",
            "Saving checkpoint for step 8000 at ./results/checkpoint/ckpt-16\n",
            "{'loss': 0.70128953, 'learning_rate': 1.7040209e-05, 'epoch': 1.3453624564735676, 'step': 8500}\n",
            "Saving checkpoint for step 8500 at ./results/checkpoint/ckpt-17\n",
            "{'loss': 0.7012352, 'learning_rate': 1.4980222e-05, 'epoch': 1.4245014245014245, 'step': 9000}\n",
            "Saving checkpoint for step 9000 at ./results/checkpoint/ckpt-18\n",
            "{'loss': 0.7009011, 'learning_rate': 1.2920236e-05, 'epoch': 1.5036403925292814, 'step': 9500}\n",
            "Saving checkpoint for step 9500 at ./results/checkpoint/ckpt-19\n",
            "{'loss': 0.7006169, 'learning_rate': 1.086025e-05, 'epoch': 1.5827793605571383, 'step': 10000}\n",
            "Saving checkpoint for step 10000 at ./results/checkpoint/ckpt-20\n",
            "{'loss': 0.70047593, 'learning_rate': 8.800262e-06, 'epoch': 1.6619183285849952, 'step': 10500}\n",
            "Saving checkpoint for step 10500 at ./results/checkpoint/ckpt-21\n",
            "{'loss': 0.7001316, 'learning_rate': 6.740277e-06, 'epoch': 1.7410572966128521, 'step': 11000}\n",
            "Saving checkpoint for step 11000 at ./results/checkpoint/ckpt-22\n",
            "{'loss': 0.6999005, 'learning_rate': 4.6802907e-06, 'epoch': 1.820196264640709, 'step': 11500}\n",
            "Saving checkpoint for step 11500 at ./results/checkpoint/ckpt-23\n",
            "{'loss': 0.6996395, 'learning_rate': 2.6203036e-06, 'epoch': 1.899335232668566, 'step': 12000}\n",
            "Saving checkpoint for step 12000 at ./results/checkpoint/ckpt-24\n",
            "{'loss': 0.6994396, 'learning_rate': 5.6031644e-07, 'epoch': 1.9784742006964229, 'step': 12500}\n",
            "Saving checkpoint for step 12500 at ./results/checkpoint/ckpt-25\n",
            "Training took: 0:20:07.441602\n"
          ],
          "name": "stderr"
        }
      ]
    },
    {
      "cell_type": "markdown",
      "metadata": {
        "id": "Qw_6hvGucYk4"
      },
      "source": [
        "Evaluate on test set"
      ]
    },
    {
      "cell_type": "code",
      "metadata": {
        "colab": {
          "base_uri": "https://localhost:8080/"
        },
        "id": "0niy8nCmcYk4",
        "outputId": "823ddc51-3691-4635-ea9f-9181c4755640"
      },
      "source": [
        "trainer.evaluate(test_dataset)"
      ],
      "execution_count": null,
      "outputs": [
        {
          "output_type": "stream",
          "text": [
            "***** Running Evaluation *****\n",
            "  Num examples in dataset = 808618\n",
            "  Num examples in used in evaluation = 808640\n",
            "  Batch size = 64\n"
          ],
          "name": "stderr"
        },
        {
          "output_type": "stream",
          "text": [
            "WARNING:tensorflow:The parameters `output_attentions`, `output_hidden_states` and `use_cache` cannot be updated when calling a model.They have to be set to True/False in the config object (i.e.: `config=XConfig.from_pretrained('name', output_attentions=True)`).\n",
            "WARNING:tensorflow:The parameter `return_dict` cannot be set in graph mode and will always be set to `True`.\n"
          ],
          "name": "stdout"
        },
        {
          "output_type": "stream",
          "text": [
            "{'eval_loss': 0.6931378611001188, 'eval_accuracy': 0.5001026414721013, 'epoch': 2.0, 'step': 12636}\n"
          ],
          "name": "stderr"
        },
        {
          "output_type": "execute_result",
          "data": {
            "text/plain": [
              "{'eval_accuracy': 0.5001026414721013, 'eval_loss': 0.6931378611001188}"
            ]
          },
          "metadata": {
            "tags": []
          },
          "execution_count": 27
        }
      ]
    },
    {
      "cell_type": "markdown",
      "metadata": {
        "id": "Bp9gmuO0cYk4"
      },
      "source": [
        "Clear session"
      ]
    },
    {
      "cell_type": "code",
      "metadata": {
        "id": "uIfRdWpucYk5"
      },
      "source": [
        "tf.keras.backend.clear_session()"
      ],
      "execution_count": null,
      "outputs": []
    },
    {
      "cell_type": "code",
      "metadata": {
        "id": "lHD0r-gJ02Bt"
      },
      "source": [
        ""
      ],
      "execution_count": null,
      "outputs": []
    },
    {
      "cell_type": "markdown",
      "metadata": {
        "id": "PTBgyX2bR0YR"
      },
      "source": [
        "## Training batch size 16, Evaluation batch size 64, Learning rate 5e-5, No. of Epochs 2, Weight decay 0.1, Trained on 101,077 examples, Validated on 101,077 examples, Tested on 808,618 examples, Hidden dropout prob 0.4"
      ]
    },
    {
      "cell_type": "code",
      "metadata": {
        "colab": {
          "base_uri": "https://localhost:8080/",
          "height": 66,
          "referenced_widgets": [
            "4a9b6082099445d689810b90b4370d38",
            "ea395165a5e34667b34e5a0ee82e5b17",
            "57373eabcd184ad4a1cb714c2f11d825",
            "caf7c96970d6422884d773beb24ab386",
            "137dfe6c589b4d4fa7efedf1ea1bd2c9",
            "086e321f15e34e7cbd425ef0dedfa5f6",
            "e708601335f349028c07a9a8f06f84b6",
            "086f9184eb1a427aa9fd36a932d05dce"
          ]
        },
        "id": "qZOZT9dAVZAm",
        "outputId": "3c913ed4-cec6-479c-ae20-da666277d945"
      },
      "source": [
        "from transformers import TFBertForSequenceClassification, TFTrainer, TFTrainingArguments, BertConfig\n",
        "\n",
        "config = BertConfig.from_pretrained('bert-base-cased', hidden_dropout_prob=0.4, num_labels=2)"
      ],
      "execution_count": null,
      "outputs": [
        {
          "output_type": "display_data",
          "data": {
            "application/vnd.jupyter.widget-view+json": {
              "model_id": "4a9b6082099445d689810b90b4370d38",
              "version_minor": 0,
              "version_major": 2
            },
            "text/plain": [
              "HBox(children=(FloatProgress(value=0.0, description='Downloading', max=433.0, style=ProgressStyle(description_…"
            ]
          },
          "metadata": {
            "tags": []
          }
        },
        {
          "output_type": "stream",
          "text": [
            "\n"
          ],
          "name": "stdout"
        }
      ]
    },
    {
      "cell_type": "markdown",
      "metadata": {
        "id": "YybKunUFR0YX"
      },
      "source": [
        "Build TFTrainer"
      ]
    },
    {
      "cell_type": "code",
      "metadata": {
        "colab": {
          "base_uri": "https://localhost:8080/",
          "height": 154,
          "referenced_widgets": [
            "fafca5b315c24addbf7b7b9bd9ad7d7f",
            "3b8540b2632b4907ab88935c2fb84e3a",
            "8d6000679fe24e698e64c730ebf46507",
            "e86ffc44a8424f8c87bf88d5dfe9e5df",
            "d01b0edfa16f4fd5b23153e6e8ca73ea",
            "fe55a35850dd48d2954a075c9e33500e",
            "eb0b0a5cc26947f4af265d304cd3cd98",
            "ab39effdc6444d06bbad8d551ccff494"
          ]
        },
        "id": "K6ef2iYSR0YY",
        "outputId": "3d1f5603-917e-4ffe-fa66-b72c69e07d18"
      },
      "source": [
        "training_args = TFTrainingArguments(\n",
        "    output_dir='./results',          # output directory\n",
        "    do_train=True,\n",
        "    do_eval=True,\n",
        "    evaluation_strategy = \"epoch\",\n",
        "    num_train_epochs=2,              # total number of training epochs\n",
        "    per_device_train_batch_size=16,  # batch size per device during training\n",
        "    per_device_eval_batch_size=64,   # batch size for evaluation\n",
        "    learning_rate=5e-5,              # learning rate\n",
        "    warmup_steps=500,                # number of warmup steps for learning rate scheduler\n",
        "    weight_decay=0.1,               # strength of weight decay\n",
        ")\n",
        "\n",
        "with training_args.strategy.scope():\n",
        "    # Load TFBertForSequenceClassification, the pretrained BERT model with a single \n",
        "    # linear classification layer on top. \n",
        "    model = TFBertForSequenceClassification.from_pretrained(\n",
        "        \"bert-base-cased\", # Use the 12-layer BERT model, with cased vocab.\n",
        "        config = config,   \n",
        "    )\n",
        "\n",
        "trainer = TFTrainer(\n",
        "    model=model,                         # the instantiated 🤗 Transformers model to be trained\n",
        "    args=training_args,                  # training arguments, defined above\n",
        "    train_dataset=train_dataset,         # training dataset\n",
        "    eval_dataset=val_dataset,            # evaluation dataset\n",
        "    compute_metrics=compute_metrics     # function that computes metrics \n",
        ")"
      ],
      "execution_count": null,
      "outputs": [
        {
          "output_type": "display_data",
          "data": {
            "application/vnd.jupyter.widget-view+json": {
              "model_id": "fafca5b315c24addbf7b7b9bd9ad7d7f",
              "version_minor": 0,
              "version_major": 2
            },
            "text/plain": [
              "HBox(children=(FloatProgress(value=0.0, description='Downloading', max=526681800.0, style=ProgressStyle(descri…"
            ]
          },
          "metadata": {
            "tags": []
          }
        },
        {
          "output_type": "stream",
          "text": [
            "\n"
          ],
          "name": "stdout"
        },
        {
          "output_type": "stream",
          "text": [
            "All model checkpoint layers were used when initializing TFBertForSequenceClassification.\n",
            "\n",
            "Some layers of TFBertForSequenceClassification were not initialized from the model checkpoint at bert-base-cased and are newly initialized: ['classifier']\n",
            "You should probably TRAIN this model on a down-stream task to be able to use it for predictions and inference.\n"
          ],
          "name": "stderr"
        }
      ]
    },
    {
      "cell_type": "markdown",
      "metadata": {
        "id": "M3Xbe993R0YZ"
      },
      "source": [
        "Train and Validate"
      ]
    },
    {
      "cell_type": "code",
      "metadata": {
        "id": "u3GkjpjIR0Yb"
      },
      "source": [
        "import transformers\n",
        "\n",
        "transformers.logging.set_verbosity_info()"
      ],
      "execution_count": null,
      "outputs": []
    },
    {
      "cell_type": "code",
      "metadata": {
        "colab": {
          "base_uri": "https://localhost:8080/"
        },
        "id": "qoXZZTRcR0Yc",
        "outputId": "07aa440b-be3f-4313-8b95-81c60aa98f34"
      },
      "source": [
        "trainer.train()"
      ],
      "execution_count": null,
      "outputs": [
        {
          "output_type": "stream",
          "text": [
            "***** Running training *****\n",
            "  Num examples = 101077\n",
            "  Num Epochs = 2.0\n",
            "  Instantaneous batch size per device = 16\n",
            "  Total train batch size (w. parallel, distributed & accumulation) = 16\n",
            "  Gradient Accumulation steps = 1\n",
            "  Steps per epoch = 6318\n",
            "  Total optimization steps = 12636\n"
          ],
          "name": "stderr"
        },
        {
          "output_type": "stream",
          "text": [
            "WARNING:tensorflow:The parameters `output_attentions`, `output_hidden_states` and `use_cache` cannot be updated when calling a model.They have to be set to True/False in the config object (i.e.: `config=XConfig.from_pretrained('name', output_attentions=True)`).\n",
            "WARNING:tensorflow:AutoGraph could not transform <bound method Socket.send of <zmq.sugar.socket.Socket object at 0x7f71dd0b0d70>> and will run it as-is.\n",
            "Please report this to the TensorFlow team. When filing the bug, set the verbosity to 10 (on Linux, `export AUTOGRAPH_VERBOSITY=10`) and attach the full output.\n",
            "Cause: module, class, method, function, traceback, frame, or code object was expected, got cython_function_or_method\n",
            "To silence this warning, decorate the function with @tf.autograph.experimental.do_not_convert\n",
            "WARNING: AutoGraph could not transform <bound method Socket.send of <zmq.sugar.socket.Socket object at 0x7f71dd0b0d70>> and will run it as-is.\n",
            "Please report this to the TensorFlow team. When filing the bug, set the verbosity to 10 (on Linux, `export AUTOGRAPH_VERBOSITY=10`) and attach the full output.\n",
            "Cause: module, class, method, function, traceback, frame, or code object was expected, got cython_function_or_method\n",
            "To silence this warning, decorate the function with @tf.autograph.experimental.do_not_convert\n",
            "WARNING:tensorflow:AutoGraph could not transform <function wrap at 0x7f71f895ec20> and will run it as-is.\n",
            "Cause: while/else statement not yet supported\n",
            "To silence this warning, decorate the function with @tf.autograph.experimental.do_not_convert\n",
            "WARNING: AutoGraph could not transform <function wrap at 0x7f71f895ec20> and will run it as-is.\n",
            "Cause: while/else statement not yet supported\n",
            "To silence this warning, decorate the function with @tf.autograph.experimental.do_not_convertWARNING:tensorflow:The parameter `return_dict` cannot be set in graph mode and will always be set to `True`.\n",
            "\n",
            "WARNING:tensorflow:The parameters `output_attentions`, `output_hidden_states` and `use_cache` cannot be updated when calling a model.They have to be set to True/False in the config object (i.e.: `config=XConfig.from_pretrained('name', output_attentions=True)`).\n",
            "WARNING:tensorflow:The parameter `return_dict` cannot be set in graph mode and will always be set to `True`.\n"
          ],
          "name": "stdout"
        },
        {
          "output_type": "stream",
          "text": [
            "{'loss': 0.6910516, 'learning_rate': 5e-05, 'epoch': 0.07913896802785692, 'step': 500}\n",
            "Saving checkpoint for step 500 at ./results/checkpoint/ckpt-1\n",
            "{'loss': 0.663863, 'learning_rate': 4.7940008e-05, 'epoch': 0.15827793605571383, 'step': 1000}\n",
            "Saving checkpoint for step 1000 at ./results/checkpoint/ckpt-2\n",
            "{'loss': 0.6478605, 'learning_rate': 4.5880024e-05, 'epoch': 0.23741690408357075, 'step': 1500}\n",
            "Saving checkpoint for step 1500 at ./results/checkpoint/ckpt-3\n",
            "{'loss': 0.63814825, 'learning_rate': 4.3820037e-05, 'epoch': 0.31655587211142766, 'step': 2000}\n",
            "Saving checkpoint for step 2000 at ./results/checkpoint/ckpt-4\n",
            "{'loss': 0.6295067, 'learning_rate': 4.1760046e-05, 'epoch': 0.3956948401392846, 'step': 2500}\n",
            "Saving checkpoint for step 2500 at ./results/checkpoint/ckpt-5\n",
            "{'loss': 0.6217334, 'learning_rate': 3.9700066e-05, 'epoch': 0.4748338081671415, 'step': 3000}\n",
            "Saving checkpoint for step 3000 at ./results/checkpoint/ckpt-6\n",
            "{'loss': 0.61595, 'learning_rate': 3.764008e-05, 'epoch': 0.5539727761949984, 'step': 3500}\n",
            "Saving checkpoint for step 3500 at ./results/checkpoint/ckpt-7\n",
            "{'loss': 0.6109613, 'learning_rate': 3.5580088e-05, 'epoch': 0.6331117442228553, 'step': 4000}\n",
            "Saving checkpoint for step 4000 at ./results/checkpoint/ckpt-8\n",
            "{'loss': 0.60684603, 'learning_rate': 3.3520104e-05, 'epoch': 0.7122507122507122, 'step': 4500}\n",
            "Saving checkpoint for step 4500 at ./results/checkpoint/ckpt-9\n",
            "{'loss': 0.60380346, 'learning_rate': 3.1460117e-05, 'epoch': 0.7913896802785692, 'step': 5000}\n",
            "Saving checkpoint for step 5000 at ./results/checkpoint/ckpt-10\n",
            "{'loss': 0.60081834, 'learning_rate': 2.9400131e-05, 'epoch': 0.8705286483064261, 'step': 5500}\n",
            "Saving checkpoint for step 5500 at ./results/checkpoint/ckpt-11\n",
            "{'loss': 0.5979652, 'learning_rate': 2.7340144e-05, 'epoch': 0.949667616334283, 'step': 6000}\n",
            "Saving checkpoint for step 6000 at ./results/checkpoint/ckpt-12\n",
            "{'loss': 0.5456098, 'learning_rate': 2.5280158e-05, 'epoch': 1.02880658436214, 'step': 6500}\n",
            "Saving checkpoint for step 6500 at ./results/checkpoint/ckpt-13\n",
            "{'loss': 0.55102426, 'learning_rate': 2.3220171e-05, 'epoch': 1.1079455523899968, 'step': 7000}\n",
            "Saving checkpoint for step 7000 at ./results/checkpoint/ckpt-14\n",
            "{'loss': 0.5532225, 'learning_rate': 2.1160185e-05, 'epoch': 1.1870845204178537, 'step': 7500}\n",
            "Saving checkpoint for step 7500 at ./results/checkpoint/ckpt-15\n",
            "{'loss': 0.55245024, 'learning_rate': 1.9100196e-05, 'epoch': 1.2662234884457106, 'step': 8000}\n",
            "Saving checkpoint for step 8000 at ./results/checkpoint/ckpt-16\n",
            "{'loss': 0.55236334, 'learning_rate': 1.7040209e-05, 'epoch': 1.3453624564735676, 'step': 8500}\n",
            "Saving checkpoint for step 8500 at ./results/checkpoint/ckpt-17\n",
            "{'loss': 0.5531801, 'learning_rate': 1.4980222e-05, 'epoch': 1.4245014245014245, 'step': 9000}\n",
            "Saving checkpoint for step 9000 at ./results/checkpoint/ckpt-18\n",
            "{'loss': 0.5515756, 'learning_rate': 1.2920236e-05, 'epoch': 1.5036403925292814, 'step': 9500}\n",
            "Saving checkpoint for step 9500 at ./results/checkpoint/ckpt-19\n",
            "{'loss': 0.5491546, 'learning_rate': 1.086025e-05, 'epoch': 1.5827793605571383, 'step': 10000}\n",
            "Saving checkpoint for step 10000 at ./results/checkpoint/ckpt-20\n",
            "{'loss': 0.54665214, 'learning_rate': 8.800262e-06, 'epoch': 1.6619183285849952, 'step': 10500}\n",
            "Saving checkpoint for step 10500 at ./results/checkpoint/ckpt-21\n",
            "{'loss': 0.54551494, 'learning_rate': 6.740277e-06, 'epoch': 1.7410572966128521, 'step': 11000}\n",
            "Saving checkpoint for step 11000 at ./results/checkpoint/ckpt-22\n",
            "{'loss': 0.5439243, 'learning_rate': 4.6802907e-06, 'epoch': 1.820196264640709, 'step': 11500}\n",
            "Saving checkpoint for step 11500 at ./results/checkpoint/ckpt-23\n",
            "{'loss': 0.542819, 'learning_rate': 2.6203036e-06, 'epoch': 1.899335232668566, 'step': 12000}\n",
            "Saving checkpoint for step 12000 at ./results/checkpoint/ckpt-24\n",
            "{'loss': 0.5423298, 'learning_rate': 5.6031644e-07, 'epoch': 1.9784742006964229, 'step': 12500}\n",
            "Saving checkpoint for step 12500 at ./results/checkpoint/ckpt-25\n",
            "Training took: 0:20:14.722972\n"
          ],
          "name": "stderr"
        }
      ]
    },
    {
      "cell_type": "markdown",
      "metadata": {
        "id": "2CDGGjPNR0Yc"
      },
      "source": [
        "Evaluate on test set"
      ]
    },
    {
      "cell_type": "code",
      "metadata": {
        "colab": {
          "base_uri": "https://localhost:8080/"
        },
        "id": "_gECWXbKR0Yd",
        "outputId": "9ed0d69d-1167-4872-a5eb-a824916699e6"
      },
      "source": [
        "trainer.evaluate(test_dataset)"
      ],
      "execution_count": null,
      "outputs": [
        {
          "output_type": "stream",
          "text": [
            "***** Running Evaluation *****\n",
            "  Num examples in dataset = 808618\n",
            "  Num examples in used in evaluation = 808640\n",
            "  Batch size = 64\n"
          ],
          "name": "stderr"
        },
        {
          "output_type": "stream",
          "text": [
            "WARNING:tensorflow:The parameters `output_attentions`, `output_hidden_states` and `use_cache` cannot be updated when calling a model.They have to be set to True/False in the config object (i.e.: `config=XConfig.from_pretrained('name', output_attentions=True)`).\n",
            "WARNING:tensorflow:The parameter `return_dict` cannot be set in graph mode and will always be set to `True`.\n"
          ],
          "name": "stdout"
        },
        {
          "output_type": "stream",
          "text": [
            "{'eval_loss': 0.5411117354446973, 'eval_accuracy': 0.7379860011871785, 'epoch': 2.0, 'step': 12636}\n"
          ],
          "name": "stderr"
        },
        {
          "output_type": "execute_result",
          "data": {
            "text/plain": [
              "{'eval_accuracy': 0.7379860011871785, 'eval_loss': 0.5411117354446973}"
            ]
          },
          "metadata": {
            "tags": []
          },
          "execution_count": 27
        }
      ]
    },
    {
      "cell_type": "markdown",
      "metadata": {
        "id": "SepmgnXER0Yd"
      },
      "source": [
        "Clear session"
      ]
    },
    {
      "cell_type": "code",
      "metadata": {
        "id": "1wEhiS_nR0Ye"
      },
      "source": [
        "tf.keras.backend.clear_session()"
      ],
      "execution_count": null,
      "outputs": []
    },
    {
      "cell_type": "markdown",
      "metadata": {
        "id": "J0Pz5WyvlGAE"
      },
      "source": [
        "## Training batch size 16, Evaluation batch size 64, Learning rate 5e-5, No. of Epochs 2, Weight decay 0.1, Trained on 101,077 examples, Validated on 101,077 examples, Tested on 808,618 examples, Hidden dropout prob 0.5"
      ]
    },
    {
      "cell_type": "code",
      "metadata": {
        "colab": {
          "base_uri": "https://localhost:8080/"
        },
        "id": "d2e0X644lGAU",
        "outputId": "8006389f-f9ed-491c-c8d5-fe537e13506b"
      },
      "source": [
        "from transformers import TFBertForSequenceClassification, TFTrainer, TFTrainingArguments, BertConfig\n",
        "\n",
        "config = BertConfig.from_pretrained('bert-base-cased', hidden_dropout_prob=0.5, num_labels=2)"
      ],
      "execution_count": null,
      "outputs": [
        {
          "output_type": "stream",
          "text": [
            "loading configuration file https://huggingface.co/bert-base-cased/resolve/main/config.json from cache at /root/.cache/huggingface/transformers/a803e0468a8fe090683bdc453f4fac622804f49de86d7cecaee92365d4a0f829.0d87139f53a477d9f900f8a9020c367863079014bdaf2aa713f4b64cf1782655\n",
            "Model config BertConfig {\n",
            "  \"architectures\": [\n",
            "    \"BertForMaskedLM\"\n",
            "  ],\n",
            "  \"attention_probs_dropout_prob\": 0.1,\n",
            "  \"gradient_checkpointing\": false,\n",
            "  \"hidden_act\": \"gelu\",\n",
            "  \"hidden_dropout_prob\": 0.5,\n",
            "  \"hidden_size\": 768,\n",
            "  \"initializer_range\": 0.02,\n",
            "  \"intermediate_size\": 3072,\n",
            "  \"layer_norm_eps\": 1e-12,\n",
            "  \"max_position_embeddings\": 512,\n",
            "  \"model_type\": \"bert\",\n",
            "  \"num_attention_heads\": 12,\n",
            "  \"num_hidden_layers\": 12,\n",
            "  \"pad_token_id\": 0,\n",
            "  \"position_embedding_type\": \"absolute\",\n",
            "  \"transformers_version\": \"4.5.0\",\n",
            "  \"type_vocab_size\": 2,\n",
            "  \"use_cache\": true,\n",
            "  \"vocab_size\": 28996\n",
            "}\n",
            "\n"
          ],
          "name": "stderr"
        }
      ]
    },
    {
      "cell_type": "markdown",
      "metadata": {
        "id": "FxkY59EllGAV"
      },
      "source": [
        "Build TFTrainer"
      ]
    },
    {
      "cell_type": "code",
      "metadata": {
        "colab": {
          "base_uri": "https://localhost:8080/"
        },
        "id": "YcXqpze-lGAV",
        "outputId": "fb2ca0b4-ef60-424f-adb2-d1202aadf20b"
      },
      "source": [
        "training_args = TFTrainingArguments(\n",
        "    output_dir='./results',          # output directory\n",
        "    do_train=True,\n",
        "    do_eval=True,\n",
        "    evaluation_strategy = \"epoch\",\n",
        "    num_train_epochs=2,              # total number of training epochs\n",
        "    per_device_train_batch_size=16,  # batch size per device during training\n",
        "    per_device_eval_batch_size=64,   # batch size for evaluation\n",
        "    learning_rate=5e-5,              # learning rate\n",
        "    warmup_steps=500,                # number of warmup steps for learning rate scheduler\n",
        "    weight_decay=0.1,               # strength of weight decay\n",
        ")\n",
        "\n",
        "with training_args.strategy.scope():\n",
        "    # Load TFBertForSequenceClassification, the pretrained BERT model with a single \n",
        "    # linear classification layer on top. \n",
        "    model = TFBertForSequenceClassification.from_pretrained(\n",
        "        \"bert-base-cased\", # Use the 12-layer BERT model, with cased vocab.\n",
        "        config = config,   \n",
        "    )\n",
        "\n",
        "trainer = TFTrainer(\n",
        "    model=model,                         # the instantiated 🤗 Transformers model to be trained\n",
        "    args=training_args,                  # training arguments, defined above\n",
        "    train_dataset=train_dataset,         # training dataset\n",
        "    eval_dataset=val_dataset,            # evaluation dataset\n",
        "    compute_metrics=compute_metrics     # function that computes metrics \n",
        ")"
      ],
      "execution_count": null,
      "outputs": [
        {
          "output_type": "stream",
          "text": [
            "PyTorch: setting up devices\n",
            "The default value for the training argument `--report_to` will change in v5 (from all installed integrations to none). In v5, you will need to use `--report_to all` to get the same behavior as now. You should start updating your code and make this info disappear :-).\n",
            "Tensorflow: setting up strategy\n",
            "loading weights file https://huggingface.co/bert-base-cased/resolve/main/tf_model.h5 from cache at /root/.cache/huggingface/transformers/01800f4158e284e2447020e0124bc3f6aea3ac49848e744594f7cce8ee5ac0a4.a7137b2090d9302d722735af604b4c142ec9d1bfc31be7cbbe230aea9d5cfb76.h5\n",
            "All model checkpoint layers were used when initializing TFBertForSequenceClassification.\n",
            "\n",
            "Some layers of TFBertForSequenceClassification were not initialized from the model checkpoint at bert-base-cased and are newly initialized: ['classifier']\n",
            "You should probably TRAIN this model on a down-stream task to be able to use it for predictions and inference.\n",
            "You are instantiating a Trainer but W&B is not installed. To use wandb logging, run `pip install wandb; wandb login` see https://docs.wandb.com/huggingface.\n",
            "To use comet_ml logging, run `pip/conda install comet_ml` see https://www.comet.ml/docs/python-sdk/huggingface/\n"
          ],
          "name": "stderr"
        }
      ]
    },
    {
      "cell_type": "markdown",
      "metadata": {
        "id": "9x6YLUhclGAV"
      },
      "source": [
        "Train and Validate"
      ]
    },
    {
      "cell_type": "code",
      "metadata": {
        "id": "YoD0-BGflGAW"
      },
      "source": [
        "import transformers\n",
        "\n",
        "transformers.logging.set_verbosity_info()"
      ],
      "execution_count": null,
      "outputs": []
    },
    {
      "cell_type": "code",
      "metadata": {
        "colab": {
          "base_uri": "https://localhost:8080/"
        },
        "id": "rRGs9XHVlGAY",
        "outputId": "704f5b7a-a5cc-480b-9e2e-c77182afa503"
      },
      "source": [
        "trainer.train()"
      ],
      "execution_count": null,
      "outputs": [
        {
          "output_type": "stream",
          "text": [
            "Checkpoint file ./results/checkpoint/ckpt-25 found and restoring from checkpoint\n",
            "  Continuing training from checkpoint, will skip to saved global_step\n",
            "  Continuing training from epoch 1\n",
            "  Continuing training from global step 12500\n",
            "  Will skip the first 6182 steps in the first epoch\n",
            "***** Running training *****\n",
            "  Num examples = 101077\n",
            "  Num Epochs = 2.0\n",
            "  Instantaneous batch size per device = 16\n",
            "  Total train batch size (w. parallel, distributed & accumulation) = 16\n",
            "  Gradient Accumulation steps = 1\n",
            "  Steps per epoch = 6318\n",
            "  Total optimization steps = 12636\n"
          ],
          "name": "stderr"
        },
        {
          "output_type": "stream",
          "text": [
            "WARNING:tensorflow:The parameters `output_attentions`, `output_hidden_states` and `use_cache` cannot be updated when calling a model.They have to be set to True/False in the config object (i.e.: `config=XConfig.from_pretrained('name', output_attentions=True)`).\n",
            "WARNING:tensorflow:The parameter `return_dict` cannot be set in graph mode and will always be set to `True`.\n",
            "WARNING:tensorflow:The parameters `output_attentions`, `output_hidden_states` and `use_cache` cannot be updated when calling a model.They have to be set to True/False in the config object (i.e.: `config=XConfig.from_pretrained('name', output_attentions=True)`).\n",
            "WARNING:tensorflow:The parameter `return_dict` cannot be set in graph mode and will always be set to `True`.\n"
          ],
          "name": "stdout"
        },
        {
          "output_type": "stream",
          "text": [
            "Training took: 0:00:33.860070\n"
          ],
          "name": "stderr"
        }
      ]
    },
    {
      "cell_type": "markdown",
      "metadata": {
        "id": "OPUrDpaRlGAY"
      },
      "source": [
        "Evaluate on test set"
      ]
    },
    {
      "cell_type": "code",
      "metadata": {
        "colab": {
          "base_uri": "https://localhost:8080/"
        },
        "id": "z4o32n5AlGAZ",
        "outputId": "57075f8b-c2ae-49a8-8aaf-57c6ef3dc5e4"
      },
      "source": [
        "trainer.evaluate(test_dataset)"
      ],
      "execution_count": null,
      "outputs": [
        {
          "output_type": "stream",
          "text": [
            "***** Running Evaluation *****\n",
            "  Num examples in dataset = 808618\n",
            "  Num examples in used in evaluation = 808640\n",
            "  Batch size = 64\n"
          ],
          "name": "stderr"
        },
        {
          "output_type": "stream",
          "text": [
            "WARNING:tensorflow:The parameters `output_attentions`, `output_hidden_states` and `use_cache` cannot be updated when calling a model.They have to be set to True/False in the config object (i.e.: `config=XConfig.from_pretrained('name', output_attentions=True)`).\n",
            "WARNING:tensorflow:The parameter `return_dict` cannot be set in graph mode and will always be set to `True`.\n"
          ],
          "name": "stdout"
        },
        {
          "output_type": "stream",
          "text": [
            "{'eval_loss': 0.5451579967599921, 'eval_accuracy': 0.7368643648595172, 'epoch': 2.0, 'step': 12636}\n"
          ],
          "name": "stderr"
        },
        {
          "output_type": "execute_result",
          "data": {
            "text/plain": [
              "{'eval_accuracy': 0.7368643648595172, 'eval_loss': 0.5451579967599921}"
            ]
          },
          "metadata": {
            "tags": []
          },
          "execution_count": 34
        }
      ]
    },
    {
      "cell_type": "markdown",
      "metadata": {
        "id": "arvHcP6nlGAZ"
      },
      "source": [
        "Clear session"
      ]
    },
    {
      "cell_type": "code",
      "metadata": {
        "id": "UvXP2xqtlGAZ"
      },
      "source": [
        "tf.keras.backend.clear_session()"
      ],
      "execution_count": null,
      "outputs": []
    },
    {
      "cell_type": "code",
      "metadata": {
        "id": "-xUV_2gYlGAa"
      },
      "source": [
        ""
      ],
      "execution_count": null,
      "outputs": []
    },
    {
      "cell_type": "markdown",
      "metadata": {
        "id": "ISzou84aq3_I"
      },
      "source": [
        "## Training batch size 16, Evaluation batch size 64, Learning rate 5e-5, No. of Epochs 2, Weight decay 0.1, Trained on 101,077 examples, Validated on 101,077 examples, Tested on 808,618 examples, Hidden dropout prob 0.1"
      ]
    },
    {
      "cell_type": "code",
      "metadata": {
        "colab": {
          "base_uri": "https://localhost:8080/"
        },
        "id": "lbo_aMeiq3_Z",
        "outputId": "73b7eed1-551f-4e75-8b56-82f3307cfd8b"
      },
      "source": [
        "from transformers import TFBertForSequenceClassification, TFTrainer, TFTrainingArguments, BertConfig\n",
        "\n",
        "config = BertConfig.from_pretrained('bert-base-cased', hidden_dropout_prob=0.1, num_labels=2)"
      ],
      "execution_count": null,
      "outputs": [
        {
          "output_type": "stream",
          "text": [
            "loading configuration file https://huggingface.co/bert-base-cased/resolve/main/config.json from cache at /root/.cache/huggingface/transformers/a803e0468a8fe090683bdc453f4fac622804f49de86d7cecaee92365d4a0f829.0d87139f53a477d9f900f8a9020c367863079014bdaf2aa713f4b64cf1782655\n",
            "Model config BertConfig {\n",
            "  \"architectures\": [\n",
            "    \"BertForMaskedLM\"\n",
            "  ],\n",
            "  \"attention_probs_dropout_prob\": 0.1,\n",
            "  \"gradient_checkpointing\": false,\n",
            "  \"hidden_act\": \"gelu\",\n",
            "  \"hidden_dropout_prob\": 0.1,\n",
            "  \"hidden_size\": 768,\n",
            "  \"initializer_range\": 0.02,\n",
            "  \"intermediate_size\": 3072,\n",
            "  \"layer_norm_eps\": 1e-12,\n",
            "  \"max_position_embeddings\": 512,\n",
            "  \"model_type\": \"bert\",\n",
            "  \"num_attention_heads\": 12,\n",
            "  \"num_hidden_layers\": 12,\n",
            "  \"pad_token_id\": 0,\n",
            "  \"position_embedding_type\": \"absolute\",\n",
            "  \"transformers_version\": \"4.5.0\",\n",
            "  \"type_vocab_size\": 2,\n",
            "  \"use_cache\": true,\n",
            "  \"vocab_size\": 28996\n",
            "}\n",
            "\n"
          ],
          "name": "stderr"
        }
      ]
    },
    {
      "cell_type": "markdown",
      "metadata": {
        "id": "DHlTHQ2zq3_a"
      },
      "source": [
        "Build TFTrainer"
      ]
    },
    {
      "cell_type": "code",
      "metadata": {
        "colab": {
          "base_uri": "https://localhost:8080/"
        },
        "id": "HxeKsTcOq3_b",
        "outputId": "4f8c0793-cfe3-48b0-ec89-3f8da0666409"
      },
      "source": [
        "training_args = TFTrainingArguments(\n",
        "    output_dir='./results',          # output directory\n",
        "    do_train=True,\n",
        "    do_eval=True,\n",
        "    evaluation_strategy = \"epoch\",\n",
        "    num_train_epochs=2,              # total number of training epochs\n",
        "    per_device_train_batch_size=16,  # batch size per device during training\n",
        "    per_device_eval_batch_size=64,   # batch size for evaluation\n",
        "    learning_rate=5e-5,              # learning rate\n",
        "    warmup_steps=500,                # number of warmup steps for learning rate scheduler\n",
        "    weight_decay=0.1,               # strength of weight decay\n",
        ")\n",
        "\n",
        "with training_args.strategy.scope():\n",
        "    # Load TFBertForSequenceClassification, the pretrained BERT model with a single \n",
        "    # linear classification layer on top. \n",
        "    model = TFBertForSequenceClassification.from_pretrained(\n",
        "        \"bert-base-cased\", # Use the 12-layer BERT model, with cased vocab.\n",
        "        config = config,   \n",
        "    )\n",
        "\n",
        "trainer = TFTrainer(\n",
        "    model=model,                         # the instantiated 🤗 Transformers model to be trained\n",
        "    args=training_args,                  # training arguments, defined above\n",
        "    train_dataset=train_dataset,         # training dataset\n",
        "    eval_dataset=val_dataset,            # evaluation dataset\n",
        "    compute_metrics=compute_metrics     # function that computes metrics \n",
        ")"
      ],
      "execution_count": null,
      "outputs": [
        {
          "output_type": "stream",
          "text": [
            "PyTorch: setting up devices\n",
            "The default value for the training argument `--report_to` will change in v5 (from all installed integrations to none). In v5, you will need to use `--report_to all` to get the same behavior as now. You should start updating your code and make this info disappear :-).\n",
            "Tensorflow: setting up strategy\n",
            "loading weights file https://huggingface.co/bert-base-cased/resolve/main/tf_model.h5 from cache at /root/.cache/huggingface/transformers/01800f4158e284e2447020e0124bc3f6aea3ac49848e744594f7cce8ee5ac0a4.a7137b2090d9302d722735af604b4c142ec9d1bfc31be7cbbe230aea9d5cfb76.h5\n",
            "All model checkpoint layers were used when initializing TFBertForSequenceClassification.\n",
            "\n",
            "Some layers of TFBertForSequenceClassification were not initialized from the model checkpoint at bert-base-cased and are newly initialized: ['classifier']\n",
            "You should probably TRAIN this model on a down-stream task to be able to use it for predictions and inference.\n",
            "You are instantiating a Trainer but W&B is not installed. To use wandb logging, run `pip install wandb; wandb login` see https://docs.wandb.com/huggingface.\n",
            "To use comet_ml logging, run `pip/conda install comet_ml` see https://www.comet.ml/docs/python-sdk/huggingface/\n"
          ],
          "name": "stderr"
        }
      ]
    },
    {
      "cell_type": "markdown",
      "metadata": {
        "id": "jEU_thVOq3_b"
      },
      "source": [
        "Train and Validate"
      ]
    },
    {
      "cell_type": "code",
      "metadata": {
        "id": "zh2nD9K_q3_c"
      },
      "source": [
        "import transformers\n",
        "\n",
        "transformers.logging.set_verbosity_info()"
      ],
      "execution_count": null,
      "outputs": []
    },
    {
      "cell_type": "code",
      "metadata": {
        "colab": {
          "base_uri": "https://localhost:8080/"
        },
        "id": "gtwspumVq3_c",
        "outputId": "321ae30d-c4f1-45fd-852c-d31f745940a4"
      },
      "source": [
        "trainer.train()"
      ],
      "execution_count": null,
      "outputs": [
        {
          "output_type": "stream",
          "text": [
            "Checkpoint file ./results/checkpoint/ckpt-25 found and restoring from checkpoint\n",
            "  Continuing training from checkpoint, will skip to saved global_step\n",
            "  Continuing training from epoch 1\n",
            "  Continuing training from global step 12500\n",
            "  Will skip the first 6182 steps in the first epoch\n",
            "***** Running training *****\n",
            "  Num examples = 101077\n",
            "  Num Epochs = 2.0\n",
            "  Instantaneous batch size per device = 16\n",
            "  Total train batch size (w. parallel, distributed & accumulation) = 16\n",
            "  Gradient Accumulation steps = 1\n",
            "  Steps per epoch = 6318\n",
            "  Total optimization steps = 12636\n"
          ],
          "name": "stderr"
        },
        {
          "output_type": "stream",
          "text": [
            "WARNING:tensorflow:The parameters `output_attentions`, `output_hidden_states` and `use_cache` cannot be updated when calling a model.They have to be set to True/False in the config object (i.e.: `config=XConfig.from_pretrained('name', output_attentions=True)`).\n",
            "WARNING:tensorflow:The parameter `return_dict` cannot be set in graph mode and will always be set to `True`.\n",
            "WARNING:tensorflow:The parameters `output_attentions`, `output_hidden_states` and `use_cache` cannot be updated when calling a model.They have to be set to True/False in the config object (i.e.: `config=XConfig.from_pretrained('name', output_attentions=True)`).\n",
            "WARNING:tensorflow:The parameter `return_dict` cannot be set in graph mode and will always be set to `True`.\n"
          ],
          "name": "stdout"
        },
        {
          "output_type": "stream",
          "text": [
            "Training took: 0:00:34.263115\n"
          ],
          "name": "stderr"
        }
      ]
    },
    {
      "cell_type": "markdown",
      "metadata": {
        "id": "4M5J_EgIq3_c"
      },
      "source": [
        "Evaluate on test set"
      ]
    },
    {
      "cell_type": "code",
      "metadata": {
        "colab": {
          "base_uri": "https://localhost:8080/"
        },
        "id": "BjX-QZlzq3_d",
        "outputId": "0dd7fa96-949d-4007-8d7a-2071103521fc"
      },
      "source": [
        "trainer.evaluate(test_dataset)"
      ],
      "execution_count": null,
      "outputs": [
        {
          "output_type": "stream",
          "text": [
            "***** Running Evaluation *****\n",
            "  Num examples in dataset = 808618\n",
            "  Num examples in used in evaluation = 808640\n",
            "  Batch size = 64\n"
          ],
          "name": "stderr"
        },
        {
          "output_type": "stream",
          "text": [
            "WARNING:tensorflow:The parameters `output_attentions`, `output_hidden_states` and `use_cache` cannot be updated when calling a model.They have to be set to True/False in the config object (i.e.: `config=XConfig.from_pretrained('name', output_attentions=True)`).\n",
            "WARNING:tensorflow:The parameter `return_dict` cannot be set in graph mode and will always be set to `True`.\n"
          ],
          "name": "stdout"
        },
        {
          "output_type": "stream",
          "text": [
            "{'eval_loss': 0.5358893868099525, 'eval_accuracy': 0.7389295607439652, 'epoch': 2.0, 'step': 12636}\n"
          ],
          "name": "stderr"
        },
        {
          "output_type": "execute_result",
          "data": {
            "text/plain": [
              "{'eval_accuracy': 0.7389295607439652, 'eval_loss': 0.5358893868099525}"
            ]
          },
          "metadata": {
            "tags": []
          },
          "execution_count": 40
        }
      ]
    },
    {
      "cell_type": "markdown",
      "metadata": {
        "id": "brH_wWC1q3_d"
      },
      "source": [
        "Clear session"
      ]
    },
    {
      "cell_type": "code",
      "metadata": {
        "id": "ojwTT05eq3_e"
      },
      "source": [
        "tf.keras.backend.clear_session()"
      ],
      "execution_count": null,
      "outputs": []
    },
    {
      "cell_type": "code",
      "metadata": {
        "id": "yWO_amYqq3_e"
      },
      "source": [
        ""
      ],
      "execution_count": null,
      "outputs": []
    },
    {
      "cell_type": "markdown",
      "metadata": {
        "id": "Fpmgb66t2fwe"
      },
      "source": [
        "## Training batch size 16, Evaluation batch size 64, Learning rate 4e-5, No. of Epochs 2, Weight decay 0.1, Trained on 101,077 examples, Validated on 101,077 examples, Tested on 808,618 examples, Hidden dropout prob 0.1"
      ]
    },
    {
      "cell_type": "code",
      "metadata": {
        "colab": {
          "base_uri": "https://localhost:8080/"
        },
        "id": "3NVZRkWX2fwk",
        "outputId": "25a14bec-0055-42df-cb77-95be31a9b185"
      },
      "source": [
        "from transformers import TFBertForSequenceClassification, TFTrainer, TFTrainingArguments, BertConfig\n",
        "\n",
        "config = BertConfig.from_pretrained('bert-base-cased', hidden_dropout_prob=0.1, num_labels=2)"
      ],
      "execution_count": null,
      "outputs": [
        {
          "output_type": "stream",
          "text": [
            "loading configuration file https://huggingface.co/bert-base-cased/resolve/main/config.json from cache at /root/.cache/huggingface/transformers/a803e0468a8fe090683bdc453f4fac622804f49de86d7cecaee92365d4a0f829.0d87139f53a477d9f900f8a9020c367863079014bdaf2aa713f4b64cf1782655\n",
            "Model config BertConfig {\n",
            "  \"architectures\": [\n",
            "    \"BertForMaskedLM\"\n",
            "  ],\n",
            "  \"attention_probs_dropout_prob\": 0.1,\n",
            "  \"gradient_checkpointing\": false,\n",
            "  \"hidden_act\": \"gelu\",\n",
            "  \"hidden_dropout_prob\": 0.1,\n",
            "  \"hidden_size\": 768,\n",
            "  \"initializer_range\": 0.02,\n",
            "  \"intermediate_size\": 3072,\n",
            "  \"layer_norm_eps\": 1e-12,\n",
            "  \"max_position_embeddings\": 512,\n",
            "  \"model_type\": \"bert\",\n",
            "  \"num_attention_heads\": 12,\n",
            "  \"num_hidden_layers\": 12,\n",
            "  \"pad_token_id\": 0,\n",
            "  \"position_embedding_type\": \"absolute\",\n",
            "  \"transformers_version\": \"4.5.0\",\n",
            "  \"type_vocab_size\": 2,\n",
            "  \"use_cache\": true,\n",
            "  \"vocab_size\": 28996\n",
            "}\n",
            "\n"
          ],
          "name": "stderr"
        }
      ]
    },
    {
      "cell_type": "markdown",
      "metadata": {
        "id": "jAZszV6Q2fwm"
      },
      "source": [
        "Build TFTrainer"
      ]
    },
    {
      "cell_type": "code",
      "metadata": {
        "colab": {
          "base_uri": "https://localhost:8080/"
        },
        "id": "sbqRj0Fi2fwm",
        "outputId": "13adb01a-d062-44a6-8d3f-8ee18caad8e9"
      },
      "source": [
        "training_args = TFTrainingArguments(\n",
        "    output_dir='./results',          # output directory\n",
        "    do_train=True,\n",
        "    do_eval=True,\n",
        "    evaluation_strategy = \"epoch\",\n",
        "    num_train_epochs=2,              # total number of training epochs\n",
        "    per_device_train_batch_size=16,  # batch size per device during training\n",
        "    per_device_eval_batch_size=64,   # batch size for evaluation\n",
        "    learning_rate=4e-5,              # learning rate\n",
        "    warmup_steps=500,                # number of warmup steps for learning rate scheduler\n",
        "    weight_decay=0.1,               # strength of weight decay\n",
        ")\n",
        "\n",
        "with training_args.strategy.scope():\n",
        "    # Load TFBertForSequenceClassification, the pretrained BERT model with a single \n",
        "    # linear classification layer on top. \n",
        "    model = TFBertForSequenceClassification.from_pretrained(\n",
        "        \"bert-base-cased\", # Use the 12-layer BERT model, with cased vocab.\n",
        "        config = config,   \n",
        "    )\n",
        "\n",
        "trainer = TFTrainer(\n",
        "    model=model,                         # the instantiated 🤗 Transformers model to be trained\n",
        "    args=training_args,                  # training arguments, defined above\n",
        "    train_dataset=train_dataset,         # training dataset\n",
        "    eval_dataset=val_dataset,            # evaluation dataset\n",
        "    compute_metrics=compute_metrics     # function that computes metrics \n",
        ")"
      ],
      "execution_count": null,
      "outputs": [
        {
          "output_type": "stream",
          "text": [
            "PyTorch: setting up devices\n",
            "The default value for the training argument `--report_to` will change in v5 (from all installed integrations to none). In v5, you will need to use `--report_to all` to get the same behavior as now. You should start updating your code and make this info disappear :-).\n",
            "Tensorflow: setting up strategy\n",
            "loading weights file https://huggingface.co/bert-base-cased/resolve/main/tf_model.h5 from cache at /root/.cache/huggingface/transformers/01800f4158e284e2447020e0124bc3f6aea3ac49848e744594f7cce8ee5ac0a4.a7137b2090d9302d722735af604b4c142ec9d1bfc31be7cbbe230aea9d5cfb76.h5\n",
            "All model checkpoint layers were used when initializing TFBertForSequenceClassification.\n",
            "\n",
            "Some layers of TFBertForSequenceClassification were not initialized from the model checkpoint at bert-base-cased and are newly initialized: ['classifier']\n",
            "You should probably TRAIN this model on a down-stream task to be able to use it for predictions and inference.\n",
            "You are instantiating a Trainer but W&B is not installed. To use wandb logging, run `pip install wandb; wandb login` see https://docs.wandb.com/huggingface.\n",
            "To use comet_ml logging, run `pip/conda install comet_ml` see https://www.comet.ml/docs/python-sdk/huggingface/\n"
          ],
          "name": "stderr"
        }
      ]
    },
    {
      "cell_type": "markdown",
      "metadata": {
        "id": "x2gkIknX2fwn"
      },
      "source": [
        "Train and Validate"
      ]
    },
    {
      "cell_type": "code",
      "metadata": {
        "id": "KNcsZIZT2fwn"
      },
      "source": [
        "import transformers\n",
        "\n",
        "transformers.logging.set_verbosity_info()"
      ],
      "execution_count": null,
      "outputs": []
    },
    {
      "cell_type": "code",
      "metadata": {
        "colab": {
          "base_uri": "https://localhost:8080/"
        },
        "id": "XPPN5Xm52fwo",
        "outputId": "bda5a8b7-9a5b-4c21-c28b-c3bb95979d2a"
      },
      "source": [
        "trainer.train()"
      ],
      "execution_count": null,
      "outputs": [
        {
          "output_type": "stream",
          "text": [
            "Checkpoint file ./results/checkpoint/ckpt-25 found and restoring from checkpoint\n",
            "  Continuing training from checkpoint, will skip to saved global_step\n",
            "  Continuing training from epoch 1\n",
            "  Continuing training from global step 12500\n",
            "  Will skip the first 6182 steps in the first epoch\n",
            "***** Running training *****\n",
            "  Num examples = 101077\n",
            "  Num Epochs = 2.0\n",
            "  Instantaneous batch size per device = 16\n",
            "  Total train batch size (w. parallel, distributed & accumulation) = 16\n",
            "  Gradient Accumulation steps = 1\n",
            "  Steps per epoch = 6318\n",
            "  Total optimization steps = 12636\n"
          ],
          "name": "stderr"
        },
        {
          "output_type": "stream",
          "text": [
            "WARNING:tensorflow:The parameters `output_attentions`, `output_hidden_states` and `use_cache` cannot be updated when calling a model.They have to be set to True/False in the config object (i.e.: `config=XConfig.from_pretrained('name', output_attentions=True)`).\n",
            "WARNING:tensorflow:The parameter `return_dict` cannot be set in graph mode and will always be set to `True`.\n",
            "WARNING:tensorflow:The parameters `output_attentions`, `output_hidden_states` and `use_cache` cannot be updated when calling a model.They have to be set to True/False in the config object (i.e.: `config=XConfig.from_pretrained('name', output_attentions=True)`).\n",
            "WARNING:tensorflow:The parameter `return_dict` cannot be set in graph mode and will always be set to `True`.\n"
          ],
          "name": "stdout"
        },
        {
          "output_type": "stream",
          "text": [
            "Training took: 0:00:34.025350\n"
          ],
          "name": "stderr"
        }
      ]
    },
    {
      "cell_type": "markdown",
      "metadata": {
        "id": "T1N1KlK52fwo"
      },
      "source": [
        "Evaluate on test set"
      ]
    },
    {
      "cell_type": "code",
      "metadata": {
        "colab": {
          "base_uri": "https://localhost:8080/"
        },
        "id": "nQWDDx452fwp",
        "outputId": "e5ab0997-af6d-4e83-b88b-cb6ab766e6e5"
      },
      "source": [
        "trainer.evaluate(test_dataset)"
      ],
      "execution_count": null,
      "outputs": [
        {
          "output_type": "stream",
          "text": [
            "***** Running Evaluation *****\n",
            "  Num examples in dataset = 808618\n",
            "  Num examples in used in evaluation = 808640\n",
            "  Batch size = 64\n"
          ],
          "name": "stderr"
        },
        {
          "output_type": "stream",
          "text": [
            "WARNING:tensorflow:The parameters `output_attentions`, `output_hidden_states` and `use_cache` cannot be updated when calling a model.They have to be set to True/False in the config object (i.e.: `config=XConfig.from_pretrained('name', output_attentions=True)`).\n",
            "WARNING:tensorflow:The parameter `return_dict` cannot be set in graph mode and will always be set to `True`.\n"
          ],
          "name": "stdout"
        },
        {
          "output_type": "stream",
          "text": [
            "{'eval_loss': 0.5347286029629996, 'eval_accuracy': 0.7390519885239414, 'epoch': 2.0, 'step': 12636}\n"
          ],
          "name": "stderr"
        },
        {
          "output_type": "execute_result",
          "data": {
            "text/plain": [
              "{'eval_accuracy': 0.7390519885239414, 'eval_loss': 0.5347286029629996}"
            ]
          },
          "metadata": {
            "tags": []
          },
          "execution_count": 46
        }
      ]
    },
    {
      "cell_type": "markdown",
      "metadata": {
        "id": "I99zUsB02fwp"
      },
      "source": [
        "Clear session"
      ]
    },
    {
      "cell_type": "code",
      "metadata": {
        "id": "qEZn2rYl2fwq"
      },
      "source": [
        "tf.keras.backend.clear_session()"
      ],
      "execution_count": null,
      "outputs": []
    },
    {
      "cell_type": "code",
      "metadata": {
        "id": "bQdaJcB_2fwq"
      },
      "source": [
        ""
      ],
      "execution_count": null,
      "outputs": []
    },
    {
      "cell_type": "markdown",
      "metadata": {
        "id": "TH1tfLEC7-CC"
      },
      "source": [
        "## Training batch size 16, Evaluation batch size 64, Learning rate 4e-5, No. of Epochs 2, Weight decay 0.01, Trained on 101,077 examples, Validated on 101,077 examples, Tested on 808,618 examples, Hidden dropout prob 0.1"
      ]
    },
    {
      "cell_type": "code",
      "metadata": {
        "colab": {
          "base_uri": "https://localhost:8080/"
        },
        "id": "FkmLj4Vt7-CR",
        "outputId": "9598bbc3-85f5-41fe-d3de-779df39d1a7b"
      },
      "source": [
        "from transformers import TFBertForSequenceClassification, TFTrainer, TFTrainingArguments, BertConfig\n",
        "\n",
        "config = BertConfig.from_pretrained('bert-base-cased', hidden_dropout_prob=0.1, num_labels=2)"
      ],
      "execution_count": null,
      "outputs": [
        {
          "output_type": "stream",
          "text": [
            "loading configuration file https://huggingface.co/bert-base-cased/resolve/main/config.json from cache at /root/.cache/huggingface/transformers/a803e0468a8fe090683bdc453f4fac622804f49de86d7cecaee92365d4a0f829.0d87139f53a477d9f900f8a9020c367863079014bdaf2aa713f4b64cf1782655\n",
            "Model config BertConfig {\n",
            "  \"architectures\": [\n",
            "    \"BertForMaskedLM\"\n",
            "  ],\n",
            "  \"attention_probs_dropout_prob\": 0.1,\n",
            "  \"gradient_checkpointing\": false,\n",
            "  \"hidden_act\": \"gelu\",\n",
            "  \"hidden_dropout_prob\": 0.1,\n",
            "  \"hidden_size\": 768,\n",
            "  \"initializer_range\": 0.02,\n",
            "  \"intermediate_size\": 3072,\n",
            "  \"layer_norm_eps\": 1e-12,\n",
            "  \"max_position_embeddings\": 512,\n",
            "  \"model_type\": \"bert\",\n",
            "  \"num_attention_heads\": 12,\n",
            "  \"num_hidden_layers\": 12,\n",
            "  \"pad_token_id\": 0,\n",
            "  \"position_embedding_type\": \"absolute\",\n",
            "  \"transformers_version\": \"4.5.0\",\n",
            "  \"type_vocab_size\": 2,\n",
            "  \"use_cache\": true,\n",
            "  \"vocab_size\": 28996\n",
            "}\n",
            "\n"
          ],
          "name": "stderr"
        }
      ]
    },
    {
      "cell_type": "markdown",
      "metadata": {
        "id": "pN1fMtwc7-CS"
      },
      "source": [
        "Build TFTrainer"
      ]
    },
    {
      "cell_type": "code",
      "metadata": {
        "colab": {
          "base_uri": "https://localhost:8080/"
        },
        "id": "vMHTVVCw7-CT",
        "outputId": "d3c4bcae-7273-43c4-9d06-d0f0a7ba2194"
      },
      "source": [
        "training_args = TFTrainingArguments(\n",
        "    output_dir='./results',          # output directory\n",
        "    do_train=True,\n",
        "    do_eval=True,\n",
        "    evaluation_strategy = \"epoch\",\n",
        "    num_train_epochs=2,              # total number of training epochs\n",
        "    per_device_train_batch_size=16,  # batch size per device during training\n",
        "    per_device_eval_batch_size=64,   # batch size for evaluation\n",
        "    learning_rate=4e-5,              # learning rate\n",
        "    warmup_steps=500,                # number of warmup steps for learning rate scheduler\n",
        "    weight_decay=0.01,               # strength of weight decay\n",
        ")\n",
        "\n",
        "with training_args.strategy.scope():\n",
        "    # Load TFBertForSequenceClassification, the pretrained BERT model with a single \n",
        "    # linear classification layer on top. \n",
        "    model = TFBertForSequenceClassification.from_pretrained(\n",
        "        \"bert-base-cased\", # Use the 12-layer BERT model, with cased vocab.\n",
        "        config = config,   \n",
        "    )\n",
        "\n",
        "trainer = TFTrainer(\n",
        "    model=model,                         # the instantiated 🤗 Transformers model to be trained\n",
        "    args=training_args,                  # training arguments, defined above\n",
        "    train_dataset=train_dataset,         # training dataset\n",
        "    eval_dataset=val_dataset,            # evaluation dataset\n",
        "    compute_metrics=compute_metrics     # function that computes metrics \n",
        ")"
      ],
      "execution_count": null,
      "outputs": [
        {
          "output_type": "stream",
          "text": [
            "PyTorch: setting up devices\n",
            "The default value for the training argument `--report_to` will change in v5 (from all installed integrations to none). In v5, you will need to use `--report_to all` to get the same behavior as now. You should start updating your code and make this info disappear :-).\n",
            "Tensorflow: setting up strategy\n",
            "loading weights file https://huggingface.co/bert-base-cased/resolve/main/tf_model.h5 from cache at /root/.cache/huggingface/transformers/01800f4158e284e2447020e0124bc3f6aea3ac49848e744594f7cce8ee5ac0a4.a7137b2090d9302d722735af604b4c142ec9d1bfc31be7cbbe230aea9d5cfb76.h5\n",
            "All model checkpoint layers were used when initializing TFBertForSequenceClassification.\n",
            "\n",
            "Some layers of TFBertForSequenceClassification were not initialized from the model checkpoint at bert-base-cased and are newly initialized: ['classifier']\n",
            "You should probably TRAIN this model on a down-stream task to be able to use it for predictions and inference.\n",
            "You are instantiating a Trainer but W&B is not installed. To use wandb logging, run `pip install wandb; wandb login` see https://docs.wandb.com/huggingface.\n",
            "To use comet_ml logging, run `pip/conda install comet_ml` see https://www.comet.ml/docs/python-sdk/huggingface/\n"
          ],
          "name": "stderr"
        }
      ]
    },
    {
      "cell_type": "markdown",
      "metadata": {
        "id": "_XsHpoix7-CT"
      },
      "source": [
        "Train and Validate"
      ]
    },
    {
      "cell_type": "code",
      "metadata": {
        "id": "Q9hxK3Cn7-CT"
      },
      "source": [
        "import transformers\n",
        "\n",
        "transformers.logging.set_verbosity_info()"
      ],
      "execution_count": null,
      "outputs": []
    },
    {
      "cell_type": "code",
      "metadata": {
        "colab": {
          "base_uri": "https://localhost:8080/"
        },
        "id": "AOzEQzII7-CU",
        "outputId": "860db9e1-d107-42d3-a347-e1f3b8e17733"
      },
      "source": [
        "trainer.train()"
      ],
      "execution_count": null,
      "outputs": [
        {
          "output_type": "stream",
          "text": [
            "Checkpoint file ./results/checkpoint/ckpt-25 found and restoring from checkpoint\n",
            "  Continuing training from checkpoint, will skip to saved global_step\n",
            "  Continuing training from epoch 1\n",
            "  Continuing training from global step 12500\n",
            "  Will skip the first 6182 steps in the first epoch\n",
            "***** Running training *****\n",
            "  Num examples = 101077\n",
            "  Num Epochs = 2.0\n",
            "  Instantaneous batch size per device = 16\n",
            "  Total train batch size (w. parallel, distributed & accumulation) = 16\n",
            "  Gradient Accumulation steps = 1\n",
            "  Steps per epoch = 6318\n",
            "  Total optimization steps = 12636\n"
          ],
          "name": "stderr"
        },
        {
          "output_type": "stream",
          "text": [
            "WARNING:tensorflow:The parameters `output_attentions`, `output_hidden_states` and `use_cache` cannot be updated when calling a model.They have to be set to True/False in the config object (i.e.: `config=XConfig.from_pretrained('name', output_attentions=True)`).\n",
            "WARNING:tensorflow:The parameter `return_dict` cannot be set in graph mode and will always be set to `True`.\n",
            "WARNING:tensorflow:The parameters `output_attentions`, `output_hidden_states` and `use_cache` cannot be updated when calling a model.They have to be set to True/False in the config object (i.e.: `config=XConfig.from_pretrained('name', output_attentions=True)`).\n",
            "WARNING:tensorflow:The parameter `return_dict` cannot be set in graph mode and will always be set to `True`.\n"
          ],
          "name": "stdout"
        },
        {
          "output_type": "stream",
          "text": [
            "Training took: 0:00:34.002302\n"
          ],
          "name": "stderr"
        }
      ]
    },
    {
      "cell_type": "markdown",
      "metadata": {
        "id": "msK7nftc7-CW"
      },
      "source": [
        "Evaluate on test set"
      ]
    },
    {
      "cell_type": "code",
      "metadata": {
        "colab": {
          "base_uri": "https://localhost:8080/"
        },
        "id": "Syu5lm5U7-CW",
        "outputId": "e4cc6807-8cf1-4d31-b74a-34f4404b25af"
      },
      "source": [
        "trainer.evaluate(test_dataset)"
      ],
      "execution_count": null,
      "outputs": [
        {
          "output_type": "stream",
          "text": [
            "***** Running Evaluation *****\n",
            "  Num examples in dataset = 808618\n",
            "  Num examples in used in evaluation = 808640\n",
            "  Batch size = 64\n"
          ],
          "name": "stderr"
        },
        {
          "output_type": "stream",
          "text": [
            "WARNING:tensorflow:The parameters `output_attentions`, `output_hidden_states` and `use_cache` cannot be updated when calling a model.They have to be set to True/False in the config object (i.e.: `config=XConfig.from_pretrained('name', output_attentions=True)`).\n",
            "WARNING:tensorflow:The parameter `return_dict` cannot be set in graph mode and will always be set to `True`.\n"
          ],
          "name": "stdout"
        },
        {
          "output_type": "stream",
          "text": [
            "{'eval_loss': 0.5341978893574396, 'eval_accuracy': 0.7390433320142461, 'epoch': 2.0, 'step': 12636}\n"
          ],
          "name": "stderr"
        },
        {
          "output_type": "execute_result",
          "data": {
            "text/plain": [
              "{'eval_accuracy': 0.7390433320142461, 'eval_loss': 0.5341978893574396}"
            ]
          },
          "metadata": {
            "tags": []
          },
          "execution_count": 52
        }
      ]
    },
    {
      "cell_type": "markdown",
      "metadata": {
        "id": "pzFh9cRx7-CX"
      },
      "source": [
        "Clear session"
      ]
    },
    {
      "cell_type": "code",
      "metadata": {
        "id": "N2Jg_umR7-CX"
      },
      "source": [
        "tf.keras.backend.clear_session()"
      ],
      "execution_count": null,
      "outputs": []
    },
    {
      "cell_type": "code",
      "metadata": {
        "id": "hhxa0GsY7-CX"
      },
      "source": [
        ""
      ],
      "execution_count": null,
      "outputs": []
    }
  ]
}